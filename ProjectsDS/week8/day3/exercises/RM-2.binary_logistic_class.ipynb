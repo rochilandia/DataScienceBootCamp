{
 "metadata": {
  "language_info": {
   "codemirror_mode": {
    "name": "ipython",
    "version": 3
   },
   "file_extension": ".py",
   "mimetype": "text/x-python",
   "name": "python",
   "nbconvert_exporter": "python",
   "pygments_lexer": "ipython3",
   "version": "3.8.3-final"
  },
  "orig_nbformat": 2,
  "kernelspec": {
   "name": "python_defaultSpec_1599549829955",
   "display_name": "Python 3.8.3 64-bit"
  }
 },
 "nbformat": 4,
 "nbformat_minor": 2,
 "cells": [
  {
   "cell_type": "markdown",
   "metadata": {},
   "source": [
    "1. \n",
    "\n",
    "En el archivo \"logistic_regression_df_class\" hemos visto un ejemplo multiclase. Elimina del dataframe todas las filas que se correspondan con la clase valor \"1\".\n",
    "\n",
    "Ahora, realiza el ejercicio con el nuevo dataframe:\n",
    "\n",
    "- ¿Se mejora la precisión del algoritmo con dos clases? ¿por qué?\n",
    "\n",
    "LogisticRegression() es una clase que tiene varios parámetros de entrada. Investiga (toca, modifica, prueba) las variables y comenta si hay alguna de ellas que, modificándola, mejore el porcentaje de acierto del problema.\n",
    "\n",
    "https://scikit-learn.org/stable/modules/generated/sklearn.linear_model.LogisticRegression.html\n"
   ]
  },
  {
   "cell_type": "code",
   "execution_count": 1,
   "metadata": {},
   "outputs": [],
   "source": [
    "import pandas as pd\n",
    "import numpy as np\n",
    "from sklearn import linear_model\n",
    "from sklearn import model_selection\n",
    "from sklearn.metrics import classification_report\n",
    "from sklearn.metrics import confusion_matrix\n",
    "from sklearn.metrics import accuracy_score\n",
    "import matplotlib.pyplot as plt\n",
    "import seaborn as sb\n",
    "%matplotlib inline"
   ]
  },
  {
   "cell_type": "code",
   "execution_count": 71,
   "metadata": {},
   "outputs": [
    {
     "output_type": "execute_result",
     "data": {
      "text/plain": "   duracion  paginas  acciones  valor  clase\n0       7.0        2         4      8      2\n1      21.0        2         6      6      2\n2      57.0        2         4      4      2\n3     101.0        3         6     12      2\n4     109.0        2         6     12      2",
      "text/html": "<div>\n<style scoped>\n    .dataframe tbody tr th:only-of-type {\n        vertical-align: middle;\n    }\n\n    .dataframe tbody tr th {\n        vertical-align: top;\n    }\n\n    .dataframe thead th {\n        text-align: right;\n    }\n</style>\n<table border=\"1\" class=\"dataframe\">\n  <thead>\n    <tr style=\"text-align: right;\">\n      <th></th>\n      <th>duracion</th>\n      <th>paginas</th>\n      <th>acciones</th>\n      <th>valor</th>\n      <th>clase</th>\n    </tr>\n  </thead>\n  <tbody>\n    <tr>\n      <th>0</th>\n      <td>7.0</td>\n      <td>2</td>\n      <td>4</td>\n      <td>8</td>\n      <td>2</td>\n    </tr>\n    <tr>\n      <th>1</th>\n      <td>21.0</td>\n      <td>2</td>\n      <td>6</td>\n      <td>6</td>\n      <td>2</td>\n    </tr>\n    <tr>\n      <th>2</th>\n      <td>57.0</td>\n      <td>2</td>\n      <td>4</td>\n      <td>4</td>\n      <td>2</td>\n    </tr>\n    <tr>\n      <th>3</th>\n      <td>101.0</td>\n      <td>3</td>\n      <td>6</td>\n      <td>12</td>\n      <td>2</td>\n    </tr>\n    <tr>\n      <th>4</th>\n      <td>109.0</td>\n      <td>2</td>\n      <td>6</td>\n      <td>12</td>\n      <td>2</td>\n    </tr>\n  </tbody>\n</table>\n</div>"
     },
     "metadata": {},
     "execution_count": 71
    }
   ],
   "source": [
    "dataframe = pd.read_csv(\"../data/usuarios_win_mac_lin.csv\")\n",
    "dataframe.head()"
   ]
  },
  {
   "cell_type": "code",
   "execution_count": 72,
   "metadata": {},
   "outputs": [
    {
     "output_type": "execute_result",
     "data": {
      "text/plain": "         duracion     paginas    acciones       valor       clase\ncount  170.000000  170.000000  170.000000  170.000000  170.000000\nmean   111.075729    2.041176    8.723529   32.676471    0.752941\nstd    202.453200    1.500911    9.136054   44.751993    0.841327\nmin      1.000000    1.000000    1.000000    1.000000    0.000000\n25%     11.000000    1.000000    3.000000    8.000000    0.000000\n50%     13.000000    2.000000    6.000000   20.000000    0.000000\n75%    108.000000    2.000000   10.000000   36.000000    2.000000\nmax    898.000000    9.000000   63.000000  378.000000    2.000000",
      "text/html": "<div>\n<style scoped>\n    .dataframe tbody tr th:only-of-type {\n        vertical-align: middle;\n    }\n\n    .dataframe tbody tr th {\n        vertical-align: top;\n    }\n\n    .dataframe thead th {\n        text-align: right;\n    }\n</style>\n<table border=\"1\" class=\"dataframe\">\n  <thead>\n    <tr style=\"text-align: right;\">\n      <th></th>\n      <th>duracion</th>\n      <th>paginas</th>\n      <th>acciones</th>\n      <th>valor</th>\n      <th>clase</th>\n    </tr>\n  </thead>\n  <tbody>\n    <tr>\n      <th>count</th>\n      <td>170.000000</td>\n      <td>170.000000</td>\n      <td>170.000000</td>\n      <td>170.000000</td>\n      <td>170.000000</td>\n    </tr>\n    <tr>\n      <th>mean</th>\n      <td>111.075729</td>\n      <td>2.041176</td>\n      <td>8.723529</td>\n      <td>32.676471</td>\n      <td>0.752941</td>\n    </tr>\n    <tr>\n      <th>std</th>\n      <td>202.453200</td>\n      <td>1.500911</td>\n      <td>9.136054</td>\n      <td>44.751993</td>\n      <td>0.841327</td>\n    </tr>\n    <tr>\n      <th>min</th>\n      <td>1.000000</td>\n      <td>1.000000</td>\n      <td>1.000000</td>\n      <td>1.000000</td>\n      <td>0.000000</td>\n    </tr>\n    <tr>\n      <th>25%</th>\n      <td>11.000000</td>\n      <td>1.000000</td>\n      <td>3.000000</td>\n      <td>8.000000</td>\n      <td>0.000000</td>\n    </tr>\n    <tr>\n      <th>50%</th>\n      <td>13.000000</td>\n      <td>2.000000</td>\n      <td>6.000000</td>\n      <td>20.000000</td>\n      <td>0.000000</td>\n    </tr>\n    <tr>\n      <th>75%</th>\n      <td>108.000000</td>\n      <td>2.000000</td>\n      <td>10.000000</td>\n      <td>36.000000</td>\n      <td>2.000000</td>\n    </tr>\n    <tr>\n      <th>max</th>\n      <td>898.000000</td>\n      <td>9.000000</td>\n      <td>63.000000</td>\n      <td>378.000000</td>\n      <td>2.000000</td>\n    </tr>\n  </tbody>\n</table>\n</div>"
     },
     "metadata": {},
     "execution_count": 72
    }
   ],
   "source": [
    "dataframe.describe()"
   ]
  },
  {
   "cell_type": "code",
   "execution_count": 73,
   "metadata": {},
   "outputs": [
    {
     "output_type": "execute_result",
     "data": {
      "text/plain": "0      2\n1      2\n2      2\n3      2\n4      2\n      ..\n165    0\n166    0\n167    0\n168    0\n169    0\nName: clase, Length: 170, dtype: int64"
     },
     "metadata": {},
     "execution_count": 73
    }
   ],
   "source": [
    "# Elimina del dataframe todas las filas que se correspondan con la clase valor \"1\".\n",
    "dataframe['clase']"
   ]
  },
  {
   "cell_type": "code",
   "execution_count": 74,
   "metadata": {},
   "outputs": [
    {
     "output_type": "execute_result",
     "data": {
      "text/plain": "     duracion  paginas  acciones  valor  clase\n0         7.0        2         4      8      2\n1        21.0        2         6      6      2\n2        57.0        2         4      4      2\n3       101.0        3         6     12      2\n4       109.0        2         6     12      2\n..        ...      ...       ...    ...    ...\n165      13.0        1         7     42      0\n166      12.0        1         2      6      0\n167      13.0        1         3      9      0\n168      13.0        1         7     28      0\n169      12.0        1         6     18      0\n\n[170 rows x 5 columns]",
      "text/html": "<div>\n<style scoped>\n    .dataframe tbody tr th:only-of-type {\n        vertical-align: middle;\n    }\n\n    .dataframe tbody tr th {\n        vertical-align: top;\n    }\n\n    .dataframe thead th {\n        text-align: right;\n    }\n</style>\n<table border=\"1\" class=\"dataframe\">\n  <thead>\n    <tr style=\"text-align: right;\">\n      <th></th>\n      <th>duracion</th>\n      <th>paginas</th>\n      <th>acciones</th>\n      <th>valor</th>\n      <th>clase</th>\n    </tr>\n  </thead>\n  <tbody>\n    <tr>\n      <th>0</th>\n      <td>7.0</td>\n      <td>2</td>\n      <td>4</td>\n      <td>8</td>\n      <td>2</td>\n    </tr>\n    <tr>\n      <th>1</th>\n      <td>21.0</td>\n      <td>2</td>\n      <td>6</td>\n      <td>6</td>\n      <td>2</td>\n    </tr>\n    <tr>\n      <th>2</th>\n      <td>57.0</td>\n      <td>2</td>\n      <td>4</td>\n      <td>4</td>\n      <td>2</td>\n    </tr>\n    <tr>\n      <th>3</th>\n      <td>101.0</td>\n      <td>3</td>\n      <td>6</td>\n      <td>12</td>\n      <td>2</td>\n    </tr>\n    <tr>\n      <th>4</th>\n      <td>109.0</td>\n      <td>2</td>\n      <td>6</td>\n      <td>12</td>\n      <td>2</td>\n    </tr>\n    <tr>\n      <th>...</th>\n      <td>...</td>\n      <td>...</td>\n      <td>...</td>\n      <td>...</td>\n      <td>...</td>\n    </tr>\n    <tr>\n      <th>165</th>\n      <td>13.0</td>\n      <td>1</td>\n      <td>7</td>\n      <td>42</td>\n      <td>0</td>\n    </tr>\n    <tr>\n      <th>166</th>\n      <td>12.0</td>\n      <td>1</td>\n      <td>2</td>\n      <td>6</td>\n      <td>0</td>\n    </tr>\n    <tr>\n      <th>167</th>\n      <td>13.0</td>\n      <td>1</td>\n      <td>3</td>\n      <td>9</td>\n      <td>0</td>\n    </tr>\n    <tr>\n      <th>168</th>\n      <td>13.0</td>\n      <td>1</td>\n      <td>7</td>\n      <td>28</td>\n      <td>0</td>\n    </tr>\n    <tr>\n      <th>169</th>\n      <td>12.0</td>\n      <td>1</td>\n      <td>6</td>\n      <td>18</td>\n      <td>0</td>\n    </tr>\n  </tbody>\n</table>\n<p>170 rows × 5 columns</p>\n</div>"
     },
     "metadata": {},
     "execution_count": 74
    }
   ],
   "source": [
    "dataframe"
   ]
  },
  {
   "cell_type": "code",
   "execution_count": 75,
   "metadata": {},
   "outputs": [
    {
     "output_type": "execute_result",
     "data": {
      "text/plain": "(170, 5)"
     },
     "metadata": {},
     "execution_count": 75
    }
   ],
   "source": [
    "dataframe.shape"
   ]
  },
  {
   "cell_type": "code",
   "execution_count": 76,
   "metadata": {},
   "outputs": [
    {
     "output_type": "execute_result",
     "data": {
      "text/plain": "0    86\n2    44\n1    40\nName: clase, dtype: int64"
     },
     "metadata": {},
     "execution_count": 76
    }
   ],
   "source": [
    "dataframe.clase.value_counts()"
   ]
  },
  {
   "cell_type": "code",
   "execution_count": 77,
   "metadata": {},
   "outputs": [
    {
     "output_type": "execute_result",
     "data": {
      "text/plain": "Index(['duracion', 'paginas', 'acciones', 'valor', 'clase'], dtype='object')"
     },
     "metadata": {},
     "execution_count": 77
    }
   ],
   "source": [
    "dataframe.columns"
   ]
  },
  {
   "cell_type": "code",
   "execution_count": 102,
   "metadata": {},
   "outputs": [
    {
     "output_type": "execute_result",
     "data": {
      "text/plain": "     duracion  paginas  acciones  valor  clase\n49        1.0        2        18     36      0\n50        2.0        2        20    120      0\n51        7.0        1         7     28      0\n52       10.0        2        18     54      0\n53       12.0        2        20     40      0\n..        ...      ...       ...    ...    ...\n165      13.0        1         7     42      0\n166      12.0        1         2      6      0\n167      13.0        1         3      9      0\n168      13.0        1         7     28      0\n169      12.0        1         6     18      0\n\n[86 rows x 5 columns]",
      "text/html": "<div>\n<style scoped>\n    .dataframe tbody tr th:only-of-type {\n        vertical-align: middle;\n    }\n\n    .dataframe tbody tr th {\n        vertical-align: top;\n    }\n\n    .dataframe thead th {\n        text-align: right;\n    }\n</style>\n<table border=\"1\" class=\"dataframe\">\n  <thead>\n    <tr style=\"text-align: right;\">\n      <th></th>\n      <th>duracion</th>\n      <th>paginas</th>\n      <th>acciones</th>\n      <th>valor</th>\n      <th>clase</th>\n    </tr>\n  </thead>\n  <tbody>\n    <tr>\n      <th>49</th>\n      <td>1.0</td>\n      <td>2</td>\n      <td>18</td>\n      <td>36</td>\n      <td>0</td>\n    </tr>\n    <tr>\n      <th>50</th>\n      <td>2.0</td>\n      <td>2</td>\n      <td>20</td>\n      <td>120</td>\n      <td>0</td>\n    </tr>\n    <tr>\n      <th>51</th>\n      <td>7.0</td>\n      <td>1</td>\n      <td>7</td>\n      <td>28</td>\n      <td>0</td>\n    </tr>\n    <tr>\n      <th>52</th>\n      <td>10.0</td>\n      <td>2</td>\n      <td>18</td>\n      <td>54</td>\n      <td>0</td>\n    </tr>\n    <tr>\n      <th>53</th>\n      <td>12.0</td>\n      <td>2</td>\n      <td>20</td>\n      <td>40</td>\n      <td>0</td>\n    </tr>\n    <tr>\n      <th>...</th>\n      <td>...</td>\n      <td>...</td>\n      <td>...</td>\n      <td>...</td>\n      <td>...</td>\n    </tr>\n    <tr>\n      <th>165</th>\n      <td>13.0</td>\n      <td>1</td>\n      <td>7</td>\n      <td>42</td>\n      <td>0</td>\n    </tr>\n    <tr>\n      <th>166</th>\n      <td>12.0</td>\n      <td>1</td>\n      <td>2</td>\n      <td>6</td>\n      <td>0</td>\n    </tr>\n    <tr>\n      <th>167</th>\n      <td>13.0</td>\n      <td>1</td>\n      <td>3</td>\n      <td>9</td>\n      <td>0</td>\n    </tr>\n    <tr>\n      <th>168</th>\n      <td>13.0</td>\n      <td>1</td>\n      <td>7</td>\n      <td>28</td>\n      <td>0</td>\n    </tr>\n    <tr>\n      <th>169</th>\n      <td>12.0</td>\n      <td>1</td>\n      <td>6</td>\n      <td>18</td>\n      <td>0</td>\n    </tr>\n  </tbody>\n</table>\n<p>86 rows × 5 columns</p>\n</div>"
     },
     "metadata": {},
     "execution_count": 102
    }
   ],
   "source": [
    "cero = dataframe.loc[dataframe['clase'] == 0]\n",
    "cero"
   ]
  },
  {
   "cell_type": "code",
   "execution_count": 99,
   "metadata": {},
   "outputs": [
    {
     "output_type": "execute_result",
     "data": {
      "text/plain": "     duracion  paginas  acciones  valor  clase\n17     21.000        2         4     12      1\n18     33.000        2         8     48      1\n19     49.000        2         8     32      1\n20     74.000        2         6     18      1\n21     93.000        2        12     96      1\n22    145.000        2        10     30      1\n23    152.000        2         4     20      1\n24    208.000        2        10     30      1\n25    219.000        3         9     54      1\n26    235.000        6        12     96      1\n27    257.000        2        12     48      1\n28    266.000        2         4     12      1\n29    275.000        4        24    144      1\n30    355.000        2         4     16      1\n31    473.000        3         6     30      1\n32    485.000        2         6     30      1\n33    652.000        2         6     24      1\n34    848.000        3        18     54      1\n40     11.000        2        10     40      1\n41     31.000        2         6     30      1\n42     51.000        2         4     20      1\n43     89.000        3        18    144      1\n44    112.000        2         6     18      1\n45    278.000        2         4     28      1\n46    674.000        3        18     72      1\n47      1.088        2         8     64      1\n48      1.294        2         6     18      1\n96     13.000        1         2     16      1\n98     12.000        1         6     48      1\n99     13.000        1         4     12      1\n100    12.000        1         6     24      1\n101    12.000        1         5     35      1\n102    13.000        1         6     36      1\n103    13.000        1         5     20      1\n104    12.000        1         3     12      1\n105    13.000        1         3     18      1\n106    12.000        1         6     24      1\n107    13.000        1         6     18      1\n108    12.000        1         6     24      1\n109    11.000        1         5     40      1",
      "text/html": "<div>\n<style scoped>\n    .dataframe tbody tr th:only-of-type {\n        vertical-align: middle;\n    }\n\n    .dataframe tbody tr th {\n        vertical-align: top;\n    }\n\n    .dataframe thead th {\n        text-align: right;\n    }\n</style>\n<table border=\"1\" class=\"dataframe\">\n  <thead>\n    <tr style=\"text-align: right;\">\n      <th></th>\n      <th>duracion</th>\n      <th>paginas</th>\n      <th>acciones</th>\n      <th>valor</th>\n      <th>clase</th>\n    </tr>\n  </thead>\n  <tbody>\n    <tr>\n      <th>17</th>\n      <td>21.000</td>\n      <td>2</td>\n      <td>4</td>\n      <td>12</td>\n      <td>1</td>\n    </tr>\n    <tr>\n      <th>18</th>\n      <td>33.000</td>\n      <td>2</td>\n      <td>8</td>\n      <td>48</td>\n      <td>1</td>\n    </tr>\n    <tr>\n      <th>19</th>\n      <td>49.000</td>\n      <td>2</td>\n      <td>8</td>\n      <td>32</td>\n      <td>1</td>\n    </tr>\n    <tr>\n      <th>20</th>\n      <td>74.000</td>\n      <td>2</td>\n      <td>6</td>\n      <td>18</td>\n      <td>1</td>\n    </tr>\n    <tr>\n      <th>21</th>\n      <td>93.000</td>\n      <td>2</td>\n      <td>12</td>\n      <td>96</td>\n      <td>1</td>\n    </tr>\n    <tr>\n      <th>22</th>\n      <td>145.000</td>\n      <td>2</td>\n      <td>10</td>\n      <td>30</td>\n      <td>1</td>\n    </tr>\n    <tr>\n      <th>23</th>\n      <td>152.000</td>\n      <td>2</td>\n      <td>4</td>\n      <td>20</td>\n      <td>1</td>\n    </tr>\n    <tr>\n      <th>24</th>\n      <td>208.000</td>\n      <td>2</td>\n      <td>10</td>\n      <td>30</td>\n      <td>1</td>\n    </tr>\n    <tr>\n      <th>25</th>\n      <td>219.000</td>\n      <td>3</td>\n      <td>9</td>\n      <td>54</td>\n      <td>1</td>\n    </tr>\n    <tr>\n      <th>26</th>\n      <td>235.000</td>\n      <td>6</td>\n      <td>12</td>\n      <td>96</td>\n      <td>1</td>\n    </tr>\n    <tr>\n      <th>27</th>\n      <td>257.000</td>\n      <td>2</td>\n      <td>12</td>\n      <td>48</td>\n      <td>1</td>\n    </tr>\n    <tr>\n      <th>28</th>\n      <td>266.000</td>\n      <td>2</td>\n      <td>4</td>\n      <td>12</td>\n      <td>1</td>\n    </tr>\n    <tr>\n      <th>29</th>\n      <td>275.000</td>\n      <td>4</td>\n      <td>24</td>\n      <td>144</td>\n      <td>1</td>\n    </tr>\n    <tr>\n      <th>30</th>\n      <td>355.000</td>\n      <td>2</td>\n      <td>4</td>\n      <td>16</td>\n      <td>1</td>\n    </tr>\n    <tr>\n      <th>31</th>\n      <td>473.000</td>\n      <td>3</td>\n      <td>6</td>\n      <td>30</td>\n      <td>1</td>\n    </tr>\n    <tr>\n      <th>32</th>\n      <td>485.000</td>\n      <td>2</td>\n      <td>6</td>\n      <td>30</td>\n      <td>1</td>\n    </tr>\n    <tr>\n      <th>33</th>\n      <td>652.000</td>\n      <td>2</td>\n      <td>6</td>\n      <td>24</td>\n      <td>1</td>\n    </tr>\n    <tr>\n      <th>34</th>\n      <td>848.000</td>\n      <td>3</td>\n      <td>18</td>\n      <td>54</td>\n      <td>1</td>\n    </tr>\n    <tr>\n      <th>40</th>\n      <td>11.000</td>\n      <td>2</td>\n      <td>10</td>\n      <td>40</td>\n      <td>1</td>\n    </tr>\n    <tr>\n      <th>41</th>\n      <td>31.000</td>\n      <td>2</td>\n      <td>6</td>\n      <td>30</td>\n      <td>1</td>\n    </tr>\n    <tr>\n      <th>42</th>\n      <td>51.000</td>\n      <td>2</td>\n      <td>4</td>\n      <td>20</td>\n      <td>1</td>\n    </tr>\n    <tr>\n      <th>43</th>\n      <td>89.000</td>\n      <td>3</td>\n      <td>18</td>\n      <td>144</td>\n      <td>1</td>\n    </tr>\n    <tr>\n      <th>44</th>\n      <td>112.000</td>\n      <td>2</td>\n      <td>6</td>\n      <td>18</td>\n      <td>1</td>\n    </tr>\n    <tr>\n      <th>45</th>\n      <td>278.000</td>\n      <td>2</td>\n      <td>4</td>\n      <td>28</td>\n      <td>1</td>\n    </tr>\n    <tr>\n      <th>46</th>\n      <td>674.000</td>\n      <td>3</td>\n      <td>18</td>\n      <td>72</td>\n      <td>1</td>\n    </tr>\n    <tr>\n      <th>47</th>\n      <td>1.088</td>\n      <td>2</td>\n      <td>8</td>\n      <td>64</td>\n      <td>1</td>\n    </tr>\n    <tr>\n      <th>48</th>\n      <td>1.294</td>\n      <td>2</td>\n      <td>6</td>\n      <td>18</td>\n      <td>1</td>\n    </tr>\n    <tr>\n      <th>96</th>\n      <td>13.000</td>\n      <td>1</td>\n      <td>2</td>\n      <td>16</td>\n      <td>1</td>\n    </tr>\n    <tr>\n      <th>98</th>\n      <td>12.000</td>\n      <td>1</td>\n      <td>6</td>\n      <td>48</td>\n      <td>1</td>\n    </tr>\n    <tr>\n      <th>99</th>\n      <td>13.000</td>\n      <td>1</td>\n      <td>4</td>\n      <td>12</td>\n      <td>1</td>\n    </tr>\n    <tr>\n      <th>100</th>\n      <td>12.000</td>\n      <td>1</td>\n      <td>6</td>\n      <td>24</td>\n      <td>1</td>\n    </tr>\n    <tr>\n      <th>101</th>\n      <td>12.000</td>\n      <td>1</td>\n      <td>5</td>\n      <td>35</td>\n      <td>1</td>\n    </tr>\n    <tr>\n      <th>102</th>\n      <td>13.000</td>\n      <td>1</td>\n      <td>6</td>\n      <td>36</td>\n      <td>1</td>\n    </tr>\n    <tr>\n      <th>103</th>\n      <td>13.000</td>\n      <td>1</td>\n      <td>5</td>\n      <td>20</td>\n      <td>1</td>\n    </tr>\n    <tr>\n      <th>104</th>\n      <td>12.000</td>\n      <td>1</td>\n      <td>3</td>\n      <td>12</td>\n      <td>1</td>\n    </tr>\n    <tr>\n      <th>105</th>\n      <td>13.000</td>\n      <td>1</td>\n      <td>3</td>\n      <td>18</td>\n      <td>1</td>\n    </tr>\n    <tr>\n      <th>106</th>\n      <td>12.000</td>\n      <td>1</td>\n      <td>6</td>\n      <td>24</td>\n      <td>1</td>\n    </tr>\n    <tr>\n      <th>107</th>\n      <td>13.000</td>\n      <td>1</td>\n      <td>6</td>\n      <td>18</td>\n      <td>1</td>\n    </tr>\n    <tr>\n      <th>108</th>\n      <td>12.000</td>\n      <td>1</td>\n      <td>6</td>\n      <td>24</td>\n      <td>1</td>\n    </tr>\n    <tr>\n      <th>109</th>\n      <td>11.000</td>\n      <td>1</td>\n      <td>5</td>\n      <td>40</td>\n      <td>1</td>\n    </tr>\n  </tbody>\n</table>\n</div>"
     },
     "metadata": {},
     "execution_count": 99
    }
   ],
   "source": [
    "uno = dataframe.loc[dataframe['clase'] == 1]\n",
    "uno"
   ]
  },
  {
   "cell_type": "code",
   "execution_count": 100,
   "metadata": {},
   "outputs": [
    {
     "output_type": "execute_result",
     "data": {
      "text/plain": "(40, 5)"
     },
     "metadata": {},
     "execution_count": 100
    }
   ],
   "source": [
    "uno.shape"
   ]
  },
  {
   "cell_type": "code",
   "execution_count": 106,
   "metadata": {},
   "outputs": [],
   "source": [
    "frames = [cero, uno]"
   ]
  },
  {
   "cell_type": "code",
   "execution_count": 107,
   "metadata": {},
   "outputs": [],
   "source": [
    "result = pd.concat(frames)"
   ]
  },
  {
   "cell_type": "code",
   "execution_count": 108,
   "metadata": {},
   "outputs": [
    {
     "output_type": "execute_result",
     "data": {
      "text/plain": "     duracion  paginas  acciones  valor  clase\n49        1.0        2        18     36      0\n50        2.0        2        20    120      0\n51        7.0        1         7     28      0\n52       10.0        2        18     54      0\n53       12.0        2        20     40      0\n..        ...      ...       ...    ...    ...\n105      13.0        1         3     18      1\n106      12.0        1         6     24      1\n107      13.0        1         6     18      1\n108      12.0        1         6     24      1\n109      11.0        1         5     40      1\n\n[126 rows x 5 columns]",
      "text/html": "<div>\n<style scoped>\n    .dataframe tbody tr th:only-of-type {\n        vertical-align: middle;\n    }\n\n    .dataframe tbody tr th {\n        vertical-align: top;\n    }\n\n    .dataframe thead th {\n        text-align: right;\n    }\n</style>\n<table border=\"1\" class=\"dataframe\">\n  <thead>\n    <tr style=\"text-align: right;\">\n      <th></th>\n      <th>duracion</th>\n      <th>paginas</th>\n      <th>acciones</th>\n      <th>valor</th>\n      <th>clase</th>\n    </tr>\n  </thead>\n  <tbody>\n    <tr>\n      <th>49</th>\n      <td>1.0</td>\n      <td>2</td>\n      <td>18</td>\n      <td>36</td>\n      <td>0</td>\n    </tr>\n    <tr>\n      <th>50</th>\n      <td>2.0</td>\n      <td>2</td>\n      <td>20</td>\n      <td>120</td>\n      <td>0</td>\n    </tr>\n    <tr>\n      <th>51</th>\n      <td>7.0</td>\n      <td>1</td>\n      <td>7</td>\n      <td>28</td>\n      <td>0</td>\n    </tr>\n    <tr>\n      <th>52</th>\n      <td>10.0</td>\n      <td>2</td>\n      <td>18</td>\n      <td>54</td>\n      <td>0</td>\n    </tr>\n    <tr>\n      <th>53</th>\n      <td>12.0</td>\n      <td>2</td>\n      <td>20</td>\n      <td>40</td>\n      <td>0</td>\n    </tr>\n    <tr>\n      <th>...</th>\n      <td>...</td>\n      <td>...</td>\n      <td>...</td>\n      <td>...</td>\n      <td>...</td>\n    </tr>\n    <tr>\n      <th>105</th>\n      <td>13.0</td>\n      <td>1</td>\n      <td>3</td>\n      <td>18</td>\n      <td>1</td>\n    </tr>\n    <tr>\n      <th>106</th>\n      <td>12.0</td>\n      <td>1</td>\n      <td>6</td>\n      <td>24</td>\n      <td>1</td>\n    </tr>\n    <tr>\n      <th>107</th>\n      <td>13.0</td>\n      <td>1</td>\n      <td>6</td>\n      <td>18</td>\n      <td>1</td>\n    </tr>\n    <tr>\n      <th>108</th>\n      <td>12.0</td>\n      <td>1</td>\n      <td>6</td>\n      <td>24</td>\n      <td>1</td>\n    </tr>\n    <tr>\n      <th>109</th>\n      <td>11.0</td>\n      <td>1</td>\n      <td>5</td>\n      <td>40</td>\n      <td>1</td>\n    </tr>\n  </tbody>\n</table>\n<p>126 rows × 5 columns</p>\n</div>"
     },
     "metadata": {},
     "execution_count": 108
    }
   ],
   "source": [
    "result"
   ]
  },
  {
   "cell_type": "markdown",
   "metadata": {},
   "source": [
    "Ahora, realiza el ejercicio con el nuevo dataframe:\n",
    "\n",
    "¿Se mejora la precisión del algoritmo con dos clases? ¿por qué?\n",
    "LogisticRegression() es una clase que tiene varios parámetros de entrada. Investiga (toca, modifica, prueba) las variables y comenta si hay alguna de ellas que, modificándola, mejore el porcentaje de acierto del problema.\n",
    "\n",
    "https://scikit-learn.org/stable/modules/generated/sklearn.linear_model.LogisticRegression.html"
   ]
  },
  {
   "cell_type": "code",
   "execution_count": 109,
   "metadata": {},
   "outputs": [
    {
     "output_type": "execute_result",
     "data": {
      "text/plain": "(126, 4)"
     },
     "metadata": {},
     "execution_count": 109
    }
   ],
   "source": [
    "X = np.array(result.drop(['clase'], 1))\n",
    "y = np.array(result['clase'])\n",
    "X.shape"
   ]
  },
  {
   "cell_type": "code",
   "execution_count": 110,
   "metadata": {},
   "outputs": [
    {
     "output_type": "execute_result",
     "data": {
      "text/plain": "LogisticRegression()"
     },
     "metadata": {},
     "execution_count": 110
    }
   ],
   "source": [
    "model = linear_model.LogisticRegression()\n",
    "model.fit(X,y)"
   ]
  },
  {
   "cell_type": "code",
   "execution_count": 111,
   "metadata": {},
   "outputs": [
    {
     "output_type": "execute_result",
     "data": {
      "text/plain": "(126,)"
     },
     "metadata": {},
     "execution_count": 111
    }
   ],
   "source": [
    "y.shape"
   ]
  },
  {
   "cell_type": "code",
   "execution_count": 112,
   "metadata": {
    "tags": []
   },
   "outputs": [
    {
     "output_type": "stream",
     "name": "stdout",
     "text": "[0 0 0 0 0 0 0 0 0 0 0 0 0 0 1 0 0 0 1 0 0 0 0 0 0 0 1 1 1 0 0 0 0 0 0 0 0\n 0 1 0 0 0 0 1 0 0 0 0 0 0 0 0 0 0 0 0 0 0 0 0 0 0 0 0 0 0 0 0 0 0 0 0 0 0\n 0 0 0 0 0 0 0 0 0 0 0 0 0 0 0 0 1 0 1 0 1 1 0 1 1 1 1 1 1 0 0 0 0 1 0 1 0\n 1 0 0 1 0 0 0 0 0 0 0 0 0 0 0]\n"
    }
   ],
   "source": [
    "predictions = model.predict(X)\n",
    "print(predictions)"
   ]
  },
  {
   "cell_type": "code",
   "execution_count": 113,
   "metadata": {},
   "outputs": [
    {
     "output_type": "execute_result",
     "data": {
      "text/plain": "0.7380952380952381"
     },
     "metadata": {},
     "execution_count": 113
    }
   ],
   "source": [
    "model.score(X,y)"
   ]
  },
  {
   "cell_type": "markdown",
   "metadata": {},
   "source": [
    "EL MODELO TIENE UN SCORE MAS BAJO CON UNA CLASE MENOS. ESTA PEOR ENTRENADO."
   ]
  },
  {
   "cell_type": "code",
   "execution_count": 115,
   "metadata": {},
   "outputs": [],
   "source": [
    "validation_size = 0.20\n",
    "seed = 7\n",
    "X_train, X_test, Y_train, Y_test = model_selection.train_test_split(X, y, test_size=validation_size, random_state=seed)"
   ]
  },
  {
   "cell_type": "code",
   "execution_count": 116,
   "metadata": {
    "tags": []
   },
   "outputs": [
    {
     "output_type": "stream",
     "name": "stdout",
     "text": "Logistic Regression: 0.760000 (0.091652)\n"
    }
   ],
   "source": [
    "name='Logistic Regression'\n",
    "kfold = model_selection.KFold(n_splits=10, random_state=seed) #Parte los datos en 10 trozos para usar validación cruzada / cross validation\n",
    "cv_results = model_selection.cross_val_score(model, X_train, Y_train, cv=kfold, scoring='accuracy')\n",
    "msg = \"%s: %f (%f)\" % (name, cv_results.mean(), cv_results.std())\n",
    "print(msg)"
   ]
  },
  {
   "cell_type": "code",
   "execution_count": 117,
   "metadata": {
    "tags": []
   },
   "outputs": [
    {
     "output_type": "stream",
     "name": "stdout",
     "text": "0.6538461538461539\n"
    }
   ],
   "source": [
    "predictions = model.predict(X_test)\n",
    "print(accuracy_score(Y_test, predictions))"
   ]
  },
  {
   "cell_type": "markdown",
   "metadata": {},
   "source": [
    "EL PORCENTAJE DE ACIERTO ES INFERIOR CUANDO ELIMINAMOS LA CLASE 1"
   ]
  },
  {
   "cell_type": "code",
   "execution_count": 118,
   "metadata": {
    "tags": []
   },
   "outputs": [
    {
     "output_type": "stream",
     "name": "stdout",
     "text": "[[14  2]\n [ 7  3]]\n"
    }
   ],
   "source": [
    "print(confusion_matrix(Y_test, predictions))"
   ]
  },
  {
   "cell_type": "code",
   "execution_count": 119,
   "metadata": {},
   "outputs": [
    {
     "output_type": "execute_result",
     "data": {
      "text/plain": "array([1, 1, 0, 0, 0, 0, 0, 0, 0, 1, 1, 0, 1, 0, 1, 1, 0, 0, 1, 0, 1, 1,\n       0, 0, 0, 0])"
     },
     "metadata": {},
     "execution_count": 119
    }
   ],
   "source": [
    "Y_test"
   ]
  },
  {
   "cell_type": "code",
   "execution_count": 120,
   "metadata": {},
   "outputs": [
    {
     "output_type": "execute_result",
     "data": {
      "text/plain": "(26,)"
     },
     "metadata": {},
     "execution_count": 120
    }
   ],
   "source": [
    "Y_test.shape"
   ]
  },
  {
   "cell_type": "code",
   "execution_count": 121,
   "metadata": {
    "tags": []
   },
   "outputs": [
    {
     "output_type": "stream",
     "name": "stdout",
     "text": "Acierto 65.38\nEl error es de:  34.62 %\n"
    }
   ],
   "source": [
    "acierto = accuracy_score(Y_test, predictions)\n",
    "error = 1 - acierto\n",
    "print('Acierto', round(acierto*100, 2))\n",
    "print('El error es de: ', round(error*100, 2), '%')"
   ]
  },
  {
   "cell_type": "code",
   "execution_count": 127,
   "metadata": {},
   "outputs": [
    {
     "output_type": "execute_result",
     "data": {
      "text/plain": "array([1])"
     },
     "metadata": {},
     "execution_count": 127
    }
   ],
   "source": [
    "#clasificacion de uevos registros\n",
    "\n",
    "X_new = pd.DataFrame({'duracion': [18], 'paginas': [9], 'acciones': [5], 'valor': [12]})\n",
    "model.predict(X_new)"
   ]
  },
  {
   "cell_type": "code",
   "execution_count": 128,
   "metadata": {},
   "outputs": [
    {
     "output_type": "execute_result",
     "data": {
      "text/plain": "   duracion  paginas  acciones  valor\n0        18        9         5     12",
      "text/html": "<div>\n<style scoped>\n    .dataframe tbody tr th:only-of-type {\n        vertical-align: middle;\n    }\n\n    .dataframe tbody tr th {\n        vertical-align: top;\n    }\n\n    .dataframe thead th {\n        text-align: right;\n    }\n</style>\n<table border=\"1\" class=\"dataframe\">\n  <thead>\n    <tr style=\"text-align: right;\">\n      <th></th>\n      <th>duracion</th>\n      <th>paginas</th>\n      <th>acciones</th>\n      <th>valor</th>\n    </tr>\n  </thead>\n  <tbody>\n    <tr>\n      <th>0</th>\n      <td>18</td>\n      <td>9</td>\n      <td>5</td>\n      <td>12</td>\n    </tr>\n  </tbody>\n</table>\n</div>"
     },
     "metadata": {},
     "execution_count": 128
    }
   ],
   "source": [
    "X_new"
   ]
  },
  {
   "cell_type": "code",
   "execution_count": null,
   "metadata": {},
   "outputs": [],
   "source": []
  }
 ]
}