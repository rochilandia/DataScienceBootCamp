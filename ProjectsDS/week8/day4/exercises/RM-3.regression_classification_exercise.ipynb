{
 "metadata": {
  "language_info": {
   "codemirror_mode": {
    "name": "ipython",
    "version": 3
   },
   "file_extension": ".py",
   "mimetype": "text/x-python",
   "name": "python",
   "nbconvert_exporter": "python",
   "pygments_lexer": "ipython3",
   "version": "3.8.3-final"
  },
  "orig_nbformat": 2,
  "kernelspec": {
   "name": "python_defaultSpec_1600676289219",
   "display_name": "Python 3.6.4 64-bit"
  }
 },
 "nbformat": 4,
 "nbformat_minor": 2,
 "cells": [
  {
   "cell_type": "markdown",
   "metadata": {},
   "source": [
    "### Nivel intermedio:\n",
    "Hacer con objetivo de preparar entrevista técnica y tener un código reutilizable, útil y funcional."
   ]
  },
  {
   "cell_type": "markdown",
   "metadata": {},
   "source": [
    "1. \n",
    "\n",
    "Crea un programa que pregunte al usuario qué tipo de algoritmo desea utilizar (entre regresión lineal, regresión logística y Knn).\n",
    "\n",
    "Se presupone que el usuario proporcionará un dataframe con los datos a entrenar, el nombre de la columna target que está en el dataframe.\n",
    "\n",
    "El programa debe contener, como mínimo, estas cuatro funciones tal que así:"
   ]
  },
  {
   "cell_type": "code",
   "execution_count": 3,
   "metadata": {},
   "outputs": [],
   "source": [
    "import pandas as pd \n",
    "import numpy as np \n",
    "import matplotlib.pyplot as plt \n",
    "import seaborn as sns\n",
    "from sklearn.metrics import mean_squared_error, mean_absolute_error\n",
    "from sklearn.model_selection import train_test_split\n",
    "from sklearn.metrics import accuracy_score\n",
    "from sklearn import preprocessing\n",
    "from sklearn import utils\n",
    "from sklearn.svm import SVR\n",
    "from sklearn.linear_model import LogisticRegression\n",
    "from sklearn.linear_model import LinearRegression\n",
    "from sklearn.neighbors import KNeighborsRegressor\n",
    "from sklearn import preprocessing\n",
    "from sklearn.preprocessing import LabelEncoder\n",
    "from sklearn.model_selection import GridSearchCV\n",
    "from sklearn.pipeline import Pipeline\n",
    "from sklearn.model_selection import RepeatedKFold, KFold\n",
    "from sklearn.preprocessing import MinMaxScaler\n",
    "from sklearn.model_selection import cross_val_score"
   ]
  },
  {
   "cell_type": "code",
   "execution_count": null,
   "metadata": {},
   "outputs": [],
   "source": [
    "import xgboost\n",
    "from xgboost import XGBClassifier"
   ]
  },
  {
   "cell_type": "code",
   "execution_count": 6,
   "metadata": {
    "tags": []
   },
   "outputs": [
    {
     "output_type": "stream",
     "name": "stdout",
     "text": "Try again\n"
    },
    {
     "output_type": "execute_result",
     "data": {
      "text/plain": "LinearRegression()"
     },
     "metadata": {},
     "execution_count": 6
    }
   ],
   "source": [
    "option_user = input('Type the model you want to use (lower case and a space between the words): ')\n",
    "\n",
    "def choose_model(option_user, params=None):\n",
    "    # your code\n",
    "    if option_user == 'linear regression':\n",
    "        model = LinearRegression(fit_intercept=True, normalize=False, copy_X=True, n_jobs=None)\n",
    "        #sklearn.linear_model.LinearRegression(*, fit_intercept=True, normalize=False, copy_X=True, n_jobs=None)\n",
    "    if option_user == 'logistic regression':\n",
    "        model = LogisticRegression(penalty='l2', dual=False, tol=0.0001, C=1.0, fit_intercept=True, intercept_scaling=1, class_weight=None, random_state=None, solver='lbfgs', max_iter=100, multi_class='auto', verbose=0, warm_start=False, n_jobs=None, l1_ratio=None)\n",
    "    if option_user == 'knn':\n",
    "        from sklearn.neighbors import KNeighborsClassifier\n",
    "        model = KNeighborsClassifier(n_neighbors=5, weights='uniform', algorithm='auto', leaf_size=30, p=2,metric='minkowski', metric_params=None, n_jobs=None)\n",
    "    else:\n",
    "        print(\"Try again\")\n",
    "    \n",
    "    return model\n",
    "    print(model)\n",
    "\n",
    "choose_model(option_user=option_user)\n"
   ]
  },
  {
   "cell_type": "code",
   "execution_count": 7,
   "metadata": {
    "tags": []
   },
   "outputs": [
    {
     "output_type": "stream",
     "name": "stdout",
     "text": "0      0\n1      0\n2      0\n3      0\n4      0\n      ..\n145    2\n146    2\n147    2\n148    2\n149    2\nName: variety, Length: 150, dtype: int64\n"
    }
   ],
   "source": [
    "df = pd.read_csv('/Users/rochi/Desktop/TestFolder/DataScienceBootCampMIO/ProjectsDS/Week8/day4/data/iris.csv')\n",
    "df.shape\n",
    "\n",
    "le = LabelEncoder()\n",
    "df['variety'] = le.fit_transform(df['variety'])\n",
    "print(df['variety'])\n",
    "\n",
    "X_train = df.drop(df['variety'])\n",
    "y_train = df['variety']\n",
    "\n",
    "target_name = y_train\n",
    "\n",
    "def train_model(model, df, target_name):\n",
    "    # your code\n",
    "    X_train, X_test, y_train, y_test = train_test_split(X, y, test_size=0.2, random_state=100)   \n",
    "    if model == 'linear regression':\n",
    "        model_trained = LinearRegression(n_jobs=-1)  # -1 to use all processor\n",
    "        model_trained.fit(X_train, y_train)\n",
    "        if model == 'logistic regression':\n",
    "            model_trained = linear_model.LogisticRegression()\n",
    "            model_trained.fit(X_train, y_train)\n",
    "            if model == 'knn':\n",
    "                model_trained = KNeighborsClassifier(n_neighbors)\n",
    "                model_trained.fit(X_train,y_train)\n",
    "            else:\n",
    "                print('Try again')\n",
    "    score = model_trained.accuracy_score()\n",
    "    \n",
    "    return model_trained, score\n",
    "    print('model trained =', model_trained) \n",
    "    print('accuracy')\n",
    "    print('Target: ', target_name)\n",
    "    print(model)"
   ]
  },
  {
   "cell_type": "code",
   "execution_count": 8,
   "metadata": {},
   "outputs": [],
   "source": [
    "target_name = y_train\n",
    "\n",
    "def train_model(model, df, target_name):\n",
    "    # your code\n",
    "    X_train, X_test, y_train, y_test = train_test_split(X, y, test_size=0.2, random_state=100)   \n",
    "    if model == 'linear regression':\n",
    "        model_trained = LinearRegression(n_jobs=-1)  # -1 to use all processor\n",
    "        model_trained.fit(X_train, y_train)\n",
    "        if model == 'logistic regression':\n",
    "            model_trained = linear_model.LogisticRegression()\n",
    "            model_trained.fit(X_train, y_train)\n",
    "            if model == 'knn':\n",
    "                model_trained = KNeighborsClassifier(n_neighbors)\n",
    "                model_trained.fit(X_train,y_train)\n",
    "            else:\n",
    "                print('Try again')\n",
    "    score = model_trained.accuracy_score()\n",
    "    \n",
    "    return model_trained, score\n",
    "    print('model trained =', model_trained) \n",
    "    print('accuracy')\n",
    "    print('Target: ', target_name)"
   ]
  },
  {
   "cell_type": "markdown",
   "metadata": {},
   "source": [
    "-----------------------------\n",
    "\"choose_model\" recibe:\n",
    "\n",
    "- 'option_user': la opción del usuario. \n",
    "- 'params': es un diccionario que puede contener parámetros ciertos necesarios para la creación de los modelos (por ejemplo, el valor k para el algoritmo Knn). Por defecto, su valor es None.\n",
    "\n",
    "Deberá crear el modelo necesario sin entrenar, retornándolo al final.\n",
    "\n",
    "----------------\n",
    "\n",
    "\"train_model\" recibe:\n",
    "\n",
    "- 'model': el modelo sin entrenar elegido por el usario\n",
    "- 'df': el dataframe tratado y limpio que contiene todos los datos del conjunto de entrenamiento y de test, incluyendo el target. \n",
    "- 'target_name': el nombre de la columna que representa el target.\n",
    "\n",
    "Retornará el modelo entrenado con los datos y la precisión del modelo.\n"
   ]
  },
  {
   "cell_type": "code",
   "execution_count": 9,
   "metadata": {},
   "outputs": [
    {
     "output_type": "error",
     "ename": "SyntaxError",
     "evalue": "invalid syntax (<ipython-input-9-6fbbbe86c06d>, line 3)",
     "traceback": [
      "\u001b[0;36m  File \u001b[0;32m\"<ipython-input-9-6fbbbe86c06d>\"\u001b[0;36m, line \u001b[0;32m3\u001b[0m\n\u001b[0;31m    to_pred =\u001b[0m\n\u001b[0m             ^\u001b[0m\n\u001b[0;31mSyntaxError\u001b[0m\u001b[0;31m:\u001b[0m invalid syntax\n"
     ]
    }
   ],
   "source": [
    "def predict_new_data ():\n",
    "    model_trained = model_trained\n",
    "    to_pred =\n",
    "\n",
    "\n",
    "def main():\n",
    "    # your code\n",
    "    print('model trained =', model_trained) \n",
    "    print('accuracy: ', score)\n",
    "    print('Target: ', target_name)\n",
    "    return model_trained\n",
    "    \n",
    "main()"
   ]
  },
  {
   "cell_type": "markdown",
   "metadata": {},
   "source": [
    "----------------\n",
    "\n",
    "\"predict_new_data\" recibe:\n",
    "\n",
    "- 'model_trained': el modelo entrenado en la función \"train_model\"\n",
    "- 'to_pred': los datos que van a ser predichos por el modelo entreado.\n",
    "\n",
    "Retornará los resultados de la predicción.\n",
    "\n",
    "----------------\n",
    "\n",
    "\"main\": \n",
    "\n",
    "Es la función que ha de ser ejecutada cada vez que queremos lanzar el programa. \n",
    "\n",
    "Al final, mostrará la precisión del modelo entrenado y retornará el modelo entreado.\n",
    "\n",
    "----------------"
   ]
  },
  {
   "cell_type": "markdown",
   "metadata": {},
   "source": [
    "2.\n"
   ]
  },
  {
   "cell_type": "markdown",
   "metadata": {},
   "source": [
    "Haz que el programa sea capaz de predecir un nuevo ejemplo del modelo elegido y entrenado con la siguiente función:"
   ]
  },
  {
   "cell_type": "code",
   "execution_count": null,
   "metadata": {},
   "outputs": [],
   "source": [
    "def predict_new_data(model_trained, to_pred):\n",
    "    # your code\n",
    "    return y_pred"
   ]
  },
  {
   "cell_type": "markdown",
   "metadata": {},
   "source": [
    "----------------\n",
    "\n",
    "\"train_model\" recibe:\n",
    "\n",
    "- 'model_trained': el modelo entrenado elegido por el usario\n",
    "- 'to_pred': los datos del nuevo ejemplo a predecir.\n",
    "\n",
    "Retornará y mostrará por pantalla la predicción.\n",
    "\n",
    "----------------\n",
    "\n",
    "Se presupone que el usuario proporcionará los datos del nuevo ejemplo."
   ]
  },
  {
   "cell_type": "code",
   "execution_count": null,
   "metadata": {},
   "outputs": [],
   "source": []
  }
 ]
}