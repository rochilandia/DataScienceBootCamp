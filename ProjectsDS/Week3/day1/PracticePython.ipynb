{
 "cells": [
  {
   "cell_type": "markdown",
   "metadata": {},
   "source": [
    "### PracticePython - Org"
   ]
  },
  {
   "cell_type": "markdown",
   "metadata": {},
   "source": [
    "##Exercise 1 (and Solution)\n",
    "\n",
    "#Create a program that asks the user to enter their name and their age. Print out a message addressed to them that tells them the year that they will turn 100 years old."
   ]
  },
  {
   "cell_type": "code",
   "execution_count": 3,
   "metadata": {
    "tags": []
   },
   "outputs": [
    {
     "output_type": "stream",
     "name": "stdout",
     "text": "RochiIn 2079 you'll be 100 years old.\n"
    }
   ],
   "source": [
    "name = input(\"What's your name?\")\n",
    "age = input(\"How old are you?\")\n",
    "x = 100 - int(age)\n",
    "year = 2020 + x\n",
    "print(str(name) + \" in \" + str(year) + \" you'll be 100 years old.\")\n",
    "\n"
   ]
  },
  {
   "cell_type": "markdown",
   "metadata": {},
   "source": [
    "### Extras:\n",
    "\n",
    "Add on to the previous program by asking the user for another number and printing out that many copies of the previous message. (Hint: order of operations exists in Python)\n",
    "Print out that many copies of the previous message on separate lines. (Hint: the string \"\\n is the same as pressing the ENTER button)"
   ]
  },
  {
   "cell_type": "code",
   "execution_count": 13,
   "metadata": {
    "tags": []
   },
   "outputs": [
    {
     "output_type": "stream",
     "name": "stdout",
     "text": "Rochi in 2079 you'll be 100 years old.\n"
    }
   ],
   "source": [
    "name = input(\"What's your name?\")\n",
    "age = input(\"How old are you?\")\n",
    "x = 100 - int(age)\n",
    "year = 2020 + x\n",
    "\n",
    "print(str(name) + \" in \" + str(year) + \" you'll be 100 years old.\")\n"
   ]
  },
  {
   "cell_type": "code",
   "execution_count": 14,
   "metadata": {
    "tags": []
   },
   "outputs": [
    {
     "output_type": "stream",
     "name": "stdout",
     "text": "Rochi in 2079 you'll be 100 years old.\nRochi in 2079 you'll be 100 years old.\nRochi in 2079 you'll be 100 years old.\n"
    }
   ],
   "source": [
    "n = int(n = input(\"Enter any number\"))\n",
    "for i in range(x):\n",
    "    print(str(name) + \" in \" + str(year) + \" you'll be 100 years old.\")"
   ]
  },
  {
   "cell_type": "code",
   "execution_count": 12,
   "metadata": {},
   "outputs": [
    {
     "output_type": "execute_result",
     "data": {
      "text/plain": "'4444444'"
     },
     "metadata": {},
     "execution_count": 12
    }
   ],
   "source": [
    "x = \"4\"\n",
    "x*7"
   ]
  },
  {
   "cell_type": "code",
   "execution_count": 16,
   "metadata": {
    "tags": []
   },
   "outputs": [
    {
     "output_type": "stream",
     "name": "stdout",
     "text": "Rochi in 2079 you'll be 100 years old.\n"
    }
   ],
   "source": [
    "f = print(str(name) + \" in \" + str(year) + \" you'll be 100 years old.\")\n",
    "f\n"
   ]
  },
  {
   "cell_type": "code",
   "execution_count": 21,
   "metadata": {
    "tags": []
   },
   "outputs": [
    {
     "output_type": "stream",
     "name": "stdout",
     "text": "Rochi in 2079 you'll be 100 years old.\nRochi in 2079 you'll be 100 years old.\nRochi in 2079 you'll be 100 years old.\nRochi in 2079 you'll be 100 years old.\nRochi in 2079 you'll be 100 years old.\nRochi in 2079 you'll be 100 years old.\n\n"
    }
   ],
   "source": [
    "r =\"Rochi in 2079 you'll be 100 years old.\\n\"\n",
    "print(r*6)\n"
   ]
  },
  {
   "cell_type": "code",
   "execution_count": null,
   "metadata": {},
   "outputs": [],
   "source": []
  }
 ],
 "metadata": {
  "language_info": {
   "codemirror_mode": {
    "name": "ipython",
    "version": 3
   },
   "file_extension": ".py",
   "mimetype": "text/x-python",
   "name": "python",
   "nbconvert_exporter": "python",
   "pygments_lexer": "ipython3",
   "version": "3.7.6-final"
  },
  "orig_nbformat": 2,
  "kernelspec": {
   "name": "python3",
   "display_name": "Python 3"
  }
 },
 "nbformat": 4,
 "nbformat_minor": 2
}