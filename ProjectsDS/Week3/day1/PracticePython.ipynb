{
 "cells": [
  {
   "cell_type": "markdown",
   "metadata": {},
   "source": [
    "### PracticePython - Org"
   ]
  },
  {
   "cell_type": "markdown",
   "metadata": {},
   "source": [
    "##Exercise 1 (and Solution)\n",
    "\n",
    "#Create a program that asks the user to enter their name and their age. Print out a message addressed to them that tells them the year that they will turn 100 years old."
   ]
  },
  {
   "cell_type": "code",
   "execution_count": 3,
   "metadata": {
    "tags": []
   },
   "outputs": [
    {
     "output_type": "stream",
     "name": "stdout",
     "text": "RochiIn 2079 you'll be 100 years old.\n"
    }
   ],
   "source": [
    "name = input(\"What's your name?\")\n",
    "age = input(\"How old are you?\")\n",
    "x = 100 - int(age)\n",
    "year = 2020 + x\n",
    "print(str(name) + \" in \" + str(year) + \" you'll be 100 years old.\")\n",
    "\n"
   ]
  },
  {
   "cell_type": "markdown",
   "metadata": {},
   "source": [
    "### Extras:\n",
    "\n",
    "Add on to the previous program by asking the user for another number and printing out that many copies of the previous message. (Hint: order of operations exists in Python)\n",
    "Print out that many copies of the previous message on separate lines. (Hint: the string \"\\n is the same as pressing the ENTER button)"
   ]
  },
  {
   "cell_type": "code",
   "execution_count": 21,
   "metadata": {
    "tags": []
   },
   "outputs": [
    {
     "output_type": "stream",
     "name": "stdout",
     "text": "rochi in 2079 you'll be 100 years old.\n"
    }
   ],
   "source": [
    "name = input(\"What's your name?\")\n",
    "age = input(\"How old are you?\")\n",
    "x = 100 - int(age)\n",
    "year = 2020 + x\n",
    "\n",
    "print(str(name) + \" in \" + str(year) + \" you'll be 100 years old.\")\n"
   ]
  },
  {
   "cell_type": "code",
   "execution_count": 23,
   "metadata": {
    "tags": []
   },
   "outputs": [
    {
     "output_type": "stream",
     "name": "stdout",
     "text": "rochi in 2079 you'll be 100 years old.\nrochi in 2079 you'll be 100 years old.\nrochi in 2079 you'll be 100 years old.\nrochi in 2079 you'll be 100 years old.\nrochi in 2079 you'll be 100 years old.\nrochi in 2079 you'll be 100 years old.\nrochi in 2079 you'll be 100 years old.\nrochi in 2079 you'll be 100 years old.\nrochi in 2079 you'll be 100 years old.\nrochi in 2079 you'll be 100 years old.\nrochi in 2079 you'll be 100 years old.\nrochi in 2079 you'll be 100 years old.\nrochi in 2079 you'll be 100 years old.\nrochi in 2079 you'll be 100 years old.\nrochi in 2079 you'll be 100 years old.\nrochi in 2079 you'll be 100 years old.\nrochi in 2079 you'll be 100 years old.\nrochi in 2079 you'll be 100 years old.\nrochi in 2079 you'll be 100 years old.\nrochi in 2079 you'll be 100 years old.\nrochi in 2079 you'll be 100 years old.\nrochi in 2079 you'll be 100 years old.\nrochi in 2079 you'll be 100 years old.\nrochi in 2079 you'll be 100 years old.\nrochi in 2079 you'll be 100 years old.\nrochi in 2079 you'll be 100 years old.\nrochi in 2079 you'll be 100 years old.\nrochi in 2079 you'll be 100 years old.\nrochi in 2079 you'll be 100 years old.\nrochi in 2079 you'll be 100 years old.\nrochi in 2079 you'll be 100 years old.\nrochi in 2079 you'll be 100 years old.\nrochi in 2079 you'll be 100 years old.\nrochi in 2079 you'll be 100 years old.\nrochi in 2079 you'll be 100 years old.\nrochi in 2079 you'll be 100 years old.\nrochi in 2079 you'll be 100 years old.\nrochi in 2079 you'll be 100 years old.\nrochi in 2079 you'll be 100 years old.\nrochi in 2079 you'll be 100 years old.\nrochi in 2079 you'll be 100 years old.\nrochi in 2079 you'll be 100 years old.\nrochi in 2079 you'll be 100 years old.\nrochi in 2079 you'll be 100 years old.\nrochi in 2079 you'll be 100 years old.\nrochi in 2079 you'll be 100 years old.\nrochi in 2079 you'll be 100 years old.\nrochi in 2079 you'll be 100 years old.\nrochi in 2079 you'll be 100 years old.\nrochi in 2079 you'll be 100 years old.\nrochi in 2079 you'll be 100 years old.\nrochi in 2079 you'll be 100 years old.\nrochi in 2079 you'll be 100 years old.\nrochi in 2079 you'll be 100 years old.\nrochi in 2079 you'll be 100 years old.\nrochi in 2079 you'll be 100 years old.\nrochi in 2079 you'll be 100 years old.\nrochi in 2079 you'll be 100 years old.\nrochi in 2079 you'll be 100 years old.\n"
    }
   ],
   "source": [
    "n = int(input(\"Enter any number\"))\n",
    "for i in range(x):\n",
    "    print(str(name) + \" in \" + str(year) + \" you'll be 100 years old.\")"
   ]
  },
  {
   "cell_type": "code",
   "execution_count": 16,
   "metadata": {},
   "outputs": [
    {
     "output_type": "execute_result",
     "data": {
      "text/plain": "'4444444'"
     },
     "metadata": {},
     "execution_count": 16
    }
   ],
   "source": [
    "x = \"4\"\n",
    "x*7"
   ]
  },
  {
   "cell_type": "code",
   "execution_count": 24,
   "metadata": {
    "tags": []
   },
   "outputs": [
    {
     "output_type": "stream",
     "name": "stdout",
     "text": "rochi in 2079 you'll be 100 years old.\n"
    }
   ],
   "source": [
    "f = print(str(name) + \" in \" + str(year) + \" you'll be 100 years old.\")\n",
    "f\n"
   ]
  },
  {
   "cell_type": "code",
   "execution_count": 25,
   "metadata": {
    "tags": []
   },
   "outputs": [
    {
     "output_type": "stream",
     "name": "stdout",
     "text": "Rochi in 2079 you'll be 100 years old.\nRochi in 2079 you'll be 100 years old.\nRochi in 2079 you'll be 100 years old.\nRochi in 2079 you'll be 100 years old.\nRochi in 2079 you'll be 100 years old.\nRochi in 2079 you'll be 100 years old.\n\n"
    }
   ],
   "source": [
    "r =\"Rochi in 2079 you'll be 100 years old.\\n\"\n",
    "print(r*6)\n"
   ]
  },
  {
   "cell_type": "markdown",
   "metadata": {},
   "source": [
    "##Exercise 2 (and Solution)\n",
    "Ask the user for a number. Depending on whether the number is even or odd, print out an appropriate message to the user. \n",
    "\n",
    "#Hint: how does an even / odd number react differently when divided by 2?"
   ]
  },
  {
   "cell_type": "code",
   "execution_count": 45,
   "metadata": {
    "tags": []
   },
   "outputs": [
    {
     "output_type": "stream",
     "name": "stdout",
     "text": "Good job! You chose an even number\n"
    }
   ],
   "source": [
    "number = int(input(\"Enter a number: \"))\n",
    "\n",
    "def pares(choice):\n",
    "    if number %2 == 0:\n",
    "        print(\"Good job! You chose an even number\")\n",
    "    else:\n",
    "        print(\"Buuu. That's odd\")\n",
    "pares(choice=number)"
   ]
  },
  {
   "cell_type": "markdown",
   "metadata": {},
   "source": [
    "##Exercise 7 (and Solution)\n",
    "Let’s say I give you a list saved in a variable: a = [1, 4, 9, 16, 25, 36, 49, 64, 81, 100]. Write one line of Python that takes this list a and makes a new list that has only the even elements of this list in it."
   ]
  },
  {
   "cell_type": "code",
   "execution_count": 27,
   "metadata": {},
   "outputs": [],
   "source": [
    "a = [1, 4, 9, 16, 25, 36, 49, 64, 81, 100]"
   ]
  },
  {
   "cell_type": "code",
   "execution_count": 35,
   "metadata": {
    "tags": []
   },
   "outputs": [
    {
     "output_type": "stream",
     "name": "stdout",
     "text": "[1, 4, 9, 16, 25, 36, 49, 64, 81, 100]\n"
    }
   ],
   "source": [
    "for n in a: [lambda a: a % 2]\n",
    "print(a)"
   ]
  },
  {
   "cell_type": "code",
   "execution_count": 36,
   "metadata": {
    "tags": []
   },
   "outputs": [
    {
     "output_type": "stream",
     "name": "stdout",
     "text": "[4, 16, 36, 64, 100]\n"
    }
   ],
   "source": [
    "a = [1, 4, 9, 16, 25, 36, 49, 64, 81, 100]\n",
    "\n",
    "b = [elem for elem in a if elem % 2 == 0] \n",
    "print(b)"
   ]
  },
  {
   "cell_type": "markdown",
   "metadata": {},
   "source": [
    "##Exercise 14 (and Solution)\n",
    "Write a program (function!) that takes a list and returns a new list that contains all the elements of the first list minus all the duplicates."
   ]
  },
  {
   "cell_type": "code",
   "execution_count": 9,
   "metadata": {
    "tags": []
   },
   "outputs": [
    {
     "output_type": "stream",
     "name": "stdout",
     "text": "12\n"
    }
   ],
   "source": [
    "a = [\"perro\", \"gato\", \"delfin\", \"mono\", \"perro\", \"caballo\", \"vaca\", \"vaca\", \"mono\", \"jirafa\", \"cerdo\", \"caballo\"]\n",
    "\n",
    "print(len(a))"
   ]
  },
  {
   "cell_type": "code",
   "execution_count": 10,
   "metadata": {
    "tags": []
   },
   "outputs": [
    {
     "output_type": "error",
     "ename": "NameError",
     "evalue": "name 'elem' is not defined",
     "traceback": [
      "\u001b[0;31m---------------------------------------------------------------------------\u001b[0m",
      "\u001b[0;31mNameError\u001b[0m                                 Traceback (most recent call last)",
      "\u001b[0;32m<ipython-input-10-5bf1c84aafab>\u001b[0m in \u001b[0;36m<module>\u001b[0;34m\u001b[0m\n\u001b[1;32m      9\u001b[0m             \u001b[0mprint\u001b[0m\u001b[0;34m(\u001b[0m\u001b[0mb\u001b[0m\u001b[0;34m)\u001b[0m\u001b[0;34m\u001b[0m\u001b[0;34m\u001b[0m\u001b[0m\n\u001b[1;32m     10\u001b[0m \u001b[0;34m\u001b[0m\u001b[0m\n\u001b[0;32m---> 11\u001b[0;31m \u001b[0mnuevalista\u001b[0m\u001b[0;34m(\u001b[0m\u001b[0msindup\u001b[0m\u001b[0;34m=\u001b[0m\u001b[0mb\u001b[0m\u001b[0;34m)\u001b[0m\u001b[0;34m\u001b[0m\u001b[0;34m\u001b[0m\u001b[0m\n\u001b[0m",
      "\u001b[0;32m<ipython-input-10-5bf1c84aafab>\u001b[0m in \u001b[0;36mnuevalista\u001b[0;34m(sindup)\u001b[0m\n\u001b[1;32m      2\u001b[0m \u001b[0mb\u001b[0m \u001b[0;34m=\u001b[0m \u001b[0;34m[\u001b[0m\u001b[0;34m]\u001b[0m\u001b[0;34m\u001b[0m\u001b[0;34m\u001b[0m\u001b[0m\n\u001b[1;32m      3\u001b[0m \u001b[0;32mdef\u001b[0m \u001b[0mnuevalista\u001b[0m\u001b[0;34m(\u001b[0m\u001b[0msindup\u001b[0m\u001b[0;34m)\u001b[0m\u001b[0;34m:\u001b[0m\u001b[0;34m\u001b[0m\u001b[0;34m\u001b[0m\u001b[0m\n\u001b[0;32m----> 4\u001b[0;31m     \u001b[0;32mwhile\u001b[0m \u001b[0melem\u001b[0m \u001b[0;32min\u001b[0m \u001b[0ma\u001b[0m\u001b[0;34m:\u001b[0m\u001b[0;34m\u001b[0m\u001b[0;34m\u001b[0m\u001b[0m\n\u001b[0m\u001b[1;32m      5\u001b[0m         \u001b[0;32mif\u001b[0m \u001b[0melem\u001b[0m \u001b[0;34m==\u001b[0m \u001b[0melem\u001b[0m\u001b[0;34m:\u001b[0m\u001b[0;34m\u001b[0m\u001b[0;34m\u001b[0m\u001b[0m\n\u001b[1;32m      6\u001b[0m             \u001b[0mprint\u001b[0m\u001b[0;34m(\u001b[0m\u001b[0melem\u001b[0m\u001b[0;34m,\u001b[0m \u001b[0;34m\" repetido\"\u001b[0m\u001b[0;34m)\u001b[0m\u001b[0;34m\u001b[0m\u001b[0;34m\u001b[0m\u001b[0m\n",
      "\u001b[0;31mNameError\u001b[0m: name 'elem' is not defined"
     ]
    }
   ],
   "source": [
    "a = [\"perro\", \"gato\", \"delfin\", \"mono\", \"perro\", \"caballo\", \"vaca\", \"vaca\", \"mono\", \"jirafa\", \"cerdo\", \"caballo\"]\n",
    "b = []\n",
    "def nuevalista(sindup):\n",
    "    while elem in a:\n",
    "        if elem == elem:\n",
    "            print(elem, \" repetido\")\n",
    "        else:\n",
    "            b.append(elem)\n",
    "            print(b)\n",
    "\n",
    "nuevalista(sindup=b)"
   ]
  },
  {
   "cell_type": "code",
   "execution_count": 38,
   "metadata": {},
   "outputs": [
    {
     "output_type": "execute_result",
     "data": {
      "text/plain": "['perro', 'gato', 'delfin', 'mono', 'caballo', 'vaca', 'jirafa', 'cerdo']"
     },
     "metadata": {},
     "execution_count": 38
    }
   ],
   "source": [
    "a = [\"perro\", \"gato\", \"delfin\", \"mono\", \"perro\", \"caballo\", \"vaca\", \"vaca\", \"mono\", \"jirafa\", \"cerdo\", \"caballo\"]\n",
    "b = []\n",
    "\n",
    "def nuevalista(sindup):\n",
    "    acum = 0\n",
    "    while acum <= len(a) - 1:\n",
    "        if a[acum] not in b:\n",
    "            b.append(a[acum])\n",
    "        acum += 1\n",
    "    return b\n",
    "\n",
    "nuevalista(sindup=a)"
   ]
  },
  {
   "cell_type": "code",
   "execution_count": 40,
   "metadata": {},
   "outputs": [
    {
     "output_type": "execute_result",
     "data": {
      "text/plain": "['perro', 'gato', 'delfin', 'mono', 'caballo', 'vaca', 'jirafa', 'cerdo']"
     },
     "metadata": {},
     "execution_count": 40
    }
   ],
   "source": [
    "a = [\"perro\", \"gato\", \"delfin\", \"mono\", \"perro\", \"caballo\", \"vaca\", \"vaca\", \"mono\", \"jirafa\", \"cerdo\", \"caballo\"]\n",
    "\n",
    "def nuevalista(sindup):\n",
    "    b = []\n",
    "    for i in a:\n",
    "        if i not in b:\n",
    "            b.append(i)\n",
    "    return b\n",
    "\n",
    "nuevalista(sindup=b)\n"
   ]
  },
  {
   "cell_type": "markdown",
   "metadata": {},
   "source": [
    "##Extras:\n",
    "\n",
    "Write two different functions to do this - one using a loop and constructing a list, and another using sets.\n",
    "Go back and do Exercise 5 using sets, and write the solution for that in a different function."
   ]
  },
  {
   "cell_type": "code",
   "execution_count": 60,
   "metadata": {
    "tags": []
   },
   "outputs": [
    {
     "output_type": "execute_result",
     "data": {
      "text/plain": "['delfin', 'vaca', 'caballo', 'perro', 'mono', 'jirafa', 'cerdo', 'gato']"
     },
     "metadata": {},
     "execution_count": 60
    }
   ],
   "source": [
    "a = [\"perro\", \"gato\", \"delfin\", \"mono\", \"perro\", \"caballo\", \"vaca\", \"vaca\", \"mono\", \"jirafa\", \"cerdo\", \"caballo\"]\n",
    "b = []\n",
    "\n",
    "def nuevalista(sindup):    \n",
    "    return list(set(a))\n",
    "\n",
    "nuevalista(sindup=b)"
   ]
  },
  {
   "cell_type": "code",
   "execution_count": null,
   "metadata": {},
   "outputs": [],
   "source": [
    "## Welcome to the Cows and Bulls Game! \n",
    "  Enter a number: \n",
    "  >>> 1234\n",
    "  2 cows, 0 bulls\n",
    "  >>> 1256\n",
    "  1 cow, 1 bull"
   ]
  },
  {
   "cell_type": "code",
   "execution_count": 96,
   "metadata": {
    "tags": []
   },
   "outputs": [
    {
     "output_type": "stream",
     "name": "stdout",
     "text": "Cows:  1\nBulls:  1\n"
    }
   ],
   "source": [
    "number = \"1038\"\n",
    "answer = \"1253\"\n",
    "##answer = input(\"Insert a number:\")\n",
    "\n",
    "bulls_acum = 0\n",
    "cows_acum = 0\n",
    "\n",
    "while cows_acum < 4\n",
    "    answer = input (\"Insert a 4 digit number. If you want to quit the game, insert \"STOP\".\")\n",
    "\n",
    "    for pos, num in enumerate(number):\n",
    "        if num == answer[pos]:\n",
    "            cows_acum += 1\n",
    "        elif num in answer:\n",
    "            bulls_acum += 1\n",
    "    if not cows_acum and not bulls_acum:\n",
    "        print(\"Sorry. No cows or bulls.\")\n",
    "\n",
    "print(\"Cows: \", cows_acum)\n",
    "print(\"Bulls: \", bulls_acum)\n"
   ]
  },
  {
   "cell_type": "code",
   "execution_count": 90,
   "metadata": {
    "tags": []
   },
   "outputs": [
    {
     "output_type": "stream",
     "name": "stdout",
     "text": "Lo contiene\n"
    }
   ],
   "source": [
    "##para lo toros (bulls)\n",
    "\n",
    "x = \"1234\"\n",
    "if \"1\" in x:\n",
    "    print(\"Lo contiene\")\n"
   ]
  },
  {
   "cell_type": "code",
   "execution_count": 35,
   "metadata": {
    "tags": []
   },
   "outputs": [
    {
     "output_type": "stream",
     "name": "stdout",
     "text": "[1, 2, 3, 4, 3, 2, 1]\n[1, 2, 3, 4]\n"
    }
   ],
   "source": [
    "def dedupe_v2(x):\n",
    "    return list(set(x))\n",
    "\n",
    "a = [1,2,3,4,3,2,1]\n",
    "print(a)\n",
    "print(dedupe_v2(a))"
   ]
  },
  {
   "cell_type": "code",
   "execution_count": 64,
   "metadata": {
    "tags": []
   },
   "outputs": [
    {
     "output_type": "stream",
     "name": "stdout",
     "text": "['Robin', 'Michele', 'Sara']\n"
    }
   ],
   "source": [
    "names = [\"Michele\", \"Robin\", \"Sara\", \"Michele\"]\n",
    "names = set(names)\n",
    "names = list(names)\n",
    "print(names)"
   ]
  },
  {
   "cell_type": "code",
   "execution_count": 7,
   "metadata": {},
   "outputs": [
    {
     "output_type": "execute_result",
     "data": {
      "text/plain": "{0: 4, 1: 3, 2: 2, 3: 1, 4: 0}"
     },
     "metadata": {},
     "execution_count": 7
    }
   ],
   "source": [
    "mapping = dict(zip(range(5), reversed(range(5))))\n",
    "mapping\n"
   ]
  },
  {
   "cell_type": "code",
   "execution_count": 60,
   "metadata": {},
   "outputs": [],
   "source": [
    "some_dict = {0: 4, 1: 3, \"telefono\": 64023, 3: 1, 4: 0}\n"
   ]
  },
  {
   "cell_type": "code",
   "execution_count": 61,
   "metadata": {},
   "outputs": [
    {
     "output_type": "execute_result",
     "data": {
      "text/plain": "64023"
     },
     "metadata": {},
     "execution_count": 61
    }
   ],
   "source": [
    "value = some_dict.get(\"telefono\", 9056)\n",
    "value"
   ]
  },
  {
   "cell_type": "code",
   "execution_count": 18,
   "metadata": {},
   "outputs": [],
   "source": [
    "k_list = ['a', 'b', 7]\n",
    "v_list = ['some value', [1, 2, 3, 4], 'an integer']"
   ]
  },
  {
   "cell_type": "code",
   "execution_count": 21,
   "metadata": {
    "tags": []
   },
   "outputs": [
    {
     "output_type": "stream",
     "name": "stdout",
     "text": "<class 'dict'>\n"
    }
   ],
   "source": [
    "mapping = {}\n",
    "for k, v in zip(k_list, v_list):\n",
    "    mapping[k] = v\n"
   ]
  },
  {
   "cell_type": "code",
   "execution_count": 48,
   "metadata": {},
   "outputs": [
    {
     "output_type": "execute_result",
     "data": {
      "text/plain": "{'a': ['apple', 'atom'], 'b': ['bat', 'bar', 'book']}"
     },
     "metadata": {},
     "execution_count": 48
    }
   ],
   "source": [
    "words = ['apple', 'bat', 'bar', 'atom', 'book']\n",
    "by_letter = {}\n",
    "    \n",
    "for word in words:\n",
    "    letter = word[0]\n",
    "    if letter not in by_letter:\n",
    "        by_letter[letter] = [word]\n",
    "    else: \n",
    "        by_letter[letter].append(word)\n",
    "\n",
    "by_letter"
   ]
  },
  {
   "cell_type": "code",
   "execution_count": 50,
   "metadata": {},
   "outputs": [
    {
     "output_type": "execute_result",
     "data": {
      "text/plain": "{'a': ['apple', 'atom', 'apple', 'atom'],\n 'b': ['bat', 'bar', 'book', 'bat', 'bar', 'book']}"
     },
     "metadata": {},
     "execution_count": 50
    }
   ],
   "source": [
    "for word in words:\n",
    "    letter = word[0]\n",
    "    by_letter.setdefault(letter,[]).append(word)\n",
    "\n",
    "by_letter"
   ]
  },
  {
   "cell_type": "code",
   "execution_count": 54,
   "metadata": {},
   "outputs": [
    {
     "output_type": "execute_result",
     "data": {
      "text/plain": "3593915786120885642"
     },
     "metadata": {},
     "execution_count": 54
    }
   ],
   "source": [
    "hash('string')"
   ]
  },
  {
   "cell_type": "code",
   "execution_count": 63,
   "metadata": {},
   "outputs": [
    {
     "output_type": "execute_result",
     "data": {
      "text/plain": "2"
     },
     "metadata": {},
     "execution_count": 63
    }
   ],
   "source": [
    "hash(2)"
   ]
  },
  {
   "cell_type": "code",
   "execution_count": 65,
   "metadata": {},
   "outputs": [
    {
     "output_type": "execute_result",
     "data": {
      "text/plain": "-2141743049507838393"
     },
     "metadata": {},
     "execution_count": 65
    }
   ],
   "source": [
    "hash((2,5,7,8))"
   ]
  },
  {
   "cell_type": "code",
   "execution_count": null,
   "metadata": {},
   "outputs": [],
   "source": [
    "result = []\n",
    "for val in collection:\n",
    "    if condition:\n",
    "        result.append(expr)"
   ]
  },
  {
   "cell_type": "code",
   "execution_count": 69,
   "metadata": {},
   "outputs": [
    {
     "output_type": "execute_result",
     "data": {
      "text/plain": "['BAT', 'CAR', 'DOVE', 'PYTHON']"
     },
     "metadata": {},
     "execution_count": 69
    }
   ],
   "source": [
    "strings = ['a', 'as', 'bat', 'car', 'dove', 'python']\n",
    "\n",
    "[x.upper() for x in strings if len(x) > 2]"
   ]
  },
  {
   "cell_type": "code",
   "execution_count": 73,
   "metadata": {},
   "outputs": [
    {
     "output_type": "execute_result",
     "data": {
      "text/plain": "['Steven']"
     },
     "metadata": {},
     "execution_count": 73
    }
   ],
   "source": [
    "all_data = [['John', 'Emily', 'Michael', 'Mary', 'Steven'], ['Maria', 'Juan', 'Javier', 'Natalia', 'Pilar']]\n",
    "\n",
    "names_of_interest = []\n",
    "for names in all_data:\n",
    "    enough_es = [name for name in names if name.count('e') >= 2]\n",
    "    names_of_interest.extend(enough_es)\n",
    "\n",
    "names_of_interest"
   ]
  },
  {
   "cell_type": "code",
   "execution_count": 75,
   "metadata": {},
   "outputs": [
    {
     "output_type": "execute_result",
     "data": {
      "text/plain": "['Steven']"
     },
     "metadata": {},
     "execution_count": 75
    }
   ],
   "source": [
    "result = [name for names in all_data for name in names if name.count('e') >= 2]\n",
    "result"
   ]
  },
  {
   "cell_type": "code",
   "execution_count": 78,
   "metadata": {},
   "outputs": [
    {
     "output_type": "execute_result",
     "data": {
      "text/plain": "12.0"
     },
     "metadata": {},
     "execution_count": 78
    }
   ],
   "source": [
    "def my_function(x, y, z=1.5):\n",
    "    if z > 1:\n",
    "        return z * (x + y)\n",
    "    else:\n",
    "        return z / (x + y)\n",
    "\n",
    "h = my_function(x=3, y=5)\n",
    "h"
   ]
  },
  {
   "cell_type": "code",
   "execution_count": 79,
   "metadata": {},
   "outputs": [
    {
     "output_type": "execute_result",
     "data": {
      "text/plain": "'something'"
     },
     "metadata": {},
     "execution_count": 79
    }
   ],
   "source": [
    "def attempt_float(x):\n",
    "    try:\n",
    "        return float(x)\n",
    "    except:\n",
    "        return x\n",
    "\n",
    "attempt_float('1.2345')\n",
    "attempt_float('something')"
   ]
  },
  {
   "cell_type": "code",
   "execution_count": 80,
   "metadata": {},
   "outputs": [
    {
     "output_type": "error",
     "ename": "NameError",
     "evalue": "name 'path' is not defined",
     "traceback": [
      "\u001b[0;31m---------------------------------------------------------------------------\u001b[0m",
      "\u001b[0;31mNameError\u001b[0m                                 Traceback (most recent call last)",
      "\u001b[0;32m<ipython-input-80-ad39e4e9af78>\u001b[0m in \u001b[0;36m<module>\u001b[0;34m\u001b[0m\n\u001b[0;32m----> 1\u001b[0;31m \u001b[0mf\u001b[0m \u001b[0;34m=\u001b[0m \u001b[0mopen\u001b[0m\u001b[0;34m(\u001b[0m\u001b[0mpath\u001b[0m\u001b[0;34m,\u001b[0m \u001b[0;34m'w'\u001b[0m\u001b[0;34m)\u001b[0m\u001b[0;34m\u001b[0m\u001b[0;34m\u001b[0m\u001b[0m\n\u001b[0m\u001b[1;32m      2\u001b[0m \u001b[0;34m\u001b[0m\u001b[0m\n\u001b[1;32m      3\u001b[0m \u001b[0;32mtry\u001b[0m\u001b[0;34m:\u001b[0m\u001b[0;34m\u001b[0m\u001b[0;34m\u001b[0m\u001b[0m\n\u001b[1;32m      4\u001b[0m     \u001b[0mwrite_to_file\u001b[0m\u001b[0;34m(\u001b[0m\u001b[0mf\u001b[0m\u001b[0;34m)\u001b[0m\u001b[0;34m\u001b[0m\u001b[0;34m\u001b[0m\u001b[0m\n\u001b[1;32m      5\u001b[0m \u001b[0;32mexcept\u001b[0m\u001b[0;34m:\u001b[0m\u001b[0;34m\u001b[0m\u001b[0;34m\u001b[0m\u001b[0m\n",
      "\u001b[0;31mNameError\u001b[0m: name 'path' is not defined"
     ]
    }
   ],
   "source": [
    "f = open(path, 'w')\n",
    "\n",
    "try:\n",
    "    write_to_file(f)\n",
    "except:\n",
    "    print('Failed')\n",
    "else:\n",
    "    print('Succeeded')\n",
    "finally:\n",
    "    f.close()"
   ]
  },
  {
   "cell_type": "code",
   "execution_count": 89,
   "metadata": {},
   "outputs": [],
   "source": [
    "import numpy as np\n",
    "np.bincount\n",
    "#from numpy import array, arange"
   ]
  },
  {
   "cell_type": "code",
   "execution_count": 87,
   "metadata": {},
   "outputs": [
    {
     "output_type": "execute_result",
     "data": {
      "text/plain": "array(['Bob', 'Joe', 'Will', 'Bob', 'Will', 'Joe', 'Joe'], dtype='<U4')"
     },
     "metadata": {},
     "execution_count": 87
    }
   ],
   "source": [
    "names = np.array(['Bob', 'Joe', 'Will', 'Bob', 'Will', 'Joe', 'Joe'])\n",
    "data = np.random.randn(7, 4)\n",
    "names"
   ]
  },
  {
   "cell_type": "code",
   "execution_count": 97,
   "metadata": {},
   "outputs": [],
   "source": [
    "##inheritance\n",
    "\n",
    "class LivingBeing():\n",
    "    \"\"\"Father/Mother class\"\"\"\n",
    "    def __init__(self, species, born_date, procreate_ability=True, aging_disease=True):\n",
    "        self.is_living = True\n",
    "        self.species = species\n",
    "        self.procreate_ability = procreate_ability\n",
    "        self.aging_disease = aging_disease\n",
    "        self.born_date = born_date\n",
    "    \n",
    "    def living_being_function(self):\n",
    "        print(\"I'M A LIVING BEING!\")\n"
   ]
  },
  {
   "cell_type": "code",
   "execution_count": 100,
   "metadata": {
    "tags": []
   },
   "outputs": [
    {
     "output_type": "stream",
     "name": "stdout",
     "text": "Humano\n"
    }
   ],
   "source": [
    "Rochi = LivingBeing(species=\"Humano\", born_date=\"30/11/1978\")\n",
    "print(Rochi.species)"
   ]
  },
  {
   "cell_type": "code",
   "execution_count": null,
   "metadata": {},
   "outputs": [],
   "source": [
    "class Human(LivingBeing):\n",
    "    \"\"\"Children class\"\"\"\n",
    "    ##Humano v a atener todos los atributos de la clase de Padre/Madre/ Incluido la funcion.LivingBeing.\n",
    "    ##agrega nuevos atributos.\n",
    "    "
   ]
  },
  {
   "cell_type": "code",
   "execution_count": 3,
   "metadata": {},
   "outputs": [
    {
     "output_type": "execute_result",
     "data": {
      "text/plain": "array([[0., 0., 0., 0.],\n       [1., 1., 1., 1.],\n       [2., 2., 2., 2.],\n       [3., 3., 3., 3.],\n       [4., 4., 4., 4.],\n       [5., 5., 5., 5.],\n       [6., 6., 6., 6.],\n       [7., 7., 7., 7.]])"
     },
     "metadata": {},
     "execution_count": 3
    }
   ],
   "source": [
    "import numpy as np\n",
    "arr = np.empty((8, 4)) \n",
    "for i in range(8):\n",
    "    arr[i] = i\n",
    "arr\n"
   ]
  },
  {
   "cell_type": "code",
   "execution_count": 7,
   "metadata": {},
   "outputs": [
    {
     "output_type": "execute_result",
     "data": {
      "text/plain": "array([[ 0,  8, 16, 24],\n       [ 1,  9, 17, 25],\n       [ 2, 10, 18, 26],\n       [ 3, 11, 19, 27],\n       [ 4, 12, 20, 28],\n       [ 5, 13, 21, 29],\n       [ 6, 14, 22, 30],\n       [ 7, 15, 23, 31]])"
     },
     "metadata": {},
     "execution_count": 7
    }
   ],
   "source": [
    "arr.T"
   ]
  },
  {
   "cell_type": "code",
   "execution_count": 9,
   "metadata": {},
   "outputs": [
    {
     "output_type": "execute_result",
     "data": {
      "text/plain": "array([[-1.23403839,  0.9386931 ,  1.02026948],\n       [-0.92818565, -0.10321826,  0.51637164],\n       [ 0.03159333,  0.61261155, -1.40370071],\n       [-1.37287969, -1.78695471, -0.60442018],\n       [ 1.97175846,  1.42325215, -1.3820494 ],\n       [-1.71508409,  0.84689017,  0.13355363]])"
     },
     "metadata": {},
     "execution_count": 9
    }
   ],
   "source": [
    "arr = np.random.randn(6, 3)\n",
    "arr"
   ]
  },
  {
   "cell_type": "code",
   "execution_count": 20,
   "metadata": {},
   "outputs": [
    {
     "output_type": "error",
     "ename": "AxisError",
     "evalue": "axis1: axis 3 is out of bounds for array of dimension 2",
     "traceback": [
      "\u001b[0;31m---------------------------------------------------------------------------\u001b[0m",
      "\u001b[0;31mAxisError\u001b[0m                                 Traceback (most recent call last)",
      "\u001b[0;32m<ipython-input-20-269b8f9ba916>\u001b[0m in \u001b[0;36m<module>\u001b[0;34m\u001b[0m\n\u001b[0;32m----> 1\u001b[0;31m \u001b[0marr\u001b[0m\u001b[0;34m.\u001b[0m\u001b[0mswapaxes\u001b[0m\u001b[0;34m(\u001b[0m\u001b[0;36m3\u001b[0m\u001b[0;34m,\u001b[0m \u001b[0;36m3\u001b[0m\u001b[0;34m)\u001b[0m\u001b[0;34m\u001b[0m\u001b[0;34m\u001b[0m\u001b[0m\n\u001b[0m\u001b[1;32m      2\u001b[0m \u001b[0marr\u001b[0m\u001b[0;34m\u001b[0m\u001b[0;34m\u001b[0m\u001b[0m\n",
      "\u001b[0;31mAxisError\u001b[0m: axis1: axis 3 is out of bounds for array of dimension 2"
     ]
    }
   ],
   "source": [
    "arr.swapaxes(6, 3)\n",
    "arr"
   ]
  },
  {
   "cell_type": "code",
   "execution_count": 10,
   "metadata": {},
   "outputs": [
    {
     "output_type": "execute_result",
     "data": {
      "text/plain": "array([[11.09952096,  2.76387227, -3.90701514],\n       [ 2.76387227,  7.20316844, -0.72933038],\n       [-3.90701514, -0.72933038,  5.57118605]])"
     },
     "metadata": {},
     "execution_count": 10
    }
   ],
   "source": [
    "np.dot(arr.T, arr)\n",
    "\n",
    "##Simple transposing with .T is a special case of swapping axes. ndarray has the method swapaxes, which takes a pair of axis numbers and switches the indicated axes to rearrange the data:"
   ]
  },
  {
   "cell_type": "code",
   "execution_count": 21,
   "metadata": {
    "tags": []
   },
   "outputs": [
    {
     "output_type": "stream",
     "name": "stdout",
     "text": "[-1.59671762 -0.66691994  1.99884972 -1.28173016  1.00244853 -0.71749598\n  1.78449104 -0.30028592]\n[ 1.91810047  1.78312603  0.76169595 -0.71059951  1.8672342   1.13526498\n  0.54972545  0.16678675]\n"
    }
   ],
   "source": [
    "x = np.random.randn(8)\n",
    "y = np.random.randn(8)\n",
    "print(x)\n",
    "print(y)"
   ]
  },
  {
   "cell_type": "code",
   "execution_count": 22,
   "metadata": {},
   "outputs": [
    {
     "output_type": "execute_result",
     "data": {
      "text/plain": "array([ 1.91810047,  1.78312603,  1.99884972, -0.71059951,  1.8672342 ,\n        1.13526498,  1.78449104,  0.16678675])"
     },
     "metadata": {},
     "execution_count": 22
    }
   ],
   "source": [
    "np.maximum(x, y)"
   ]
  },
  {
   "cell_type": "code",
   "execution_count": 23,
   "metadata": {},
   "outputs": [
    {
     "output_type": "execute_result",
     "data": {
      "text/plain": "array([ 0.47143516, -1.19097569,  1.43270697, -0.3126519 , -0.72058873,\n        0.88716294,  0.85958841, -0.6365235 ,  0.01569637, -2.24268495])"
     },
     "metadata": {},
     "execution_count": 23
    }
   ],
   "source": [
    "rng = np.random.RandomState(1234)\n",
    "rng.randn(10)\n"
   ]
  },
  {
   "cell_type": "code",
   "execution_count": 28,
   "metadata": {
    "tags": []
   },
   "outputs": [
    {
     "output_type": "stream",
     "name": "stdout",
     "text": "28\n"
    }
   ],
   "source": [
    "import random\n",
    "position = 0\n",
    "walk = [position]\n",
    "steps = 1000\n",
    "for i in range(steps):\n",
    "    step = 1 if random.randint(0, 1) else -1\n",
    "    position += step\n",
    "    walk.append(position)\n",
    "    \n",
    "print(position)"
   ]
  },
  {
   "cell_type": "code",
   "execution_count": 31,
   "metadata": {
    "tags": []
   },
   "outputs": [
    {
     "output_type": "stream",
     "name": "stdout",
     "text": "[-1 -1 -1 -1 -1 -1 -1 -1 -1 -1 -1 -1  1  1  1  1 -1  1  1  1  1 -1 -1 -1\n  1 -1 -1 -1 -1  1  1  1 -1 -1 -1  1 -1  1  1 -1  1 -1  1  1  1  1  1 -1\n  1  1  1  1 -1  1  1  1  1  1 -1  1 -1 -1  1 -1  1 -1  1  1 -1 -1  1  1\n -1 -1 -1 -1 -1  1  1 -1  1  1  1 -1  1  1  1 -1 -1 -1  1 -1 -1  1  1  1\n  1  1 -1 -1  1 -1 -1  1 -1 -1  1  1 -1  1  1 -1  1  1  1  1  1 -1 -1  1\n -1  1 -1 -1  1 -1 -1 -1  1  1  1  1 -1 -1 -1 -1 -1 -1  1 -1  1 -1  1 -1\n  1 -1  1  1 -1  1  1 -1 -1  1  1 -1 -1 -1  1  1 -1 -1 -1  1 -1 -1 -1 -1\n  1 -1  1 -1 -1 -1 -1 -1 -1 -1  1 -1  1 -1  1 -1 -1 -1  1  1 -1  1 -1  1\n -1  1  1 -1  1  1  1  1 -1 -1 -1  1 -1 -1  1 -1  1 -1 -1  1  1  1  1 -1\n  1 -1  1 -1 -1 -1  1  1  1 -1  1  1 -1 -1 -1 -1  1 -1  1  1 -1 -1  1 -1\n -1  1  1  1 -1  1 -1 -1  1  1 -1 -1 -1 -1  1  1  1 -1 -1  1 -1 -1  1 -1\n -1 -1 -1 -1 -1  1 -1 -1  1 -1 -1  1  1  1  1  1  1 -1  1 -1  1 -1  1  1\n  1 -1 -1 -1  1 -1 -1 -1  1  1 -1 -1  1 -1 -1 -1  1  1 -1 -1  1 -1 -1  1\n -1 -1  1 -1  1  1  1 -1  1  1  1 -1 -1 -1 -1 -1 -1  1 -1 -1  1 -1  1 -1\n -1 -1  1 -1 -1 -1  1 -1 -1 -1  1  1 -1 -1  1 -1  1  1  1  1  1 -1  1 -1\n  1  1  1  1 -1  1  1 -1 -1 -1 -1 -1 -1 -1  1  1 -1 -1 -1  1 -1  1  1 -1\n -1 -1  1  1  1  1 -1  1 -1 -1  1  1 -1  1 -1  1  1 -1  1  1 -1  1  1  1\n  1  1 -1  1 -1  1  1  1  1 -1 -1 -1  1  1  1 -1  1 -1 -1  1 -1 -1  1 -1\n -1  1  1  1  1  1  1  1  1 -1  1  1 -1  1  1  1 -1 -1  1 -1  1 -1 -1  1\n -1  1  1  1  1  1 -1 -1  1  1  1  1 -1  1  1 -1 -1 -1 -1  1 -1 -1 -1 -1\n  1  1  1  1  1  1 -1 -1  1 -1  1 -1 -1 -1 -1  1  1  1  1  1 -1 -1  1  1\n  1 -1 -1  1  1  1  1 -1 -1  1 -1 -1 -1 -1 -1  1  1 -1  1  1  1  1  1  1\n  1 -1  1  1  1  1  1  1 -1 -1 -1 -1 -1  1 -1 -1 -1  1 -1  1 -1  1  1 -1\n -1 -1  1 -1 -1 -1  1 -1  1  1 -1  1  1  1 -1 -1  1 -1 -1 -1  1 -1 -1 -1\n  1  1  1  1 -1 -1  1  1 -1  1  1  1 -1  1  1 -1 -1 -1  1 -1 -1  1  1  1\n -1 -1 -1  1  1  1 -1  1  1  1  1  1 -1  1 -1  1 -1 -1  1  1 -1 -1  1  1\n -1  1  1  1 -1  1  1  1 -1  1 -1 -1  1 -1  1  1 -1 -1 -1 -1 -1  1  1 -1\n  1 -1  1  1  1  1  1  1 -1  1  1  1 -1 -1 -1  1 -1  1 -1 -1  1  1 -1 -1\n -1 -1 -1 -1 -1 -1 -1 -1 -1 -1 -1  1  1 -1 -1  1 -1  1  1 -1  1 -1 -1 -1\n -1 -1  1  1  1  1 -1 -1  1 -1 -1 -1  1  1  1 -1 -1  1  1 -1 -1  1  1 -1\n -1  1 -1 -1 -1 -1 -1 -1 -1 -1 -1 -1  1 -1  1 -1 -1  1 -1 -1 -1 -1  1 -1\n -1 -1 -1 -1  1  1  1  1  1  1  1 -1  1  1  1 -1 -1  1 -1  1 -1  1 -1  1\n  1  1 -1  1 -1  1 -1  1 -1 -1  1 -1  1  1 -1  1  1  1 -1  1  1  1  1  1\n  1  1 -1 -1 -1 -1  1  1 -1  1  1 -1 -1 -1 -1  1 -1 -1  1  1 -1 -1 -1  1\n -1  1 -1  1  1 -1  1  1 -1 -1 -1 -1 -1 -1  1 -1  1  1 -1  1 -1 -1  1 -1\n -1 -1 -1 -1 -1 -1  1 -1  1  1  1 -1  1 -1 -1 -1  1 -1 -1 -1 -1 -1 -1  1\n  1  1  1 -1 -1  1  1  1 -1  1  1 -1 -1 -1 -1  1 -1 -1 -1 -1  1 -1  1  1\n  1  1 -1  1  1  1  1  1  1  1  1  1 -1  1  1  1  1 -1  1  1 -1  1 -1  1\n -1 -1  1 -1  1  1  1  1 -1 -1  1 -1  1 -1  1  1 -1 -1  1 -1 -1 -1  1  1\n  1  1  1 -1 -1 -1  1 -1  1 -1  1 -1  1  1 -1 -1 -1  1  1  1 -1 -1 -1  1\n  1 -1 -1 -1 -1  1  1 -1  1  1  1 -1  1  1 -1 -1 -1 -1 -1  1 -1 -1  1 -1\n  1 -1 -1  1 -1 -1 -1 -1 -1 -1 -1 -1 -1  1 -1  1]\n[ -1  -2  -3  -4  -5  -6  -7  -8  -9 -10 -11 -12 -11 -10  -9  -8  -9  -8\n  -7  -6  -5  -6  -7  -8  -7  -8  -9 -10 -11 -10  -9  -8  -9 -10 -11 -10\n -11 -10  -9 -10  -9 -10  -9  -8  -7  -6  -5  -6  -5  -4  -3  -2  -3  -2\n  -1   0   1   2   1   2   1   0   1   0   1   0   1   2   1   0   1   2\n   1   0  -1  -2  -3  -2  -1  -2  -1   0   1   0   1   2   3   2   1   0\n   1   0  -1   0   1   2   3   4   3   2   3   2   1   2   1   0   1   2\n   1   2   3   2   3   4   5   6   7   6   5   6   5   6   5   4   5   4\n   3   2   3   4   5   6   5   4   3   2   1   0   1   0   1   0   1   0\n   1   0   1   2   1   2   3   2   1   2   3   2   1   0   1   2   1   0\n  -1   0  -1  -2  -3  -4  -3  -4  -3  -4  -5  -6  -7  -8  -9 -10  -9 -10\n  -9 -10  -9 -10 -11 -12 -11 -10 -11 -10 -11 -10 -11 -10  -9 -10  -9  -8\n  -7  -6  -7  -8  -9  -8  -9 -10  -9 -10  -9 -10 -11 -10  -9  -8  -7  -8\n  -7  -8  -7  -8  -9 -10  -9  -8  -7  -8  -7  -6  -7  -8  -9 -10  -9 -10\n  -9  -8  -9 -10  -9 -10 -11 -10  -9  -8  -9  -8  -9 -10  -9  -8  -9 -10\n -11 -12 -11 -10  -9 -10 -11 -10 -11 -12 -11 -12 -13 -14 -15 -16 -17 -16\n -17 -18 -17 -18 -19 -18 -17 -16 -15 -14 -13 -14 -13 -14 -13 -14 -13 -12\n -11 -12 -13 -14 -13 -14 -15 -16 -15 -14 -15 -16 -15 -16 -17 -18 -17 -16\n -17 -18 -17 -18 -19 -18 -19 -20 -19 -20 -19 -18 -17 -18 -17 -16 -15 -16\n -17 -18 -19 -20 -21 -20 -21 -22 -21 -22 -21 -22 -23 -24 -23 -24 -25 -26\n -25 -26 -27 -28 -27 -26 -27 -28 -27 -28 -27 -26 -25 -24 -23 -24 -23 -24\n -23 -22 -21 -20 -21 -20 -19 -20 -21 -22 -23 -24 -25 -26 -25 -24 -25 -26\n -27 -26 -27 -26 -25 -26 -27 -28 -27 -26 -25 -24 -25 -24 -25 -26 -25 -24\n -25 -24 -25 -24 -23 -24 -23 -22 -23 -22 -21 -20 -19 -18 -19 -18 -19 -18\n -17 -16 -15 -16 -17 -18 -17 -16 -15 -16 -15 -16 -17 -16 -17 -18 -17 -18\n -19 -18 -17 -16 -15 -14 -13 -12 -11 -12 -11 -10 -11 -10  -9  -8  -9 -10\n  -9 -10  -9 -10 -11 -10 -11 -10  -9  -8  -7  -6  -7  -8  -7  -6  -5  -4\n  -5  -4  -3  -4  -5  -6  -7  -6  -7  -8  -9 -10  -9  -8  -7  -6  -5  -4\n  -5  -6  -5  -6  -5  -6  -7  -8  -9  -8  -7  -6  -5  -4  -5  -6  -5  -4\n  -3  -4  -5  -4  -3  -2  -1  -2  -3  -2  -3  -4  -5  -6  -7  -6  -5  -6\n  -5  -4  -3  -2  -1   0   1   0   1   2   3   4   5   6   5   4   3   2\n   1   2   1   0  -1   0  -1   0  -1   0   1   0  -1  -2  -1  -2  -3  -4\n  -3  -4  -3  -2  -3  -2  -1   0  -1  -2  -1  -2  -3  -4  -3  -4  -5  -6\n  -5  -4  -3  -2  -3  -4  -3  -2  -3  -2  -1   0  -1   0   1   0  -1  -2\n  -1  -2  -3  -2  -1   0  -1  -2  -3  -2  -1   0  -1   0   1   2   3   4\n   3   4   3   4   3   2   3   4   3   2   3   4   3   4   5   6   5   6\n   7   8   7   8   7   6   7   6   7   8   7   6   5   4   3   4   5   4\n   5   4   5   6   7   8   9  10   9  10  11  12  11  10   9  10   9  10\n   9   8   9  10   9   8   7   6   5   4   3   2   1   0  -1  -2  -3  -2\n  -1  -2  -3  -2  -3  -2  -1  -2  -1  -2  -3  -4  -5  -6  -5  -4  -3  -2\n  -3  -4  -3  -4  -5  -6  -5  -4  -3  -4  -5  -4  -3  -4  -5  -4  -3  -4\n  -5  -4  -5  -6  -7  -8  -9 -10 -11 -12 -13 -14 -13 -14 -13 -14 -15 -14\n -15 -16 -17 -18 -17 -18 -19 -20 -21 -22 -21 -20 -19 -18 -17 -16 -15 -16\n -15 -14 -13 -14 -15 -14 -15 -14 -15 -14 -15 -14 -13 -12 -13 -12 -13 -12\n -13 -12 -13 -14 -13 -14 -13 -12 -13 -12 -11 -10 -11 -10  -9  -8  -7  -6\n  -5  -4  -5  -6  -7  -8  -7  -6  -7  -6  -5  -6  -7  -8  -9  -8  -9 -10\n  -9  -8  -9 -10 -11 -10 -11 -10 -11 -10  -9 -10  -9  -8  -9 -10 -11 -12\n -13 -14 -13 -14 -13 -12 -13 -12 -13 -14 -13 -14 -15 -16 -17 -18 -19 -20\n -19 -20 -19 -18 -17 -18 -17 -18 -19 -20 -19 -20 -21 -22 -23 -24 -25 -24\n -23 -22 -21 -22 -23 -22 -21 -20 -21 -20 -19 -20 -21 -22 -23 -22 -23 -24\n -25 -26 -25 -26 -25 -24 -23 -22 -23 -22 -21 -20 -19 -18 -17 -16 -15 -14\n -15 -14 -13 -12 -11 -12 -11 -10 -11 -10 -11 -10 -11 -12 -11 -12 -11 -10\n  -9  -8  -9 -10  -9 -10  -9 -10  -9  -8  -9 -10  -9 -10 -11 -12 -11 -10\n  -9  -8  -7  -8  -9 -10  -9 -10  -9 -10  -9 -10  -9  -8  -9 -10 -11 -10\n  -9  -8  -9 -10 -11 -10  -9 -10 -11 -12 -13 -12 -11 -12 -11 -10  -9 -10\n  -9  -8  -9 -10 -11 -12 -13 -12 -13 -14 -13 -14 -13 -14 -15 -14 -15 -16\n -17 -18 -19 -20 -21 -22 -23 -22 -23 -22]\n"
    }
   ],
   "source": [
    "nsteps = 1000\n",
    "draws = np.random.randint(0, 2, size=nsteps)\n",
    "steps = np.where(draws > 0, 1, -1)\n",
    "walk = steps.cumsum()\n",
    "print(steps)\n",
    "print(walk)"
   ]
  },
  {
   "cell_type": "code",
   "execution_count": 7,
   "metadata": {},
   "outputs": [
    {
     "output_type": "error",
     "ename": "NameError",
     "evalue": "name 'walk' is not defined",
     "traceback": [
      "\u001b[0;31m---------------------------------------------------------------------------\u001b[0m",
      "\u001b[0;31mNameError\u001b[0m                                 Traceback (most recent call last)",
      "\u001b[0;32m<ipython-input-7-cd5dae538c42>\u001b[0m in \u001b[0;36m<module>\u001b[0;34m\u001b[0m\n\u001b[0;32m----> 1\u001b[0;31m \u001b[0mwalk\u001b[0m\u001b[0;34m.\u001b[0m\u001b[0mmax\u001b[0m\u001b[0;34m(\u001b[0m\u001b[0;34m)\u001b[0m\u001b[0;34m\u001b[0m\u001b[0;34m\u001b[0m\u001b[0m\n\u001b[0m\u001b[1;32m      2\u001b[0m \u001b[0mwalk\u001b[0m\u001b[0;34m.\u001b[0m\u001b[0mmin\u001b[0m\u001b[0;34m(\u001b[0m\u001b[0;34m)\u001b[0m\u001b[0;34m\u001b[0m\u001b[0;34m\u001b[0m\u001b[0m\n",
      "\u001b[0;31mNameError\u001b[0m: name 'walk' is not defined"
     ]
    }
   ],
   "source": [
    "walk.max()\n",
    "walk.min()"
   ]
  },
  {
   "cell_type": "code",
   "execution_count": 16,
   "metadata": {},
   "outputs": [],
   "source": [
    "class Puerta:\n",
    "    def __init__(self):\n",
    "        pass"
   ]
  },
  {
   "cell_type": "code",
   "execution_count": 33,
   "metadata": {
    "tags": []
   },
   "outputs": [
    {
     "output_type": "stream",
     "name": "stdout",
     "text": "Dorytiene5 años\nAmamos a nuestra mascota Doryque tiene 5\n"
    }
   ],
   "source": [
    "class Dog:\n",
    "    \n",
    "    def __init__(self, name, age):\n",
    "        self.name = name\n",
    "        self.age = str(age)\n",
    "    \n",
    "    def __str__(self):\n",
    "        return \"Amamos a nuestra mascota \" + self.name + \"que tiene \" + self.age\n",
    "        \n",
    "    def show_attributes(self):\n",
    "        print(self.name + \"tiene\" + self.age + \" años\")\n",
    "\n",
    "Dory = Dog(name=\"Dory\", age=5)\n",
    "Dory.show_attributes()\n",
    "print(Dory)\n"
   ]
  },
  {
   "cell_type": "code",
   "execution_count": 3,
   "metadata": {},
   "outputs": [],
   "source": [
    "import numpy as np "
   ]
  },
  {
   "cell_type": "code",
   "execution_count": 2,
   "metadata": {},
   "outputs": [],
   "source": [
    "import matplotlib.pyplot as plt"
   ]
  },
  {
   "cell_type": "code",
   "execution_count": 8,
   "metadata": {},
   "outputs": [
    {
     "output_type": "execute_result",
     "data": {
      "text/plain": "4"
     },
     "metadata": {},
     "execution_count": 8
    }
   ],
   "source": [
    "import random\n",
    "X = random.randint(2, 10)\n",
    "X"
   ]
  },
  {
   "cell_type": "code",
   "execution_count": 9,
   "metadata": {},
   "outputs": [],
   "source": [
    "import pandas as pd\n",
    "import json\n",
    "\n",
    "df = pd.read_csv('http://pastebin.com/raw/7L86m9R2', \\\n",
    "                 header=None, index_col=0, names=['data'])"
   ]
  },
  {
   "cell_type": "code",
   "execution_count": 10,
   "metadata": {},
   "outputs": [
    {
     "output_type": "execute_result",
     "data": {
      "text/plain": "                                                 data\n0   {\"idTiers\": \"107330\", \"idAnnonce\": \"113201527\"...\n1   {\"idTiers\": \"170361\", \"idAnnonce\": \"115282633\"...\n2   {\"idTiers\": \"153796\", \"idAnnonce\": \"114652905\"...\n3   {\"idTiers\": \"119592\", \"idAnnonce\": \"114171943\"...\n4   {\"idTiers\": \"16121\", \"idAnnonce\": \"99860973\", ...\n5   {\"idTiers\": \"67103\", \"idAnnonce\": \"114846757\",...\n6   {\"idTiers\": \"67103\", \"idAnnonce\": \"114846759\",...\n7   {\"idTiers\": \"67103\", \"idAnnonce\": \"114846761\",...\n8   {\"idTiers\": \"67103\", \"idAnnonce\": \"114846765\",...\n9   {\"idTiers\": \"67103\", \"idAnnonce\": \"114846767\",...\n10  {\"idTiers\": \"67103\", \"idAnnonce\": \"114846769\",...\n11  {\"idTiers\": \"67103\", \"idAnnonce\": \"114846771\",...\n12  {\"idTiers\": \"67103\", \"idAnnonce\": \"114846773\",...\n13  {\"idTiers\": \"67103\", \"idAnnonce\": \"114846775\",...\n14  {\"idTiers\": \"67103\", \"idAnnonce\": \"114846779\",...\n15  {\"idTiers\": \"17783\", \"idAnnonce\": \"111034595\",...\n16  {\"idTiers\": \"24680\", \"idAnnonce\": \"112983375\",...\n17  {\"idTiers\": \"23883\", \"idAnnonce\": \"114908405\",...\n18  {\"idTiers\": \"131429\", \"idAnnonce\": \"114888951\"...\n19  {\"idTiers\": \"108452\", \"idAnnonce\": \"112978263\"...",
      "text/html": "<div>\n<style scoped>\n    .dataframe tbody tr th:only-of-type {\n        vertical-align: middle;\n    }\n\n    .dataframe tbody tr th {\n        vertical-align: top;\n    }\n\n    .dataframe thead th {\n        text-align: right;\n    }\n</style>\n<table border=\"1\" class=\"dataframe\">\n  <thead>\n    <tr style=\"text-align: right;\">\n      <th></th>\n      <th>data</th>\n    </tr>\n  </thead>\n  <tbody>\n    <tr>\n      <th>0</th>\n      <td>{\"idTiers\": \"107330\", \"idAnnonce\": \"113201527\"...</td>\n    </tr>\n    <tr>\n      <th>1</th>\n      <td>{\"idTiers\": \"170361\", \"idAnnonce\": \"115282633\"...</td>\n    </tr>\n    <tr>\n      <th>2</th>\n      <td>{\"idTiers\": \"153796\", \"idAnnonce\": \"114652905\"...</td>\n    </tr>\n    <tr>\n      <th>3</th>\n      <td>{\"idTiers\": \"119592\", \"idAnnonce\": \"114171943\"...</td>\n    </tr>\n    <tr>\n      <th>4</th>\n      <td>{\"idTiers\": \"16121\", \"idAnnonce\": \"99860973\", ...</td>\n    </tr>\n    <tr>\n      <th>5</th>\n      <td>{\"idTiers\": \"67103\", \"idAnnonce\": \"114846757\",...</td>\n    </tr>\n    <tr>\n      <th>6</th>\n      <td>{\"idTiers\": \"67103\", \"idAnnonce\": \"114846759\",...</td>\n    </tr>\n    <tr>\n      <th>7</th>\n      <td>{\"idTiers\": \"67103\", \"idAnnonce\": \"114846761\",...</td>\n    </tr>\n    <tr>\n      <th>8</th>\n      <td>{\"idTiers\": \"67103\", \"idAnnonce\": \"114846765\",...</td>\n    </tr>\n    <tr>\n      <th>9</th>\n      <td>{\"idTiers\": \"67103\", \"idAnnonce\": \"114846767\",...</td>\n    </tr>\n    <tr>\n      <th>10</th>\n      <td>{\"idTiers\": \"67103\", \"idAnnonce\": \"114846769\",...</td>\n    </tr>\n    <tr>\n      <th>11</th>\n      <td>{\"idTiers\": \"67103\", \"idAnnonce\": \"114846771\",...</td>\n    </tr>\n    <tr>\n      <th>12</th>\n      <td>{\"idTiers\": \"67103\", \"idAnnonce\": \"114846773\",...</td>\n    </tr>\n    <tr>\n      <th>13</th>\n      <td>{\"idTiers\": \"67103\", \"idAnnonce\": \"114846775\",...</td>\n    </tr>\n    <tr>\n      <th>14</th>\n      <td>{\"idTiers\": \"67103\", \"idAnnonce\": \"114846779\",...</td>\n    </tr>\n    <tr>\n      <th>15</th>\n      <td>{\"idTiers\": \"17783\", \"idAnnonce\": \"111034595\",...</td>\n    </tr>\n    <tr>\n      <th>16</th>\n      <td>{\"idTiers\": \"24680\", \"idAnnonce\": \"112983375\",...</td>\n    </tr>\n    <tr>\n      <th>17</th>\n      <td>{\"idTiers\": \"23883\", \"idAnnonce\": \"114908405\",...</td>\n    </tr>\n    <tr>\n      <th>18</th>\n      <td>{\"idTiers\": \"131429\", \"idAnnonce\": \"114888951\"...</td>\n    </tr>\n    <tr>\n      <th>19</th>\n      <td>{\"idTiers\": \"108452\", \"idAnnonce\": \"112978263\"...</td>\n    </tr>\n  </tbody>\n</table>\n</div>"
     },
     "metadata": {},
     "execution_count": 10
    }
   ],
   "source": [
    "df"
   ]
  },
  {
   "cell_type": "code",
   "execution_count": 11,
   "metadata": {},
   "outputs": [
    {
     "output_type": "execute_result",
     "data": {
      "text/plain": "   idTiers  idAnnonce idAgence idPublication idTypeTransaction idTypeBien  \\\n0   107330  113201527    90338        466858                 2          1   \n1   170361  115282633   114072        550168                 2          1   \n2   153796  114652905   102645        507321                 2          1   \n3   119592  114171943    82251        428258                 8          1   \n4    16121   99860973    41743        192929                 2          1   \n5    67103  114846757    68466      30068466                 6          1   \n6    67103  114846759    68466      30068466                 6          1   \n7    67103  114846761    68466      30068466                 6          1   \n8    67103  114846765    68466      30068466                 6          1   \n9    67103  114846767    68466      30068466                 6          1   \n10   67103  114846769    68466      30068466                 6          1   \n11   67103  114846771    68466      30068466                 6          1   \n12   67103  114846773    68466      30068466                 6          1   \n13   67103  114846775    68466      30068466                 6          1   \n14   67103  114846779    68466      30068466                 6          1   \n15   17783  111034595    42892        231281                 2          1   \n16   24680  112983375    55939        277242                 2          9   \n17   23883  114908405    47803        229441                 2          1   \n18  131429  114888951   104711        516104                 2          1   \n19  108452  112978263    77178        407814                 8          1   \n\n            dtFraicheur           dtCreation                 titre  \\\n0   2016-11-25T17:32:45  2016-10-05T14:55:00  Appartement 3 pièces   \n1   2016-12-16T16:55:00  2016-12-13T12:57:00  Appartement 5 pièces   \n2   2016-12-11T15:30:00  2016-11-23T09:09:00  Appartement 4 pièces   \n3   2016-12-15T23:19:00  2016-11-05T20:18:00  Appartement 9 pièces   \n4   2016-12-16T02:50:00  2015-06-11T14:50:00  Appartement 3 pièces   \n5   2016-12-15T20:06:00  2016-11-29T20:06:00  Appartement 3 pièces   \n6   2016-12-15T20:06:00  2016-11-29T20:06:00  Appartement 3 pièces   \n7   2016-12-15T20:06:00  2016-11-29T20:06:00  Appartement 2 pièces   \n8   2016-12-15T20:06:00  2016-11-29T20:06:00  Appartement 3 pièces   \n9   2016-12-15T20:06:00  2016-11-29T20:06:00  Appartement 2 pièces   \n10  2016-12-15T20:06:00  2016-11-29T20:06:00  Appartement 3 pièces   \n11  2016-12-15T20:06:00  2016-11-29T20:06:00  Appartement 3 pièces   \n12  2016-12-15T20:06:00  2016-11-29T20:06:00  Appartement 3 pièces   \n13  2016-12-15T20:06:00  2016-11-29T20:06:00  Appartement 3 pièces   \n14  2016-12-15T20:06:00  2016-11-29T20:06:00  Appartement 4 pièces   \n15  2016-11-25T17:32:45  2016-11-04T09:37:00  Appartement 3 pièces   \n16  2016-12-16T00:39:00  2016-09-28T13:49:00                  Loft   \n17  2016-12-16T13:43:00  2016-12-01T12:06:00       Duplex 5 pièces   \n18  2016-12-10T00:06:00  2016-11-30T23:47:00  Appartement 6 pièces   \n19  2016-12-14T01:10:00  2016-09-28T09:56:00  Appartement 6 pièces   \n\n                                         libelle  ... contact.idPublication  \\\n0                           Appartement 3 pièces  ...                466858   \n1                                       5 pièces  ...                550168   \n2                                       4 pièces  ...                507321   \n3                                       9 pièces  ...                428258   \n4                                 Lyon 1er Saone  ...                192929   \n5                           Appartement 3 pièces  ...              30068466   \n6                           Appartement 3 pièces  ...              30068466   \n7                           Appartement 2 pièces  ...              30068466   \n8                           Appartement 3 pièces  ...              30068466   \n9                           Appartement 2 pièces  ...              30068466   \n10                          Appartement 3 pièces  ...              30068466   \n11                          Appartement 3 pièces  ...              30068466   \n12                          Appartement 3 pièces  ...              30068466   \n13                          Appartement 3 pièces  ...              30068466   \n14                          Appartement 4 pièces  ...              30068466   \n15                               T3 Croix Paquet  ...                231281   \n16                          Loft/Atelier/Surface  ...                277242   \n17                             Appart. T5 duplex  ...                229441   \n18  Bel Appartement de 184 m² avec vue splendide  ...                516104   \n19                         Atelier avec terrasse  ...                407814   \n\n                                   contact.nom contact.rcsSiren  \\\n0                                 MARCEAU-IMMO        499855468   \n1                         AT HOME CONFIDENTIEL        811408400   \n2   DESPORTE Carole Agent mandataire Optimhome        799064837   \n3                             95BIS IMMOBILIER        508660693   \n4           ADMINISTRATION DE BIENS LIMOUZI SA        958513426   \n5                                         OGIC        382621134   \n6                                         OGIC        382621134   \n7                                         OGIC        382621134   \n8                                         OGIC        382621134   \n9                                         OGIC        382621134   \n10                                        OGIC        382621134   \n11                                        OGIC        382621134   \n12                                        OGIC        382621134   \n13                                        OGIC        382621134   \n14                                        OGIC        382621134   \n15                           ONIL TRANSACTIONS        452994668   \n16                              BIC IMMOBILIER        385197488   \n17                          RHÔNE TRANSACTIONS        449732122   \n18                                    ART'IMMO        534203716   \n19            IMMOBILIERE TERRASSES ET JARDINS        524019783   \n\n   contact.rcsNic consoEnergie bilanConsoEnergie emissionGES bilanEmissionGES  \\\n0           00017          NaN               NaN         NaN              NaN   \n1           00018          249                 E          51                E   \n2           00013          296                 E           9                B   \n3           00021          110                 C          23                D   \n4           00022          200                 D          30                D   \n5           00024          NaN               NaN         NaN              NaN   \n6           00024          NaN               NaN         NaN              NaN   \n7           00024          NaN               NaN         NaN              NaN   \n8           00024          NaN               NaN         NaN              NaN   \n9           00024          NaN               NaN         NaN              NaN   \n10          00024          NaN               NaN         NaN              NaN   \n11          00024          NaN               NaN         NaN              NaN   \n12          00024          NaN               NaN         NaN              NaN   \n13          00024          NaN               NaN         NaN              NaN   \n14          00024          NaN               NaN         NaN              NaN   \n15          00013          277                 E           9                B   \n16          00021          163                 D         NaN              NaN   \n17          00014          109                 C          25                D   \n18            NaN          NaN               NaN         NaN              NaN   \n19            NaN          NaN               NaN         NaN              NaN   \n\n   idSousTypeBien                       proximite  \n0             NaN                             NaN  \n1             NaN                             NaN  \n2             NaN                             NaN  \n3             NaN                             NaN  \n4             NaN                             NaN  \n5             NaN                             NaN  \n6             NaN                             NaN  \n7             NaN                             NaN  \n8             NaN                             NaN  \n9             NaN                             NaN  \n10            NaN                             NaN  \n11            NaN                             NaN  \n12            NaN                             NaN  \n13            NaN                             NaN  \n14            NaN                             NaN  \n15            NaN                             NaN  \n16             45  proximité place sathonay/quais  \n17             46        Saint Vincent / Sathonay  \n18            NaN                             NaN  \n19            NaN                       Chartreux  \n\n[20 rows x 57 columns]",
      "text/html": "<div>\n<style scoped>\n    .dataframe tbody tr th:only-of-type {\n        vertical-align: middle;\n    }\n\n    .dataframe tbody tr th {\n        vertical-align: top;\n    }\n\n    .dataframe thead th {\n        text-align: right;\n    }\n</style>\n<table border=\"1\" class=\"dataframe\">\n  <thead>\n    <tr style=\"text-align: right;\">\n      <th></th>\n      <th>idTiers</th>\n      <th>idAnnonce</th>\n      <th>idAgence</th>\n      <th>idPublication</th>\n      <th>idTypeTransaction</th>\n      <th>idTypeBien</th>\n      <th>dtFraicheur</th>\n      <th>dtCreation</th>\n      <th>titre</th>\n      <th>libelle</th>\n      <th>...</th>\n      <th>contact.idPublication</th>\n      <th>contact.nom</th>\n      <th>contact.rcsSiren</th>\n      <th>contact.rcsNic</th>\n      <th>consoEnergie</th>\n      <th>bilanConsoEnergie</th>\n      <th>emissionGES</th>\n      <th>bilanEmissionGES</th>\n      <th>idSousTypeBien</th>\n      <th>proximite</th>\n    </tr>\n  </thead>\n  <tbody>\n    <tr>\n      <th>0</th>\n      <td>107330</td>\n      <td>113201527</td>\n      <td>90338</td>\n      <td>466858</td>\n      <td>2</td>\n      <td>1</td>\n      <td>2016-11-25T17:32:45</td>\n      <td>2016-10-05T14:55:00</td>\n      <td>Appartement 3 pièces</td>\n      <td>Appartement 3 pièces</td>\n      <td>...</td>\n      <td>466858</td>\n      <td>MARCEAU-IMMO</td>\n      <td>499855468</td>\n      <td>00017</td>\n      <td>NaN</td>\n      <td>NaN</td>\n      <td>NaN</td>\n      <td>NaN</td>\n      <td>NaN</td>\n      <td>NaN</td>\n    </tr>\n    <tr>\n      <th>1</th>\n      <td>170361</td>\n      <td>115282633</td>\n      <td>114072</td>\n      <td>550168</td>\n      <td>2</td>\n      <td>1</td>\n      <td>2016-12-16T16:55:00</td>\n      <td>2016-12-13T12:57:00</td>\n      <td>Appartement 5 pièces</td>\n      <td>5 pièces</td>\n      <td>...</td>\n      <td>550168</td>\n      <td>AT HOME CONFIDENTIEL</td>\n      <td>811408400</td>\n      <td>00018</td>\n      <td>249</td>\n      <td>E</td>\n      <td>51</td>\n      <td>E</td>\n      <td>NaN</td>\n      <td>NaN</td>\n    </tr>\n    <tr>\n      <th>2</th>\n      <td>153796</td>\n      <td>114652905</td>\n      <td>102645</td>\n      <td>507321</td>\n      <td>2</td>\n      <td>1</td>\n      <td>2016-12-11T15:30:00</td>\n      <td>2016-11-23T09:09:00</td>\n      <td>Appartement 4 pièces</td>\n      <td>4 pièces</td>\n      <td>...</td>\n      <td>507321</td>\n      <td>DESPORTE Carole Agent mandataire Optimhome</td>\n      <td>799064837</td>\n      <td>00013</td>\n      <td>296</td>\n      <td>E</td>\n      <td>9</td>\n      <td>B</td>\n      <td>NaN</td>\n      <td>NaN</td>\n    </tr>\n    <tr>\n      <th>3</th>\n      <td>119592</td>\n      <td>114171943</td>\n      <td>82251</td>\n      <td>428258</td>\n      <td>8</td>\n      <td>1</td>\n      <td>2016-12-15T23:19:00</td>\n      <td>2016-11-05T20:18:00</td>\n      <td>Appartement 9 pièces</td>\n      <td>9 pièces</td>\n      <td>...</td>\n      <td>428258</td>\n      <td>95BIS IMMOBILIER</td>\n      <td>508660693</td>\n      <td>00021</td>\n      <td>110</td>\n      <td>C</td>\n      <td>23</td>\n      <td>D</td>\n      <td>NaN</td>\n      <td>NaN</td>\n    </tr>\n    <tr>\n      <th>4</th>\n      <td>16121</td>\n      <td>99860973</td>\n      <td>41743</td>\n      <td>192929</td>\n      <td>2</td>\n      <td>1</td>\n      <td>2016-12-16T02:50:00</td>\n      <td>2015-06-11T14:50:00</td>\n      <td>Appartement 3 pièces</td>\n      <td>Lyon 1er Saone</td>\n      <td>...</td>\n      <td>192929</td>\n      <td>ADMINISTRATION DE BIENS LIMOUZI SA</td>\n      <td>958513426</td>\n      <td>00022</td>\n      <td>200</td>\n      <td>D</td>\n      <td>30</td>\n      <td>D</td>\n      <td>NaN</td>\n      <td>NaN</td>\n    </tr>\n    <tr>\n      <th>5</th>\n      <td>67103</td>\n      <td>114846757</td>\n      <td>68466</td>\n      <td>30068466</td>\n      <td>6</td>\n      <td>1</td>\n      <td>2016-12-15T20:06:00</td>\n      <td>2016-11-29T20:06:00</td>\n      <td>Appartement 3 pièces</td>\n      <td>Appartement 3 pièces</td>\n      <td>...</td>\n      <td>30068466</td>\n      <td>OGIC</td>\n      <td>382621134</td>\n      <td>00024</td>\n      <td>NaN</td>\n      <td>NaN</td>\n      <td>NaN</td>\n      <td>NaN</td>\n      <td>NaN</td>\n      <td>NaN</td>\n    </tr>\n    <tr>\n      <th>6</th>\n      <td>67103</td>\n      <td>114846759</td>\n      <td>68466</td>\n      <td>30068466</td>\n      <td>6</td>\n      <td>1</td>\n      <td>2016-12-15T20:06:00</td>\n      <td>2016-11-29T20:06:00</td>\n      <td>Appartement 3 pièces</td>\n      <td>Appartement 3 pièces</td>\n      <td>...</td>\n      <td>30068466</td>\n      <td>OGIC</td>\n      <td>382621134</td>\n      <td>00024</td>\n      <td>NaN</td>\n      <td>NaN</td>\n      <td>NaN</td>\n      <td>NaN</td>\n      <td>NaN</td>\n      <td>NaN</td>\n    </tr>\n    <tr>\n      <th>7</th>\n      <td>67103</td>\n      <td>114846761</td>\n      <td>68466</td>\n      <td>30068466</td>\n      <td>6</td>\n      <td>1</td>\n      <td>2016-12-15T20:06:00</td>\n      <td>2016-11-29T20:06:00</td>\n      <td>Appartement 2 pièces</td>\n      <td>Appartement 2 pièces</td>\n      <td>...</td>\n      <td>30068466</td>\n      <td>OGIC</td>\n      <td>382621134</td>\n      <td>00024</td>\n      <td>NaN</td>\n      <td>NaN</td>\n      <td>NaN</td>\n      <td>NaN</td>\n      <td>NaN</td>\n      <td>NaN</td>\n    </tr>\n    <tr>\n      <th>8</th>\n      <td>67103</td>\n      <td>114846765</td>\n      <td>68466</td>\n      <td>30068466</td>\n      <td>6</td>\n      <td>1</td>\n      <td>2016-12-15T20:06:00</td>\n      <td>2016-11-29T20:06:00</td>\n      <td>Appartement 3 pièces</td>\n      <td>Appartement 3 pièces</td>\n      <td>...</td>\n      <td>30068466</td>\n      <td>OGIC</td>\n      <td>382621134</td>\n      <td>00024</td>\n      <td>NaN</td>\n      <td>NaN</td>\n      <td>NaN</td>\n      <td>NaN</td>\n      <td>NaN</td>\n      <td>NaN</td>\n    </tr>\n    <tr>\n      <th>9</th>\n      <td>67103</td>\n      <td>114846767</td>\n      <td>68466</td>\n      <td>30068466</td>\n      <td>6</td>\n      <td>1</td>\n      <td>2016-12-15T20:06:00</td>\n      <td>2016-11-29T20:06:00</td>\n      <td>Appartement 2 pièces</td>\n      <td>Appartement 2 pièces</td>\n      <td>...</td>\n      <td>30068466</td>\n      <td>OGIC</td>\n      <td>382621134</td>\n      <td>00024</td>\n      <td>NaN</td>\n      <td>NaN</td>\n      <td>NaN</td>\n      <td>NaN</td>\n      <td>NaN</td>\n      <td>NaN</td>\n    </tr>\n    <tr>\n      <th>10</th>\n      <td>67103</td>\n      <td>114846769</td>\n      <td>68466</td>\n      <td>30068466</td>\n      <td>6</td>\n      <td>1</td>\n      <td>2016-12-15T20:06:00</td>\n      <td>2016-11-29T20:06:00</td>\n      <td>Appartement 3 pièces</td>\n      <td>Appartement 3 pièces</td>\n      <td>...</td>\n      <td>30068466</td>\n      <td>OGIC</td>\n      <td>382621134</td>\n      <td>00024</td>\n      <td>NaN</td>\n      <td>NaN</td>\n      <td>NaN</td>\n      <td>NaN</td>\n      <td>NaN</td>\n      <td>NaN</td>\n    </tr>\n    <tr>\n      <th>11</th>\n      <td>67103</td>\n      <td>114846771</td>\n      <td>68466</td>\n      <td>30068466</td>\n      <td>6</td>\n      <td>1</td>\n      <td>2016-12-15T20:06:00</td>\n      <td>2016-11-29T20:06:00</td>\n      <td>Appartement 3 pièces</td>\n      <td>Appartement 3 pièces</td>\n      <td>...</td>\n      <td>30068466</td>\n      <td>OGIC</td>\n      <td>382621134</td>\n      <td>00024</td>\n      <td>NaN</td>\n      <td>NaN</td>\n      <td>NaN</td>\n      <td>NaN</td>\n      <td>NaN</td>\n      <td>NaN</td>\n    </tr>\n    <tr>\n      <th>12</th>\n      <td>67103</td>\n      <td>114846773</td>\n      <td>68466</td>\n      <td>30068466</td>\n      <td>6</td>\n      <td>1</td>\n      <td>2016-12-15T20:06:00</td>\n      <td>2016-11-29T20:06:00</td>\n      <td>Appartement 3 pièces</td>\n      <td>Appartement 3 pièces</td>\n      <td>...</td>\n      <td>30068466</td>\n      <td>OGIC</td>\n      <td>382621134</td>\n      <td>00024</td>\n      <td>NaN</td>\n      <td>NaN</td>\n      <td>NaN</td>\n      <td>NaN</td>\n      <td>NaN</td>\n      <td>NaN</td>\n    </tr>\n    <tr>\n      <th>13</th>\n      <td>67103</td>\n      <td>114846775</td>\n      <td>68466</td>\n      <td>30068466</td>\n      <td>6</td>\n      <td>1</td>\n      <td>2016-12-15T20:06:00</td>\n      <td>2016-11-29T20:06:00</td>\n      <td>Appartement 3 pièces</td>\n      <td>Appartement 3 pièces</td>\n      <td>...</td>\n      <td>30068466</td>\n      <td>OGIC</td>\n      <td>382621134</td>\n      <td>00024</td>\n      <td>NaN</td>\n      <td>NaN</td>\n      <td>NaN</td>\n      <td>NaN</td>\n      <td>NaN</td>\n      <td>NaN</td>\n    </tr>\n    <tr>\n      <th>14</th>\n      <td>67103</td>\n      <td>114846779</td>\n      <td>68466</td>\n      <td>30068466</td>\n      <td>6</td>\n      <td>1</td>\n      <td>2016-12-15T20:06:00</td>\n      <td>2016-11-29T20:06:00</td>\n      <td>Appartement 4 pièces</td>\n      <td>Appartement 4 pièces</td>\n      <td>...</td>\n      <td>30068466</td>\n      <td>OGIC</td>\n      <td>382621134</td>\n      <td>00024</td>\n      <td>NaN</td>\n      <td>NaN</td>\n      <td>NaN</td>\n      <td>NaN</td>\n      <td>NaN</td>\n      <td>NaN</td>\n    </tr>\n    <tr>\n      <th>15</th>\n      <td>17783</td>\n      <td>111034595</td>\n      <td>42892</td>\n      <td>231281</td>\n      <td>2</td>\n      <td>1</td>\n      <td>2016-11-25T17:32:45</td>\n      <td>2016-11-04T09:37:00</td>\n      <td>Appartement 3 pièces</td>\n      <td>T3 Croix Paquet</td>\n      <td>...</td>\n      <td>231281</td>\n      <td>ONIL TRANSACTIONS</td>\n      <td>452994668</td>\n      <td>00013</td>\n      <td>277</td>\n      <td>E</td>\n      <td>9</td>\n      <td>B</td>\n      <td>NaN</td>\n      <td>NaN</td>\n    </tr>\n    <tr>\n      <th>16</th>\n      <td>24680</td>\n      <td>112983375</td>\n      <td>55939</td>\n      <td>277242</td>\n      <td>2</td>\n      <td>9</td>\n      <td>2016-12-16T00:39:00</td>\n      <td>2016-09-28T13:49:00</td>\n      <td>Loft</td>\n      <td>Loft/Atelier/Surface</td>\n      <td>...</td>\n      <td>277242</td>\n      <td>BIC IMMOBILIER</td>\n      <td>385197488</td>\n      <td>00021</td>\n      <td>163</td>\n      <td>D</td>\n      <td>NaN</td>\n      <td>NaN</td>\n      <td>45</td>\n      <td>proximité place sathonay/quais</td>\n    </tr>\n    <tr>\n      <th>17</th>\n      <td>23883</td>\n      <td>114908405</td>\n      <td>47803</td>\n      <td>229441</td>\n      <td>2</td>\n      <td>1</td>\n      <td>2016-12-16T13:43:00</td>\n      <td>2016-12-01T12:06:00</td>\n      <td>Duplex 5 pièces</td>\n      <td>Appart. T5 duplex</td>\n      <td>...</td>\n      <td>229441</td>\n      <td>RHÔNE TRANSACTIONS</td>\n      <td>449732122</td>\n      <td>00014</td>\n      <td>109</td>\n      <td>C</td>\n      <td>25</td>\n      <td>D</td>\n      <td>46</td>\n      <td>Saint Vincent / Sathonay</td>\n    </tr>\n    <tr>\n      <th>18</th>\n      <td>131429</td>\n      <td>114888951</td>\n      <td>104711</td>\n      <td>516104</td>\n      <td>2</td>\n      <td>1</td>\n      <td>2016-12-10T00:06:00</td>\n      <td>2016-11-30T23:47:00</td>\n      <td>Appartement 6 pièces</td>\n      <td>Bel Appartement de 184 m² avec vue splendide</td>\n      <td>...</td>\n      <td>516104</td>\n      <td>ART'IMMO</td>\n      <td>534203716</td>\n      <td>NaN</td>\n      <td>NaN</td>\n      <td>NaN</td>\n      <td>NaN</td>\n      <td>NaN</td>\n      <td>NaN</td>\n      <td>NaN</td>\n    </tr>\n    <tr>\n      <th>19</th>\n      <td>108452</td>\n      <td>112978263</td>\n      <td>77178</td>\n      <td>407814</td>\n      <td>8</td>\n      <td>1</td>\n      <td>2016-12-14T01:10:00</td>\n      <td>2016-09-28T09:56:00</td>\n      <td>Appartement 6 pièces</td>\n      <td>Atelier avec terrasse</td>\n      <td>...</td>\n      <td>407814</td>\n      <td>IMMOBILIERE TERRASSES ET JARDINS</td>\n      <td>524019783</td>\n      <td>NaN</td>\n      <td>NaN</td>\n      <td>NaN</td>\n      <td>NaN</td>\n      <td>NaN</td>\n      <td>NaN</td>\n      <td>Chartreux</td>\n    </tr>\n  </tbody>\n</table>\n<p>20 rows × 57 columns</p>\n</div>"
     },
     "metadata": {},
     "execution_count": 11
    }
   ],
   "source": [
    "pd.io.json.json_normalize(df.data.apply(json.loads))"
   ]
  },
  {
   "cell_type": "code",
   "execution_count": null,
   "metadata": {},
   "outputs": [],
   "source": []
  }
 ],
 "metadata": {
  "language_info": {
   "codemirror_mode": {
    "name": "ipython",
    "version": 3
   },
   "file_extension": ".py",
   "mimetype": "text/x-python",
   "name": "python",
   "nbconvert_exporter": "python",
   "pygments_lexer": "ipython3",
   "version": "3.8.3-final"
  },
  "orig_nbformat": 2,
  "kernelspec": {
   "name": "python_defaultSpec_1594511603098",
   "display_name": "Python 3.8.3 64-bit"
  }
 },
 "nbformat": 4,
 "nbformat_minor": 2
}