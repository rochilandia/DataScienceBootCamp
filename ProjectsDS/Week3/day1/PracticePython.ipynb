{
 "cells": [
  {
   "cell_type": "markdown",
   "metadata": {},
   "source": [
    "### PracticePython - Org"
   ]
  },
  {
   "cell_type": "markdown",
   "metadata": {},
   "source": [
    "##Exercise 1 (and Solution)\n",
    "\n",
    "#Create a program that asks the user to enter their name and their age. Print out a message addressed to them that tells them the year that they will turn 100 years old."
   ]
  },
  {
   "cell_type": "code",
   "execution_count": 3,
   "metadata": {
    "tags": []
   },
   "outputs": [
    {
     "output_type": "stream",
     "name": "stdout",
     "text": "RochiIn 2079 you'll be 100 years old.\n"
    }
   ],
   "source": [
    "name = input(\"What's your name?\")\n",
    "age = input(\"How old are you?\")\n",
    "x = 100 - int(age)\n",
    "year = 2020 + x\n",
    "print(str(name) + \" in \" + str(year) + \" you'll be 100 years old.\")\n",
    "\n"
   ]
  },
  {
   "cell_type": "markdown",
   "metadata": {},
   "source": [
    "### Extras:\n",
    "\n",
    "Add on to the previous program by asking the user for another number and printing out that many copies of the previous message. (Hint: order of operations exists in Python)\n",
    "Print out that many copies of the previous message on separate lines. (Hint: the string \"\\n is the same as pressing the ENTER button)"
   ]
  },
  {
   "cell_type": "code",
   "execution_count": 13,
   "metadata": {
    "tags": []
   },
   "outputs": [
    {
     "output_type": "stream",
     "name": "stdout",
     "text": "Rochi in 2079 you'll be 100 years old.\n"
    }
   ],
   "source": [
    "name = input(\"What's your name?\")\n",
    "age = input(\"How old are you?\")\n",
    "x = 100 - int(age)\n",
    "year = 2020 + x\n",
    "\n",
    "print(str(name) + \" in \" + str(year) + \" you'll be 100 years old.\")\n"
   ]
  },
  {
   "cell_type": "code",
   "execution_count": 14,
   "metadata": {
    "tags": []
   },
   "outputs": [
    {
     "output_type": "stream",
     "name": "stdout",
     "text": "Rochi in 2079 you'll be 100 years old.\nRochi in 2079 you'll be 100 years old.\nRochi in 2079 you'll be 100 years old.\n"
    }
   ],
   "source": [
    "n = int(n = input(\"Enter any number\"))\n",
    "for i in range(x):\n",
    "    print(str(name) + \" in \" + str(year) + \" you'll be 100 years old.\")"
   ]
  },
  {
   "cell_type": "code",
   "execution_count": 12,
   "metadata": {},
   "outputs": [
    {
     "output_type": "execute_result",
     "data": {
      "text/plain": "'4444444'"
     },
     "metadata": {},
     "execution_count": 12
    }
   ],
   "source": [
    "x = \"4\"\n",
    "x*7"
   ]
  },
  {
   "cell_type": "code",
   "execution_count": 16,
   "metadata": {
    "tags": []
   },
   "outputs": [
    {
     "output_type": "stream",
     "name": "stdout",
     "text": "Rochi in 2079 you'll be 100 years old.\n"
    }
   ],
   "source": [
    "f = print(str(name) + \" in \" + str(year) + \" you'll be 100 years old.\")\n",
    "f\n"
   ]
  },
  {
   "cell_type": "code",
   "execution_count": 21,
   "metadata": {
    "tags": []
   },
   "outputs": [
    {
     "output_type": "stream",
     "name": "stdout",
     "text": "Rochi in 2079 you'll be 100 years old.\nRochi in 2079 you'll be 100 years old.\nRochi in 2079 you'll be 100 years old.\nRochi in 2079 you'll be 100 years old.\nRochi in 2079 you'll be 100 years old.\nRochi in 2079 you'll be 100 years old.\n\n"
    }
   ],
   "source": [
    "r =\"Rochi in 2079 you'll be 100 years old.\\n\"\n",
    "print(r*6)\n"
   ]
  },
  {
   "cell_type": "markdown",
   "metadata": {},
   "source": [
    "##Exercise 2 (and Solution)\n",
    "Ask the user for a number. Depending on whether the number is even or odd, print out an appropriate message to the user. \n",
    "\n",
    "#Hint: how does an even / odd number react differently when divided by 2?"
   ]
  },
  {
   "cell_type": "code",
   "execution_count": 45,
   "metadata": {
    "tags": []
   },
   "outputs": [
    {
     "output_type": "stream",
     "name": "stdout",
     "text": "Good job! You chose an even number\n"
    }
   ],
   "source": [
    "number = int(input(\"Enter a number: \"))\n",
    "\n",
    "def pares(choice):\n",
    "    if number %2 == 0:\n",
    "        print(\"Good job! You chose an even number\")\n",
    "    else:\n",
    "        print(\"Buuu. That's odd\")\n",
    "pares(choice=number)"
   ]
  },
  {
   "cell_type": "markdown",
   "metadata": {},
   "source": [
    "##Exercise 7 (and Solution)\n",
    "Let’s say I give you a list saved in a variable: a = [1, 4, 9, 16, 25, 36, 49, 64, 81, 100]. Write one line of Python that takes this list a and makes a new list that has only the even elements of this list in it."
   ]
  },
  {
   "cell_type": "code",
   "execution_count": 63,
   "metadata": {},
   "outputs": [],
   "source": [
    "a = [1, 4, 9, 16, 25, 36, 49, 64, 81, 100]"
   ]
  },
  {
   "cell_type": "code",
   "execution_count": 62,
   "metadata": {
    "tags": []
   },
   "outputs": [
    {
     "output_type": "error",
     "ename": "SyntaxError",
     "evalue": "invalid syntax (<ipython-input-62-eba6930f75ce>, line 1)",
     "traceback": [
      "\u001b[0;36m  File \u001b[0;32m\"<ipython-input-62-eba6930f75ce>\"\u001b[0;36m, line \u001b[0;32m1\u001b[0m\n\u001b[0;31m    print(n for n in a:[lambda a: a%2])\u001b[0m\n\u001b[0m                      ^\u001b[0m\n\u001b[0;31mSyntaxError\u001b[0m\u001b[0;31m:\u001b[0m invalid syntax\n"
     ]
    }
   ],
   "source": [
    "print(n for n in a:[lambda a: a%2]) "
   ]
  },
  {
   "cell_type": "code",
   "execution_count": 61,
   "metadata": {
    "tags": []
   },
   "outputs": [
    {
     "output_type": "stream",
     "name": "stdout",
     "text": "[4, 16, 36, 64, 100]\n"
    }
   ],
   "source": [
    "a = [1, 4, 9, 16, 25, 36, 49, 64, 81, 100]\n",
    "\n",
    "b = [elem for elem in a if elem % 2 == 0] \n",
    "print(b)"
   ]
  },
  {
   "cell_type": "markdown",
   "metadata": {},
   "source": [
    "##Exercise 14 (and Solution)\n",
    "Write a program (function!) that takes a list and returns a new list that contains all the elements of the first list minus all the duplicates."
   ]
  },
  {
   "cell_type": "code",
   "execution_count": 46,
   "metadata": {
    "tags": []
   },
   "outputs": [
    {
     "output_type": "stream",
     "name": "stdout",
     "text": "12\n"
    }
   ],
   "source": [
    "a = [\"perro\", \"gato\", \"delfin\", \"mono\", \"perro\", \"caballo\", \"vaca\", \"vaca\", \"mono\", \"jirafa\", \"cerdo\", \"caballo\"]\n",
    "\n",
    "print(len(a))"
   ]
  },
  {
   "cell_type": "code",
   "execution_count": 7,
   "metadata": {
    "tags": []
   },
   "outputs": [
    {
     "output_type": "stream",
     "name": "stdout",
     "text": "perro  repetido\ngato  repetido\ndelfin  repetido\nmono  repetido\nperro  repetido\ncaballo  repetido\nvaca  repetido\nvaca  repetido\nmono  repetido\njirafa  repetido\ncerdo  repetido\ncaballo  repetido\n"
    }
   ],
   "source": [
    "a = [\"perro\", \"gato\", \"delfin\", \"mono\", \"perro\", \"caballo\", \"vaca\", \"vaca\", \"mono\", \"jirafa\", \"cerdo\", \"caballo\"]\n",
    "b = []\n",
    "def nuevalista(sindup):\n",
    "    while elem in a:\n",
    "        if elem == elem:\n",
    "            print(elem, \" repetido\")\n",
    "        else:\n",
    "            b.append(elem)\n",
    "            print(b)\n",
    "\n",
    "nuevalista(sindup=b)"
   ]
  },
  {
   "cell_type": "code",
   "execution_count": 38,
   "metadata": {},
   "outputs": [
    {
     "output_type": "execute_result",
     "data": {
      "text/plain": "['perro', 'gato', 'delfin', 'mono', 'caballo', 'vaca', 'jirafa', 'cerdo']"
     },
     "metadata": {},
     "execution_count": 38
    }
   ],
   "source": [
    "a = [\"perro\", \"gato\", \"delfin\", \"mono\", \"perro\", \"caballo\", \"vaca\", \"vaca\", \"mono\", \"jirafa\", \"cerdo\", \"caballo\"]\n",
    "b = []\n",
    "\n",
    "def nuevalista(sindup):\n",
    "    acum = 0\n",
    "    while acum <= len(a) - 1:\n",
    "        if a[acum] not in b:\n",
    "            b.append(a[acum])\n",
    "        acum += 1\n",
    "    return b\n",
    "\n",
    "nuevalista(sindup=a)"
   ]
  },
  {
   "cell_type": "code",
   "execution_count": 40,
   "metadata": {},
   "outputs": [
    {
     "output_type": "execute_result",
     "data": {
      "text/plain": "['perro', 'gato', 'delfin', 'mono', 'caballo', 'vaca', 'jirafa', 'cerdo']"
     },
     "metadata": {},
     "execution_count": 40
    }
   ],
   "source": [
    "a = [\"perro\", \"gato\", \"delfin\", \"mono\", \"perro\", \"caballo\", \"vaca\", \"vaca\", \"mono\", \"jirafa\", \"cerdo\", \"caballo\"]\n",
    "\n",
    "def nuevalista(sindup):\n",
    "    b = []\n",
    "    for i in a:\n",
    "        if i not in b:\n",
    "            b.append(i)\n",
    "    return b\n",
    "\n",
    "nuevalista(sindup=b)\n"
   ]
  },
  {
   "cell_type": "markdown",
   "metadata": {},
   "source": [
    "##Extras:\n",
    "\n",
    "Write two different functions to do this - one using a loop and constructing a list, and another using sets.\n",
    "Go back and do Exercise 5 using sets, and write the solution for that in a different function."
   ]
  },
  {
   "cell_type": "code",
   "execution_count": 60,
   "metadata": {
    "tags": []
   },
   "outputs": [
    {
     "output_type": "execute_result",
     "data": {
      "text/plain": "['delfin', 'vaca', 'caballo', 'perro', 'mono', 'jirafa', 'cerdo', 'gato']"
     },
     "metadata": {},
     "execution_count": 60
    }
   ],
   "source": [
    "a = [\"perro\", \"gato\", \"delfin\", \"mono\", \"perro\", \"caballo\", \"vaca\", \"vaca\", \"mono\", \"jirafa\", \"cerdo\", \"caballo\"]\n",
    "b = []\n",
    "\n",
    "def nuevalista(sindup):    \n",
    "    return list(set(a))\n",
    "\n",
    "nuevalista(sindup=b)"
   ]
  },
  {
   "cell_type": "code",
   "execution_count": 35,
   "metadata": {
    "tags": []
   },
   "outputs": [
    {
     "output_type": "stream",
     "name": "stdout",
     "text": "[1, 2, 3, 4, 3, 2, 1]\n[1, 2, 3, 4]\n"
    }
   ],
   "source": [
    "def dedupe_v2(x):\n",
    "    return list(set(x))\n",
    "\n",
    "a = [1,2,3,4,3,2,1]\n",
    "print(a)\n",
    "print(dedupe_v2(a))"
   ]
  },
  {
   "cell_type": "code",
   "execution_count": 64,
   "metadata": {
    "tags": []
   },
   "outputs": [
    {
     "output_type": "stream",
     "name": "stdout",
     "text": "['Robin', 'Michele', 'Sara']\n"
    }
   ],
   "source": [
    "names = [\"Michele\", \"Robin\", \"Sara\", \"Michele\"]\n",
    "names = set(names)\n",
    "names = list(names)\n",
    "print(names)"
   ]
  },
  {
   "cell_type": "code",
   "execution_count": null,
   "metadata": {},
   "outputs": [],
   "source": []
  }
 ],
 "metadata": {
  "language_info": {
   "codemirror_mode": {
    "name": "ipython",
    "version": 3
   },
   "file_extension": ".py",
   "mimetype": "text/x-python",
   "name": "python",
   "nbconvert_exporter": "python",
   "pygments_lexer": "ipython3",
   "version": "3.7.6-final"
  },
  "orig_nbformat": 2,
  "kernelspec": {
   "name": "python3",
   "display_name": "Python 3"
  }
 },
 "nbformat": 4,
 "nbformat_minor": 2
}