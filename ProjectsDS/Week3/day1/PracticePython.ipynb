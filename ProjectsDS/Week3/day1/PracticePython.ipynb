{
 "cells": [
  {
   "cell_type": "markdown",
   "metadata": {},
   "source": [
    "### PracticePython - Org"
   ]
  },
  {
   "cell_type": "markdown",
   "metadata": {},
   "source": [
    "##Exercise 1 (and Solution)\n",
    "\n",
    "#Create a program that asks the user to enter their name and their age. Print out a message addressed to them that tells them the year that they will turn 100 years old."
   ]
  },
  {
   "cell_type": "code",
   "execution_count": 3,
   "metadata": {
    "tags": []
   },
   "outputs": [
    {
     "output_type": "stream",
     "name": "stdout",
     "text": "RochiIn 2079 you'll be 100 years old.\n"
    }
   ],
   "source": [
    "name = input(\"What's your name?\")\n",
    "age = input(\"How old are you?\")\n",
    "x = 100 - int(age)\n",
    "year = 2020 + x\n",
    "print(str(name) + \" in \" + str(year) + \" you'll be 100 years old.\")\n",
    "\n"
   ]
  },
  {
   "cell_type": "markdown",
   "metadata": {},
   "source": [
    "### Extras:\n",
    "\n",
    "Add on to the previous program by asking the user for another number and printing out that many copies of the previous message. (Hint: order of operations exists in Python)\n",
    "Print out that many copies of the previous message on separate lines. (Hint: the string \"\\n is the same as pressing the ENTER button)"
   ]
  },
  {
   "cell_type": "code",
   "execution_count": 13,
   "metadata": {
    "tags": []
   },
   "outputs": [
    {
     "output_type": "stream",
     "name": "stdout",
     "text": "Rochi in 2079 you'll be 100 years old.\n"
    }
   ],
   "source": [
    "name = input(\"What's your name?\")\n",
    "age = input(\"How old are you?\")\n",
    "x = 100 - int(age)\n",
    "year = 2020 + x\n",
    "\n",
    "print(str(name) + \" in \" + str(year) + \" you'll be 100 years old.\")\n"
   ]
  },
  {
   "cell_type": "code",
   "execution_count": 14,
   "metadata": {
    "tags": []
   },
   "outputs": [
    {
     "output_type": "stream",
     "name": "stdout",
     "text": "Rochi in 2079 you'll be 100 years old.\nRochi in 2079 you'll be 100 years old.\nRochi in 2079 you'll be 100 years old.\n"
    }
   ],
   "source": [
    "n = int(n = input(\"Enter any number\"))\n",
    "for i in range(x):\n",
    "    print(str(name) + \" in \" + str(year) + \" you'll be 100 years old.\")"
   ]
  },
  {
   "cell_type": "code",
   "execution_count": 12,
   "metadata": {},
   "outputs": [
    {
     "output_type": "execute_result",
     "data": {
      "text/plain": "'4444444'"
     },
     "metadata": {},
     "execution_count": 12
    }
   ],
   "source": [
    "x = \"4\"\n",
    "x*7"
   ]
  },
  {
   "cell_type": "code",
   "execution_count": 16,
   "metadata": {
    "tags": []
   },
   "outputs": [
    {
     "output_type": "stream",
     "name": "stdout",
     "text": "Rochi in 2079 you'll be 100 years old.\n"
    }
   ],
   "source": [
    "f = print(str(name) + \" in \" + str(year) + \" you'll be 100 years old.\")\n",
    "f\n"
   ]
  },
  {
   "cell_type": "code",
   "execution_count": 21,
   "metadata": {
    "tags": []
   },
   "outputs": [
    {
     "output_type": "stream",
     "name": "stdout",
     "text": "Rochi in 2079 you'll be 100 years old.\nRochi in 2079 you'll be 100 years old.\nRochi in 2079 you'll be 100 years old.\nRochi in 2079 you'll be 100 years old.\nRochi in 2079 you'll be 100 years old.\nRochi in 2079 you'll be 100 years old.\n\n"
    }
   ],
   "source": [
    "r =\"Rochi in 2079 you'll be 100 years old.\\n\"\n",
    "print(r*6)\n"
   ]
  },
  {
   "cell_type": "markdown",
   "metadata": {},
   "source": [
    "##Exercise 2 (and Solution)\n",
    "Ask the user for a number. Depending on whether the number is even or odd, print out an appropriate message to the user. \n",
    "\n",
    "#Hint: how does an even / odd number react differently when divided by 2?"
   ]
  },
  {
   "cell_type": "code",
   "execution_count": 45,
   "metadata": {
    "tags": []
   },
   "outputs": [
    {
     "output_type": "stream",
     "name": "stdout",
     "text": "Good job! You chose an even number\n"
    }
   ],
   "source": [
    "number = int(input(\"Enter a number: \"))\n",
    "\n",
    "def pares(choice):\n",
    "    if number %2 == 0:\n",
    "        print(\"Good job! You chose an even number\")\n",
    "    else:\n",
    "        print(\"Buuu. That's odd\")\n",
    "pares(choice=number)"
   ]
  },
  {
   "cell_type": "markdown",
   "metadata": {},
   "source": [
    "##Exercise 7 (and Solution)\n",
    "Let’s say I give you a list saved in a variable: a = [1, 4, 9, 16, 25, 36, 49, 64, 81, 100]. Write one line of Python that takes this list a and makes a new list that has only the even elements of this list in it."
   ]
  },
  {
   "cell_type": "code",
   "execution_count": 63,
   "metadata": {},
   "outputs": [],
   "source": [
    "a = [1, 4, 9, 16, 25, 36, 49, 64, 81, 100]"
   ]
  },
  {
   "cell_type": "code",
   "execution_count": 62,
   "metadata": {
    "tags": []
   },
   "outputs": [
    {
     "output_type": "error",
     "ename": "SyntaxError",
     "evalue": "invalid syntax (<ipython-input-62-eba6930f75ce>, line 1)",
     "traceback": [
      "\u001b[0;36m  File \u001b[0;32m\"<ipython-input-62-eba6930f75ce>\"\u001b[0;36m, line \u001b[0;32m1\u001b[0m\n\u001b[0;31m    print(n for n in a:[lambda a: a%2])\u001b[0m\n\u001b[0m                      ^\u001b[0m\n\u001b[0;31mSyntaxError\u001b[0m\u001b[0;31m:\u001b[0m invalid syntax\n"
     ]
    }
   ],
   "source": [
    "print(n for n in a:[lambda a: a%2]) "
   ]
  },
  {
   "cell_type": "code",
   "execution_count": 61,
   "metadata": {
    "tags": []
   },
   "outputs": [
    {
     "output_type": "stream",
     "name": "stdout",
     "text": "[4, 16, 36, 64, 100]\n"
    }
   ],
   "source": [
    "a = [1, 4, 9, 16, 25, 36, 49, 64, 81, 100]\n",
    "\n",
    "b = [elem for elem in a if elem % 2 == 0] \n",
    "print(b)"
   ]
  },
  {
   "cell_type": "markdown",
   "metadata": {},
   "source": [
    "##Exercise 14 (and Solution)\n",
    "Write a program (function!) that takes a list and returns a new list that contains all the elements of the first list minus all the duplicates."
   ]
  },
  {
   "cell_type": "code",
   "execution_count": 46,
   "metadata": {
    "tags": []
   },
   "outputs": [
    {
     "output_type": "stream",
     "name": "stdout",
     "text": "12\n"
    }
   ],
   "source": [
    "a = [\"perro\", \"gato\", \"delfin\", \"mono\", \"perro\", \"caballo\", \"vaca\", \"vaca\", \"mono\", \"jirafa\", \"cerdo\", \"caballo\"]\n",
    "\n",
    "print(len(a))"
   ]
  },
  {
   "cell_type": "code",
   "execution_count": 7,
   "metadata": {
    "tags": []
   },
   "outputs": [
    {
     "output_type": "stream",
     "name": "stdout",
     "text": "perro  repetido\ngato  repetido\ndelfin  repetido\nmono  repetido\nperro  repetido\ncaballo  repetido\nvaca  repetido\nvaca  repetido\nmono  repetido\njirafa  repetido\ncerdo  repetido\ncaballo  repetido\n"
    }
   ],
   "source": [
    "a = [\"perro\", \"gato\", \"delfin\", \"mono\", \"perro\", \"caballo\", \"vaca\", \"vaca\", \"mono\", \"jirafa\", \"cerdo\", \"caballo\"]\n",
    "b = []\n",
    "def nuevalista(sindup):\n",
    "    while elem in a:\n",
    "        if elem == elem:\n",
    "            print(elem, \" repetido\")\n",
    "        else:\n",
    "            b.append(elem)\n",
    "            print(b)\n",
    "\n",
    "nuevalista(sindup=b)"
   ]
  },
  {
   "cell_type": "code",
   "execution_count": 38,
   "metadata": {},
   "outputs": [
    {
     "output_type": "execute_result",
     "data": {
      "text/plain": "['perro', 'gato', 'delfin', 'mono', 'caballo', 'vaca', 'jirafa', 'cerdo']"
     },
     "metadata": {},
     "execution_count": 38
    }
   ],
   "source": [
    "a = [\"perro\", \"gato\", \"delfin\", \"mono\", \"perro\", \"caballo\", \"vaca\", \"vaca\", \"mono\", \"jirafa\", \"cerdo\", \"caballo\"]\n",
    "b = []\n",
    "\n",
    "def nuevalista(sindup):\n",
    "    acum = 0\n",
    "    while acum <= len(a) - 1:\n",
    "        if a[acum] not in b:\n",
    "            b.append(a[acum])\n",
    "        acum += 1\n",
    "    return b\n",
    "\n",
    "nuevalista(sindup=a)"
   ]
  },
  {
   "cell_type": "code",
   "execution_count": 40,
   "metadata": {},
   "outputs": [
    {
     "output_type": "execute_result",
     "data": {
      "text/plain": "['perro', 'gato', 'delfin', 'mono', 'caballo', 'vaca', 'jirafa', 'cerdo']"
     },
     "metadata": {},
     "execution_count": 40
    }
   ],
   "source": [
    "a = [\"perro\", \"gato\", \"delfin\", \"mono\", \"perro\", \"caballo\", \"vaca\", \"vaca\", \"mono\", \"jirafa\", \"cerdo\", \"caballo\"]\n",
    "\n",
    "def nuevalista(sindup):\n",
    "    b = []\n",
    "    for i in a:\n",
    "        if i not in b:\n",
    "            b.append(i)\n",
    "    return b\n",
    "\n",
    "nuevalista(sindup=b)\n"
   ]
  },
  {
   "cell_type": "markdown",
   "metadata": {},
   "source": [
    "##Extras:\n",
    "\n",
    "Write two different functions to do this - one using a loop and constructing a list, and another using sets.\n",
    "Go back and do Exercise 5 using sets, and write the solution for that in a different function."
   ]
  },
  {
   "cell_type": "code",
   "execution_count": 60,
   "metadata": {
    "tags": []
   },
   "outputs": [
    {
     "output_type": "execute_result",
     "data": {
      "text/plain": "['delfin', 'vaca', 'caballo', 'perro', 'mono', 'jirafa', 'cerdo', 'gato']"
     },
     "metadata": {},
     "execution_count": 60
    }
   ],
   "source": [
    "a = [\"perro\", \"gato\", \"delfin\", \"mono\", \"perro\", \"caballo\", \"vaca\", \"vaca\", \"mono\", \"jirafa\", \"cerdo\", \"caballo\"]\n",
    "b = []\n",
    "\n",
    "def nuevalista(sindup):    \n",
    "    return list(set(a))\n",
    "\n",
    "nuevalista(sindup=b)"
   ]
  },
  {
   "cell_type": "code",
   "execution_count": null,
   "metadata": {},
   "outputs": [],
   "source": [
    "## Welcome to the Cows and Bulls Game! \n",
    "  Enter a number: \n",
    "  >>> 1234\n",
    "  2 cows, 0 bulls\n",
    "  >>> 1256\n",
    "  1 cow, 1 bull"
   ]
  },
  {
   "cell_type": "code",
   "execution_count": 96,
   "metadata": {
    "tags": []
   },
   "outputs": [
    {
     "output_type": "stream",
     "name": "stdout",
     "text": "Cows:  1\nBulls:  1\n"
    }
   ],
   "source": [
    "number = \"1038\"\n",
    "answer = \"1253\"\n",
    "##answer = input(\"Insert a number:\")\n",
    "\n",
    "bulls_acum = 0\n",
    "cows_acum = 0\n",
    "\n",
    "while cows_acum < 4\n",
    "    answer = input (\"Insert a 4 digit number. If you want to quit the game, insert \"STOP\".\")\n",
    "\n",
    "    for pos, num in enumerate(number):\n",
    "        if num == answer[pos]:\n",
    "            cows_acum += 1\n",
    "        elif num in answer:\n",
    "            bulls_acum += 1\n",
    "    if not cows_acum and not bulls_acum:\n",
    "        print(\"Sorry. No cows or bulls.\")\n",
    "\n",
    "print(\"Cows: \", cows_acum)\n",
    "print(\"Bulls: \", bulls_acum)\n"
   ]
  },
  {
   "cell_type": "code",
   "execution_count": 90,
   "metadata": {
    "tags": []
   },
   "outputs": [
    {
     "output_type": "stream",
     "name": "stdout",
     "text": "Lo contiene\n"
    }
   ],
   "source": [
    "##para lo toros (bulls)\n",
    "\n",
    "x = \"1234\"\n",
    "if \"1\" in x:\n",
    "    print(\"Lo contiene\")\n"
   ]
  },
  {
   "cell_type": "code",
   "execution_count": 35,
   "metadata": {
    "tags": []
   },
   "outputs": [
    {
     "output_type": "stream",
     "name": "stdout",
     "text": "[1, 2, 3, 4, 3, 2, 1]\n[1, 2, 3, 4]\n"
    }
   ],
   "source": [
    "def dedupe_v2(x):\n",
    "    return list(set(x))\n",
    "\n",
    "a = [1,2,3,4,3,2,1]\n",
    "print(a)\n",
    "print(dedupe_v2(a))"
   ]
  },
  {
   "cell_type": "code",
   "execution_count": 64,
   "metadata": {
    "tags": []
   },
   "outputs": [
    {
     "output_type": "stream",
     "name": "stdout",
     "text": "['Robin', 'Michele', 'Sara']\n"
    }
   ],
   "source": [
    "names = [\"Michele\", \"Robin\", \"Sara\", \"Michele\"]\n",
    "names = set(names)\n",
    "names = list(names)\n",
    "print(names)"
   ]
  },
  {
   "cell_type": "code",
   "execution_count": 7,
   "metadata": {},
   "outputs": [
    {
     "output_type": "execute_result",
     "data": {
      "text/plain": "{0: 4, 1: 3, 2: 2, 3: 1, 4: 0}"
     },
     "metadata": {},
     "execution_count": 7
    }
   ],
   "source": [
    "mapping = dict(zip(range(5), reversed(range(5))))\n",
    "mapping\n"
   ]
  },
  {
   "cell_type": "code",
   "execution_count": 60,
   "metadata": {},
   "outputs": [],
   "source": [
    "some_dict = {0: 4, 1: 3, \"telefono\": 64023, 3: 1, 4: 0}\n"
   ]
  },
  {
   "cell_type": "code",
   "execution_count": 61,
   "metadata": {},
   "outputs": [
    {
     "output_type": "execute_result",
     "data": {
      "text/plain": "64023"
     },
     "metadata": {},
     "execution_count": 61
    }
   ],
   "source": [
    "value = some_dict.get(\"telefono\", 9056)\n",
    "value"
   ]
  },
  {
   "cell_type": "code",
   "execution_count": 18,
   "metadata": {},
   "outputs": [],
   "source": [
    "k_list = ['a', 'b', 7]\n",
    "v_list = ['some value', [1, 2, 3, 4], 'an integer']"
   ]
  },
  {
   "cell_type": "code",
   "execution_count": 21,
   "metadata": {
    "tags": []
   },
   "outputs": [
    {
     "output_type": "stream",
     "name": "stdout",
     "text": "<class 'dict'>\n"
    }
   ],
   "source": [
    "mapping = {}\n",
    "for k, v in zip(k_list, v_list):\n",
    "    mapping[k] = v\n"
   ]
  },
  {
   "cell_type": "code",
   "execution_count": 48,
   "metadata": {},
   "outputs": [
    {
     "output_type": "execute_result",
     "data": {
      "text/plain": "{'a': ['apple', 'atom'], 'b': ['bat', 'bar', 'book']}"
     },
     "metadata": {},
     "execution_count": 48
    }
   ],
   "source": [
    "words = ['apple', 'bat', 'bar', 'atom', 'book']\n",
    "by_letter = {}\n",
    "    \n",
    "for word in words:\n",
    "    letter = word[0]\n",
    "    if letter not in by_letter:\n",
    "        by_letter[letter] = [word]\n",
    "    else: \n",
    "        by_letter[letter].append(word)\n",
    "\n",
    "by_letter"
   ]
  },
  {
   "cell_type": "code",
   "execution_count": 50,
   "metadata": {},
   "outputs": [
    {
     "output_type": "execute_result",
     "data": {
      "text/plain": "{'a': ['apple', 'atom', 'apple', 'atom'],\n 'b': ['bat', 'bar', 'book', 'bat', 'bar', 'book']}"
     },
     "metadata": {},
     "execution_count": 50
    }
   ],
   "source": [
    "for word in words:\n",
    "    letter = word[0]\n",
    "    by_letter.setdefault(letter,[]).append(word)\n",
    "\n",
    "by_letter"
   ]
  },
  {
   "cell_type": "code",
   "execution_count": 54,
   "metadata": {},
   "outputs": [
    {
     "output_type": "execute_result",
     "data": {
      "text/plain": "3593915786120885642"
     },
     "metadata": {},
     "execution_count": 54
    }
   ],
   "source": [
    "hash('string')"
   ]
  },
  {
   "cell_type": "code",
   "execution_count": 63,
   "metadata": {},
   "outputs": [
    {
     "output_type": "execute_result",
     "data": {
      "text/plain": "2"
     },
     "metadata": {},
     "execution_count": 63
    }
   ],
   "source": [
    "hash(2)"
   ]
  },
  {
   "cell_type": "code",
   "execution_count": 65,
   "metadata": {},
   "outputs": [
    {
     "output_type": "execute_result",
     "data": {
      "text/plain": "-2141743049507838393"
     },
     "metadata": {},
     "execution_count": 65
    }
   ],
   "source": [
    "hash((2,5,7,8))"
   ]
  },
  {
   "cell_type": "code",
   "execution_count": null,
   "metadata": {},
   "outputs": [],
   "source": [
    "result = []\n",
    "for val in collection:\n",
    "    if condition:\n",
    "        result.append(expr)"
   ]
  },
  {
   "cell_type": "code",
   "execution_count": 69,
   "metadata": {},
   "outputs": [
    {
     "output_type": "execute_result",
     "data": {
      "text/plain": "['BAT', 'CAR', 'DOVE', 'PYTHON']"
     },
     "metadata": {},
     "execution_count": 69
    }
   ],
   "source": [
    "strings = ['a', 'as', 'bat', 'car', 'dove', 'python']\n",
    "\n",
    "[x.upper() for x in strings if len(x) > 2]"
   ]
  },
  {
   "cell_type": "code",
   "execution_count": 73,
   "metadata": {},
   "outputs": [
    {
     "output_type": "execute_result",
     "data": {
      "text/plain": "['Steven']"
     },
     "metadata": {},
     "execution_count": 73
    }
   ],
   "source": [
    "all_data = [['John', 'Emily', 'Michael', 'Mary', 'Steven'], ['Maria', 'Juan', 'Javier', 'Natalia', 'Pilar']]\n",
    "\n",
    "names_of_interest = []\n",
    "for names in all_data:\n",
    "    enough_es = [name for name in names if name.count('e') >= 2]\n",
    "    names_of_interest.extend(enough_es)\n",
    "\n",
    "names_of_interest"
   ]
  },
  {
   "cell_type": "code",
   "execution_count": 75,
   "metadata": {},
   "outputs": [
    {
     "output_type": "execute_result",
     "data": {
      "text/plain": "['Steven']"
     },
     "metadata": {},
     "execution_count": 75
    }
   ],
   "source": [
    "result = [name for names in all_data for name in names if name.count('e') >= 2]\n",
    "result"
   ]
  },
  {
   "cell_type": "code",
   "execution_count": 78,
   "metadata": {},
   "outputs": [
    {
     "output_type": "execute_result",
     "data": {
      "text/plain": "12.0"
     },
     "metadata": {},
     "execution_count": 78
    }
   ],
   "source": [
    "def my_function(x, y, z=1.5):\n",
    "    if z > 1:\n",
    "        return z * (x + y)\n",
    "    else:\n",
    "        return z / (x + y)\n",
    "\n",
    "h = my_function(x=3, y=5)\n",
    "h"
   ]
  },
  {
   "cell_type": "code",
   "execution_count": 79,
   "metadata": {},
   "outputs": [
    {
     "output_type": "execute_result",
     "data": {
      "text/plain": "'something'"
     },
     "metadata": {},
     "execution_count": 79
    }
   ],
   "source": [
    "def attempt_float(x):\n",
    "    try:\n",
    "        return float(x)\n",
    "    except:\n",
    "        return x\n",
    "\n",
    "attempt_float('1.2345')\n",
    "attempt_float('something')"
   ]
  },
  {
   "cell_type": "code",
   "execution_count": 80,
   "metadata": {},
   "outputs": [
    {
     "output_type": "error",
     "ename": "NameError",
     "evalue": "name 'path' is not defined",
     "traceback": [
      "\u001b[0;31m---------------------------------------------------------------------------\u001b[0m",
      "\u001b[0;31mNameError\u001b[0m                                 Traceback (most recent call last)",
      "\u001b[0;32m<ipython-input-80-ad39e4e9af78>\u001b[0m in \u001b[0;36m<module>\u001b[0;34m\u001b[0m\n\u001b[0;32m----> 1\u001b[0;31m \u001b[0mf\u001b[0m \u001b[0;34m=\u001b[0m \u001b[0mopen\u001b[0m\u001b[0;34m(\u001b[0m\u001b[0mpath\u001b[0m\u001b[0;34m,\u001b[0m \u001b[0;34m'w'\u001b[0m\u001b[0;34m)\u001b[0m\u001b[0;34m\u001b[0m\u001b[0;34m\u001b[0m\u001b[0m\n\u001b[0m\u001b[1;32m      2\u001b[0m \u001b[0;34m\u001b[0m\u001b[0m\n\u001b[1;32m      3\u001b[0m \u001b[0;32mtry\u001b[0m\u001b[0;34m:\u001b[0m\u001b[0;34m\u001b[0m\u001b[0;34m\u001b[0m\u001b[0m\n\u001b[1;32m      4\u001b[0m     \u001b[0mwrite_to_file\u001b[0m\u001b[0;34m(\u001b[0m\u001b[0mf\u001b[0m\u001b[0;34m)\u001b[0m\u001b[0;34m\u001b[0m\u001b[0;34m\u001b[0m\u001b[0m\n\u001b[1;32m      5\u001b[0m \u001b[0;32mexcept\u001b[0m\u001b[0;34m:\u001b[0m\u001b[0;34m\u001b[0m\u001b[0;34m\u001b[0m\u001b[0m\n",
      "\u001b[0;31mNameError\u001b[0m: name 'path' is not defined"
     ]
    }
   ],
   "source": [
    "f = open(path, 'w')\n",
    "\n",
    "try:\n",
    "    write_to_file(f)\n",
    "except:\n",
    "    print('Failed')\n",
    "else:\n",
    "    print('Succeeded')\n",
    "finally:\n",
    "    f.close()"
   ]
  },
  {
   "cell_type": "code",
   "execution_count": 89,
   "metadata": {},
   "outputs": [],
   "source": [
    "import numpy as np\n",
    "np.bincount\n",
    "#from numpy import array, arange"
   ]
  },
  {
   "cell_type": "code",
   "execution_count": 87,
   "metadata": {},
   "outputs": [
    {
     "output_type": "execute_result",
     "data": {
      "text/plain": "array(['Bob', 'Joe', 'Will', 'Bob', 'Will', 'Joe', 'Joe'], dtype='<U4')"
     },
     "metadata": {},
     "execution_count": 87
    }
   ],
   "source": [
    "names = np.array(['Bob', 'Joe', 'Will', 'Bob', 'Will', 'Joe', 'Joe'])\n",
    "data = np.random.randn(7, 4)\n",
    "names"
   ]
  },
  {
   "cell_type": "code",
   "execution_count": 97,
   "metadata": {},
   "outputs": [],
   "source": [
    "##inheritance\n",
    "\n",
    "class LivingBeing():\n",
    "    \"\"\"Father/Mother class\"\"\"\n",
    "    def __init__(self, species, born_date, procreate_ability=True, aging_disease=True):\n",
    "        self.is_living = True\n",
    "        self.species = species\n",
    "        self.procreate_ability = procreate_ability\n",
    "        self.aging_disease = aging_disease\n",
    "        self.born_date = born_date\n",
    "    \n",
    "    def living_being_function(self):\n",
    "        print(\"I'M A LIVING BEING!\")\n"
   ]
  },
  {
   "cell_type": "code",
   "execution_count": 100,
   "metadata": {
    "tags": []
   },
   "outputs": [
    {
     "output_type": "stream",
     "name": "stdout",
     "text": "Humano\n"
    }
   ],
   "source": [
    "Rochi = LivingBeing(species=\"Humano\", born_date=\"30/11/1978\")\n",
    "print(Rochi.species)"
   ]
  },
  {
   "cell_type": "code",
   "execution_count": null,
   "metadata": {},
   "outputs": [],
   "source": [
    "class Human(LivingBeing):\n",
    "    \"\"\"Children class\"\"\"\n",
    "    ##Humano v a atener todos los atributos de la clase de Padre/Madre/ Incluido la funcion.LivingBeing.\n",
    "    ##agrega nuevos atributos.\n",
    "    "
   ]
  },
  {
   "cell_type": "code",
   "execution_count": 3,
   "metadata": {},
   "outputs": [
    {
     "output_type": "execute_result",
     "data": {
      "text/plain": "array([[0., 0., 0., 0.],\n       [1., 1., 1., 1.],\n       [2., 2., 2., 2.],\n       [3., 3., 3., 3.],\n       [4., 4., 4., 4.],\n       [5., 5., 5., 5.],\n       [6., 6., 6., 6.],\n       [7., 7., 7., 7.]])"
     },
     "metadata": {},
     "execution_count": 3
    }
   ],
   "source": [
    "import numpy as np\n",
    "arr = np.empty((8, 4)) \n",
    "for i in range(8):\n",
    "    arr[i] = i\n",
    "arr\n"
   ]
  },
  {
   "cell_type": "code",
   "execution_count": 7,
   "metadata": {},
   "outputs": [
    {
     "output_type": "execute_result",
     "data": {
      "text/plain": "array([[ 0,  8, 16, 24],\n       [ 1,  9, 17, 25],\n       [ 2, 10, 18, 26],\n       [ 3, 11, 19, 27],\n       [ 4, 12, 20, 28],\n       [ 5, 13, 21, 29],\n       [ 6, 14, 22, 30],\n       [ 7, 15, 23, 31]])"
     },
     "metadata": {},
     "execution_count": 7
    }
   ],
   "source": [
    "arr.T"
   ]
  },
  {
   "cell_type": "code",
   "execution_count": 9,
   "metadata": {},
   "outputs": [
    {
     "output_type": "execute_result",
     "data": {
      "text/plain": "array([[-1.23403839,  0.9386931 ,  1.02026948],\n       [-0.92818565, -0.10321826,  0.51637164],\n       [ 0.03159333,  0.61261155, -1.40370071],\n       [-1.37287969, -1.78695471, -0.60442018],\n       [ 1.97175846,  1.42325215, -1.3820494 ],\n       [-1.71508409,  0.84689017,  0.13355363]])"
     },
     "metadata": {},
     "execution_count": 9
    }
   ],
   "source": [
    "arr = np.random.randn(6, 3)\n",
    "arr"
   ]
  },
  {
   "cell_type": "code",
   "execution_count": 20,
   "metadata": {},
   "outputs": [
    {
     "output_type": "error",
     "ename": "AxisError",
     "evalue": "axis1: axis 3 is out of bounds for array of dimension 2",
     "traceback": [
      "\u001b[0;31m---------------------------------------------------------------------------\u001b[0m",
      "\u001b[0;31mAxisError\u001b[0m                                 Traceback (most recent call last)",
      "\u001b[0;32m<ipython-input-20-269b8f9ba916>\u001b[0m in \u001b[0;36m<module>\u001b[0;34m\u001b[0m\n\u001b[0;32m----> 1\u001b[0;31m \u001b[0marr\u001b[0m\u001b[0;34m.\u001b[0m\u001b[0mswapaxes\u001b[0m\u001b[0;34m(\u001b[0m\u001b[0;36m3\u001b[0m\u001b[0;34m,\u001b[0m \u001b[0;36m3\u001b[0m\u001b[0;34m)\u001b[0m\u001b[0;34m\u001b[0m\u001b[0;34m\u001b[0m\u001b[0m\n\u001b[0m\u001b[1;32m      2\u001b[0m \u001b[0marr\u001b[0m\u001b[0;34m\u001b[0m\u001b[0;34m\u001b[0m\u001b[0m\n",
      "\u001b[0;31mAxisError\u001b[0m: axis1: axis 3 is out of bounds for array of dimension 2"
     ]
    }
   ],
   "source": [
    "arr.swapaxes(6, 3)\n",
    "arr"
   ]
  },
  {
   "cell_type": "code",
   "execution_count": 10,
   "metadata": {},
   "outputs": [
    {
     "output_type": "execute_result",
     "data": {
      "text/plain": "array([[11.09952096,  2.76387227, -3.90701514],\n       [ 2.76387227,  7.20316844, -0.72933038],\n       [-3.90701514, -0.72933038,  5.57118605]])"
     },
     "metadata": {},
     "execution_count": 10
    }
   ],
   "source": [
    "np.dot(arr.T, arr)\n",
    "\n",
    "##Simple transposing with .T is a special case of swapping axes. ndarray has the method swapaxes, which takes a pair of axis numbers and switches the indicated axes to rearrange the data:"
   ]
  },
  {
   "cell_type": "code",
   "execution_count": 21,
   "metadata": {
    "tags": []
   },
   "outputs": [
    {
     "output_type": "stream",
     "name": "stdout",
     "text": "[-1.59671762 -0.66691994  1.99884972 -1.28173016  1.00244853 -0.71749598\n  1.78449104 -0.30028592]\n[ 1.91810047  1.78312603  0.76169595 -0.71059951  1.8672342   1.13526498\n  0.54972545  0.16678675]\n"
    }
   ],
   "source": [
    "x = np.random.randn(8)\n",
    "y = np.random.randn(8)\n",
    "print(x)\n",
    "print(y)"
   ]
  },
  {
   "cell_type": "code",
   "execution_count": 22,
   "metadata": {},
   "outputs": [
    {
     "output_type": "execute_result",
     "data": {
      "text/plain": "array([ 1.91810047,  1.78312603,  1.99884972, -0.71059951,  1.8672342 ,\n        1.13526498,  1.78449104,  0.16678675])"
     },
     "metadata": {},
     "execution_count": 22
    }
   ],
   "source": [
    "np.maximum(x, y)"
   ]
  },
  {
   "cell_type": "code",
   "execution_count": 23,
   "metadata": {},
   "outputs": [
    {
     "output_type": "execute_result",
     "data": {
      "text/plain": "array([ 0.47143516, -1.19097569,  1.43270697, -0.3126519 , -0.72058873,\n        0.88716294,  0.85958841, -0.6365235 ,  0.01569637, -2.24268495])"
     },
     "metadata": {},
     "execution_count": 23
    }
   ],
   "source": [
    "rng = np.random.RandomState(1234)\n",
    "rng.randn(10)\n"
   ]
  },
  {
   "cell_type": "code",
   "execution_count": 28,
   "metadata": {
    "tags": []
   },
   "outputs": [
    {
     "output_type": "stream",
     "name": "stdout",
     "text": "28\n"
    }
   ],
   "source": [
    "import random\n",
    "position = 0\n",
    "walk = [position]\n",
    "steps = 1000\n",
    "for i in range(steps):\n",
    "    step = 1 if random.randint(0, 1) else -1\n",
    "    position += step\n",
    "    walk.append(position)\n",
    "    \n",
    "print(position)"
   ]
  },
  {
   "cell_type": "code",
   "execution_count": 31,
   "metadata": {
    "tags": []
   },
   "outputs": [
    {
     "output_type": "stream",
     "name": "stdout",
     "text": "[-1 -1 -1 -1 -1 -1 -1 -1 -1 -1 -1 -1  1  1  1  1 -1  1  1  1  1 -1 -1 -1\n  1 -1 -1 -1 -1  1  1  1 -1 -1 -1  1 -1  1  1 -1  1 -1  1  1  1  1  1 -1\n  1  1  1  1 -1  1  1  1  1  1 -1  1 -1 -1  1 -1  1 -1  1  1 -1 -1  1  1\n -1 -1 -1 -1 -1  1  1 -1  1  1  1 -1  1  1  1 -1 -1 -1  1 -1 -1  1  1  1\n  1  1 -1 -1  1 -1 -1  1 -1 -1  1  1 -1  1  1 -1  1  1  1  1  1 -1 -1  1\n -1  1 -1 -1  1 -1 -1 -1  1  1  1  1 -1 -1 -1 -1 -1 -1  1 -1  1 -1  1 -1\n  1 -1  1  1 -1  1  1 -1 -1  1  1 -1 -1 -1  1  1 -1 -1 -1  1 -1 -1 -1 -1\n  1 -1  1 -1 -1 -1 -1 -1 -1 -1  1 -1  1 -1  1 -1 -1 -1  1  1 -1  1 -1  1\n -1  1  1 -1  1  1  1  1 -1 -1 -1  1 -1 -1  1 -1  1 -1 -1  1  1  1  1 -1\n  1 -1  1 -1 -1 -1  1  1  1 -1  1  1 -1 -1 -1 -1  1 -1  1  1 -1 -1  1 -1\n -1  1  1  1 -1  1 -1 -1  1  1 -1 -1 -1 -1  1  1  1 -1 -1  1 -1 -1  1 -1\n -1 -1 -1 -1 -1  1 -1 -1  1 -1 -1  1  1  1  1  1  1 -1  1 -1  1 -1  1  1\n  1 -1 -1 -1  1 -1 -1 -1  1  1 -1 -1  1 -1 -1 -1  1  1 -1 -1  1 -1 -1  1\n -1 -1  1 -1  1  1  1 -1  1  1  1 -1 -1 -1 -1 -1 -1  1 -1 -1  1 -1  1 -1\n -1 -1  1 -1 -1 -1  1 -1 -1 -1  1  1 -1 -1  1 -1  1  1  1  1  1 -1  1 -1\n  1  1  1  1 -1  1  1 -1 -1 -1 -1 -1 -1 -1  1  1 -1 -1 -1  1 -1  1  1 -1\n -1 -1  1  1  1  1 -1  1 -1 -1  1  1 -1  1 -1  1  1 -1  1  1 -1  1  1  1\n  1  1 -1  1 -1  1  1  1  1 -1 -1 -1  1  1  1 -1  1 -1 -1  1 -1 -1  1 -1\n -1  1  1  1  1  1  1  1  1 -1  1  1 -1  1  1  1 -1 -1  1 -1  1 -1 -1  1\n -1  1  1  1  1  1 -1 -1  1  1  1  1 -1  1  1 -1 -1 -1 -1  1 -1 -1 -1 -1\n  1  1  1  1  1  1 -1 -1  1 -1  1 -1 -1 -1 -1  1  1  1  1  1 -1 -1  1  1\n  1 -1 -1  1  1  1  1 -1 -1  1 -1 -1 -1 -1 -1  1  1 -1  1  1  1  1  1  1\n  1 -1  1  1  1  1  1  1 -1 -1 -1 -1 -1  1 -1 -1 -1  1 -1  1 -1  1  1 -1\n -1 -1  1 -1 -1 -1  1 -1  1  1 -1  1  1  1 -1 -1  1 -1 -1 -1  1 -1 -1 -1\n  1  1  1  1 -1 -1  1  1 -1  1  1  1 -1  1  1 -1 -1 -1  1 -1 -1  1  1  1\n -1 -1 -1  1  1  1 -1  1  1  1  1  1 -1  1 -1  1 -1 -1  1  1 -1 -1  1  1\n -1  1  1  1 -1  1  1  1 -1  1 -1 -1  1 -1  1  1 -1 -1 -1 -1 -1  1  1 -1\n  1 -1  1  1  1  1  1  1 -1  1  1  1 -1 -1 -1  1 -1  1 -1 -1  1  1 -1 -1\n -1 -1 -1 -1 -1 -1 -1 -1 -1 -1 -1  1  1 -1 -1  1 -1  1  1 -1  1 -1 -1 -1\n -1 -1  1  1  1  1 -1 -1  1 -1 -1 -1  1  1  1 -1 -1  1  1 -1 -1  1  1 -1\n -1  1 -1 -1 -1 -1 -1 -1 -1 -1 -1 -1  1 -1  1 -1 -1  1 -1 -1 -1 -1  1 -1\n -1 -1 -1 -1  1  1  1  1  1  1  1 -1  1  1  1 -1 -1  1 -1  1 -1  1 -1  1\n  1  1 -1  1 -1  1 -1  1 -1 -1  1 -1  1  1 -1  1  1  1 -1  1  1  1  1  1\n  1  1 -1 -1 -1 -1  1  1 -1  1  1 -1 -1 -1 -1  1 -1 -1  1  1 -1 -1 -1  1\n -1  1 -1  1  1 -1  1  1 -1 -1 -1 -1 -1 -1  1 -1  1  1 -1  1 -1 -1  1 -1\n -1 -1 -1 -1 -1 -1  1 -1  1  1  1 -1  1 -1 -1 -1  1 -1 -1 -1 -1 -1 -1  1\n  1  1  1 -1 -1  1  1  1 -1  1  1 -1 -1 -1 -1  1 -1 -1 -1 -1  1 -1  1  1\n  1  1 -1  1  1  1  1  1  1  1  1  1 -1  1  1  1  1 -1  1  1 -1  1 -1  1\n -1 -1  1 -1  1  1  1  1 -1 -1  1 -1  1 -1  1  1 -1 -1  1 -1 -1 -1  1  1\n  1  1  1 -1 -1 -1  1 -1  1 -1  1 -1  1  1 -1 -1 -1  1  1  1 -1 -1 -1  1\n  1 -1 -1 -1 -1  1  1 -1  1  1  1 -1  1  1 -1 -1 -1 -1 -1  1 -1 -1  1 -1\n  1 -1 -1  1 -1 -1 -1 -1 -1 -1 -1 -1 -1  1 -1  1]\n[ -1  -2  -3  -4  -5  -6  -7  -8  -9 -10 -11 -12 -11 -10  -9  -8  -9  -8\n  -7  -6  -5  -6  -7  -8  -7  -8  -9 -10 -11 -10  -9  -8  -9 -10 -11 -10\n -11 -10  -9 -10  -9 -10  -9  -8  -7  -6  -5  -6  -5  -4  -3  -2  -3  -2\n  -1   0   1   2   1   2   1   0   1   0   1   0   1   2   1   0   1   2\n   1   0  -1  -2  -3  -2  -1  -2  -1   0   1   0   1   2   3   2   1   0\n   1   0  -1   0   1   2   3   4   3   2   3   2   1   2   1   0   1   2\n   1   2   3   2   3   4   5   6   7   6   5   6   5   6   5   4   5   4\n   3   2   3   4   5   6   5   4   3   2   1   0   1   0   1   0   1   0\n   1   0   1   2   1   2   3   2   1   2   3   2   1   0   1   2   1   0\n  -1   0  -1  -2  -3  -4  -3  -4  -3  -4  -5  -6  -7  -8  -9 -10  -9 -10\n  -9 -10  -9 -10 -11 -12 -11 -10 -11 -10 -11 -10 -11 -10  -9 -10  -9  -8\n  -7  -6  -7  -8  -9  -8  -9 -10  -9 -10  -9 -10 -11 -10  -9  -8  -7  -8\n  -7  -8  -7  -8  -9 -10  -9  -8  -7  -8  -7  -6  -7  -8  -9 -10  -9 -10\n  -9  -8  -9 -10  -9 -10 -11 -10  -9  -8  -9  -8  -9 -10  -9  -8  -9 -10\n -11 -12 -11 -10  -9 -10 -11 -10 -11 -12 -11 -12 -13 -14 -15 -16 -17 -16\n -17 -18 -17 -18 -19 -18 -17 -16 -15 -14 -13 -14 -13 -14 -13 -14 -13 -12\n -11 -12 -13 -14 -13 -14 -15 -16 -15 -14 -15 -16 -15 -16 -17 -18 -17 -16\n -17 -18 -17 -18 -19 -18 -19 -20 -19 -20 -19 -18 -17 -18 -17 -16 -15 -16\n -17 -18 -19 -20 -21 -20 -21 -22 -21 -22 -21 -22 -23 -24 -23 -24 -25 -26\n -25 -26 -27 -28 -27 -26 -27 -28 -27 -28 -27 -26 -25 -24 -23 -24 -23 -24\n -23 -22 -21 -20 -21 -20 -19 -20 -21 -22 -23 -24 -25 -26 -25 -24 -25 -26\n -27 -26 -27 -26 -25 -26 -27 -28 -27 -26 -25 -24 -25 -24 -25 -26 -25 -24\n -25 -24 -25 -24 -23 -24 -23 -22 -23 -22 -21 -20 -19 -18 -19 -18 -19 -18\n -17 -16 -15 -16 -17 -18 -17 -16 -15 -16 -15 -16 -17 -16 -17 -18 -17 -18\n -19 -18 -17 -16 -15 -14 -13 -12 -11 -12 -11 -10 -11 -10  -9  -8  -9 -10\n  -9 -10  -9 -10 -11 -10 -11 -10  -9  -8  -7  -6  -7  -8  -7  -6  -5  -4\n  -5  -4  -3  -4  -5  -6  -7  -6  -7  -8  -9 -10  -9  -8  -7  -6  -5  -4\n  -5  -6  -5  -6  -5  -6  -7  -8  -9  -8  -7  -6  -5  -4  -5  -6  -5  -4\n  -3  -4  -5  -4  -3  -2  -1  -2  -3  -2  -3  -4  -5  -6  -7  -6  -5  -6\n  -5  -4  -3  -2  -1   0   1   0   1   2   3   4   5   6   5   4   3   2\n   1   2   1   0  -1   0  -1   0  -1   0   1   0  -1  -2  -1  -2  -3  -4\n  -3  -4  -3  -2  -3  -2  -1   0  -1  -2  -1  -2  -3  -4  -3  -4  -5  -6\n  -5  -4  -3  -2  -3  -4  -3  -2  -3  -2  -1   0  -1   0   1   0  -1  -2\n  -1  -2  -3  -2  -1   0  -1  -2  -3  -2  -1   0  -1   0   1   2   3   4\n   3   4   3   4   3   2   3   4   3   2   3   4   3   4   5   6   5   6\n   7   8   7   8   7   6   7   6   7   8   7   6   5   4   3   4   5   4\n   5   4   5   6   7   8   9  10   9  10  11  12  11  10   9  10   9  10\n   9   8   9  10   9   8   7   6   5   4   3   2   1   0  -1  -2  -3  -2\n  -1  -2  -3  -2  -3  -2  -1  -2  -1  -2  -3  -4  -5  -6  -5  -4  -3  -2\n  -3  -4  -3  -4  -5  -6  -5  -4  -3  -4  -5  -4  -3  -4  -5  -4  -3  -4\n  -5  -4  -5  -6  -7  -8  -9 -10 -11 -12 -13 -14 -13 -14 -13 -14 -15 -14\n -15 -16 -17 -18 -17 -18 -19 -20 -21 -22 -21 -20 -19 -18 -17 -16 -15 -16\n -15 -14 -13 -14 -15 -14 -15 -14 -15 -14 -15 -14 -13 -12 -13 -12 -13 -12\n -13 -12 -13 -14 -13 -14 -13 -12 -13 -12 -11 -10 -11 -10  -9  -8  -7  -6\n  -5  -4  -5  -6  -7  -8  -7  -6  -7  -6  -5  -6  -7  -8  -9  -8  -9 -10\n  -9  -8  -9 -10 -11 -10 -11 -10 -11 -10  -9 -10  -9  -8  -9 -10 -11 -12\n -13 -14 -13 -14 -13 -12 -13 -12 -13 -14 -13 -14 -15 -16 -17 -18 -19 -20\n -19 -20 -19 -18 -17 -18 -17 -18 -19 -20 -19 -20 -21 -22 -23 -24 -25 -24\n -23 -22 -21 -22 -23 -22 -21 -20 -21 -20 -19 -20 -21 -22 -23 -22 -23 -24\n -25 -26 -25 -26 -25 -24 -23 -22 -23 -22 -21 -20 -19 -18 -17 -16 -15 -14\n -15 -14 -13 -12 -11 -12 -11 -10 -11 -10 -11 -10 -11 -12 -11 -12 -11 -10\n  -9  -8  -9 -10  -9 -10  -9 -10  -9  -8  -9 -10  -9 -10 -11 -12 -11 -10\n  -9  -8  -7  -8  -9 -10  -9 -10  -9 -10  -9 -10  -9  -8  -9 -10 -11 -10\n  -9  -8  -9 -10 -11 -10  -9 -10 -11 -12 -13 -12 -11 -12 -11 -10  -9 -10\n  -9  -8  -9 -10 -11 -12 -13 -12 -13 -14 -13 -14 -13 -14 -15 -14 -15 -16\n -17 -18 -19 -20 -21 -22 -23 -22 -23 -22]\n"
    }
   ],
   "source": [
    "nsteps = 1000\n",
    "draws = np.random.randint(0, 2, size=nsteps)\n",
    "steps = np.where(draws > 0, 1, -1)\n",
    "walk = steps.cumsum()\n",
    "print(steps)\n",
    "print(walk)"
   ]
  },
  {
   "cell_type": "code",
   "execution_count": 34,
   "metadata": {},
   "outputs": [
    {
     "output_type": "execute_result",
     "data": {
      "text/plain": "-28"
     },
     "metadata": {},
     "execution_count": 34
    }
   ],
   "source": [
    "walk.max()\n",
    "walk.min()"
   ]
  },
  {
   "cell_type": "code",
   "execution_count": 16,
   "metadata": {},
   "outputs": [],
   "source": [
    "class Puerta:\n",
    "    def __init__(self):\n",
    "        pass"
   ]
  },
  {
   "cell_type": "code",
   "execution_count": 26,
   "metadata": {},
   "outputs": [
    {
     "output_type": "error",
     "ename": "SyntaxError",
     "evalue": "invalid syntax (<ipython-input-26-4037bdb00114>, line 13)",
     "traceback": [
      "\u001b[0;36m  File \u001b[0;32m\"<ipython-input-26-4037bdb00114>\"\u001b[0;36m, line \u001b[0;32m13\u001b[0m\n\u001b[0;31m    dory = Dog(name=\"Dory\", age=5)\u001b[0m\n\u001b[0m    ^\u001b[0m\n\u001b[0;31mSyntaxError\u001b[0m\u001b[0;31m:\u001b[0m invalid syntax\n"
     ]
    }
   ],
   "source": [
    "\n",
    "class Dog:\n",
    "    \n",
    "    def __init__(self, name, age):\n",
    "        self.name = name\n",
    "        self.age = str(age)\n",
    "    \n",
    "    def __str__(self):\n",
    "        return \"Amamos a nuestra mascota \" + self.name + \"que tiene \" + self.age\n",
    "        \n",
    "    def show_attributes(self):\n",
    "        print((self.name + \"tiene\" + self.age + \" años\")\n",
    "\n",
    "dory = Dog(name=\"Dory\", age=5)\n",
    "dory.show_attributes()\n",
    "print(dory)\n"
   ]
  },
  {
   "cell_type": "code",
   "execution_count": null,
   "metadata": {},
   "outputs": [],
   "source": []
  },
  {
   "cell_type": "code",
   "execution_count": null,
   "metadata": {},
   "outputs": [],
   "source": []
  }
 ],
 "metadata": {
  "language_info": {
   "codemirror_mode": {
    "name": "ipython",
    "version": 3
   },
   "file_extension": ".py",
   "mimetype": "text/x-python",
   "name": "python",
   "nbconvert_exporter": "python",
   "pygments_lexer": "ipython3",
   "version": "3.8.3-final"
  },
  "orig_nbformat": 2,
  "kernelspec": {
   "name": "python_defaultSpec_1594156220632",
   "display_name": "Python 3.8.3 64-bit"
  }
 },
 "nbformat": 4,
 "nbformat_minor": 2
}