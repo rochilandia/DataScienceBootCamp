{
 "cells": [
  {
   "cell_type": "markdown",
   "metadata": {},
   "source": [
    "### 9. Ejercicios: \n",
    "\n",
    "- Crea dos listas: una que tenga 4 nombres de ciudades y otra que tenga 4 lugares emblemáticos de la ciudad. "
   ]
  },
  {
   "cell_type": "code",
   "execution_count": 35,
   "metadata": {},
   "outputs": [
    {
     "output_type": "execute_result",
     "data": {
      "text/plain": "['madrid', 'roma', 'paris', 'londres']"
     },
     "metadata": {},
     "execution_count": 35
    }
   ],
   "source": [
    "# Code\n",
    "list_cities = [\"madrid\", \"roma\", \"paris\", \"londres\"]\n",
    "list_cities"
   ]
  },
  {
   "cell_type": "code",
   "execution_count": 36,
   "metadata": {},
   "outputs": [
    {
     "output_type": "execute_result",
     "data": {
      "text/plain": "['plazamayor', 'fontanaditrevi', 'toureiffel', 'bigben']"
     },
     "metadata": {},
     "execution_count": 36
    }
   ],
   "source": [
    "list_places = [\"plazamayor\", \"fontanaditrevi\", \"toureiffel\", \"bigben\"]\n",
    "list_places"
   ]
  },
  {
   "cell_type": "code",
   "execution_count": 63,
   "metadata": {},
   "outputs": [
    {
     "output_type": "execute_result",
     "data": {
      "text/plain": "dict"
     },
     "metadata": {},
     "execution_count": 63
    }
   ],
   "source": [
    "type(dict)\n"
   ]
  },
  {
   "cell_type": "markdown",
   "metadata": {},
   "source": [
    "### A partir de funciones con diccionarios:\n",
    "\n",
    "- Crea un diccionario con un entero 5 como key y \"val\" como su value. "
   ]
  },
  {
   "cell_type": "code",
   "execution_count": 34,
   "metadata": {
    "tags": []
   },
   "outputs": [
    {
     "output_type": "stream",
     "name": "stdout",
     "text": "{5: 'val'}\n"
    }
   ],
   "source": [
    "# Code\n",
    "dictionarytest = {5: \"val\"}\n",
    "print(dictionarytest)\n"
   ]
  },
  {
   "cell_type": "markdown",
   "metadata": {},
   "source": [
    "- Crea una función que a reciba dos listas 'lista1' y 'lista2' por parámetro y retorne un diccionario teniendo como keys cada elemento de 'lista1' y como values los elementos de 'lista2'. Llama a la función con las listas que has creado antes para que devuelva un diccionario con cada ciudad como key asociado a un lugar emblemático como value. \n"
   ]
  },
  {
   "cell_type": "code",
   "execution_count": 52,
   "metadata": {},
   "outputs": [
    {
     "output_type": "error",
     "ename": "TypeError",
     "evalue": "'dict' object is not callable",
     "traceback": [
      "\u001b[0;31m---------------------------------------------------------------------------\u001b[0m",
      "\u001b[0;31mTypeError\u001b[0m                                 Traceback (most recent call last)",
      "\u001b[0;32m<ipython-input-52-c01e2a28caa1>\u001b[0m in \u001b[0;36m<module>\u001b[0;34m\u001b[0m\n\u001b[1;32m      1\u001b[0m \u001b[0mlist_cities\u001b[0m \u001b[0;34m=\u001b[0m \u001b[0;34m[\u001b[0m\u001b[0;34m\"madrid\"\u001b[0m\u001b[0;34m,\u001b[0m \u001b[0;34m\"roma\"\u001b[0m\u001b[0;34m,\u001b[0m \u001b[0;34m\"paris\"\u001b[0m\u001b[0;34m,\u001b[0m \u001b[0;34m\"londres\"\u001b[0m\u001b[0;34m]\u001b[0m\u001b[0;34m\u001b[0m\u001b[0;34m\u001b[0m\u001b[0m\n\u001b[1;32m      2\u001b[0m \u001b[0mlist_places\u001b[0m \u001b[0;34m=\u001b[0m \u001b[0;34m[\u001b[0m\u001b[0;34m\"plazamayor\"\u001b[0m\u001b[0;34m,\u001b[0m \u001b[0;34m\"fontanaditrevi\"\u001b[0m\u001b[0;34m,\u001b[0m \u001b[0;34m\"toureiffel\"\u001b[0m\u001b[0;34m,\u001b[0m \u001b[0;34m\"bigben\"\u001b[0m\u001b[0;34m]\u001b[0m\u001b[0;34m\u001b[0m\u001b[0;34m\u001b[0m\u001b[0m\n\u001b[0;32m----> 3\u001b[0;31m \u001b[0mdict_travel\u001b[0m \u001b[0;34m=\u001b[0m \u001b[0mdict\u001b[0m\u001b[0;34m(\u001b[0m\u001b[0mzip\u001b[0m\u001b[0;34m(\u001b[0m\u001b[0mlist_cities\u001b[0m\u001b[0;34m,\u001b[0m \u001b[0mlist_places\u001b[0m\u001b[0;34m)\u001b[0m\u001b[0;34m)\u001b[0m\u001b[0;34m\u001b[0m\u001b[0;34m\u001b[0m\u001b[0m\n\u001b[0m\u001b[1;32m      4\u001b[0m \u001b[0;34m\u001b[0m\u001b[0m\n\u001b[1;32m      5\u001b[0m \u001b[0;32mdef\u001b[0m \u001b[0mahora\u001b[0m\u001b[0;34m(\u001b[0m\u001b[0mlista1\u001b[0m\u001b[0;34m,\u001b[0m \u001b[0mlista2\u001b[0m\u001b[0;34m)\u001b[0m\u001b[0;34m:\u001b[0m\u001b[0;34m\u001b[0m\u001b[0;34m\u001b[0m\u001b[0m\n",
      "\u001b[0;31mTypeError\u001b[0m: 'dict' object is not callable"
     ]
    }
   ],
   "source": [
    "list_cities = [\"madrid\", \"roma\", \"paris\", \"londres\"]\n",
    "list_places = [\"plazamayor\", \"fontanaditrevi\", \"toureiffel\", \"bigben\"]\n",
    "dict_travel = dict(zip(list_cities, list_places))\n",
    "\n",
    "def ahora(lista1, lista2):\n",
    "    dict_travel = dict(zip(list_cities, str(list_places)))\n",
    "    print(dict_travel)\n",
    "\n",
    "ahora(lista1=list_cities, lista2=list_places)"
   ]
  },
  {
   "cell_type": "code",
   "execution_count": 55,
   "metadata": {},
   "outputs": [],
   "source": [
    "keys = [\"madrid\", \"roma\", \"paris\", \"londres\"]\n",
    "values = [\"plazamayor\", \"fontanaditrevi\", \"toureiffel\", \"bigben\"]"
   ]
  },
  {
   "cell_type": "code",
   "execution_count": 62,
   "metadata": {},
   "outputs": [
    {
     "output_type": "execute_result",
     "data": {
      "text/plain": "{'madrid': 'plazamayor',\n 'roma': 'fontanaditrevi',\n 'paris': 'toureiffel',\n 'londres': 'bigben'}"
     },
     "metadata": {},
     "execution_count": 62
    }
   ],
   "source": [
    "def travel (cities, places):\n",
    "    dict = {}\n",
    "    for x in range(len(cities)):\n",
    "        dict[cities[x]] = places[x]\n",
    "    return dict\n",
    "\n",
    "travel(cities=list_cities, places=list_places)\n"
   ]
  },
  {
   "cell_type": "markdown",
   "metadata": {},
   "source": [
    "*Hay que utilizar la lista de alumn@s con sus nombres y alturas*\n",
    "\n",
    "- Crea una función que, a partir de dos listas, retorne un diccionario en el que cada key sea el nombre de un alumno y su value debe ser la altura."
   ]
  },
  {
   "cell_type": "code",
   "execution_count": 39,
   "metadata": {},
   "outputs": [],
   "source": [
    "# Code\n",
    "lista_alumnos = [[\"Jalex\", 6, 47, 1.80], [\"Tomas\", 5, 31, 1.80], [\"David\", 6, 39, 1.81], [\"Natalio\", 2, 29, 1.73], [\"Monica\", 3, 47, 1.73], [\"Roxanna\", 4,24,1.75], [\"Filipa\", 5,34,1.64], [\"Elsa\", 4, 36, 1.89], [\"Cristina\", 3, 46, 1.70], [\"Clara\", 6, 29, 1.67], [\"Alba\", 3, 29, 1.68], [\"Valeria\",1, 40, 1.60], [\"Jose Luis\", 4, 47, 1.69], [\"Gabriel\", 1, 28, 1.76], [\"Rochi\", 2, 38, 1.60], [\"Jose Maria\", 5, 51, 1.75]]"
   ]
  },
  {
   "cell_type": "code",
   "execution_count": 40,
   "metadata": {},
   "outputs": [
    {
     "output_type": "execute_result",
     "data": {
      "text/plain": "[['Jalex', 6, 47, 1.8],\n ['Tomas', 5, 31, 1.8],\n ['David', 6, 39, 1.81],\n ['Natalio', 2, 29, 1.73],\n ['Monica', 3, 47, 1.73],\n ['Roxanna', 4, 24, 1.75],\n ['Filipa', 5, 34, 1.64],\n ['Elsa', 4, 36, 1.89],\n ['Cristina', 3, 46, 1.7],\n ['Clara', 6, 29, 1.67],\n ['Alba', 3, 29, 1.68],\n ['Valeria', 1, 40, 1.6],\n ['Jose Luis', 4, 47, 1.69],\n ['Gabriel', 1, 28, 1.76],\n ['Rochi', 2, 38, 1.6],\n ['Jose Maria', 5, 51, 1.75]]"
     },
     "metadata": {},
     "execution_count": 40
    }
   ],
   "source": [
    "lista_alumnos"
   ]
  },
  {
   "cell_type": "code",
   "execution_count": 41,
   "metadata": {},
   "outputs": [
    {
     "output_type": "execute_result",
     "data": {
      "text/plain": "['Jalex',\n 'Tomas',\n 'David',\n 'Natalio',\n 'Monica',\n 'Roxanna',\n 'Filipa',\n 'Elsa',\n 'Cristina',\n 'Clara',\n 'Alba',\n 'Valeria',\n 'Jose Luis',\n 'Gabriel',\n 'Rochi',\n 'Jose Maria']"
     },
     "metadata": {},
     "execution_count": 41
    }
   ],
   "source": [
    "lista_nombres_alumnos = []\n",
    "for x in lista_alumnos:\n",
    "    lista_nombres_alumnos.append(x[0])\n",
    "\n",
    "lista_nombres_alumnos"
   ]
  },
  {
   "cell_type": "code",
   "execution_count": 42,
   "metadata": {
    "tags": []
   },
   "outputs": [
    {
     "output_type": "stream",
     "name": "stdout",
     "text": "lista_nombres_alumnos: ['Jalex', 'Tomas', 'David', 'Natalio', 'Monica', 'Roxanna', 'Filipa', 'Elsa', 'Cristina', 'Clara', 'Alba', 'Valeria', 'Jose Luis', 'Gabriel', 'Rochi', 'Jose Maria']\n\nlista_alturas_alumnos: [1.8, 1.8, 1.81, 1.73, 1.73, 1.75, 1.64, 1.89, 1.7, 1.67, 1.68, 1.6, 1.69, 1.76, 1.6, 1.75]\n"
    }
   ],
   "source": [
    "lista_nombres_alumnos = [x[0] for x in lista_alumnos]\n",
    "lista_alturas_alumnos = [x[3] for x in lista_alumnos]\n",
    "print(\"lista_nombres_alumnos:\", lista_nombres_alumnos)\n",
    "print()\n",
    "print(\"lista_alturas_alumnos:\", lista_alturas_alumnos)"
   ]
  },
  {
   "cell_type": "code",
   "execution_count": 54,
   "metadata": {
    "tags": []
   },
   "outputs": [
    {
     "output_type": "stream",
     "name": "stdout",
     "text": "(('Jalex', 1.8), ('Tomas', 1.8), ('David', 1.81), ('Natalio', 1.73), ('Monica', 1.73), ('Roxanna', 1.75), ('Filipa', 1.64), ('Elsa', 1.89), ('Cristina', 1.7), ('Clara', 1.67), ('Alba', 1.68), ('Valeria', 1.6), ('Jose Luis', 1.69), ('Gabriel', 1.76), ('Rochi', 1.6), ('Jose Maria', 1.75))\n"
    }
   ],
   "source": [
    "print(tuple(zip(lista_nombres_alumnos, lista_alturas_alumnos)))"
   ]
  },
  {
   "cell_type": "code",
   "execution_count": 49,
   "metadata": {
    "tags": []
   },
   "outputs": [
    {
     "output_type": "stream",
     "name": "stdout",
     "text": "['Jalex', 1.8]\n['Tomas', 1.8]\n['David', 1.81]\n['Natalio', 1.73]\n['Monica', 1.73]\n['Roxanna', 1.75]\n['Filipa', 1.64]\n['Elsa', 1.89]\n['Cristina', 1.7]\n['Clara', 1.67]\n['Alba', 1.68]\n['Valeria', 1.6]\n['Jose Luis', 1.69]\n['Gabriel', 1.76]\n['Rochi', 1.6]\n['Jose Maria', 1.75]\n"
    }
   ],
   "source": [
    "def final(l_nombres, l_alturas):\n",
    "    for pos, elem in enumerate(l_nombres):\n",
    "        g = [elem, l_alturas[pos]]\n",
    "        print(g)\n",
    "\n",
    "final(l_nombres=lista_nombres_alumnos, l_alturas=lista_alturas_alumnos)"
   ]
  },
  {
   "cell_type": "code",
   "execution_count": null,
   "metadata": {},
   "outputs": [],
   "source": []
  }
 ],
 "metadata": {
  "language_info": {
   "codemirror_mode": {
    "name": "ipython",
    "version": 3
   },
   "file_extension": ".py",
   "mimetype": "text/x-python",
   "name": "python",
   "nbconvert_exporter": "python",
   "pygments_lexer": "ipython3",
   "version": "3.7.6-final"
  },
  "orig_nbformat": 2,
  "kernelspec": {
   "name": "python3",
   "display_name": "Python 3"
  }
 },
 "nbformat": 4,
 "nbformat_minor": 2
}