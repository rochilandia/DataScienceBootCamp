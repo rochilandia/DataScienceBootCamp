{
 "cells": [
  {
   "cell_type": "markdown",
   "metadata": {},
   "source": [
    "## Ejercicios:\n",
    "\n",
    "### Apartado 1:\n",
    "\n",
    "1. Crea una variable llamada 'numero_bridge' que tenga como valor 15. Tipo entero.\n",
    "2. Crea una variable llamada 'nombre_calle' que sea un string y sea 'Recoletos'\n",
    "3. Crea una variable llamada 'gusto_personal' que sea True si eres más de playa y False si eres más de montaña.\n",
    "4. Crea una variable llamada 'nada' de la siguiente forma: 'nada = None'. None no representa ningún valor. Ha de tenerse en cuenta que si se hace 'if (nada):', 'nada' actúa como un valor booleano False. Para más información, observar el primer ejemplo de abajo.\n",
    "5. Crea una variable que llamada 'lista_direccion' que sea una lista y que contenga 2 valores. El primer valor debe ser la variable 'numero_bridge' y el segundo valor de la lista debe ser la variable 'nombre_calle'\n",
    "6. Crea una variable llamada 'horas_sueno' que almacene, en forma de String, las horas que has dormido hoy. Ejemplo: horas_sueno = \"8\" \n",
    "6. Crea una lista llamada 'lista_informacion' que tenga cada una de las variables creadas anteriormente en el orden en el que se han expuesto en el ejercicio.\n",
    "\n",
    "IMPORTANTE: A partir de este momento y para todos estos ejercicios, solo se van a utilizar los datos almacenados en 'lista_informacion'. Debe contener 6 elementos. "
   ]
  },
  {
   "cell_type": "markdown",
   "metadata": {},
   "source": [
    "### Creación de variables del apartado 1.\n",
    "\n",
    "gusto_personal = True  # Si te gusta más la montaña\n",
    "\n",
    "gusto_personal = False  # Si te gusta más la playa"
   ]
  },
  {
   "cell_type": "code",
   "execution_count": 7,
   "metadata": {
    "tags": []
   },
   "outputs": [
    {
     "output_type": "stream",
     "name": "stdout",
     "text": "<class 'int'>\n"
    }
   ],
   "source": [
    "numero_bridge = 15\n",
    "print(type(numero_bridge))\n"
   ]
  },
  {
   "cell_type": "code",
   "execution_count": 8,
   "metadata": {},
   "outputs": [],
   "source": [
    "gusto_personal = True\n"
   ]
  },
  {
   "cell_type": "code",
   "execution_count": 9,
   "metadata": {},
   "outputs": [],
   "source": [
    "nombre_calle = \"Recoletos\"\n"
   ]
  },
  {
   "cell_type": "code",
   "execution_count": 10,
   "metadata": {},
   "outputs": [],
   "source": [
    "nada = None"
   ]
  },
  {
   "cell_type": "code",
   "execution_count": 11,
   "metadata": {},
   "outputs": [],
   "source": [
    "lista_direccion = [numero_bridge, nombre_calle]\n"
   ]
  },
  {
   "cell_type": "code",
   "execution_count": 12,
   "metadata": {},
   "outputs": [],
   "source": [
    "horas_sueno = str(6)\n"
   ]
  },
  {
   "cell_type": "code",
   "execution_count": 13,
   "metadata": {},
   "outputs": [],
   "source": [
    "#Crea una lista llamada 'lista_informacion' que tenga cada una de las variables creadas anteriormente en el orden en el que se han expuesto en el ejercicio"
   ]
  },
  {
   "cell_type": "code",
   "execution_count": 14,
   "metadata": {},
   "outputs": [
    {
     "output_type": "execute_result",
     "data": {
      "text/plain": "[15, True, 'Recoletos', None, [15, 'Recoletos'], '6']"
     },
     "metadata": {},
     "execution_count": 14
    }
   ],
   "source": [
    "lista_informacion = [numero_bridge, gusto_personal, nombre_calle, nada, lista_direccion, horas_sueno]\n",
    "lista_informacion"
   ]
  },
  {
   "cell_type": "code",
   "execution_count": 15,
   "metadata": {
    "tags": []
   },
   "outputs": [
    {
     "output_type": "stream",
     "name": "stdout",
     "text": "6\n"
    }
   ],
   "source": [
    "len(lista_informacion)\n",
    "print(len(lista_informacion))\n"
   ]
  },
  {
   "cell_type": "markdown",
   "metadata": {},
   "source": [
    "#### Borrar variables. Del\n",
    "Ejecuta esta celda de jupyter para borrar todas las variables que has tenido que crear antes. El contenido de 'lista_informacion' no cambiará. De esta forma, nos aseguraremos de que solo uses la información de 'lista_informacion'. "
   ]
  },
  {
   "cell_type": "code",
   "execution_count": 16,
   "metadata": {},
   "outputs": [],
   "source": [
    "# Ejecuta esta celda cuando las variables del apartado 1 ya han sido creadas y guardadas en memoria.\n",
    "del numero_bridge\n",
    "del nombre_calle\n",
    "del gusto_personal \n",
    "del nada\n",
    "del lista_direccion\n",
    "del horas_sueno"
   ]
  },
  {
   "cell_type": "markdown",
   "metadata": {},
   "source": [
    "### Apartado 2\n",
    "\n",
    "### Ejercicios con 'lista_informacion'. Recuerda no usar las variables excepto 'lista_informacion'. Leer cada punto hasta el final antes de hacer la tarea. \n",
    "\n",
    "1. Mostrar por pantalla, sin uso de funciones ni bucles: \n",
    "    - La concatenación del número de The Bridge, dos puntos y el nombre de la calle. \n",
    "    - La suma del número de The Bridge y las horas que has dormido hoy. \n",
    "    - La concatenación del número de The Bridge, el nombre de la calle, tu gusto personal y las horas de sueño. Cada uno debe estar separado por lo siguiente: \" : \".\n",
    "    - Accediendo a la lista de la cuarta posición de 'lista_informacion' muestra por pantalla la suma de lo siguiente (si la quinta posición de tu 'lista_informacion' no es una lista, pregunta a los profesores):\n",
    "        - La concatenación de los dos elementos. \n",
    "        - La multiplicación del tamaño de la lista de la quinta posición de 'lista_informacion' y el tamaño del número de caracteres que tiene el nombre de la calle.\n",
    "\n",
    "2. Dentro de funciones con el nombre que decidáis, con un argumento de entrada llamado 'lista' siendo este la 'lista_informacion' cuando se invoque a la función. Cuando sea 'recorre' se refiere a bucle 'for'. Cada punto representa una función y celda de Jupyter diferente:\n",
    "\n",
    "    - Mostrar por pantalla \"Me gusta la tranquilidad\" si te gusta más la montaña y \"Me gusta ver las carnes al aire libre\" si te gusta más la playa.\n",
    "    - Mostrar por pantalla \"Hoy estoy cansado\" si has dormido menos de 7 horas y \"Hoy me como el mundo\" si has dormido más de 7 horas. \n",
    "    - Recorrer 'lista' para mostrar todos los elementos que contiene. \n",
    "    - Recorrer 'lista' para mostrar todos los elementos que contiene concatenado con el string \"--> OK\"\n",
    "    - Recorrer 'lista' para mostrar todos los elementos que contiene excepto el primero\n",
    "    - Recorrer 'lista' para mostrar todos los elementos que contiene excepto el último. \n",
    "    - Recorrer 'lista' para mostrar todos los elementos que contiene excepto el número de la calle y las horas que has dormido.\n",
    "    - Recorrer 'lista' para mostrar todos los elementos que contiene excepto el primer elemento de la lista de la quinta posición. \n",
    "    - Recorrer 'lista' para mostrar todos los elementos que contiene excepto el que contiene la información sobre si os gusta la montaña o playa SI os gusta la montaña.\n",
    "    - Recorrer 'lista' para mostrar el último elemento.\n",
    "    - Crear una variable llamada 'zona' y darle el valor de None. Recorrer 'lista' y actualizar 'zona' a True si y solo si has dormido más de 7 horas, te gusta la playa y la suma de las horas que has dormido más el número de The Bridge es menor a 24. Para cualquier otro caso, 'zona' será False. Retornar el valor de 'zona'. Esta función se llamará 'funcion_zona'.\n",
    "    - Dentro de una función llamada 'funcion_comprobacion' que recibe solo un parámetro llamado 'valor_zona' que será el valor que devuelve la función 'funcion_zona' cuando sea invocado, mostrar el valor de 'valor_zona' si es True.\n",
    "\n",
    "3. Dentro de funciones con el nombre que queráis:\n",
    "    - Utilizar la función enumerate del bucle for utilizando la lista de alturas y la lista de alumnos creada en días anteriores (las listas han de estar ordenadas) para: \n",
    "        - Mostrar la altura acompañado del nombre del alumno al que pertenece. \n",
    "\n",
    "4. Hacer un programa que pregunte si le gusta la montaña al usuario y, si es que no, llame a la función funcion_zona. \n",
    "\n",
    "5. Hacer una función que guarde en una variable el valor de 'nada' y lo devuelva por pantalla. Concatenar su valor con el número de the bridge y mostrarlo por pantalla. Ahora, mostrar por pantalla un booleano True si el tamaño de la palabra concatenada es 6. Sino, será False. La función debe retornar el valor True o False. El nombre de la función será 'f_s'.\n",
    "\n",
    "6. Crear una lista 'lista_aux' con 7 elementos (los que queráis). Crear una función 'funcion_usa_f_s' que reciba por parámetros dos argumento 'f_s' y 'lista'.  Si el valor de 'f_s' es True, entonces borrar el un elemento de 'lista'. Si 'lista' tiene algún elemento, entonces repetir el proceso hasta que no tenga elementos. La entrada 'lista' ha de ser 'lista_aux' y 'f_s' será la función 'f_s' del punto anterior.\n",
    "\n",
    "7. Crear una función 'numeros_pares' que tenga un parámetro de entrada 'arg1' (Entero). La función debe mostrar por pantalla y retornar una lista de números de tamaño 'arg1' siendo números pares.\n",
    "\n",
    "8. Crear una función que tenga una variable de entrada 'arg1' (que será la lista de números pares del apartado anterior) y que elimine elementos de la lista (uno a uno) si 'arg1' tiene un tamaño divisible entre 2 y, si no lo tiene, añada, solo una vez, el valor de la función 'f_s'."
   ]
  },
  {
   "cell_type": "code",
   "execution_count": 17,
   "metadata": {},
   "outputs": [],
   "source": [
    "# 1. Apartado \n",
    "#La concatenación del número de The Bridge, dos puntos y el nombre de la calle.\n",
    "\n",
    "\n",
    "#La suma del número de The Bridge y las horas que has dormido hoy.\n",
    "\n",
    "\n",
    "#La concatenación del número de The Bridge, el nombre de la calle, tu gusto personal y las horas de sueño. Cada uno debe estar separado por lo siguiente: \" : \"\n",
    "\n",
    "\n",
    "#Accediendo a la lista de la quinta posición de 'lista_informacion' muestra por pantalla la suma de lo siguiente (si la quinta posición de tu 'lista_informacion' no es una lista, pregunta a los profesores):\n",
    "\n",
    "\n",
    "#La concatenación de los dos elementos.\n",
    "\n",
    "\n",
    "#La multiplicación del tamaño de la lista de la quinta posición de 'lista_informacion' y el tamaño del número de caracteres que tiene el nombre de la calle.\n"
   ]
  },
  {
   "cell_type": "markdown",
   "metadata": {},
   "source": [
    "Mostrar por pantalla, sin uso de funciones ni bucles:\n",
    "\n",
    "La suma del número de The Bridge y las horas que has dormido hoy."
   ]
  },
  {
   "cell_type": "code",
   "execution_count": 18,
   "metadata": {
    "tags": []
   },
   "outputs": [
    {
     "output_type": "stream",
     "name": "stdout",
     "text": "21\n"
    }
   ],
   "source": [
    "print(int(lista_informacion[0]) + (int(lista_informacion[5])))\n"
   ]
  },
  {
   "cell_type": "code",
   "execution_count": 19,
   "metadata": {},
   "outputs": [
    {
     "output_type": "execute_result",
     "data": {
      "text/plain": "[15, True, 'Recoletos', None, [15, 'Recoletos'], '6']"
     },
     "metadata": {},
     "execution_count": 19
    }
   ],
   "source": [
    "lista_informacion\n"
   ]
  },
  {
   "cell_type": "code",
   "execution_count": 20,
   "metadata": {
    "tags": []
   },
   "outputs": [
    {
     "output_type": "stream",
     "name": "stdout",
     "text": "15: Recoletos\n"
    }
   ],
   "source": [
    "print(str(lista_informacion[0]) + \": \" + lista_informacion[2])"
   ]
  },
  {
   "cell_type": "markdown",
   "metadata": {},
   "source": [
    "La concatenación del número de The Bridge, el nombre de la calle, tu gusto personal y las horas de sueño. Cada uno debe estar separado por lo siguiente: \" : \"."
   ]
  },
  {
   "cell_type": "code",
   "execution_count": 21,
   "metadata": {
    "tags": []
   },
   "outputs": [
    {
     "output_type": "stream",
     "name": "stdout",
     "text": "15 Recoletos True 6\n"
    }
   ],
   "source": [
    "print(str(lista_informacion[0]) + \" \" + str(lista_informacion[2]) + \" \" + str(lista_informacion[1]) + \" \" + lista_informacion[-1])\n",
    "\n"
   ]
  },
  {
   "cell_type": "markdown",
   "metadata": {},
   "source": [
    "Accediendo a la lista de la cuarta posición de 'lista_informacion' muestra por pantalla la suma de lo siguiente (si la cuarta posición de tu 'lista_informacion' no es una lista, pregunta a los profesores):\n",
    "La concatenación de los dos elementos.\n"
   ]
  },
  {
   "cell_type": "code",
   "execution_count": 22,
   "metadata": {},
   "outputs": [
    {
     "output_type": "execute_result",
     "data": {
      "text/plain": "[15, 'Recoletos']"
     },
     "metadata": {},
     "execution_count": 22
    }
   ],
   "source": [
    "lista_informacion[4]\n"
   ]
  },
  {
   "cell_type": "code",
   "execution_count": 23,
   "metadata": {
    "tags": []
   },
   "outputs": [
    {
     "output_type": "stream",
     "name": "stdout",
     "text": "15 Recoletos\n"
    }
   ],
   "source": [
    "print(str(lista_informacion[4][0]) + \" \" + lista_informacion[4][1])\n"
   ]
  },
  {
   "cell_type": "markdown",
   "metadata": {},
   "source": [
    "La multiplicación del tamaño de la lista de la quinta posición de 'lista_informacion' y el tamaño del número de caracteres que tiene el nombre de la calle."
   ]
  },
  {
   "cell_type": "code",
   "execution_count": 24,
   "metadata": {},
   "outputs": [
    {
     "output_type": "execute_result",
     "data": {
      "text/plain": "18"
     },
     "metadata": {},
     "execution_count": 24
    }
   ],
   "source": [
    "valorz = len(lista_informacion[4])\n",
    "valory = len(lista_informacion[2])\n",
    "\n",
    "multi = valorz*valory\n",
    "multi\n"
   ]
  },
  {
   "cell_type": "markdown",
   "metadata": {},
   "source": [
    "### Apartado 2\n",
    "\n",
    "Ejercicios con 'lista_informacion'. Recuerda no usar las variables excepto 'lista_informacion'. Leer cada punto hasta el final antes de hacer la tarea.\n",
    "\n",
    "###2. Dentro de funciones con el nombre que decidáis, con un argumento de entrada llamado 'lista' siendo este la 'lista_informacion' cuando se invoque a la función.\n",
    "\n",
    "Cuando sea 'recorre' se refiere a bucle 'for'. Cada punto representa una función y celda de Jupyter diferente:\n"
   ]
  },
  {
   "cell_type": "code",
   "execution_count": 25,
   "metadata": {},
   "outputs": [
    {
     "output_type": "execute_result",
     "data": {
      "text/plain": "[15, True, 'Recoletos', None, [15, 'Recoletos'], '6']"
     },
     "metadata": {},
     "execution_count": 25
    }
   ],
   "source": [
    "l = lista_informacion\n",
    "l"
   ]
  },
  {
   "cell_type": "code",
   "execution_count": 26,
   "metadata": {},
   "outputs": [
    {
     "output_type": "execute_result",
     "data": {
      "text/plain": "<function __main__.f(lista)>"
     },
     "metadata": {},
     "execution_count": 26
    }
   ],
   "source": [
    "def f(lista):\n",
    "    f(lista = lista_informacion)\n",
    "f"
   ]
  },
  {
   "cell_type": "code",
   "execution_count": 27,
   "metadata": {},
   "outputs": [],
   "source": [
    "#Mostrar por pantalla \"Hoy estoy cansado\" si has dormido menos de 7 horas y \"Hoy me como el mundo\" si has dormido más de 7 horas.\n",
    "\n",
    "#Recorrer 'lista' para mostrar todos los elementos que contiene."
   ]
  },
  {
   "cell_type": "code",
   "execution_count": 28,
   "metadata": {},
   "outputs": [
    {
     "output_type": "execute_result",
     "data": {
      "text/plain": "[15, True, 'Recoletos', None, [15, 'Recoletos'], '6']"
     },
     "metadata": {},
     "execution_count": 28
    }
   ],
   "source": [
    "lista_informacion\n"
   ]
  },
  {
   "cell_type": "code",
   "execution_count": 29,
   "metadata": {
    "tags": []
   },
   "outputs": [
    {
     "output_type": "stream",
     "name": "stdout",
     "text": "Hoy estoy cansado\n"
    }
   ],
   "source": [
    "def f(lista):\n",
    "    \n",
    "    if int(lista[-1]) < 7:\n",
    "        print(\"Hoy estoy cansado\")\n",
    "    elif int(lista[-1]) > 7:\n",
    "        print(\"Hoy me como el mundo\")\n",
    "    else:\n",
    "        print(\"Else\")\n",
    "f(lista=lista_informacion)\n",
    "\n"
   ]
  },
  {
   "cell_type": "code",
   "execution_count": 30,
   "metadata": {},
   "outputs": [],
   "source": [
    "def f (lista):\n",
    "    f (lista=lista_informacion)\n",
    "    "
   ]
  },
  {
   "cell_type": "code",
   "execution_count": 31,
   "metadata": {},
   "outputs": [],
   "source": [
    "\n",
    "def f (lista):\n",
    "    horasdesuenio = int(lista[-1])\n",
    "    if horasdesuenio > 6:\n",
    "\t    print(\"Hoy me como el mundo\")\n",
    "    elif horasdesuenio < 6:\n",
    "\t    print(\"Hoy estoy cansado\")\n",
    "\n",
    "f (lista=lista_informacion)"
   ]
  },
  {
   "cell_type": "code",
   "execution_count": 32,
   "metadata": {
    "tags": []
   },
   "outputs": [
    {
     "output_type": "stream",
     "name": "stdout",
     "text": "15\nTrue\nRecoletos\nNone\n[15, 'Recoletos']\n6\n"
    }
   ],
   "source": [
    "l = lista_informacion\n",
    "\n",
    "for elem in l:\n",
    "    print(elem)"
   ]
  },
  {
   "cell_type": "code",
   "execution_count": 33,
   "metadata": {},
   "outputs": [],
   "source": [
    "#Recorrer 'lista' para mostrar todos los elementos que contiene concatenado con el string \"--> OK\"\n"
   ]
  },
  {
   "cell_type": "code",
   "execution_count": 34,
   "metadata": {
    "tags": []
   },
   "outputs": [
    {
     "output_type": "stream",
     "name": "stdout",
     "text": "15--> OK\nTrue--> OK\nRecoletos--> OK\nNone--> OK\n[15, 'Recoletos']--> OK\n6--> OK\n"
    }
   ],
   "source": [
    "for elem in l:\n",
    "    print(str(elem) + \"--> OK\")\n"
   ]
  },
  {
   "cell_type": "code",
   "execution_count": 35,
   "metadata": {},
   "outputs": [
    {
     "output_type": "error",
     "ename": "NameError",
     "evalue": "name 'funcion_concatenar_en_lista' is not defined",
     "traceback": [
      "\u001b[0;31m---------------------------------------------------------------------------\u001b[0m",
      "\u001b[0;31mNameError\u001b[0m                                 Traceback (most recent call last)",
      "\u001b[0;32m<ipython-input-35-637a992935c9>\u001b[0m in \u001b[0;36m<module>\u001b[0;34m\u001b[0m\n\u001b[0;32m----> 1\u001b[0;31m \u001b[0mfuncion_concatenar_en_lista\u001b[0m\u001b[0;34m(\u001b[0m\u001b[0mlista\u001b[0m\u001b[0;34m=\u001b[0m\u001b[0mlista_informacion\u001b[0m\u001b[0;34m)\u001b[0m\u001b[0;34m\u001b[0m\u001b[0;34m\u001b[0m\u001b[0m\n\u001b[0m",
      "\u001b[0;31mNameError\u001b[0m: name 'funcion_concatenar_en_lista' is not defined"
     ]
    }
   ],
   "source": [
    "funcion_concatenar_en_lista(lista=lista_informacion)"
   ]
  },
  {
   "cell_type": "code",
   "execution_count": 36,
   "metadata": {},
   "outputs": [],
   "source": [
    "#Recorrer 'lista' para mostrar todos los elementos que contiene excepto el primero.\n"
   ]
  },
  {
   "cell_type": "code",
   "execution_count": 37,
   "metadata": {
    "tags": []
   },
   "outputs": [
    {
     "output_type": "stream",
     "name": "stdout",
     "text": "[True, 'Recoletos', None, [15, 'Recoletos'], '6']\n"
    }
   ],
   "source": [
    "for elem in l:\n",
    "    print(l[1:6])\n",
    "    break"
   ]
  },
  {
   "cell_type": "code",
   "execution_count": 38,
   "metadata": {},
   "outputs": [],
   "source": [
    "#Recorrer 'lista' para mostrar todos los elementos que contiene excepto el último."
   ]
  },
  {
   "cell_type": "code",
   "execution_count": 39,
   "metadata": {
    "tags": []
   },
   "outputs": [
    {
     "output_type": "stream",
     "name": "stdout",
     "text": "[15, True, 'Recoletos', None, [15, 'Recoletos']]\n"
    }
   ],
   "source": [
    "for elem in l:\n",
    "    print(l[0:5])\n",
    "    break\n",
    "    "
   ]
  },
  {
   "cell_type": "code",
   "execution_count": 40,
   "metadata": {},
   "outputs": [],
   "source": [
    "#Recorrer 'lista' para mostrar todos los elementos que contiene excepto el número de la calle y las horas que has dormido."
   ]
  },
  {
   "cell_type": "code",
   "execution_count": 41,
   "metadata": {
    "tags": []
   },
   "outputs": [
    {
     "output_type": "stream",
     "name": "stdout",
     "text": "[True, 'Recoletos', None, [15, 'Recoletos']]\n"
    }
   ],
   "source": [
    "for elem in l:\n",
    "    print(l[1:5])\n",
    "    break\n",
    "    "
   ]
  },
  {
   "cell_type": "code",
   "execution_count": 42,
   "metadata": {},
   "outputs": [],
   "source": [
    "#Recorrer 'lista' para mostrar todos los elementos que contiene excepto el primer elemento de la lista de la cuarta posición."
   ]
  },
  {
   "cell_type": "code",
   "execution_count": 43,
   "metadata": {},
   "outputs": [
    {
     "output_type": "execute_result",
     "data": {
      "text/plain": "[15, True, 'Recoletos', None, [15, 'Recoletos'], '6']"
     },
     "metadata": {},
     "execution_count": 43
    }
   ],
   "source": [
    "lista_informacion"
   ]
  },
  {
   "cell_type": "code",
   "execution_count": 44,
   "metadata": {},
   "outputs": [
    {
     "output_type": "error",
     "ename": "SyntaxError",
     "evalue": "invalid character in identifier (<ipython-input-44-0be006947fc6>, line 6)",
     "traceback": [
      "\u001b[0;36m  File \u001b[0;32m\"<ipython-input-44-0be006947fc6>\"\u001b[0;36m, line \u001b[0;32m6\u001b[0m\n\u001b[0;31m    ​\u001b[0m\n\u001b[0m    ^\u001b[0m\n\u001b[0;31mSyntaxError\u001b[0m\u001b[0;31m:\u001b[0m invalid character in identifier\n"
     ]
    }
   ],
   "source": [
    "def elemento(lista):\n",
    "    for elem in lista:\n",
    "        if elem == lista[4][0]:\n",
    "            continue\n",
    "        print(elem)\n",
    "​\n",
    "elemento(lista=lista_informacion)"
   ]
  },
  {
   "cell_type": "code",
   "execution_count": 45,
   "metadata": {
    "tags": []
   },
   "outputs": [
    {
     "output_type": "stream",
     "name": "stdout",
     "text": "15\nTrue\nRecoletos\nNone\nRecoletos\n6\n"
    }
   ],
   "source": [
    "def mi_funcion(lista):\n",
    "    pos = 0\n",
    "    for elem in lista:\n",
    "        if pos != 4:\n",
    "            print(elem)\n",
    "        elif pos == 4:\n",
    "            print(elem[1])\n",
    "        pos = pos + 1\n",
    "\n",
    "mi_funcion(lista=lista_informacion)\n"
   ]
  },
  {
   "cell_type": "code",
   "execution_count": 46,
   "metadata": {
    "tags": []
   },
   "outputs": [
    {
     "output_type": "stream",
     "name": "stdout",
     "text": "15\nTrue\nRecoletos\nNone\nRecoletos\n6\n"
    }
   ],
   "source": [
    "def mi_funcion(lista):\n",
    "    for i, elem in enumerate(lista):\n",
    "        if i != 4:\n",
    "            print(elem)\n",
    "        elif i == 4:\n",
    "            print(elem[1])\n",
    "\n",
    "mi_funcion(lista=lista_informacion)\n"
   ]
  },
  {
   "cell_type": "code",
   "execution_count": 47,
   "metadata": {
    "tags": []
   },
   "outputs": [
    {
     "output_type": "stream",
     "name": "stdout",
     "text": "True\nRecoletos\nNone\n[15, 'Recoletos']\n6\n"
    }
   ],
   "source": [
    "for elem in l:\n",
    "    if elem == l[4][0]:\n",
    "        continue\n",
    "    print(elem)\n",
    "    "
   ]
  },
  {
   "cell_type": "code",
   "execution_count": 48,
   "metadata": {
    "tags": []
   },
   "outputs": [
    {
     "output_type": "stream",
     "name": "stdout",
     "text": "True\nRecoletos\nNone\n[15, 'Recoletos']\n6\n"
    }
   ],
   "source": [
    "for elem in l:\n",
    "    if elem == l[4][0]:\n",
    "        continue\n",
    "    print(elem)"
   ]
  },
  {
   "cell_type": "code",
   "execution_count": 49,
   "metadata": {},
   "outputs": [
    {
     "output_type": "execute_result",
     "data": {
      "text/plain": "[15, True, 'Recoletos', None, [15, 'Recoletos'], '6']"
     },
     "metadata": {},
     "execution_count": 49
    }
   ],
   "source": [
    "numero_bridge = 15\n",
    "gusto_personal = True\n",
    "nombre_calle = \"Recoletos\"\n",
    "nada = None\n",
    "lista_direccion = [numero_bridge, nombre_calle]\n",
    "horas_sueno = str(6)\n",
    "\n",
    "lista_informacion = [numero_bridge, gusto_personal, nombre_calle, nada, lista_direccion, horas_sueno]\n",
    "lista_informacion"
   ]
  },
  {
   "cell_type": "code",
   "execution_count": 151,
   "metadata": {
    "tags": []
   },
   "outputs": [
    {
     "output_type": "stream",
     "name": "stdout",
     "text": "15\nTrue\nRecoletos\n[15, 'Recoletos']\nyo uso gafas\n41\n32\n[1.2, 3.0, 2.3, 0.8, 1.5]\n"
    }
   ],
   "source": [
    "l = lista_informacion\n",
    "\n",
    "for elem in l:\n",
    "  \n",
    "    if elem == l[4][0]:\n",
    "        continue\n",
    "    print(elem)"
   ]
  },
  {
   "cell_type": "code",
   "execution_count": 51,
   "metadata": {},
   "outputs": [],
   "source": [
    "#Recorrer 'lista' para mostrar todos los elementos que contiene excepto el que contiene la información sobre si os gusta la montaña o playa SI os gusta la montaña."
   ]
  },
  {
   "cell_type": "code",
   "execution_count": 152,
   "metadata": {
    "tags": []
   },
   "outputs": [
    {
     "output_type": "stream",
     "name": "stdout",
     "text": "15\nRecoletos\n[15, 'Recoletos']\n7\nyo uso gafas\n41\n32\n[1.2, 3.0, 2.3, 0.8, 1.5]\n"
    }
   ],
   "source": [
    "for elem in l:\n",
    "    if elem == True:\n",
    "        continue\n",
    "    elif elem == False:\n",
    "        continue\n",
    "    print(elem)\n"
   ]
  },
  {
   "cell_type": "code",
   "execution_count": 153,
   "metadata": {
    "tags": []
   },
   "outputs": [
    {
     "output_type": "stream",
     "name": "stdout",
     "text": "[1.2, 3.0, 2.3, 0.8, 1.5]\n"
    }
   ],
   "source": [
    "#Recorrer 'lista' para mostrar el último elemento.\n",
    "for elem in l:\n",
    "    print(l[-1])\n",
    "    break\n",
    "    "
   ]
  },
  {
   "cell_type": "code",
   "execution_count": 54,
   "metadata": {
    "tags": []
   },
   "outputs": [
    {
     "output_type": "stream",
     "name": "stdout",
     "text": "Help on class range in module builtins:\n\nclass range(object)\n |  range(stop) -> range object\n |  range(start, stop[, step]) -> range object\n |  \n |  Return an object that produces a sequence of integers from start (inclusive)\n |  to stop (exclusive) by step.  range(i, j) produces i, i+1, i+2, ..., j-1.\n |  start defaults to 0, and stop is omitted!  range(4) produces 0, 1, 2, 3.\n |  These are exactly the valid indices for a list of 4 elements.\n |  When step is given, it specifies the increment (or decrement).\n |  \n |  Methods defined here:\n |  \n |  __bool__(self, /)\n |      self != 0\n |  \n |  __contains__(self, key, /)\n |      Return key in self.\n |  \n |  __eq__(self, value, /)\n |      Return self==value.\n |  \n |  __ge__(self, value, /)\n |      Return self>=value.\n |  \n |  __getattribute__(self, name, /)\n |      Return getattr(self, name).\n |  \n |  __getitem__(self, key, /)\n |      Return self[key].\n |  \n |  __gt__(self, value, /)\n |      Return self>value.\n |  \n |  __hash__(self, /)\n |      Return hash(self).\n |  \n |  __iter__(self, /)\n |      Implement iter(self).\n |  \n |  __le__(self, value, /)\n |      Return self<=value.\n |  \n |  __len__(self, /)\n |      Return len(self).\n |  \n |  __lt__(self, value, /)\n |      Return self<value.\n |  \n |  __ne__(self, value, /)\n |      Return self!=value.\n |  \n |  __reduce__(...)\n |      Helper for pickle.\n |  \n |  __repr__(self, /)\n |      Return repr(self).\n |  \n |  __reversed__(...)\n |      Return a reverse iterator.\n |  \n |  count(...)\n |      rangeobject.count(value) -> integer -- return number of occurrences of value\n |  \n |  index(...)\n |      rangeobject.index(value) -> integer -- return index of value.\n |      Raise ValueError if the value is not present.\n |  \n |  ----------------------------------------------------------------------\n |  Static methods defined here:\n |  \n |  __new__(*args, **kwargs) from builtins.type\n |      Create and return a new object.  See help(type) for accurate signature.\n |  \n |  ----------------------------------------------------------------------\n |  Data descriptors defined here:\n |  \n |  start\n |  \n |  step\n |  \n |  stop\n\n"
    }
   ],
   "source": [
    "help(range)"
   ]
  },
  {
   "cell_type": "code",
   "execution_count": 154,
   "metadata": {
    "tags": []
   },
   "outputs": [
    {
     "output_type": "stream",
     "name": "stdout",
     "text": "8\n"
    }
   ],
   "source": [
    "def f_14(lista):\n",
    "\n",
    "    for elem in range(len(lista)):\n",
    "        if elem == (len(lista) - 1):\n",
    "            print(elem)\n",
    "\n",
    "f_14(lista=lista_informacion)        "
   ]
  },
  {
   "cell_type": "code",
   "execution_count": 155,
   "metadata": {},
   "outputs": [
    {
     "output_type": "execute_result",
     "data": {
      "text/plain": "[15,\n True,\n 'Recoletos',\n [15, 'Recoletos'],\n '7',\n 'yo uso gafas',\n 41,\n 32,\n [1.2, 3.0, 2.3, 0.8, 1.5]]"
     },
     "metadata": {},
     "execution_count": 155
    }
   ],
   "source": [
    "lista_informacion\n"
   ]
  },
  {
   "cell_type": "code",
   "execution_count": 156,
   "metadata": {
    "tags": []
   },
   "outputs": [
    {
     "output_type": "stream",
     "name": "stdout",
     "text": "[1.2, 3.0, 2.3, 0.8, 1.5]\n"
    }
   ],
   "source": [
    "def f_14(lista):\n",
    "\n",
    "    for pos, elem in enumerate(lista):\n",
    "        if pos == len(lista)-1:\n",
    "            print(elem)\n",
    "\n",
    "f_14(lista=lista_informacion)"
   ]
  },
  {
   "cell_type": "code",
   "execution_count": 157,
   "metadata": {
    "tags": []
   },
   "outputs": [
    {
     "output_type": "stream",
     "name": "stdout",
     "text": "[1.2, 3.0, 2.3, 0.8, 1.5]\n"
    }
   ],
   "source": [
    "for elem in l:\n",
    "    print(l[-1])\n",
    "    break   "
   ]
  },
  {
   "cell_type": "markdown",
   "metadata": {},
   "source": [
    "#Mostrar por pantalla \"Me gusta la tranquilidad\" si te gusta más la montaña y \"Me gusta ver las carnes al aire libre\" si te gusta más la playa.\n"
   ]
  },
  {
   "cell_type": "code",
   "execution_count": 158,
   "metadata": {
    "tags": []
   },
   "outputs": [
    {
     "output_type": "stream",
     "name": "stdout",
     "text": "Me gusta ver las carnes al aire libre\n"
    }
   ],
   "source": [
    "numero_bridge = 15\n",
    "gusto_personal = True\n",
    "nombre_calle = \"Recoletos\"\n",
    "nada = None\n",
    "lista_direccion = [numero_bridge, nombre_calle]\n",
    "horas_sueno = str(7)\n",
    "\n",
    "lista_informacion = [numero_bridge, gusto_personal, nombre_calle, nada, lista_direccion, horas_sueno]\n",
    "\n",
    "lista = lista_informacion\n",
    "\n",
    "def f(lista):\n",
    "    if lista[1] == True:       \n",
    "        print(\"Me gusta ver las carnes al aire libre\")\n",
    "    elif lista[1] == False:\n",
    "        print(\"Me gusta la tranquilidad\")\n",
    "\n",
    "f(lista=lista_informacion)\n",
    "\n"
   ]
  },
  {
   "cell_type": "code",
   "execution_count": 159,
   "metadata": {
    "tags": []
   },
   "outputs": [
    {
     "output_type": "stream",
     "name": "stdout",
     "text": "Me gusta ver las carnes al aire libre\n"
    }
   ],
   "source": [
    "def f_1_5(l):\n",
    "    if l[1] == True:\n",
    "        return \"Me gusta ver las carnes al aire libre\"\n",
    "    elif l[1] == False:\n",
    "        return \"Me gusta la tranquilidad\"\n",
    "\n",
    "x = f_1_5(l=lista_informacion)\n",
    "print(x)\n"
   ]
  },
  {
   "cell_type": "code",
   "execution_count": 61,
   "metadata": {},
   "outputs": [],
   "source": [
    "#Crear una variable llamada 'zona' y darle el valor de None. Recorrer 'lista' y actualizar 'zona' a True si y solo si has dormido más de 7 horas, te gusta la playa y la suma de las horas que has dormido más el número de The Bridge es menor a 24. Para cualquier otro caso, 'zona' será False. Retornar el valor de 'zona'. Esta función se llamará 'funcion_zona'.\n"
   ]
  },
  {
   "cell_type": "code",
   "execution_count": 160,
   "metadata": {},
   "outputs": [
    {
     "output_type": "execute_result",
     "data": {
      "text/plain": "[15, True, 'Recoletos', None, [15, 'Recoletos'], '7']"
     },
     "metadata": {},
     "execution_count": 160
    }
   ],
   "source": [
    "lista_informacion"
   ]
  },
  {
   "cell_type": "code",
   "execution_count": 161,
   "metadata": {
    "tags": []
   },
   "outputs": [
    {
     "output_type": "stream",
     "name": "stdout",
     "text": "False\n"
    }
   ],
   "source": [
    "def funcion_zona(lista):\n",
    "    zona = None\n",
    "    suma = lista[0] + int(lista[5])\n",
    "\n",
    "    for elem in lista:\n",
    "        if int(lista[5]) > 7 and lista[1] == True and suma < 24:\n",
    "            zona = True\n",
    "        else:\n",
    "            zona = False            \n",
    "        return zona\n",
    "\n",
    "x=funcion_zona(lista=lista_informacion)\n",
    "print(x)"
   ]
  },
  {
   "cell_type": "code",
   "execution_count": 64,
   "metadata": {},
   "outputs": [
    {
     "output_type": "execute_result",
     "data": {
      "text/plain": "False"
     },
     "metadata": {},
     "execution_count": 64
    }
   ],
   "source": [
    "def funcion_zona(lista):\n",
    "    zona = None\n",
    "    primer_valor = None\n",
    "    con1 = None\n",
    "    con2 = None\n",
    "    con3 = None\n",
    "\n",
    "    for pos, elem in enumerate(lista):\n",
    "        if pos == 0: #primer elemento\n",
    "            primer_valor = elem\n",
    "        elif pos == 2:\n",
    "            con2 = (elem == True)\n",
    "        elif pos == len(lista) -1:\n",
    "            con1 = int(elem) > 7\n",
    "            con3 = (primer_valor + int(elem)) < 24\n",
    "    if con1 and con2 and con3:\n",
    "        zona = True\n",
    "    else:\n",
    "        zona = False\n",
    "  \n",
    "    return zona\n",
    "    \n",
    "funcion_zona(lista=lista_informacion)\n"
   ]
  },
  {
   "cell_type": "code",
   "execution_count": 162,
   "metadata": {
    "tags": []
   },
   "outputs": [
    {
     "output_type": "stream",
     "name": "stdout",
     "text": "5 7\n"
    }
   ],
   "source": [
    "def funcion_zona(lista):\n",
    "    zona = None\n",
    "    suma = lista[0] = int(lista[5])\n",
    "\n",
    "    for pos, elem in enumerate(lista):\n",
    "        if pos == len(lista) - 1:\n",
    "            print(pos, elem)\n",
    "    \n",
    "\n",
    "funcion_zona(lista=lista_informacion)\n",
    "            "
   ]
  },
  {
   "cell_type": "markdown",
   "metadata": {},
   "source": [
    "3. Dentro de funciones con el nombre que queráis:\n",
    "    - Utilizar la función enumerate del bucle for utilizando la lista de alturas y la lista de alumnos creada en días anteriores (las listas han de estar ordenadas) para: \n",
    "        - Mostrar la altura acompañado del nombre del alumno al que pertenece. "
   ]
  },
  {
   "cell_type": "code",
   "execution_count": 163,
   "metadata": {
    "tags": []
   },
   "outputs": [
    {
     "output_type": "stream",
     "name": "stdout",
     "text": "[['Jalex', 6, 47, 1.8], ['Tomas', 5, 31, 1.8], ['David', 6, 39, 1.81], ['Natalio', 2, 29, 1.73], ['Monica', 3, 47, 1.73], ['Roxanna', 4, 24, 1.75], ['Filipa', 5, 34, 1.64], ['Elsa', 4, 36, 1.89], ['Cristina', 3, 46, 1.7], ['Clara', 6, 29, 1.67], ['Alba', 3, 29, 1.68], ['Valeria', 1, 40, 1.6], ['Jose Luis', 4, 47, 1.69], ['Gabriel', 1, 28, 1.76], ['Rochi', 2, 38, 1.6], ['Jose Maria', 5, 51, 1.75]]\n"
    }
   ],
   "source": [
    "lista_alumnos = [[\"Jalex\", 6, 47, 1.80], [\"Tomas\", 5, 31, 1.80], [\"David\", 6, 39, 1.81], [\"Natalio\", 2, 29, 1.73], [\"Monica\", 3, 47, 1.73], [\"Roxanna\", 4,24,1.75], [\"Filipa\", 5,34,1.64], [\"Elsa\", 4, 36, 1.89], [\"Cristina\", 3, 46, 1.70], [\"Clara\", 6, 29, 1.67], [\"Alba\", 3, 29, 1.68], [\"Valeria\",1, 40, 1.60], [\"Jose Luis\", 4, 47, 1.69], [\"Gabriel\", 1, 28, 1.76], [\"Rochi\", 2, 38, 1.60], [\"Jose Maria\", 5, 51, 1.75]]\n",
    "\n",
    "r = lista_alumnos\n",
    "print(r)"
   ]
  },
  {
   "cell_type": "code",
   "execution_count": 67,
   "metadata": {
    "tags": []
   },
   "outputs": [
    {
     "output_type": "stream",
     "name": "stdout",
     "text": "[['Jalex', '1.8'], ['Tomas', '1.8'], ['David', '1.81'], ['Natalio', '1.73'], ['Monica', '1.73'], ['Roxanna', '1.75'], ['Filipa', '1.64'], ['Elsa', '1.89'], ['Cristina', '1.7'], ['Clara', '1.67'], ['Alba', '1.68'], ['Valeria', '1.6'], ['Jose Luis', '1.69'], ['Gabriel', '1.76'], ['Rochi', '1.6'], ['Jose Maria', '1.75']]\n"
    }
   ],
   "source": [
    "lista_alumnos = [[\"Jalex\", 6, 47, 1.80], [\"Tomas\", 5, 31, 1.80], [\"David\", 6, 39, 1.81], [\"Natalio\", 2, 29, 1.73], [\"Monica\", 3, 47, 1.73], [\"Roxanna\", 4,24,1.75], [\"Filipa\", 5,34,1.64], [\"Elsa\", 4, 36, 1.89], [\"Cristina\", 3, 46, 1.70], [\"Clara\", 6, 29, 1.67], [\"Alba\", 3, 29, 1.68], [\"Valeria\",1, 40, 1.60], [\"Jose Luis\", 4, 47, 1.69], [\"Gabriel\", 1, 28, 1.76], [\"Rochi\", 2, 38, 1.60], [\"Jose Maria\", 5, 51, 1.75]] \n",
    "\n",
    "def alumnos (lista2):     \n",
    "    \n",
    "    height = []\n",
    "    for x, v in enumerate(lista2):\n",
    "        pares=[]\n",
    "        pares.append(str(lista2[x][0]))\n",
    "        pares.append(str(lista2[x][-1]))\n",
    "        height.append(pares)\n",
    "    return(height)\n",
    "\n",
    "    \n",
    "print(alumnos(lista_alumnos))\n",
    "\n"
   ]
  },
  {
   "cell_type": "code",
   "execution_count": 164,
   "metadata": {},
   "outputs": [
    {
     "output_type": "execute_result",
     "data": {
      "text/plain": "list"
     },
     "metadata": {},
     "execution_count": 164
    }
   ],
   "source": [
    "type(lista_alumnos)\n"
   ]
  },
  {
   "cell_type": "code",
   "execution_count": 69,
   "metadata": {},
   "outputs": [
    {
     "output_type": "execute_result",
     "data": {
      "text/plain": "[['Jalex', 6, 47, 1.8],\n ['Tomas', 5, 31, 1.8],\n ['David', 6, 39, 1.81],\n ['Natalio', 2, 29, 1.73],\n ['Monica', 3, 47, 1.73],\n ['Roxanna', 4, 24, 1.75],\n ['Filipa', 5, 34, 1.64],\n ['Elsa', 4, 36, 1.89],\n ['Cristina', 3, 46, 1.7],\n ['Clara', 6, 29, 1.67],\n ['Alba', 3, 29, 1.68],\n ['Valeria', 1, 40, 1.6],\n ['Jose Luis', 4, 47, 1.69],\n ['Gabriel', 1, 28, 1.76],\n ['Rochi', 2, 38, 1.6],\n ['Jose Maria', 5, 51, 1.75]]"
     },
     "metadata": {},
     "execution_count": 69
    }
   ],
   "source": [
    "lista_alumnos\n"
   ]
  },
  {
   "cell_type": "code",
   "execution_count": 165,
   "metadata": {
    "tags": []
   },
   "outputs": [
    {
     "output_type": "stream",
     "name": "stdout",
     "text": "['Jalex', 6, 47, 1.8]\n"
    },
    {
     "output_type": "error",
     "ename": "NameError",
     "evalue": "name 'nombres_alumnos' is not defined",
     "traceback": [
      "\u001b[0;31m---------------------------------------------------------------------------\u001b[0m",
      "\u001b[0;31mNameError\u001b[0m                                 Traceback (most recent call last)",
      "\u001b[0;32m<ipython-input-165-cbf040af1419>\u001b[0m in \u001b[0;36m<module>\u001b[0;34m\u001b[0m\n\u001b[1;32m      2\u001b[0m     \u001b[0mx\u001b[0m \u001b[0;34m=\u001b[0m \u001b[0mlista_alumnos\u001b[0m\u001b[0;34m[\u001b[0m\u001b[0;36m0\u001b[0m\u001b[0;34m:\u001b[0m\u001b[0;34m-\u001b[0m\u001b[0;36m1\u001b[0m\u001b[0;34m]\u001b[0m\u001b[0;34m[\u001b[0m\u001b[0;36m0\u001b[0m\u001b[0;34m]\u001b[0m\u001b[0;34m\u001b[0m\u001b[0;34m\u001b[0m\u001b[0m\n\u001b[1;32m      3\u001b[0m     \u001b[0mprint\u001b[0m\u001b[0;34m(\u001b[0m\u001b[0mx\u001b[0m\u001b[0;34m)\u001b[0m\u001b[0;34m\u001b[0m\u001b[0;34m\u001b[0m\u001b[0m\n\u001b[0;32m----> 4\u001b[0;31m     \u001b[0mnombres_alumnos\u001b[0m\u001b[0;34m.\u001b[0m\u001b[0mappend\u001b[0m\u001b[0;34m(\u001b[0m\u001b[0mlista_alumnos\u001b[0m\u001b[0;34m[\u001b[0m\u001b[0;36m0\u001b[0m\u001b[0;34m:\u001b[0m\u001b[0;34m-\u001b[0m\u001b[0;36m1\u001b[0m\u001b[0;34m]\u001b[0m\u001b[0;34m[\u001b[0m\u001b[0;36m0\u001b[0m\u001b[0;34m]\u001b[0m\u001b[0;34m)\u001b[0m\u001b[0;34m\u001b[0m\u001b[0;34m\u001b[0m\u001b[0m\n\u001b[0m\u001b[1;32m      5\u001b[0m \u001b[0;34m\u001b[0m\u001b[0m\n\u001b[1;32m      6\u001b[0m \u001b[0mprint\u001b[0m\u001b[0;34m(\u001b[0m\u001b[0mnombres_alumnos\u001b[0m\u001b[0;34m)\u001b[0m\u001b[0;34m\u001b[0m\u001b[0;34m\u001b[0m\u001b[0m\n",
      "\u001b[0;31mNameError\u001b[0m: name 'nombres_alumnos' is not defined"
     ]
    }
   ],
   "source": [
    "for x in lista_alumnos:\n",
    "    x = lista_alumnos[0:-1][0]\n",
    "    print(x)\n",
    "    nombres_alumnos.append(lista_alumnos[0:-1][0])\n",
    "\n",
    "print(nombres_alumnos)\n"
   ]
  },
  {
   "cell_type": "code",
   "execution_count": 166,
   "metadata": {
    "tags": []
   },
   "outputs": [
    {
     "output_type": "stream",
     "name": "stdout",
     "text": "['Jalex', 'Tomas', 'David', 'Natalio', 'Monica', 'Roxanna', 'Filipa', 'Elsa', 'Cristina', 'Clara', 'Alba', 'Valeria', 'Jose Luis', 'Gabriel', 'Rochi', 'Jose Maria']\n"
    },
    {
     "output_type": "execute_result",
     "data": {
      "text/plain": "[47, 31, 39, 29, 47, 24, 34, 36, 46, 29, 29, 40, 47, 28, 38, 51]"
     },
     "metadata": {},
     "execution_count": 166
    }
   ],
   "source": [
    "nombres_alumnos = [x[0] for x in lista_alumnos]\n",
    "nombres_alumnos\n",
    "print(nombres_alumnos)\n",
    "alturas = [x[2] for x in lista_alumnos]\n",
    "alturas\n"
   ]
  },
  {
   "cell_type": "code",
   "execution_count": 72,
   "metadata": {
    "tags": []
   },
   "outputs": [
    {
     "output_type": "stream",
     "name": "stdout",
     "text": "['Jalex', 47]\n['Tomas', 31]\n['David', 39]\n['Natalio', 29]\n['Monica', 47]\n['Roxanna', 24]\n['Filipa', 34]\n['Elsa', 36]\n['Cristina', 46]\n['Clara', 29]\n['Alba', 29]\n['Valeria', 40]\n['Jose Luis', 47]\n['Gabriel', 28]\n['Rochi', 38]\n['Jose Maria', 51]\n"
    }
   ],
   "source": [
    "def nombre_mas_lindo(l_nombres, l_alturas):\n",
    "    for pos, elem in enumerate(l_nombres):\n",
    "        g = [elem, l_alturas[pos]]\n",
    "        print(g)\n",
    "\n",
    "nombre_mas_lindo(l_nombres=nombres_alumnos, l_alturas=alturas)\n"
   ]
  },
  {
   "cell_type": "code",
   "execution_count": 73,
   "metadata": {},
   "outputs": [],
   "source": [
    "# 4. Hacer un programa que pregunte si le gusta la montaña al usuario y, si es que no, llame a la función funcion_zona.\n"
   ]
  },
  {
   "cell_type": "code",
   "execution_count": 74,
   "metadata": {
    "tags": []
   },
   "outputs": [
    {
     "output_type": "stream",
     "name": "stdout",
     "text": "5 7\n"
    }
   ],
   "source": [
    "def f_18():\n",
    "    x = input(\"Te gusta la montana? [yes/no]\")\n",
    "\n",
    "    if x == \"yes\":\n",
    "        pass\n",
    "    elif x == \"no\":\n",
    "        funcion_zona(lista=lista_informacion)\n",
    "\n",
    "f_18()"
   ]
  },
  {
   "cell_type": "code",
   "execution_count": 75,
   "metadata": {
    "tags": []
   },
   "outputs": [
    {
     "output_type": "stream",
     "name": "stdout",
     "text": "ok\n"
    }
   ],
   "source": [
    "def gusto(lista):\n",
    "\n",
    "    gusto_personal = input(\"Le gusta la montania? \")\n",
    "    if gusto_personal == \"No\":\n",
    "       return funcion_zona(lista)\n",
    "    else:\n",
    "        print(\"ok\")\n",
    "\n",
    "gusto(lista=lista_informacion)\n"
   ]
  },
  {
   "cell_type": "code",
   "execution_count": 76,
   "metadata": {
    "tags": []
   },
   "outputs": [
    {
     "output_type": "stream",
     "name": "stdout",
     "text": "Hola ro!\nro\nro\nro\n\n"
    }
   ],
   "source": [
    "\n",
    "Name = input(\"introduce tu nombre de usuario: \")\n",
    "print(\"Hola \" + Name + \"!\")\n",
    "n = input(\"Ingresa un numero: \")\n",
    "print((Name + \"\\n\") * int(n))"
   ]
  },
  {
   "cell_type": "code",
   "execution_count": 77,
   "metadata": {},
   "outputs": [],
   "source": [
    "#Hacer una función que guarde en una variable el valor de 'nada' y lo devuelva por pantalla. Concatenar su valor con el número de the bridge y mostrarlo por pantalla. "
   ]
  },
  {
   "cell_type": "code",
   "execution_count": 167,
   "metadata": {
    "tags": []
   },
   "outputs": [
    {
     "output_type": "stream",
     "name": "stdout",
     "text": "nada 7\n"
    }
   ],
   "source": [
    "def f_s(nada):\n",
    "    nada = None\n",
    "\n",
    "    suma = (\"nada\" + \" \" + str(lista[0]))\n",
    "    print(suma)\n",
    "\n",
    "f_s(nada = None)"
   ]
  },
  {
   "cell_type": "code",
   "execution_count": 168,
   "metadata": {
    "tags": []
   },
   "outputs": [
    {
     "output_type": "stream",
     "name": "stdout",
     "text": "nada\nnada7\nFalse\n"
    },
    {
     "output_type": "execute_result",
     "data": {
      "text/plain": "False"
     },
     "metadata": {},
     "execution_count": 168
    }
   ],
   "source": [
    "def f_s(lista):\n",
    "    nada = \"nada\"\n",
    "    print(nada)\n",
    "    concatenacion = nada + str(lista[0])\n",
    "    print(concatenacion)\n",
    "    if len(concatenacion) == 6:\n",
    "        print(True)\n",
    "        return True\n",
    "    else:\n",
    "        print(False)\n",
    "        return False\n",
    "result = f_s(lista=lista_informacion)\n",
    "result\n"
   ]
  },
  {
   "cell_type": "markdown",
   "metadata": {},
   "source": [
    "Ahora, mostrar por pantalla un booleano True si el tamaño de la palabra concatenada es 6. Sino, será False. La función debe retornar el valor True o False. El nombre de la función será 'f_s'."
   ]
  },
  {
   "cell_type": "code",
   "execution_count": 169,
   "metadata": {},
   "outputs": [],
   "source": [
    "suma = (\"nada\" + \" \" + str(lista[0]))"
   ]
  },
  {
   "cell_type": "code",
   "execution_count": 151,
   "metadata": {
    "tags": []
   },
   "outputs": [
    {
     "output_type": "stream",
     "name": "stdout",
     "text": "True\n"
    },
    {
     "output_type": "execute_result",
     "data": {
      "text/plain": "6"
     },
     "metadata": {},
     "execution_count": 151
    }
   ],
   "source": [
    "def f_s():\n",
    "    largo = len(str(suma))\n",
    "    if largo == 6:\n",
    "        print(True)\n",
    "    elif largo != 6:\n",
    "        print(False)\n",
    "    return largo\n",
    "\n",
    "f_s()"
   ]
  },
  {
   "cell_type": "markdown",
   "metadata": {},
   "source": [
    "#Crear una lista 'lista_aux' con 7 elementos (los que queráis). Crear una función 'funcion_usa_f_s' que reciba por parámetros dos argumento 'f_s' y 'lista'.\n",
    "\n",
    "Si el valor de 'f_s' es True, entonces borrar un elemento de 'lista'. Si 'lista' tiene algún elemento, entonces repetir el proceso hasta que no tenga elementos. La entrada 'lista' ha de ser 'lista_aux' y 'f_s' será la función 'f_s' del punto anterior.\n"
   ]
  },
  {
   "cell_type": "code",
   "execution_count": 141,
   "metadata": {},
   "outputs": [
    {
     "output_type": "execute_result",
     "data": {
      "text/plain": "['perro', 'gato', 'caballo', 'lemur', 'mono', 'vaca', 'leon']"
     },
     "metadata": {},
     "execution_count": 141
    }
   ],
   "source": [
    "lista_aux = [\"perro\", \"gato\", \"caballo\", \"lemur\", \"mono\", \"vaca\", \"leon\"]\n",
    "lista_aux"
   ]
  },
  {
   "cell_type": "code",
   "execution_count": 170,
   "metadata": {
    "tags": []
   },
   "outputs": [
    {
     "output_type": "execute_result",
     "data": {
      "text/plain": "['perro', 'gato', 'caballo', 'lemur', 'mono', 'vaca', 'leon']"
     },
     "metadata": {},
     "execution_count": 170
    }
   ],
   "source": [
    "def funcion_usa_f_s(f_s, lista):\n",
    "    if f_s == True:\n",
    "        lista.pop()\n",
    "        if len(lista) > 0:\n",
    "            funcion_usa_f_s(f_s=f_s, lista=lista)\n",
    "\n",
    "funcion_usa_f_s(f_s=result, lista=lista_aux)\n",
    "lista_aux"
   ]
  },
  {
   "cell_type": "markdown",
   "metadata": {},
   "source": [
    "#for x in range(len(lista)):\n",
    "x = f_usa_f_s(f_s=f_s(), lista=lista_aux)\n",
    "print(x)\n",
    "print(lista)"
   ]
  },
  {
   "cell_type": "code",
   "execution_count": 171,
   "metadata": {
    "tags": []
   },
   "outputs": [
    {
     "output_type": "execute_result",
     "data": {
      "text/plain": "['perro', 'gato', 'caballo', 'lemur', 'mono', 'vaca', 'leon']"
     },
     "metadata": {},
     "execution_count": 171
    }
   ],
   "source": [
    "lista_aux = [\"perro\", \"gato\", \"caballo\", \"lemur\", \"mono\", \"vaca\", \"leon\"]\n",
    "lista_aux\n",
    "\n",
    "def f_usa_f_s(f_s, lista_aux):\n",
    "    for i in range(len(lista_aux)):\n",
    "        if f_s == True:\n",
    "            lista_aux.pop()\n",
    "            if len(lista_aux) > 0:\n",
    "                continue   \n",
    "            else:\n",
    "                break \n",
    "\n",
    "f_usa_f_s(f_s,lista_aux)\n",
    "lista_aux\n"
   ]
  },
  {
   "cell_type": "code",
   "execution_count": 84,
   "metadata": {},
   "outputs": [
    {
     "output_type": "execute_result",
     "data": {
      "text/plain": "<function __main__.ro()>"
     },
     "metadata": {},
     "execution_count": 84
    }
   ],
   "source": [
    "def ro():\n",
    "    return 1\n",
    "\n",
    "ro"
   ]
  },
  {
   "cell_type": "code",
   "execution_count": 85,
   "metadata": {},
   "outputs": [],
   "source": [
    "#Dentro de una función llamada 'funcion_comprobacion' que recibe solo un parámetro llamado 'valor_zona' que será el valor que devuelve la función 'funcion_zona' cuando sea invocado, mostrar el valor de 'valor_zona' si es True.\n"
   ]
  },
  {
   "cell_type": "code",
   "execution_count": 172,
   "metadata": {},
   "outputs": [
    {
     "output_type": "execute_result",
     "data": {
      "text/plain": "'si'"
     },
     "metadata": {},
     "execution_count": 172
    }
   ],
   "source": [
    "def funcion_comprobacion(valor_zona):   \n",
    "    return valor_zona \n",
    "    \n",
    "w = input (\"Esta zona es cara\")\n",
    "if w == True:\n",
    "    print(w)\n",
    "\n",
    "funcion_comprobacion(valor_zona = w)\n"
   ]
  },
  {
   "cell_type": "code",
   "execution_count": 87,
   "metadata": {
    "tags": []
   },
   "outputs": [
    {
     "output_type": "stream",
     "name": "stdout",
     "text": "5 7\nNone\n"
    }
   ],
   "source": [
    "def funcion_comprobacion(valor_zona):\n",
    "    if valor_zona == True:\n",
    "        return valor_zona\n",
    "\n",
    "z = funcion_zona(lista=lista_informacion)\n",
    "funcion_comprobacion(valor_zona=z)\n",
    "print(z)\n"
   ]
  },
  {
   "cell_type": "markdown",
   "metadata": {},
   "source": [
    "##Crear una función 'numeros_pares' que tenga un parámetro de entrada 'arg1' (Entero). La función debe mostrar por pantalla y retornar una lista de números de tamaño 'arg1' siendo números pares."
   ]
  },
  {
   "cell_type": "code",
   "execution_count": 168,
   "metadata": {},
   "outputs": [
    {
     "output_type": "execute_result",
     "data": {
      "text/plain": "[0, 1, 2, 3, 4, 5, 6, 7, 8, 9]"
     },
     "metadata": {},
     "execution_count": 168
    }
   ],
   "source": [
    "listilla = list(range(10))\n",
    "listilla\n"
   ]
  },
  {
   "cell_type": "code",
   "execution_count": 175,
   "metadata": {
    "tags": []
   },
   "outputs": [
    {
     "output_type": "stream",
     "name": "stdout",
     "text": "[0]\n[0]\n[0, 2]\n[0, 2]\n[0, 2, 4]\n[0, 2, 4]\n[0, 2, 4, 6]\n[0, 2, 4, 6]\n[0, 2, 4, 6, 8]\n[0, 2, 4, 6, 8]\n[0, 2, 4, 6, 8, 10]\n[0, 2, 4, 6, 8, 10]\n[0, 2, 4, 6, 8, 10, 12]\n[0, 2, 4, 6, 8, 10, 12]\n[0, 2, 4, 6, 8, 10, 12, 14]\n[0, 2, 4, 6, 8, 10, 12, 14]\n[0, 2, 4, 6, 8, 10, 12, 14, 16]\n[0, 2, 4, 6, 8, 10, 12, 14, 16]\n[0, 2, 4, 6, 8, 10, 12, 14, 16, 18]\n[0, 2, 4, 6, 8, 10, 12, 14, 16, 18]\nTamanio:  10\n"
    }
   ],
   "source": [
    "def numeros_pares(arg1):\n",
    "    lista_pares = []\n",
    "\n",
    "    for i in range(arg1*2):\n",
    "        if (i % 2) == 0:\n",
    "            lista_pares.append(i)\n",
    "        print(lista_pares)\n",
    "    return lista_pares\n",
    "    \n",
    "arg = int(input(\"Ingrese arg1: \"))\n",
    "x = numeros_pares(arg1=arg)\n",
    "print(\"Tamanio: \", len(x))"
   ]
  },
  {
   "cell_type": "markdown",
   "metadata": {},
   "source": [
    "##Crear una función que tenga una variable de entrada 'arg1' (que será la lista de números pares del apartado anterior) y que elimine elementos de la lista (uno a uno) si 'arg1' tiene un tamaño divisible entre 2 y, si no lo tiene, añada, solo una vez, el valor de la función 'f_s’."
   ]
  },
  {
   "cell_type": "code",
   "execution_count": 183,
   "metadata": {
    "tags": []
   },
   "outputs": [
    {
     "output_type": "stream",
     "name": "stdout",
     "text": "[0]\n[0]\n[0, 2]\n[0, 2]\n[0, 2, 4]\n[0, 2, 4]\n[0, 2, 4, 6]\n[0, 2, 4, 6]\n[0, 2, 4, 6, 8]\n[0, 2, 4, 6, 8]\nTrue\n"
    }
   ],
   "source": [
    "def f_22(arg1):\n",
    "    if len(arg1) % 2 == 0:\n",
    "        for i in range(len(arg1)):\n",
    "            print(arg1)\n",
    "            arg1.pop()\n",
    "    else:\n",
    "        arg1.append(f_s())\n",
    "\n",
    "f_22(arg1=numeros_pares(arg1=5))\n"
   ]
  },
  {
   "cell_type": "markdown",
   "metadata": {},
   "source": [
    "### Apartado 3\n",
    "\n",
    "Para este apartado se utilizará la lista 'lista_información. A esa lista, ha de añadirse UTILIZANDO el método 'append':\n",
    "\n",
    "- Un booleano que sea True si utilizas gafas. False para lo contrario. \n",
    "- Un entero que represente tu edad. \n",
    "- Un float que represente el dinero que te has gastado en tu última compra.\n",
    "- Un string que represente el nombre de uno de tus tí@s. Si no tienes, el nombre de uno de tus herman@s. Si no tienes, alguno de tus abuel@s. Si no tienes, el nombre de tu mejor amigo. Y, si no tienes, el nombre de tu psicólog@.\n",
    "- Una lista que tenga como tamaño 5. Cada una de las posiciones debe representar los números que más te gusten en el rango [[0-100]] dividido entre 10. Es decir, si eliges el 11, el número sería el 1.1. Si eliges el 100, sería el 10.  \n",
    "\n",
    "Por último, han de eliminarse las variables 'none' y 'lista_direccion' de dos formas:\n",
    "\n",
    "- 'nada' con el método 'remove' de una lista. \n",
    "- 'lista_direccion' con el método 'pop' con el que se puede eliminar el elemento de una lista a través de una posición. Para más información, hemos puesto un ejemplo más abajo.\n",
    "\n",
    "\n"
   ]
  },
  {
   "cell_type": "code",
   "execution_count": 2,
   "metadata": {},
   "outputs": [
    {
     "output_type": "execute_result",
     "data": {
      "text/plain": "[15, True, 'Recoletos', None, [15, 'Recoletos'], '7']"
     },
     "metadata": {},
     "execution_count": 2
    }
   ],
   "source": [
    "lista_informacion"
   ]
  },
  {
   "cell_type": "code",
   "execution_count": 1,
   "metadata": {},
   "outputs": [
    {
     "output_type": "execute_result",
     "data": {
      "text/plain": "[15, True, 'Recoletos', None, [15, 'Recoletos'], '7']"
     },
     "metadata": {},
     "execution_count": 1
    }
   ],
   "source": [
    "numero_bridge = 15\n",
    "gusto_personal = True\n",
    "nombre_calle = \"Recoletos\"\n",
    "nada = None\n",
    "lista_direccion = [numero_bridge, nombre_calle]\n",
    "horas_sueno = str(7)\n",
    "\n",
    "lista_informacion = [numero_bridge, gusto_personal, nombre_calle, nada, lista_direccion, horas_sueno]\n",
    "\n",
    "lista_informacion"
   ]
  },
  {
   "cell_type": "code",
   "execution_count": 3,
   "metadata": {
    "tags": []
   },
   "outputs": [
    {
     "output_type": "stream",
     "name": "stdout",
     "text": "[15, True, 'Recoletos', None, [15, 'Recoletos'], '7', 'yo uso gafas']\n"
    }
   ],
   "source": [
    "def glass(gafas):\n",
    "\n",
    "    gafas = input(\"Usas gafas: \")\n",
    "    if gafas == True or gafas == \"Yes\" or gafas == \"si\":\n",
    "        lista_informacion.append(\"yo uso gafas\")\n",
    "    else:\n",
    "        lista_informacion\n",
    "\n",
    "    print(lista_informacion)    \n",
    "glass(gafas=bool)\n"
   ]
  },
  {
   "cell_type": "code",
   "execution_count": 4,
   "metadata": {},
   "outputs": [
    {
     "output_type": "execute_result",
     "data": {
      "text/plain": "[15, True, 'Recoletos', None, [15, 'Recoletos'], '7', 'yo uso gafas', 41]"
     },
     "metadata": {},
     "execution_count": 4
    }
   ],
   "source": [
    "##entero que represente tu edad\n",
    "edad = input(\"Cuantos anios tienes? \")\n",
    "lista_informacion.append(int(edad))\n",
    "lista_informacion"
   ]
  },
  {
   "cell_type": "code",
   "execution_count": 5,
   "metadata": {},
   "outputs": [
    {
     "output_type": "execute_result",
     "data": {
      "text/plain": "[15, True, 'Recoletos', None, [15, 'Recoletos'], '7', 'yo uso gafas', 41, 32]"
     },
     "metadata": {},
     "execution_count": 5
    }
   ],
   "source": [
    "lista_informacion\n",
    "ultimacompra = input(\"Dinero gastado en euros:\")\n",
    "lista_informacion.append(round(float(ultimacompra)))\n",
    "lista_informacion"
   ]
  },
  {
   "cell_type": "code",
   "execution_count": 6,
   "metadata": {},
   "outputs": [],
   "source": [
    "#Un string que represente el nombre de uno de tus tí@s. Si no tienes, el nombre de uno de tus herman@s. Si no tienes, alguno de tus abuel@s. Si no tienes, el nombre de tu mejor amigo. Y, si no tienes, el nombre de tu psicólog@."
   ]
  },
  {
   "cell_type": "code",
   "execution_count": 94,
   "metadata": {
    "tags": []
   },
   "outputs": [
    {
     "output_type": "stream",
     "name": "stdout",
     "text": "[15, True, 'Recoletos', None, [15, 'Recoletos'], '7', 'yo uso gafas', 41, 32, 'juan']\n"
    }
   ],
   "source": [
    "tio = input(\"Nombre de mi tio: \")\n",
    "lista_informacion.append(str(tio))\n",
    "if tio == 0:\n",
    "    hermano = input(\"Nombre de mi hermano: \")\n",
    "    lista_informacion.append(str(hermano))\n",
    "    if hermano == 0:\n",
    "        abuelo = input(\"Nombre de mi abuelo: \")\n",
    "        lista_informacion.append(str(abuelo))\n",
    "        if abuelo == 0:\n",
    "            amigo = input(\"Nombre de mi mejor amigo: \")\n",
    "            lista_informacion.append(str(amigo))\n",
    "        else:\n",
    "            psicologo = input(\"Nombre de mi psicologo: \")\n",
    "    \n",
    "print(lista_informacion)"
   ]
  },
  {
   "cell_type": "code",
   "execution_count": 7,
   "metadata": {},
   "outputs": [],
   "source": [
    "### Una lista que tenga como tamaño 5. Cada una de las posiciones debe representar los números que más te gusten en el rango [0-100] dividido entre 10. Es decir, si eliges el 11, el número sería el 1.1. Si eliges el 100, sería el 10."
   ]
  },
  {
   "cell_type": "code",
   "execution_count": 8,
   "metadata": {},
   "outputs": [
    {
     "output_type": "execute_result",
     "data": {
      "text/plain": "[1.2, 3.0, 2.3, 0.8, 1.5]"
     },
     "metadata": {},
     "execution_count": 8
    }
   ],
   "source": [
    "lista5 = [1.2, 3.0, 2.3, 0.8, 1.5]\n",
    "lista5\n"
   ]
  },
  {
   "cell_type": "code",
   "execution_count": 9,
   "metadata": {},
   "outputs": [
    {
     "output_type": "execute_result",
     "data": {
      "text/plain": "[15,\n True,\n 'Recoletos',\n None,\n [15, 'Recoletos'],\n '7',\n 'yo uso gafas',\n 41,\n 32,\n [1.2, 3.0, 2.3, 0.8, 1.5]]"
     },
     "metadata": {},
     "execution_count": 9
    }
   ],
   "source": [
    "lista_informacion.append(lista5)\n",
    "lista_informacion\n"
   ]
  },
  {
   "cell_type": "code",
   "execution_count": 10,
   "metadata": {},
   "outputs": [
    {
     "output_type": "execute_result",
     "data": {
      "text/plain": "<zip at 0x10f910550>"
     },
     "metadata": {},
     "execution_count": 10
    }
   ],
   "source": [
    "zip(lista_informacion, lista5)\n"
   ]
  },
  {
   "cell_type": "code",
   "execution_count": 98,
   "metadata": {
    "tags": []
   },
   "outputs": [
    {
     "output_type": "stream",
     "name": "stdout",
     "text": "Help on class zip in module builtins:\n\nclass zip(object)\n |  zip(*iterables) --> zip object\n |  \n |  Return a zip object whose .__next__() method returns a tuple where\n |  the i-th element comes from the i-th iterable argument.  The .__next__()\n |  method continues until the shortest iterable in the argument sequence\n |  is exhausted and then it raises StopIteration.\n |  \n |  Methods defined here:\n |  \n |  __getattribute__(self, name, /)\n |      Return getattr(self, name).\n |  \n |  __iter__(self, /)\n |      Implement iter(self).\n |  \n |  __next__(self, /)\n |      Implement next(self).\n |  \n |  __reduce__(...)\n |      Return state information for pickling.\n |  \n |  ----------------------------------------------------------------------\n |  Static methods defined here:\n |  \n |  __new__(*args, **kwargs) from builtins.type\n |      Create and return a new object.  See help(type) for accurate signature.\n\n"
    }
   ],
   "source": [
    "help(zip)\n"
   ]
  },
  {
   "cell_type": "code",
   "execution_count": 99,
   "metadata": {
    "tags": []
   },
   "outputs": [
    {
     "output_type": "stream",
     "name": "stdout",
     "text": "<zip object at 0x1070160f0>\n"
    }
   ],
   "source": [
    "ultima = zip(lista5, lista_informacion)\n",
    "print(ultima)"
   ]
  },
  {
   "cell_type": "markdown",
   "metadata": {},
   "source": [
    "##Por último, han de eliminarse las variables 'none' y 'lista_direccion' de dos formas:\n",
    "'nada' con el método 'remove' de una lista.\n",
    "'lista_direccion' con el método 'pop' con el que se puede eliminar el elemento de una lista a través de una posición. Para más información, hemos puesto un ejemplo más abajo."
   ]
  },
  {
   "cell_type": "code",
   "execution_count": 11,
   "metadata": {},
   "outputs": [
    {
     "output_type": "execute_result",
     "data": {
      "text/plain": "[15,\n True,\n 'Recoletos',\n [15, 'Recoletos'],\n '7',\n 'yo uso gafas',\n 41,\n 32,\n [1.2, 3.0, 2.3, 0.8, 1.5]]"
     },
     "metadata": {},
     "execution_count": 11
    }
   ],
   "source": [
    "lista_informacion.remove(None)\n",
    "lista_informacion\n",
    "\n"
   ]
  },
  {
   "cell_type": "markdown",
   "metadata": {},
   "source": [
    "#remove borra el 1ero que encuentra si hay 2 elementos repetidos.\n"
   ]
  },
  {
   "cell_type": "markdown",
   "metadata": {},
   "source": [
    "### Apartado 4. Creación de funciones con return preparatorio. \n",
    "\n",
    "A partir de ahora solo se utilizará la 'lista_informacion' actualizada. La 'lista_informacion' debe contener 9 posiciones. Si no contiene 9, pregunta a los profesores.\n",
    "\n",
    "Crear una nueva celda por cada apartado: \n",
    "\n",
    "- Función 'nb' que reciba por parámetro 'lista' y que retorne el número de The Bridge.\n",
    "- Función 'nc' que reciba por parámetro 'lista' y que retorne el nombre de la calle de The Bridge.\n",
    "- Función 'gp' que reciba por parámetro 'lista' y que retorne tu gusto personal.\n",
    "- Función 'hs' que reciba por parámetro 'lista' y que retorne las horas de sueño.\n",
    "- Función 'ul' que reciba por parámetro 'lista' y que retorne la última posicón de 'lista'.\n",
    "\n",
    "A partir de este momento, si se requiere utilizar uno de estos valores, se accederá a ellos a partir de las funciones anteriormente creadas, no directamente desde la lista."
   ]
  },
  {
   "cell_type": "code",
   "execution_count": 12,
   "metadata": {},
   "outputs": [
    {
     "output_type": "execute_result",
     "data": {
      "text/plain": "[15,\n True,\n 'Recoletos',\n [15, 'Recoletos'],\n '7',\n 'yo uso gafas',\n 41,\n 32,\n [1.2, 3.0, 2.3, 0.8, 1.5]]"
     },
     "metadata": {},
     "execution_count": 12
    }
   ],
   "source": [
    "lista_informacion\n"
   ]
  },
  {
   "cell_type": "code",
   "execution_count": 103,
   "metadata": {},
   "outputs": [],
   "source": [
    "#Función 'nb' que reciba por parámetro 'lista' y que retorne el número de The Bridge."
   ]
  },
  {
   "cell_type": "code",
   "execution_count": 13,
   "metadata": {
    "tags": []
   },
   "outputs": [
    {
     "output_type": "stream",
     "name": "stdout",
     "text": "15\n"
    }
   ],
   "source": [
    "def nb(lista):\n",
    "    for elem in lista:\n",
    "        if elem == 15:\n",
    "            print(elem)\n",
    "        else:\n",
    "            continue\n",
    "            return nb\n",
    "\n",
    "nb(lista=lista_informacion)"
   ]
  },
  {
   "cell_type": "code",
   "execution_count": 105,
   "metadata": {},
   "outputs": [],
   "source": [
    "#Función 'nc' que reciba por parámetro 'lista' y que retorne el nombre de la calle de The Bridge."
   ]
  },
  {
   "cell_type": "code",
   "execution_count": 14,
   "metadata": {
    "tags": []
   },
   "outputs": [
    {
     "output_type": "stream",
     "name": "stdout",
     "text": "Recoletos\n"
    }
   ],
   "source": [
    "def nc(lista):\n",
    "    for elem in lista:\n",
    "        if elem == lista[2]:\n",
    "            print(elem)\n",
    "        else:\n",
    "            continue\n",
    "            return nc\n",
    "\n",
    "nc(lista=lista_informacion)"
   ]
  },
  {
   "cell_type": "code",
   "execution_count": 107,
   "metadata": {},
   "outputs": [],
   "source": [
    "#Función 'gp' que reciba por parámetro 'lista' y que retorne tu gusto personal."
   ]
  },
  {
   "cell_type": "code",
   "execution_count": 15,
   "metadata": {
    "tags": []
   },
   "outputs": [
    {
     "output_type": "stream",
     "name": "stdout",
     "text": "True\n"
    }
   ],
   "source": [
    "def gp(lista):\n",
    "    for elem in lista:\n",
    "        if elem == True or elem == False:\n",
    "            print(elem)\n",
    "        else:\n",
    "            continue\n",
    "            return gp\n",
    "\n",
    "gp(lista=lista_informacion)"
   ]
  },
  {
   "cell_type": "markdown",
   "metadata": {},
   "source": [
    "#Función 'hs' que reciba por parámetro 'lista' y que retorne las horas de sueño."
   ]
  },
  {
   "cell_type": "code",
   "execution_count": 16,
   "metadata": {
    "tags": []
   },
   "outputs": [
    {
     "output_type": "stream",
     "name": "stdout",
     "text": "[1.2, 3.0, 2.3, 0.8, 1.5]\n"
    }
   ],
   "source": [
    "def hs(lista):\n",
    "    for elem in lista:\n",
    "        if elem == lista[-1]:\n",
    "            print(elem)\n",
    "        else:\n",
    "            continue\n",
    "            return hs\n",
    "\n",
    "hs(lista=lista_informacion)"
   ]
  },
  {
   "cell_type": "code",
   "execution_count": 17,
   "metadata": {},
   "outputs": [],
   "source": [
    "#Función 'ul' que reciba por parámetro 'lista' y que retorne la última posicón de 'lista'."
   ]
  },
  {
   "cell_type": "code",
   "execution_count": 18,
   "metadata": {
    "tags": []
   },
   "outputs": [
    {
     "output_type": "stream",
     "name": "stdout",
     "text": "[1.2, 3.0, 2.3, 0.8, 1.5]\n"
    }
   ],
   "source": [
    "def ul(lista):\n",
    "    for elem in lista:\n",
    "        if elem == lista[-1]:\n",
    "            print(elem)\n",
    "        else: \n",
    "            continue\n",
    "            return ul\n",
    "\n",
    "ul(lista=lista_informacion)\n"
   ]
  },
  {
   "cell_type": "markdown",
   "metadata": {},
   "source": [
    "### Apartado 5. Break en bucles for.\n",
    "\n",
    "Crear una nueva celda por cada apartado: \n",
    "\n",
    "- Función 'string_mayor_5' que reciba por parámetro 'lista' ('lista_informacion'). Se debe recorrer 'lista' transformando cada elemento en string y, si el tamaño del string es mayor a 5, el bucle debe parar. La función ha de devolver el primer elemento con string mayor a 5.\n",
    "\n",
    "- Función 'lista_consecutivos' que recibe por parámetro 'limite'. Debe retornar una lista con números que empiece en el 0 y acabe en el número 'límite'. 'limite' será 18 cuando la función sea invocada. \n",
    "\n",
    "- Función 'posicion_15' que reciba un parámetro 'funcion_lista_consecutivos' y 'lista' y deberá devolver el elemento de la lista que devuelve la función 'lista_consecutivos' que represente la posicion 15. Es dentro de la función 'posicion_15' donde hay que llamar a 'funcion_lista_consecutivos' con el parámetro 'lista' como parámetro de entrada de 'lista_consecutivos'. El argumento 'límite' será 18 cuando 'lista_consecutivos' sea invocada.\n",
    "\n",
    "Ejemplo: \n",
    "x = posicion_15(funcion_lista_consecutivos=lista_consecutivos, lista=lista_informacion)"
   ]
  },
  {
   "cell_type": "code",
   "execution_count": 113,
   "metadata": {},
   "outputs": [],
   "source": [
    "#A partir de este momento, si se requiere utilizar uno de estos valores, se accederá a ellos a partir de las funciones anteriormente creadas, no directamente desde la lista."
   ]
  },
  {
   "cell_type": "markdown",
   "metadata": {},
   "source": [
    "##Función 'string_mayor_5' que reciba por parámetro 'lista' ('lista_informacion'). Se debe recorrer 'lista' transformando cada elemento en string y, si el tamaño del string es mayor a 5, el bucle debe parar. La función ha de devolver el primer elemento con string mayor a 5."
   ]
  },
  {
   "cell_type": "code",
   "execution_count": 19,
   "metadata": {},
   "outputs": [
    {
     "output_type": "execute_result",
     "data": {
      "text/plain": "'Recoletos'"
     },
     "metadata": {},
     "execution_count": 19
    }
   ],
   "source": [
    "def string_mayor_5(lista):\n",
    "    for elem in lista:\n",
    "        elem_str = str(elem)\n",
    "        if len(elem_str) > 5:\n",
    "            return elem_str\n",
    "\n",
    "string_mayor_5(lista=lista_informacion)\n"
   ]
  },
  {
   "cell_type": "code",
   "execution_count": 201,
   "metadata": {},
   "outputs": [
    {
     "output_type": "execute_result",
     "data": {
      "text/plain": "'Recoletos'"
     },
     "metadata": {},
     "execution_count": 201
    }
   ],
   "source": [
    "def string_mayor_5v2(lista):\n",
    "    result = None\n",
    "    for elem in lista:\n",
    "        elem_str = str(elem)\n",
    "        if len(elem_str) > 5:\n",
    "            result = elem_str\n",
    "            break\n",
    "    return result\n",
    "\n",
    "string_mayor_5v2(lista=lista_informacion)"
   ]
  },
  {
   "cell_type": "markdown",
   "metadata": {},
   "source": [
    "##Función 'lista_consecutivos' que recibe por parámetro 'limite'. Debe retornar una lista con números que empiece en el 0 y acabe en el número 'límite'. 'limite' será 18 cuando la función sea invocada.\n"
   ]
  },
  {
   "cell_type": "code",
   "execution_count": 21,
   "metadata": {},
   "outputs": [
    {
     "output_type": "execute_result",
     "data": {
      "text/plain": "[0, 1, 2, 3, 4, 5, 6, 7, 8, 9, 10, 11, 12, 13, 14, 15, 16, 17, 18]"
     },
     "metadata": {},
     "execution_count": 21
    }
   ],
   "source": [
    "def lista_consecutivos(limite):\n",
    "    lista = []\n",
    "    for i in range(limite+1):\n",
    "        lista.append(i)\n",
    "    return lista\n",
    "\n",
    "lista_consecutivos(limite=18)"
   ]
  },
  {
   "cell_type": "markdown",
   "metadata": {},
   "source": [
    "##DefineFunción 'posicion_15' \n",
    "Recibe 2 parámetros 'funcion_lista_consecutivos' y 'lista' y deberá devolver el elemento de la lista que devuelve la función 'lista_consecutivos' que represente la posicion 15. \n",
    "\n",
    "#Es dentro de la función 'posicion_15' donde hay que llamar a 'funcion_lista_consecutivos' con el parámetro 'lista' como parámetro de entrada de 'lista_consecutivos'. El argumento 'límite' será 18 cuando 'lista_consecutivos' sea invocada.\n",
    "\n",
    "#Ejemplo: x = posicion_15(funcion_lista_consecutivos=lista_consecutivos, lista=lista_informacion)"
   ]
  },
  {
   "cell_type": "code",
   "execution_count": 22,
   "metadata": {
    "tags": []
   },
   "outputs": [
    {
     "output_type": "stream",
     "name": "stdout",
     "text": "9\n"
    },
    {
     "output_type": "execute_result",
     "data": {
      "text/plain": "15"
     },
     "metadata": {},
     "execution_count": 22
    }
   ],
   "source": [
    "def posicion15 (funcion_lista_consecutivos, lista):\n",
    "    return funcion_lista_consecutivos(limite=len(lista)*2)[15]\n",
    "    lista_consecutivos[15]\n",
    "\n",
    "\n",
    "x = posicion15(funcion_lista_consecutivos=lista_consecutivos, lista=lista_informacion)\n",
    "print(len(lista_informacion))\n",
    "x"
   ]
  },
  {
   "cell_type": "markdown",
   "metadata": {},
   "source": [
    "### Apartado 6. Bucle while.\n",
    "\n",
    "Crear una nueva celda por cada apartado: \n",
    "\n",
    "- Crear una función reciba por parámetro 'lista' que muestre todos los elementos que tiene usando un bucle while. Llamar a la función con 'lista_informacion'.\n",
    "- Realizar todos los apartados del apartado 2.2 cuyo enunciado aparece la palabra 'recorrer' excepto el que se utiliza la 'lista_direccion' borrada en el apartado 3. \n",
    "- Realizar el apartado 5 con bucle while en vez de bucle for. \n",
    "- Realizar una función que realice la función de fibonacci con un while.\n",
    "\n",
    "\n",
    "\n"
   ]
  },
  {
   "cell_type": "code",
   "execution_count": 114,
   "metadata": {},
   "outputs": [],
   "source": [
    "#Crear una función reciba por parámetro 'lista' que muestre todos los elementos que tiene usando un bucle while. Llamar a la función con 'lista_informacion'."
   ]
  },
  {
   "cell_type": "code",
   "execution_count": 23,
   "metadata": {
    "tags": []
   },
   "outputs": [
    {
     "output_type": "stream",
     "name": "stdout",
     "text": "15\nTrue\nRecoletos\n[15, 'Recoletos']\n7\nyo uso gafas\n41\n32\n[1.2, 3.0, 2.3, 0.8, 1.5]\n"
    }
   ],
   "source": [
    "def mas(lista):\n",
    "    acum = 0\n",
    "    while acum <= len(lista) -1: #acum[0-8](sino da out of range)\n",
    "        print(lista[acum])\n",
    "        acum += 1\n",
    "\n",
    "mas(lista=lista_informacion)"
   ]
  },
  {
   "cell_type": "markdown",
   "metadata": {},
   "source": [
    "##Hacerlos otra vez pero con while\n",
    "\n",
    "#Recorrer 'lista' para mostrar todos los elementos que contiene."
   ]
  },
  {
   "cell_type": "code",
   "execution_count": 25,
   "metadata": {
    "tags": []
   },
   "outputs": [
    {
     "output_type": "stream",
     "name": "stdout",
     "text": "15\nTrue\nRecoletos\n[15, 'Recoletos']\n7\nyo uso gafas\n41\n32\n[1.2, 3.0, 2.3, 0.8, 1.5]\n"
    }
   ],
   "source": [
    "def bucle_2(lista):\n",
    "    acum = 0\n",
    "    while acum < len(lista):\n",
    "        print(lista[acum])\n",
    "        acum += 1\n",
    "\n",
    "bucle_2(lista=lista_informacion)"
   ]
  },
  {
   "cell_type": "markdown",
   "metadata": {},
   "source": [
    "#Recorrer 'lista' para mostrar todos los elementos que contiene concatenado con el string \"--> OK\""
   ]
  },
  {
   "cell_type": "code",
   "execution_count": 31,
   "metadata": {
    "tags": []
   },
   "outputs": [
    {
     "output_type": "stream",
     "name": "stdout",
     "text": "15--->OK\nTrue--->OK\nRecoletos--->OK\n[15, 'Recoletos']--->OK\n7--->OK\nyo uso gafas--->OK\n41--->OK\n32--->OK\n[1.2, 3.0, 2.3, 0.8, 1.5]--->OK\n"
    }
   ],
   "source": [
    "def bucle_3(lista):\n",
    "    acum = 0\n",
    "    while acum < len(lista):\n",
    "        print(str(lista[acum]) + \"--->OK\")\n",
    "        acum = acum +1\n",
    "\n",
    "bucle_3(lista=lista_informacion)"
   ]
  },
  {
   "cell_type": "markdown",
   "metadata": {},
   "source": [
    "#Recorrer 'lista' para mostrar todos los elementos que contiene excepto el primero"
   ]
  },
  {
   "cell_type": "code",
   "execution_count": 32,
   "metadata": {
    "tags": []
   },
   "outputs": [
    {
     "output_type": "stream",
     "name": "stdout",
     "text": "True\nRecoletos\n[15, 'Recoletos']\n7\nyo uso gafas\n41\n32\n[1.2, 3.0, 2.3, 0.8, 1.5]\n"
    }
   ],
   "source": [
    "def bucle_4(lista):\n",
    "    pos = 1\n",
    "    while pos < len(lista):\n",
    "        print(lista[pos])\n",
    "        pos += 1\n",
    "\n",
    "bucle_4(lista=lista_informacion)\n"
   ]
  },
  {
   "cell_type": "markdown",
   "metadata": {},
   "source": [
    "#Recorrer 'lista' para mostrar todos los elementos que contiene excepto el último."
   ]
  },
  {
   "cell_type": "code",
   "execution_count": 33,
   "metadata": {
    "tags": []
   },
   "outputs": [
    {
     "output_type": "stream",
     "name": "stdout",
     "text": "15\nTrue\nRecoletos\n[15, 'Recoletos']\n7\nyo uso gafas\n41\n32\n"
    }
   ],
   "source": [
    "def bucle_5(lista):\n",
    "    pos = 0\n",
    "    while pos < len(lista)-1:\n",
    "        print(lista[pos])\n",
    "        pos += 1\n",
    "\n",
    "bucle_5(lista=lista_informacion)"
   ]
  },
  {
   "cell_type": "markdown",
   "metadata": {},
   "source": [
    "#Recorrer 'lista' para mostrar todos los elementos que contiene excepto el número de la calle y las horas que has dormido.\n",
    "#Recorrer 'lista' para mostrar todos los elementos que contiene excepto el primer elemento de la lista de la quinta posición.\n",
    "\n",
    "#Recorrer 'lista' para mostrar todos los elementos que contiene excepto el que contiene la información sobre si os gusta la montaña o playa SI os gusta la montaña.\n",
    "\n",
    "#Recorrer 'lista' para mostrar el último elemento."
   ]
  },
  {
   "cell_type": "code",
   "execution_count": 48,
   "metadata": {
    "tags": []
   },
   "outputs": [
    {
     "output_type": "stream",
     "name": "stdout",
     "text": "True\nRecoletos\n[15, 'Recoletos']\n7\nyo uso gafas\n41\n32\n[1.2, 3.0, 2.3, 0.8, 1.5]\n"
    }
   ],
   "source": [
    "def bucle_6(lista):\n",
    "    pos = 1\n",
    "    while pos < len(lista):\n",
    "        if pos == lista[4]:\n",
    "            continue\n",
    "        else:\n",
    "            print(lista[pos])\n",
    "        pos += 1\n",
    "\n",
    "bucle_6(lista=lista_informacion)"
   ]
  },
  {
   "cell_type": "code",
   "execution_count": 219,
   "metadata": {
    "tags": []
   },
   "outputs": [
    {
     "output_type": "stream",
     "name": "stdout",
     "text": "7\nTrue\nRecoletos\nNone\n[15, 'Recoletos']\n"
    }
   ],
   "source": [
    "#6.2\n",
    "\n",
    "def while_2_7(lista):\n",
    "    pos = 0\n",
    "    while pos < len(lista):\n",
    "        if pos != len(lista)-1:\n",
    "            print(lista[pos])\n",
    "        pos+=1\n",
    "\n",
    "while_2_7(lista=lista_informacion)"
   ]
  },
  {
   "cell_type": "markdown",
   "metadata": {},
   "source": [
    "##NO SE PUEDE HACER CON WHILE\n",
    "\n",
    "##Crear una variable llamada 'zona' y darle el valor de None. Recorrer 'lista' y actualizar 'zona' a True si y solo si has dormido más de 7 horas, te gusta la playa y la suma de las horas que has dormido más el número de The Bridge es menor a 24. Para cualquier otro caso, 'zona' será False. Retornar el valor de 'zona'. Esta función se llamará 'funcion_zona'.\n",
    "\n",
    "#Dentro de una función llamada 'funcion_comprobacion' que recibe solo un parámetro llamado 'valor_zona' que será el valor que devuelve la función 'funcion_zona' cuando sea invocado, mostrar el valor de 'valor_zona' si es True."
   ]
  },
  {
   "cell_type": "markdown",
   "metadata": {},
   "source": [
    "### Apartado 7. Importación de módulos.\n",
    "\n",
    "Un módulo representa un fichero de extensión '.py' que contiene código python. Importando un módulo, podemos acceder a todas las variable, funciones y clases no privadas que contiene. \n",
    "\n",
    "En la propia carpeta del día de hoy, hay un fichero llamado 'nombre_modulo.py'. Vamos a importarlo y usar alguna de sus variables y funciones. "
   ]
  },
  {
   "cell_type": "markdown",
   "metadata": {},
   "source": [
    "##EJERCICIO 5.2 CON WHILE\n",
    "\n",
    "##Función 'lista_consecutivos' que recibe por parámetro 'limite'. Debe retornar una lista con números que empiece en el 0 y acabe en el número 'límite'. 'limite' será 18 cuando la función sea invocada."
   ]
  },
  {
   "cell_type": "code",
   "execution_count": null,
   "metadata": {},
   "outputs": [],
   "source": [
    "def while_5_2 (limite):\n",
    "    lista = []\n",
    "    pos = 0\n",
    "    while pos < 19:\n",
    "        lista.append(pos)\n",
    "        pos += 1\n",
    "    return lista\n",
    "\n",
    "while_5_2(limite=18)\n"
   ]
  },
  {
   "cell_type": "code",
   "execution_count": null,
   "metadata": {},
   "outputs": [],
   "source": [
    "def while_5_2 (limite):\n",
    "    lista []\n",
    "    pos = 0\n",
    "    while pos < 19:\n",
    "        lista.append(pos)\n",
    "        pos = pos+1\n",
    "    return lista\n",
    "\n"
   ]
  },
  {
   "cell_type": "code",
   "execution_count": 116,
   "metadata": {},
   "outputs": [],
   "source": [
    "#Un módulo representa un fichero de extensión .py que contiene código python. Importando un módulo, podemos acceder a todas las variables, funciones y clases no privadas que contiene.\n",
    "\n",
    "#En la propia carpeta del día de hoy, hay un fichero llamado nombre_modulo.py. Vamos a importarlo y usar alguna de sus variables y funciones.Un módulo representa un fichero de extensión .py que contiene código python. Importando un módulo, podemos acceder a todas las variables, funciones y clases no privadas que contiene."
   ]
  },
  {
   "cell_type": "code",
   "execution_count": 173,
   "metadata": {},
   "outputs": [
    {
     "output_type": "error",
     "ename": "ModuleNotFoundError",
     "evalue": "No module named 'Rochi_modulo'",
     "traceback": [
      "\u001b[0;31m---------------------------------------------------------------------------\u001b[0m",
      "\u001b[0;31mModuleNotFoundError\u001b[0m                       Traceback (most recent call last)",
      "\u001b[0;32m<ipython-input-173-0ca3dc8588f8>\u001b[0m in \u001b[0;36m<module>\u001b[0;34m\u001b[0m\n\u001b[0;32m----> 1\u001b[0;31m \u001b[0;32mimport\u001b[0m \u001b[0mRochi_modulo\u001b[0m\u001b[0;34m.\u001b[0m\u001b[0mpy\u001b[0m\u001b[0;34m\u001b[0m\u001b[0;34m\u001b[0m\u001b[0m\n\u001b[0m\u001b[1;32m      2\u001b[0m \u001b[0;34m\u001b[0m\u001b[0m\n\u001b[1;32m      3\u001b[0m \u001b[0msuma\u001b[0m \u001b[0;34m=\u001b[0m \u001b[0mRochi_modulo\u001b[0m\u001b[0;34m.\u001b[0m\u001b[0msuma_2\u001b[0m\u001b[0;34m(\u001b[0m\u001b[0ma\u001b[0m\u001b[0;34m=\u001b[0m\u001b[0;36m2\u001b[0m\u001b[0;34m,\u001b[0m \u001b[0mb\u001b[0m\u001b[0;34m=\u001b[0m\u001b[0;36m6\u001b[0m\u001b[0;34m)\u001b[0m\u001b[0;34m\u001b[0m\u001b[0;34m\u001b[0m\u001b[0m\n\u001b[1;32m      4\u001b[0m \u001b[0mprint\u001b[0m\u001b[0;34m(\u001b[0m\u001b[0msuma\u001b[0m\u001b[0;34m)\u001b[0m\u001b[0;34m\u001b[0m\u001b[0;34m\u001b[0m\u001b[0m\n",
      "\u001b[0;31mModuleNotFoundError\u001b[0m: No module named 'Rochi_modulo'"
     ]
    }
   ],
   "source": [
    "import Rochi_modulo.py\n",
    "\n",
    "suma = Rochi_modulo.suma_2(a=2, b=6)\n",
    "print(suma)"
   ]
  },
  {
   "cell_type": "markdown",
   "metadata": {},
   "source": [
    "Al igual que con los demás objetos, una vez que se ha importado el módulo no hace falta importarlo más veces. "
   ]
  },
  {
   "cell_type": "markdown",
   "metadata": {},
   "source": [
    "# Apartado 8: Ejercicios\n",
    "\n",
    "#nivel pro\n",
    "\n",
    "#Para cada uno de los siguientes puntos crear un archivo .py que se ejecutará a través de la terminal. Estando en la carpeta que contiene el .pycorrespondiente, se ejecutará con el siguiente comando: python3 nombre_del_programa.pyPara cada uno de los siguientes puntos crear un archivo .py que se ejecutará a través de la terminal. Estando en la carpeta que contiene el .pycorrespondiente, se ejecutará con el siguiente comando: python3 nombre_del_programa.py\n",
    "\n",
    "\n",
    "- Programa una calculadora que pregunte por pantalla dos números y dos operadores. Se debe realizar primero una operación y luego otra. Trata de definir el mayor número de funciones posibles. \n",
    "- Programa, definiendo funciones, el juego 'piedra, papel o tijera'. \n",
    "- Haz un programa que, a partir de las cadenas \"|\" y \"_\", muestre por pantalla un tablero de ajedrez 8x8. \n",
    "- Haz un programa utilizando 'while' que genere una baraja de cartas de 4 palos distintos. La baraja ha de tener 40 cartas. "
   ]
  },
  {
   "cell_type": "code",
   "execution_count": 118,
   "metadata": {},
   "outputs": [],
   "source": [
    "#crear un archivo .py que se ejecutara a traves de la Terminal\n",
    "\n",
    "#comando de ejecucion: python3 nombre.py \n"
   ]
  },
  {
   "cell_type": "code",
   "execution_count": 119,
   "metadata": {},
   "outputs": [],
   "source": [
    "#Programa una calculadora que pregunte por pantalla dos números y dos operadores. Se debe realizar primero una operación y luego otra. Trata de definir el mayor número de funciones posibles."
   ]
  },
  {
   "cell_type": "code",
   "execution_count": 175,
   "metadata": {},
   "outputs": [
    {
     "output_type": "error",
     "ename": "SyntaxError",
     "evalue": "invalid syntax (<ipython-input-175-236090522716>, line 14)",
     "traceback": [
      "\u001b[0;36m  File \u001b[0;32m\"<ipython-input-175-236090522716>\"\u001b[0;36m, line \u001b[0;32m14\u001b[0m\n\u001b[0;31m    if\u001b[0m\n\u001b[0m       ^\u001b[0m\n\u001b[0;31mSyntaxError\u001b[0m\u001b[0;31m:\u001b[0m invalid syntax\n"
     ]
    }
   ],
   "source": [
    "numero_1 = int(input(\"Ingresar un numero: \"))\n",
    "numero_2 = int(input(\"Ingresar otro numero: \"))\n",
    "operador_1 = input(\"Ingresar un operador: \")\n",
    "operador_2 = input(\"Ingresar otro operador: \")\n",
    "\n",
    "def add(numero_1, numero_2): return numero_1 + numero_2\n",
    "def subtract(numero_1, numero_2): return numero_1 - numero_2\n",
    "def multipply(numero_1, numero_2): return numero_1 * numero_2\n",
    "def division(numero_1, numero_2): return numero_1 / numero_2\n",
    "\n",
    "operadores = {\"+\":add, \"-\":subtract, \"*\":multipply, \"/\":division}\n",
    "\n",
    "def calc(numeros):\n",
    "    if \n",
    "\n",
    "calc(numeros=numero1)\n",
    "calc(numeros=numero_2)\n"
   ]
  },
  {
   "cell_type": "code",
   "execution_count": 121,
   "metadata": {},
   "outputs": [],
   "source": [
    "#Programa, definiendo funciones, el juego 'piedra, papel o tijera'."
   ]
  },
  {
   "cell_type": "code",
   "execution_count": 220,
   "metadata": {
    "tags": []
   },
   "outputs": [
    {
     "output_type": "stream",
     "name": "stdout",
     "text": "Piedra le pega a la tijera\n"
    }
   ],
   "source": [
    "eleccion = input(\"Piedra, Papel o Tijera?:\")\n",
    "jugadorA = eleccion\n",
    "\n",
    "def juego(eleccion):\n",
    "    \n",
    "    if eleccion == \"Piedra\" or eleccion == \"piedra\":\n",
    "        print(\"Piedra le pega a la tijera\")\n",
    "        if eleccion == \"Papel\" or eleccion == \"papel\":\n",
    "            print(\"Papel envuelve a la Piedra\")\n",
    "            if eleccion == \"Tijera\" or eleccion == \"tijera\":\n",
    "                print(\"Tijera corta al papel\")\n",
    "                return jugadorA\n",
    "\n",
    "juego(eleccion=jugadorA)\n"
   ]
  },
  {
   "cell_type": "code",
   "execution_count": null,
   "metadata": {},
   "outputs": [],
   "source": [
    "rock = 1\n",
    "paper = 2\n",
    "scissor = 3\n",
    "\n",
    "player1 = int(input(\"Choose 1, 2 or 3:\"))\n",
    "player2 = int(input(\"Choose 1, 2 or 3:\"))\n",
    "\n",
    "def check_winner(player1_choose, player2_choose):\n",
    "    if player1_choose == rock\n",
    "    "
   ]
  },
  {
   "cell_type": "code",
   "execution_count": 122,
   "metadata": {},
   "outputs": [],
   "source": [
    "#Haz un programa que, a partir de las cadenas \"|\" y \"_\", muestre por pantalla un tablero de ajedrez 8x8."
   ]
  },
  {
   "cell_type": "code",
   "execution_count": 133,
   "metadata": {
    "tags": []
   },
   "outputs": [
    {
     "output_type": "stream",
     "name": "stdout",
     "text": "_________________\n|X|_|x|_|X|_|X|_|\n|_|X|_|X|_|X|_|X|\n|X|_|x|_|X|_|X|_|\n|_|X|_|X|_|X|_|X|\n|X|_|x|_|X|_|X|_|\n|_|X|_|X|_|X|_|X|\n|X|_|x|_|X|_|X|_|\n|_|X|_|X|_|X|_|X|\n\n"
    }
   ],
   "source": [
    "print(\"_________________\")\n",
    "chain=\"|X|_|x|_|X|_|X|_|\\n\"\n",
    "chain2=\"|_|X|_|X|_|X|_|X|\\n\"\n",
    "print((chain + chain2)*4)"
   ]
  },
  {
   "cell_type": "code",
   "execution_count": 74,
   "metadata": {
    "tags": []
   },
   "outputs": [
    {
     "output_type": "error",
     "ename": "IndentationError",
     "evalue": "unexpected indent (<ipython-input-74-9f8a8190946a>, line 6)",
     "traceback": [
      "\u001b[0;36m  File \u001b[0;32m\"<ipython-input-74-9f8a8190946a>\"\u001b[0;36m, line \u001b[0;32m6\u001b[0m\n\u001b[0;31m    for i, elem pos = range[30]\u001b[0m\n\u001b[0m    ^\u001b[0m\n\u001b[0;31mIndentationError\u001b[0m\u001b[0;31m:\u001b[0m unexpected indent\n"
     ]
    }
   ],
   "source": [
    "def tablero(rayas, cuadros):\n",
    "    pos = 0\n",
    "    while chain1[0]:\n",
    "        print(chain2[0])\n",
    "        print(chain1[0])\n",
    "            for i, elem pos = range[30]\n",
    "                break\n",
    "    return tablero\n",
    "    pos +=1\n",
    "\n",
    "tablero(rayas=chain1, cuadros=chain2)"
   ]
  },
  {
   "cell_type": "code",
   "execution_count": 185,
   "metadata": {
    "tags": []
   },
   "outputs": [
    {
     "output_type": "stream",
     "name": "stdout",
     "text": "gato\ncaballo\nlemur\nmono\nvaca\nleon\n"
    }
   ],
   "source": [
    "def bucle_6(lista):\n",
    "    pos = 1\n",
    "    while pos < len(lista):\n",
    "        if pos == lista[4]:\n",
    "            continue\n",
    "        else:\n",
    "            print(lista[pos])\n",
    "        pos += 1\n",
    "        \n",
    "bucle_6(lista=lista_aux)"
   ]
  },
  {
   "cell_type": "code",
   "execution_count": 123,
   "metadata": {},
   "outputs": [],
   "source": [
    "#Haz un programa utilizando 'while' que genere una baraja de cartas de 4 palos distintos. La baraja ha de tener 40 cartas."
   ]
  },
  {
   "cell_type": "code",
   "execution_count": 217,
   "metadata": {
    "tags": []
   },
   "outputs": [
    {
     "output_type": "stream",
     "name": "stdout",
     "text": "hearts  ['A', '2', '3', '4', '5', '6', '7', '8', '9', 'J'] diamonds  ['A', '2', '3', '4', '5', '6', '7', '8', '9', 'J'] clover  ['A', '2', '3', '4', '5', '6', '7', '8', '9', 'J'] pikes  ['A', '2', '3', '4', '5', '6', '7', '8', '9', 'J']\n"
    }
   ],
   "source": [
    "valorcartas = [\"A\", \"2\", \"3\", \"4\", \"5\", \"6\", \"7\", \"8\", \"9\", \"J\"]\n",
    "#deck = [[hearts], [diamond], [clover], [pikes]]\n",
    "\n",
    "def cartas(palo1, palo2, palo3, palo4):    \n",
    "    deck = []\n",
    "    for elem in valorcartas:\n",
    "        palo1.append(elem)\n",
    "        palo2.append(elem)\n",
    "        palo3.append(elem)\n",
    "        palo4.append(elem)\n",
    "    deck.append(palo1)\n",
    "    deck.append(palo2)\n",
    "    deck.append(palo3)\n",
    "    deck.append(palo4)\n",
    "    return deck\n",
    "    \n",
    "hearts = []\n",
    "diamond= []\n",
    "clover= []\n",
    "pikes = []\n",
    "\n",
    "cartas(palo1=hearts, palo2=diamond, palo3=clover, palo4=pikes)\n",
    "print(\"hearts \", hearts, \"diamonds \", diamond, \"clover \", clover, \"pikes \", pikes)\n",
    "\n"
   ]
  },
  {
   "cell_type": "markdown",
   "metadata": {},
   "source": [
    "# REPASO EXPRESS"
   ]
  },
  {
   "cell_type": "code",
   "execution_count": null,
   "metadata": {},
   "outputs": [],
   "source": []
  }
 ],
 "metadata": {
  "language_info": {
   "name": "python",
   "codemirror_mode": {
    "name": "ipython",
    "version": 3
   },
   "version": "3.7.6-final"
  },
  "orig_nbformat": 2,
  "file_extension": ".py",
  "mimetype": "text/x-python",
  "name": "python",
  "npconvert_exporter": "python",
  "pygments_lexer": "ipython3",
  "version": 3,
  "kernelspec": {
   "name": "python3",
   "display_name": "Python 3"
  }
 },
 "nbformat": 4,
 "nbformat_minor": 2
}