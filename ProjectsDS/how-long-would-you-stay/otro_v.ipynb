{
  "nbformat": 4,
  "nbformat_minor": 0,
  "metadata": {
    "kernelspec": {
      "display_name": "Python 3.8.3 64-bit",
      "language": "python",
      "name": "python_defaultSpec_1600184907778"
    },
    "language_info": {
      "codemirror_mode": {
        "name": "ipython",
        "version": 3
      },
      "file_extension": ".py",
      "mimetype": "text/x-python",
      "name": "python",
      "nbconvert_exporter": "python",
      "pygments_lexer": "ipython3",
      "version": "3.8.3-final"
    },
    "colab": {
      "name": "otro_v.ipynb",
      "provenance": []
    }
  },
  "cells": [
    {
      "cell_type": "markdown",
      "metadata": {
        "id": "SHGNHWgQE1GC",
        "colab_type": "text"
      },
      "source": [
        "columns_meaning.csv: this file will help you to understand your data\n",
        "\n",
        "sample_submission.csv: your submission should be something like this, same columns, same shape, same id, differents days 💪\n",
        "\n",
        "train_set.csv: this is the bit you'll work with in order to get the best model\n",
        "\n",
        "test_set.csv: use it ONLY to make the prediction"
      ]
    },
    {
      "cell_type": "code",
      "metadata": {
        "id": "Z2DTBPILE1GD",
        "colab_type": "code",
        "colab": {}
      },
      "source": [
        "import pandas as pd\n",
        "import numpy as np\n",
        "import seaborn as sns\n",
        "import numpy as np\n",
        "import matplotlib.pyplot as plt\n",
        "from sklearn import linear_model\n",
        "# la otra forma, pero lo mismo: from sklearn.linear_model import LogisticRegression\n",
        "from sklearn.model_selection import train_test_split\n",
        "\n",
        "import warnings\n",
        "warnings.filterwarnings('ignore')\n",
        "\n",
        "plt.rcParams[\"figure.figsize\"] = (10,8)\n",
        "# Load libraries\n",
        "\n",
        "from sklearn.neighbors import KNeighborsClassifier\n",
        "from sklearn.model_selection import GridSearchCV\n",
        "from sklearn.pipeline import Pipeline\n",
        "from sklearn.model_selection import RepeatedKFold, KFold\n",
        "from sklearn.preprocessing import LabelEncoder \n",
        "from sklearn.preprocessing import MinMaxScaler\n",
        "from sklearn.model_selection import cross_val_score\n",
        "\n",
        "# progress bar \n",
        "from tqdm import tqdm\n"
      ],
      "execution_count": 5,
      "outputs": []
    },
    {
      "cell_type": "code",
      "metadata": {
        "id": "-Zk-XX9qE1GI",
        "colab_type": "code",
        "colab": {}
      },
      "source": [
        "df = pd.read_csv('/Users/rochi/Desktop/TestFolder/DataScienceBootCampMIO/ProjectsDS/how-long-would-you-stay/train_set.csv')"
      ],
      "execution_count": 7,
      "outputs": []
    },
    {
      "cell_type": "code",
      "metadata": {
        "id": "XIvF4i_dE1GP",
        "colab_type": "code",
        "colab": {},
        "outputId": "863113da-0319-4070-d4ab-3158fed1cefb"
      },
      "source": [
        "df"
      ],
      "execution_count": 8,
      "outputs": [
        {
          "output_type": "execute_result",
          "data": {
            "text/plain": "            0   1  2   3  4  5           6  7  8    9      10    11  \\\n0      161528   6  a   6  X  2  gynecology  R  F  4.0   45810   2.0   \n1      159472  23  a   6  X  4  gynecology  Q  F  2.0  128565  15.0   \n2      309765   2  c   5  Z  2  anesthesia  S  F  3.0   46565   5.0   \n3      279614  32  f   9  Y  3  gynecology  S  B  4.0  124546   6.0   \n4      147791  14  a   1  X  3  gynecology  S  E  2.0   22729   8.0   \n...       ...  .. ..  .. .. ..         ... .. ..  ...     ...   ...   \n99995  237869  12  a   9  Y  3  gynecology  R  B  3.0   82914   3.0   \n99996  254763  28  b  11  X  2  gynecology  R  F  2.0   40026   5.0   \n99997   69788   6  a   6  X  3  gynecology  Q  F  3.0   92346   2.0   \n99998  204442  32  f   9  Y  2  gynecology  S  B  4.0  113798  15.0   \n99999   69647  25  e   1  X  3  gynecology  Q  E  2.0  109237   8.0   \n\n              12        13  14     15      16                  17  \n0         Urgent  Moderate   2  21-30  2817.0                0-10  \n1         Trauma  Moderate   4  51-60  4498.0               21-30  \n2         Urgent  Moderate   2  71-80  4573.0               11-20  \n3      Emergency  Moderate   4  11-20  7202.0               51-60  \n4         Urgent  Moderate   2  51-60  3398.0               51-60  \n...          ...       ...  ..    ...     ...                 ...  \n99995  Emergency  Moderate   6  51-60  3966.0  More than 100 Days  \n99996     Urgent  Moderate   3  21-30  4005.0               51-60  \n99997     Trauma     Minor   2  31-40  5215.0               31-40  \n99998     Trauma  Moderate   3  41-50  5092.0               11-20  \n99999  Emergency  Moderate   2  41-50  3390.0               41-50  \n\n[100000 rows x 18 columns]",
            "text/html": "<div>\n<style scoped>\n    .dataframe tbody tr th:only-of-type {\n        vertical-align: middle;\n    }\n\n    .dataframe tbody tr th {\n        vertical-align: top;\n    }\n\n    .dataframe thead th {\n        text-align: right;\n    }\n</style>\n<table border=\"1\" class=\"dataframe\">\n  <thead>\n    <tr style=\"text-align: right;\">\n      <th></th>\n      <th>0</th>\n      <th>1</th>\n      <th>2</th>\n      <th>3</th>\n      <th>4</th>\n      <th>5</th>\n      <th>6</th>\n      <th>7</th>\n      <th>8</th>\n      <th>9</th>\n      <th>10</th>\n      <th>11</th>\n      <th>12</th>\n      <th>13</th>\n      <th>14</th>\n      <th>15</th>\n      <th>16</th>\n      <th>17</th>\n    </tr>\n  </thead>\n  <tbody>\n    <tr>\n      <th>0</th>\n      <td>161528</td>\n      <td>6</td>\n      <td>a</td>\n      <td>6</td>\n      <td>X</td>\n      <td>2</td>\n      <td>gynecology</td>\n      <td>R</td>\n      <td>F</td>\n      <td>4.0</td>\n      <td>45810</td>\n      <td>2.0</td>\n      <td>Urgent</td>\n      <td>Moderate</td>\n      <td>2</td>\n      <td>21-30</td>\n      <td>2817.0</td>\n      <td>0-10</td>\n    </tr>\n    <tr>\n      <th>1</th>\n      <td>159472</td>\n      <td>23</td>\n      <td>a</td>\n      <td>6</td>\n      <td>X</td>\n      <td>4</td>\n      <td>gynecology</td>\n      <td>Q</td>\n      <td>F</td>\n      <td>2.0</td>\n      <td>128565</td>\n      <td>15.0</td>\n      <td>Trauma</td>\n      <td>Moderate</td>\n      <td>4</td>\n      <td>51-60</td>\n      <td>4498.0</td>\n      <td>21-30</td>\n    </tr>\n    <tr>\n      <th>2</th>\n      <td>309765</td>\n      <td>2</td>\n      <td>c</td>\n      <td>5</td>\n      <td>Z</td>\n      <td>2</td>\n      <td>anesthesia</td>\n      <td>S</td>\n      <td>F</td>\n      <td>3.0</td>\n      <td>46565</td>\n      <td>5.0</td>\n      <td>Urgent</td>\n      <td>Moderate</td>\n      <td>2</td>\n      <td>71-80</td>\n      <td>4573.0</td>\n      <td>11-20</td>\n    </tr>\n    <tr>\n      <th>3</th>\n      <td>279614</td>\n      <td>32</td>\n      <td>f</td>\n      <td>9</td>\n      <td>Y</td>\n      <td>3</td>\n      <td>gynecology</td>\n      <td>S</td>\n      <td>B</td>\n      <td>4.0</td>\n      <td>124546</td>\n      <td>6.0</td>\n      <td>Emergency</td>\n      <td>Moderate</td>\n      <td>4</td>\n      <td>11-20</td>\n      <td>7202.0</td>\n      <td>51-60</td>\n    </tr>\n    <tr>\n      <th>4</th>\n      <td>147791</td>\n      <td>14</td>\n      <td>a</td>\n      <td>1</td>\n      <td>X</td>\n      <td>3</td>\n      <td>gynecology</td>\n      <td>S</td>\n      <td>E</td>\n      <td>2.0</td>\n      <td>22729</td>\n      <td>8.0</td>\n      <td>Urgent</td>\n      <td>Moderate</td>\n      <td>2</td>\n      <td>51-60</td>\n      <td>3398.0</td>\n      <td>51-60</td>\n    </tr>\n    <tr>\n      <th>...</th>\n      <td>...</td>\n      <td>...</td>\n      <td>...</td>\n      <td>...</td>\n      <td>...</td>\n      <td>...</td>\n      <td>...</td>\n      <td>...</td>\n      <td>...</td>\n      <td>...</td>\n      <td>...</td>\n      <td>...</td>\n      <td>...</td>\n      <td>...</td>\n      <td>...</td>\n      <td>...</td>\n      <td>...</td>\n      <td>...</td>\n    </tr>\n    <tr>\n      <th>99995</th>\n      <td>237869</td>\n      <td>12</td>\n      <td>a</td>\n      <td>9</td>\n      <td>Y</td>\n      <td>3</td>\n      <td>gynecology</td>\n      <td>R</td>\n      <td>B</td>\n      <td>3.0</td>\n      <td>82914</td>\n      <td>3.0</td>\n      <td>Emergency</td>\n      <td>Moderate</td>\n      <td>6</td>\n      <td>51-60</td>\n      <td>3966.0</td>\n      <td>More than 100 Days</td>\n    </tr>\n    <tr>\n      <th>99996</th>\n      <td>254763</td>\n      <td>28</td>\n      <td>b</td>\n      <td>11</td>\n      <td>X</td>\n      <td>2</td>\n      <td>gynecology</td>\n      <td>R</td>\n      <td>F</td>\n      <td>2.0</td>\n      <td>40026</td>\n      <td>5.0</td>\n      <td>Urgent</td>\n      <td>Moderate</td>\n      <td>3</td>\n      <td>21-30</td>\n      <td>4005.0</td>\n      <td>51-60</td>\n    </tr>\n    <tr>\n      <th>99997</th>\n      <td>69788</td>\n      <td>6</td>\n      <td>a</td>\n      <td>6</td>\n      <td>X</td>\n      <td>3</td>\n      <td>gynecology</td>\n      <td>Q</td>\n      <td>F</td>\n      <td>3.0</td>\n      <td>92346</td>\n      <td>2.0</td>\n      <td>Trauma</td>\n      <td>Minor</td>\n      <td>2</td>\n      <td>31-40</td>\n      <td>5215.0</td>\n      <td>31-40</td>\n    </tr>\n    <tr>\n      <th>99998</th>\n      <td>204442</td>\n      <td>32</td>\n      <td>f</td>\n      <td>9</td>\n      <td>Y</td>\n      <td>2</td>\n      <td>gynecology</td>\n      <td>S</td>\n      <td>B</td>\n      <td>4.0</td>\n      <td>113798</td>\n      <td>15.0</td>\n      <td>Trauma</td>\n      <td>Moderate</td>\n      <td>3</td>\n      <td>41-50</td>\n      <td>5092.0</td>\n      <td>11-20</td>\n    </tr>\n    <tr>\n      <th>99999</th>\n      <td>69647</td>\n      <td>25</td>\n      <td>e</td>\n      <td>1</td>\n      <td>X</td>\n      <td>3</td>\n      <td>gynecology</td>\n      <td>Q</td>\n      <td>E</td>\n      <td>2.0</td>\n      <td>109237</td>\n      <td>8.0</td>\n      <td>Emergency</td>\n      <td>Moderate</td>\n      <td>2</td>\n      <td>41-50</td>\n      <td>3390.0</td>\n      <td>41-50</td>\n    </tr>\n  </tbody>\n</table>\n<p>100000 rows × 18 columns</p>\n</div>"
          },
          "metadata": {},
          "execution_count": 8
        }
      ]
    },
    {
      "cell_type": "code",
      "metadata": {
        "id": "8kcYViweE1GV",
        "colab_type": "code",
        "colab": {},
        "outputId": "48b8104b-de0f-45af-b37f-aafa3fda82a8"
      },
      "source": [
        "df.columns"
      ],
      "execution_count": 9,
      "outputs": [
        {
          "output_type": "execute_result",
          "data": {
            "text/plain": "Index(['0', '1', '2', '3', '4', '5', '6', '7', '8', '9', '10', '11', '12',\n       '13', '14', '15', '16', '17'],\n      dtype='object')"
          },
          "metadata": {},
          "execution_count": 9
        }
      ]
    },
    {
      "cell_type": "code",
      "metadata": {
        "tags": [],
        "id": "j7B08JjrE1GZ",
        "colab_type": "code",
        "colab": {},
        "outputId": "359f94bb-8d9e-40ce-f4c5-5024fedac3a0"
      },
      "source": [
        "df.info()"
      ],
      "execution_count": 10,
      "outputs": [
        {
          "output_type": "stream",
          "name": "stdout",
          "text": "<class 'pandas.core.frame.DataFrame'>\nRangeIndex: 100000 entries, 0 to 99999\nData columns (total 18 columns):\n #   Column  Non-Null Count   Dtype  \n---  ------  --------------   -----  \n 0   0       100000 non-null  int64  \n 1   1       100000 non-null  int64  \n 2   2       100000 non-null  object \n 3   3       100000 non-null  int64  \n 4   4       100000 non-null  object \n 5   5       100000 non-null  int64  \n 6   6       100000 non-null  object \n 7   7       100000 non-null  object \n 8   8       100000 non-null  object \n 9   9       99967 non-null   float64\n 10  10      100000 non-null  int64  \n 11  11      98517 non-null   float64\n 12  12      100000 non-null  object \n 13  13      100000 non-null  object \n 14  14      100000 non-null  int64  \n 15  15      100000 non-null  object \n 16  16      100000 non-null  float64\n 17  17      100000 non-null  object \ndtypes: float64(3), int64(6), object(9)\nmemory usage: 13.7+ MB\n"
        }
      ]
    },
    {
      "cell_type": "code",
      "metadata": {
        "id": "Ium9TS5nE1Gd",
        "colab_type": "code",
        "colab": {},
        "outputId": "7d1f703e-9333-495c-cc22-b58bf498c2f0"
      },
      "source": [
        "df.isnull().values.any()"
      ],
      "execution_count": 11,
      "outputs": [
        {
          "output_type": "execute_result",
          "data": {
            "text/plain": "True"
          },
          "metadata": {},
          "execution_count": 11
        }
      ]
    },
    {
      "cell_type": "code",
      "metadata": {
        "id": "U8OsEMMpE1Gh",
        "colab_type": "code",
        "colab": {},
        "outputId": "ccaaf8f5-9a59-4385-bd11-741a18a96663"
      },
      "source": [
        "df.isnull().sum()"
      ],
      "execution_count": 12,
      "outputs": [
        {
          "output_type": "execute_result",
          "data": {
            "text/plain": "0        0\n1        0\n2        0\n3        0\n4        0\n5        0\n6        0\n7        0\n8        0\n9       33\n10       0\n11    1483\n12       0\n13       0\n14       0\n15       0\n16       0\n17       0\ndtype: int64"
          },
          "metadata": {},
          "execution_count": 12
        }
      ]
    },
    {
      "cell_type": "code",
      "metadata": {
        "id": "OhepJNlfE1Gl",
        "colab_type": "code",
        "colab": {},
        "outputId": "1f136160-31c1-4c1c-ce8e-450e67b452bd"
      },
      "source": [
        "df2 = df.fillna(0)\n",
        "df2"
      ],
      "execution_count": 13,
      "outputs": [
        {
          "output_type": "execute_result",
          "data": {
            "text/plain": "            0   1  2   3  4  5           6  7  8    9      10    11  \\\n0      161528   6  a   6  X  2  gynecology  R  F  4.0   45810   2.0   \n1      159472  23  a   6  X  4  gynecology  Q  F  2.0  128565  15.0   \n2      309765   2  c   5  Z  2  anesthesia  S  F  3.0   46565   5.0   \n3      279614  32  f   9  Y  3  gynecology  S  B  4.0  124546   6.0   \n4      147791  14  a   1  X  3  gynecology  S  E  2.0   22729   8.0   \n...       ...  .. ..  .. .. ..         ... .. ..  ...     ...   ...   \n99995  237869  12  a   9  Y  3  gynecology  R  B  3.0   82914   3.0   \n99996  254763  28  b  11  X  2  gynecology  R  F  2.0   40026   5.0   \n99997   69788   6  a   6  X  3  gynecology  Q  F  3.0   92346   2.0   \n99998  204442  32  f   9  Y  2  gynecology  S  B  4.0  113798  15.0   \n99999   69647  25  e   1  X  3  gynecology  Q  E  2.0  109237   8.0   \n\n              12        13  14     15      16                  17  \n0         Urgent  Moderate   2  21-30  2817.0                0-10  \n1         Trauma  Moderate   4  51-60  4498.0               21-30  \n2         Urgent  Moderate   2  71-80  4573.0               11-20  \n3      Emergency  Moderate   4  11-20  7202.0               51-60  \n4         Urgent  Moderate   2  51-60  3398.0               51-60  \n...          ...       ...  ..    ...     ...                 ...  \n99995  Emergency  Moderate   6  51-60  3966.0  More than 100 Days  \n99996     Urgent  Moderate   3  21-30  4005.0               51-60  \n99997     Trauma     Minor   2  31-40  5215.0               31-40  \n99998     Trauma  Moderate   3  41-50  5092.0               11-20  \n99999  Emergency  Moderate   2  41-50  3390.0               41-50  \n\n[100000 rows x 18 columns]",
            "text/html": "<div>\n<style scoped>\n    .dataframe tbody tr th:only-of-type {\n        vertical-align: middle;\n    }\n\n    .dataframe tbody tr th {\n        vertical-align: top;\n    }\n\n    .dataframe thead th {\n        text-align: right;\n    }\n</style>\n<table border=\"1\" class=\"dataframe\">\n  <thead>\n    <tr style=\"text-align: right;\">\n      <th></th>\n      <th>0</th>\n      <th>1</th>\n      <th>2</th>\n      <th>3</th>\n      <th>4</th>\n      <th>5</th>\n      <th>6</th>\n      <th>7</th>\n      <th>8</th>\n      <th>9</th>\n      <th>10</th>\n      <th>11</th>\n      <th>12</th>\n      <th>13</th>\n      <th>14</th>\n      <th>15</th>\n      <th>16</th>\n      <th>17</th>\n    </tr>\n  </thead>\n  <tbody>\n    <tr>\n      <th>0</th>\n      <td>161528</td>\n      <td>6</td>\n      <td>a</td>\n      <td>6</td>\n      <td>X</td>\n      <td>2</td>\n      <td>gynecology</td>\n      <td>R</td>\n      <td>F</td>\n      <td>4.0</td>\n      <td>45810</td>\n      <td>2.0</td>\n      <td>Urgent</td>\n      <td>Moderate</td>\n      <td>2</td>\n      <td>21-30</td>\n      <td>2817.0</td>\n      <td>0-10</td>\n    </tr>\n    <tr>\n      <th>1</th>\n      <td>159472</td>\n      <td>23</td>\n      <td>a</td>\n      <td>6</td>\n      <td>X</td>\n      <td>4</td>\n      <td>gynecology</td>\n      <td>Q</td>\n      <td>F</td>\n      <td>2.0</td>\n      <td>128565</td>\n      <td>15.0</td>\n      <td>Trauma</td>\n      <td>Moderate</td>\n      <td>4</td>\n      <td>51-60</td>\n      <td>4498.0</td>\n      <td>21-30</td>\n    </tr>\n    <tr>\n      <th>2</th>\n      <td>309765</td>\n      <td>2</td>\n      <td>c</td>\n      <td>5</td>\n      <td>Z</td>\n      <td>2</td>\n      <td>anesthesia</td>\n      <td>S</td>\n      <td>F</td>\n      <td>3.0</td>\n      <td>46565</td>\n      <td>5.0</td>\n      <td>Urgent</td>\n      <td>Moderate</td>\n      <td>2</td>\n      <td>71-80</td>\n      <td>4573.0</td>\n      <td>11-20</td>\n    </tr>\n    <tr>\n      <th>3</th>\n      <td>279614</td>\n      <td>32</td>\n      <td>f</td>\n      <td>9</td>\n      <td>Y</td>\n      <td>3</td>\n      <td>gynecology</td>\n      <td>S</td>\n      <td>B</td>\n      <td>4.0</td>\n      <td>124546</td>\n      <td>6.0</td>\n      <td>Emergency</td>\n      <td>Moderate</td>\n      <td>4</td>\n      <td>11-20</td>\n      <td>7202.0</td>\n      <td>51-60</td>\n    </tr>\n    <tr>\n      <th>4</th>\n      <td>147791</td>\n      <td>14</td>\n      <td>a</td>\n      <td>1</td>\n      <td>X</td>\n      <td>3</td>\n      <td>gynecology</td>\n      <td>S</td>\n      <td>E</td>\n      <td>2.0</td>\n      <td>22729</td>\n      <td>8.0</td>\n      <td>Urgent</td>\n      <td>Moderate</td>\n      <td>2</td>\n      <td>51-60</td>\n      <td>3398.0</td>\n      <td>51-60</td>\n    </tr>\n    <tr>\n      <th>...</th>\n      <td>...</td>\n      <td>...</td>\n      <td>...</td>\n      <td>...</td>\n      <td>...</td>\n      <td>...</td>\n      <td>...</td>\n      <td>...</td>\n      <td>...</td>\n      <td>...</td>\n      <td>...</td>\n      <td>...</td>\n      <td>...</td>\n      <td>...</td>\n      <td>...</td>\n      <td>...</td>\n      <td>...</td>\n      <td>...</td>\n    </tr>\n    <tr>\n      <th>99995</th>\n      <td>237869</td>\n      <td>12</td>\n      <td>a</td>\n      <td>9</td>\n      <td>Y</td>\n      <td>3</td>\n      <td>gynecology</td>\n      <td>R</td>\n      <td>B</td>\n      <td>3.0</td>\n      <td>82914</td>\n      <td>3.0</td>\n      <td>Emergency</td>\n      <td>Moderate</td>\n      <td>6</td>\n      <td>51-60</td>\n      <td>3966.0</td>\n      <td>More than 100 Days</td>\n    </tr>\n    <tr>\n      <th>99996</th>\n      <td>254763</td>\n      <td>28</td>\n      <td>b</td>\n      <td>11</td>\n      <td>X</td>\n      <td>2</td>\n      <td>gynecology</td>\n      <td>R</td>\n      <td>F</td>\n      <td>2.0</td>\n      <td>40026</td>\n      <td>5.0</td>\n      <td>Urgent</td>\n      <td>Moderate</td>\n      <td>3</td>\n      <td>21-30</td>\n      <td>4005.0</td>\n      <td>51-60</td>\n    </tr>\n    <tr>\n      <th>99997</th>\n      <td>69788</td>\n      <td>6</td>\n      <td>a</td>\n      <td>6</td>\n      <td>X</td>\n      <td>3</td>\n      <td>gynecology</td>\n      <td>Q</td>\n      <td>F</td>\n      <td>3.0</td>\n      <td>92346</td>\n      <td>2.0</td>\n      <td>Trauma</td>\n      <td>Minor</td>\n      <td>2</td>\n      <td>31-40</td>\n      <td>5215.0</td>\n      <td>31-40</td>\n    </tr>\n    <tr>\n      <th>99998</th>\n      <td>204442</td>\n      <td>32</td>\n      <td>f</td>\n      <td>9</td>\n      <td>Y</td>\n      <td>2</td>\n      <td>gynecology</td>\n      <td>S</td>\n      <td>B</td>\n      <td>4.0</td>\n      <td>113798</td>\n      <td>15.0</td>\n      <td>Trauma</td>\n      <td>Moderate</td>\n      <td>3</td>\n      <td>41-50</td>\n      <td>5092.0</td>\n      <td>11-20</td>\n    </tr>\n    <tr>\n      <th>99999</th>\n      <td>69647</td>\n      <td>25</td>\n      <td>e</td>\n      <td>1</td>\n      <td>X</td>\n      <td>3</td>\n      <td>gynecology</td>\n      <td>Q</td>\n      <td>E</td>\n      <td>2.0</td>\n      <td>109237</td>\n      <td>8.0</td>\n      <td>Emergency</td>\n      <td>Moderate</td>\n      <td>2</td>\n      <td>41-50</td>\n      <td>3390.0</td>\n      <td>41-50</td>\n    </tr>\n  </tbody>\n</table>\n<p>100000 rows × 18 columns</p>\n</div>"
          },
          "metadata": {},
          "execution_count": 13
        }
      ]
    },
    {
      "cell_type": "code",
      "metadata": {
        "id": "F9AwbkPkE1Gq",
        "colab_type": "code",
        "colab": {},
        "outputId": "43169c92-aefb-4149-cc43-2f3c5f8595d5"
      },
      "source": [
        "df2.isnull()"
      ],
      "execution_count": 14,
      "outputs": [
        {
          "output_type": "execute_result",
          "data": {
            "text/plain": "           0      1      2      3      4      5      6      7      8      9  \\\n0      False  False  False  False  False  False  False  False  False  False   \n1      False  False  False  False  False  False  False  False  False  False   \n2      False  False  False  False  False  False  False  False  False  False   \n3      False  False  False  False  False  False  False  False  False  False   \n4      False  False  False  False  False  False  False  False  False  False   \n...      ...    ...    ...    ...    ...    ...    ...    ...    ...    ...   \n99995  False  False  False  False  False  False  False  False  False  False   \n99996  False  False  False  False  False  False  False  False  False  False   \n99997  False  False  False  False  False  False  False  False  False  False   \n99998  False  False  False  False  False  False  False  False  False  False   \n99999  False  False  False  False  False  False  False  False  False  False   \n\n          10     11     12     13     14     15     16     17  \n0      False  False  False  False  False  False  False  False  \n1      False  False  False  False  False  False  False  False  \n2      False  False  False  False  False  False  False  False  \n3      False  False  False  False  False  False  False  False  \n4      False  False  False  False  False  False  False  False  \n...      ...    ...    ...    ...    ...    ...    ...    ...  \n99995  False  False  False  False  False  False  False  False  \n99996  False  False  False  False  False  False  False  False  \n99997  False  False  False  False  False  False  False  False  \n99998  False  False  False  False  False  False  False  False  \n99999  False  False  False  False  False  False  False  False  \n\n[100000 rows x 18 columns]",
            "text/html": "<div>\n<style scoped>\n    .dataframe tbody tr th:only-of-type {\n        vertical-align: middle;\n    }\n\n    .dataframe tbody tr th {\n        vertical-align: top;\n    }\n\n    .dataframe thead th {\n        text-align: right;\n    }\n</style>\n<table border=\"1\" class=\"dataframe\">\n  <thead>\n    <tr style=\"text-align: right;\">\n      <th></th>\n      <th>0</th>\n      <th>1</th>\n      <th>2</th>\n      <th>3</th>\n      <th>4</th>\n      <th>5</th>\n      <th>6</th>\n      <th>7</th>\n      <th>8</th>\n      <th>9</th>\n      <th>10</th>\n      <th>11</th>\n      <th>12</th>\n      <th>13</th>\n      <th>14</th>\n      <th>15</th>\n      <th>16</th>\n      <th>17</th>\n    </tr>\n  </thead>\n  <tbody>\n    <tr>\n      <th>0</th>\n      <td>False</td>\n      <td>False</td>\n      <td>False</td>\n      <td>False</td>\n      <td>False</td>\n      <td>False</td>\n      <td>False</td>\n      <td>False</td>\n      <td>False</td>\n      <td>False</td>\n      <td>False</td>\n      <td>False</td>\n      <td>False</td>\n      <td>False</td>\n      <td>False</td>\n      <td>False</td>\n      <td>False</td>\n      <td>False</td>\n    </tr>\n    <tr>\n      <th>1</th>\n      <td>False</td>\n      <td>False</td>\n      <td>False</td>\n      <td>False</td>\n      <td>False</td>\n      <td>False</td>\n      <td>False</td>\n      <td>False</td>\n      <td>False</td>\n      <td>False</td>\n      <td>False</td>\n      <td>False</td>\n      <td>False</td>\n      <td>False</td>\n      <td>False</td>\n      <td>False</td>\n      <td>False</td>\n      <td>False</td>\n    </tr>\n    <tr>\n      <th>2</th>\n      <td>False</td>\n      <td>False</td>\n      <td>False</td>\n      <td>False</td>\n      <td>False</td>\n      <td>False</td>\n      <td>False</td>\n      <td>False</td>\n      <td>False</td>\n      <td>False</td>\n      <td>False</td>\n      <td>False</td>\n      <td>False</td>\n      <td>False</td>\n      <td>False</td>\n      <td>False</td>\n      <td>False</td>\n      <td>False</td>\n    </tr>\n    <tr>\n      <th>3</th>\n      <td>False</td>\n      <td>False</td>\n      <td>False</td>\n      <td>False</td>\n      <td>False</td>\n      <td>False</td>\n      <td>False</td>\n      <td>False</td>\n      <td>False</td>\n      <td>False</td>\n      <td>False</td>\n      <td>False</td>\n      <td>False</td>\n      <td>False</td>\n      <td>False</td>\n      <td>False</td>\n      <td>False</td>\n      <td>False</td>\n    </tr>\n    <tr>\n      <th>4</th>\n      <td>False</td>\n      <td>False</td>\n      <td>False</td>\n      <td>False</td>\n      <td>False</td>\n      <td>False</td>\n      <td>False</td>\n      <td>False</td>\n      <td>False</td>\n      <td>False</td>\n      <td>False</td>\n      <td>False</td>\n      <td>False</td>\n      <td>False</td>\n      <td>False</td>\n      <td>False</td>\n      <td>False</td>\n      <td>False</td>\n    </tr>\n    <tr>\n      <th>...</th>\n      <td>...</td>\n      <td>...</td>\n      <td>...</td>\n      <td>...</td>\n      <td>...</td>\n      <td>...</td>\n      <td>...</td>\n      <td>...</td>\n      <td>...</td>\n      <td>...</td>\n      <td>...</td>\n      <td>...</td>\n      <td>...</td>\n      <td>...</td>\n      <td>...</td>\n      <td>...</td>\n      <td>...</td>\n      <td>...</td>\n    </tr>\n    <tr>\n      <th>99995</th>\n      <td>False</td>\n      <td>False</td>\n      <td>False</td>\n      <td>False</td>\n      <td>False</td>\n      <td>False</td>\n      <td>False</td>\n      <td>False</td>\n      <td>False</td>\n      <td>False</td>\n      <td>False</td>\n      <td>False</td>\n      <td>False</td>\n      <td>False</td>\n      <td>False</td>\n      <td>False</td>\n      <td>False</td>\n      <td>False</td>\n    </tr>\n    <tr>\n      <th>99996</th>\n      <td>False</td>\n      <td>False</td>\n      <td>False</td>\n      <td>False</td>\n      <td>False</td>\n      <td>False</td>\n      <td>False</td>\n      <td>False</td>\n      <td>False</td>\n      <td>False</td>\n      <td>False</td>\n      <td>False</td>\n      <td>False</td>\n      <td>False</td>\n      <td>False</td>\n      <td>False</td>\n      <td>False</td>\n      <td>False</td>\n    </tr>\n    <tr>\n      <th>99997</th>\n      <td>False</td>\n      <td>False</td>\n      <td>False</td>\n      <td>False</td>\n      <td>False</td>\n      <td>False</td>\n      <td>False</td>\n      <td>False</td>\n      <td>False</td>\n      <td>False</td>\n      <td>False</td>\n      <td>False</td>\n      <td>False</td>\n      <td>False</td>\n      <td>False</td>\n      <td>False</td>\n      <td>False</td>\n      <td>False</td>\n    </tr>\n    <tr>\n      <th>99998</th>\n      <td>False</td>\n      <td>False</td>\n      <td>False</td>\n      <td>False</td>\n      <td>False</td>\n      <td>False</td>\n      <td>False</td>\n      <td>False</td>\n      <td>False</td>\n      <td>False</td>\n      <td>False</td>\n      <td>False</td>\n      <td>False</td>\n      <td>False</td>\n      <td>False</td>\n      <td>False</td>\n      <td>False</td>\n      <td>False</td>\n    </tr>\n    <tr>\n      <th>99999</th>\n      <td>False</td>\n      <td>False</td>\n      <td>False</td>\n      <td>False</td>\n      <td>False</td>\n      <td>False</td>\n      <td>False</td>\n      <td>False</td>\n      <td>False</td>\n      <td>False</td>\n      <td>False</td>\n      <td>False</td>\n      <td>False</td>\n      <td>False</td>\n      <td>False</td>\n      <td>False</td>\n      <td>False</td>\n      <td>False</td>\n    </tr>\n  </tbody>\n</table>\n<p>100000 rows × 18 columns</p>\n</div>"
          },
          "metadata": {},
          "execution_count": 14
        }
      ]
    },
    {
      "cell_type": "code",
      "metadata": {
        "id": "4mCmwlAuE1Gt",
        "colab_type": "code",
        "colab": {}
      },
      "source": [
        "df2.drop(\"0\",1,inplace = True)"
      ],
      "execution_count": 15,
      "outputs": []
    },
    {
      "cell_type": "code",
      "metadata": {
        "id": "RuQGAkApE1Gw",
        "colab_type": "code",
        "colab": {}
      },
      "source": [
        "df2.drop(['1','3'], 1, inplace = True)"
      ],
      "execution_count": 16,
      "outputs": []
    },
    {
      "cell_type": "code",
      "metadata": {
        "id": "J8oDymWwE1Gz",
        "colab_type": "code",
        "colab": {},
        "outputId": "382a3065-5bfe-4018-a322-676b6b621939"
      },
      "source": [
        "df2"
      ],
      "execution_count": 17,
      "outputs": [
        {
          "output_type": "execute_result",
          "data": {
            "text/plain": "       2  4  5           6  7  8    9      10    11         12        13  14  \\\n0      a  X  2  gynecology  R  F  4.0   45810   2.0     Urgent  Moderate   2   \n1      a  X  4  gynecology  Q  F  2.0  128565  15.0     Trauma  Moderate   4   \n2      c  Z  2  anesthesia  S  F  3.0   46565   5.0     Urgent  Moderate   2   \n3      f  Y  3  gynecology  S  B  4.0  124546   6.0  Emergency  Moderate   4   \n4      a  X  3  gynecology  S  E  2.0   22729   8.0     Urgent  Moderate   2   \n...   .. .. ..         ... .. ..  ...     ...   ...        ...       ...  ..   \n99995  a  Y  3  gynecology  R  B  3.0   82914   3.0  Emergency  Moderate   6   \n99996  b  X  2  gynecology  R  F  2.0   40026   5.0     Urgent  Moderate   3   \n99997  a  X  3  gynecology  Q  F  3.0   92346   2.0     Trauma     Minor   2   \n99998  f  Y  2  gynecology  S  B  4.0  113798  15.0     Trauma  Moderate   3   \n99999  e  X  3  gynecology  Q  E  2.0  109237   8.0  Emergency  Moderate   2   \n\n          15      16                  17  \n0      21-30  2817.0                0-10  \n1      51-60  4498.0               21-30  \n2      71-80  4573.0               11-20  \n3      11-20  7202.0               51-60  \n4      51-60  3398.0               51-60  \n...      ...     ...                 ...  \n99995  51-60  3966.0  More than 100 Days  \n99996  21-30  4005.0               51-60  \n99997  31-40  5215.0               31-40  \n99998  41-50  5092.0               11-20  \n99999  41-50  3390.0               41-50  \n\n[100000 rows x 15 columns]",
            "text/html": "<div>\n<style scoped>\n    .dataframe tbody tr th:only-of-type {\n        vertical-align: middle;\n    }\n\n    .dataframe tbody tr th {\n        vertical-align: top;\n    }\n\n    .dataframe thead th {\n        text-align: right;\n    }\n</style>\n<table border=\"1\" class=\"dataframe\">\n  <thead>\n    <tr style=\"text-align: right;\">\n      <th></th>\n      <th>2</th>\n      <th>4</th>\n      <th>5</th>\n      <th>6</th>\n      <th>7</th>\n      <th>8</th>\n      <th>9</th>\n      <th>10</th>\n      <th>11</th>\n      <th>12</th>\n      <th>13</th>\n      <th>14</th>\n      <th>15</th>\n      <th>16</th>\n      <th>17</th>\n    </tr>\n  </thead>\n  <tbody>\n    <tr>\n      <th>0</th>\n      <td>a</td>\n      <td>X</td>\n      <td>2</td>\n      <td>gynecology</td>\n      <td>R</td>\n      <td>F</td>\n      <td>4.0</td>\n      <td>45810</td>\n      <td>2.0</td>\n      <td>Urgent</td>\n      <td>Moderate</td>\n      <td>2</td>\n      <td>21-30</td>\n      <td>2817.0</td>\n      <td>0-10</td>\n    </tr>\n    <tr>\n      <th>1</th>\n      <td>a</td>\n      <td>X</td>\n      <td>4</td>\n      <td>gynecology</td>\n      <td>Q</td>\n      <td>F</td>\n      <td>2.0</td>\n      <td>128565</td>\n      <td>15.0</td>\n      <td>Trauma</td>\n      <td>Moderate</td>\n      <td>4</td>\n      <td>51-60</td>\n      <td>4498.0</td>\n      <td>21-30</td>\n    </tr>\n    <tr>\n      <th>2</th>\n      <td>c</td>\n      <td>Z</td>\n      <td>2</td>\n      <td>anesthesia</td>\n      <td>S</td>\n      <td>F</td>\n      <td>3.0</td>\n      <td>46565</td>\n      <td>5.0</td>\n      <td>Urgent</td>\n      <td>Moderate</td>\n      <td>2</td>\n      <td>71-80</td>\n      <td>4573.0</td>\n      <td>11-20</td>\n    </tr>\n    <tr>\n      <th>3</th>\n      <td>f</td>\n      <td>Y</td>\n      <td>3</td>\n      <td>gynecology</td>\n      <td>S</td>\n      <td>B</td>\n      <td>4.0</td>\n      <td>124546</td>\n      <td>6.0</td>\n      <td>Emergency</td>\n      <td>Moderate</td>\n      <td>4</td>\n      <td>11-20</td>\n      <td>7202.0</td>\n      <td>51-60</td>\n    </tr>\n    <tr>\n      <th>4</th>\n      <td>a</td>\n      <td>X</td>\n      <td>3</td>\n      <td>gynecology</td>\n      <td>S</td>\n      <td>E</td>\n      <td>2.0</td>\n      <td>22729</td>\n      <td>8.0</td>\n      <td>Urgent</td>\n      <td>Moderate</td>\n      <td>2</td>\n      <td>51-60</td>\n      <td>3398.0</td>\n      <td>51-60</td>\n    </tr>\n    <tr>\n      <th>...</th>\n      <td>...</td>\n      <td>...</td>\n      <td>...</td>\n      <td>...</td>\n      <td>...</td>\n      <td>...</td>\n      <td>...</td>\n      <td>...</td>\n      <td>...</td>\n      <td>...</td>\n      <td>...</td>\n      <td>...</td>\n      <td>...</td>\n      <td>...</td>\n      <td>...</td>\n    </tr>\n    <tr>\n      <th>99995</th>\n      <td>a</td>\n      <td>Y</td>\n      <td>3</td>\n      <td>gynecology</td>\n      <td>R</td>\n      <td>B</td>\n      <td>3.0</td>\n      <td>82914</td>\n      <td>3.0</td>\n      <td>Emergency</td>\n      <td>Moderate</td>\n      <td>6</td>\n      <td>51-60</td>\n      <td>3966.0</td>\n      <td>More than 100 Days</td>\n    </tr>\n    <tr>\n      <th>99996</th>\n      <td>b</td>\n      <td>X</td>\n      <td>2</td>\n      <td>gynecology</td>\n      <td>R</td>\n      <td>F</td>\n      <td>2.0</td>\n      <td>40026</td>\n      <td>5.0</td>\n      <td>Urgent</td>\n      <td>Moderate</td>\n      <td>3</td>\n      <td>21-30</td>\n      <td>4005.0</td>\n      <td>51-60</td>\n    </tr>\n    <tr>\n      <th>99997</th>\n      <td>a</td>\n      <td>X</td>\n      <td>3</td>\n      <td>gynecology</td>\n      <td>Q</td>\n      <td>F</td>\n      <td>3.0</td>\n      <td>92346</td>\n      <td>2.0</td>\n      <td>Trauma</td>\n      <td>Minor</td>\n      <td>2</td>\n      <td>31-40</td>\n      <td>5215.0</td>\n      <td>31-40</td>\n    </tr>\n    <tr>\n      <th>99998</th>\n      <td>f</td>\n      <td>Y</td>\n      <td>2</td>\n      <td>gynecology</td>\n      <td>S</td>\n      <td>B</td>\n      <td>4.0</td>\n      <td>113798</td>\n      <td>15.0</td>\n      <td>Trauma</td>\n      <td>Moderate</td>\n      <td>3</td>\n      <td>41-50</td>\n      <td>5092.0</td>\n      <td>11-20</td>\n    </tr>\n    <tr>\n      <th>99999</th>\n      <td>e</td>\n      <td>X</td>\n      <td>3</td>\n      <td>gynecology</td>\n      <td>Q</td>\n      <td>E</td>\n      <td>2.0</td>\n      <td>109237</td>\n      <td>8.0</td>\n      <td>Emergency</td>\n      <td>Moderate</td>\n      <td>2</td>\n      <td>41-50</td>\n      <td>3390.0</td>\n      <td>41-50</td>\n    </tr>\n  </tbody>\n</table>\n<p>100000 rows × 15 columns</p>\n</div>"
          },
          "metadata": {},
          "execution_count": 17
        }
      ]
    },
    {
      "cell_type": "code",
      "metadata": {
        "tags": [],
        "id": "MzHlbWbfE1G3",
        "colab_type": "code",
        "colab": {},
        "outputId": "3a7f22eb-8639-4dec-c84f-0631b07351f2"
      },
      "source": [
        "df2.info()"
      ],
      "execution_count": 18,
      "outputs": [
        {
          "output_type": "stream",
          "name": "stdout",
          "text": "<class 'pandas.core.frame.DataFrame'>\nRangeIndex: 100000 entries, 0 to 99999\nData columns (total 15 columns):\n #   Column  Non-Null Count   Dtype  \n---  ------  --------------   -----  \n 0   2       100000 non-null  object \n 1   4       100000 non-null  object \n 2   5       100000 non-null  int64  \n 3   6       100000 non-null  object \n 4   7       100000 non-null  object \n 5   8       100000 non-null  object \n 6   9       100000 non-null  float64\n 7   10      100000 non-null  int64  \n 8   11      100000 non-null  float64\n 9   12      100000 non-null  object \n 10  13      100000 non-null  object \n 11  14      100000 non-null  int64  \n 12  15      100000 non-null  object \n 13  16      100000 non-null  float64\n 14  17      100000 non-null  object \ndtypes: float64(3), int64(3), object(9)\nmemory usage: 11.4+ MB\n"
        }
      ]
    },
    {
      "cell_type": "code",
      "metadata": {
        "id": "bmSzOf2lE1G9",
        "colab_type": "code",
        "colab": {},
        "outputId": "0487c435-9484-4df4-d4d8-ca4614929e5b"
      },
      "source": [
        "corrMatrix = df2.corr()\n",
        "sns.heatmap(corrMatrix, annot=True)\n",
        "plt.show()"
      ],
      "execution_count": 19,
      "outputs": [
        {
          "output_type": "display_data",
          "data": {
            "text/plain": "<Figure size 720x576 with 2 Axes>",
            "image/svg+xml": "<?xml version=\"1.0\" encoding=\"utf-8\" standalone=\"no\"?>\n<!DOCTYPE svg PUBLIC \"-//W3C//DTD SVG 1.1//EN\"\n  \"http://www.w3.org/Graphics/SVG/1.1/DTD/svg11.dtd\">\n<!-- Created with matplotlib (https://matplotlib.org/) -->\n<svg height=\"469.757344pt\" version=\"1.1\" viewBox=\"0 0 550.02525 469.757344\" width=\"550.02525pt\" xmlns=\"http://www.w3.org/2000/svg\" xmlns:xlink=\"http://www.w3.org/1999/xlink\">\n <defs>\n  <style type=\"text/css\">\n*{stroke-linecap:butt;stroke-linejoin:round;}\n  </style>\n </defs>\n <g id=\"figure_1\">\n  <g id=\"patch_1\">\n   <path d=\"M 0 469.757344 \nL 550.02525 469.757344 \nL 550.02525 0 \nL 0 0 \nz\n\" style=\"fill:none;\"/>\n  </g>\n  <g id=\"axes_1\">\n   <g id=\"patch_2\">\n    <path d=\"M 23.878125 445.879219 \nL 470.278125 445.879219 \nL 470.278125 10.999219 \nL 23.878125 10.999219 \nz\n\" style=\"fill:#ffffff;\"/>\n   </g>\n   <g id=\"QuadMesh_1\">\n    <path clip-path=\"url(#p9cfdc98661)\" d=\"M 23.878125 10.999219 \nL 98.278125 10.999219 \nL 98.278125 83.479219 \nL 23.878125 83.479219 \nL 23.878125 10.999219 \n\" style=\"fill:#faebdd;\"/>\n    <path clip-path=\"url(#p9cfdc98661)\" d=\"M 98.278125 10.999219 \nL 172.678125 10.999219 \nL 172.678125 83.479219 \nL 98.278125 83.479219 \nL 98.278125 10.999219 \n\" style=\"fill:#0b0920;\"/>\n    <path clip-path=\"url(#p9cfdc98661)\" d=\"M 172.678125 10.999219 \nL 247.078125 10.999219 \nL 247.078125 83.479219 \nL 172.678125 83.479219 \nL 172.678125 10.999219 \n\" style=\"fill:#34193d;\"/>\n    <path clip-path=\"url(#p9cfdc98661)\" d=\"M 247.078125 10.999219 \nL 321.478125 10.999219 \nL 321.478125 83.479219 \nL 247.078125 83.479219 \nL 247.078125 10.999219 \n\" style=\"fill:#2e1739;\"/>\n    <path clip-path=\"url(#p9cfdc98661)\" d=\"M 321.478125 10.999219 \nL 395.878125 10.999219 \nL 395.878125 83.479219 \nL 321.478125 83.479219 \nL 321.478125 10.999219 \n\" style=\"fill:#511e4d;\"/>\n    <path clip-path=\"url(#p9cfdc98661)\" d=\"M 395.878125 10.999219 \nL 470.278125 10.999219 \nL 470.278125 83.479219 \nL 395.878125 83.479219 \nL 395.878125 10.999219 \n\" style=\"fill:#05061b;\"/>\n    <path clip-path=\"url(#p9cfdc98661)\" d=\"M 23.878125 83.479219 \nL 98.278125 83.479219 \nL 98.278125 155.959219 \nL 23.878125 155.959219 \nL 23.878125 83.479219 \n\" style=\"fill:#0b0920;\"/>\n    <path clip-path=\"url(#p9cfdc98661)\" d=\"M 98.278125 83.479219 \nL 172.678125 83.479219 \nL 172.678125 155.959219 \nL 98.278125 155.959219 \nL 98.278125 83.479219 \n\" style=\"fill:#faebdd;\"/>\n    <path clip-path=\"url(#p9cfdc98661)\" d=\"M 172.678125 83.479219 \nL 247.078125 83.479219 \nL 247.078125 155.959219 \nL 172.678125 155.959219 \nL 172.678125 83.479219 \n\" style=\"fill:#34193d;\"/>\n    <path clip-path=\"url(#p9cfdc98661)\" d=\"M 247.078125 83.479219 \nL 321.478125 83.479219 \nL 321.478125 155.959219 \nL 247.078125 155.959219 \nL 247.078125 83.479219 \n\" style=\"fill:#2d1738;\"/>\n    <path clip-path=\"url(#p9cfdc98661)\" d=\"M 321.478125 83.479219 \nL 395.878125 83.479219 \nL 395.878125 155.959219 \nL 321.478125 155.959219 \nL 321.478125 83.479219 \n\" style=\"fill:#511e4d;\"/>\n    <path clip-path=\"url(#p9cfdc98661)\" d=\"M 395.878125 83.479219 \nL 470.278125 83.479219 \nL 470.278125 155.959219 \nL 395.878125 155.959219 \nL 395.878125 83.479219 \n\" style=\"fill:#491d49;\"/>\n    <path clip-path=\"url(#p9cfdc98661)\" d=\"M 23.878125 155.959219 \nL 98.278125 155.959219 \nL 98.278125 228.439219 \nL 23.878125 228.439219 \nL 23.878125 155.959219 \n\" style=\"fill:#34193d;\"/>\n    <path clip-path=\"url(#p9cfdc98661)\" d=\"M 98.278125 155.959219 \nL 172.678125 155.959219 \nL 172.678125 228.439219 \nL 98.278125 228.439219 \nL 98.278125 155.959219 \n\" style=\"fill:#34193d;\"/>\n    <path clip-path=\"url(#p9cfdc98661)\" d=\"M 172.678125 155.959219 \nL 247.078125 155.959219 \nL 247.078125 228.439219 \nL 172.678125 228.439219 \nL 172.678125 155.959219 \n\" style=\"fill:#faebdd;\"/>\n    <path clip-path=\"url(#p9cfdc98661)\" d=\"M 247.078125 155.959219 \nL 321.478125 155.959219 \nL 321.478125 228.439219 \nL 247.078125 228.439219 \nL 247.078125 155.959219 \n\" style=\"fill:#34193d;\"/>\n    <path clip-path=\"url(#p9cfdc98661)\" d=\"M 321.478125 155.959219 \nL 395.878125 155.959219 \nL 395.878125 228.439219 \nL 321.478125 228.439219 \nL 321.478125 155.959219 \n\" style=\"fill:#34193d;\"/>\n    <path clip-path=\"url(#p9cfdc98661)\" d=\"M 395.878125 155.959219 \nL 470.278125 155.959219 \nL 470.278125 228.439219 \nL 395.878125 228.439219 \nL 395.878125 155.959219 \n\" style=\"fill:#31183b;\"/>\n    <path clip-path=\"url(#p9cfdc98661)\" d=\"M 23.878125 228.439219 \nL 98.278125 228.439219 \nL 98.278125 300.919219 \nL 23.878125 300.919219 \nL 23.878125 228.439219 \n\" style=\"fill:#2e1739;\"/>\n    <path clip-path=\"url(#p9cfdc98661)\" d=\"M 98.278125 228.439219 \nL 172.678125 228.439219 \nL 172.678125 300.919219 \nL 98.278125 300.919219 \nL 98.278125 228.439219 \n\" style=\"fill:#2d1738;\"/>\n    <path clip-path=\"url(#p9cfdc98661)\" d=\"M 172.678125 228.439219 \nL 247.078125 228.439219 \nL 247.078125 300.919219 \nL 172.678125 300.919219 \nL 172.678125 228.439219 \n\" style=\"fill:#34193d;\"/>\n    <path clip-path=\"url(#p9cfdc98661)\" d=\"M 247.078125 228.439219 \nL 321.478125 228.439219 \nL 321.478125 300.919219 \nL 247.078125 300.919219 \nL 247.078125 228.439219 \n\" style=\"fill:#faebdd;\"/>\n    <path clip-path=\"url(#p9cfdc98661)\" d=\"M 321.478125 228.439219 \nL 395.878125 228.439219 \nL 395.878125 300.919219 \nL 321.478125 300.919219 \nL 321.478125 228.439219 \n\" style=\"fill:#2e1739;\"/>\n    <path clip-path=\"url(#p9cfdc98661)\" d=\"M 395.878125 228.439219 \nL 470.278125 228.439219 \nL 470.278125 300.919219 \nL 395.878125 300.919219 \nL 395.878125 228.439219 \n\" style=\"fill:#3a1a41;\"/>\n    <path clip-path=\"url(#p9cfdc98661)\" d=\"M 23.878125 300.919219 \nL 98.278125 300.919219 \nL 98.278125 373.399219 \nL 23.878125 373.399219 \nL 23.878125 300.919219 \n\" style=\"fill:#511e4d;\"/>\n    <path clip-path=\"url(#p9cfdc98661)\" d=\"M 98.278125 300.919219 \nL 172.678125 300.919219 \nL 172.678125 373.399219 \nL 98.278125 373.399219 \nL 98.278125 300.919219 \n\" style=\"fill:#511e4d;\"/>\n    <path clip-path=\"url(#p9cfdc98661)\" d=\"M 172.678125 300.919219 \nL 247.078125 300.919219 \nL 247.078125 373.399219 \nL 172.678125 373.399219 \nL 172.678125 300.919219 \n\" style=\"fill:#34193d;\"/>\n    <path clip-path=\"url(#p9cfdc98661)\" d=\"M 247.078125 300.919219 \nL 321.478125 300.919219 \nL 321.478125 373.399219 \nL 247.078125 373.399219 \nL 247.078125 300.919219 \n\" style=\"fill:#2e1739;\"/>\n    <path clip-path=\"url(#p9cfdc98661)\" d=\"M 321.478125 300.919219 \nL 395.878125 300.919219 \nL 395.878125 373.399219 \nL 321.478125 373.399219 \nL 321.478125 300.919219 \n\" style=\"fill:#faebdd;\"/>\n    <path clip-path=\"url(#p9cfdc98661)\" d=\"M 395.878125 300.919219 \nL 470.278125 300.919219 \nL 470.278125 373.399219 \nL 395.878125 373.399219 \nL 395.878125 300.919219 \n\" style=\"fill:#03051a;\"/>\n    <path clip-path=\"url(#p9cfdc98661)\" d=\"M 23.878125 373.399219 \nL 98.278125 373.399219 \nL 98.278125 445.879219 \nL 23.878125 445.879219 \nL 23.878125 373.399219 \n\" style=\"fill:#05061b;\"/>\n    <path clip-path=\"url(#p9cfdc98661)\" d=\"M 98.278125 373.399219 \nL 172.678125 373.399219 \nL 172.678125 445.879219 \nL 98.278125 445.879219 \nL 98.278125 373.399219 \n\" style=\"fill:#491d49;\"/>\n    <path clip-path=\"url(#p9cfdc98661)\" d=\"M 172.678125 373.399219 \nL 247.078125 373.399219 \nL 247.078125 445.879219 \nL 172.678125 445.879219 \nL 172.678125 373.399219 \n\" style=\"fill:#31183b;\"/>\n    <path clip-path=\"url(#p9cfdc98661)\" d=\"M 247.078125 373.399219 \nL 321.478125 373.399219 \nL 321.478125 445.879219 \nL 247.078125 445.879219 \nL 247.078125 373.399219 \n\" style=\"fill:#3a1a41;\"/>\n    <path clip-path=\"url(#p9cfdc98661)\" d=\"M 321.478125 373.399219 \nL 395.878125 373.399219 \nL 395.878125 445.879219 \nL 321.478125 445.879219 \nL 321.478125 373.399219 \n\" style=\"fill:#03051a;\"/>\n    <path clip-path=\"url(#p9cfdc98661)\" d=\"M 395.878125 373.399219 \nL 470.278125 373.399219 \nL 470.278125 445.879219 \nL 395.878125 445.879219 \nL 395.878125 373.399219 \n\" style=\"fill:#faebdd;\"/>\n   </g>\n   <g id=\"matplotlib.axis_1\">\n    <g id=\"xtick_1\">\n     <g id=\"line2d_1\">\n      <defs>\n       <path d=\"M 0 0 \nL 0 3.5 \n\" id=\"mbbdd0d1786\" style=\"stroke:#000000;stroke-width:0.8;\"/>\n      </defs>\n      <g>\n       <use style=\"stroke:#000000;stroke-width:0.8;\" x=\"61.078125\" xlink:href=\"#mbbdd0d1786\" y=\"445.879219\"/>\n      </g>\n     </g>\n     <g id=\"text_1\">\n      <!-- 5 -->\n      <defs>\n       <path d=\"M 10.796875 72.90625 \nL 49.515625 72.90625 \nL 49.515625 64.59375 \nL 19.828125 64.59375 \nL 19.828125 46.734375 \nQ 21.96875 47.46875 24.109375 47.828125 \nQ 26.265625 48.1875 28.421875 48.1875 \nQ 40.625 48.1875 47.75 41.5 \nQ 54.890625 34.8125 54.890625 23.390625 \nQ 54.890625 11.625 47.5625 5.09375 \nQ 40.234375 -1.421875 26.90625 -1.421875 \nQ 22.3125 -1.421875 17.546875 -0.640625 \nQ 12.796875 0.140625 7.71875 1.703125 \nL 7.71875 11.625 \nQ 12.109375 9.234375 16.796875 8.0625 \nQ 21.484375 6.890625 26.703125 6.890625 \nQ 35.15625 6.890625 40.078125 11.328125 \nQ 45.015625 15.765625 45.015625 23.390625 \nQ 45.015625 31 40.078125 35.4375 \nQ 35.15625 39.890625 26.703125 39.890625 \nQ 22.75 39.890625 18.8125 39.015625 \nQ 14.890625 38.140625 10.796875 36.28125 \nz\n\" id=\"DejaVuSans-53\"/>\n      </defs>\n      <g transform=\"translate(57.896875 460.477656)scale(0.1 -0.1)\">\n       <use xlink:href=\"#DejaVuSans-53\"/>\n      </g>\n     </g>\n    </g>\n    <g id=\"xtick_2\">\n     <g id=\"line2d_2\">\n      <g>\n       <use style=\"stroke:#000000;stroke-width:0.8;\" x=\"135.478125\" xlink:href=\"#mbbdd0d1786\" y=\"445.879219\"/>\n      </g>\n     </g>\n     <g id=\"text_2\">\n      <!-- 9 -->\n      <defs>\n       <path d=\"M 10.984375 1.515625 \nL 10.984375 10.5 \nQ 14.703125 8.734375 18.5 7.8125 \nQ 22.3125 6.890625 25.984375 6.890625 \nQ 35.75 6.890625 40.890625 13.453125 \nQ 46.046875 20.015625 46.78125 33.40625 \nQ 43.953125 29.203125 39.59375 26.953125 \nQ 35.25 24.703125 29.984375 24.703125 \nQ 19.046875 24.703125 12.671875 31.3125 \nQ 6.296875 37.9375 6.296875 49.421875 \nQ 6.296875 60.640625 12.9375 67.421875 \nQ 19.578125 74.21875 30.609375 74.21875 \nQ 43.265625 74.21875 49.921875 64.515625 \nQ 56.59375 54.828125 56.59375 36.375 \nQ 56.59375 19.140625 48.40625 8.859375 \nQ 40.234375 -1.421875 26.421875 -1.421875 \nQ 22.703125 -1.421875 18.890625 -0.6875 \nQ 15.09375 0.046875 10.984375 1.515625 \nz\nM 30.609375 32.421875 \nQ 37.25 32.421875 41.125 36.953125 \nQ 45.015625 41.5 45.015625 49.421875 \nQ 45.015625 57.28125 41.125 61.84375 \nQ 37.25 66.40625 30.609375 66.40625 \nQ 23.96875 66.40625 20.09375 61.84375 \nQ 16.21875 57.28125 16.21875 49.421875 \nQ 16.21875 41.5 20.09375 36.953125 \nQ 23.96875 32.421875 30.609375 32.421875 \nz\n\" id=\"DejaVuSans-57\"/>\n      </defs>\n      <g transform=\"translate(132.296875 460.477656)scale(0.1 -0.1)\">\n       <use xlink:href=\"#DejaVuSans-57\"/>\n      </g>\n     </g>\n    </g>\n    <g id=\"xtick_3\">\n     <g id=\"line2d_3\">\n      <g>\n       <use style=\"stroke:#000000;stroke-width:0.8;\" x=\"209.878125\" xlink:href=\"#mbbdd0d1786\" y=\"445.879219\"/>\n      </g>\n     </g>\n     <g id=\"text_3\">\n      <!-- 10 -->\n      <defs>\n       <path d=\"M 12.40625 8.296875 \nL 28.515625 8.296875 \nL 28.515625 63.921875 \nL 10.984375 60.40625 \nL 10.984375 69.390625 \nL 28.421875 72.90625 \nL 38.28125 72.90625 \nL 38.28125 8.296875 \nL 54.390625 8.296875 \nL 54.390625 0 \nL 12.40625 0 \nz\n\" id=\"DejaVuSans-49\"/>\n       <path d=\"M 31.78125 66.40625 \nQ 24.171875 66.40625 20.328125 58.90625 \nQ 16.5 51.421875 16.5 36.375 \nQ 16.5 21.390625 20.328125 13.890625 \nQ 24.171875 6.390625 31.78125 6.390625 \nQ 39.453125 6.390625 43.28125 13.890625 \nQ 47.125 21.390625 47.125 36.375 \nQ 47.125 51.421875 43.28125 58.90625 \nQ 39.453125 66.40625 31.78125 66.40625 \nz\nM 31.78125 74.21875 \nQ 44.046875 74.21875 50.515625 64.515625 \nQ 56.984375 54.828125 56.984375 36.375 \nQ 56.984375 17.96875 50.515625 8.265625 \nQ 44.046875 -1.421875 31.78125 -1.421875 \nQ 19.53125 -1.421875 13.0625 8.265625 \nQ 6.59375 17.96875 6.59375 36.375 \nQ 6.59375 54.828125 13.0625 64.515625 \nQ 19.53125 74.21875 31.78125 74.21875 \nz\n\" id=\"DejaVuSans-48\"/>\n      </defs>\n      <g transform=\"translate(203.515625 460.477656)scale(0.1 -0.1)\">\n       <use xlink:href=\"#DejaVuSans-49\"/>\n       <use x=\"63.623047\" xlink:href=\"#DejaVuSans-48\"/>\n      </g>\n     </g>\n    </g>\n    <g id=\"xtick_4\">\n     <g id=\"line2d_4\">\n      <g>\n       <use style=\"stroke:#000000;stroke-width:0.8;\" x=\"284.278125\" xlink:href=\"#mbbdd0d1786\" y=\"445.879219\"/>\n      </g>\n     </g>\n     <g id=\"text_4\">\n      <!-- 11 -->\n      <g transform=\"translate(277.915625 460.477656)scale(0.1 -0.1)\">\n       <use xlink:href=\"#DejaVuSans-49\"/>\n       <use x=\"63.623047\" xlink:href=\"#DejaVuSans-49\"/>\n      </g>\n     </g>\n    </g>\n    <g id=\"xtick_5\">\n     <g id=\"line2d_5\">\n      <g>\n       <use style=\"stroke:#000000;stroke-width:0.8;\" x=\"358.678125\" xlink:href=\"#mbbdd0d1786\" y=\"445.879219\"/>\n      </g>\n     </g>\n     <g id=\"text_5\">\n      <!-- 14 -->\n      <defs>\n       <path d=\"M 37.796875 64.3125 \nL 12.890625 25.390625 \nL 37.796875 25.390625 \nz\nM 35.203125 72.90625 \nL 47.609375 72.90625 \nL 47.609375 25.390625 \nL 58.015625 25.390625 \nL 58.015625 17.1875 \nL 47.609375 17.1875 \nL 47.609375 0 \nL 37.796875 0 \nL 37.796875 17.1875 \nL 4.890625 17.1875 \nL 4.890625 26.703125 \nz\n\" id=\"DejaVuSans-52\"/>\n      </defs>\n      <g transform=\"translate(352.315625 460.477656)scale(0.1 -0.1)\">\n       <use xlink:href=\"#DejaVuSans-49\"/>\n       <use x=\"63.623047\" xlink:href=\"#DejaVuSans-52\"/>\n      </g>\n     </g>\n    </g>\n    <g id=\"xtick_6\">\n     <g id=\"line2d_6\">\n      <g>\n       <use style=\"stroke:#000000;stroke-width:0.8;\" x=\"433.078125\" xlink:href=\"#mbbdd0d1786\" y=\"445.879219\"/>\n      </g>\n     </g>\n     <g id=\"text_6\">\n      <!-- 16 -->\n      <defs>\n       <path d=\"M 33.015625 40.375 \nQ 26.375 40.375 22.484375 35.828125 \nQ 18.609375 31.296875 18.609375 23.390625 \nQ 18.609375 15.53125 22.484375 10.953125 \nQ 26.375 6.390625 33.015625 6.390625 \nQ 39.65625 6.390625 43.53125 10.953125 \nQ 47.40625 15.53125 47.40625 23.390625 \nQ 47.40625 31.296875 43.53125 35.828125 \nQ 39.65625 40.375 33.015625 40.375 \nz\nM 52.59375 71.296875 \nL 52.59375 62.3125 \nQ 48.875 64.0625 45.09375 64.984375 \nQ 41.3125 65.921875 37.59375 65.921875 \nQ 27.828125 65.921875 22.671875 59.328125 \nQ 17.53125 52.734375 16.796875 39.40625 \nQ 19.671875 43.65625 24.015625 45.921875 \nQ 28.375 48.1875 33.59375 48.1875 \nQ 44.578125 48.1875 50.953125 41.515625 \nQ 57.328125 34.859375 57.328125 23.390625 \nQ 57.328125 12.15625 50.6875 5.359375 \nQ 44.046875 -1.421875 33.015625 -1.421875 \nQ 20.359375 -1.421875 13.671875 8.265625 \nQ 6.984375 17.96875 6.984375 36.375 \nQ 6.984375 53.65625 15.1875 63.9375 \nQ 23.390625 74.21875 37.203125 74.21875 \nQ 40.921875 74.21875 44.703125 73.484375 \nQ 48.484375 72.75 52.59375 71.296875 \nz\n\" id=\"DejaVuSans-54\"/>\n      </defs>\n      <g transform=\"translate(426.715625 460.477656)scale(0.1 -0.1)\">\n       <use xlink:href=\"#DejaVuSans-49\"/>\n       <use x=\"63.623047\" xlink:href=\"#DejaVuSans-54\"/>\n      </g>\n     </g>\n    </g>\n   </g>\n   <g id=\"matplotlib.axis_2\">\n    <g id=\"ytick_1\">\n     <g id=\"line2d_7\">\n      <defs>\n       <path d=\"M 0 0 \nL -3.5 0 \n\" id=\"m15f45ec8fb\" style=\"stroke:#000000;stroke-width:0.8;\"/>\n      </defs>\n      <g>\n       <use style=\"stroke:#000000;stroke-width:0.8;\" x=\"23.878125\" xlink:href=\"#m15f45ec8fb\" y=\"47.239219\"/>\n      </g>\n     </g>\n     <g id=\"text_7\">\n      <!-- 5 -->\n      <g transform=\"translate(14.798437 49.8025)rotate(-90)scale(0.1 -0.1)\">\n       <use xlink:href=\"#DejaVuSans-53\"/>\n      </g>\n     </g>\n    </g>\n    <g id=\"ytick_2\">\n     <g id=\"line2d_8\">\n      <g>\n       <use style=\"stroke:#000000;stroke-width:0.8;\" x=\"23.878125\" xlink:href=\"#m15f45ec8fb\" y=\"119.719219\"/>\n      </g>\n     </g>\n     <g id=\"text_8\">\n      <!-- 9 -->\n      <g transform=\"translate(14.798437 122.2825)rotate(-90)scale(0.1 -0.1)\">\n       <use xlink:href=\"#DejaVuSans-57\"/>\n      </g>\n     </g>\n    </g>\n    <g id=\"ytick_3\">\n     <g id=\"line2d_9\">\n      <g>\n       <use style=\"stroke:#000000;stroke-width:0.8;\" x=\"23.878125\" xlink:href=\"#m15f45ec8fb\" y=\"192.199219\"/>\n      </g>\n     </g>\n     <g id=\"text_9\">\n      <!-- 10 -->\n      <g transform=\"translate(14.798437 201.125)rotate(-90)scale(0.1 -0.1)\">\n       <use xlink:href=\"#DejaVuSans-49\"/>\n       <use x=\"63.623047\" xlink:href=\"#DejaVuSans-48\"/>\n      </g>\n     </g>\n    </g>\n    <g id=\"ytick_4\">\n     <g id=\"line2d_10\">\n      <g>\n       <use style=\"stroke:#000000;stroke-width:0.8;\" x=\"23.878125\" xlink:href=\"#m15f45ec8fb\" y=\"264.679219\"/>\n      </g>\n     </g>\n     <g id=\"text_10\">\n      <!-- 11 -->\n      <g transform=\"translate(14.798437 273.605)rotate(-90)scale(0.1 -0.1)\">\n       <use xlink:href=\"#DejaVuSans-49\"/>\n       <use x=\"63.623047\" xlink:href=\"#DejaVuSans-49\"/>\n      </g>\n     </g>\n    </g>\n    <g id=\"ytick_5\">\n     <g id=\"line2d_11\">\n      <g>\n       <use style=\"stroke:#000000;stroke-width:0.8;\" x=\"23.878125\" xlink:href=\"#m15f45ec8fb\" y=\"337.159219\"/>\n      </g>\n     </g>\n     <g id=\"text_11\">\n      <!-- 14 -->\n      <g transform=\"translate(14.798437 346.085)rotate(-90)scale(0.1 -0.1)\">\n       <use xlink:href=\"#DejaVuSans-49\"/>\n       <use x=\"63.623047\" xlink:href=\"#DejaVuSans-52\"/>\n      </g>\n     </g>\n    </g>\n    <g id=\"ytick_6\">\n     <g id=\"line2d_12\">\n      <g>\n       <use style=\"stroke:#000000;stroke-width:0.8;\" x=\"23.878125\" xlink:href=\"#m15f45ec8fb\" y=\"409.639219\"/>\n      </g>\n     </g>\n     <g id=\"text_12\">\n      <!-- 16 -->\n      <g transform=\"translate(14.798437 418.565)rotate(-90)scale(0.1 -0.1)\">\n       <use xlink:href=\"#DejaVuSans-49\"/>\n       <use x=\"63.623047\" xlink:href=\"#DejaVuSans-54\"/>\n      </g>\n     </g>\n    </g>\n   </g>\n   <g id=\"text_13\">\n    <!-- 1 -->\n    <g style=\"fill:#262626;\" transform=\"translate(57.896875 49.998594)scale(0.1 -0.1)\">\n     <use xlink:href=\"#DejaVuSans-49\"/>\n    </g>\n   </g>\n   <g id=\"text_14\">\n    <!-- -0.12 -->\n    <defs>\n     <path d=\"M 4.890625 31.390625 \nL 31.203125 31.390625 \nL 31.203125 23.390625 \nL 4.890625 23.390625 \nz\n\" id=\"DejaVuSans-45\"/>\n     <path d=\"M 10.6875 12.40625 \nL 21 12.40625 \nL 21 0 \nL 10.6875 0 \nz\n\" id=\"DejaVuSans-46\"/>\n     <path d=\"M 19.1875 8.296875 \nL 53.609375 8.296875 \nL 53.609375 0 \nL 7.328125 0 \nL 7.328125 8.296875 \nQ 12.9375 14.109375 22.625 23.890625 \nQ 32.328125 33.6875 34.8125 36.53125 \nQ 39.546875 41.84375 41.421875 45.53125 \nQ 43.3125 49.21875 43.3125 52.78125 \nQ 43.3125 58.59375 39.234375 62.25 \nQ 35.15625 65.921875 28.609375 65.921875 \nQ 23.96875 65.921875 18.8125 64.3125 \nQ 13.671875 62.703125 7.8125 59.421875 \nL 7.8125 69.390625 \nQ 13.765625 71.78125 18.9375 73 \nQ 24.125 74.21875 28.421875 74.21875 \nQ 39.75 74.21875 46.484375 68.546875 \nQ 53.21875 62.890625 53.21875 53.421875 \nQ 53.21875 48.921875 51.53125 44.890625 \nQ 49.859375 40.875 45.40625 35.40625 \nQ 44.1875 33.984375 37.640625 27.21875 \nQ 31.109375 20.453125 19.1875 8.296875 \nz\n\" id=\"DejaVuSans-50\"/>\n    </defs>\n    <g style=\"fill:#ffffff;\" transform=\"translate(122.541406 49.998594)scale(0.1 -0.1)\">\n     <use xlink:href=\"#DejaVuSans-45\"/>\n     <use x=\"36.083984\" xlink:href=\"#DejaVuSans-48\"/>\n     <use x=\"99.707031\" xlink:href=\"#DejaVuSans-46\"/>\n     <use x=\"131.494141\" xlink:href=\"#DejaVuSans-49\"/>\n     <use x=\"195.117188\" xlink:href=\"#DejaVuSans-50\"/>\n    </g>\n   </g>\n   <g id=\"text_15\">\n    <!-- 0.005 -->\n    <g style=\"fill:#ffffff;\" transform=\"translate(195.564063 49.998594)scale(0.1 -0.1)\">\n     <use xlink:href=\"#DejaVuSans-48\"/>\n     <use x=\"63.623047\" xlink:href=\"#DejaVuSans-46\"/>\n     <use x=\"95.410156\" xlink:href=\"#DejaVuSans-48\"/>\n     <use x=\"159.033203\" xlink:href=\"#DejaVuSans-48\"/>\n     <use x=\"222.65625\" xlink:href=\"#DejaVuSans-53\"/>\n    </g>\n   </g>\n   <g id=\"text_16\">\n    <!-- -0.012 -->\n    <g style=\"fill:#ffffff;\" transform=\"translate(268.160156 49.998594)scale(0.1 -0.1)\">\n     <use xlink:href=\"#DejaVuSans-45\"/>\n     <use x=\"36.083984\" xlink:href=\"#DejaVuSans-48\"/>\n     <use x=\"99.707031\" xlink:href=\"#DejaVuSans-46\"/>\n     <use x=\"131.494141\" xlink:href=\"#DejaVuSans-48\"/>\n     <use x=\"195.117188\" xlink:href=\"#DejaVuSans-49\"/>\n     <use x=\"258.740234\" xlink:href=\"#DejaVuSans-50\"/>\n    </g>\n   </g>\n   <g id=\"text_17\">\n    <!-- 0.092 -->\n    <g style=\"fill:#ffffff;\" transform=\"translate(344.364063 49.998594)scale(0.1 -0.1)\">\n     <use xlink:href=\"#DejaVuSans-48\"/>\n     <use x=\"63.623047\" xlink:href=\"#DejaVuSans-46\"/>\n     <use x=\"95.410156\" xlink:href=\"#DejaVuSans-48\"/>\n     <use x=\"159.033203\" xlink:href=\"#DejaVuSans-57\"/>\n     <use x=\"222.65625\" xlink:href=\"#DejaVuSans-50\"/>\n    </g>\n   </g>\n   <g id=\"text_18\">\n    <!-- -0.14 -->\n    <g style=\"fill:#ffffff;\" transform=\"translate(420.141406 49.998594)scale(0.1 -0.1)\">\n     <use xlink:href=\"#DejaVuSans-45\"/>\n     <use x=\"36.083984\" xlink:href=\"#DejaVuSans-48\"/>\n     <use x=\"99.707031\" xlink:href=\"#DejaVuSans-46\"/>\n     <use x=\"131.494141\" xlink:href=\"#DejaVuSans-49\"/>\n     <use x=\"195.117188\" xlink:href=\"#DejaVuSans-52\"/>\n    </g>\n   </g>\n   <g id=\"text_19\">\n    <!-- -0.12 -->\n    <g style=\"fill:#ffffff;\" transform=\"translate(48.141406 122.478594)scale(0.1 -0.1)\">\n     <use xlink:href=\"#DejaVuSans-45\"/>\n     <use x=\"36.083984\" xlink:href=\"#DejaVuSans-48\"/>\n     <use x=\"99.707031\" xlink:href=\"#DejaVuSans-46\"/>\n     <use x=\"131.494141\" xlink:href=\"#DejaVuSans-49\"/>\n     <use x=\"195.117188\" xlink:href=\"#DejaVuSans-50\"/>\n    </g>\n   </g>\n   <g id=\"text_20\">\n    <!-- 1 -->\n    <g style=\"fill:#262626;\" transform=\"translate(132.296875 122.478594)scale(0.1 -0.1)\">\n     <use xlink:href=\"#DejaVuSans-49\"/>\n    </g>\n   </g>\n   <g id=\"text_21\">\n    <!-- 0.006 -->\n    <g style=\"fill:#ffffff;\" transform=\"translate(195.564063 122.478594)scale(0.1 -0.1)\">\n     <use xlink:href=\"#DejaVuSans-48\"/>\n     <use x=\"63.623047\" xlink:href=\"#DejaVuSans-46\"/>\n     <use x=\"95.410156\" xlink:href=\"#DejaVuSans-48\"/>\n     <use x=\"159.033203\" xlink:href=\"#DejaVuSans-48\"/>\n     <use x=\"222.65625\" xlink:href=\"#DejaVuSans-54\"/>\n    </g>\n   </g>\n   <g id=\"text_22\">\n    <!-- -0.016 -->\n    <g style=\"fill:#ffffff;\" transform=\"translate(268.160156 122.478594)scale(0.1 -0.1)\">\n     <use xlink:href=\"#DejaVuSans-45\"/>\n     <use x=\"36.083984\" xlink:href=\"#DejaVuSans-48\"/>\n     <use x=\"99.707031\" xlink:href=\"#DejaVuSans-46\"/>\n     <use x=\"131.494141\" xlink:href=\"#DejaVuSans-48\"/>\n     <use x=\"195.117188\" xlink:href=\"#DejaVuSans-49\"/>\n     <use x=\"258.740234\" xlink:href=\"#DejaVuSans-54\"/>\n    </g>\n   </g>\n   <g id=\"text_23\">\n    <!-- 0.093 -->\n    <defs>\n     <path d=\"M 40.578125 39.3125 \nQ 47.65625 37.796875 51.625 33 \nQ 55.609375 28.21875 55.609375 21.1875 \nQ 55.609375 10.40625 48.1875 4.484375 \nQ 40.765625 -1.421875 27.09375 -1.421875 \nQ 22.515625 -1.421875 17.65625 -0.515625 \nQ 12.796875 0.390625 7.625 2.203125 \nL 7.625 11.71875 \nQ 11.71875 9.328125 16.59375 8.109375 \nQ 21.484375 6.890625 26.8125 6.890625 \nQ 36.078125 6.890625 40.9375 10.546875 \nQ 45.796875 14.203125 45.796875 21.1875 \nQ 45.796875 27.640625 41.28125 31.265625 \nQ 36.765625 34.90625 28.71875 34.90625 \nL 20.21875 34.90625 \nL 20.21875 43.015625 \nL 29.109375 43.015625 \nQ 36.375 43.015625 40.234375 45.921875 \nQ 44.09375 48.828125 44.09375 54.296875 \nQ 44.09375 59.90625 40.109375 62.90625 \nQ 36.140625 65.921875 28.71875 65.921875 \nQ 24.65625 65.921875 20.015625 65.03125 \nQ 15.375 64.15625 9.8125 62.3125 \nL 9.8125 71.09375 \nQ 15.4375 72.65625 20.34375 73.4375 \nQ 25.25 74.21875 29.59375 74.21875 \nQ 40.828125 74.21875 47.359375 69.109375 \nQ 53.90625 64.015625 53.90625 55.328125 \nQ 53.90625 49.265625 50.4375 45.09375 \nQ 46.96875 40.921875 40.578125 39.3125 \nz\n\" id=\"DejaVuSans-51\"/>\n    </defs>\n    <g style=\"fill:#ffffff;\" transform=\"translate(344.364063 122.478594)scale(0.1 -0.1)\">\n     <use xlink:href=\"#DejaVuSans-48\"/>\n     <use x=\"63.623047\" xlink:href=\"#DejaVuSans-46\"/>\n     <use x=\"95.410156\" xlink:href=\"#DejaVuSans-48\"/>\n     <use x=\"159.033203\" xlink:href=\"#DejaVuSans-57\"/>\n     <use x=\"222.65625\" xlink:href=\"#DejaVuSans-51\"/>\n    </g>\n   </g>\n   <g id=\"text_24\">\n    <!-- 0.071 -->\n    <defs>\n     <path d=\"M 8.203125 72.90625 \nL 55.078125 72.90625 \nL 55.078125 68.703125 \nL 28.609375 0 \nL 18.3125 0 \nL 43.21875 64.59375 \nL 8.203125 64.59375 \nz\n\" id=\"DejaVuSans-55\"/>\n    </defs>\n    <g style=\"fill:#ffffff;\" transform=\"translate(418.764063 122.478594)scale(0.1 -0.1)\">\n     <use xlink:href=\"#DejaVuSans-48\"/>\n     <use x=\"63.623047\" xlink:href=\"#DejaVuSans-46\"/>\n     <use x=\"95.410156\" xlink:href=\"#DejaVuSans-48\"/>\n     <use x=\"159.033203\" xlink:href=\"#DejaVuSans-55\"/>\n     <use x=\"222.65625\" xlink:href=\"#DejaVuSans-49\"/>\n    </g>\n   </g>\n   <g id=\"text_25\">\n    <!-- 0.005 -->\n    <g style=\"fill:#ffffff;\" transform=\"translate(46.764063 194.958594)scale(0.1 -0.1)\">\n     <use xlink:href=\"#DejaVuSans-48\"/>\n     <use x=\"63.623047\" xlink:href=\"#DejaVuSans-46\"/>\n     <use x=\"95.410156\" xlink:href=\"#DejaVuSans-48\"/>\n     <use x=\"159.033203\" xlink:href=\"#DejaVuSans-48\"/>\n     <use x=\"222.65625\" xlink:href=\"#DejaVuSans-53\"/>\n    </g>\n   </g>\n   <g id=\"text_26\">\n    <!-- 0.006 -->\n    <g style=\"fill:#ffffff;\" transform=\"translate(121.164062 194.958594)scale(0.1 -0.1)\">\n     <use xlink:href=\"#DejaVuSans-48\"/>\n     <use x=\"63.623047\" xlink:href=\"#DejaVuSans-46\"/>\n     <use x=\"95.410156\" xlink:href=\"#DejaVuSans-48\"/>\n     <use x=\"159.033203\" xlink:href=\"#DejaVuSans-48\"/>\n     <use x=\"222.65625\" xlink:href=\"#DejaVuSans-54\"/>\n    </g>\n   </g>\n   <g id=\"text_27\">\n    <!-- 1 -->\n    <g style=\"fill:#262626;\" transform=\"translate(206.696875 194.958594)scale(0.1 -0.1)\">\n     <use xlink:href=\"#DejaVuSans-49\"/>\n    </g>\n   </g>\n   <g id=\"text_28\">\n    <!-- 0.0066 -->\n    <g style=\"fill:#ffffff;\" transform=\"translate(266.782813 194.958594)scale(0.1 -0.1)\">\n     <use xlink:href=\"#DejaVuSans-48\"/>\n     <use x=\"63.623047\" xlink:href=\"#DejaVuSans-46\"/>\n     <use x=\"95.410156\" xlink:href=\"#DejaVuSans-48\"/>\n     <use x=\"159.033203\" xlink:href=\"#DejaVuSans-48\"/>\n     <use x=\"222.65625\" xlink:href=\"#DejaVuSans-54\"/>\n     <use x=\"286.279297\" xlink:href=\"#DejaVuSans-54\"/>\n    </g>\n   </g>\n   <g id=\"text_29\">\n    <!-- 0.0077 -->\n    <g style=\"fill:#ffffff;\" transform=\"translate(341.182813 194.958594)scale(0.1 -0.1)\">\n     <use xlink:href=\"#DejaVuSans-48\"/>\n     <use x=\"63.623047\" xlink:href=\"#DejaVuSans-46\"/>\n     <use x=\"95.410156\" xlink:href=\"#DejaVuSans-48\"/>\n     <use x=\"159.033203\" xlink:href=\"#DejaVuSans-48\"/>\n     <use x=\"222.65625\" xlink:href=\"#DejaVuSans-55\"/>\n     <use x=\"286.279297\" xlink:href=\"#DejaVuSans-55\"/>\n    </g>\n   </g>\n   <g id=\"text_30\">\n    <!-- -0.0019 -->\n    <g style=\"fill:#ffffff;\" transform=\"translate(413.778906 194.958594)scale(0.1 -0.1)\">\n     <use xlink:href=\"#DejaVuSans-45\"/>\n     <use x=\"36.083984\" xlink:href=\"#DejaVuSans-48\"/>\n     <use x=\"99.707031\" xlink:href=\"#DejaVuSans-46\"/>\n     <use x=\"131.494141\" xlink:href=\"#DejaVuSans-48\"/>\n     <use x=\"195.117188\" xlink:href=\"#DejaVuSans-48\"/>\n     <use x=\"258.740234\" xlink:href=\"#DejaVuSans-49\"/>\n     <use x=\"322.363281\" xlink:href=\"#DejaVuSans-57\"/>\n    </g>\n   </g>\n   <g id=\"text_31\">\n    <!-- -0.012 -->\n    <g style=\"fill:#ffffff;\" transform=\"translate(44.960156 267.438594)scale(0.1 -0.1)\">\n     <use xlink:href=\"#DejaVuSans-45\"/>\n     <use x=\"36.083984\" xlink:href=\"#DejaVuSans-48\"/>\n     <use x=\"99.707031\" xlink:href=\"#DejaVuSans-46\"/>\n     <use x=\"131.494141\" xlink:href=\"#DejaVuSans-48\"/>\n     <use x=\"195.117188\" xlink:href=\"#DejaVuSans-49\"/>\n     <use x=\"258.740234\" xlink:href=\"#DejaVuSans-50\"/>\n    </g>\n   </g>\n   <g id=\"text_32\">\n    <!-- -0.016 -->\n    <g style=\"fill:#ffffff;\" transform=\"translate(119.360156 267.438594)scale(0.1 -0.1)\">\n     <use xlink:href=\"#DejaVuSans-45\"/>\n     <use x=\"36.083984\" xlink:href=\"#DejaVuSans-48\"/>\n     <use x=\"99.707031\" xlink:href=\"#DejaVuSans-46\"/>\n     <use x=\"131.494141\" xlink:href=\"#DejaVuSans-48\"/>\n     <use x=\"195.117188\" xlink:href=\"#DejaVuSans-49\"/>\n     <use x=\"258.740234\" xlink:href=\"#DejaVuSans-54\"/>\n    </g>\n   </g>\n   <g id=\"text_33\">\n    <!-- 0.0066 -->\n    <g style=\"fill:#ffffff;\" transform=\"translate(192.382812 267.438594)scale(0.1 -0.1)\">\n     <use xlink:href=\"#DejaVuSans-48\"/>\n     <use x=\"63.623047\" xlink:href=\"#DejaVuSans-46\"/>\n     <use x=\"95.410156\" xlink:href=\"#DejaVuSans-48\"/>\n     <use x=\"159.033203\" xlink:href=\"#DejaVuSans-48\"/>\n     <use x=\"222.65625\" xlink:href=\"#DejaVuSans-54\"/>\n     <use x=\"286.279297\" xlink:href=\"#DejaVuSans-54\"/>\n    </g>\n   </g>\n   <g id=\"text_34\">\n    <!-- 1 -->\n    <g style=\"fill:#262626;\" transform=\"translate(281.096875 267.438594)scale(0.1 -0.1)\">\n     <use xlink:href=\"#DejaVuSans-49\"/>\n    </g>\n   </g>\n   <g id=\"text_35\">\n    <!-- -0.011 -->\n    <g style=\"fill:#ffffff;\" transform=\"translate(342.560156 267.438594)scale(0.1 -0.1)\">\n     <use xlink:href=\"#DejaVuSans-45\"/>\n     <use x=\"36.083984\" xlink:href=\"#DejaVuSans-48\"/>\n     <use x=\"99.707031\" xlink:href=\"#DejaVuSans-46\"/>\n     <use x=\"131.494141\" xlink:href=\"#DejaVuSans-48\"/>\n     <use x=\"195.117188\" xlink:href=\"#DejaVuSans-49\"/>\n     <use x=\"258.740234\" xlink:href=\"#DejaVuSans-49\"/>\n    </g>\n   </g>\n   <g id=\"text_36\">\n    <!-- 0.026 -->\n    <g style=\"fill:#ffffff;\" transform=\"translate(418.764063 267.438594)scale(0.1 -0.1)\">\n     <use xlink:href=\"#DejaVuSans-48\"/>\n     <use x=\"63.623047\" xlink:href=\"#DejaVuSans-46\"/>\n     <use x=\"95.410156\" xlink:href=\"#DejaVuSans-48\"/>\n     <use x=\"159.033203\" xlink:href=\"#DejaVuSans-50\"/>\n     <use x=\"222.65625\" xlink:href=\"#DejaVuSans-54\"/>\n    </g>\n   </g>\n   <g id=\"text_37\">\n    <!-- 0.092 -->\n    <g style=\"fill:#ffffff;\" transform=\"translate(46.764063 339.918594)scale(0.1 -0.1)\">\n     <use xlink:href=\"#DejaVuSans-48\"/>\n     <use x=\"63.623047\" xlink:href=\"#DejaVuSans-46\"/>\n     <use x=\"95.410156\" xlink:href=\"#DejaVuSans-48\"/>\n     <use x=\"159.033203\" xlink:href=\"#DejaVuSans-57\"/>\n     <use x=\"222.65625\" xlink:href=\"#DejaVuSans-50\"/>\n    </g>\n   </g>\n   <g id=\"text_38\">\n    <!-- 0.093 -->\n    <g style=\"fill:#ffffff;\" transform=\"translate(121.164062 339.918594)scale(0.1 -0.1)\">\n     <use xlink:href=\"#DejaVuSans-48\"/>\n     <use x=\"63.623047\" xlink:href=\"#DejaVuSans-46\"/>\n     <use x=\"95.410156\" xlink:href=\"#DejaVuSans-48\"/>\n     <use x=\"159.033203\" xlink:href=\"#DejaVuSans-57\"/>\n     <use x=\"222.65625\" xlink:href=\"#DejaVuSans-51\"/>\n    </g>\n   </g>\n   <g id=\"text_39\">\n    <!-- 0.0077 -->\n    <g style=\"fill:#ffffff;\" transform=\"translate(192.382812 339.918594)scale(0.1 -0.1)\">\n     <use xlink:href=\"#DejaVuSans-48\"/>\n     <use x=\"63.623047\" xlink:href=\"#DejaVuSans-46\"/>\n     <use x=\"95.410156\" xlink:href=\"#DejaVuSans-48\"/>\n     <use x=\"159.033203\" xlink:href=\"#DejaVuSans-48\"/>\n     <use x=\"222.65625\" xlink:href=\"#DejaVuSans-55\"/>\n     <use x=\"286.279297\" xlink:href=\"#DejaVuSans-55\"/>\n    </g>\n   </g>\n   <g id=\"text_40\">\n    <!-- -0.011 -->\n    <g style=\"fill:#ffffff;\" transform=\"translate(268.160156 339.918594)scale(0.1 -0.1)\">\n     <use xlink:href=\"#DejaVuSans-45\"/>\n     <use x=\"36.083984\" xlink:href=\"#DejaVuSans-48\"/>\n     <use x=\"99.707031\" xlink:href=\"#DejaVuSans-46\"/>\n     <use x=\"131.494141\" xlink:href=\"#DejaVuSans-48\"/>\n     <use x=\"195.117188\" xlink:href=\"#DejaVuSans-49\"/>\n     <use x=\"258.740234\" xlink:href=\"#DejaVuSans-49\"/>\n    </g>\n   </g>\n   <g id=\"text_41\">\n    <!-- 1 -->\n    <g style=\"fill:#262626;\" transform=\"translate(355.496875 339.918594)scale(0.1 -0.1)\">\n     <use xlink:href=\"#DejaVuSans-49\"/>\n    </g>\n   </g>\n   <g id=\"text_42\">\n    <!-- -0.15 -->\n    <g style=\"fill:#ffffff;\" transform=\"translate(420.141406 339.918594)scale(0.1 -0.1)\">\n     <use xlink:href=\"#DejaVuSans-45\"/>\n     <use x=\"36.083984\" xlink:href=\"#DejaVuSans-48\"/>\n     <use x=\"99.707031\" xlink:href=\"#DejaVuSans-46\"/>\n     <use x=\"131.494141\" xlink:href=\"#DejaVuSans-49\"/>\n     <use x=\"195.117188\" xlink:href=\"#DejaVuSans-53\"/>\n    </g>\n   </g>\n   <g id=\"text_43\">\n    <!-- -0.14 -->\n    <g style=\"fill:#ffffff;\" transform=\"translate(48.141406 412.398594)scale(0.1 -0.1)\">\n     <use xlink:href=\"#DejaVuSans-45\"/>\n     <use x=\"36.083984\" xlink:href=\"#DejaVuSans-48\"/>\n     <use x=\"99.707031\" xlink:href=\"#DejaVuSans-46\"/>\n     <use x=\"131.494141\" xlink:href=\"#DejaVuSans-49\"/>\n     <use x=\"195.117188\" xlink:href=\"#DejaVuSans-52\"/>\n    </g>\n   </g>\n   <g id=\"text_44\">\n    <!-- 0.071 -->\n    <g style=\"fill:#ffffff;\" transform=\"translate(121.164062 412.398594)scale(0.1 -0.1)\">\n     <use xlink:href=\"#DejaVuSans-48\"/>\n     <use x=\"63.623047\" xlink:href=\"#DejaVuSans-46\"/>\n     <use x=\"95.410156\" xlink:href=\"#DejaVuSans-48\"/>\n     <use x=\"159.033203\" xlink:href=\"#DejaVuSans-55\"/>\n     <use x=\"222.65625\" xlink:href=\"#DejaVuSans-49\"/>\n    </g>\n   </g>\n   <g id=\"text_45\">\n    <!-- -0.0019 -->\n    <g style=\"fill:#ffffff;\" transform=\"translate(190.578906 412.398594)scale(0.1 -0.1)\">\n     <use xlink:href=\"#DejaVuSans-45\"/>\n     <use x=\"36.083984\" xlink:href=\"#DejaVuSans-48\"/>\n     <use x=\"99.707031\" xlink:href=\"#DejaVuSans-46\"/>\n     <use x=\"131.494141\" xlink:href=\"#DejaVuSans-48\"/>\n     <use x=\"195.117188\" xlink:href=\"#DejaVuSans-48\"/>\n     <use x=\"258.740234\" xlink:href=\"#DejaVuSans-49\"/>\n     <use x=\"322.363281\" xlink:href=\"#DejaVuSans-57\"/>\n    </g>\n   </g>\n   <g id=\"text_46\">\n    <!-- 0.026 -->\n    <g style=\"fill:#ffffff;\" transform=\"translate(269.964063 412.398594)scale(0.1 -0.1)\">\n     <use xlink:href=\"#DejaVuSans-48\"/>\n     <use x=\"63.623047\" xlink:href=\"#DejaVuSans-46\"/>\n     <use x=\"95.410156\" xlink:href=\"#DejaVuSans-48\"/>\n     <use x=\"159.033203\" xlink:href=\"#DejaVuSans-50\"/>\n     <use x=\"222.65625\" xlink:href=\"#DejaVuSans-54\"/>\n    </g>\n   </g>\n   <g id=\"text_47\">\n    <!-- -0.15 -->\n    <g style=\"fill:#ffffff;\" transform=\"translate(345.741406 412.398594)scale(0.1 -0.1)\">\n     <use xlink:href=\"#DejaVuSans-45\"/>\n     <use x=\"36.083984\" xlink:href=\"#DejaVuSans-48\"/>\n     <use x=\"99.707031\" xlink:href=\"#DejaVuSans-46\"/>\n     <use x=\"131.494141\" xlink:href=\"#DejaVuSans-49\"/>\n     <use x=\"195.117188\" xlink:href=\"#DejaVuSans-53\"/>\n    </g>\n   </g>\n   <g id=\"text_48\">\n    <!-- 1 -->\n    <g style=\"fill:#262626;\" transform=\"translate(429.896875 412.398594)scale(0.1 -0.1)\">\n     <use xlink:href=\"#DejaVuSans-49\"/>\n    </g>\n   </g>\n  </g>\n  <g id=\"axes_2\">\n   <g id=\"patch_3\">\n    <path clip-path=\"url(#p3774806e7e)\" d=\"M 498.178125 445.879219 \nL 498.178125 444.180469 \nL 498.178125 12.697969 \nL 498.178125 10.999219 \nL 519.922125 10.999219 \nL 519.922125 12.697969 \nL 519.922125 444.180469 \nL 519.922125 445.879219 \nz\n\" style=\"fill:#ffffff;stroke:#ffffff;stroke-linejoin:miter;stroke-width:0.01;\"/>\n   </g>\n   <image height=\"435\" id=\"imagecb92da06fe\" transform=\"scale(1 -1)translate(0 -435)\" width=\"22\" x=\"498\" xlink:href=\"data:image/png;base64,\niVBORw0KGgoAAAANSUhEUgAAABYAAAGzCAYAAAArEufSAAAABHNCSVQICAgIfAhkiAAAAjhJREFUeJztncFtwzAQBClbaSL99+k8Qp7VwDwGmCngQOzurSjEdq73z+9nAdwXMXWt9YLmrvu6mDNjg0Eplu7EOo1fWNx05lFS+OJ2v3TmtXkzWChFcdv4HqbV5uBbkKQYyLgxs7tiDb7a9GmcFIMvbkkx+B5NPaWHLoUD2BWZt/EtiNE8aLDvXtEzb6grBvBeoTOPmuyLm3HzdCemJhvNE9Ymg29BhHHLvBnsM68b/XcwMtaYY19XJMXge7nxtZtQCl/cwKc0gy/Hvq7IvMFnnq/dMm8AT4x8oaCueCDcPF+OM+8g7IrMO/hOjKWirhjIomcAzdPFzadxXXGoKx6DM29DmseILDTPV5vCuH2ouCFjM+9BXTHcFySFr92Um5d5//g0xkqI/AwLM1hpHgP58Upf3CDzhBcWnXnFbQZDn/zLvC+ZN2Ted/AFvY+R5jGDwRMLNaYuhbrNg344xmieMcfMYF9XZN6gNA+ZKyyhin4obsO9ihs92CcFGLfM22BSFLeBjJvto9jGuEFfmPJJsXRxy7xD5g0+jY3m6X7rJvMO93oxs4XmVUIH8u2/uMGDyad05p3B5XjjezQZpShuG1+7CaUobo/BOimEr2PY5unMqys2wrgJXyAzjx5c0Q+geeV404kHbEGMUvhOTP0fyKQ4+OKWFEMnHuqKoQV5DE6KDfm3/zcz2CeF8MTV5kbZFczm+TQubkNFP2Te0BVrqDYHYdyupNj44tbmDb64tXlDcRt8K/0HV94vJYiVzccAAAAASUVORK5CYII=\" y=\"-10\"/>\n   <g id=\"matplotlib.axis_3\"/>\n   <g id=\"matplotlib.axis_4\">\n    <g id=\"ytick_7\">\n     <g id=\"line2d_13\">\n      <defs>\n       <path d=\"M 0 0 \nL 3.5 0 \n\" id=\"m3b662e9fd5\" style=\"stroke:#000000;stroke-width:0.8;\"/>\n      </defs>\n      <g>\n       <use style=\"stroke:#000000;stroke-width:0.8;\" x=\"519.922125\" xlink:href=\"#m3b662e9fd5\" y=\"388.189394\"/>\n      </g>\n     </g>\n     <g id=\"text_49\">\n      <!-- 0.0 -->\n      <g transform=\"translate(526.922125 391.988612)scale(0.1 -0.1)\">\n       <use xlink:href=\"#DejaVuSans-48\"/>\n       <use x=\"63.623047\" xlink:href=\"#DejaVuSans-46\"/>\n       <use x=\"95.410156\" xlink:href=\"#DejaVuSans-48\"/>\n      </g>\n     </g>\n    </g>\n    <g id=\"ytick_8\">\n     <g id=\"line2d_14\">\n      <g>\n       <use style=\"stroke:#000000;stroke-width:0.8;\" x=\"519.922125\" xlink:href=\"#m3b662e9fd5\" y=\"312.751359\"/>\n      </g>\n     </g>\n     <g id=\"text_50\">\n      <!-- 0.2 -->\n      <g transform=\"translate(526.922125 316.550577)scale(0.1 -0.1)\">\n       <use xlink:href=\"#DejaVuSans-48\"/>\n       <use x=\"63.623047\" xlink:href=\"#DejaVuSans-46\"/>\n       <use x=\"95.410156\" xlink:href=\"#DejaVuSans-50\"/>\n      </g>\n     </g>\n    </g>\n    <g id=\"ytick_9\">\n     <g id=\"line2d_15\">\n      <g>\n       <use style=\"stroke:#000000;stroke-width:0.8;\" x=\"519.922125\" xlink:href=\"#m3b662e9fd5\" y=\"237.313324\"/>\n      </g>\n     </g>\n     <g id=\"text_51\">\n      <!-- 0.4 -->\n      <g transform=\"translate(526.922125 241.112542)scale(0.1 -0.1)\">\n       <use xlink:href=\"#DejaVuSans-48\"/>\n       <use x=\"63.623047\" xlink:href=\"#DejaVuSans-46\"/>\n       <use x=\"95.410156\" xlink:href=\"#DejaVuSans-52\"/>\n      </g>\n     </g>\n    </g>\n    <g id=\"ytick_10\">\n     <g id=\"line2d_16\">\n      <g>\n       <use style=\"stroke:#000000;stroke-width:0.8;\" x=\"519.922125\" xlink:href=\"#m3b662e9fd5\" y=\"161.875289\"/>\n      </g>\n     </g>\n     <g id=\"text_52\">\n      <!-- 0.6 -->\n      <g transform=\"translate(526.922125 165.674507)scale(0.1 -0.1)\">\n       <use xlink:href=\"#DejaVuSans-48\"/>\n       <use x=\"63.623047\" xlink:href=\"#DejaVuSans-46\"/>\n       <use x=\"95.410156\" xlink:href=\"#DejaVuSans-54\"/>\n      </g>\n     </g>\n    </g>\n    <g id=\"ytick_11\">\n     <g id=\"line2d_17\">\n      <g>\n       <use style=\"stroke:#000000;stroke-width:0.8;\" x=\"519.922125\" xlink:href=\"#m3b662e9fd5\" y=\"86.437254\"/>\n      </g>\n     </g>\n     <g id=\"text_53\">\n      <!-- 0.8 -->\n      <defs>\n       <path d=\"M 31.78125 34.625 \nQ 24.75 34.625 20.71875 30.859375 \nQ 16.703125 27.09375 16.703125 20.515625 \nQ 16.703125 13.921875 20.71875 10.15625 \nQ 24.75 6.390625 31.78125 6.390625 \nQ 38.8125 6.390625 42.859375 10.171875 \nQ 46.921875 13.96875 46.921875 20.515625 \nQ 46.921875 27.09375 42.890625 30.859375 \nQ 38.875 34.625 31.78125 34.625 \nz\nM 21.921875 38.8125 \nQ 15.578125 40.375 12.03125 44.71875 \nQ 8.5 49.078125 8.5 55.328125 \nQ 8.5 64.0625 14.71875 69.140625 \nQ 20.953125 74.21875 31.78125 74.21875 \nQ 42.671875 74.21875 48.875 69.140625 \nQ 55.078125 64.0625 55.078125 55.328125 \nQ 55.078125 49.078125 51.53125 44.71875 \nQ 48 40.375 41.703125 38.8125 \nQ 48.828125 37.15625 52.796875 32.3125 \nQ 56.78125 27.484375 56.78125 20.515625 \nQ 56.78125 9.90625 50.3125 4.234375 \nQ 43.84375 -1.421875 31.78125 -1.421875 \nQ 19.734375 -1.421875 13.25 4.234375 \nQ 6.78125 9.90625 6.78125 20.515625 \nQ 6.78125 27.484375 10.78125 32.3125 \nQ 14.796875 37.15625 21.921875 38.8125 \nz\nM 18.3125 54.390625 \nQ 18.3125 48.734375 21.84375 45.5625 \nQ 25.390625 42.390625 31.78125 42.390625 \nQ 38.140625 42.390625 41.71875 45.5625 \nQ 45.3125 48.734375 45.3125 54.390625 \nQ 45.3125 60.0625 41.71875 63.234375 \nQ 38.140625 66.40625 31.78125 66.40625 \nQ 25.390625 66.40625 21.84375 63.234375 \nQ 18.3125 60.0625 18.3125 54.390625 \nz\n\" id=\"DejaVuSans-56\"/>\n      </defs>\n      <g transform=\"translate(526.922125 90.236472)scale(0.1 -0.1)\">\n       <use xlink:href=\"#DejaVuSans-48\"/>\n       <use x=\"63.623047\" xlink:href=\"#DejaVuSans-46\"/>\n       <use x=\"95.410156\" xlink:href=\"#DejaVuSans-56\"/>\n      </g>\n     </g>\n    </g>\n    <g id=\"ytick_12\">\n     <g id=\"line2d_18\">\n      <g>\n       <use style=\"stroke:#000000;stroke-width:0.8;\" x=\"519.922125\" xlink:href=\"#m3b662e9fd5\" y=\"10.999219\"/>\n      </g>\n     </g>\n     <g id=\"text_54\">\n      <!-- 1.0 -->\n      <g transform=\"translate(526.922125 14.798437)scale(0.1 -0.1)\">\n       <use xlink:href=\"#DejaVuSans-49\"/>\n       <use x=\"63.623047\" xlink:href=\"#DejaVuSans-46\"/>\n       <use x=\"95.410156\" xlink:href=\"#DejaVuSans-48\"/>\n      </g>\n     </g>\n    </g>\n   </g>\n   <g id=\"patch_4\">\n    <path d=\"M 498.178125 445.879219 \nL 498.178125 444.180469 \nL 498.178125 12.697969 \nL 498.178125 10.999219 \nL 519.922125 10.999219 \nL 519.922125 12.697969 \nL 519.922125 444.180469 \nL 519.922125 445.879219 \nz\n\" style=\"fill:none;\"/>\n   </g>\n  </g>\n </g>\n <defs>\n  <clipPath id=\"p9cfdc98661\">\n   <rect height=\"434.88\" width=\"446.4\" x=\"23.878125\" y=\"10.999219\"/>\n  </clipPath>\n  <clipPath id=\"p3774806e7e\">\n   <rect height=\"434.88\" width=\"21.744\" x=\"498.178125\" y=\"10.999219\"/>\n  </clipPath>\n </defs>\n</svg>\n",
            "image/png": "[encoded data removed]"
          },
          "metadata": {
            "needs_background": "light"
          }
        }
      ]
    },
    {
      "cell_type": "code",
      "metadata": {
        "tags": [],
        "id": "j-4HOQmhE1HA",
        "colab_type": "code",
        "colab": {},
        "outputId": "9f88d3d2-42f5-4a10-bd65-3a9082f50037"
      },
      "source": [
        "le = LabelEncoder()\n",
        "# Converting string labels into numbers.\n",
        "df2[['2']] = le.fit_transform(df2[['2']])\n",
        "# Sunny: 2, Overcast: 0, Rainy:1\n",
        "print(df2['2'])"
      ],
      "execution_count": 20,
      "outputs": [
        {
          "output_type": "stream",
          "name": "stdout",
          "text": "0        0\n1        0\n2        2\n3        5\n4        0\n        ..\n99995    0\n99996    1\n99997    0\n99998    5\n99999    4\nName: 2, Length: 100000, dtype: int64\n"
        }
      ]
    },
    {
      "cell_type": "code",
      "metadata": {
        "tags": [],
        "id": "K7bupo1AE1HC",
        "colab_type": "code",
        "colab": {},
        "outputId": "4fce8536-551b-432f-a618-b94ca687024f"
      },
      "source": [
        "le = LabelEncoder()\n",
        "# Converting string labels into numbers.\n",
        "df2[['4']] = le.fit_transform(df2[['4']])\n",
        "print(df2['4'])"
      ],
      "execution_count": 21,
      "outputs": [
        {
          "output_type": "stream",
          "name": "stdout",
          "text": "0        0\n1        0\n2        2\n3        1\n4        0\n        ..\n99995    1\n99996    0\n99997    0\n99998    1\n99999    0\nName: 4, Length: 100000, dtype: int64\n"
        }
      ]
    },
    {
      "cell_type": "code",
      "metadata": {
        "tags": [],
        "id": "QAMy1z1hE1HG",
        "colab_type": "code",
        "colab": {},
        "outputId": "7d70f9c5-9920-4d32-a98c-8009ec556e35"
      },
      "source": [
        "le = LabelEncoder()\n",
        "df2['6'] = le.fit_transform(df2['6'])\n",
        "print(df2['6'])"
      ],
      "execution_count": 22,
      "outputs": [
        {
          "output_type": "stream",
          "name": "stdout",
          "text": "0        2\n1        2\n2        1\n3        2\n4        2\n        ..\n99995    2\n99996    2\n99997    2\n99998    2\n99999    2\nName: 6, Length: 100000, dtype: int64\n"
        }
      ]
    },
    {
      "cell_type": "code",
      "metadata": {
        "tags": [],
        "id": "3E6Mj_N7E1HJ",
        "colab_type": "code",
        "colab": {},
        "outputId": "c0c3ee85-2915-4419-d127-987b6d85e486"
      },
      "source": [
        "le = LabelEncoder()\n",
        "df2['7'] = le.fit_transform(df2['7'])\n",
        "print(df2['7'])"
      ],
      "execution_count": 23,
      "outputs": [
        {
          "output_type": "stream",
          "name": "stdout",
          "text": "0        2\n1        1\n2        3\n3        3\n4        3\n        ..\n99995    2\n99996    2\n99997    1\n99998    3\n99999    1\nName: 7, Length: 100000, dtype: int64\n"
        }
      ]
    },
    {
      "cell_type": "code",
      "metadata": {
        "tags": [],
        "id": "CYMCoRbrE1HN",
        "colab_type": "code",
        "colab": {},
        "outputId": "743ff7d5-7566-4a04-8647-7fca5226d039"
      },
      "source": [
        "le = LabelEncoder()\n",
        "df2['8'] = le.fit_transform(df2['8'])\n",
        "print(df2['8'])"
      ],
      "execution_count": 24,
      "outputs": [
        {
          "output_type": "stream",
          "name": "stdout",
          "text": "0        5\n1        5\n2        5\n3        1\n4        4\n        ..\n99995    1\n99996    5\n99997    5\n99998    1\n99999    4\nName: 8, Length: 100000, dtype: int64\n"
        }
      ]
    },
    {
      "cell_type": "code",
      "metadata": {
        "tags": [],
        "id": "-t6gkLi6E1HR",
        "colab_type": "code",
        "colab": {},
        "outputId": "afc5980b-c42f-4f04-ed8c-e8b8c46bf76c"
      },
      "source": [
        "le = LabelEncoder()\n",
        "df2['12'] = le.fit_transform(df2['12'])\n",
        "print(df2['12'])"
      ],
      "execution_count": 25,
      "outputs": [
        {
          "output_type": "stream",
          "name": "stdout",
          "text": "0        2\n1        1\n2        2\n3        0\n4        2\n        ..\n99995    0\n99996    2\n99997    1\n99998    1\n99999    0\nName: 12, Length: 100000, dtype: int64\n"
        }
      ]
    },
    {
      "cell_type": "code",
      "metadata": {
        "tags": [],
        "id": "vXE7qJj9E1HU",
        "colab_type": "code",
        "colab": {},
        "outputId": "673b56b1-6379-4845-ce73-99b7407a058f"
      },
      "source": [
        "le = LabelEncoder()\n",
        "df2['13'] = le.fit_transform(df2['13'])\n",
        "print(df2['13'])"
      ],
      "execution_count": 26,
      "outputs": [
        {
          "output_type": "stream",
          "name": "stdout",
          "text": "0        2\n1        2\n2        2\n3        2\n4        2\n        ..\n99995    2\n99996    2\n99997    1\n99998    2\n99999    2\nName: 13, Length: 100000, dtype: int64\n"
        }
      ]
    },
    {
      "cell_type": "code",
      "metadata": {
        "tags": [],
        "id": "TcoWQmUFE1HX",
        "colab_type": "code",
        "colab": {},
        "outputId": "23a28f81-5e3d-48f2-b543-6fce5f62b0e9"
      },
      "source": [
        "le = LabelEncoder()\n",
        "df2['15'] = le.fit_transform(df2['15'])\n",
        "print(df2['15'])"
      ],
      "execution_count": 27,
      "outputs": [
        {
          "output_type": "stream",
          "name": "stdout",
          "text": "0        2\n1        5\n2        7\n3        1\n4        5\n        ..\n99995    5\n99996    2\n99997    3\n99998    4\n99999    4\nName: 15, Length: 100000, dtype: int64\n"
        }
      ]
    },
    {
      "cell_type": "code",
      "metadata": {
        "tags": [],
        "id": "gV45bCCVE1HZ",
        "colab_type": "code",
        "colab": {},
        "outputId": "b36cd52b-1cf8-4884-868d-2fc4d6f746c5"
      },
      "source": [
        "le_17 = LabelEncoder()\n",
        "df2['17'] = le_17.fit_transform(df2['17'])\n",
        "print(df2['17'])"
      ],
      "execution_count": 28,
      "outputs": [
        {
          "output_type": "stream",
          "name": "stdout",
          "text": "0         0\n1         2\n2         1\n3         5\n4         5\n         ..\n99995    10\n99996     5\n99997     3\n99998     1\n99999     4\nName: 17, Length: 100000, dtype: int64\n"
        }
      ]
    },
    {
      "cell_type": "code",
      "metadata": {
        "id": "N0RkWrEDE1Hc",
        "colab_type": "code",
        "colab": {},
        "outputId": "c76905bf-fc04-4ead-9152-6ddbe20b3475"
      },
      "source": [
        "df2"
      ],
      "execution_count": 29,
      "outputs": [
        {
          "output_type": "execute_result",
          "data": {
            "text/plain": "       2  4  5  6  7  8    9      10    11  12  13  14  15      16  17\n0      0  0  2  2  2  5  4.0   45810   2.0   2   2   2   2  2817.0   0\n1      0  0  4  2  1  5  2.0  128565  15.0   1   2   4   5  4498.0   2\n2      2  2  2  1  3  5  3.0   46565   5.0   2   2   2   7  4573.0   1\n3      5  1  3  2  3  1  4.0  124546   6.0   0   2   4   1  7202.0   5\n4      0  0  3  2  3  4  2.0   22729   8.0   2   2   2   5  3398.0   5\n...   .. .. .. .. .. ..  ...     ...   ...  ..  ..  ..  ..     ...  ..\n99995  0  1  3  2  2  1  3.0   82914   3.0   0   2   6   5  3966.0  10\n99996  1  0  2  2  2  5  2.0   40026   5.0   2   2   3   2  4005.0   5\n99997  0  0  3  2  1  5  3.0   92346   2.0   1   1   2   3  5215.0   3\n99998  5  1  2  2  3  1  4.0  113798  15.0   1   2   3   4  5092.0   1\n99999  4  0  3  2  1  4  2.0  109237   8.0   0   2   2   4  3390.0   4\n\n[100000 rows x 15 columns]",
            "text/html": "<div>\n<style scoped>\n    .dataframe tbody tr th:only-of-type {\n        vertical-align: middle;\n    }\n\n    .dataframe tbody tr th {\n        vertical-align: top;\n    }\n\n    .dataframe thead th {\n        text-align: right;\n    }\n</style>\n<table border=\"1\" class=\"dataframe\">\n  <thead>\n    <tr style=\"text-align: right;\">\n      <th></th>\n      <th>2</th>\n      <th>4</th>\n      <th>5</th>\n      <th>6</th>\n      <th>7</th>\n      <th>8</th>\n      <th>9</th>\n      <th>10</th>\n      <th>11</th>\n      <th>12</th>\n      <th>13</th>\n      <th>14</th>\n      <th>15</th>\n      <th>16</th>\n      <th>17</th>\n    </tr>\n  </thead>\n  <tbody>\n    <tr>\n      <th>0</th>\n      <td>0</td>\n      <td>0</td>\n      <td>2</td>\n      <td>2</td>\n      <td>2</td>\n      <td>5</td>\n      <td>4.0</td>\n      <td>45810</td>\n      <td>2.0</td>\n      <td>2</td>\n      <td>2</td>\n      <td>2</td>\n      <td>2</td>\n      <td>2817.0</td>\n      <td>0</td>\n    </tr>\n    <tr>\n      <th>1</th>\n      <td>0</td>\n      <td>0</td>\n      <td>4</td>\n      <td>2</td>\n      <td>1</td>\n      <td>5</td>\n      <td>2.0</td>\n      <td>128565</td>\n      <td>15.0</td>\n      <td>1</td>\n      <td>2</td>\n      <td>4</td>\n      <td>5</td>\n      <td>4498.0</td>\n      <td>2</td>\n    </tr>\n    <tr>\n      <th>2</th>\n      <td>2</td>\n      <td>2</td>\n      <td>2</td>\n      <td>1</td>\n      <td>3</td>\n      <td>5</td>\n      <td>3.0</td>\n      <td>46565</td>\n      <td>5.0</td>\n      <td>2</td>\n      <td>2</td>\n      <td>2</td>\n      <td>7</td>\n      <td>4573.0</td>\n      <td>1</td>\n    </tr>\n    <tr>\n      <th>3</th>\n      <td>5</td>\n      <td>1</td>\n      <td>3</td>\n      <td>2</td>\n      <td>3</td>\n      <td>1</td>\n      <td>4.0</td>\n      <td>124546</td>\n      <td>6.0</td>\n      <td>0</td>\n      <td>2</td>\n      <td>4</td>\n      <td>1</td>\n      <td>7202.0</td>\n      <td>5</td>\n    </tr>\n    <tr>\n      <th>4</th>\n      <td>0</td>\n      <td>0</td>\n      <td>3</td>\n      <td>2</td>\n      <td>3</td>\n      <td>4</td>\n      <td>2.0</td>\n      <td>22729</td>\n      <td>8.0</td>\n      <td>2</td>\n      <td>2</td>\n      <td>2</td>\n      <td>5</td>\n      <td>3398.0</td>\n      <td>5</td>\n    </tr>\n    <tr>\n      <th>...</th>\n      <td>...</td>\n      <td>...</td>\n      <td>...</td>\n      <td>...</td>\n      <td>...</td>\n      <td>...</td>\n      <td>...</td>\n      <td>...</td>\n      <td>...</td>\n      <td>...</td>\n      <td>...</td>\n      <td>...</td>\n      <td>...</td>\n      <td>...</td>\n      <td>...</td>\n    </tr>\n    <tr>\n      <th>99995</th>\n      <td>0</td>\n      <td>1</td>\n      <td>3</td>\n      <td>2</td>\n      <td>2</td>\n      <td>1</td>\n      <td>3.0</td>\n      <td>82914</td>\n      <td>3.0</td>\n      <td>0</td>\n      <td>2</td>\n      <td>6</td>\n      <td>5</td>\n      <td>3966.0</td>\n      <td>10</td>\n    </tr>\n    <tr>\n      <th>99996</th>\n      <td>1</td>\n      <td>0</td>\n      <td>2</td>\n      <td>2</td>\n      <td>2</td>\n      <td>5</td>\n      <td>2.0</td>\n      <td>40026</td>\n      <td>5.0</td>\n      <td>2</td>\n      <td>2</td>\n      <td>3</td>\n      <td>2</td>\n      <td>4005.0</td>\n      <td>5</td>\n    </tr>\n    <tr>\n      <th>99997</th>\n      <td>0</td>\n      <td>0</td>\n      <td>3</td>\n      <td>2</td>\n      <td>1</td>\n      <td>5</td>\n      <td>3.0</td>\n      <td>92346</td>\n      <td>2.0</td>\n      <td>1</td>\n      <td>1</td>\n      <td>2</td>\n      <td>3</td>\n      <td>5215.0</td>\n      <td>3</td>\n    </tr>\n    <tr>\n      <th>99998</th>\n      <td>5</td>\n      <td>1</td>\n      <td>2</td>\n      <td>2</td>\n      <td>3</td>\n      <td>1</td>\n      <td>4.0</td>\n      <td>113798</td>\n      <td>15.0</td>\n      <td>1</td>\n      <td>2</td>\n      <td>3</td>\n      <td>4</td>\n      <td>5092.0</td>\n      <td>1</td>\n    </tr>\n    <tr>\n      <th>99999</th>\n      <td>4</td>\n      <td>0</td>\n      <td>3</td>\n      <td>2</td>\n      <td>1</td>\n      <td>4</td>\n      <td>2.0</td>\n      <td>109237</td>\n      <td>8.0</td>\n      <td>0</td>\n      <td>2</td>\n      <td>2</td>\n      <td>4</td>\n      <td>3390.0</td>\n      <td>4</td>\n    </tr>\n  </tbody>\n</table>\n<p>100000 rows × 15 columns</p>\n</div>"
          },
          "metadata": {},
          "execution_count": 29
        }
      ]
    },
    {
      "cell_type": "code",
      "metadata": {
        "id": "8q6rYeh_E1Hk",
        "colab_type": "code",
        "colab": {},
        "outputId": "426cee9c-a028-40d1-b773-9a97ccff9ebf"
      },
      "source": [
        "# ten cuidado que df2 no tiene los valores codificados con LabelEncoder\n",
        "df2"
      ],
      "execution_count": null,
      "outputs": [
        {
          "output_type": "execute_result",
          "data": {
            "text/plain": [
              "       2  4  5           6  7  8    9      10    11         12        13  14  \\\n",
              "0      a  X  2  gynecology  R  F  4.0   45810   2.0     Urgent  Moderate   2   \n",
              "1      a  X  4  gynecology  Q  F  2.0  128565  15.0     Trauma  Moderate   4   \n",
              "2      c  Z  2  anesthesia  S  F  3.0   46565   5.0     Urgent  Moderate   2   \n",
              "3      f  Y  3  gynecology  S  B  4.0  124546   6.0  Emergency  Moderate   4   \n",
              "4      a  X  3  gynecology  S  E  2.0   22729   8.0     Urgent  Moderate   2   \n",
              "...   .. .. ..         ... .. ..  ...     ...   ...        ...       ...  ..   \n",
              "99995  a  Y  3  gynecology  R  B  3.0   82914   3.0  Emergency  Moderate   6   \n",
              "99996  b  X  2  gynecology  R  F  2.0   40026   5.0     Urgent  Moderate   3   \n",
              "99997  a  X  3  gynecology  Q  F  3.0   92346   2.0     Trauma     Minor   2   \n",
              "99998  f  Y  2  gynecology  S  B  4.0  113798  15.0     Trauma  Moderate   3   \n",
              "99999  e  X  3  gynecology  Q  E  2.0  109237   8.0  Emergency  Moderate   2   \n",
              "\n",
              "          15      16                  17  \n",
              "0      21-30  2817.0                0-10  \n",
              "1      51-60  4498.0               21-30  \n",
              "2      71-80  4573.0               11-20  \n",
              "3      11-20  7202.0               51-60  \n",
              "4      51-60  3398.0               51-60  \n",
              "...      ...     ...                 ...  \n",
              "99995  51-60  3966.0  More than 100 Days  \n",
              "99996  21-30  4005.0               51-60  \n",
              "99997  31-40  5215.0               31-40  \n",
              "99998  41-50  5092.0               11-20  \n",
              "99999  41-50  3390.0               41-50  \n",
              "\n",
              "[100000 rows x 15 columns]"
            ],
            "text/html": [
              "<div>\n",
              "<style scoped>\n",
              "    .dataframe tbody tr th:only-of-type {\n",
              "        vertical-align: middle;\n",
              "    }\n",
              "\n",
              "    .dataframe tbody tr th {\n",
              "        vertical-align: top;\n",
              "    }\n",
              "\n",
              "    .dataframe thead th {\n",
              "        text-align: right;\n",
              "    }\n",
              "</style>\n",
              "<table border=\"1\" class=\"dataframe\">\n",
              "  <thead>\n",
              "    <tr style=\"text-align: right;\">\n",
              "      <th></th>\n",
              "      <th>2</th>\n",
              "      <th>4</th>\n",
              "      <th>5</th>\n",
              "      <th>6</th>\n",
              "      <th>7</th>\n",
              "      <th>8</th>\n",
              "      <th>9</th>\n",
              "      <th>10</th>\n",
              "      <th>11</th>\n",
              "      <th>12</th>\n",
              "      <th>13</th>\n",
              "      <th>14</th>\n",
              "      <th>15</th>\n",
              "      <th>16</th>\n",
              "      <th>17</th>\n",
              "    </tr>\n",
              "  </thead>\n",
              "  <tbody>\n",
              "    <tr>\n",
              "      <th>0</th>\n",
              "      <td>a</td>\n",
              "      <td>X</td>\n",
              "      <td>2</td>\n",
              "      <td>gynecology</td>\n",
              "      <td>R</td>\n",
              "      <td>F</td>\n",
              "      <td>4.0</td>\n",
              "      <td>45810</td>\n",
              "      <td>2.0</td>\n",
              "      <td>Urgent</td>\n",
              "      <td>Moderate</td>\n",
              "      <td>2</td>\n",
              "      <td>21-30</td>\n",
              "      <td>2817.0</td>\n",
              "      <td>0-10</td>\n",
              "    </tr>\n",
              "    <tr>\n",
              "      <th>1</th>\n",
              "      <td>a</td>\n",
              "      <td>X</td>\n",
              "      <td>4</td>\n",
              "      <td>gynecology</td>\n",
              "      <td>Q</td>\n",
              "      <td>F</td>\n",
              "      <td>2.0</td>\n",
              "      <td>128565</td>\n",
              "      <td>15.0</td>\n",
              "      <td>Trauma</td>\n",
              "      <td>Moderate</td>\n",
              "      <td>4</td>\n",
              "      <td>51-60</td>\n",
              "      <td>4498.0</td>\n",
              "      <td>21-30</td>\n",
              "    </tr>\n",
              "    <tr>\n",
              "      <th>2</th>\n",
              "      <td>c</td>\n",
              "      <td>Z</td>\n",
              "      <td>2</td>\n",
              "      <td>anesthesia</td>\n",
              "      <td>S</td>\n",
              "      <td>F</td>\n",
              "      <td>3.0</td>\n",
              "      <td>46565</td>\n",
              "      <td>5.0</td>\n",
              "      <td>Urgent</td>\n",
              "      <td>Moderate</td>\n",
              "      <td>2</td>\n",
              "      <td>71-80</td>\n",
              "      <td>4573.0</td>\n",
              "      <td>11-20</td>\n",
              "    </tr>\n",
              "    <tr>\n",
              "      <th>3</th>\n",
              "      <td>f</td>\n",
              "      <td>Y</td>\n",
              "      <td>3</td>\n",
              "      <td>gynecology</td>\n",
              "      <td>S</td>\n",
              "      <td>B</td>\n",
              "      <td>4.0</td>\n",
              "      <td>124546</td>\n",
              "      <td>6.0</td>\n",
              "      <td>Emergency</td>\n",
              "      <td>Moderate</td>\n",
              "      <td>4</td>\n",
              "      <td>11-20</td>\n",
              "      <td>7202.0</td>\n",
              "      <td>51-60</td>\n",
              "    </tr>\n",
              "    <tr>\n",
              "      <th>4</th>\n",
              "      <td>a</td>\n",
              "      <td>X</td>\n",
              "      <td>3</td>\n",
              "      <td>gynecology</td>\n",
              "      <td>S</td>\n",
              "      <td>E</td>\n",
              "      <td>2.0</td>\n",
              "      <td>22729</td>\n",
              "      <td>8.0</td>\n",
              "      <td>Urgent</td>\n",
              "      <td>Moderate</td>\n",
              "      <td>2</td>\n",
              "      <td>51-60</td>\n",
              "      <td>3398.0</td>\n",
              "      <td>51-60</td>\n",
              "    </tr>\n",
              "    <tr>\n",
              "      <th>...</th>\n",
              "      <td>...</td>\n",
              "      <td>...</td>\n",
              "      <td>...</td>\n",
              "      <td>...</td>\n",
              "      <td>...</td>\n",
              "      <td>...</td>\n",
              "      <td>...</td>\n",
              "      <td>...</td>\n",
              "      <td>...</td>\n",
              "      <td>...</td>\n",
              "      <td>...</td>\n",
              "      <td>...</td>\n",
              "      <td>...</td>\n",
              "      <td>...</td>\n",
              "      <td>...</td>\n",
              "    </tr>\n",
              "    <tr>\n",
              "      <th>99995</th>\n",
              "      <td>a</td>\n",
              "      <td>Y</td>\n",
              "      <td>3</td>\n",
              "      <td>gynecology</td>\n",
              "      <td>R</td>\n",
              "      <td>B</td>\n",
              "      <td>3.0</td>\n",
              "      <td>82914</td>\n",
              "      <td>3.0</td>\n",
              "      <td>Emergency</td>\n",
              "      <td>Moderate</td>\n",
              "      <td>6</td>\n",
              "      <td>51-60</td>\n",
              "      <td>3966.0</td>\n",
              "      <td>More than 100 Days</td>\n",
              "    </tr>\n",
              "    <tr>\n",
              "      <th>99996</th>\n",
              "      <td>b</td>\n",
              "      <td>X</td>\n",
              "      <td>2</td>\n",
              "      <td>gynecology</td>\n",
              "      <td>R</td>\n",
              "      <td>F</td>\n",
              "      <td>2.0</td>\n",
              "      <td>40026</td>\n",
              "      <td>5.0</td>\n",
              "      <td>Urgent</td>\n",
              "      <td>Moderate</td>\n",
              "      <td>3</td>\n",
              "      <td>21-30</td>\n",
              "      <td>4005.0</td>\n",
              "      <td>51-60</td>\n",
              "    </tr>\n",
              "    <tr>\n",
              "      <th>99997</th>\n",
              "      <td>a</td>\n",
              "      <td>X</td>\n",
              "      <td>3</td>\n",
              "      <td>gynecology</td>\n",
              "      <td>Q</td>\n",
              "      <td>F</td>\n",
              "      <td>3.0</td>\n",
              "      <td>92346</td>\n",
              "      <td>2.0</td>\n",
              "      <td>Trauma</td>\n",
              "      <td>Minor</td>\n",
              "      <td>2</td>\n",
              "      <td>31-40</td>\n",
              "      <td>5215.0</td>\n",
              "      <td>31-40</td>\n",
              "    </tr>\n",
              "    <tr>\n",
              "      <th>99998</th>\n",
              "      <td>f</td>\n",
              "      <td>Y</td>\n",
              "      <td>2</td>\n",
              "      <td>gynecology</td>\n",
              "      <td>S</td>\n",
              "      <td>B</td>\n",
              "      <td>4.0</td>\n",
              "      <td>113798</td>\n",
              "      <td>15.0</td>\n",
              "      <td>Trauma</td>\n",
              "      <td>Moderate</td>\n",
              "      <td>3</td>\n",
              "      <td>41-50</td>\n",
              "      <td>5092.0</td>\n",
              "      <td>11-20</td>\n",
              "    </tr>\n",
              "    <tr>\n",
              "      <th>99999</th>\n",
              "      <td>e</td>\n",
              "      <td>X</td>\n",
              "      <td>3</td>\n",
              "      <td>gynecology</td>\n",
              "      <td>Q</td>\n",
              "      <td>E</td>\n",
              "      <td>2.0</td>\n",
              "      <td>109237</td>\n",
              "      <td>8.0</td>\n",
              "      <td>Emergency</td>\n",
              "      <td>Moderate</td>\n",
              "      <td>2</td>\n",
              "      <td>41-50</td>\n",
              "      <td>3390.0</td>\n",
              "      <td>41-50</td>\n",
              "    </tr>\n",
              "  </tbody>\n",
              "</table>\n",
              "<p>100000 rows × 15 columns</p>\n",
              "</div>"
            ]
          },
          "metadata": {
            "tags": []
          },
          "execution_count": 25
        }
      ]
    },
    {
      "cell_type": "markdown",
      "metadata": {
        "id": "zL0GgZlkE1Ho",
        "colab_type": "text"
      },
      "source": [
        "Definir X e y"
      ]
    },
    {
      "cell_type": "code",
      "metadata": {
        "id": "w5B4NoNXE1Hp",
        "colab_type": "code",
        "colab": {}
      },
      "source": [
        "def clean_dataset(df2):\n",
        "    assert isinstance(df2, pd.DataFrame), \"df needs to be a pd.DataFrame\"\n",
        "    df.dropna(inplace=True)\n",
        "    indices_to_keep = ~df2.isin([np.nan, np.inf, -np.inf]).any(1)\n",
        "    return df2[indices_to_keep].astype(np.float64)"
      ],
      "execution_count": 32,
      "outputs": []
    },
    {
      "cell_type": "code",
      "metadata": {
        "id": "woBKATO4E1Hr",
        "colab_type": "code",
        "colab": {},
        "outputId": "1173eb02-5f8d-4160-e9b5-fd37d79ffdf4"
      },
      "source": [
        "df2 = clean_dataset(df)\n",
        "df2"
      ],
      "execution_count": 33,
      "outputs": [
        {
          "output_type": "error",
          "ename": "ValueError",
          "evalue": "could not convert string to float: 'a'",
          "traceback": [
            "\u001b[0;31m---------------------------------------------------------------------------\u001b[0m",
            "\u001b[0;31mValueError\u001b[0m                                Traceback (most recent call last)",
            "\u001b[0;32m<ipython-input-33-09ae3229e039>\u001b[0m in \u001b[0;36m<module>\u001b[0;34m\u001b[0m\n\u001b[0;32m----> 1\u001b[0;31m \u001b[0mdf2\u001b[0m \u001b[0;34m=\u001b[0m \u001b[0mclean_dataset\u001b[0m\u001b[0;34m(\u001b[0m\u001b[0mdf\u001b[0m\u001b[0;34m)\u001b[0m\u001b[0;34m\u001b[0m\u001b[0;34m\u001b[0m\u001b[0m\n\u001b[0m\u001b[1;32m      2\u001b[0m \u001b[0mdf2\u001b[0m\u001b[0;34m\u001b[0m\u001b[0;34m\u001b[0m\u001b[0m\n",
            "\u001b[0;32m<ipython-input-32-f580cee382bd>\u001b[0m in \u001b[0;36mclean_dataset\u001b[0;34m(df2)\u001b[0m\n\u001b[1;32m      3\u001b[0m     \u001b[0mdf\u001b[0m\u001b[0;34m.\u001b[0m\u001b[0mdropna\u001b[0m\u001b[0;34m(\u001b[0m\u001b[0minplace\u001b[0m\u001b[0;34m=\u001b[0m\u001b[0;32mTrue\u001b[0m\u001b[0;34m)\u001b[0m\u001b[0;34m\u001b[0m\u001b[0;34m\u001b[0m\u001b[0m\n\u001b[1;32m      4\u001b[0m     \u001b[0mindices_to_keep\u001b[0m \u001b[0;34m=\u001b[0m \u001b[0;34m~\u001b[0m\u001b[0mdf2\u001b[0m\u001b[0;34m.\u001b[0m\u001b[0misin\u001b[0m\u001b[0;34m(\u001b[0m\u001b[0;34m[\u001b[0m\u001b[0mnp\u001b[0m\u001b[0;34m.\u001b[0m\u001b[0mnan\u001b[0m\u001b[0;34m,\u001b[0m \u001b[0mnp\u001b[0m\u001b[0;34m.\u001b[0m\u001b[0minf\u001b[0m\u001b[0;34m,\u001b[0m \u001b[0;34m-\u001b[0m\u001b[0mnp\u001b[0m\u001b[0;34m.\u001b[0m\u001b[0minf\u001b[0m\u001b[0;34m]\u001b[0m\u001b[0;34m)\u001b[0m\u001b[0;34m.\u001b[0m\u001b[0many\u001b[0m\u001b[0;34m(\u001b[0m\u001b[0;36m1\u001b[0m\u001b[0;34m)\u001b[0m\u001b[0;34m\u001b[0m\u001b[0;34m\u001b[0m\u001b[0m\n\u001b[0;32m----> 5\u001b[0;31m     \u001b[0;32mreturn\u001b[0m \u001b[0mdf2\u001b[0m\u001b[0;34m[\u001b[0m\u001b[0mindices_to_keep\u001b[0m\u001b[0;34m]\u001b[0m\u001b[0;34m.\u001b[0m\u001b[0mastype\u001b[0m\u001b[0;34m(\u001b[0m\u001b[0mnp\u001b[0m\u001b[0;34m.\u001b[0m\u001b[0mfloat64\u001b[0m\u001b[0;34m)\u001b[0m\u001b[0;34m\u001b[0m\u001b[0;34m\u001b[0m\u001b[0m\n\u001b[0m",
            "\u001b[0;32m/Library/Frameworks/Python.framework/Versions/3.8/lib/python3.8/site-packages/pandas/core/generic.py\u001b[0m in \u001b[0;36mastype\u001b[0;34m(self, dtype, copy, errors)\u001b[0m\n\u001b[1;32m   5696\u001b[0m         \u001b[0;32melse\u001b[0m\u001b[0;34m:\u001b[0m\u001b[0;34m\u001b[0m\u001b[0;34m\u001b[0m\u001b[0m\n\u001b[1;32m   5697\u001b[0m             \u001b[0;31m# else, only a single dtype is given\u001b[0m\u001b[0;34m\u001b[0m\u001b[0;34m\u001b[0m\u001b[0;34m\u001b[0m\u001b[0m\n\u001b[0;32m-> 5698\u001b[0;31m             \u001b[0mnew_data\u001b[0m \u001b[0;34m=\u001b[0m \u001b[0mself\u001b[0m\u001b[0;34m.\u001b[0m\u001b[0m_data\u001b[0m\u001b[0;34m.\u001b[0m\u001b[0mastype\u001b[0m\u001b[0;34m(\u001b[0m\u001b[0mdtype\u001b[0m\u001b[0;34m=\u001b[0m\u001b[0mdtype\u001b[0m\u001b[0;34m,\u001b[0m \u001b[0mcopy\u001b[0m\u001b[0;34m=\u001b[0m\u001b[0mcopy\u001b[0m\u001b[0;34m,\u001b[0m \u001b[0merrors\u001b[0m\u001b[0;34m=\u001b[0m\u001b[0merrors\u001b[0m\u001b[0;34m)\u001b[0m\u001b[0;34m\u001b[0m\u001b[0;34m\u001b[0m\u001b[0m\n\u001b[0m\u001b[1;32m   5699\u001b[0m             \u001b[0;32mreturn\u001b[0m \u001b[0mself\u001b[0m\u001b[0;34m.\u001b[0m\u001b[0m_constructor\u001b[0m\u001b[0;34m(\u001b[0m\u001b[0mnew_data\u001b[0m\u001b[0;34m)\u001b[0m\u001b[0;34m.\u001b[0m\u001b[0m__finalize__\u001b[0m\u001b[0;34m(\u001b[0m\u001b[0mself\u001b[0m\u001b[0;34m)\u001b[0m\u001b[0;34m\u001b[0m\u001b[0;34m\u001b[0m\u001b[0m\n\u001b[1;32m   5700\u001b[0m \u001b[0;34m\u001b[0m\u001b[0m\n",
            "\u001b[0;32m/Library/Frameworks/Python.framework/Versions/3.8/lib/python3.8/site-packages/pandas/core/internals/managers.py\u001b[0m in \u001b[0;36mastype\u001b[0;34m(self, dtype, copy, errors)\u001b[0m\n\u001b[1;32m    580\u001b[0m \u001b[0;34m\u001b[0m\u001b[0m\n\u001b[1;32m    581\u001b[0m     \u001b[0;32mdef\u001b[0m \u001b[0mastype\u001b[0m\u001b[0;34m(\u001b[0m\u001b[0mself\u001b[0m\u001b[0;34m,\u001b[0m \u001b[0mdtype\u001b[0m\u001b[0;34m,\u001b[0m \u001b[0mcopy\u001b[0m\u001b[0;34m:\u001b[0m \u001b[0mbool\u001b[0m \u001b[0;34m=\u001b[0m \u001b[0;32mFalse\u001b[0m\u001b[0;34m,\u001b[0m \u001b[0merrors\u001b[0m\u001b[0;34m:\u001b[0m \u001b[0mstr\u001b[0m \u001b[0;34m=\u001b[0m \u001b[0;34m\"raise\"\u001b[0m\u001b[0;34m)\u001b[0m\u001b[0;34m:\u001b[0m\u001b[0;34m\u001b[0m\u001b[0;34m\u001b[0m\u001b[0m\n\u001b[0;32m--> 582\u001b[0;31m         \u001b[0;32mreturn\u001b[0m \u001b[0mself\u001b[0m\u001b[0;34m.\u001b[0m\u001b[0mapply\u001b[0m\u001b[0;34m(\u001b[0m\u001b[0;34m\"astype\"\u001b[0m\u001b[0;34m,\u001b[0m \u001b[0mdtype\u001b[0m\u001b[0;34m=\u001b[0m\u001b[0mdtype\u001b[0m\u001b[0;34m,\u001b[0m \u001b[0mcopy\u001b[0m\u001b[0;34m=\u001b[0m\u001b[0mcopy\u001b[0m\u001b[0;34m,\u001b[0m \u001b[0merrors\u001b[0m\u001b[0;34m=\u001b[0m\u001b[0merrors\u001b[0m\u001b[0;34m)\u001b[0m\u001b[0;34m\u001b[0m\u001b[0;34m\u001b[0m\u001b[0m\n\u001b[0m\u001b[1;32m    583\u001b[0m \u001b[0;34m\u001b[0m\u001b[0m\n\u001b[1;32m    584\u001b[0m     \u001b[0;32mdef\u001b[0m \u001b[0mconvert\u001b[0m\u001b[0;34m(\u001b[0m\u001b[0mself\u001b[0m\u001b[0;34m,\u001b[0m \u001b[0;34m**\u001b[0m\u001b[0mkwargs\u001b[0m\u001b[0;34m)\u001b[0m\u001b[0;34m:\u001b[0m\u001b[0;34m\u001b[0m\u001b[0;34m\u001b[0m\u001b[0m\n",
            "\u001b[0;32m/Library/Frameworks/Python.framework/Versions/3.8/lib/python3.8/site-packages/pandas/core/internals/managers.py\u001b[0m in \u001b[0;36mapply\u001b[0;34m(self, f, filter, **kwargs)\u001b[0m\n\u001b[1;32m    440\u001b[0m                 \u001b[0mapplied\u001b[0m \u001b[0;34m=\u001b[0m \u001b[0mb\u001b[0m\u001b[0;34m.\u001b[0m\u001b[0mapply\u001b[0m\u001b[0;34m(\u001b[0m\u001b[0mf\u001b[0m\u001b[0;34m,\u001b[0m \u001b[0;34m**\u001b[0m\u001b[0mkwargs\u001b[0m\u001b[0;34m)\u001b[0m\u001b[0;34m\u001b[0m\u001b[0;34m\u001b[0m\u001b[0m\n\u001b[1;32m    441\u001b[0m             \u001b[0;32melse\u001b[0m\u001b[0;34m:\u001b[0m\u001b[0;34m\u001b[0m\u001b[0;34m\u001b[0m\u001b[0m\n\u001b[0;32m--> 442\u001b[0;31m                 \u001b[0mapplied\u001b[0m \u001b[0;34m=\u001b[0m \u001b[0mgetattr\u001b[0m\u001b[0;34m(\u001b[0m\u001b[0mb\u001b[0m\u001b[0;34m,\u001b[0m \u001b[0mf\u001b[0m\u001b[0;34m)\u001b[0m\u001b[0;34m(\u001b[0m\u001b[0;34m**\u001b[0m\u001b[0mkwargs\u001b[0m\u001b[0;34m)\u001b[0m\u001b[0;34m\u001b[0m\u001b[0;34m\u001b[0m\u001b[0m\n\u001b[0m\u001b[1;32m    443\u001b[0m             \u001b[0mresult_blocks\u001b[0m \u001b[0;34m=\u001b[0m \u001b[0m_extend_blocks\u001b[0m\u001b[0;34m(\u001b[0m\u001b[0mapplied\u001b[0m\u001b[0;34m,\u001b[0m \u001b[0mresult_blocks\u001b[0m\u001b[0;34m)\u001b[0m\u001b[0;34m\u001b[0m\u001b[0;34m\u001b[0m\u001b[0m\n\u001b[1;32m    444\u001b[0m \u001b[0;34m\u001b[0m\u001b[0m\n",
            "\u001b[0;32m/Library/Frameworks/Python.framework/Versions/3.8/lib/python3.8/site-packages/pandas/core/internals/blocks.py\u001b[0m in \u001b[0;36mastype\u001b[0;34m(self, dtype, copy, errors)\u001b[0m\n\u001b[1;32m    623\u001b[0m             \u001b[0mvals1d\u001b[0m \u001b[0;34m=\u001b[0m \u001b[0mvalues\u001b[0m\u001b[0;34m.\u001b[0m\u001b[0mravel\u001b[0m\u001b[0;34m(\u001b[0m\u001b[0;34m)\u001b[0m\u001b[0;34m\u001b[0m\u001b[0;34m\u001b[0m\u001b[0m\n\u001b[1;32m    624\u001b[0m             \u001b[0;32mtry\u001b[0m\u001b[0;34m:\u001b[0m\u001b[0;34m\u001b[0m\u001b[0;34m\u001b[0m\u001b[0m\n\u001b[0;32m--> 625\u001b[0;31m                 \u001b[0mvalues\u001b[0m \u001b[0;34m=\u001b[0m \u001b[0mastype_nansafe\u001b[0m\u001b[0;34m(\u001b[0m\u001b[0mvals1d\u001b[0m\u001b[0;34m,\u001b[0m \u001b[0mdtype\u001b[0m\u001b[0;34m,\u001b[0m \u001b[0mcopy\u001b[0m\u001b[0;34m=\u001b[0m\u001b[0;32mTrue\u001b[0m\u001b[0;34m)\u001b[0m\u001b[0;34m\u001b[0m\u001b[0;34m\u001b[0m\u001b[0m\n\u001b[0m\u001b[1;32m    626\u001b[0m             \u001b[0;32mexcept\u001b[0m \u001b[0;34m(\u001b[0m\u001b[0mValueError\u001b[0m\u001b[0;34m,\u001b[0m \u001b[0mTypeError\u001b[0m\u001b[0;34m)\u001b[0m\u001b[0;34m:\u001b[0m\u001b[0;34m\u001b[0m\u001b[0;34m\u001b[0m\u001b[0m\n\u001b[1;32m    627\u001b[0m                 \u001b[0;31m# e.g. astype_nansafe can fail on object-dtype of strings\u001b[0m\u001b[0;34m\u001b[0m\u001b[0;34m\u001b[0m\u001b[0;34m\u001b[0m\u001b[0m\n",
            "\u001b[0;32m/Library/Frameworks/Python.framework/Versions/3.8/lib/python3.8/site-packages/pandas/core/dtypes/cast.py\u001b[0m in \u001b[0;36mastype_nansafe\u001b[0;34m(arr, dtype, copy, skipna)\u001b[0m\n\u001b[1;32m    895\u001b[0m     \u001b[0;32mif\u001b[0m \u001b[0mcopy\u001b[0m \u001b[0;32mor\u001b[0m \u001b[0mis_object_dtype\u001b[0m\u001b[0;34m(\u001b[0m\u001b[0marr\u001b[0m\u001b[0;34m)\u001b[0m \u001b[0;32mor\u001b[0m \u001b[0mis_object_dtype\u001b[0m\u001b[0;34m(\u001b[0m\u001b[0mdtype\u001b[0m\u001b[0;34m)\u001b[0m\u001b[0;34m:\u001b[0m\u001b[0;34m\u001b[0m\u001b[0;34m\u001b[0m\u001b[0m\n\u001b[1;32m    896\u001b[0m         \u001b[0;31m# Explicit copy, or required since NumPy can't view from / to object.\u001b[0m\u001b[0;34m\u001b[0m\u001b[0;34m\u001b[0m\u001b[0;34m\u001b[0m\u001b[0m\n\u001b[0;32m--> 897\u001b[0;31m         \u001b[0;32mreturn\u001b[0m \u001b[0marr\u001b[0m\u001b[0;34m.\u001b[0m\u001b[0mastype\u001b[0m\u001b[0;34m(\u001b[0m\u001b[0mdtype\u001b[0m\u001b[0;34m,\u001b[0m \u001b[0mcopy\u001b[0m\u001b[0;34m=\u001b[0m\u001b[0;32mTrue\u001b[0m\u001b[0;34m)\u001b[0m\u001b[0;34m\u001b[0m\u001b[0;34m\u001b[0m\u001b[0m\n\u001b[0m\u001b[1;32m    898\u001b[0m \u001b[0;34m\u001b[0m\u001b[0m\n\u001b[1;32m    899\u001b[0m     \u001b[0;32mreturn\u001b[0m \u001b[0marr\u001b[0m\u001b[0;34m.\u001b[0m\u001b[0mview\u001b[0m\u001b[0;34m(\u001b[0m\u001b[0mdtype\u001b[0m\u001b[0;34m)\u001b[0m\u001b[0;34m\u001b[0m\u001b[0;34m\u001b[0m\u001b[0m\n",
            "\u001b[0;31mValueError\u001b[0m: could not convert string to float: 'a'"
          ]
        }
      ]
    },
    {
      "cell_type": "code",
      "metadata": {
        "id": "ZC9lonXaE1Hw",
        "colab_type": "code",
        "colab": {},
        "outputId": "c736f4af-e104-4ab8-8760-08af2d4bd051"
      },
      "source": [
        "X = np.array(df2.iloc[:,0:-1])\n",
        "y = np.array(df2['17'])\n",
        "X.shape"
      ],
      "execution_count": 34,
      "outputs": [
        {
          "output_type": "execute_result",
          "data": {
            "text/plain": "(100000, 14)"
          },
          "metadata": {},
          "execution_count": 34
        }
      ]
    },
    {
      "cell_type": "code",
      "metadata": {
        "id": "ktk-puUqE1H0",
        "colab_type": "code",
        "colab": {},
        "outputId": "b7ce35b9-80ba-452a-8a0f-f82535154325"
      },
      "source": [
        "y.shape"
      ],
      "execution_count": 35,
      "outputs": [
        {
          "output_type": "execute_result",
          "data": {
            "text/plain": "(100000,)"
          },
          "metadata": {},
          "execution_count": 35
        }
      ]
    },
    {
      "cell_type": "markdown",
      "metadata": {
        "id": "GZg4JxHcE1H3",
        "colab_type": "text"
      },
      "source": [
        "The goal of this competition is the prediction of the days a patient would stay in the hospital given some characteristics, putting into practice all the machine learning techniques you've learn.\n",
        "\n",
        "The length of stay is divided into 11 different classes ranging from 0-10 days to more than 100 days."
      ]
    },
    {
      "cell_type": "code",
      "metadata": {
        "id": "f_6Nkzk_E1H4",
        "colab_type": "code",
        "colab": {},
        "outputId": "ed7f76d5-34ff-41bc-8862-b7afb133fc40"
      },
      "source": [
        "df2.isnull().values.any()"
      ],
      "execution_count": 36,
      "outputs": [
        {
          "output_type": "execute_result",
          "data": {
            "text/plain": "False"
          },
          "metadata": {},
          "execution_count": 36
        }
      ]
    },
    {
      "cell_type": "code",
      "metadata": {
        "id": "zE_6iLXkE1H8",
        "colab_type": "code",
        "colab": {}
      },
      "source": [
        "X_train, X_test, y_train, y_test = train_test_split(X, y, test_size=0.20)"
      ],
      "execution_count": 37,
      "outputs": []
    },
    {
      "cell_type": "code",
      "metadata": {
        "id": "-RLwRK-QE1H-",
        "colab_type": "code",
        "colab": {}
      },
      "source": [
        "model = linear_model.LogisticRegression()"
      ],
      "execution_count": 38,
      "outputs": []
    },
    {
      "cell_type": "code",
      "metadata": {
        "id": "ykN71joeE1IB",
        "colab_type": "code",
        "colab": {},
        "outputId": "c1800f02-fe49-4c69-840f-f0b90f6defa9"
      },
      "source": [
        "df2.isnull().sum()"
      ],
      "execution_count": 39,
      "outputs": [
        {
          "output_type": "execute_result",
          "data": {
            "text/plain": "2     0\n4     0\n5     0\n6     0\n7     0\n8     0\n9     0\n10    0\n11    0\n12    0\n13    0\n14    0\n15    0\n16    0\n17    0\ndtype: int64"
          },
          "metadata": {},
          "execution_count": 39
        }
      ]
    },
    {
      "cell_type": "code",
      "execution_count": 49,
      "metadata": {},
      "outputs": [
        {
          "output_type": "execute_result",
          "data": {
            "text/plain": "(100000, 15)"
          },
          "metadata": {},
          "execution_count": 49
        }
      ],
      "source": [
        "df2.shape"
      ]
    },
    {
      "cell_type": "code",
      "metadata": {
        "id": "JFlQVp7RE1IF",
        "colab_type": "code",
        "colab": {},
        "outputId": "ba2a7b4b-a948-4ca1-e464-da9e860fc2b3"
      },
      "source": [
        "model.fit(X_train, y_train)"
      ],
      "execution_count": 40,
      "outputs": [
        {
          "output_type": "execute_result",
          "data": {
            "text/plain": "LogisticRegression()"
          },
          "metadata": {},
          "execution_count": 40
        }
      ]
    },
    {
      "cell_type": "code",
      "metadata": {
        "tags": [],
        "id": "Gj-nxXXCE1IJ",
        "colab_type": "code",
        "colab": {},
        "outputId": "d18546af-4101-420b-a14e-aa70d1687911"
      },
      "source": [
        "predictions = model.predict(X_test)\n",
        "print(predictions)"
      ],
      "execution_count": 46,
      "outputs": [
        {
          "output_type": "stream",
          "name": "stdout",
          "text": "[2 2 2 ... 2 2 2]\n"
        }
      ]
    },
    {
      "cell_type": "code",
      "metadata": {
        "id": "aFgoPvVnE1IM",
        "colab_type": "code",
        "colab": {}
      },
      "source": [
        "# ocurre este error IndexError: arrays used as indices must be of integer (or boolean) type\n",
        "# porque la predicción: \"predictions\" son float, por lo que primero de todo habrá que pasar ese array a integer\n",
        "predictions = predictions.astype(int)"
      ],
      "execution_count": 47,
      "outputs": []
    },
    {
      "cell_type": "code",
      "execution_count": 48,
      "metadata": {},
      "outputs": [
        {
          "output_type": "execute_result",
          "data": {
            "text/plain": "(20000,)"
          },
          "metadata": {},
          "execution_count": 48
        }
      ],
      "source": [
        "predictions.shape"
      ]
    },
    {
      "cell_type": "code",
      "execution_count": 50,
      "metadata": {},
      "outputs": [],
      "source": [
        "prediction_test = le.inverse_transform(predictions)"
      ]
    },
    {
      "cell_type": "code",
      "metadata": {
        "id": "kwMZdFEwE1IR",
        "colab_type": "code",
        "colab": {},
        "outputId": "a38105ba-de1b-445c-d28f-893d75db7128"
      },
      "source": [
        "prediction_test"
      ],
      "execution_count": 51,
      "outputs": [
        {
          "output_type": "execute_result",
          "data": {
            "text/plain": "array(['21-30', '21-30', '21-30', ..., '21-30', '21-30', '21-30'],\n      dtype=object)"
          },
          "metadata": {},
          "execution_count": 51
        }
      ]
    },
    {
      "cell_type": "code",
      "metadata": {
        "id": "5kWFvWYrE1IU",
        "colab_type": "code",
        "colab": {},
        "outputId": "4b931da8-617a-4a7f-bd7b-6f90039ce4ad"
      },
      "source": [
        "model.score(X_test,y_test)"
      ],
      "execution_count": 52,
      "outputs": [
        {
          "output_type": "execute_result",
          "data": {
            "text/plain": "0.2728"
          },
          "metadata": {},
          "execution_count": 52
        }
      ]
    },
    {
      "cell_type": "code",
      "metadata": {
        "tags": [],
        "id": "yJAbyYi-E1IY",
        "colab_type": "code",
        "colab": {},
        "outputId": "43363d24-1eeb-4abe-ea2e-700cf378e8e3"
      },
      "source": [
        "# no entiendo qué hace esto\n",
        "print(df.shape)\n",
        "index = 0\n",
        "for i in df[['2','4', '5', '6', '7', '8', '9', '10', '11', '12',\n",
        "       '13', '14', '15', '16', '17']]:\n",
        "    if i == 'float64':\n",
        "        print(index, i)\n",
        "    index +=1"
      ],
      "execution_count": null,
      "outputs": [
        {
          "output_type": "stream",
          "text": [
            "(98484, 18)\n"
          ],
          "name": "stdout"
        }
      ]
    },
    {
      "cell_type": "code",
      "metadata": {
        "id": "-HQZMYz7E1Id",
        "colab_type": "code",
        "colab": {},
        "outputId": "f31b26c7-67fb-4a5e-ccb4-9adfb1453221"
      },
      "source": [
        "index"
      ],
      "execution_count": null,
      "outputs": [
        {
          "output_type": "execute_result",
          "data": {
            "text/plain": [
              "15"
            ]
          },
          "metadata": {
            "tags": []
          },
          "execution_count": 40
        }
      ]
    },
    {
      "cell_type": "markdown",
      "metadata": {
        "id": "5dOE8dEjE1Ih",
        "colab_type": "text"
      },
      "source": [
        "Predict"
      ]
    },
    {
      "cell_type": "code",
      "metadata": {
        "id": "VdeHbV0iE1Ij",
        "colab_type": "code",
        "colab": {},
        "outputId": "35299efd-5a4a-40a4-9bc0-6b042fa4b5c9"
      },
      "source": [
        "to_pred = pd.read_csv('/Users/rochi/Desktop/TestFolder/DataScienceBootCampMIO/ProjectsDS/how-long-would-you-stay/test_set.csv')\n",
        "to_pred"
      ],
      "execution_count": 95,
      "outputs": [
        {
          "output_type": "execute_result",
          "data": {
            "text/plain": "             0   1  2   3  4  5                   6  7  8    9      10    11  \\\n0       314114  19  a   7  Y  4          gynecology  S  C  2.0   59278   8.0   \n1       208989  15  c   5  Z  3          gynecology  S  F  2.0  102253  15.0   \n2       305872  17  e   1  X  4          gynecology  R  E  4.0    5828   4.0   \n3       266099   3  c   3  Z  4  TB & Chest disease  R  A  2.0   56642   9.0   \n4        13228   6  a   6  X  4          gynecology  R  F  1.0  116266   8.0   \n...        ...  .. ..  .. .. ..                 ... .. ..  ...     ...   ...   \n133739  318155  18  d  13  Y  6          anesthesia  Q  B  3.0  123269  25.0   \n133740  144850  27  a   7  Y  2          gynecology  S  C  2.0    1293   8.0   \n133741  180676  16  c   3  Z  3          gynecology  R  A  3.0  112921   5.0   \n133742   39933  28  b  11  X  4          gynecology  R  F  2.0     585   2.0   \n133743  116673   6  a   6  X  4  TB & Chest disease  Q  F  2.0  119482  12.0   \n\n               12        13  14     15      16  \n0       Emergency     Minor   2  41-50  4778.0  \n1          Trauma  Moderate   3  31-40  5734.0  \n2       Emergency     Minor   3  71-80  5064.0  \n3          Urgent   Extreme   4  31-40  3254.0  \n4       Emergency     Minor   3  21-30  4639.0  \n...           ...       ...  ..    ...     ...  \n133739     Urgent     Minor   4  51-60  5089.0  \n133740  Emergency  Moderate   3  61-70  6713.0  \n133741     Trauma     Minor   3  31-40  5326.0  \n133742     Trauma   Extreme   2  31-40  7072.0  \n133743     Trauma  Moderate   4  51-60  5221.0  \n\n[133744 rows x 17 columns]",
            "text/html": "<div>\n<style scoped>\n    .dataframe tbody tr th:only-of-type {\n        vertical-align: middle;\n    }\n\n    .dataframe tbody tr th {\n        vertical-align: top;\n    }\n\n    .dataframe thead th {\n        text-align: right;\n    }\n</style>\n<table border=\"1\" class=\"dataframe\">\n  <thead>\n    <tr style=\"text-align: right;\">\n      <th></th>\n      <th>0</th>\n      <th>1</th>\n      <th>2</th>\n      <th>3</th>\n      <th>4</th>\n      <th>5</th>\n      <th>6</th>\n      <th>7</th>\n      <th>8</th>\n      <th>9</th>\n      <th>10</th>\n      <th>11</th>\n      <th>12</th>\n      <th>13</th>\n      <th>14</th>\n      <th>15</th>\n      <th>16</th>\n    </tr>\n  </thead>\n  <tbody>\n    <tr>\n      <th>0</th>\n      <td>314114</td>\n      <td>19</td>\n      <td>a</td>\n      <td>7</td>\n      <td>Y</td>\n      <td>4</td>\n      <td>gynecology</td>\n      <td>S</td>\n      <td>C</td>\n      <td>2.0</td>\n      <td>59278</td>\n      <td>8.0</td>\n      <td>Emergency</td>\n      <td>Minor</td>\n      <td>2</td>\n      <td>41-50</td>\n      <td>4778.0</td>\n    </tr>\n    <tr>\n      <th>1</th>\n      <td>208989</td>\n      <td>15</td>\n      <td>c</td>\n      <td>5</td>\n      <td>Z</td>\n      <td>3</td>\n      <td>gynecology</td>\n      <td>S</td>\n      <td>F</td>\n      <td>2.0</td>\n      <td>102253</td>\n      <td>15.0</td>\n      <td>Trauma</td>\n      <td>Moderate</td>\n      <td>3</td>\n      <td>31-40</td>\n      <td>5734.0</td>\n    </tr>\n    <tr>\n      <th>2</th>\n      <td>305872</td>\n      <td>17</td>\n      <td>e</td>\n      <td>1</td>\n      <td>X</td>\n      <td>4</td>\n      <td>gynecology</td>\n      <td>R</td>\n      <td>E</td>\n      <td>4.0</td>\n      <td>5828</td>\n      <td>4.0</td>\n      <td>Emergency</td>\n      <td>Minor</td>\n      <td>3</td>\n      <td>71-80</td>\n      <td>5064.0</td>\n    </tr>\n    <tr>\n      <th>3</th>\n      <td>266099</td>\n      <td>3</td>\n      <td>c</td>\n      <td>3</td>\n      <td>Z</td>\n      <td>4</td>\n      <td>TB &amp; Chest disease</td>\n      <td>R</td>\n      <td>A</td>\n      <td>2.0</td>\n      <td>56642</td>\n      <td>9.0</td>\n      <td>Urgent</td>\n      <td>Extreme</td>\n      <td>4</td>\n      <td>31-40</td>\n      <td>3254.0</td>\n    </tr>\n    <tr>\n      <th>4</th>\n      <td>13228</td>\n      <td>6</td>\n      <td>a</td>\n      <td>6</td>\n      <td>X</td>\n      <td>4</td>\n      <td>gynecology</td>\n      <td>R</td>\n      <td>F</td>\n      <td>1.0</td>\n      <td>116266</td>\n      <td>8.0</td>\n      <td>Emergency</td>\n      <td>Minor</td>\n      <td>3</td>\n      <td>21-30</td>\n      <td>4639.0</td>\n    </tr>\n    <tr>\n      <th>...</th>\n      <td>...</td>\n      <td>...</td>\n      <td>...</td>\n      <td>...</td>\n      <td>...</td>\n      <td>...</td>\n      <td>...</td>\n      <td>...</td>\n      <td>...</td>\n      <td>...</td>\n      <td>...</td>\n      <td>...</td>\n      <td>...</td>\n      <td>...</td>\n      <td>...</td>\n      <td>...</td>\n      <td>...</td>\n    </tr>\n    <tr>\n      <th>133739</th>\n      <td>318155</td>\n      <td>18</td>\n      <td>d</td>\n      <td>13</td>\n      <td>Y</td>\n      <td>6</td>\n      <td>anesthesia</td>\n      <td>Q</td>\n      <td>B</td>\n      <td>3.0</td>\n      <td>123269</td>\n      <td>25.0</td>\n      <td>Urgent</td>\n      <td>Minor</td>\n      <td>4</td>\n      <td>51-60</td>\n      <td>5089.0</td>\n    </tr>\n    <tr>\n      <th>133740</th>\n      <td>144850</td>\n      <td>27</td>\n      <td>a</td>\n      <td>7</td>\n      <td>Y</td>\n      <td>2</td>\n      <td>gynecology</td>\n      <td>S</td>\n      <td>C</td>\n      <td>2.0</td>\n      <td>1293</td>\n      <td>8.0</td>\n      <td>Emergency</td>\n      <td>Moderate</td>\n      <td>3</td>\n      <td>61-70</td>\n      <td>6713.0</td>\n    </tr>\n    <tr>\n      <th>133741</th>\n      <td>180676</td>\n      <td>16</td>\n      <td>c</td>\n      <td>3</td>\n      <td>Z</td>\n      <td>3</td>\n      <td>gynecology</td>\n      <td>R</td>\n      <td>A</td>\n      <td>3.0</td>\n      <td>112921</td>\n      <td>5.0</td>\n      <td>Trauma</td>\n      <td>Minor</td>\n      <td>3</td>\n      <td>31-40</td>\n      <td>5326.0</td>\n    </tr>\n    <tr>\n      <th>133742</th>\n      <td>39933</td>\n      <td>28</td>\n      <td>b</td>\n      <td>11</td>\n      <td>X</td>\n      <td>4</td>\n      <td>gynecology</td>\n      <td>R</td>\n      <td>F</td>\n      <td>2.0</td>\n      <td>585</td>\n      <td>2.0</td>\n      <td>Trauma</td>\n      <td>Extreme</td>\n      <td>2</td>\n      <td>31-40</td>\n      <td>7072.0</td>\n    </tr>\n    <tr>\n      <th>133743</th>\n      <td>116673</td>\n      <td>6</td>\n      <td>a</td>\n      <td>6</td>\n      <td>X</td>\n      <td>4</td>\n      <td>TB &amp; Chest disease</td>\n      <td>Q</td>\n      <td>F</td>\n      <td>2.0</td>\n      <td>119482</td>\n      <td>12.0</td>\n      <td>Trauma</td>\n      <td>Moderate</td>\n      <td>4</td>\n      <td>51-60</td>\n      <td>5221.0</td>\n    </tr>\n  </tbody>\n</table>\n<p>133744 rows × 17 columns</p>\n</div>"
          },
          "metadata": {},
          "execution_count": 95
        }
      ]
    },
    {
      "cell_type": "code",
      "metadata": {
        "id": "HKFQCyIxE1In",
        "colab_type": "code",
        "colab": {}
      },
      "source": [
        "to_pred = to_pred.fillna(0)"
      ],
      "execution_count": 105,
      "outputs": []
    },
    {
      "cell_type": "code",
      "metadata": {
        "id": "3G6zq8E5E1Iq",
        "colab_type": "code",
        "colab": {},
        "outputId": "83b1c539-0879-42ec-c609-37fe9d52cf1d"
      },
      "source": [
        "to_pred.shape"
      ],
      "execution_count": 106,
      "outputs": [
        {
          "output_type": "execute_result",
          "data": {
            "text/plain": "(133744, 17)"
          },
          "metadata": {},
          "execution_count": 106
        }
      ]
    },
    {
      "cell_type": "code",
      "metadata": {
        "tags": [],
        "id": "xgddacQgE1Iv",
        "colab_type": "code",
        "colab": {},
        "outputId": "3daac65c-706a-4803-e84c-873d2e7edc15"
      },
      "source": [
        "to_pred.info()"
      ],
      "execution_count": 107,
      "outputs": [
        {
          "output_type": "stream",
          "name": "stdout",
          "text": "<class 'pandas.core.frame.DataFrame'>\nRangeIndex: 133744 entries, 0 to 133743\nData columns (total 17 columns):\n #   Column  Non-Null Count   Dtype  \n---  ------  --------------   -----  \n 0   0       133744 non-null  int64  \n 1   1       133744 non-null  int64  \n 2   2       133744 non-null  int64  \n 3   3       133744 non-null  int64  \n 4   4       133744 non-null  int64  \n 5   5       133744 non-null  int64  \n 6   6       133744 non-null  int64  \n 7   7       133744 non-null  int64  \n 8   8       133744 non-null  int64  \n 9   9       133744 non-null  float64\n 10  10      133744 non-null  int64  \n 11  11      133744 non-null  float64\n 12  12      133744 non-null  int64  \n 13  13      133744 non-null  int64  \n 14  14      133744 non-null  int64  \n 15  15      133744 non-null  int64  \n 16  16      133744 non-null  float64\ndtypes: float64(3), int64(14)\nmemory usage: 17.3 MB\n"
        }
      ]
    },
    {
      "cell_type": "code",
      "metadata": {
        "tags": [],
        "id": "AFsO5uomE1I0",
        "colab_type": "code",
        "colab": {},
        "outputId": "c5160a92-8fa9-476b-f1ab-1587b902ed6d"
      },
      "source": [
        "'''\n",
        "le = preprocessing.LabelEncoder()\n",
        "# Converting string labels into numbers.\n",
        "to_pred[['2']] = le.fit_transform(to_pred[['2']])\n",
        "# Sunny: 2, Overcast: 0, Rainy:1\n",
        "print(to_pred['2'])\n",
        "'''"
      ],
      "execution_count": null,
      "outputs": [
        {
          "output_type": "execute_result",
          "data": {
            "text/plain": [
              "\"\\nle = preprocessing.LabelEncoder()\\n# Converting string labels into numbers.\\nto_pred[['2']] = le.fit_transform(to_pred[['2']])\\n# Sunny: 2, Overcast: 0, Rainy:1\\nprint(to_pred['2'])\\n\""
            ]
          },
          "metadata": {
            "tags": []
          },
          "execution_count": 45
        }
      ]
    },
    {
      "cell_type": "code",
      "metadata": {
        "tags": [],
        "id": "i8_g9IBLE1I6",
        "colab_type": "code",
        "colab": {}
      },
      "source": [
        "for i in to_pred[['2','4','6', '7', '8', '12','13', '15']]:\n",
        "    le = LabelEncoder()\n",
        "    to_pred[i] = le.fit_transform(to_pred[i])"
      ],
      "execution_count": 97,
      "outputs": []
    },
    {
      "cell_type": "code",
      "metadata": {
        "id": "BQFHCIGzE1I9",
        "colab_type": "code",
        "colab": {},
        "outputId": "2f788b20-fba2-4224-dc2c-120d35529e38"
      },
      "source": [
        "to_pred"
      ],
      "execution_count": 80,
      "outputs": [
        {
          "output_type": "execute_result",
          "data": {
            "text/plain": "        2  4  5  6  7  8    9      10    11  12  13  14  15      16\n1       2  2  3  2  3  5  2.0  102253  15.0   1   2   3   3  5734.0\n2       4  0  4  2  2  4  4.0    5828   4.0   0   1   3   7  5064.0\n3       2  2  4  0  2  0  2.0   56642   9.0   2   0   4   3  3254.0\n4       0  0  4  2  2  5  1.0  116266   8.0   0   1   3   2  4639.0\n5       2  2  4  2  1  5  3.0   25016   9.0   2   2   2   3  4913.0\n...    .. .. .. .. .. ..  ...     ...   ...  ..  ..  ..  ..     ...\n133739  3  1  6  1  1  1  3.0  123269  25.0   2   1   4   5  5089.0\n133740  0  1  2  2  3  2  2.0    1293   8.0   0   2   3   6  6713.0\n133741  2  2  3  2  2  0  3.0  112921   5.0   1   1   3   3  5326.0\n133742  1  0  4  2  2  5  2.0     585   2.0   1   0   2   3  7072.0\n133743  0  0  4  0  1  5  2.0  119482  12.0   1   2   4   5  5221.0\n\n[133743 rows x 14 columns]",
            "text/html": "<div>\n<style scoped>\n    .dataframe tbody tr th:only-of-type {\n        vertical-align: middle;\n    }\n\n    .dataframe tbody tr th {\n        vertical-align: top;\n    }\n\n    .dataframe thead th {\n        text-align: right;\n    }\n</style>\n<table border=\"1\" class=\"dataframe\">\n  <thead>\n    <tr style=\"text-align: right;\">\n      <th></th>\n      <th>2</th>\n      <th>4</th>\n      <th>5</th>\n      <th>6</th>\n      <th>7</th>\n      <th>8</th>\n      <th>9</th>\n      <th>10</th>\n      <th>11</th>\n      <th>12</th>\n      <th>13</th>\n      <th>14</th>\n      <th>15</th>\n      <th>16</th>\n    </tr>\n  </thead>\n  <tbody>\n    <tr>\n      <th>1</th>\n      <td>2</td>\n      <td>2</td>\n      <td>3</td>\n      <td>2</td>\n      <td>3</td>\n      <td>5</td>\n      <td>2.0</td>\n      <td>102253</td>\n      <td>15.0</td>\n      <td>1</td>\n      <td>2</td>\n      <td>3</td>\n      <td>3</td>\n      <td>5734.0</td>\n    </tr>\n    <tr>\n      <th>2</th>\n      <td>4</td>\n      <td>0</td>\n      <td>4</td>\n      <td>2</td>\n      <td>2</td>\n      <td>4</td>\n      <td>4.0</td>\n      <td>5828</td>\n      <td>4.0</td>\n      <td>0</td>\n      <td>1</td>\n      <td>3</td>\n      <td>7</td>\n      <td>5064.0</td>\n    </tr>\n    <tr>\n      <th>3</th>\n      <td>2</td>\n      <td>2</td>\n      <td>4</td>\n      <td>0</td>\n      <td>2</td>\n      <td>0</td>\n      <td>2.0</td>\n      <td>56642</td>\n      <td>9.0</td>\n      <td>2</td>\n      <td>0</td>\n      <td>4</td>\n      <td>3</td>\n      <td>3254.0</td>\n    </tr>\n    <tr>\n      <th>4</th>\n      <td>0</td>\n      <td>0</td>\n      <td>4</td>\n      <td>2</td>\n      <td>2</td>\n      <td>5</td>\n      <td>1.0</td>\n      <td>116266</td>\n      <td>8.0</td>\n      <td>0</td>\n      <td>1</td>\n      <td>3</td>\n      <td>2</td>\n      <td>4639.0</td>\n    </tr>\n    <tr>\n      <th>5</th>\n      <td>2</td>\n      <td>2</td>\n      <td>4</td>\n      <td>2</td>\n      <td>1</td>\n      <td>5</td>\n      <td>3.0</td>\n      <td>25016</td>\n      <td>9.0</td>\n      <td>2</td>\n      <td>2</td>\n      <td>2</td>\n      <td>3</td>\n      <td>4913.0</td>\n    </tr>\n    <tr>\n      <th>...</th>\n      <td>...</td>\n      <td>...</td>\n      <td>...</td>\n      <td>...</td>\n      <td>...</td>\n      <td>...</td>\n      <td>...</td>\n      <td>...</td>\n      <td>...</td>\n      <td>...</td>\n      <td>...</td>\n      <td>...</td>\n      <td>...</td>\n      <td>...</td>\n    </tr>\n    <tr>\n      <th>133739</th>\n      <td>3</td>\n      <td>1</td>\n      <td>6</td>\n      <td>1</td>\n      <td>1</td>\n      <td>1</td>\n      <td>3.0</td>\n      <td>123269</td>\n      <td>25.0</td>\n      <td>2</td>\n      <td>1</td>\n      <td>4</td>\n      <td>5</td>\n      <td>5089.0</td>\n    </tr>\n    <tr>\n      <th>133740</th>\n      <td>0</td>\n      <td>1</td>\n      <td>2</td>\n      <td>2</td>\n      <td>3</td>\n      <td>2</td>\n      <td>2.0</td>\n      <td>1293</td>\n      <td>8.0</td>\n      <td>0</td>\n      <td>2</td>\n      <td>3</td>\n      <td>6</td>\n      <td>6713.0</td>\n    </tr>\n    <tr>\n      <th>133741</th>\n      <td>2</td>\n      <td>2</td>\n      <td>3</td>\n      <td>2</td>\n      <td>2</td>\n      <td>0</td>\n      <td>3.0</td>\n      <td>112921</td>\n      <td>5.0</td>\n      <td>1</td>\n      <td>1</td>\n      <td>3</td>\n      <td>3</td>\n      <td>5326.0</td>\n    </tr>\n    <tr>\n      <th>133742</th>\n      <td>1</td>\n      <td>0</td>\n      <td>4</td>\n      <td>2</td>\n      <td>2</td>\n      <td>5</td>\n      <td>2.0</td>\n      <td>585</td>\n      <td>2.0</td>\n      <td>1</td>\n      <td>0</td>\n      <td>2</td>\n      <td>3</td>\n      <td>7072.0</td>\n    </tr>\n    <tr>\n      <th>133743</th>\n      <td>0</td>\n      <td>0</td>\n      <td>4</td>\n      <td>0</td>\n      <td>1</td>\n      <td>5</td>\n      <td>2.0</td>\n      <td>119482</td>\n      <td>12.0</td>\n      <td>1</td>\n      <td>2</td>\n      <td>4</td>\n      <td>5</td>\n      <td>5221.0</td>\n    </tr>\n  </tbody>\n</table>\n<p>133743 rows × 14 columns</p>\n</div>"
          },
          "metadata": {},
          "execution_count": 80
        }
      ]
    },
    {
      "cell_type": "code",
      "execution_count": 108,
      "metadata": {},
      "outputs": [
        {
          "output_type": "execute_result",
          "data": {
            "text/plain": "             0   1  2   3  4  5  6  7  8    9      10    11  12  13  14  15  \\\n0       314114  19  0   7  1  4  2  3  2  2.0   59278   8.0   0   1   2   4   \n1       208989  15  2   5  2  3  2  3  5  2.0  102253  15.0   1   2   3   3   \n2       305872  17  4   1  0  4  2  2  4  4.0    5828   4.0   0   1   3   7   \n3       266099   3  2   3  2  4  0  2  0  2.0   56642   9.0   2   0   4   3   \n4        13228   6  0   6  0  4  2  2  5  1.0  116266   8.0   0   1   3   2   \n...        ...  .. ..  .. .. .. .. .. ..  ...     ...   ...  ..  ..  ..  ..   \n133739  318155  18  3  13  1  6  1  1  1  3.0  123269  25.0   2   1   4   5   \n133740  144850  27  0   7  1  2  2  3  2  2.0    1293   8.0   0   2   3   6   \n133741  180676  16  2   3  2  3  2  2  0  3.0  112921   5.0   1   1   3   3   \n133742   39933  28  1  11  0  4  2  2  5  2.0     585   2.0   1   0   2   3   \n133743  116673   6  0   6  0  4  0  1  5  2.0  119482  12.0   1   2   4   5   \n\n            16  \n0       4778.0  \n1       5734.0  \n2       5064.0  \n3       3254.0  \n4       4639.0  \n...        ...  \n133739  5089.0  \n133740  6713.0  \n133741  5326.0  \n133742  7072.0  \n133743  5221.0  \n\n[133744 rows x 17 columns]",
            "text/html": "<div>\n<style scoped>\n    .dataframe tbody tr th:only-of-type {\n        vertical-align: middle;\n    }\n\n    .dataframe tbody tr th {\n        vertical-align: top;\n    }\n\n    .dataframe thead th {\n        text-align: right;\n    }\n</style>\n<table border=\"1\" class=\"dataframe\">\n  <thead>\n    <tr style=\"text-align: right;\">\n      <th></th>\n      <th>0</th>\n      <th>1</th>\n      <th>2</th>\n      <th>3</th>\n      <th>4</th>\n      <th>5</th>\n      <th>6</th>\n      <th>7</th>\n      <th>8</th>\n      <th>9</th>\n      <th>10</th>\n      <th>11</th>\n      <th>12</th>\n      <th>13</th>\n      <th>14</th>\n      <th>15</th>\n      <th>16</th>\n    </tr>\n  </thead>\n  <tbody>\n    <tr>\n      <th>0</th>\n      <td>314114</td>\n      <td>19</td>\n      <td>0</td>\n      <td>7</td>\n      <td>1</td>\n      <td>4</td>\n      <td>2</td>\n      <td>3</td>\n      <td>2</td>\n      <td>2.0</td>\n      <td>59278</td>\n      <td>8.0</td>\n      <td>0</td>\n      <td>1</td>\n      <td>2</td>\n      <td>4</td>\n      <td>4778.0</td>\n    </tr>\n    <tr>\n      <th>1</th>\n      <td>208989</td>\n      <td>15</td>\n      <td>2</td>\n      <td>5</td>\n      <td>2</td>\n      <td>3</td>\n      <td>2</td>\n      <td>3</td>\n      <td>5</td>\n      <td>2.0</td>\n      <td>102253</td>\n      <td>15.0</td>\n      <td>1</td>\n      <td>2</td>\n      <td>3</td>\n      <td>3</td>\n      <td>5734.0</td>\n    </tr>\n    <tr>\n      <th>2</th>\n      <td>305872</td>\n      <td>17</td>\n      <td>4</td>\n      <td>1</td>\n      <td>0</td>\n      <td>4</td>\n      <td>2</td>\n      <td>2</td>\n      <td>4</td>\n      <td>4.0</td>\n      <td>5828</td>\n      <td>4.0</td>\n      <td>0</td>\n      <td>1</td>\n      <td>3</td>\n      <td>7</td>\n      <td>5064.0</td>\n    </tr>\n    <tr>\n      <th>3</th>\n      <td>266099</td>\n      <td>3</td>\n      <td>2</td>\n      <td>3</td>\n      <td>2</td>\n      <td>4</td>\n      <td>0</td>\n      <td>2</td>\n      <td>0</td>\n      <td>2.0</td>\n      <td>56642</td>\n      <td>9.0</td>\n      <td>2</td>\n      <td>0</td>\n      <td>4</td>\n      <td>3</td>\n      <td>3254.0</td>\n    </tr>\n    <tr>\n      <th>4</th>\n      <td>13228</td>\n      <td>6</td>\n      <td>0</td>\n      <td>6</td>\n      <td>0</td>\n      <td>4</td>\n      <td>2</td>\n      <td>2</td>\n      <td>5</td>\n      <td>1.0</td>\n      <td>116266</td>\n      <td>8.0</td>\n      <td>0</td>\n      <td>1</td>\n      <td>3</td>\n      <td>2</td>\n      <td>4639.0</td>\n    </tr>\n    <tr>\n      <th>...</th>\n      <td>...</td>\n      <td>...</td>\n      <td>...</td>\n      <td>...</td>\n      <td>...</td>\n      <td>...</td>\n      <td>...</td>\n      <td>...</td>\n      <td>...</td>\n      <td>...</td>\n      <td>...</td>\n      <td>...</td>\n      <td>...</td>\n      <td>...</td>\n      <td>...</td>\n      <td>...</td>\n      <td>...</td>\n    </tr>\n    <tr>\n      <th>133739</th>\n      <td>318155</td>\n      <td>18</td>\n      <td>3</td>\n      <td>13</td>\n      <td>1</td>\n      <td>6</td>\n      <td>1</td>\n      <td>1</td>\n      <td>1</td>\n      <td>3.0</td>\n      <td>123269</td>\n      <td>25.0</td>\n      <td>2</td>\n      <td>1</td>\n      <td>4</td>\n      <td>5</td>\n      <td>5089.0</td>\n    </tr>\n    <tr>\n      <th>133740</th>\n      <td>144850</td>\n      <td>27</td>\n      <td>0</td>\n      <td>7</td>\n      <td>1</td>\n      <td>2</td>\n      <td>2</td>\n      <td>3</td>\n      <td>2</td>\n      <td>2.0</td>\n      <td>1293</td>\n      <td>8.0</td>\n      <td>0</td>\n      <td>2</td>\n      <td>3</td>\n      <td>6</td>\n      <td>6713.0</td>\n    </tr>\n    <tr>\n      <th>133741</th>\n      <td>180676</td>\n      <td>16</td>\n      <td>2</td>\n      <td>3</td>\n      <td>2</td>\n      <td>3</td>\n      <td>2</td>\n      <td>2</td>\n      <td>0</td>\n      <td>3.0</td>\n      <td>112921</td>\n      <td>5.0</td>\n      <td>1</td>\n      <td>1</td>\n      <td>3</td>\n      <td>3</td>\n      <td>5326.0</td>\n    </tr>\n    <tr>\n      <th>133742</th>\n      <td>39933</td>\n      <td>28</td>\n      <td>1</td>\n      <td>11</td>\n      <td>0</td>\n      <td>4</td>\n      <td>2</td>\n      <td>2</td>\n      <td>5</td>\n      <td>2.0</td>\n      <td>585</td>\n      <td>2.0</td>\n      <td>1</td>\n      <td>0</td>\n      <td>2</td>\n      <td>3</td>\n      <td>7072.0</td>\n    </tr>\n    <tr>\n      <th>133743</th>\n      <td>116673</td>\n      <td>6</td>\n      <td>0</td>\n      <td>6</td>\n      <td>0</td>\n      <td>4</td>\n      <td>0</td>\n      <td>1</td>\n      <td>5</td>\n      <td>2.0</td>\n      <td>119482</td>\n      <td>12.0</td>\n      <td>1</td>\n      <td>2</td>\n      <td>4</td>\n      <td>5</td>\n      <td>5221.0</td>\n    </tr>\n  </tbody>\n</table>\n<p>133744 rows × 17 columns</p>\n</div>"
          },
          "metadata": {},
          "execution_count": 108
        }
      ],
      "source": [
        "to_pred1 = to_pred.iloc[0:,0:]\n",
        "to_pred1"
      ]
    },
    {
      "cell_type": "code",
      "execution_count": 109,
      "metadata": {},
      "outputs": [],
      "source": [
        "to_pred1.drop(['0','1','3'], 1, inplace=True)"
      ]
    },
    {
      "cell_type": "code",
      "execution_count": 110,
      "metadata": {},
      "outputs": [
        {
          "output_type": "execute_result",
          "data": {
            "text/plain": "(133744, 14)"
          },
          "metadata": {},
          "execution_count": 110
        }
      ],
      "source": [
        "to_pred1.shape"
      ]
    },
    {
      "cell_type": "code",
      "execution_count": 111,
      "metadata": {
        "tags": []
      },
      "outputs": [
        {
          "output_type": "stream",
          "name": "stdout",
          "text": "<class 'pandas.core.frame.DataFrame'>\nRangeIndex: 133744 entries, 0 to 133743\nData columns (total 14 columns):\n #   Column  Non-Null Count   Dtype  \n---  ------  --------------   -----  \n 0   2       133744 non-null  int64  \n 1   4       133744 non-null  int64  \n 2   5       133744 non-null  int64  \n 3   6       133744 non-null  int64  \n 4   7       133744 non-null  int64  \n 5   8       133744 non-null  int64  \n 6   9       133744 non-null  float64\n 7   10      133744 non-null  int64  \n 8   11      133744 non-null  float64\n 9   12      133744 non-null  int64  \n 10  13      133744 non-null  int64  \n 11  14      133744 non-null  int64  \n 12  15      133744 non-null  int64  \n 13  16      133744 non-null  float64\ndtypes: float64(3), int64(11)\nmemory usage: 14.3 MB\n"
        }
      ],
      "source": [
        "to_pred1.info()"
      ]
    },
    {
      "cell_type": "code",
      "execution_count": 112,
      "metadata": {},
      "outputs": [
        {
          "output_type": "execute_result",
          "data": {
            "text/plain": "        9  11    16\n0       2   8  4778\n1       2  15  5734\n2       4   4  5064\n3       2   9  3254\n4       1   8  4639\n...    ..  ..   ...\n133739  3  25  5089\n133740  2   8  6713\n133741  3   5  5326\n133742  2   2  7072\n133743  2  12  5221\n\n[133744 rows x 3 columns]",
            "text/html": "<div>\n<style scoped>\n    .dataframe tbody tr th:only-of-type {\n        vertical-align: middle;\n    }\n\n    .dataframe tbody tr th {\n        vertical-align: top;\n    }\n\n    .dataframe thead th {\n        text-align: right;\n    }\n</style>\n<table border=\"1\" class=\"dataframe\">\n  <thead>\n    <tr style=\"text-align: right;\">\n      <th></th>\n      <th>9</th>\n      <th>11</th>\n      <th>16</th>\n    </tr>\n  </thead>\n  <tbody>\n    <tr>\n      <th>0</th>\n      <td>2</td>\n      <td>8</td>\n      <td>4778</td>\n    </tr>\n    <tr>\n      <th>1</th>\n      <td>2</td>\n      <td>15</td>\n      <td>5734</td>\n    </tr>\n    <tr>\n      <th>2</th>\n      <td>4</td>\n      <td>4</td>\n      <td>5064</td>\n    </tr>\n    <tr>\n      <th>3</th>\n      <td>2</td>\n      <td>9</td>\n      <td>3254</td>\n    </tr>\n    <tr>\n      <th>4</th>\n      <td>1</td>\n      <td>8</td>\n      <td>4639</td>\n    </tr>\n    <tr>\n      <th>...</th>\n      <td>...</td>\n      <td>...</td>\n      <td>...</td>\n    </tr>\n    <tr>\n      <th>133739</th>\n      <td>3</td>\n      <td>25</td>\n      <td>5089</td>\n    </tr>\n    <tr>\n      <th>133740</th>\n      <td>2</td>\n      <td>8</td>\n      <td>6713</td>\n    </tr>\n    <tr>\n      <th>133741</th>\n      <td>3</td>\n      <td>5</td>\n      <td>5326</td>\n    </tr>\n    <tr>\n      <th>133742</th>\n      <td>2</td>\n      <td>2</td>\n      <td>7072</td>\n    </tr>\n    <tr>\n      <th>133743</th>\n      <td>2</td>\n      <td>12</td>\n      <td>5221</td>\n    </tr>\n  </tbody>\n</table>\n<p>133744 rows × 3 columns</p>\n</div>"
          },
          "metadata": {},
          "execution_count": 112
        }
      ],
      "source": [
        "to_pred1[['9','11','16']].astype(int)"
      ]
    },
    {
      "cell_type": "code",
      "metadata": {
        "id": "JfImbJBfE1JA",
        "colab_type": "code",
        "colab": {},
        "outputId": "4d87ea20-3abc-4739-b133-5f2a4efbd0be"
      },
      "source": [
        "predict_to_pred = model.predict(to_pred1)\n",
        "predict_to_pred"
      ],
      "execution_count": 115,
      "outputs": [
        {
          "output_type": "execute_result",
          "data": {
            "text/plain": "array([2, 2, 2, ..., 2, 2, 2])"
          },
          "metadata": {},
          "execution_count": 115
        }
      ]
    },
    {
      "cell_type": "code",
      "metadata": {
        "id": "LIe7VK1YE1JC",
        "colab_type": "code",
        "colab": {},
        "outputId": "85831006-cde4-41b1-caab-3105311c8456"
      },
      "source": [
        "submission = le.inverse_transform(predict_to_pred.astype(int))\n",
        "submission"
      ],
      "execution_count": 116,
      "outputs": [
        {
          "output_type": "execute_result",
          "data": {
            "text/plain": "array(['21-30', '21-30', '21-30', ..., '21-30', '21-30', '21-30'],\n      dtype=object)"
          },
          "metadata": {},
          "execution_count": 116
        }
      ]
    },
    {
      "cell_type": "code",
      "metadata": {
        "id": "7lZc705sE1JF",
        "colab_type": "code",
        "colab": {}
      },
      "source": [
        "#list(le.classes_)"
      ],
      "execution_count": null,
      "outputs": []
    },
    {
      "cell_type": "code",
      "metadata": {
        "id": "aynneM1EE1JJ",
        "colab_type": "code",
        "colab": {},
        "outputId": "7bfb07df-a3a4-4508-faf8-5d20502e0cb2"
      },
      "source": [
        "'''\n",
        "le.transform(['0-10',\n",
        " '11-20',\n",
        " '21-30',\n",
        " '31-40',\n",
        " '41-50',\n",
        " '51-60',\n",
        " '61-70',\n",
        " '71-80',\n",
        " '81-90',\n",
        " '91-100'])\n",
        "'''"
      ],
      "execution_count": null,
      "outputs": [
        {
          "output_type": "execute_result",
          "data": {
            "text/plain": [
              "\"\\nle.transform(['0-10',\\n '11-20',\\n '21-30',\\n '31-40',\\n '41-50',\\n '51-60',\\n '61-70',\\n '71-80',\\n '81-90',\\n '91-100'])\\n\""
            ]
          },
          "metadata": {
            "tags": []
          },
          "execution_count": 51
        }
      ]
    },
    {
      "cell_type": "code",
      "metadata": {
        "id": "WYyZVOWaE1JO",
        "colab_type": "code",
        "colab": {}
      },
      "source": [
        "#list(le.inverse_transform([0, 1, 2, 3, 4, 5, 6, 7, 8, 9]))"
      ],
      "execution_count": null,
      "outputs": []
    },
    {
      "cell_type": "code",
      "metadata": {
        "id": "b7qu9mbRE1JS",
        "colab_type": "code",
        "colab": {}
      },
      "source": [
        "predictions_submit = model.predict(to_pred1)\n",
        "predictions_submit"
      ],
      "execution_count": 119,
      "outputs": [
        {
          "output_type": "execute_result",
          "data": {
            "text/plain": "array([2, 2, 2, ..., 2, 2, 2])"
          },
          "metadata": {},
          "execution_count": 119
        }
      ]
    },
    {
      "cell_type": "code",
      "metadata": {
        "id": "tcBi3hxDE1JU",
        "colab_type": "code",
        "colab": {}
      },
      "source": [
        "#predictions_submit.shape"
      ],
      "execution_count": null,
      "outputs": []
    },
    {
      "cell_type": "code",
      "metadata": {
        "id": "YPghtG2WE1JZ",
        "colab_type": "code",
        "colab": {},
        "outputId": "b2d70559-730a-4e22-8145-60fc0184276e"
      },
      "source": [
        "'''\n",
        "for i in predictions_submit[['4','6', '7', '8', '12',\n",
        "       '13', '15']]:\n",
        "    le = preprocessing.LabelEncoder()\n",
        "# Converting string labels into numbers.\n",
        "    predictions_submit[i] = le.inverse_transform(predictions_submit[i])\n",
        "# Sunny: 2, Overcast: 0, Rainy:1\n",
        "    print(predictions_submit[i])\n",
        "'''"
      ],
      "execution_count": null,
      "outputs": [
        {
          "output_type": "execute_result",
          "data": {
            "text/plain": [
              "\"\\nfor i in predictions_submit[['4','6', '7', '8', '12',\\n       '13', '15']]:\\n    le = preprocessing.LabelEncoder()\\n# Converting string labels into numbers.\\n    predictions_submit[i] = le.inverse_transform(predictions_submit[i])\\n# Sunny: 2, Overcast: 0, Rainy:1\\n    print(predictions_submit[i])\\n\""
            ]
          },
          "metadata": {
            "tags": []
          },
          "execution_count": 55
        }
      ]
    },
    {
      "cell_type": "code",
      "execution_count": 120,
      "metadata": {},
      "outputs": [
        {
          "output_type": "execute_result",
          "data": {
            "text/plain": "(133744,)"
          },
          "metadata": {},
          "execution_count": 120
        }
      ],
      "source": [
        "predictions_submit.shape"
      ]
    },
    {
      "cell_type": "code",
      "metadata": {
        "id": "_VcWdk6GE1Jc",
        "colab_type": "code",
        "colab": {}
      },
      "source": [
        "predictions_submit.reshape(-1,1)"
      ],
      "execution_count": 89,
      "outputs": [
        {
          "output_type": "execute_result",
          "data": {
            "text/plain": "array([[2],\n       [2],\n       [2],\n       ...,\n       [2],\n       [2],\n       [2]])"
          },
          "metadata": {},
          "execution_count": 89
        }
      ]
    },
    {
      "cell_type": "code",
      "metadata": {
        "id": "o-IYUCRcE1Jj",
        "colab_type": "code",
        "colab": {},
        "outputId": "659ac42f-14f5-49b1-e07e-a5fba977c30d"
      },
      "source": [
        "submission = pd.DataFrame({\"id\": to_pred[\"0\"], \"days\": submission})\n",
        "submission"
      ],
      "execution_count": 121,
      "outputs": [
        {
          "output_type": "execute_result",
          "data": {
            "text/plain": "            id   days\n0       314114  21-30\n1       208989  21-30\n2       305872  21-30\n3       266099  21-30\n4        13228  21-30\n...        ...    ...\n133739  318155  21-30\n133740  144850  21-30\n133741  180676  21-30\n133742   39933  21-30\n133743  116673  21-30\n\n[133744 rows x 2 columns]",
            "text/html": "<div>\n<style scoped>\n    .dataframe tbody tr th:only-of-type {\n        vertical-align: middle;\n    }\n\n    .dataframe tbody tr th {\n        vertical-align: top;\n    }\n\n    .dataframe thead th {\n        text-align: right;\n    }\n</style>\n<table border=\"1\" class=\"dataframe\">\n  <thead>\n    <tr style=\"text-align: right;\">\n      <th></th>\n      <th>id</th>\n      <th>days</th>\n    </tr>\n  </thead>\n  <tbody>\n    <tr>\n      <th>0</th>\n      <td>314114</td>\n      <td>21-30</td>\n    </tr>\n    <tr>\n      <th>1</th>\n      <td>208989</td>\n      <td>21-30</td>\n    </tr>\n    <tr>\n      <th>2</th>\n      <td>305872</td>\n      <td>21-30</td>\n    </tr>\n    <tr>\n      <th>3</th>\n      <td>266099</td>\n      <td>21-30</td>\n    </tr>\n    <tr>\n      <th>4</th>\n      <td>13228</td>\n      <td>21-30</td>\n    </tr>\n    <tr>\n      <th>...</th>\n      <td>...</td>\n      <td>...</td>\n    </tr>\n    <tr>\n      <th>133739</th>\n      <td>318155</td>\n      <td>21-30</td>\n    </tr>\n    <tr>\n      <th>133740</th>\n      <td>144850</td>\n      <td>21-30</td>\n    </tr>\n    <tr>\n      <th>133741</th>\n      <td>180676</td>\n      <td>21-30</td>\n    </tr>\n    <tr>\n      <th>133742</th>\n      <td>39933</td>\n      <td>21-30</td>\n    </tr>\n    <tr>\n      <th>133743</th>\n      <td>116673</td>\n      <td>21-30</td>\n    </tr>\n  </tbody>\n</table>\n<p>133744 rows × 2 columns</p>\n</div>"
          },
          "metadata": {},
          "execution_count": 121
        }
      ]
    },
    {
      "cell_type": "code",
      "execution_count": 123,
      "metadata": {},
      "outputs": [
        {
          "output_type": "execute_result",
          "data": {
            "text/plain": "(133744, 2)"
          },
          "metadata": {},
          "execution_count": 123
        }
      ],
      "source": [
        "submission.shape"
      ]
    },
    {
      "cell_type": "code",
      "metadata": {
        "id": "0pVstyOWE1Jn",
        "colab_type": "code",
        "colab": {}
      },
      "source": [
        "sample = pd.read_csv('/Users/rochi/Desktop/TestFolder/DataScienceBootCampMIO/ProjectsDS/how-long-would-you-stay/sample_submission.csv')"
      ],
      "execution_count": 124,
      "outputs": []
    },
    {
      "cell_type": "code",
      "metadata": {
        "id": "1TUaYdSXE1Jp",
        "colab_type": "code",
        "colab": {},
        "outputId": "2790f236-3ae0-47b7-f867-b605ba58de14"
      },
      "source": [
        "sample.shape"
      ],
      "execution_count": 125,
      "outputs": [
        {
          "output_type": "execute_result",
          "data": {
            "text/plain": "(133744, 2)"
          },
          "metadata": {},
          "execution_count": 125
        }
      ]
    },
    {
      "cell_type": "code",
      "metadata": {
        "tags": [],
        "id": "vPMJggRoE1Jt",
        "colab_type": "code",
        "colab": {},
        "outputId": "5348f53a-6471-4134-9d4f-93a1f677e098"
      },
      "source": [
        "if submission.shape == sample.shape:\n",
        "    if submission.columns.all() == sample.columns.all():\n",
        "        if submission.id.all() == sample.id.all():\n",
        "            print(\"you're ready to submit!\")\n",
        "            submission.to_csv(\"to_submit.csv\", index = False)"
      ],
      "execution_count": 126,
      "outputs": [
        {
          "output_type": "stream",
          "name": "stdout",
          "text": "you're ready to submit!\n"
        }
      ]
    },
    {
      "cell_type": "code",
      "metadata": {
        "id": "EJSQsDeUE1Jx",
        "colab_type": "code",
        "colab": {}
      },
      "source": [
        ""
      ],
      "execution_count": null,
      "outputs": []
    }
  ]
}