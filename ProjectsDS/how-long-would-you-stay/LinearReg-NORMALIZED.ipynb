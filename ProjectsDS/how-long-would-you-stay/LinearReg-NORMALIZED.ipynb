{
 "metadata": {
  "language_info": {
   "codemirror_mode": {
    "name": "ipython",
    "version": 3
   },
   "file_extension": ".py",
   "mimetype": "text/x-python",
   "name": "python",
   "nbconvert_exporter": "python",
   "pygments_lexer": "ipython3",
   "version": "3.8.3-final"
  },
  "orig_nbformat": 2,
  "kernelspec": {
   "name": "python_defaultSpec_1599996216456",
   "display_name": "Python 3.8.3 64-bit"
  }
 },
 "nbformat": 4,
 "nbformat_minor": 2,
 "cells": [
  {
   "cell_type": "markdown",
   "metadata": {},
   "source": [
    "columns_meaning.csv: this file will help you to understand your data\n",
    "\n",
    "sample_submission.csv: your submission should be something like this, same columns, same shape, same id, differents days 💪\n",
    "\n",
    "train_set.csv: this is the bit you'll work with in order to get the best model\n",
    "\n",
    "test_set.csv: use it ONLY to make the prediction"
   ]
  },
  {
   "cell_type": "code",
   "execution_count": 1,
   "metadata": {},
   "outputs": [],
   "source": [
    "import pandas as pd\n",
    "import numpy as np\n",
    "from sklearn import linear_model\n",
    "# la otra forma, pero lo mismo: from sklearn.linear_model import LogisticRegression\n",
    "from sklearn.model_selection import train_test_split\n",
    "\n",
    "import warnings\n",
    "warnings.filterwarnings('ignore')"
   ]
  },
  {
   "cell_type": "code",
   "execution_count": 2,
   "metadata": {},
   "outputs": [],
   "source": [
    "df = pd.read_csv(\"/Users/rochi/Desktop/TestFolder/DataScienceBootCampMIO/ProjectsDS/how-long-would-you-stay/train_set.csv\")"
   ]
  },
  {
   "cell_type": "code",
   "execution_count": 3,
   "metadata": {},
   "outputs": [
    {
     "output_type": "execute_result",
     "data": {
      "text/plain": "            0   1  2   3  4  5           6  7  8    9      10    11  \\\n0      161528   6  a   6  X  2  gynecology  R  F  4.0   45810   2.0   \n1      159472  23  a   6  X  4  gynecology  Q  F  2.0  128565  15.0   \n2      309765   2  c   5  Z  2  anesthesia  S  F  3.0   46565   5.0   \n3      279614  32  f   9  Y  3  gynecology  S  B  4.0  124546   6.0   \n4      147791  14  a   1  X  3  gynecology  S  E  2.0   22729   8.0   \n...       ...  .. ..  .. .. ..         ... .. ..  ...     ...   ...   \n99995  237869  12  a   9  Y  3  gynecology  R  B  3.0   82914   3.0   \n99996  254763  28  b  11  X  2  gynecology  R  F  2.0   40026   5.0   \n99997   69788   6  a   6  X  3  gynecology  Q  F  3.0   92346   2.0   \n99998  204442  32  f   9  Y  2  gynecology  S  B  4.0  113798  15.0   \n99999   69647  25  e   1  X  3  gynecology  Q  E  2.0  109237   8.0   \n\n              12        13  14     15      16                  17  \n0         Urgent  Moderate   2  21-30  2817.0                0-10  \n1         Trauma  Moderate   4  51-60  4498.0               21-30  \n2         Urgent  Moderate   2  71-80  4573.0               11-20  \n3      Emergency  Moderate   4  11-20  7202.0               51-60  \n4         Urgent  Moderate   2  51-60  3398.0               51-60  \n...          ...       ...  ..    ...     ...                 ...  \n99995  Emergency  Moderate   6  51-60  3966.0  More than 100 Days  \n99996     Urgent  Moderate   3  21-30  4005.0               51-60  \n99997     Trauma     Minor   2  31-40  5215.0               31-40  \n99998     Trauma  Moderate   3  41-50  5092.0               11-20  \n99999  Emergency  Moderate   2  41-50  3390.0               41-50  \n\n[100000 rows x 18 columns]",
      "text/html": "<div>\n<style scoped>\n    .dataframe tbody tr th:only-of-type {\n        vertical-align: middle;\n    }\n\n    .dataframe tbody tr th {\n        vertical-align: top;\n    }\n\n    .dataframe thead th {\n        text-align: right;\n    }\n</style>\n<table border=\"1\" class=\"dataframe\">\n  <thead>\n    <tr style=\"text-align: right;\">\n      <th></th>\n      <th>0</th>\n      <th>1</th>\n      <th>2</th>\n      <th>3</th>\n      <th>4</th>\n      <th>5</th>\n      <th>6</th>\n      <th>7</th>\n      <th>8</th>\n      <th>9</th>\n      <th>10</th>\n      <th>11</th>\n      <th>12</th>\n      <th>13</th>\n      <th>14</th>\n      <th>15</th>\n      <th>16</th>\n      <th>17</th>\n    </tr>\n  </thead>\n  <tbody>\n    <tr>\n      <th>0</th>\n      <td>161528</td>\n      <td>6</td>\n      <td>a</td>\n      <td>6</td>\n      <td>X</td>\n      <td>2</td>\n      <td>gynecology</td>\n      <td>R</td>\n      <td>F</td>\n      <td>4.0</td>\n      <td>45810</td>\n      <td>2.0</td>\n      <td>Urgent</td>\n      <td>Moderate</td>\n      <td>2</td>\n      <td>21-30</td>\n      <td>2817.0</td>\n      <td>0-10</td>\n    </tr>\n    <tr>\n      <th>1</th>\n      <td>159472</td>\n      <td>23</td>\n      <td>a</td>\n      <td>6</td>\n      <td>X</td>\n      <td>4</td>\n      <td>gynecology</td>\n      <td>Q</td>\n      <td>F</td>\n      <td>2.0</td>\n      <td>128565</td>\n      <td>15.0</td>\n      <td>Trauma</td>\n      <td>Moderate</td>\n      <td>4</td>\n      <td>51-60</td>\n      <td>4498.0</td>\n      <td>21-30</td>\n    </tr>\n    <tr>\n      <th>2</th>\n      <td>309765</td>\n      <td>2</td>\n      <td>c</td>\n      <td>5</td>\n      <td>Z</td>\n      <td>2</td>\n      <td>anesthesia</td>\n      <td>S</td>\n      <td>F</td>\n      <td>3.0</td>\n      <td>46565</td>\n      <td>5.0</td>\n      <td>Urgent</td>\n      <td>Moderate</td>\n      <td>2</td>\n      <td>71-80</td>\n      <td>4573.0</td>\n      <td>11-20</td>\n    </tr>\n    <tr>\n      <th>3</th>\n      <td>279614</td>\n      <td>32</td>\n      <td>f</td>\n      <td>9</td>\n      <td>Y</td>\n      <td>3</td>\n      <td>gynecology</td>\n      <td>S</td>\n      <td>B</td>\n      <td>4.0</td>\n      <td>124546</td>\n      <td>6.0</td>\n      <td>Emergency</td>\n      <td>Moderate</td>\n      <td>4</td>\n      <td>11-20</td>\n      <td>7202.0</td>\n      <td>51-60</td>\n    </tr>\n    <tr>\n      <th>4</th>\n      <td>147791</td>\n      <td>14</td>\n      <td>a</td>\n      <td>1</td>\n      <td>X</td>\n      <td>3</td>\n      <td>gynecology</td>\n      <td>S</td>\n      <td>E</td>\n      <td>2.0</td>\n      <td>22729</td>\n      <td>8.0</td>\n      <td>Urgent</td>\n      <td>Moderate</td>\n      <td>2</td>\n      <td>51-60</td>\n      <td>3398.0</td>\n      <td>51-60</td>\n    </tr>\n    <tr>\n      <th>...</th>\n      <td>...</td>\n      <td>...</td>\n      <td>...</td>\n      <td>...</td>\n      <td>...</td>\n      <td>...</td>\n      <td>...</td>\n      <td>...</td>\n      <td>...</td>\n      <td>...</td>\n      <td>...</td>\n      <td>...</td>\n      <td>...</td>\n      <td>...</td>\n      <td>...</td>\n      <td>...</td>\n      <td>...</td>\n      <td>...</td>\n    </tr>\n    <tr>\n      <th>99995</th>\n      <td>237869</td>\n      <td>12</td>\n      <td>a</td>\n      <td>9</td>\n      <td>Y</td>\n      <td>3</td>\n      <td>gynecology</td>\n      <td>R</td>\n      <td>B</td>\n      <td>3.0</td>\n      <td>82914</td>\n      <td>3.0</td>\n      <td>Emergency</td>\n      <td>Moderate</td>\n      <td>6</td>\n      <td>51-60</td>\n      <td>3966.0</td>\n      <td>More than 100 Days</td>\n    </tr>\n    <tr>\n      <th>99996</th>\n      <td>254763</td>\n      <td>28</td>\n      <td>b</td>\n      <td>11</td>\n      <td>X</td>\n      <td>2</td>\n      <td>gynecology</td>\n      <td>R</td>\n      <td>F</td>\n      <td>2.0</td>\n      <td>40026</td>\n      <td>5.0</td>\n      <td>Urgent</td>\n      <td>Moderate</td>\n      <td>3</td>\n      <td>21-30</td>\n      <td>4005.0</td>\n      <td>51-60</td>\n    </tr>\n    <tr>\n      <th>99997</th>\n      <td>69788</td>\n      <td>6</td>\n      <td>a</td>\n      <td>6</td>\n      <td>X</td>\n      <td>3</td>\n      <td>gynecology</td>\n      <td>Q</td>\n      <td>F</td>\n      <td>3.0</td>\n      <td>92346</td>\n      <td>2.0</td>\n      <td>Trauma</td>\n      <td>Minor</td>\n      <td>2</td>\n      <td>31-40</td>\n      <td>5215.0</td>\n      <td>31-40</td>\n    </tr>\n    <tr>\n      <th>99998</th>\n      <td>204442</td>\n      <td>32</td>\n      <td>f</td>\n      <td>9</td>\n      <td>Y</td>\n      <td>2</td>\n      <td>gynecology</td>\n      <td>S</td>\n      <td>B</td>\n      <td>4.0</td>\n      <td>113798</td>\n      <td>15.0</td>\n      <td>Trauma</td>\n      <td>Moderate</td>\n      <td>3</td>\n      <td>41-50</td>\n      <td>5092.0</td>\n      <td>11-20</td>\n    </tr>\n    <tr>\n      <th>99999</th>\n      <td>69647</td>\n      <td>25</td>\n      <td>e</td>\n      <td>1</td>\n      <td>X</td>\n      <td>3</td>\n      <td>gynecology</td>\n      <td>Q</td>\n      <td>E</td>\n      <td>2.0</td>\n      <td>109237</td>\n      <td>8.0</td>\n      <td>Emergency</td>\n      <td>Moderate</td>\n      <td>2</td>\n      <td>41-50</td>\n      <td>3390.0</td>\n      <td>41-50</td>\n    </tr>\n  </tbody>\n</table>\n<p>100000 rows × 18 columns</p>\n</div>"
     },
     "metadata": {},
     "execution_count": 3
    }
   ],
   "source": [
    "df"
   ]
  },
  {
   "cell_type": "code",
   "execution_count": 4,
   "metadata": {},
   "outputs": [
    {
     "output_type": "execute_result",
     "data": {
      "text/plain": "Index(['0', '1', '2', '3', '4', '5', '6', '7', '8', '9', '10', '11', '12',\n       '13', '14', '15', '16', '17'],\n      dtype='object')"
     },
     "metadata": {},
     "execution_count": 4
    }
   ],
   "source": [
    "df.columns"
   ]
  },
  {
   "cell_type": "code",
   "execution_count": 5,
   "metadata": {
    "tags": []
   },
   "outputs": [
    {
     "output_type": "stream",
     "name": "stdout",
     "text": "<class 'pandas.core.frame.DataFrame'>\nRangeIndex: 100000 entries, 0 to 99999\nData columns (total 18 columns):\n #   Column  Non-Null Count   Dtype  \n---  ------  --------------   -----  \n 0   0       100000 non-null  int64  \n 1   1       100000 non-null  int64  \n 2   2       100000 non-null  object \n 3   3       100000 non-null  int64  \n 4   4       100000 non-null  object \n 5   5       100000 non-null  int64  \n 6   6       100000 non-null  object \n 7   7       100000 non-null  object \n 8   8       100000 non-null  object \n 9   9       99967 non-null   float64\n 10  10      100000 non-null  int64  \n 11  11      98517 non-null   float64\n 12  12      100000 non-null  object \n 13  13      100000 non-null  object \n 14  14      100000 non-null  int64  \n 15  15      100000 non-null  object \n 16  16      100000 non-null  float64\n 17  17      100000 non-null  object \ndtypes: float64(3), int64(6), object(9)\nmemory usage: 13.7+ MB\n"
    }
   ],
   "source": [
    "df.info()"
   ]
  },
  {
   "cell_type": "code",
   "execution_count": 6,
   "metadata": {},
   "outputs": [
    {
     "output_type": "execute_result",
     "data": {
      "text/plain": "True"
     },
     "metadata": {},
     "execution_count": 6
    }
   ],
   "source": [
    "df.isnull().values.any()"
   ]
  },
  {
   "cell_type": "code",
   "execution_count": 7,
   "metadata": {},
   "outputs": [
    {
     "output_type": "execute_result",
     "data": {
      "text/plain": "0        0\n1        0\n2        0\n3        0\n4        0\n5        0\n6        0\n7        0\n8        0\n9       33\n10       0\n11    1483\n12       0\n13       0\n14       0\n15       0\n16       0\n17       0\ndtype: int64"
     },
     "metadata": {},
     "execution_count": 7
    }
   ],
   "source": [
    "df.isnull().sum()"
   ]
  },
  {
   "cell_type": "code",
   "execution_count": 8,
   "metadata": {},
   "outputs": [
    {
     "output_type": "execute_result",
     "data": {
      "text/plain": "            0   1  2   3  4  5           6  7  8    9      10    11  \\\n0      161528   6  a   6  X  2  gynecology  R  F  4.0   45810   2.0   \n1      159472  23  a   6  X  4  gynecology  Q  F  2.0  128565  15.0   \n2      309765   2  c   5  Z  2  anesthesia  S  F  3.0   46565   5.0   \n3      279614  32  f   9  Y  3  gynecology  S  B  4.0  124546   6.0   \n4      147791  14  a   1  X  3  gynecology  S  E  2.0   22729   8.0   \n...       ...  .. ..  .. .. ..         ... .. ..  ...     ...   ...   \n99995  237869  12  a   9  Y  3  gynecology  R  B  3.0   82914   3.0   \n99996  254763  28  b  11  X  2  gynecology  R  F  2.0   40026   5.0   \n99997   69788   6  a   6  X  3  gynecology  Q  F  3.0   92346   2.0   \n99998  204442  32  f   9  Y  2  gynecology  S  B  4.0  113798  15.0   \n99999   69647  25  e   1  X  3  gynecology  Q  E  2.0  109237   8.0   \n\n              12        13  14     15      16                  17  \n0         Urgent  Moderate   2  21-30  2817.0                0-10  \n1         Trauma  Moderate   4  51-60  4498.0               21-30  \n2         Urgent  Moderate   2  71-80  4573.0               11-20  \n3      Emergency  Moderate   4  11-20  7202.0               51-60  \n4         Urgent  Moderate   2  51-60  3398.0               51-60  \n...          ...       ...  ..    ...     ...                 ...  \n99995  Emergency  Moderate   6  51-60  3966.0  More than 100 Days  \n99996     Urgent  Moderate   3  21-30  4005.0               51-60  \n99997     Trauma     Minor   2  31-40  5215.0               31-40  \n99998     Trauma  Moderate   3  41-50  5092.0               11-20  \n99999  Emergency  Moderate   2  41-50  3390.0               41-50  \n\n[100000 rows x 18 columns]",
      "text/html": "<div>\n<style scoped>\n    .dataframe tbody tr th:only-of-type {\n        vertical-align: middle;\n    }\n\n    .dataframe tbody tr th {\n        vertical-align: top;\n    }\n\n    .dataframe thead th {\n        text-align: right;\n    }\n</style>\n<table border=\"1\" class=\"dataframe\">\n  <thead>\n    <tr style=\"text-align: right;\">\n      <th></th>\n      <th>0</th>\n      <th>1</th>\n      <th>2</th>\n      <th>3</th>\n      <th>4</th>\n      <th>5</th>\n      <th>6</th>\n      <th>7</th>\n      <th>8</th>\n      <th>9</th>\n      <th>10</th>\n      <th>11</th>\n      <th>12</th>\n      <th>13</th>\n      <th>14</th>\n      <th>15</th>\n      <th>16</th>\n      <th>17</th>\n    </tr>\n  </thead>\n  <tbody>\n    <tr>\n      <th>0</th>\n      <td>161528</td>\n      <td>6</td>\n      <td>a</td>\n      <td>6</td>\n      <td>X</td>\n      <td>2</td>\n      <td>gynecology</td>\n      <td>R</td>\n      <td>F</td>\n      <td>4.0</td>\n      <td>45810</td>\n      <td>2.0</td>\n      <td>Urgent</td>\n      <td>Moderate</td>\n      <td>2</td>\n      <td>21-30</td>\n      <td>2817.0</td>\n      <td>0-10</td>\n    </tr>\n    <tr>\n      <th>1</th>\n      <td>159472</td>\n      <td>23</td>\n      <td>a</td>\n      <td>6</td>\n      <td>X</td>\n      <td>4</td>\n      <td>gynecology</td>\n      <td>Q</td>\n      <td>F</td>\n      <td>2.0</td>\n      <td>128565</td>\n      <td>15.0</td>\n      <td>Trauma</td>\n      <td>Moderate</td>\n      <td>4</td>\n      <td>51-60</td>\n      <td>4498.0</td>\n      <td>21-30</td>\n    </tr>\n    <tr>\n      <th>2</th>\n      <td>309765</td>\n      <td>2</td>\n      <td>c</td>\n      <td>5</td>\n      <td>Z</td>\n      <td>2</td>\n      <td>anesthesia</td>\n      <td>S</td>\n      <td>F</td>\n      <td>3.0</td>\n      <td>46565</td>\n      <td>5.0</td>\n      <td>Urgent</td>\n      <td>Moderate</td>\n      <td>2</td>\n      <td>71-80</td>\n      <td>4573.0</td>\n      <td>11-20</td>\n    </tr>\n    <tr>\n      <th>3</th>\n      <td>279614</td>\n      <td>32</td>\n      <td>f</td>\n      <td>9</td>\n      <td>Y</td>\n      <td>3</td>\n      <td>gynecology</td>\n      <td>S</td>\n      <td>B</td>\n      <td>4.0</td>\n      <td>124546</td>\n      <td>6.0</td>\n      <td>Emergency</td>\n      <td>Moderate</td>\n      <td>4</td>\n      <td>11-20</td>\n      <td>7202.0</td>\n      <td>51-60</td>\n    </tr>\n    <tr>\n      <th>4</th>\n      <td>147791</td>\n      <td>14</td>\n      <td>a</td>\n      <td>1</td>\n      <td>X</td>\n      <td>3</td>\n      <td>gynecology</td>\n      <td>S</td>\n      <td>E</td>\n      <td>2.0</td>\n      <td>22729</td>\n      <td>8.0</td>\n      <td>Urgent</td>\n      <td>Moderate</td>\n      <td>2</td>\n      <td>51-60</td>\n      <td>3398.0</td>\n      <td>51-60</td>\n    </tr>\n    <tr>\n      <th>...</th>\n      <td>...</td>\n      <td>...</td>\n      <td>...</td>\n      <td>...</td>\n      <td>...</td>\n      <td>...</td>\n      <td>...</td>\n      <td>...</td>\n      <td>...</td>\n      <td>...</td>\n      <td>...</td>\n      <td>...</td>\n      <td>...</td>\n      <td>...</td>\n      <td>...</td>\n      <td>...</td>\n      <td>...</td>\n      <td>...</td>\n    </tr>\n    <tr>\n      <th>99995</th>\n      <td>237869</td>\n      <td>12</td>\n      <td>a</td>\n      <td>9</td>\n      <td>Y</td>\n      <td>3</td>\n      <td>gynecology</td>\n      <td>R</td>\n      <td>B</td>\n      <td>3.0</td>\n      <td>82914</td>\n      <td>3.0</td>\n      <td>Emergency</td>\n      <td>Moderate</td>\n      <td>6</td>\n      <td>51-60</td>\n      <td>3966.0</td>\n      <td>More than 100 Days</td>\n    </tr>\n    <tr>\n      <th>99996</th>\n      <td>254763</td>\n      <td>28</td>\n      <td>b</td>\n      <td>11</td>\n      <td>X</td>\n      <td>2</td>\n      <td>gynecology</td>\n      <td>R</td>\n      <td>F</td>\n      <td>2.0</td>\n      <td>40026</td>\n      <td>5.0</td>\n      <td>Urgent</td>\n      <td>Moderate</td>\n      <td>3</td>\n      <td>21-30</td>\n      <td>4005.0</td>\n      <td>51-60</td>\n    </tr>\n    <tr>\n      <th>99997</th>\n      <td>69788</td>\n      <td>6</td>\n      <td>a</td>\n      <td>6</td>\n      <td>X</td>\n      <td>3</td>\n      <td>gynecology</td>\n      <td>Q</td>\n      <td>F</td>\n      <td>3.0</td>\n      <td>92346</td>\n      <td>2.0</td>\n      <td>Trauma</td>\n      <td>Minor</td>\n      <td>2</td>\n      <td>31-40</td>\n      <td>5215.0</td>\n      <td>31-40</td>\n    </tr>\n    <tr>\n      <th>99998</th>\n      <td>204442</td>\n      <td>32</td>\n      <td>f</td>\n      <td>9</td>\n      <td>Y</td>\n      <td>2</td>\n      <td>gynecology</td>\n      <td>S</td>\n      <td>B</td>\n      <td>4.0</td>\n      <td>113798</td>\n      <td>15.0</td>\n      <td>Trauma</td>\n      <td>Moderate</td>\n      <td>3</td>\n      <td>41-50</td>\n      <td>5092.0</td>\n      <td>11-20</td>\n    </tr>\n    <tr>\n      <th>99999</th>\n      <td>69647</td>\n      <td>25</td>\n      <td>e</td>\n      <td>1</td>\n      <td>X</td>\n      <td>3</td>\n      <td>gynecology</td>\n      <td>Q</td>\n      <td>E</td>\n      <td>2.0</td>\n      <td>109237</td>\n      <td>8.0</td>\n      <td>Emergency</td>\n      <td>Moderate</td>\n      <td>2</td>\n      <td>41-50</td>\n      <td>3390.0</td>\n      <td>41-50</td>\n    </tr>\n  </tbody>\n</table>\n<p>100000 rows × 18 columns</p>\n</div>"
     },
     "metadata": {},
     "execution_count": 8
    }
   ],
   "source": [
    "df2 = df.fillna(0)\n",
    "df2"
   ]
  },
  {
   "cell_type": "code",
   "execution_count": 9,
   "metadata": {},
   "outputs": [
    {
     "output_type": "execute_result",
     "data": {
      "text/plain": "           0      1      2      3      4      5      6      7      8      9  \\\n0      False  False  False  False  False  False  False  False  False  False   \n1      False  False  False  False  False  False  False  False  False  False   \n2      False  False  False  False  False  False  False  False  False  False   \n3      False  False  False  False  False  False  False  False  False  False   \n4      False  False  False  False  False  False  False  False  False  False   \n...      ...    ...    ...    ...    ...    ...    ...    ...    ...    ...   \n99995  False  False  False  False  False  False  False  False  False  False   \n99996  False  False  False  False  False  False  False  False  False  False   \n99997  False  False  False  False  False  False  False  False  False  False   \n99998  False  False  False  False  False  False  False  False  False  False   \n99999  False  False  False  False  False  False  False  False  False  False   \n\n          10     11     12     13     14     15     16     17  \n0      False  False  False  False  False  False  False  False  \n1      False  False  False  False  False  False  False  False  \n2      False  False  False  False  False  False  False  False  \n3      False  False  False  False  False  False  False  False  \n4      False  False  False  False  False  False  False  False  \n...      ...    ...    ...    ...    ...    ...    ...    ...  \n99995  False  False  False  False  False  False  False  False  \n99996  False  False  False  False  False  False  False  False  \n99997  False  False  False  False  False  False  False  False  \n99998  False  False  False  False  False  False  False  False  \n99999  False  False  False  False  False  False  False  False  \n\n[100000 rows x 18 columns]",
      "text/html": "<div>\n<style scoped>\n    .dataframe tbody tr th:only-of-type {\n        vertical-align: middle;\n    }\n\n    .dataframe tbody tr th {\n        vertical-align: top;\n    }\n\n    .dataframe thead th {\n        text-align: right;\n    }\n</style>\n<table border=\"1\" class=\"dataframe\">\n  <thead>\n    <tr style=\"text-align: right;\">\n      <th></th>\n      <th>0</th>\n      <th>1</th>\n      <th>2</th>\n      <th>3</th>\n      <th>4</th>\n      <th>5</th>\n      <th>6</th>\n      <th>7</th>\n      <th>8</th>\n      <th>9</th>\n      <th>10</th>\n      <th>11</th>\n      <th>12</th>\n      <th>13</th>\n      <th>14</th>\n      <th>15</th>\n      <th>16</th>\n      <th>17</th>\n    </tr>\n  </thead>\n  <tbody>\n    <tr>\n      <th>0</th>\n      <td>False</td>\n      <td>False</td>\n      <td>False</td>\n      <td>False</td>\n      <td>False</td>\n      <td>False</td>\n      <td>False</td>\n      <td>False</td>\n      <td>False</td>\n      <td>False</td>\n      <td>False</td>\n      <td>False</td>\n      <td>False</td>\n      <td>False</td>\n      <td>False</td>\n      <td>False</td>\n      <td>False</td>\n      <td>False</td>\n    </tr>\n    <tr>\n      <th>1</th>\n      <td>False</td>\n      <td>False</td>\n      <td>False</td>\n      <td>False</td>\n      <td>False</td>\n      <td>False</td>\n      <td>False</td>\n      <td>False</td>\n      <td>False</td>\n      <td>False</td>\n      <td>False</td>\n      <td>False</td>\n      <td>False</td>\n      <td>False</td>\n      <td>False</td>\n      <td>False</td>\n      <td>False</td>\n      <td>False</td>\n    </tr>\n    <tr>\n      <th>2</th>\n      <td>False</td>\n      <td>False</td>\n      <td>False</td>\n      <td>False</td>\n      <td>False</td>\n      <td>False</td>\n      <td>False</td>\n      <td>False</td>\n      <td>False</td>\n      <td>False</td>\n      <td>False</td>\n      <td>False</td>\n      <td>False</td>\n      <td>False</td>\n      <td>False</td>\n      <td>False</td>\n      <td>False</td>\n      <td>False</td>\n    </tr>\n    <tr>\n      <th>3</th>\n      <td>False</td>\n      <td>False</td>\n      <td>False</td>\n      <td>False</td>\n      <td>False</td>\n      <td>False</td>\n      <td>False</td>\n      <td>False</td>\n      <td>False</td>\n      <td>False</td>\n      <td>False</td>\n      <td>False</td>\n      <td>False</td>\n      <td>False</td>\n      <td>False</td>\n      <td>False</td>\n      <td>False</td>\n      <td>False</td>\n    </tr>\n    <tr>\n      <th>4</th>\n      <td>False</td>\n      <td>False</td>\n      <td>False</td>\n      <td>False</td>\n      <td>False</td>\n      <td>False</td>\n      <td>False</td>\n      <td>False</td>\n      <td>False</td>\n      <td>False</td>\n      <td>False</td>\n      <td>False</td>\n      <td>False</td>\n      <td>False</td>\n      <td>False</td>\n      <td>False</td>\n      <td>False</td>\n      <td>False</td>\n    </tr>\n    <tr>\n      <th>...</th>\n      <td>...</td>\n      <td>...</td>\n      <td>...</td>\n      <td>...</td>\n      <td>...</td>\n      <td>...</td>\n      <td>...</td>\n      <td>...</td>\n      <td>...</td>\n      <td>...</td>\n      <td>...</td>\n      <td>...</td>\n      <td>...</td>\n      <td>...</td>\n      <td>...</td>\n      <td>...</td>\n      <td>...</td>\n      <td>...</td>\n    </tr>\n    <tr>\n      <th>99995</th>\n      <td>False</td>\n      <td>False</td>\n      <td>False</td>\n      <td>False</td>\n      <td>False</td>\n      <td>False</td>\n      <td>False</td>\n      <td>False</td>\n      <td>False</td>\n      <td>False</td>\n      <td>False</td>\n      <td>False</td>\n      <td>False</td>\n      <td>False</td>\n      <td>False</td>\n      <td>False</td>\n      <td>False</td>\n      <td>False</td>\n    </tr>\n    <tr>\n      <th>99996</th>\n      <td>False</td>\n      <td>False</td>\n      <td>False</td>\n      <td>False</td>\n      <td>False</td>\n      <td>False</td>\n      <td>False</td>\n      <td>False</td>\n      <td>False</td>\n      <td>False</td>\n      <td>False</td>\n      <td>False</td>\n      <td>False</td>\n      <td>False</td>\n      <td>False</td>\n      <td>False</td>\n      <td>False</td>\n      <td>False</td>\n    </tr>\n    <tr>\n      <th>99997</th>\n      <td>False</td>\n      <td>False</td>\n      <td>False</td>\n      <td>False</td>\n      <td>False</td>\n      <td>False</td>\n      <td>False</td>\n      <td>False</td>\n      <td>False</td>\n      <td>False</td>\n      <td>False</td>\n      <td>False</td>\n      <td>False</td>\n      <td>False</td>\n      <td>False</td>\n      <td>False</td>\n      <td>False</td>\n      <td>False</td>\n    </tr>\n    <tr>\n      <th>99998</th>\n      <td>False</td>\n      <td>False</td>\n      <td>False</td>\n      <td>False</td>\n      <td>False</td>\n      <td>False</td>\n      <td>False</td>\n      <td>False</td>\n      <td>False</td>\n      <td>False</td>\n      <td>False</td>\n      <td>False</td>\n      <td>False</td>\n      <td>False</td>\n      <td>False</td>\n      <td>False</td>\n      <td>False</td>\n      <td>False</td>\n    </tr>\n    <tr>\n      <th>99999</th>\n      <td>False</td>\n      <td>False</td>\n      <td>False</td>\n      <td>False</td>\n      <td>False</td>\n      <td>False</td>\n      <td>False</td>\n      <td>False</td>\n      <td>False</td>\n      <td>False</td>\n      <td>False</td>\n      <td>False</td>\n      <td>False</td>\n      <td>False</td>\n      <td>False</td>\n      <td>False</td>\n      <td>False</td>\n      <td>False</td>\n    </tr>\n  </tbody>\n</table>\n<p>100000 rows × 18 columns</p>\n</div>"
     },
     "metadata": {},
     "execution_count": 9
    }
   ],
   "source": [
    "df2.isnull()"
   ]
  },
  {
   "cell_type": "code",
   "execution_count": 10,
   "metadata": {},
   "outputs": [],
   "source": [
    "df2.drop(\"0\",1,inplace = True)"
   ]
  },
  {
   "cell_type": "code",
   "execution_count": 11,
   "metadata": {},
   "outputs": [],
   "source": [
    "df2.drop(['1','3'], 1, inplace = True)"
   ]
  },
  {
   "cell_type": "code",
   "execution_count": 12,
   "metadata": {},
   "outputs": [
    {
     "output_type": "execute_result",
     "data": {
      "text/plain": "       2  4  5           6  7  8    9      10    11         12        13  14  \\\n0      a  X  2  gynecology  R  F  4.0   45810   2.0     Urgent  Moderate   2   \n1      a  X  4  gynecology  Q  F  2.0  128565  15.0     Trauma  Moderate   4   \n2      c  Z  2  anesthesia  S  F  3.0   46565   5.0     Urgent  Moderate   2   \n3      f  Y  3  gynecology  S  B  4.0  124546   6.0  Emergency  Moderate   4   \n4      a  X  3  gynecology  S  E  2.0   22729   8.0     Urgent  Moderate   2   \n...   .. .. ..         ... .. ..  ...     ...   ...        ...       ...  ..   \n99995  a  Y  3  gynecology  R  B  3.0   82914   3.0  Emergency  Moderate   6   \n99996  b  X  2  gynecology  R  F  2.0   40026   5.0     Urgent  Moderate   3   \n99997  a  X  3  gynecology  Q  F  3.0   92346   2.0     Trauma     Minor   2   \n99998  f  Y  2  gynecology  S  B  4.0  113798  15.0     Trauma  Moderate   3   \n99999  e  X  3  gynecology  Q  E  2.0  109237   8.0  Emergency  Moderate   2   \n\n          15      16                  17  \n0      21-30  2817.0                0-10  \n1      51-60  4498.0               21-30  \n2      71-80  4573.0               11-20  \n3      11-20  7202.0               51-60  \n4      51-60  3398.0               51-60  \n...      ...     ...                 ...  \n99995  51-60  3966.0  More than 100 Days  \n99996  21-30  4005.0               51-60  \n99997  31-40  5215.0               31-40  \n99998  41-50  5092.0               11-20  \n99999  41-50  3390.0               41-50  \n\n[100000 rows x 15 columns]",
      "text/html": "<div>\n<style scoped>\n    .dataframe tbody tr th:only-of-type {\n        vertical-align: middle;\n    }\n\n    .dataframe tbody tr th {\n        vertical-align: top;\n    }\n\n    .dataframe thead th {\n        text-align: right;\n    }\n</style>\n<table border=\"1\" class=\"dataframe\">\n  <thead>\n    <tr style=\"text-align: right;\">\n      <th></th>\n      <th>2</th>\n      <th>4</th>\n      <th>5</th>\n      <th>6</th>\n      <th>7</th>\n      <th>8</th>\n      <th>9</th>\n      <th>10</th>\n      <th>11</th>\n      <th>12</th>\n      <th>13</th>\n      <th>14</th>\n      <th>15</th>\n      <th>16</th>\n      <th>17</th>\n    </tr>\n  </thead>\n  <tbody>\n    <tr>\n      <th>0</th>\n      <td>a</td>\n      <td>X</td>\n      <td>2</td>\n      <td>gynecology</td>\n      <td>R</td>\n      <td>F</td>\n      <td>4.0</td>\n      <td>45810</td>\n      <td>2.0</td>\n      <td>Urgent</td>\n      <td>Moderate</td>\n      <td>2</td>\n      <td>21-30</td>\n      <td>2817.0</td>\n      <td>0-10</td>\n    </tr>\n    <tr>\n      <th>1</th>\n      <td>a</td>\n      <td>X</td>\n      <td>4</td>\n      <td>gynecology</td>\n      <td>Q</td>\n      <td>F</td>\n      <td>2.0</td>\n      <td>128565</td>\n      <td>15.0</td>\n      <td>Trauma</td>\n      <td>Moderate</td>\n      <td>4</td>\n      <td>51-60</td>\n      <td>4498.0</td>\n      <td>21-30</td>\n    </tr>\n    <tr>\n      <th>2</th>\n      <td>c</td>\n      <td>Z</td>\n      <td>2</td>\n      <td>anesthesia</td>\n      <td>S</td>\n      <td>F</td>\n      <td>3.0</td>\n      <td>46565</td>\n      <td>5.0</td>\n      <td>Urgent</td>\n      <td>Moderate</td>\n      <td>2</td>\n      <td>71-80</td>\n      <td>4573.0</td>\n      <td>11-20</td>\n    </tr>\n    <tr>\n      <th>3</th>\n      <td>f</td>\n      <td>Y</td>\n      <td>3</td>\n      <td>gynecology</td>\n      <td>S</td>\n      <td>B</td>\n      <td>4.0</td>\n      <td>124546</td>\n      <td>6.0</td>\n      <td>Emergency</td>\n      <td>Moderate</td>\n      <td>4</td>\n      <td>11-20</td>\n      <td>7202.0</td>\n      <td>51-60</td>\n    </tr>\n    <tr>\n      <th>4</th>\n      <td>a</td>\n      <td>X</td>\n      <td>3</td>\n      <td>gynecology</td>\n      <td>S</td>\n      <td>E</td>\n      <td>2.0</td>\n      <td>22729</td>\n      <td>8.0</td>\n      <td>Urgent</td>\n      <td>Moderate</td>\n      <td>2</td>\n      <td>51-60</td>\n      <td>3398.0</td>\n      <td>51-60</td>\n    </tr>\n    <tr>\n      <th>...</th>\n      <td>...</td>\n      <td>...</td>\n      <td>...</td>\n      <td>...</td>\n      <td>...</td>\n      <td>...</td>\n      <td>...</td>\n      <td>...</td>\n      <td>...</td>\n      <td>...</td>\n      <td>...</td>\n      <td>...</td>\n      <td>...</td>\n      <td>...</td>\n      <td>...</td>\n    </tr>\n    <tr>\n      <th>99995</th>\n      <td>a</td>\n      <td>Y</td>\n      <td>3</td>\n      <td>gynecology</td>\n      <td>R</td>\n      <td>B</td>\n      <td>3.0</td>\n      <td>82914</td>\n      <td>3.0</td>\n      <td>Emergency</td>\n      <td>Moderate</td>\n      <td>6</td>\n      <td>51-60</td>\n      <td>3966.0</td>\n      <td>More than 100 Days</td>\n    </tr>\n    <tr>\n      <th>99996</th>\n      <td>b</td>\n      <td>X</td>\n      <td>2</td>\n      <td>gynecology</td>\n      <td>R</td>\n      <td>F</td>\n      <td>2.0</td>\n      <td>40026</td>\n      <td>5.0</td>\n      <td>Urgent</td>\n      <td>Moderate</td>\n      <td>3</td>\n      <td>21-30</td>\n      <td>4005.0</td>\n      <td>51-60</td>\n    </tr>\n    <tr>\n      <th>99997</th>\n      <td>a</td>\n      <td>X</td>\n      <td>3</td>\n      <td>gynecology</td>\n      <td>Q</td>\n      <td>F</td>\n      <td>3.0</td>\n      <td>92346</td>\n      <td>2.0</td>\n      <td>Trauma</td>\n      <td>Minor</td>\n      <td>2</td>\n      <td>31-40</td>\n      <td>5215.0</td>\n      <td>31-40</td>\n    </tr>\n    <tr>\n      <th>99998</th>\n      <td>f</td>\n      <td>Y</td>\n      <td>2</td>\n      <td>gynecology</td>\n      <td>S</td>\n      <td>B</td>\n      <td>4.0</td>\n      <td>113798</td>\n      <td>15.0</td>\n      <td>Trauma</td>\n      <td>Moderate</td>\n      <td>3</td>\n      <td>41-50</td>\n      <td>5092.0</td>\n      <td>11-20</td>\n    </tr>\n    <tr>\n      <th>99999</th>\n      <td>e</td>\n      <td>X</td>\n      <td>3</td>\n      <td>gynecology</td>\n      <td>Q</td>\n      <td>E</td>\n      <td>2.0</td>\n      <td>109237</td>\n      <td>8.0</td>\n      <td>Emergency</td>\n      <td>Moderate</td>\n      <td>2</td>\n      <td>41-50</td>\n      <td>3390.0</td>\n      <td>41-50</td>\n    </tr>\n  </tbody>\n</table>\n<p>100000 rows × 15 columns</p>\n</div>"
     },
     "metadata": {},
     "execution_count": 12
    }
   ],
   "source": [
    "df2"
   ]
  },
  {
   "cell_type": "code",
   "execution_count": 13,
   "metadata": {
    "tags": []
   },
   "outputs": [
    {
     "output_type": "stream",
     "name": "stdout",
     "text": "<class 'pandas.core.frame.DataFrame'>\nRangeIndex: 100000 entries, 0 to 99999\nData columns (total 15 columns):\n #   Column  Non-Null Count   Dtype  \n---  ------  --------------   -----  \n 0   2       100000 non-null  object \n 1   4       100000 non-null  object \n 2   5       100000 non-null  int64  \n 3   6       100000 non-null  object \n 4   7       100000 non-null  object \n 5   8       100000 non-null  object \n 6   9       100000 non-null  float64\n 7   10      100000 non-null  int64  \n 8   11      100000 non-null  float64\n 9   12      100000 non-null  object \n 10  13      100000 non-null  object \n 11  14      100000 non-null  int64  \n 12  15      100000 non-null  object \n 13  16      100000 non-null  float64\n 14  17      100000 non-null  object \ndtypes: float64(3), int64(3), object(9)\nmemory usage: 11.4+ MB\n"
    }
   ],
   "source": [
    "df2.info()"
   ]
  },
  {
   "cell_type": "code",
   "execution_count": 14,
   "metadata": {},
   "outputs": [
    {
     "output_type": "execute_result",
     "data": {
      "text/plain": "(100000, 14)"
     },
     "metadata": {},
     "execution_count": 14
    }
   ],
   "source": [
    "X = np.array(df2.iloc[:,0:-1])\n",
    "y = np.array(df2['17'])\n",
    "X.shape"
   ]
  },
  {
   "cell_type": "code",
   "execution_count": 15,
   "metadata": {},
   "outputs": [
    {
     "output_type": "execute_result",
     "data": {
      "text/plain": "(100000,)"
     },
     "metadata": {},
     "execution_count": 15
    }
   ],
   "source": [
    "y.shape"
   ]
  },
  {
   "cell_type": "code",
   "execution_count": 18,
   "metadata": {},
   "outputs": [],
   "source": [
    "from sklearn import preprocessing\n",
    "from sklearn.preprocessing import LabelEncoder"
   ]
  },
  {
   "cell_type": "code",
   "execution_count": 34,
   "metadata": {
    "tags": []
   },
   "outputs": [
    {
     "output_type": "stream",
     "name": "stdout",
     "text": "0        0\n1        0\n2        2\n3        5\n4        0\n        ..\n99995    0\n99996    1\n99997    0\n99998    5\n99999    4\nName: 2, Length: 100000, dtype: int64\n"
    }
   ],
   "source": [
    "le = preprocessing.LabelEncoder()\n",
    "# Converting string labels into numbers.\n",
    "df2[['2']] = le.fit_transform(df2[['2']])\n",
    "# Sunny: 2, Overcast: 0, Rainy:1\n",
    "print(df2['2'])"
   ]
  },
  {
   "cell_type": "code",
   "execution_count": 35,
   "metadata": {
    "tags": []
   },
   "outputs": [
    {
     "output_type": "stream",
     "name": "stdout",
     "text": "0        0\n1        0\n2        2\n3        1\n4        0\n        ..\n99995    1\n99996    0\n99997    0\n99998    1\n99999    0\nName: 4, Length: 100000, dtype: int64\n"
    }
   ],
   "source": [
    "le = preprocessing.LabelEncoder()\n",
    "# Converting string labels into numbers.\n",
    "df2[['4']] = le.fit_transform(df2[['4']])\n",
    "print(df2['4'])"
   ]
  },
  {
   "cell_type": "code",
   "execution_count": 36,
   "metadata": {
    "tags": []
   },
   "outputs": [
    {
     "output_type": "stream",
     "name": "stdout",
     "text": "0        2\n1        2\n2        1\n3        2\n4        2\n        ..\n99995    2\n99996    2\n99997    2\n99998    2\n99999    2\nName: 6, Length: 100000, dtype: int64\n"
    }
   ],
   "source": [
    "le = preprocessing.LabelEncoder()\n",
    "df2['6'] = le.fit_transform(df2['6'])\n",
    "print(df2['6'])"
   ]
  },
  {
   "cell_type": "code",
   "execution_count": 37,
   "metadata": {},
   "outputs": [
    {
     "output_type": "execute_result",
     "data": {
      "text/plain": "<bound method DataFrame.info of        2  4  5  6  7  8    9      10    11         12        13  14     15  \\\n0      0  0  2  2  R  F  4.0   45810   2.0     Urgent  Moderate   2  21-30   \n1      0  0  4  2  Q  F  2.0  128565  15.0     Trauma  Moderate   4  51-60   \n2      2  2  2  1  S  F  3.0   46565   5.0     Urgent  Moderate   2  71-80   \n3      5  1  3  2  S  B  4.0  124546   6.0  Emergency  Moderate   4  11-20   \n4      0  0  3  2  S  E  2.0   22729   8.0     Urgent  Moderate   2  51-60   \n...   .. .. .. .. .. ..  ...     ...   ...        ...       ...  ..    ...   \n99995  0  1  3  2  R  B  3.0   82914   3.0  Emergency  Moderate   6  51-60   \n99996  1  0  2  2  R  F  2.0   40026   5.0     Urgent  Moderate   3  21-30   \n99997  0  0  3  2  Q  F  3.0   92346   2.0     Trauma     Minor   2  31-40   \n99998  5  1  2  2  S  B  4.0  113798  15.0     Trauma  Moderate   3  41-50   \n99999  4  0  3  2  Q  E  2.0  109237   8.0  Emergency  Moderate   2  41-50   \n\n           16                  17  \n0      2817.0                0-10  \n1      4498.0               21-30  \n2      4573.0               11-20  \n3      7202.0               51-60  \n4      3398.0               51-60  \n...       ...                 ...  \n99995  3966.0  More than 100 Days  \n99996  4005.0               51-60  \n99997  5215.0               31-40  \n99998  5092.0               11-20  \n99999  3390.0               41-50  \n\n[100000 rows x 15 columns]>"
     },
     "metadata": {},
     "execution_count": 37
    }
   ],
   "source": [
    "df2.info"
   ]
  },
  {
   "cell_type": "code",
   "execution_count": 80,
   "metadata": {
    "tags": []
   },
   "outputs": [
    {
     "output_type": "stream",
     "name": "stdout",
     "text": "<class 'pandas.core.frame.DataFrame'>\nRangeIndex: 100000 entries, 0 to 99999\nData columns (total 15 columns):\n #   Column  Non-Null Count   Dtype  \n---  ------  --------------   -----  \n 0   2       100000 non-null  int64  \n 1   4       100000 non-null  int64  \n 2   5       100000 non-null  int64  \n 3   6       100000 non-null  int64  \n 4   7       100000 non-null  int64  \n 5   8       100000 non-null  int64  \n 6   9       100000 non-null  float64\n 7   10      100000 non-null  int64  \n 8   11      100000 non-null  float64\n 9   12      100000 non-null  int64  \n 10  13      100000 non-null  int64  \n 11  14      100000 non-null  int64  \n 12  15      100000 non-null  int64  \n 13  16      100000 non-null  float64\n 14  17      100000 non-null  int64  \ndtypes: float64(3), int64(12)\nmemory usage: 11.4 MB\n"
    }
   ],
   "source": [
    "df2.info()"
   ]
  },
  {
   "cell_type": "code",
   "execution_count": 39,
   "metadata": {
    "tags": []
   },
   "outputs": [
    {
     "output_type": "stream",
     "name": "stdout",
     "text": "0        2\n1        1\n2        3\n3        3\n4        3\n        ..\n99995    2\n99996    2\n99997    1\n99998    3\n99999    1\nName: 7, Length: 100000, dtype: int64\n0        5\n1        5\n2        5\n3        1\n4        4\n        ..\n99995    1\n99996    5\n99997    5\n99998    1\n99999    4\nName: 8, Length: 100000, dtype: int64\n0        2\n1        1\n2        2\n3        0\n4        2\n        ..\n99995    0\n99996    2\n99997    1\n99998    1\n99999    0\nName: 12, Length: 100000, dtype: int64\n0        2\n1        2\n2        2\n3        2\n4        2\n        ..\n99995    2\n99996    2\n99997    1\n99998    2\n99999    2\nName: 13, Length: 100000, dtype: int64\n0        2\n1        5\n2        7\n3        1\n4        5\n        ..\n99995    5\n99996    2\n99997    3\n99998    4\n99999    4\nName: 15, Length: 100000, dtype: int64\n0         0\n1         2\n2         1\n3         5\n4         5\n         ..\n99995    10\n99996     5\n99997     3\n99998     1\n99999     4\nName: 17, Length: 100000, dtype: int64\n"
    }
   ],
   "source": [
    "for i in df2[['7','8', '12','13','15','17']]:\n",
    "    le = preprocessing.LabelEncoder()\n",
    "# Converting string labels into numbers.\n",
    "    df2[i] = le.fit_transform(df2[i])\n",
    "# Sunny: 2, Overcast: 0, Rainy:1\n",
    "    print(df2[i])"
   ]
  },
  {
   "cell_type": "markdown",
   "metadata": {},
   "source": [
    "Definir X e y"
   ]
  },
  {
   "cell_type": "markdown",
   "metadata": {},
   "source": [
    "The goal of this competition is the prediction of the days a patient would stay in the hospital given some characteristics, putting into practice all the machine learning techniques you've learn.\n",
    "\n",
    "The length of stay is divided into 11 different classes ranging from 0-10 days to more than 100 days."
   ]
  },
  {
   "cell_type": "code",
   "execution_count": 40,
   "metadata": {},
   "outputs": [
    {
     "output_type": "execute_result",
     "data": {
      "text/plain": "(100000, 14)"
     },
     "metadata": {},
     "execution_count": 40
    }
   ],
   "source": [
    "X = np.array(df2.iloc[:,0:-1])\n",
    "y = np.array(df2['17'])\n",
    "X.shape"
   ]
  },
  {
   "cell_type": "code",
   "execution_count": 41,
   "metadata": {},
   "outputs": [
    {
     "output_type": "execute_result",
     "data": {
      "text/plain": "(100000,)"
     },
     "metadata": {},
     "execution_count": 41
    }
   ],
   "source": [
    "y.shape"
   ]
  },
  {
   "cell_type": "code",
   "execution_count": 42,
   "metadata": {},
   "outputs": [],
   "source": [
    "X_train, X_test, y_train, y_test = train_test_split(X, y, test_size=0.20)"
   ]
  },
  {
   "cell_type": "code",
   "execution_count": 43,
   "metadata": {
    "tags": []
   },
   "outputs": [
    {
     "output_type": "stream",
     "name": "stdout",
     "text": "Range no normalized (Normal loaded digits):\n\n[0.0,45810.0]\n"
    }
   ],
   "source": [
    "print(\"Range no normalized (Normal loaded digits):\\n\")\n",
    "print(\"[\", min(X[0]), \",\", max(X[0]), \"]\", sep=\"\")"
   ]
  },
  {
   "cell_type": "code",
   "execution_count": 44,
   "metadata": {
    "tags": []
   },
   "outputs": [
    {
     "output_type": "stream",
     "name": "stdout",
     "text": "<class 'pandas.core.frame.DataFrame'>\nRangeIndex: 100000 entries, 0 to 99999\nData columns (total 15 columns):\n #   Column  Non-Null Count   Dtype  \n---  ------  --------------   -----  \n 0   2       100000 non-null  int64  \n 1   4       100000 non-null  int64  \n 2   5       100000 non-null  int64  \n 3   6       100000 non-null  int64  \n 4   7       100000 non-null  int64  \n 5   8       100000 non-null  int64  \n 6   9       100000 non-null  float64\n 7   10      100000 non-null  int64  \n 8   11      100000 non-null  float64\n 9   12      100000 non-null  int64  \n 10  13      100000 non-null  int64  \n 11  14      100000 non-null  int64  \n 12  15      100000 non-null  int64  \n 13  16      100000 non-null  float64\n 14  17      100000 non-null  int64  \ndtypes: float64(3), int64(12)\nmemory usage: 11.4 MB\n"
    }
   ],
   "source": [
    "df2.info()"
   ]
  },
  {
   "cell_type": "code",
   "execution_count": 81,
   "metadata": {},
   "outputs": [
    {
     "output_type": "execute_result",
     "data": {
      "text/plain": "array([[0.        , 0.        , 0.08333333, ..., 0.0625    , 0.22222222,\n        0.11247512],\n       [0.        , 0.        , 0.16666667, ..., 0.125     , 0.55555556,\n        0.29838531],\n       [0.33333333, 1.        , 0.08333333, ..., 0.0625    , 0.77777778,\n        0.30667994],\n       ...,\n       [0.        , 0.        , 0.125     , ..., 0.0625    , 0.33333333,\n        0.37768193],\n       [0.83333333, 0.5       , 0.08333333, ..., 0.09375   , 0.44444444,\n        0.36407874],\n       [0.66666667, 0.        , 0.125     , ..., 0.0625    , 0.44444444,\n        0.17584605]])"
     },
     "metadata": {},
     "execution_count": 81
    }
   ],
   "source": [
    "from sklearn.preprocessing import MinMaxScaler\n",
    "\n",
    "scaler = MinMaxScaler()\n",
    "scaler.fit(X)\n",
    "X_normalized = scaler.transform(X)\n",
    "X_normalized"
   ]
  },
  {
   "cell_type": "code",
   "execution_count": 46,
   "metadata": {},
   "outputs": [],
   "source": [
    "from sklearn.model_selection import train_test_split\n",
    "x_train_n, x_test_n, y_train_n, y_test_n = train_test_split(X_normalized, y, test_size=0.2, random_state=0)"
   ]
  },
  {
   "cell_type": "code",
   "execution_count": 82,
   "metadata": {},
   "outputs": [
    {
     "output_type": "execute_result",
     "data": {
      "text/plain": "LogisticRegression()"
     },
     "metadata": {},
     "execution_count": 82
    }
   ],
   "source": [
    "from sklearn.linear_model import LogisticRegression\n",
    "# all parameters not specified are set to their defaults\n",
    "logisticRegr_normalized = LogisticRegression()\n",
    "\n",
    "logisticRegr_normalized.fit(x_train_n, y_train_n)"
   ]
  },
  {
   "cell_type": "code",
   "execution_count": 48,
   "metadata": {
    "tags": []
   },
   "outputs": [
    {
     "output_type": "stream",
     "name": "stdout",
     "text": "37.405 %\n"
    }
   ],
   "source": [
    "score_regularized = logisticRegr_normalized.score(x_test_n, y_test_n)\n",
    "print(score_regularized * 100, \"%\")"
   ]
  },
  {
   "cell_type": "markdown",
   "metadata": {},
   "source": [
    "PREDICT"
   ]
  },
  {
   "cell_type": "code",
   "execution_count": 181,
   "metadata": {},
   "outputs": [
    {
     "output_type": "execute_result",
     "data": {
      "text/plain": "             0   1  2   3  4  5                   6  7  8    9      10    11  \\\n0       314114  19  a   7  Y  4          gynecology  S  C  2.0   59278   8.0   \n1       208989  15  c   5  Z  3          gynecology  S  F  2.0  102253  15.0   \n2       305872  17  e   1  X  4          gynecology  R  E  4.0    5828   4.0   \n3       266099   3  c   3  Z  4  TB & Chest disease  R  A  2.0   56642   9.0   \n4        13228   6  a   6  X  4          gynecology  R  F  1.0  116266   8.0   \n...        ...  .. ..  .. .. ..                 ... .. ..  ...     ...   ...   \n133739  318155  18  d  13  Y  6          anesthesia  Q  B  3.0  123269  25.0   \n133740  144850  27  a   7  Y  2          gynecology  S  C  2.0    1293   8.0   \n133741  180676  16  c   3  Z  3          gynecology  R  A  3.0  112921   5.0   \n133742   39933  28  b  11  X  4          gynecology  R  F  2.0     585   2.0   \n133743  116673   6  a   6  X  4  TB & Chest disease  Q  F  2.0  119482  12.0   \n\n               12        13  14     15      16  \n0       Emergency     Minor   2  41-50  4778.0  \n1          Trauma  Moderate   3  31-40  5734.0  \n2       Emergency     Minor   3  71-80  5064.0  \n3          Urgent   Extreme   4  31-40  3254.0  \n4       Emergency     Minor   3  21-30  4639.0  \n...           ...       ...  ..    ...     ...  \n133739     Urgent     Minor   4  51-60  5089.0  \n133740  Emergency  Moderate   3  61-70  6713.0  \n133741     Trauma     Minor   3  31-40  5326.0  \n133742     Trauma   Extreme   2  31-40  7072.0  \n133743     Trauma  Moderate   4  51-60  5221.0  \n\n[133744 rows x 17 columns]",
      "text/html": "<div>\n<style scoped>\n    .dataframe tbody tr th:only-of-type {\n        vertical-align: middle;\n    }\n\n    .dataframe tbody tr th {\n        vertical-align: top;\n    }\n\n    .dataframe thead th {\n        text-align: right;\n    }\n</style>\n<table border=\"1\" class=\"dataframe\">\n  <thead>\n    <tr style=\"text-align: right;\">\n      <th></th>\n      <th>0</th>\n      <th>1</th>\n      <th>2</th>\n      <th>3</th>\n      <th>4</th>\n      <th>5</th>\n      <th>6</th>\n      <th>7</th>\n      <th>8</th>\n      <th>9</th>\n      <th>10</th>\n      <th>11</th>\n      <th>12</th>\n      <th>13</th>\n      <th>14</th>\n      <th>15</th>\n      <th>16</th>\n    </tr>\n  </thead>\n  <tbody>\n    <tr>\n      <th>0</th>\n      <td>314114</td>\n      <td>19</td>\n      <td>a</td>\n      <td>7</td>\n      <td>Y</td>\n      <td>4</td>\n      <td>gynecology</td>\n      <td>S</td>\n      <td>C</td>\n      <td>2.0</td>\n      <td>59278</td>\n      <td>8.0</td>\n      <td>Emergency</td>\n      <td>Minor</td>\n      <td>2</td>\n      <td>41-50</td>\n      <td>4778.0</td>\n    </tr>\n    <tr>\n      <th>1</th>\n      <td>208989</td>\n      <td>15</td>\n      <td>c</td>\n      <td>5</td>\n      <td>Z</td>\n      <td>3</td>\n      <td>gynecology</td>\n      <td>S</td>\n      <td>F</td>\n      <td>2.0</td>\n      <td>102253</td>\n      <td>15.0</td>\n      <td>Trauma</td>\n      <td>Moderate</td>\n      <td>3</td>\n      <td>31-40</td>\n      <td>5734.0</td>\n    </tr>\n    <tr>\n      <th>2</th>\n      <td>305872</td>\n      <td>17</td>\n      <td>e</td>\n      <td>1</td>\n      <td>X</td>\n      <td>4</td>\n      <td>gynecology</td>\n      <td>R</td>\n      <td>E</td>\n      <td>4.0</td>\n      <td>5828</td>\n      <td>4.0</td>\n      <td>Emergency</td>\n      <td>Minor</td>\n      <td>3</td>\n      <td>71-80</td>\n      <td>5064.0</td>\n    </tr>\n    <tr>\n      <th>3</th>\n      <td>266099</td>\n      <td>3</td>\n      <td>c</td>\n      <td>3</td>\n      <td>Z</td>\n      <td>4</td>\n      <td>TB &amp; Chest disease</td>\n      <td>R</td>\n      <td>A</td>\n      <td>2.0</td>\n      <td>56642</td>\n      <td>9.0</td>\n      <td>Urgent</td>\n      <td>Extreme</td>\n      <td>4</td>\n      <td>31-40</td>\n      <td>3254.0</td>\n    </tr>\n    <tr>\n      <th>4</th>\n      <td>13228</td>\n      <td>6</td>\n      <td>a</td>\n      <td>6</td>\n      <td>X</td>\n      <td>4</td>\n      <td>gynecology</td>\n      <td>R</td>\n      <td>F</td>\n      <td>1.0</td>\n      <td>116266</td>\n      <td>8.0</td>\n      <td>Emergency</td>\n      <td>Minor</td>\n      <td>3</td>\n      <td>21-30</td>\n      <td>4639.0</td>\n    </tr>\n    <tr>\n      <th>...</th>\n      <td>...</td>\n      <td>...</td>\n      <td>...</td>\n      <td>...</td>\n      <td>...</td>\n      <td>...</td>\n      <td>...</td>\n      <td>...</td>\n      <td>...</td>\n      <td>...</td>\n      <td>...</td>\n      <td>...</td>\n      <td>...</td>\n      <td>...</td>\n      <td>...</td>\n      <td>...</td>\n      <td>...</td>\n    </tr>\n    <tr>\n      <th>133739</th>\n      <td>318155</td>\n      <td>18</td>\n      <td>d</td>\n      <td>13</td>\n      <td>Y</td>\n      <td>6</td>\n      <td>anesthesia</td>\n      <td>Q</td>\n      <td>B</td>\n      <td>3.0</td>\n      <td>123269</td>\n      <td>25.0</td>\n      <td>Urgent</td>\n      <td>Minor</td>\n      <td>4</td>\n      <td>51-60</td>\n      <td>5089.0</td>\n    </tr>\n    <tr>\n      <th>133740</th>\n      <td>144850</td>\n      <td>27</td>\n      <td>a</td>\n      <td>7</td>\n      <td>Y</td>\n      <td>2</td>\n      <td>gynecology</td>\n      <td>S</td>\n      <td>C</td>\n      <td>2.0</td>\n      <td>1293</td>\n      <td>8.0</td>\n      <td>Emergency</td>\n      <td>Moderate</td>\n      <td>3</td>\n      <td>61-70</td>\n      <td>6713.0</td>\n    </tr>\n    <tr>\n      <th>133741</th>\n      <td>180676</td>\n      <td>16</td>\n      <td>c</td>\n      <td>3</td>\n      <td>Z</td>\n      <td>3</td>\n      <td>gynecology</td>\n      <td>R</td>\n      <td>A</td>\n      <td>3.0</td>\n      <td>112921</td>\n      <td>5.0</td>\n      <td>Trauma</td>\n      <td>Minor</td>\n      <td>3</td>\n      <td>31-40</td>\n      <td>5326.0</td>\n    </tr>\n    <tr>\n      <th>133742</th>\n      <td>39933</td>\n      <td>28</td>\n      <td>b</td>\n      <td>11</td>\n      <td>X</td>\n      <td>4</td>\n      <td>gynecology</td>\n      <td>R</td>\n      <td>F</td>\n      <td>2.0</td>\n      <td>585</td>\n      <td>2.0</td>\n      <td>Trauma</td>\n      <td>Extreme</td>\n      <td>2</td>\n      <td>31-40</td>\n      <td>7072.0</td>\n    </tr>\n    <tr>\n      <th>133743</th>\n      <td>116673</td>\n      <td>6</td>\n      <td>a</td>\n      <td>6</td>\n      <td>X</td>\n      <td>4</td>\n      <td>TB &amp; Chest disease</td>\n      <td>Q</td>\n      <td>F</td>\n      <td>2.0</td>\n      <td>119482</td>\n      <td>12.0</td>\n      <td>Trauma</td>\n      <td>Moderate</td>\n      <td>4</td>\n      <td>51-60</td>\n      <td>5221.0</td>\n    </tr>\n  </tbody>\n</table>\n<p>133744 rows × 17 columns</p>\n</div>"
     },
     "metadata": {},
     "execution_count": 181
    }
   ],
   "source": [
    "to_pred = pd.read_csv(\"/Users/rochi/Desktop/TestFolder/DataScienceBootCampMIO/ProjectsDS/how-long-would-you-stay/test_set.csv\")\n",
    "to_pred"
   ]
  },
  {
   "cell_type": "code",
   "execution_count": 182,
   "metadata": {},
   "outputs": [],
   "source": [
    "to_pred = to_pred.fillna(0)"
   ]
  },
  {
   "cell_type": "code",
   "execution_count": 183,
   "metadata": {},
   "outputs": [
    {
     "output_type": "execute_result",
     "data": {
      "text/plain": "(133744, 17)"
     },
     "metadata": {},
     "execution_count": 183
    }
   ],
   "source": [
    "to_pred.shape"
   ]
  },
  {
   "cell_type": "code",
   "execution_count": 184,
   "metadata": {},
   "outputs": [
    {
     "output_type": "execute_result",
     "data": {
      "text/plain": "[0, 1, 2, 3, 4, 5, 6, 7, 8, 9]"
     },
     "metadata": {},
     "execution_count": 184
    }
   ],
   "source": [
    "list(le.classes_)"
   ]
  },
  {
   "cell_type": "code",
   "execution_count": 185,
   "metadata": {
    "tags": []
   },
   "outputs": [
    {
     "output_type": "stream",
     "name": "stdout",
     "text": "<class 'pandas.core.frame.DataFrame'>\nRangeIndex: 133744 entries, 0 to 133743\nData columns (total 17 columns):\n #   Column  Non-Null Count   Dtype  \n---  ------  --------------   -----  \n 0   0       133744 non-null  int64  \n 1   1       133744 non-null  int64  \n 2   2       133744 non-null  object \n 3   3       133744 non-null  int64  \n 4   4       133744 non-null  object \n 5   5       133744 non-null  int64  \n 6   6       133744 non-null  object \n 7   7       133744 non-null  object \n 8   8       133744 non-null  object \n 9   9       133744 non-null  float64\n 10  10      133744 non-null  int64  \n 11  11      133744 non-null  float64\n 12  12      133744 non-null  object \n 13  13      133744 non-null  object \n 14  14      133744 non-null  int64  \n 15  15      133744 non-null  object \n 16  16      133744 non-null  float64\ndtypes: float64(3), int64(6), object(8)\nmemory usage: 17.3+ MB\n"
    }
   ],
   "source": [
    "to_pred.info()"
   ]
  },
  {
   "cell_type": "code",
   "execution_count": 186,
   "metadata": {
    "tags": []
   },
   "outputs": [
    {
     "output_type": "stream",
     "name": "stdout",
     "text": "0         0\n1         2\n2         4\n3         2\n4         0\n         ..\n133739    3\n133740    0\n133741    2\n133742    1\n133743    0\nName: 2, Length: 133744, dtype: int64\n"
    }
   ],
   "source": [
    "le = preprocessing.LabelEncoder()\n",
    "# Converting string labels into numbers.\n",
    "to_pred[['2']] = le.fit_transform(to_pred[['2']])\n",
    "# Sunny: 2, Overcast: 0, Rainy:1\n",
    "print(to_pred['2'])"
   ]
  },
  {
   "cell_type": "code",
   "execution_count": 188,
   "metadata": {
    "tags": []
   },
   "outputs": [
    {
     "output_type": "stream",
     "name": "stdout",
     "text": "0         1\n1         2\n2         0\n3         2\n4         0\n         ..\n133739    1\n133740    1\n133741    2\n133742    0\n133743    0\nName: 4, Length: 133744, dtype: int64\n0         2\n1         2\n2         2\n3         0\n4         2\n         ..\n133739    1\n133740    2\n133741    2\n133742    2\n133743    0\nName: 6, Length: 133744, dtype: int64\n0         3\n1         3\n2         2\n3         2\n4         2\n         ..\n133739    1\n133740    3\n133741    2\n133742    2\n133743    1\nName: 7, Length: 133744, dtype: int64\n0         2\n1         5\n2         4\n3         0\n4         5\n         ..\n133739    1\n133740    2\n133741    0\n133742    5\n133743    5\nName: 8, Length: 133744, dtype: int64\n0         0\n1         1\n2         0\n3         2\n4         0\n         ..\n133739    2\n133740    0\n133741    1\n133742    1\n133743    1\nName: 12, Length: 133744, dtype: int64\n0         1\n1         2\n2         1\n3         0\n4         1\n         ..\n133739    1\n133740    2\n133741    1\n133742    0\n133743    2\nName: 13, Length: 133744, dtype: int64\n0         4\n1         3\n2         7\n3         3\n4         2\n         ..\n133739    5\n133740    6\n133741    3\n133742    3\n133743    5\nName: 15, Length: 133744, dtype: int64\n"
    }
   ],
   "source": [
    "for i in to_pred[['4','6', '7', '8', '12','13', '15']]:\n",
    "    le = preprocessing.LabelEncoder()\n",
    "# Converting string labels into numbers.\n",
    "    to_pred[i] = le.fit_transform(to_pred[i])\n",
    "# Sunny: 2, Overcast: 0, Rainy:1\n",
    "    print(to_pred[i])"
   ]
  },
  {
   "cell_type": "code",
   "execution_count": 189,
   "metadata": {
    "tags": []
   },
   "outputs": [
    {
     "output_type": "stream",
     "name": "stdout",
     "text": "<class 'pandas.core.frame.DataFrame'>\nRangeIndex: 133744 entries, 0 to 133743\nData columns (total 17 columns):\n #   Column  Non-Null Count   Dtype  \n---  ------  --------------   -----  \n 0   0       133744 non-null  int64  \n 1   1       133744 non-null  int64  \n 2   2       133744 non-null  int64  \n 3   3       133744 non-null  int64  \n 4   4       133744 non-null  int64  \n 5   5       133744 non-null  int64  \n 6   6       133744 non-null  int64  \n 7   7       133744 non-null  int64  \n 8   8       133744 non-null  int64  \n 9   9       133744 non-null  float64\n 10  10      133744 non-null  int64  \n 11  11      133744 non-null  float64\n 12  12      133744 non-null  int64  \n 13  13      133744 non-null  int64  \n 14  14      133744 non-null  int64  \n 15  15      133744 non-null  int64  \n 16  16      133744 non-null  float64\ndtypes: float64(3), int64(14)\nmemory usage: 17.3 MB\n"
    }
   ],
   "source": [
    "to_pred.info()"
   ]
  },
  {
   "cell_type": "code",
   "execution_count": 190,
   "metadata": {},
   "outputs": [],
   "source": [
    "import matplotlib.pyplot as plt\n",
    "import numpy as np\n",
    "from sklearn.linear_model import LogisticRegression\n",
    "from sklearn.metrics import classification_report, confusion_matrix"
   ]
  },
  {
   "cell_type": "code",
   "execution_count": 191,
   "metadata": {},
   "outputs": [
    {
     "output_type": "execute_result",
     "data": {
      "text/plain": "(133744, 17)"
     },
     "metadata": {},
     "execution_count": 191
    }
   ],
   "source": [
    "to_pred.shape"
   ]
  },
  {
   "cell_type": "code",
   "execution_count": 192,
   "metadata": {},
   "outputs": [
    {
     "output_type": "execute_result",
     "data": {
      "text/plain": "             0   1  2   3  4  5  6  7  8    9      10    11  12  13  14  15  \\\n0       314114  19  0   7  1  4  2  3  2  2.0   59278   8.0   0   1   2   4   \n1       208989  15  2   5  2  3  2  3  5  2.0  102253  15.0   1   2   3   3   \n2       305872  17  4   1  0  4  2  2  4  4.0    5828   4.0   0   1   3   7   \n3       266099   3  2   3  2  4  0  2  0  2.0   56642   9.0   2   0   4   3   \n4        13228   6  0   6  0  4  2  2  5  1.0  116266   8.0   0   1   3   2   \n...        ...  .. ..  .. .. .. .. .. ..  ...     ...   ...  ..  ..  ..  ..   \n133739  318155  18  3  13  1  6  1  1  1  3.0  123269  25.0   2   1   4   5   \n133740  144850  27  0   7  1  2  2  3  2  2.0    1293   8.0   0   2   3   6   \n133741  180676  16  2   3  2  3  2  2  0  3.0  112921   5.0   1   1   3   3   \n133742   39933  28  1  11  0  4  2  2  5  2.0     585   2.0   1   0   2   3   \n133743  116673   6  0   6  0  4  0  1  5  2.0  119482  12.0   1   2   4   5   \n\n            16  \n0       4778.0  \n1       5734.0  \n2       5064.0  \n3       3254.0  \n4       4639.0  \n...        ...  \n133739  5089.0  \n133740  6713.0  \n133741  5326.0  \n133742  7072.0  \n133743  5221.0  \n\n[133744 rows x 17 columns]",
      "text/html": "<div>\n<style scoped>\n    .dataframe tbody tr th:only-of-type {\n        vertical-align: middle;\n    }\n\n    .dataframe tbody tr th {\n        vertical-align: top;\n    }\n\n    .dataframe thead th {\n        text-align: right;\n    }\n</style>\n<table border=\"1\" class=\"dataframe\">\n  <thead>\n    <tr style=\"text-align: right;\">\n      <th></th>\n      <th>0</th>\n      <th>1</th>\n      <th>2</th>\n      <th>3</th>\n      <th>4</th>\n      <th>5</th>\n      <th>6</th>\n      <th>7</th>\n      <th>8</th>\n      <th>9</th>\n      <th>10</th>\n      <th>11</th>\n      <th>12</th>\n      <th>13</th>\n      <th>14</th>\n      <th>15</th>\n      <th>16</th>\n    </tr>\n  </thead>\n  <tbody>\n    <tr>\n      <th>0</th>\n      <td>314114</td>\n      <td>19</td>\n      <td>0</td>\n      <td>7</td>\n      <td>1</td>\n      <td>4</td>\n      <td>2</td>\n      <td>3</td>\n      <td>2</td>\n      <td>2.0</td>\n      <td>59278</td>\n      <td>8.0</td>\n      <td>0</td>\n      <td>1</td>\n      <td>2</td>\n      <td>4</td>\n      <td>4778.0</td>\n    </tr>\n    <tr>\n      <th>1</th>\n      <td>208989</td>\n      <td>15</td>\n      <td>2</td>\n      <td>5</td>\n      <td>2</td>\n      <td>3</td>\n      <td>2</td>\n      <td>3</td>\n      <td>5</td>\n      <td>2.0</td>\n      <td>102253</td>\n      <td>15.0</td>\n      <td>1</td>\n      <td>2</td>\n      <td>3</td>\n      <td>3</td>\n      <td>5734.0</td>\n    </tr>\n    <tr>\n      <th>2</th>\n      <td>305872</td>\n      <td>17</td>\n      <td>4</td>\n      <td>1</td>\n      <td>0</td>\n      <td>4</td>\n      <td>2</td>\n      <td>2</td>\n      <td>4</td>\n      <td>4.0</td>\n      <td>5828</td>\n      <td>4.0</td>\n      <td>0</td>\n      <td>1</td>\n      <td>3</td>\n      <td>7</td>\n      <td>5064.0</td>\n    </tr>\n    <tr>\n      <th>3</th>\n      <td>266099</td>\n      <td>3</td>\n      <td>2</td>\n      <td>3</td>\n      <td>2</td>\n      <td>4</td>\n      <td>0</td>\n      <td>2</td>\n      <td>0</td>\n      <td>2.0</td>\n      <td>56642</td>\n      <td>9.0</td>\n      <td>2</td>\n      <td>0</td>\n      <td>4</td>\n      <td>3</td>\n      <td>3254.0</td>\n    </tr>\n    <tr>\n      <th>4</th>\n      <td>13228</td>\n      <td>6</td>\n      <td>0</td>\n      <td>6</td>\n      <td>0</td>\n      <td>4</td>\n      <td>2</td>\n      <td>2</td>\n      <td>5</td>\n      <td>1.0</td>\n      <td>116266</td>\n      <td>8.0</td>\n      <td>0</td>\n      <td>1</td>\n      <td>3</td>\n      <td>2</td>\n      <td>4639.0</td>\n    </tr>\n    <tr>\n      <th>...</th>\n      <td>...</td>\n      <td>...</td>\n      <td>...</td>\n      <td>...</td>\n      <td>...</td>\n      <td>...</td>\n      <td>...</td>\n      <td>...</td>\n      <td>...</td>\n      <td>...</td>\n      <td>...</td>\n      <td>...</td>\n      <td>...</td>\n      <td>...</td>\n      <td>...</td>\n      <td>...</td>\n      <td>...</td>\n    </tr>\n    <tr>\n      <th>133739</th>\n      <td>318155</td>\n      <td>18</td>\n      <td>3</td>\n      <td>13</td>\n      <td>1</td>\n      <td>6</td>\n      <td>1</td>\n      <td>1</td>\n      <td>1</td>\n      <td>3.0</td>\n      <td>123269</td>\n      <td>25.0</td>\n      <td>2</td>\n      <td>1</td>\n      <td>4</td>\n      <td>5</td>\n      <td>5089.0</td>\n    </tr>\n    <tr>\n      <th>133740</th>\n      <td>144850</td>\n      <td>27</td>\n      <td>0</td>\n      <td>7</td>\n      <td>1</td>\n      <td>2</td>\n      <td>2</td>\n      <td>3</td>\n      <td>2</td>\n      <td>2.0</td>\n      <td>1293</td>\n      <td>8.0</td>\n      <td>0</td>\n      <td>2</td>\n      <td>3</td>\n      <td>6</td>\n      <td>6713.0</td>\n    </tr>\n    <tr>\n      <th>133741</th>\n      <td>180676</td>\n      <td>16</td>\n      <td>2</td>\n      <td>3</td>\n      <td>2</td>\n      <td>3</td>\n      <td>2</td>\n      <td>2</td>\n      <td>0</td>\n      <td>3.0</td>\n      <td>112921</td>\n      <td>5.0</td>\n      <td>1</td>\n      <td>1</td>\n      <td>3</td>\n      <td>3</td>\n      <td>5326.0</td>\n    </tr>\n    <tr>\n      <th>133742</th>\n      <td>39933</td>\n      <td>28</td>\n      <td>1</td>\n      <td>11</td>\n      <td>0</td>\n      <td>4</td>\n      <td>2</td>\n      <td>2</td>\n      <td>5</td>\n      <td>2.0</td>\n      <td>585</td>\n      <td>2.0</td>\n      <td>1</td>\n      <td>0</td>\n      <td>2</td>\n      <td>3</td>\n      <td>7072.0</td>\n    </tr>\n    <tr>\n      <th>133743</th>\n      <td>116673</td>\n      <td>6</td>\n      <td>0</td>\n      <td>6</td>\n      <td>0</td>\n      <td>4</td>\n      <td>0</td>\n      <td>1</td>\n      <td>5</td>\n      <td>2.0</td>\n      <td>119482</td>\n      <td>12.0</td>\n      <td>1</td>\n      <td>2</td>\n      <td>4</td>\n      <td>5</td>\n      <td>5221.0</td>\n    </tr>\n  </tbody>\n</table>\n<p>133744 rows × 17 columns</p>\n</div>"
     },
     "metadata": {},
     "execution_count": 192
    }
   ],
   "source": [
    "to_pred"
   ]
  },
  {
   "cell_type": "code",
   "execution_count": 193,
   "metadata": {},
   "outputs": [
    {
     "output_type": "execute_result",
     "data": {
      "text/plain": "array([2, 2, 2, ..., 2, 2, 2])"
     },
     "metadata": {},
     "execution_count": 193
    }
   ],
   "source": [
    "predictions_submit = logisticRegr_normalized.predict(to_pred[['2','4', '5', '6', '7', '8', '9', '10', '11', '12',\n",
    "       '13', '14', '15', '16']])\n",
    "predictions_submit\n"
   ]
  },
  {
   "cell_type": "code",
   "execution_count": 194,
   "metadata": {},
   "outputs": [
    {
     "output_type": "execute_result",
     "data": {
      "text/plain": "['0-10',\n '11-20',\n '21-30',\n '31-40',\n '41-50',\n '51-60',\n '61-70',\n '71-80',\n '81-90',\n '91-100']"
     },
     "metadata": {},
     "execution_count": 194
    }
   ],
   "source": [
    "list(le.classes_)"
   ]
  },
  {
   "cell_type": "code",
   "execution_count": 195,
   "metadata": {},
   "outputs": [
    {
     "output_type": "execute_result",
     "data": {
      "text/plain": "array([0, 1, 2, 3, 4, 5, 6, 7, 8, 9])"
     },
     "metadata": {},
     "execution_count": 195
    }
   ],
   "source": [
    "le.transform(['0-10',\n",
    " '11-20',\n",
    " '21-30',\n",
    " '31-40',\n",
    " '41-50',\n",
    " '51-60',\n",
    " '61-70',\n",
    " '71-80',\n",
    " '81-90',\n",
    " '91-100'])"
   ]
  },
  {
   "cell_type": "code",
   "execution_count": 196,
   "metadata": {},
   "outputs": [
    {
     "output_type": "execute_result",
     "data": {
      "text/plain": "['0-10',\n '11-20',\n '21-30',\n '31-40',\n '41-50',\n '51-60',\n '61-70',\n '71-80',\n '81-90',\n '91-100']"
     },
     "metadata": {},
     "execution_count": 196
    }
   ],
   "source": [
    "list(le.inverse_transform([0, 1, 2, 3, 4, 5, 6, 7, 8, 9]))"
   ]
  },
  {
   "cell_type": "code",
   "execution_count": 169,
   "metadata": {},
   "outputs": [],
   "source": [
    "from sklearn.preprocessing import OrdinalEncoder\n",
    "from sklearn.preprocessing import OneHotEncoder"
   ]
  },
  {
   "cell_type": "code",
   "execution_count": 197,
   "metadata": {},
   "outputs": [
    {
     "output_type": "execute_result",
     "data": {
      "text/plain": "(133744,)"
     },
     "metadata": {},
     "execution_count": 197
    }
   ],
   "source": [
    "predictions_submit.shape"
   ]
  },
  {
   "cell_type": "code",
   "execution_count": 198,
   "metadata": {},
   "outputs": [
    {
     "output_type": "execute_result",
     "data": {
      "text/plain": "array([[2],\n       [2],\n       [2],\n       ...,\n       [2],\n       [2],\n       [2]])"
     },
     "metadata": {},
     "execution_count": 198
    }
   ],
   "source": [
    "predictions_submit.reshape(-1,1)"
   ]
  },
  {
   "cell_type": "code",
   "execution_count": 199,
   "metadata": {},
   "outputs": [
    {
     "output_type": "execute_result",
     "data": {
      "text/plain": "0.27455"
     },
     "metadata": {},
     "execution_count": 199
    }
   ],
   "source": [
    "score_ = logisticRegr_normalized.score(X, y)\n",
    "score_"
   ]
  },
  {
   "cell_type": "code",
   "execution_count": 200,
   "metadata": {},
   "outputs": [
    {
     "output_type": "execute_result",
     "data": {
      "text/plain": "            id  days\n0       314114     2\n1       208989     2\n2       305872     2\n3       266099     2\n4        13228     2\n...        ...   ...\n133739  318155     2\n133740  144850     2\n133741  180676     2\n133742   39933     2\n133743  116673     2\n\n[133744 rows x 2 columns]",
      "text/html": "<div>\n<style scoped>\n    .dataframe tbody tr th:only-of-type {\n        vertical-align: middle;\n    }\n\n    .dataframe tbody tr th {\n        vertical-align: top;\n    }\n\n    .dataframe thead th {\n        text-align: right;\n    }\n</style>\n<table border=\"1\" class=\"dataframe\">\n  <thead>\n    <tr style=\"text-align: right;\">\n      <th></th>\n      <th>id</th>\n      <th>days</th>\n    </tr>\n  </thead>\n  <tbody>\n    <tr>\n      <th>0</th>\n      <td>314114</td>\n      <td>2</td>\n    </tr>\n    <tr>\n      <th>1</th>\n      <td>208989</td>\n      <td>2</td>\n    </tr>\n    <tr>\n      <th>2</th>\n      <td>305872</td>\n      <td>2</td>\n    </tr>\n    <tr>\n      <th>3</th>\n      <td>266099</td>\n      <td>2</td>\n    </tr>\n    <tr>\n      <th>4</th>\n      <td>13228</td>\n      <td>2</td>\n    </tr>\n    <tr>\n      <th>...</th>\n      <td>...</td>\n      <td>...</td>\n    </tr>\n    <tr>\n      <th>133739</th>\n      <td>318155</td>\n      <td>2</td>\n    </tr>\n    <tr>\n      <th>133740</th>\n      <td>144850</td>\n      <td>2</td>\n    </tr>\n    <tr>\n      <th>133741</th>\n      <td>180676</td>\n      <td>2</td>\n    </tr>\n    <tr>\n      <th>133742</th>\n      <td>39933</td>\n      <td>2</td>\n    </tr>\n    <tr>\n      <th>133743</th>\n      <td>116673</td>\n      <td>2</td>\n    </tr>\n  </tbody>\n</table>\n<p>133744 rows × 2 columns</p>\n</div>"
     },
     "metadata": {},
     "execution_count": 200
    }
   ],
   "source": [
    "submission = pd.DataFrame({\"id\": to_pred[\"0\"], \"days\": predictions_submit})\n",
    "submission"
   ]
  },
  {
   "cell_type": "code",
   "execution_count": 201,
   "metadata": {},
   "outputs": [],
   "source": [
    "sample = pd.read_csv('/Users/rochi/Desktop/TestFolder/DataScienceBootCampMIO/ProjectsDS/how-long-would-you-stay/sample_submission.csv')\n"
   ]
  },
  {
   "cell_type": "code",
   "execution_count": 202,
   "metadata": {},
   "outputs": [
    {
     "output_type": "execute_result",
     "data": {
      "text/plain": "(133744, 2)"
     },
     "metadata": {},
     "execution_count": 202
    }
   ],
   "source": [
    "sample.shape"
   ]
  },
  {
   "cell_type": "code",
   "execution_count": 164,
   "metadata": {
    "tags": []
   },
   "outputs": [
    {
     "output_type": "error",
     "ename": "NameError",
     "evalue": "name 'submission' is not defined",
     "traceback": [
      "\u001b[0;31m---------------------------------------------------------------------------\u001b[0m",
      "\u001b[0;31mNameError\u001b[0m                                 Traceback (most recent call last)",
      "\u001b[0;32m<ipython-input-164-af792b34db01>\u001b[0m in \u001b[0;36m<module>\u001b[0;34m\u001b[0m\n\u001b[0;32m----> 1\u001b[0;31m \u001b[0;32mif\u001b[0m \u001b[0msubmission\u001b[0m\u001b[0;34m.\u001b[0m\u001b[0mshape\u001b[0m \u001b[0;34m==\u001b[0m \u001b[0msample\u001b[0m\u001b[0;34m.\u001b[0m\u001b[0mshape\u001b[0m\u001b[0;34m:\u001b[0m\u001b[0;34m\u001b[0m\u001b[0;34m\u001b[0m\u001b[0m\n\u001b[0m\u001b[1;32m      2\u001b[0m     \u001b[0;32mif\u001b[0m \u001b[0msubmission\u001b[0m\u001b[0;34m.\u001b[0m\u001b[0mcolumns\u001b[0m\u001b[0;34m.\u001b[0m\u001b[0mall\u001b[0m\u001b[0;34m(\u001b[0m\u001b[0;34m)\u001b[0m \u001b[0;34m==\u001b[0m \u001b[0msample\u001b[0m\u001b[0;34m.\u001b[0m\u001b[0mcolumns\u001b[0m\u001b[0;34m.\u001b[0m\u001b[0mall\u001b[0m\u001b[0;34m(\u001b[0m\u001b[0;34m)\u001b[0m\u001b[0;34m:\u001b[0m\u001b[0;34m\u001b[0m\u001b[0;34m\u001b[0m\u001b[0m\n\u001b[1;32m      3\u001b[0m         \u001b[0;32mif\u001b[0m \u001b[0msubmission\u001b[0m\u001b[0;34m.\u001b[0m\u001b[0mid\u001b[0m\u001b[0;34m.\u001b[0m\u001b[0mall\u001b[0m\u001b[0;34m(\u001b[0m\u001b[0;34m)\u001b[0m \u001b[0;34m==\u001b[0m \u001b[0msample\u001b[0m\u001b[0;34m.\u001b[0m\u001b[0mid\u001b[0m\u001b[0;34m.\u001b[0m\u001b[0mall\u001b[0m\u001b[0;34m(\u001b[0m\u001b[0;34m)\u001b[0m\u001b[0;34m:\u001b[0m\u001b[0;34m\u001b[0m\u001b[0;34m\u001b[0m\u001b[0m\n\u001b[1;32m      4\u001b[0m             \u001b[0mprint\u001b[0m\u001b[0;34m(\u001b[0m\u001b[0;34m\"you're ready to submit!\"\u001b[0m\u001b[0;34m)\u001b[0m\u001b[0;34m\u001b[0m\u001b[0;34m\u001b[0m\u001b[0m\n\u001b[1;32m      5\u001b[0m             \u001b[0msubmission\u001b[0m\u001b[0;34m.\u001b[0m\u001b[0mto_csv\u001b[0m\u001b[0;34m(\u001b[0m\u001b[0;34m\"to_submit.csv\"\u001b[0m\u001b[0;34m,\u001b[0m \u001b[0mindex\u001b[0m \u001b[0;34m=\u001b[0m \u001b[0;32mFalse\u001b[0m\u001b[0;34m)\u001b[0m\u001b[0;34m\u001b[0m\u001b[0;34m\u001b[0m\u001b[0m\n",
      "\u001b[0;31mNameError\u001b[0m: name 'submission' is not defined"
     ]
    }
   ],
   "source": [
    "if submission.shape == sample.shape:\n",
    "    if submission.columns.all() == sample.columns.all():\n",
    "        if submission.id.all() == sample.id.all():\n",
    "            print(\"you're ready to submit!\")\n",
    "            submission.to_csv(\"to_submit.csv\", index = False)"
   ]
  },
  {
   "cell_type": "code",
   "execution_count": null,
   "metadata": {},
   "outputs": [],
   "source": []
  }
 ]
}