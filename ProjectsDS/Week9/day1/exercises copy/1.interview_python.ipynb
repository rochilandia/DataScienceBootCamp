{
 "metadata": {
  "language_info": {
   "codemirror_mode": {
    "name": "ipython",
    "version": 3
   },
   "file_extension": ".py",
   "mimetype": "text/x-python",
   "name": "python",
   "nbconvert_exporter": "python",
   "pygments_lexer": "ipython3",
   "version": "3.8.3-final"
  },
  "orig_nbformat": 2,
  "kernelspec": {
   "name": "Python 3.8.3 64-bit",
   "display_name": "Python 3.8.3 64-bit",
   "metadata": {
    "interpreter": {
     "hash": "aee8b7b246df8f9039afb4144a1f6fd8d2ca17a180786b69acc140d282b71a49"
    }
   }
  }
 },
 "nbformat": 4,
 "nbformat_minor": 2,
 "cells": [
  {
   "cell_type": "markdown",
   "metadata": {},
   "source": [
    "Here's your coding interview problem for today.\n",
    "\n",
    "This problem was asked by Facebook.\n",
    "\n",
    "Given a string of round, curly, and square open and closing brackets, return whether the brackets are balanced (well-formed).\n",
    "\n",
    "For example, given the string \"([])[]({})\", you should return true.\n",
    "\n",
    "Given the string \"([)]\" or \"((()\", you should return false."
   ]
  },
  {
   "cell_type": "code",
   "execution_count": 51,
   "metadata": {},
   "outputs": [
    {
     "output_type": "stream",
     "name": "stdout",
     "text": [
      "[\n"
     ]
    }
   ],
   "source": [
    "# Your code\n",
    "j = input('Enter brackets')\n",
    "h = ['()', '[]', '{}']\n",
    "\n",
    "def brackets():\n",
    "    for j in h:\n",
    "        if j == h[0]:\n",
    "            if j == h[1]:\n",
    "                if j == h[2]:\n",
    "                    return True\n",
    "                    print('Well balanced')\n",
    "                else:\n",
    "                    return False\n",
    "                    print('Wrong. Try again')\n",
    "print(j)\n",
    "brackets()"
   ]
  },
  {
   "cell_type": "code",
   "execution_count": null,
   "metadata": {},
   "outputs": [],
   "source": []
  }
 ]
}