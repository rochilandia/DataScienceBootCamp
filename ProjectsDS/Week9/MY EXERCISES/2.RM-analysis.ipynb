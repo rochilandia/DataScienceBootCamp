{
 "metadata": {
  "language_info": {
   "codemirror_mode": {
    "name": "ipython",
    "version": 3
   },
   "file_extension": ".py",
   "mimetype": "text/x-python",
   "name": "python",
   "nbconvert_exporter": "python",
   "pygments_lexer": "ipython3",
   "version": "3.8.3-final"
  },
  "orig_nbformat": 2,
  "kernelspec": {
   "name": "python_defaultSpec_1601402380250",
   "display_name": "Python 3.6.4 64-bit"
  }
 },
 "nbformat": 4,
 "nbformat_minor": 2,
 "cells": [
  {
   "cell_type": "markdown",
   "metadata": {},
   "source": [
    "A partir del archivo food_100, se pide:\n",
    "\n",
    "1. Limpiar el archivo borrando las columnas Unnamed.\n",
    "2. ¿Qué porcentaje de valores NaN hay en cada columna?\n",
    "3. ¿Tendría algún sentido clasificar el nombre de los alimentos a partir del top5 de columnas numéricas con menos valores NaN?"
   ]
  },
  {
   "cell_type": "code",
   "execution_count": 139,
   "metadata": {},
   "outputs": [
    {
     "output_type": "execute_result",
     "data": {
      "text/plain": "    Unnamed: 0   code                                                url  \\\n0            0   3087  http://world-en.openfoodfacts.org/product/0000...   \n1            1   4530  http://world-en.openfoodfacts.org/product/0000...   \n2            2   4559  http://world-en.openfoodfacts.org/product/0000...   \n3            3  16087  http://world-en.openfoodfacts.org/product/0000...   \n4            4  16094  http://world-en.openfoodfacts.org/product/0000...   \n..         ...    ...                                                ...   \n95          95  34715  http://world-en.openfoodfacts.org/product/0000...   \n96          96  34784  http://world-en.openfoodfacts.org/product/0000...   \n97          97  34791  http://world-en.openfoodfacts.org/product/0000...   \n98          98  35071  http://world-en.openfoodfacts.org/product/0000...   \n99          99  35170  http://world-en.openfoodfacts.org/product/0000...   \n\n                       creator   created_t      created_datetime  \\\n0   openfoodfacts-contributors  1474103866  2016-09-17T09:17:46Z   \n1              usda-ndb-import  1489069957  2017-03-09T14:32:37Z   \n2              usda-ndb-import  1489069957  2017-03-09T14:32:37Z   \n3              usda-ndb-import  1489055731  2017-03-09T10:35:31Z   \n4              usda-ndb-import  1489055653  2017-03-09T10:34:13Z   \n..                         ...         ...                   ...   \n95             usda-ndb-import  1489055715  2017-03-09T10:35:15Z   \n96             usda-ndb-import  1489138485  2017-03-10T09:34:45Z   \n97             usda-ndb-import  1489055720  2017-03-09T10:35:20Z   \n98             usda-ndb-import  1489138484  2017-03-10T09:34:44Z   \n99             usda-ndb-import  1489138488  2017-03-10T09:34:48Z   \n\n    last_modified_t last_modified_datetime                    product_name  \\\n0        1474103893   2016-09-17T09:18:13Z              Farine de blé noir   \n1        1489069957   2017-03-09T14:32:37Z  Banana Chips Sweetened (Whole)   \n2        1489069957   2017-03-09T14:32:37Z                         Peanuts   \n3        1489055731   2017-03-09T10:35:31Z          Organic Salted Nut Mix   \n4        1489055653   2017-03-09T10:34:13Z                 Organic Polenta   \n..              ...                    ...                             ...   \n95       1489055715   2017-03-09T10:35:15Z            Organic Pecan Halves   \n96       1489138485   2017-03-10T09:34:45Z    Unsalted Dry Roasted Almonds   \n97       1489055720   2017-03-09T10:35:20Z       Organic Raw Pumpkin Seeds   \n98       1489138484   2017-03-10T09:34:44Z  Organic Extra Virgin Olive Oil   \n99       1489138488   2017-03-10T09:34:48Z                   Liquid Aminos   \n\n    generic_name  ... fruits-vegetables-nuts_100g  \\\n0            NaN  ...                         NaN   \n1            NaN  ...                         NaN   \n2            NaN  ...                         NaN   \n3            NaN  ...                         NaN   \n4            NaN  ...                         NaN   \n..           ...  ...                         ...   \n95           NaN  ...                         NaN   \n96           NaN  ...                         NaN   \n97           NaN  ...                         NaN   \n98           NaN  ...                         NaN   \n99           NaN  ...                         NaN   \n\n   fruits-vegetables-nuts-estimate_100g collagen-meat-protein-ratio_100g  \\\n0                                   NaN                              NaN   \n1                                   NaN                              NaN   \n2                                   NaN                              NaN   \n3                                   NaN                              NaN   \n4                                   NaN                              NaN   \n..                                  ...                              ...   \n95                                  NaN                              NaN   \n96                                  NaN                              NaN   \n97                                  NaN                              NaN   \n98                                  NaN                              NaN   \n99                                  NaN                              NaN   \n\n   cocoa_100g chlorophyl_100g carbon-footprint_100g nutrition-score-fr_100g  \\\n0         NaN             NaN                   NaN                     NaN   \n1         NaN             NaN                   NaN                    14.0   \n2         NaN             NaN                   NaN                     0.0   \n3         NaN             NaN                   NaN                    12.0   \n4         NaN             NaN                   NaN                     NaN   \n..        ...             ...                   ...                     ...   \n95        NaN             NaN                   NaN                     NaN   \n96        NaN             NaN                   NaN                     NaN   \n97        NaN             NaN                   NaN                    12.0   \n98        NaN             NaN                   NaN                     NaN   \n99        NaN             NaN                   NaN                     NaN   \n\n   nutrition-score-uk_100g  glycemic-index_100g  water-hardness_100g  \n0                      NaN                  NaN                  NaN  \n1                     14.0                  NaN                  NaN  \n2                      0.0                  NaN                  NaN  \n3                     12.0                  NaN                  NaN  \n4                      NaN                  NaN                  NaN  \n..                     ...                  ...                  ...  \n95                     NaN                  NaN                  NaN  \n96                     NaN                  NaN                  NaN  \n97                    12.0                  NaN                  NaN  \n98                     NaN                  NaN                  NaN  \n99                     NaN                  NaN                  NaN  \n\n[100 rows x 164 columns]",
      "text/html": "<div>\n<style scoped>\n    .dataframe tbody tr th:only-of-type {\n        vertical-align: middle;\n    }\n\n    .dataframe tbody tr th {\n        vertical-align: top;\n    }\n\n    .dataframe thead th {\n        text-align: right;\n    }\n</style>\n<table border=\"1\" class=\"dataframe\">\n  <thead>\n    <tr style=\"text-align: right;\">\n      <th></th>\n      <th>Unnamed: 0</th>\n      <th>code</th>\n      <th>url</th>\n      <th>creator</th>\n      <th>created_t</th>\n      <th>created_datetime</th>\n      <th>last_modified_t</th>\n      <th>last_modified_datetime</th>\n      <th>product_name</th>\n      <th>generic_name</th>\n      <th>...</th>\n      <th>fruits-vegetables-nuts_100g</th>\n      <th>fruits-vegetables-nuts-estimate_100g</th>\n      <th>collagen-meat-protein-ratio_100g</th>\n      <th>cocoa_100g</th>\n      <th>chlorophyl_100g</th>\n      <th>carbon-footprint_100g</th>\n      <th>nutrition-score-fr_100g</th>\n      <th>nutrition-score-uk_100g</th>\n      <th>glycemic-index_100g</th>\n      <th>water-hardness_100g</th>\n    </tr>\n  </thead>\n  <tbody>\n    <tr>\n      <th>0</th>\n      <td>0</td>\n      <td>3087</td>\n      <td>http://world-en.openfoodfacts.org/product/0000...</td>\n      <td>openfoodfacts-contributors</td>\n      <td>1474103866</td>\n      <td>2016-09-17T09:17:46Z</td>\n      <td>1474103893</td>\n      <td>2016-09-17T09:18:13Z</td>\n      <td>Farine de blé noir</td>\n      <td>NaN</td>\n      <td>...</td>\n      <td>NaN</td>\n      <td>NaN</td>\n      <td>NaN</td>\n      <td>NaN</td>\n      <td>NaN</td>\n      <td>NaN</td>\n      <td>NaN</td>\n      <td>NaN</td>\n      <td>NaN</td>\n      <td>NaN</td>\n    </tr>\n    <tr>\n      <th>1</th>\n      <td>1</td>\n      <td>4530</td>\n      <td>http://world-en.openfoodfacts.org/product/0000...</td>\n      <td>usda-ndb-import</td>\n      <td>1489069957</td>\n      <td>2017-03-09T14:32:37Z</td>\n      <td>1489069957</td>\n      <td>2017-03-09T14:32:37Z</td>\n      <td>Banana Chips Sweetened (Whole)</td>\n      <td>NaN</td>\n      <td>...</td>\n      <td>NaN</td>\n      <td>NaN</td>\n      <td>NaN</td>\n      <td>NaN</td>\n      <td>NaN</td>\n      <td>NaN</td>\n      <td>14.0</td>\n      <td>14.0</td>\n      <td>NaN</td>\n      <td>NaN</td>\n    </tr>\n    <tr>\n      <th>2</th>\n      <td>2</td>\n      <td>4559</td>\n      <td>http://world-en.openfoodfacts.org/product/0000...</td>\n      <td>usda-ndb-import</td>\n      <td>1489069957</td>\n      <td>2017-03-09T14:32:37Z</td>\n      <td>1489069957</td>\n      <td>2017-03-09T14:32:37Z</td>\n      <td>Peanuts</td>\n      <td>NaN</td>\n      <td>...</td>\n      <td>NaN</td>\n      <td>NaN</td>\n      <td>NaN</td>\n      <td>NaN</td>\n      <td>NaN</td>\n      <td>NaN</td>\n      <td>0.0</td>\n      <td>0.0</td>\n      <td>NaN</td>\n      <td>NaN</td>\n    </tr>\n    <tr>\n      <th>3</th>\n      <td>3</td>\n      <td>16087</td>\n      <td>http://world-en.openfoodfacts.org/product/0000...</td>\n      <td>usda-ndb-import</td>\n      <td>1489055731</td>\n      <td>2017-03-09T10:35:31Z</td>\n      <td>1489055731</td>\n      <td>2017-03-09T10:35:31Z</td>\n      <td>Organic Salted Nut Mix</td>\n      <td>NaN</td>\n      <td>...</td>\n      <td>NaN</td>\n      <td>NaN</td>\n      <td>NaN</td>\n      <td>NaN</td>\n      <td>NaN</td>\n      <td>NaN</td>\n      <td>12.0</td>\n      <td>12.0</td>\n      <td>NaN</td>\n      <td>NaN</td>\n    </tr>\n    <tr>\n      <th>4</th>\n      <td>4</td>\n      <td>16094</td>\n      <td>http://world-en.openfoodfacts.org/product/0000...</td>\n      <td>usda-ndb-import</td>\n      <td>1489055653</td>\n      <td>2017-03-09T10:34:13Z</td>\n      <td>1489055653</td>\n      <td>2017-03-09T10:34:13Z</td>\n      <td>Organic Polenta</td>\n      <td>NaN</td>\n      <td>...</td>\n      <td>NaN</td>\n      <td>NaN</td>\n      <td>NaN</td>\n      <td>NaN</td>\n      <td>NaN</td>\n      <td>NaN</td>\n      <td>NaN</td>\n      <td>NaN</td>\n      <td>NaN</td>\n      <td>NaN</td>\n    </tr>\n    <tr>\n      <th>...</th>\n      <td>...</td>\n      <td>...</td>\n      <td>...</td>\n      <td>...</td>\n      <td>...</td>\n      <td>...</td>\n      <td>...</td>\n      <td>...</td>\n      <td>...</td>\n      <td>...</td>\n      <td>...</td>\n      <td>...</td>\n      <td>...</td>\n      <td>...</td>\n      <td>...</td>\n      <td>...</td>\n      <td>...</td>\n      <td>...</td>\n      <td>...</td>\n      <td>...</td>\n      <td>...</td>\n    </tr>\n    <tr>\n      <th>95</th>\n      <td>95</td>\n      <td>34715</td>\n      <td>http://world-en.openfoodfacts.org/product/0000...</td>\n      <td>usda-ndb-import</td>\n      <td>1489055715</td>\n      <td>2017-03-09T10:35:15Z</td>\n      <td>1489055715</td>\n      <td>2017-03-09T10:35:15Z</td>\n      <td>Organic Pecan Halves</td>\n      <td>NaN</td>\n      <td>...</td>\n      <td>NaN</td>\n      <td>NaN</td>\n      <td>NaN</td>\n      <td>NaN</td>\n      <td>NaN</td>\n      <td>NaN</td>\n      <td>NaN</td>\n      <td>NaN</td>\n      <td>NaN</td>\n      <td>NaN</td>\n    </tr>\n    <tr>\n      <th>96</th>\n      <td>96</td>\n      <td>34784</td>\n      <td>http://world-en.openfoodfacts.org/product/0000...</td>\n      <td>usda-ndb-import</td>\n      <td>1489138485</td>\n      <td>2017-03-10T09:34:45Z</td>\n      <td>1489138485</td>\n      <td>2017-03-10T09:34:45Z</td>\n      <td>Unsalted Dry Roasted Almonds</td>\n      <td>NaN</td>\n      <td>...</td>\n      <td>NaN</td>\n      <td>NaN</td>\n      <td>NaN</td>\n      <td>NaN</td>\n      <td>NaN</td>\n      <td>NaN</td>\n      <td>NaN</td>\n      <td>NaN</td>\n      <td>NaN</td>\n      <td>NaN</td>\n    </tr>\n    <tr>\n      <th>97</th>\n      <td>97</td>\n      <td>34791</td>\n      <td>http://world-en.openfoodfacts.org/product/0000...</td>\n      <td>usda-ndb-import</td>\n      <td>1489055720</td>\n      <td>2017-03-09T10:35:20Z</td>\n      <td>1489055720</td>\n      <td>2017-03-09T10:35:20Z</td>\n      <td>Organic Raw Pumpkin Seeds</td>\n      <td>NaN</td>\n      <td>...</td>\n      <td>NaN</td>\n      <td>NaN</td>\n      <td>NaN</td>\n      <td>NaN</td>\n      <td>NaN</td>\n      <td>NaN</td>\n      <td>12.0</td>\n      <td>12.0</td>\n      <td>NaN</td>\n      <td>NaN</td>\n    </tr>\n    <tr>\n      <th>98</th>\n      <td>98</td>\n      <td>35071</td>\n      <td>http://world-en.openfoodfacts.org/product/0000...</td>\n      <td>usda-ndb-import</td>\n      <td>1489138484</td>\n      <td>2017-03-10T09:34:44Z</td>\n      <td>1489138484</td>\n      <td>2017-03-10T09:34:44Z</td>\n      <td>Organic Extra Virgin Olive Oil</td>\n      <td>NaN</td>\n      <td>...</td>\n      <td>NaN</td>\n      <td>NaN</td>\n      <td>NaN</td>\n      <td>NaN</td>\n      <td>NaN</td>\n      <td>NaN</td>\n      <td>NaN</td>\n      <td>NaN</td>\n      <td>NaN</td>\n      <td>NaN</td>\n    </tr>\n    <tr>\n      <th>99</th>\n      <td>99</td>\n      <td>35170</td>\n      <td>http://world-en.openfoodfacts.org/product/0000...</td>\n      <td>usda-ndb-import</td>\n      <td>1489138488</td>\n      <td>2017-03-10T09:34:48Z</td>\n      <td>1489138488</td>\n      <td>2017-03-10T09:34:48Z</td>\n      <td>Liquid Aminos</td>\n      <td>NaN</td>\n      <td>...</td>\n      <td>NaN</td>\n      <td>NaN</td>\n      <td>NaN</td>\n      <td>NaN</td>\n      <td>NaN</td>\n      <td>NaN</td>\n      <td>NaN</td>\n      <td>NaN</td>\n      <td>NaN</td>\n      <td>NaN</td>\n    </tr>\n  </tbody>\n</table>\n<p>100 rows × 164 columns</p>\n</div>"
     },
     "metadata": {},
     "execution_count": 139
    }
   ],
   "source": [
    "import pandas as pd\n",
    "import numpy as np \n",
    "\n",
    "df = pd.read_csv(\"/Users/rochi/Desktop/TestFolder/DataScienceBootCampMIO/ProjectsDS/Week9/day2/data/food_100.csv\")\n",
    "df"
   ]
  },
  {
   "cell_type": "code",
   "execution_count": 140,
   "metadata": {},
   "outputs": [
    {
     "output_type": "execute_result",
     "data": {
      "text/plain": "(100, 164)"
     },
     "metadata": {},
     "execution_count": 140
    }
   ],
   "source": [
    "df.shape"
   ]
  },
  {
   "cell_type": "code",
   "execution_count": 141,
   "metadata": {},
   "outputs": [
    {
     "output_type": "execute_result",
     "data": {
      "text/plain": "Index(['Unnamed: 0', 'code', 'url', 'creator', 'created_t', 'created_datetime',\n       'last_modified_t', 'last_modified_datetime', 'product_name',\n       'generic_name',\n       ...\n       'fruits-vegetables-nuts_100g', 'fruits-vegetables-nuts-estimate_100g',\n       'collagen-meat-protein-ratio_100g', 'cocoa_100g', 'chlorophyl_100g',\n       'carbon-footprint_100g', 'nutrition-score-fr_100g',\n       'nutrition-score-uk_100g', 'glycemic-index_100g',\n       'water-hardness_100g'],\n      dtype='object', length=164)"
     },
     "metadata": {},
     "execution_count": 141
    }
   ],
   "source": [
    "df.columns"
   ]
  },
  {
   "cell_type": "code",
   "execution_count": 142,
   "metadata": {},
   "outputs": [],
   "source": [
    "del df['Unnamed: 0']"
   ]
  },
  {
   "cell_type": "code",
   "execution_count": 143,
   "metadata": {},
   "outputs": [
    {
     "output_type": "execute_result",
     "data": {
      "text/plain": "     code                                                url  \\\n0    3087  http://world-en.openfoodfacts.org/product/0000...   \n1    4530  http://world-en.openfoodfacts.org/product/0000...   \n2    4559  http://world-en.openfoodfacts.org/product/0000...   \n3   16087  http://world-en.openfoodfacts.org/product/0000...   \n4   16094  http://world-en.openfoodfacts.org/product/0000...   \n..    ...                                                ...   \n95  34715  http://world-en.openfoodfacts.org/product/0000...   \n96  34784  http://world-en.openfoodfacts.org/product/0000...   \n97  34791  http://world-en.openfoodfacts.org/product/0000...   \n98  35071  http://world-en.openfoodfacts.org/product/0000...   \n99  35170  http://world-en.openfoodfacts.org/product/0000...   \n\n                       creator   created_t      created_datetime  \\\n0   openfoodfacts-contributors  1474103866  2016-09-17T09:17:46Z   \n1              usda-ndb-import  1489069957  2017-03-09T14:32:37Z   \n2              usda-ndb-import  1489069957  2017-03-09T14:32:37Z   \n3              usda-ndb-import  1489055731  2017-03-09T10:35:31Z   \n4              usda-ndb-import  1489055653  2017-03-09T10:34:13Z   \n..                         ...         ...                   ...   \n95             usda-ndb-import  1489055715  2017-03-09T10:35:15Z   \n96             usda-ndb-import  1489138485  2017-03-10T09:34:45Z   \n97             usda-ndb-import  1489055720  2017-03-09T10:35:20Z   \n98             usda-ndb-import  1489138484  2017-03-10T09:34:44Z   \n99             usda-ndb-import  1489138488  2017-03-10T09:34:48Z   \n\n    last_modified_t last_modified_datetime                    product_name  \\\n0        1474103893   2016-09-17T09:18:13Z              Farine de blé noir   \n1        1489069957   2017-03-09T14:32:37Z  Banana Chips Sweetened (Whole)   \n2        1489069957   2017-03-09T14:32:37Z                         Peanuts   \n3        1489055731   2017-03-09T10:35:31Z          Organic Salted Nut Mix   \n4        1489055653   2017-03-09T10:34:13Z                 Organic Polenta   \n..              ...                    ...                             ...   \n95       1489055715   2017-03-09T10:35:15Z            Organic Pecan Halves   \n96       1489138485   2017-03-10T09:34:45Z    Unsalted Dry Roasted Almonds   \n97       1489055720   2017-03-09T10:35:20Z       Organic Raw Pumpkin Seeds   \n98       1489138484   2017-03-10T09:34:44Z  Organic Extra Virgin Olive Oil   \n99       1489138488   2017-03-10T09:34:48Z                   Liquid Aminos   \n\n    generic_name quantity  ... fruits-vegetables-nuts_100g  \\\n0            NaN      1kg  ...                         NaN   \n1            NaN      NaN  ...                         NaN   \n2            NaN      NaN  ...                         NaN   \n3            NaN      NaN  ...                         NaN   \n4            NaN      NaN  ...                         NaN   \n..           ...      ...  ...                         ...   \n95           NaN      NaN  ...                         NaN   \n96           NaN      NaN  ...                         NaN   \n97           NaN      NaN  ...                         NaN   \n98           NaN      NaN  ...                         NaN   \n99           NaN      NaN  ...                         NaN   \n\n   fruits-vegetables-nuts-estimate_100g collagen-meat-protein-ratio_100g  \\\n0                                   NaN                              NaN   \n1                                   NaN                              NaN   \n2                                   NaN                              NaN   \n3                                   NaN                              NaN   \n4                                   NaN                              NaN   \n..                                  ...                              ...   \n95                                  NaN                              NaN   \n96                                  NaN                              NaN   \n97                                  NaN                              NaN   \n98                                  NaN                              NaN   \n99                                  NaN                              NaN   \n\n   cocoa_100g chlorophyl_100g carbon-footprint_100g nutrition-score-fr_100g  \\\n0         NaN             NaN                   NaN                     NaN   \n1         NaN             NaN                   NaN                    14.0   \n2         NaN             NaN                   NaN                     0.0   \n3         NaN             NaN                   NaN                    12.0   \n4         NaN             NaN                   NaN                     NaN   \n..        ...             ...                   ...                     ...   \n95        NaN             NaN                   NaN                     NaN   \n96        NaN             NaN                   NaN                     NaN   \n97        NaN             NaN                   NaN                    12.0   \n98        NaN             NaN                   NaN                     NaN   \n99        NaN             NaN                   NaN                     NaN   \n\n    nutrition-score-uk_100g  glycemic-index_100g  water-hardness_100g  \n0                       NaN                  NaN                  NaN  \n1                      14.0                  NaN                  NaN  \n2                       0.0                  NaN                  NaN  \n3                      12.0                  NaN                  NaN  \n4                       NaN                  NaN                  NaN  \n..                      ...                  ...                  ...  \n95                      NaN                  NaN                  NaN  \n96                      NaN                  NaN                  NaN  \n97                     12.0                  NaN                  NaN  \n98                      NaN                  NaN                  NaN  \n99                      NaN                  NaN                  NaN  \n\n[100 rows x 163 columns]",
      "text/html": "<div>\n<style scoped>\n    .dataframe tbody tr th:only-of-type {\n        vertical-align: middle;\n    }\n\n    .dataframe tbody tr th {\n        vertical-align: top;\n    }\n\n    .dataframe thead th {\n        text-align: right;\n    }\n</style>\n<table border=\"1\" class=\"dataframe\">\n  <thead>\n    <tr style=\"text-align: right;\">\n      <th></th>\n      <th>code</th>\n      <th>url</th>\n      <th>creator</th>\n      <th>created_t</th>\n      <th>created_datetime</th>\n      <th>last_modified_t</th>\n      <th>last_modified_datetime</th>\n      <th>product_name</th>\n      <th>generic_name</th>\n      <th>quantity</th>\n      <th>...</th>\n      <th>fruits-vegetables-nuts_100g</th>\n      <th>fruits-vegetables-nuts-estimate_100g</th>\n      <th>collagen-meat-protein-ratio_100g</th>\n      <th>cocoa_100g</th>\n      <th>chlorophyl_100g</th>\n      <th>carbon-footprint_100g</th>\n      <th>nutrition-score-fr_100g</th>\n      <th>nutrition-score-uk_100g</th>\n      <th>glycemic-index_100g</th>\n      <th>water-hardness_100g</th>\n    </tr>\n  </thead>\n  <tbody>\n    <tr>\n      <th>0</th>\n      <td>3087</td>\n      <td>http://world-en.openfoodfacts.org/product/0000...</td>\n      <td>openfoodfacts-contributors</td>\n      <td>1474103866</td>\n      <td>2016-09-17T09:17:46Z</td>\n      <td>1474103893</td>\n      <td>2016-09-17T09:18:13Z</td>\n      <td>Farine de blé noir</td>\n      <td>NaN</td>\n      <td>1kg</td>\n      <td>...</td>\n      <td>NaN</td>\n      <td>NaN</td>\n      <td>NaN</td>\n      <td>NaN</td>\n      <td>NaN</td>\n      <td>NaN</td>\n      <td>NaN</td>\n      <td>NaN</td>\n      <td>NaN</td>\n      <td>NaN</td>\n    </tr>\n    <tr>\n      <th>1</th>\n      <td>4530</td>\n      <td>http://world-en.openfoodfacts.org/product/0000...</td>\n      <td>usda-ndb-import</td>\n      <td>1489069957</td>\n      <td>2017-03-09T14:32:37Z</td>\n      <td>1489069957</td>\n      <td>2017-03-09T14:32:37Z</td>\n      <td>Banana Chips Sweetened (Whole)</td>\n      <td>NaN</td>\n      <td>NaN</td>\n      <td>...</td>\n      <td>NaN</td>\n      <td>NaN</td>\n      <td>NaN</td>\n      <td>NaN</td>\n      <td>NaN</td>\n      <td>NaN</td>\n      <td>14.0</td>\n      <td>14.0</td>\n      <td>NaN</td>\n      <td>NaN</td>\n    </tr>\n    <tr>\n      <th>2</th>\n      <td>4559</td>\n      <td>http://world-en.openfoodfacts.org/product/0000...</td>\n      <td>usda-ndb-import</td>\n      <td>1489069957</td>\n      <td>2017-03-09T14:32:37Z</td>\n      <td>1489069957</td>\n      <td>2017-03-09T14:32:37Z</td>\n      <td>Peanuts</td>\n      <td>NaN</td>\n      <td>NaN</td>\n      <td>...</td>\n      <td>NaN</td>\n      <td>NaN</td>\n      <td>NaN</td>\n      <td>NaN</td>\n      <td>NaN</td>\n      <td>NaN</td>\n      <td>0.0</td>\n      <td>0.0</td>\n      <td>NaN</td>\n      <td>NaN</td>\n    </tr>\n    <tr>\n      <th>3</th>\n      <td>16087</td>\n      <td>http://world-en.openfoodfacts.org/product/0000...</td>\n      <td>usda-ndb-import</td>\n      <td>1489055731</td>\n      <td>2017-03-09T10:35:31Z</td>\n      <td>1489055731</td>\n      <td>2017-03-09T10:35:31Z</td>\n      <td>Organic Salted Nut Mix</td>\n      <td>NaN</td>\n      <td>NaN</td>\n      <td>...</td>\n      <td>NaN</td>\n      <td>NaN</td>\n      <td>NaN</td>\n      <td>NaN</td>\n      <td>NaN</td>\n      <td>NaN</td>\n      <td>12.0</td>\n      <td>12.0</td>\n      <td>NaN</td>\n      <td>NaN</td>\n    </tr>\n    <tr>\n      <th>4</th>\n      <td>16094</td>\n      <td>http://world-en.openfoodfacts.org/product/0000...</td>\n      <td>usda-ndb-import</td>\n      <td>1489055653</td>\n      <td>2017-03-09T10:34:13Z</td>\n      <td>1489055653</td>\n      <td>2017-03-09T10:34:13Z</td>\n      <td>Organic Polenta</td>\n      <td>NaN</td>\n      <td>NaN</td>\n      <td>...</td>\n      <td>NaN</td>\n      <td>NaN</td>\n      <td>NaN</td>\n      <td>NaN</td>\n      <td>NaN</td>\n      <td>NaN</td>\n      <td>NaN</td>\n      <td>NaN</td>\n      <td>NaN</td>\n      <td>NaN</td>\n    </tr>\n    <tr>\n      <th>...</th>\n      <td>...</td>\n      <td>...</td>\n      <td>...</td>\n      <td>...</td>\n      <td>...</td>\n      <td>...</td>\n      <td>...</td>\n      <td>...</td>\n      <td>...</td>\n      <td>...</td>\n      <td>...</td>\n      <td>...</td>\n      <td>...</td>\n      <td>...</td>\n      <td>...</td>\n      <td>...</td>\n      <td>...</td>\n      <td>...</td>\n      <td>...</td>\n      <td>...</td>\n      <td>...</td>\n    </tr>\n    <tr>\n      <th>95</th>\n      <td>34715</td>\n      <td>http://world-en.openfoodfacts.org/product/0000...</td>\n      <td>usda-ndb-import</td>\n      <td>1489055715</td>\n      <td>2017-03-09T10:35:15Z</td>\n      <td>1489055715</td>\n      <td>2017-03-09T10:35:15Z</td>\n      <td>Organic Pecan Halves</td>\n      <td>NaN</td>\n      <td>NaN</td>\n      <td>...</td>\n      <td>NaN</td>\n      <td>NaN</td>\n      <td>NaN</td>\n      <td>NaN</td>\n      <td>NaN</td>\n      <td>NaN</td>\n      <td>NaN</td>\n      <td>NaN</td>\n      <td>NaN</td>\n      <td>NaN</td>\n    </tr>\n    <tr>\n      <th>96</th>\n      <td>34784</td>\n      <td>http://world-en.openfoodfacts.org/product/0000...</td>\n      <td>usda-ndb-import</td>\n      <td>1489138485</td>\n      <td>2017-03-10T09:34:45Z</td>\n      <td>1489138485</td>\n      <td>2017-03-10T09:34:45Z</td>\n      <td>Unsalted Dry Roasted Almonds</td>\n      <td>NaN</td>\n      <td>NaN</td>\n      <td>...</td>\n      <td>NaN</td>\n      <td>NaN</td>\n      <td>NaN</td>\n      <td>NaN</td>\n      <td>NaN</td>\n      <td>NaN</td>\n      <td>NaN</td>\n      <td>NaN</td>\n      <td>NaN</td>\n      <td>NaN</td>\n    </tr>\n    <tr>\n      <th>97</th>\n      <td>34791</td>\n      <td>http://world-en.openfoodfacts.org/product/0000...</td>\n      <td>usda-ndb-import</td>\n      <td>1489055720</td>\n      <td>2017-03-09T10:35:20Z</td>\n      <td>1489055720</td>\n      <td>2017-03-09T10:35:20Z</td>\n      <td>Organic Raw Pumpkin Seeds</td>\n      <td>NaN</td>\n      <td>NaN</td>\n      <td>...</td>\n      <td>NaN</td>\n      <td>NaN</td>\n      <td>NaN</td>\n      <td>NaN</td>\n      <td>NaN</td>\n      <td>NaN</td>\n      <td>12.0</td>\n      <td>12.0</td>\n      <td>NaN</td>\n      <td>NaN</td>\n    </tr>\n    <tr>\n      <th>98</th>\n      <td>35071</td>\n      <td>http://world-en.openfoodfacts.org/product/0000...</td>\n      <td>usda-ndb-import</td>\n      <td>1489138484</td>\n      <td>2017-03-10T09:34:44Z</td>\n      <td>1489138484</td>\n      <td>2017-03-10T09:34:44Z</td>\n      <td>Organic Extra Virgin Olive Oil</td>\n      <td>NaN</td>\n      <td>NaN</td>\n      <td>...</td>\n      <td>NaN</td>\n      <td>NaN</td>\n      <td>NaN</td>\n      <td>NaN</td>\n      <td>NaN</td>\n      <td>NaN</td>\n      <td>NaN</td>\n      <td>NaN</td>\n      <td>NaN</td>\n      <td>NaN</td>\n    </tr>\n    <tr>\n      <th>99</th>\n      <td>35170</td>\n      <td>http://world-en.openfoodfacts.org/product/0000...</td>\n      <td>usda-ndb-import</td>\n      <td>1489138488</td>\n      <td>2017-03-10T09:34:48Z</td>\n      <td>1489138488</td>\n      <td>2017-03-10T09:34:48Z</td>\n      <td>Liquid Aminos</td>\n      <td>NaN</td>\n      <td>NaN</td>\n      <td>...</td>\n      <td>NaN</td>\n      <td>NaN</td>\n      <td>NaN</td>\n      <td>NaN</td>\n      <td>NaN</td>\n      <td>NaN</td>\n      <td>NaN</td>\n      <td>NaN</td>\n      <td>NaN</td>\n      <td>NaN</td>\n    </tr>\n  </tbody>\n</table>\n<p>100 rows × 163 columns</p>\n</div>"
     },
     "metadata": {},
     "execution_count": 143
    }
   ],
   "source": [
    "df"
   ]
  },
  {
   "cell_type": "code",
   "execution_count": 144,
   "metadata": {},
   "outputs": [
    {
     "output_type": "execute_result",
     "data": {
      "text/plain": "(100, 163)"
     },
     "metadata": {},
     "execution_count": 144
    }
   ],
   "source": [
    "df.shape"
   ]
  },
  {
   "cell_type": "code",
   "execution_count": 145,
   "metadata": {},
   "outputs": [
    {
     "output_type": "execute_result",
     "data": {
      "text/plain": "Index(['code', 'url', 'creator', 'created_t', 'created_datetime',\n       'last_modified_t', 'last_modified_datetime', 'product_name',\n       'generic_name', 'quantity',\n       ...\n       'fruits-vegetables-nuts_100g', 'fruits-vegetables-nuts-estimate_100g',\n       'collagen-meat-protein-ratio_100g', 'cocoa_100g', 'chlorophyl_100g',\n       'carbon-footprint_100g', 'nutrition-score-fr_100g',\n       'nutrition-score-uk_100g', 'glycemic-index_100g',\n       'water-hardness_100g'],\n      dtype='object', length=163)"
     },
     "metadata": {},
     "execution_count": 145
    }
   ],
   "source": [
    "df.columns"
   ]
  },
  {
   "cell_type": "markdown",
   "metadata": {},
   "source": [
    "2. ¿Qué porcentaje de valores NaN hay en cada columna?"
   ]
  },
  {
   "cell_type": "code",
   "execution_count": 146,
   "metadata": {},
   "outputs": [
    {
     "output_type": "execute_result",
     "data": {
      "text/plain": "     code    url  creator  created_t  created_datetime  last_modified_t  \\\n0   False  False    False      False             False            False   \n1   False  False    False      False             False            False   \n2   False  False    False      False             False            False   \n3   False  False    False      False             False            False   \n4   False  False    False      False             False            False   \n..    ...    ...      ...        ...               ...              ...   \n95  False  False    False      False             False            False   \n96  False  False    False      False             False            False   \n97  False  False    False      False             False            False   \n98  False  False    False      False             False            False   \n99  False  False    False      False             False            False   \n\n    last_modified_datetime  product_name  generic_name  quantity  ...  \\\n0                    False         False          True     False  ...   \n1                    False         False          True      True  ...   \n2                    False         False          True      True  ...   \n3                    False         False          True      True  ...   \n4                    False         False          True      True  ...   \n..                     ...           ...           ...       ...  ...   \n95                   False         False          True      True  ...   \n96                   False         False          True      True  ...   \n97                   False         False          True      True  ...   \n98                   False         False          True      True  ...   \n99                   False         False          True      True  ...   \n\n    fruits-vegetables-nuts_100g  fruits-vegetables-nuts-estimate_100g  \\\n0                          True                                  True   \n1                          True                                  True   \n2                          True                                  True   \n3                          True                                  True   \n4                          True                                  True   \n..                          ...                                   ...   \n95                         True                                  True   \n96                         True                                  True   \n97                         True                                  True   \n98                         True                                  True   \n99                         True                                  True   \n\n    collagen-meat-protein-ratio_100g  cocoa_100g  chlorophyl_100g  \\\n0                               True        True             True   \n1                               True        True             True   \n2                               True        True             True   \n3                               True        True             True   \n4                               True        True             True   \n..                               ...         ...              ...   \n95                              True        True             True   \n96                              True        True             True   \n97                              True        True             True   \n98                              True        True             True   \n99                              True        True             True   \n\n    carbon-footprint_100g  nutrition-score-fr_100g  nutrition-score-uk_100g  \\\n0                    True                     True                     True   \n1                    True                    False                    False   \n2                    True                    False                    False   \n3                    True                    False                    False   \n4                    True                     True                     True   \n..                    ...                      ...                      ...   \n95                   True                     True                     True   \n96                   True                     True                     True   \n97                   True                    False                    False   \n98                   True                     True                     True   \n99                   True                     True                     True   \n\n    glycemic-index_100g  water-hardness_100g  \n0                  True                 True  \n1                  True                 True  \n2                  True                 True  \n3                  True                 True  \n4                  True                 True  \n..                  ...                  ...  \n95                 True                 True  \n96                 True                 True  \n97                 True                 True  \n98                 True                 True  \n99                 True                 True  \n\n[100 rows x 163 columns]",
      "text/html": "<div>\n<style scoped>\n    .dataframe tbody tr th:only-of-type {\n        vertical-align: middle;\n    }\n\n    .dataframe tbody tr th {\n        vertical-align: top;\n    }\n\n    .dataframe thead th {\n        text-align: right;\n    }\n</style>\n<table border=\"1\" class=\"dataframe\">\n  <thead>\n    <tr style=\"text-align: right;\">\n      <th></th>\n      <th>code</th>\n      <th>url</th>\n      <th>creator</th>\n      <th>created_t</th>\n      <th>created_datetime</th>\n      <th>last_modified_t</th>\n      <th>last_modified_datetime</th>\n      <th>product_name</th>\n      <th>generic_name</th>\n      <th>quantity</th>\n      <th>...</th>\n      <th>fruits-vegetables-nuts_100g</th>\n      <th>fruits-vegetables-nuts-estimate_100g</th>\n      <th>collagen-meat-protein-ratio_100g</th>\n      <th>cocoa_100g</th>\n      <th>chlorophyl_100g</th>\n      <th>carbon-footprint_100g</th>\n      <th>nutrition-score-fr_100g</th>\n      <th>nutrition-score-uk_100g</th>\n      <th>glycemic-index_100g</th>\n      <th>water-hardness_100g</th>\n    </tr>\n  </thead>\n  <tbody>\n    <tr>\n      <th>0</th>\n      <td>False</td>\n      <td>False</td>\n      <td>False</td>\n      <td>False</td>\n      <td>False</td>\n      <td>False</td>\n      <td>False</td>\n      <td>False</td>\n      <td>True</td>\n      <td>False</td>\n      <td>...</td>\n      <td>True</td>\n      <td>True</td>\n      <td>True</td>\n      <td>True</td>\n      <td>True</td>\n      <td>True</td>\n      <td>True</td>\n      <td>True</td>\n      <td>True</td>\n      <td>True</td>\n    </tr>\n    <tr>\n      <th>1</th>\n      <td>False</td>\n      <td>False</td>\n      <td>False</td>\n      <td>False</td>\n      <td>False</td>\n      <td>False</td>\n      <td>False</td>\n      <td>False</td>\n      <td>True</td>\n      <td>True</td>\n      <td>...</td>\n      <td>True</td>\n      <td>True</td>\n      <td>True</td>\n      <td>True</td>\n      <td>True</td>\n      <td>True</td>\n      <td>False</td>\n      <td>False</td>\n      <td>True</td>\n      <td>True</td>\n    </tr>\n    <tr>\n      <th>2</th>\n      <td>False</td>\n      <td>False</td>\n      <td>False</td>\n      <td>False</td>\n      <td>False</td>\n      <td>False</td>\n      <td>False</td>\n      <td>False</td>\n      <td>True</td>\n      <td>True</td>\n      <td>...</td>\n      <td>True</td>\n      <td>True</td>\n      <td>True</td>\n      <td>True</td>\n      <td>True</td>\n      <td>True</td>\n      <td>False</td>\n      <td>False</td>\n      <td>True</td>\n      <td>True</td>\n    </tr>\n    <tr>\n      <th>3</th>\n      <td>False</td>\n      <td>False</td>\n      <td>False</td>\n      <td>False</td>\n      <td>False</td>\n      <td>False</td>\n      <td>False</td>\n      <td>False</td>\n      <td>True</td>\n      <td>True</td>\n      <td>...</td>\n      <td>True</td>\n      <td>True</td>\n      <td>True</td>\n      <td>True</td>\n      <td>True</td>\n      <td>True</td>\n      <td>False</td>\n      <td>False</td>\n      <td>True</td>\n      <td>True</td>\n    </tr>\n    <tr>\n      <th>4</th>\n      <td>False</td>\n      <td>False</td>\n      <td>False</td>\n      <td>False</td>\n      <td>False</td>\n      <td>False</td>\n      <td>False</td>\n      <td>False</td>\n      <td>True</td>\n      <td>True</td>\n      <td>...</td>\n      <td>True</td>\n      <td>True</td>\n      <td>True</td>\n      <td>True</td>\n      <td>True</td>\n      <td>True</td>\n      <td>True</td>\n      <td>True</td>\n      <td>True</td>\n      <td>True</td>\n    </tr>\n    <tr>\n      <th>...</th>\n      <td>...</td>\n      <td>...</td>\n      <td>...</td>\n      <td>...</td>\n      <td>...</td>\n      <td>...</td>\n      <td>...</td>\n      <td>...</td>\n      <td>...</td>\n      <td>...</td>\n      <td>...</td>\n      <td>...</td>\n      <td>...</td>\n      <td>...</td>\n      <td>...</td>\n      <td>...</td>\n      <td>...</td>\n      <td>...</td>\n      <td>...</td>\n      <td>...</td>\n      <td>...</td>\n    </tr>\n    <tr>\n      <th>95</th>\n      <td>False</td>\n      <td>False</td>\n      <td>False</td>\n      <td>False</td>\n      <td>False</td>\n      <td>False</td>\n      <td>False</td>\n      <td>False</td>\n      <td>True</td>\n      <td>True</td>\n      <td>...</td>\n      <td>True</td>\n      <td>True</td>\n      <td>True</td>\n      <td>True</td>\n      <td>True</td>\n      <td>True</td>\n      <td>True</td>\n      <td>True</td>\n      <td>True</td>\n      <td>True</td>\n    </tr>\n    <tr>\n      <th>96</th>\n      <td>False</td>\n      <td>False</td>\n      <td>False</td>\n      <td>False</td>\n      <td>False</td>\n      <td>False</td>\n      <td>False</td>\n      <td>False</td>\n      <td>True</td>\n      <td>True</td>\n      <td>...</td>\n      <td>True</td>\n      <td>True</td>\n      <td>True</td>\n      <td>True</td>\n      <td>True</td>\n      <td>True</td>\n      <td>True</td>\n      <td>True</td>\n      <td>True</td>\n      <td>True</td>\n    </tr>\n    <tr>\n      <th>97</th>\n      <td>False</td>\n      <td>False</td>\n      <td>False</td>\n      <td>False</td>\n      <td>False</td>\n      <td>False</td>\n      <td>False</td>\n      <td>False</td>\n      <td>True</td>\n      <td>True</td>\n      <td>...</td>\n      <td>True</td>\n      <td>True</td>\n      <td>True</td>\n      <td>True</td>\n      <td>True</td>\n      <td>True</td>\n      <td>False</td>\n      <td>False</td>\n      <td>True</td>\n      <td>True</td>\n    </tr>\n    <tr>\n      <th>98</th>\n      <td>False</td>\n      <td>False</td>\n      <td>False</td>\n      <td>False</td>\n      <td>False</td>\n      <td>False</td>\n      <td>False</td>\n      <td>False</td>\n      <td>True</td>\n      <td>True</td>\n      <td>...</td>\n      <td>True</td>\n      <td>True</td>\n      <td>True</td>\n      <td>True</td>\n      <td>True</td>\n      <td>True</td>\n      <td>True</td>\n      <td>True</td>\n      <td>True</td>\n      <td>True</td>\n    </tr>\n    <tr>\n      <th>99</th>\n      <td>False</td>\n      <td>False</td>\n      <td>False</td>\n      <td>False</td>\n      <td>False</td>\n      <td>False</td>\n      <td>False</td>\n      <td>False</td>\n      <td>True</td>\n      <td>True</td>\n      <td>...</td>\n      <td>True</td>\n      <td>True</td>\n      <td>True</td>\n      <td>True</td>\n      <td>True</td>\n      <td>True</td>\n      <td>True</td>\n      <td>True</td>\n      <td>True</td>\n      <td>True</td>\n    </tr>\n  </tbody>\n</table>\n<p>100 rows × 163 columns</p>\n</div>"
     },
     "metadata": {},
     "execution_count": 146
    }
   ],
   "source": [
    "df.isnull()"
   ]
  },
  {
   "cell_type": "code",
   "execution_count": 191,
   "metadata": {},
   "outputs": [
    {
     "output_type": "execute_result",
     "data": {
      "text/plain": "code                         0\nurl                          0\ncreator                      0\ncreated_t                    0\ncreated_datetime             0\n                          ... \ncarbon-footprint_100g      100\nnutrition-score-fr_100g     63\nnutrition-score-uk_100g     63\nglycemic-index_100g        100\nwater-hardness_100g        100\nLength: 163, dtype: int64"
     },
     "metadata": {},
     "execution_count": 191
    }
   ],
   "source": [
    "nans = df.isna().sum()\n",
    "nans"
   ]
  },
  {
   "cell_type": "code",
   "execution_count": 192,
   "metadata": {},
   "outputs": [
    {
     "output_type": "execute_result",
     "data": {
      "text/plain": "dtype('int64')"
     },
     "metadata": {},
     "execution_count": 192
    }
   ],
   "source": [
    "nans.dtype"
   ]
  },
  {
   "cell_type": "code",
   "execution_count": 193,
   "metadata": {},
   "outputs": [
    {
     "output_type": "execute_result",
     "data": {
      "text/plain": "pandas.core.series.Series"
     },
     "metadata": {},
     "execution_count": 193
    }
   ],
   "source": [
    "type(nans)"
   ]
  },
  {
   "cell_type": "code",
   "execution_count": 194,
   "metadata": {},
   "outputs": [
    {
     "output_type": "execute_result",
     "data": {
      "text/plain": "163"
     },
     "metadata": {},
     "execution_count": 194
    }
   ],
   "source": [
    "len(nans)"
   ]
  },
  {
   "cell_type": "code",
   "execution_count": 195,
   "metadata": {},
   "outputs": [
    {
     "output_type": "execute_result",
     "data": {
      "text/plain": "<bound method IndexOpsMixin.value_counts of code                         0\nurl                          0\ncreator                      0\ncreated_t                    0\ncreated_datetime             0\n                          ... \ncarbon-footprint_100g      100\nnutrition-score-fr_100g     63\nnutrition-score-uk_100g     63\nglycemic-index_100g        100\nwater-hardness_100g        100\nLength: 163, dtype: int64>"
     },
     "metadata": {},
     "execution_count": 195
    }
   ],
   "source": [
    "nans.value_counts"
   ]
  },
  {
   "cell_type": "markdown",
   "metadata": {},
   "source": [
    "3. ¿Tendría algún sentido clasificar el nombre de los alimentos a partir del top5 de columnas numéricas con menos valores NaN?"
   ]
  },
  {
   "cell_type": "code",
   "execution_count": 197,
   "metadata": {},
   "outputs": [
    {
     "output_type": "execute_result",
     "data": {
      "text/plain": "code                             0\ncountries_tags                   0\ncountries_en                     0\nstates_tags                      0\nstates                           0\n                              ... \n-arachidic-acid_100g           100\n-stearic-acid_100g             100\n-palmitic-acid_100g            100\n-eicosapentaenoic-acid_100g    100\nwater-hardness_100g            100\nLength: 163, dtype: int64"
     },
     "metadata": {},
     "execution_count": 197
    }
   ],
   "source": [
    "nans2 = nans.sort_values()\n",
    "nans2"
   ]
  },
  {
   "cell_type": "code",
   "execution_count": 200,
   "metadata": {},
   "outputs": [
    {
     "output_type": "execute_result",
     "data": {
      "text/plain": "code                           0\ncountries_tags                 0\ncountries_en                   0\nstates_tags                    0\nstates                         0\ncountries                      0\nstates_en                      0\nlast_modified_t                0\ncreated_datetime               0\ncreated_t                      0\ncreator                        0\nurl                            0\nlast_modified_datetime         0\nproduct_name                   1\nbrands                         4\nbrands_tags                    4\ningredients_from_palm_oil_n    5\nadditives_n                    5\ningredients_text               5\nadditives                      5\ndtype: int64"
     },
     "metadata": {},
     "execution_count": 200
    }
   ],
   "source": [
    "nans2.head(20)"
   ]
  },
  {
   "cell_type": "code",
   "execution_count": 172,
   "metadata": {},
   "outputs": [
    {
     "output_type": "execute_result",
     "data": {
      "text/plain": "0                 Farine de blé noir\n1     Banana Chips Sweetened (Whole)\n2                            Peanuts\n3             Organic Salted Nut Mix\n4                    Organic Polenta\n                   ...              \n95              Organic Pecan Halves\n96      Unsalted Dry Roasted Almonds\n97         Organic Raw Pumpkin Seeds\n98    Organic Extra Virgin Olive Oil\n99                     Liquid Aminos\nName: product_name, Length: 100, dtype: object"
     },
     "metadata": {},
     "execution_count": 172
    }
   ],
   "source": [
    "df['product_name']"
   ]
  },
  {
   "cell_type": "code",
   "execution_count": 220,
   "metadata": {},
   "outputs": [
    {
     "output_type": "error",
     "ename": "TypeError",
     "evalue": "tuple indices must be integers or slices, not tuple",
     "traceback": [
      "\u001b[0;31m---------------------------------------------------------------------------\u001b[0m",
      "\u001b[0;31mTypeError\u001b[0m                                 Traceback (most recent call last)",
      "\u001b[0;32m<ipython-input-220-b2a1e0727424>\u001b[0m in \u001b[0;36m<module>\u001b[0;34m\u001b[0m\n\u001b[0;32m----> 1\u001b[0;31m \u001b[0mdf1\u001b[0m \u001b[0;34m=\u001b[0m \u001b[0mdf\u001b[0m\u001b[0;34m[\u001b[0m\u001b[0;34m'brands'\u001b[0m\u001b[0;34m,\u001b[0m\u001b[0;34m'brands_tags'\u001b[0m\u001b[0;34m,\u001b[0m\u001b[0;34m'ingredients_from_palm_oil_n'\u001b[0m\u001b[0;34m,\u001b[0m\u001b[0;34m'additives_n'\u001b[0m\u001b[0;34m,\u001b[0m\u001b[0;34m'ingredients_text'\u001b[0m\u001b[0;34m]\u001b[0m\u001b[0;34m\u001b[0m\u001b[0;34m\u001b[0m\u001b[0m\n\u001b[0m\u001b[1;32m      2\u001b[0m \u001b[0mdf1\u001b[0m\u001b[0;34m\u001b[0m\u001b[0;34m\u001b[0m\u001b[0m\n",
      "\u001b[0;31mTypeError\u001b[0m: tuple indices must be integers or slices, not tuple"
     ]
    }
   ],
   "source": [
    "df1 = df['brands','brands_tags','ingredients_from_palm_oil_n','additives_n','ingredients_text']\n",
    "df1"
   ]
  },
  {
   "cell_type": "code",
   "execution_count": 175,
   "metadata": {},
   "outputs": [
    {
     "output_type": "execute_result",
     "data": {
      "text/plain": "0.2    50.4\ndtype: float64"
     },
     "metadata": {},
     "execution_count": 175
    }
   ],
   "source": [
    "minim = nans.quantile([0.2])\n",
    "minim"
   ]
  },
  {
   "cell_type": "code",
   "execution_count": null,
   "metadata": {},
   "outputs": [],
   "source": [
    "top5 = [nans[0] for x in nans > 0]\n",
    "top5"
   ]
  }
 ]
}