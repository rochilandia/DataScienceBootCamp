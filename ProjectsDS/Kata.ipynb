{
 "metadata": {
  "language_info": {
   "codemirror_mode": {
    "name": "ipython",
    "version": 3
   },
   "file_extension": ".py",
   "mimetype": "text/x-python",
   "name": "python",
   "nbconvert_exporter": "python",
   "pygments_lexer": "ipython3",
   "version": 3
  },
  "orig_nbformat": 2,
  "kernelspec": {
   "name": "python_defaultSpec_1597069321185",
   "display_name": "Python 3.8.3 64-bit"
  }
 },
 "nbformat": 4,
 "nbformat_minor": 2,
 "cells": [
  {
   "cell_type": "code",
   "execution_count": null,
   "metadata": {},
   "outputs": [],
   "source": []
  },
  {
   "cell_type": "code",
   "execution_count": 1,
   "metadata": {},
   "outputs": [
    {
     "output_type": "execute_result",
     "data": {
      "text/plain": "1.5"
     },
     "metadata": {},
     "execution_count": 1
    }
   ],
   "source": [
    "time = float(input(\"cycling time in hours is: \"))\n",
    "\n",
    "def litres(time):\n",
    "    x = time * 0.5\n",
    "    return x\n",
    "    if type(x) == float:\n",
    "        def round_down(n, decimals=0):\n",
    "            multiplier = 10 ** decimals\n",
    "            return math.floor(n * multiplier) / multiplier\n",
    "            return x\n",
    "            print(\"he needs to drink\" + x + \"lts\")\n",
    "    else:\n",
    "        print(\"he needs to drink\" + x + \"lts\")\n",
    "litres(time=time)"
   ]
  },
  {
   "cell_type": "code",
   "execution_count": 12,
   "metadata": {},
   "outputs": [
    {
     "output_type": "error",
     "ename": "NameError",
     "evalue": "name 'sum_mix' is not defined",
     "traceback": [
      "\u001b[0;31m---------------------------------------------------------------------------\u001b[0m",
      "\u001b[0;31mNameError\u001b[0m                                 Traceback (most recent call last)",
      "\u001b[0;32m<ipython-input-12-4144e364c965>\u001b[0m in \u001b[0;36m<module>\u001b[0;34m\u001b[0m\n\u001b[0;32m----> 1\u001b[0;31m \u001b[0msum_mix\u001b[0m\u001b[0;34m(\u001b[0m\u001b[0;34m[\u001b[0m\u001b[0;34m'3'\u001b[0m\u001b[0;34m,\u001b[0m \u001b[0;36m6\u001b[0m\u001b[0;34m,\u001b[0m \u001b[0;36m6\u001b[0m\u001b[0;34m,\u001b[0m \u001b[0;36m0\u001b[0m\u001b[0;34m,\u001b[0m \u001b[0;34m'5'\u001b[0m\u001b[0;34m,\u001b[0m \u001b[0;36m8\u001b[0m\u001b[0;34m,\u001b[0m \u001b[0;36m5\u001b[0m\u001b[0;34m,\u001b[0m \u001b[0;34m'6'\u001b[0m\u001b[0;34m,\u001b[0m \u001b[0;36m2\u001b[0m\u001b[0;34m,\u001b[0m\u001b[0;34m'0'\u001b[0m\u001b[0;34m]\u001b[0m\u001b[0;34m,\u001b[0m \u001b[0;36m41\u001b[0m\u001b[0;34m)\u001b[0m\u001b[0;34m\u001b[0m\u001b[0;34m\u001b[0m\u001b[0m\n\u001b[0m",
      "\u001b[0;31mNameError\u001b[0m: name 'sum_mix' is not defined"
     ]
    }
   ],
   "source": [
    "sum_mix(['3', 6, 6, 0, '5', 8, 5, '6', 2,'0'], 41)\n"
   ]
  },
  {
   "cell_type": "code",
   "execution_count": 13,
   "metadata": {},
   "outputs": [],
   "source": [
    "import pandas as pd \n",
    "import numpy as np"
   ]
  },
  {
   "cell_type": "code",
   "execution_count": 21,
   "metadata": {
    "tags": []
   },
   "outputs": [
    {
     "output_type": "stream",
     "name": "stdout",
     "text": "[10 32 25 21 39 32 19 25 49 14]\n[13 20 43  6 13 15 24  9  2  7]\n"
    }
   ],
   "source": [
    "# generate random integer values\n",
    "from numpy.random import randint\n",
    "# seed random number generator\n",
    "# generate some integers\n",
    "values = randint(0, 50, 10)\n",
    "print(values)\n",
    "\n",
    "# generate random integer values\n",
    "from numpy.random import randint\n",
    "# seed random number generator\n",
    "# generate some integers\n",
    "values = randint(0, 50, 10)\n",
    "print(values)"
   ]
  },
  {
   "cell_type": "code",
   "execution_count": 37,
   "metadata": {
    "tags": []
   },
   "outputs": [
    {
     "output_type": "stream",
     "name": "stdout",
     "text": "[36 36 32 19  3 24 19 37 30 38]\nSum of the array is  274\n"
    }
   ],
   "source": [
    "from numpy.random import randint\n",
    "arr = randint(0, 50, 10)\n",
    "print(arr)\n",
    "\n",
    "def sum_mix(arr, n):\n",
    "    return(sum(arr))\n",
    "    arr = []\n",
    "    arr.append['3','5','7']\n",
    "    type(arr)\n",
    "    n = len(arr) \n",
    "  \n",
    "ans = sum(arr) \n",
    "# display sum \n",
    "print ('Sum of the array is ', ans) \n",
    "# sum() is an inbuilt function in python that adds  \n",
    "# all the elements in list,set and tuples and returns \n",
    "# the value  \n",
    "# display sum "
   ]
  },
  {
   "cell_type": "code",
   "execution_count": 39,
   "metadata": {},
   "outputs": [
    {
     "output_type": "execute_result",
     "data": {
      "text/plain": "0.449936628643853"
     },
     "metadata": {},
     "execution_count": 39
    }
   ],
   "source": [
    "def divide(a,b):\n",
    "    a = float(input(\"first number : \"))\n",
    "    b = float(input(\"second number: \"))\n",
    "    result = a/b\n",
    "    return result\n",
    "    print(result)\n",
    "divide(2,3)"
   ]
  },
  {
   "cell_type": "code",
   "execution_count": 40,
   "metadata": {},
   "outputs": [
    {
     "output_type": "execute_result",
     "data": {
      "text/plain": "0.01753424636887128"
     },
     "metadata": {},
     "execution_count": 40
    }
   ],
   "source": [
    "a = float(input(\"first number : \"))\n",
    "b = float(input(\"second number: \"))\n",
    "\n",
    "def divide(a,b):\n",
    "    result = a/b\n",
    "    return result\n",
    "    print(result)\n",
    "divide(a=a,b=b)"
   ]
  },
  {
   "cell_type": "code",
   "execution_count": 41,
   "metadata": {},
   "outputs": [],
   "source": [
    "def divide(a,b):\n",
    "    return float(a) / float(b)"
   ]
  },
  {
   "cell_type": "code",
   "execution_count": 47,
   "metadata": {
    "tags": []
   },
   "outputs": [
    {
     "output_type": "stream",
     "name": "stdout",
     "text": "Odd\n"
    },
    {
     "output_type": "execute_result",
     "data": {
      "text/plain": "<function __main__.even_or_odd(number)>"
     },
     "metadata": {},
     "execution_count": 47
    }
   ],
   "source": [
    "def even_or_odd(number):\n",
    "    if (number % 2) == 0:\n",
    "        print(\"Even\")\n",
    "    else:\n",
    "        print(\"Odd\")\n",
    "    return even_or_odd\n",
    "\n",
    "even_or_odd(5)"
   ]
  },
  {
   "cell_type": "markdown",
   "metadata": {},
   "source": [
    "Good morning! Here's your coding interview problem for today.\n",
    "\n",
    "This problem was recently asked by Google.\n",
    "\n",
    "Given a list of numbers and a number k, return whether any two numbers from the list add up to k.\n",
    "\n",
    "For example, given [10, 15, 3, 7] and k of 17, return true since 10 + 7 is 17.\n",
    "\n",
    "Bonus: Can you do this in one pass?"
   ]
  },
  {
   "cell_type": "code",
   "execution_count": 62,
   "metadata": {
    "tags": []
   },
   "outputs": [
    {
     "output_type": "stream",
     "name": "stdout",
     "text": "True\nNot 17\nNot 17\nNot 17\n"
    }
   ],
   "source": [
    "list = [10, 15, 3, 7]\n",
    "for x in list:\n",
    "    if x+y == 17:\n",
    "        print('True')\n",
    "    else:\n",
    "        print('Not 17')"
   ]
  },
  {
   "cell_type": "markdown",
   "metadata": {},
   "source": [
    "This problem was asked by Uber.\n",
    "\n",
    "Given an array of integers, return a new array such that each element at index i of the new array is the product of all the numbers in the original array except the one at i.\n",
    "\n",
    "For example, if our input was [1, 2, 3, 4, 5], the expected output would be [120, 60, 40, 30, 24]. If our input was [3, 2, 1], the expected output would be [2, 3, 6].\n",
    "\n",
    "Follow-up: what if you can't use division?"
   ]
  },
  {
   "cell_type": "code",
   "execution_count": 85,
   "metadata": {
    "tags": []
   },
   "outputs": [
    {
     "output_type": "stream",
     "name": "stdout",
     "text": "[3 4 9 3 9]\nResult of the opertion is  264\n"
    }
   ],
   "source": [
    "from numpy.random import randint\n",
    "arr = randint(0, 10, 5)\n",
    "print(arr)\n",
    "\n",
    "def multilpy_mix(arr):\n",
    "    ans = []\n",
    "    for x in arr:\n",
    "        a = arr[0]*arr[1]*arr[2]*arr[3]\n",
    "        b = arr[1]*arr[2]*arr[3]*arr[4]\n",
    "        c = arr[2]*arr[3]*arr[4]*arr[0]\n",
    "        d = arr[3]*arr[4]*arr[0]*arr[1]\n",
    "        e = arr[4]*arr[0]*arr[1]*arr[2]\n",
    "        ans = ans.append(a, b, c, d, e)\n",
    "\n",
    "# display calculus \n",
    "print ('Result of the opertion is ', ans) "
   ]
  },
  {
   "cell_type": "code",
   "execution_count": 83,
   "metadata": {},
   "outputs": [
    {
     "output_type": "execute_result",
     "data": {
      "text/plain": "264"
     },
     "metadata": {},
     "execution_count": 83
    }
   ],
   "source": [
    "ans"
   ]
  },
  {
   "cell_type": "code",
   "execution_count": 87,
   "metadata": {},
   "outputs": [
    {
     "output_type": "error",
     "ename": "NameError",
     "evalue": "name 'deserialize' is not defined",
     "traceback": [
      "\u001b[0;31m---------------------------------------------------------------------------\u001b[0m",
      "\u001b[0;31mNameError\u001b[0m                                 Traceback (most recent call last)",
      "\u001b[0;32m<ipython-input-87-49409cac824e>\u001b[0m in \u001b[0;36m<module>\u001b[0;34m\u001b[0m\n\u001b[1;32m     14\u001b[0m \u001b[0;34m\u001b[0m\u001b[0m\n\u001b[1;32m     15\u001b[0m \u001b[0mnode\u001b[0m \u001b[0;34m=\u001b[0m \u001b[0mNode\u001b[0m\u001b[0;34m(\u001b[0m\u001b[0;34m'root'\u001b[0m\u001b[0;34m,\u001b[0m \u001b[0mNode\u001b[0m\u001b[0;34m(\u001b[0m\u001b[0;34m'left'\u001b[0m\u001b[0;34m,\u001b[0m \u001b[0mNode\u001b[0m\u001b[0;34m(\u001b[0m\u001b[0;34m'left.left'\u001b[0m\u001b[0;34m)\u001b[0m\u001b[0;34m)\u001b[0m\u001b[0;34m,\u001b[0m \u001b[0mNode\u001b[0m\u001b[0;34m(\u001b[0m\u001b[0;34m'right'\u001b[0m\u001b[0;34m)\u001b[0m\u001b[0;34m)\u001b[0m\u001b[0;34m\u001b[0m\u001b[0;34m\u001b[0m\u001b[0m\n\u001b[0;32m---> 16\u001b[0;31m \u001b[0;32massert\u001b[0m \u001b[0mdeserialize\u001b[0m\u001b[0;34m(\u001b[0m\u001b[0mserialize\u001b[0m\u001b[0;34m(\u001b[0m\u001b[0mnode\u001b[0m\u001b[0;34m)\u001b[0m\u001b[0;34m)\u001b[0m\u001b[0;34m.\u001b[0m\u001b[0mleft\u001b[0m\u001b[0;34m.\u001b[0m\u001b[0mleft\u001b[0m\u001b[0;34m.\u001b[0m\u001b[0mval\u001b[0m \u001b[0;34m==\u001b[0m \u001b[0;34m'left.left'\u001b[0m\u001b[0;34m\u001b[0m\u001b[0;34m\u001b[0m\u001b[0m\n\u001b[0m",
      "\u001b[0;31mNameError\u001b[0m: name 'deserialize' is not defined"
     ]
    }
   ],
   "source": [
    "import pandas as pd \n",
    "#This problem was asked by Google.\n",
    "\n",
    "#Given the root to a binary tree, implement serialize(root), which serializes the tree into a string, and deserialize(s), which deserializes the string back into the tree.\n",
    "\n",
    "#For example, given the following Node class\n",
    "\n",
    "class Node:\n",
    "    def __init__(self, val, left=None, right=None):\n",
    "        self.val = val\n",
    "        self.left = left\n",
    "        self.right = right\n",
    "#The following test should pass:\n",
    "\n",
    "node = Node('root', Node('left', Node('left.left')), Node('right'))\n",
    "assert deserialize(serialize(node)).left.left.val == 'left.left'"
   ]
  },
  {
   "cell_type": "markdown",
   "metadata": {},
   "source": [
    "create a function that removes the first and last characters of a string. You're given one parameter, the original string. You don't have to worry with strings with less than two characters."
   ]
  },
  {
   "cell_type": "code",
   "execution_count": 94,
   "metadata": {
    "tags": []
   },
   "outputs": [
    {
     "output_type": "stream",
     "name": "stdout",
     "text": "ol\n"
    },
    {
     "output_type": "execute_result",
     "data": {
      "text/plain": "<function __main__.remove(s)>"
     },
     "metadata": {},
     "execution_count": 94
    }
   ],
   "source": [
    "s = input (\"Enter a string:\")\n",
    "def remove(s):\n",
    "    s = s[1:-1]\n",
    "    print(s)\n",
    "    return remove\n",
    "    print(remove)\n",
    "remove(s)"
   ]
  },
  {
   "cell_type": "markdown",
   "metadata": {},
   "source": [
    "Given an array of integers your solution should find the smallest integer.\n",
    "\n",
    "For example:\n",
    "Given [34, 15, 88, 2] your solution will return 2\n",
    "Given [34, -345, -1, 100] your solution will return -345\n",
    "You can assume, for the purpose of this kata, that the supplied array will not be empty.\n"
   ]
  },
  {
   "cell_type": "code",
   "execution_count": 95,
   "metadata": {
    "tags": []
   },
   "outputs": [
    {
     "output_type": "stream",
     "name": "stdout",
     "text": "[-19 -98  -7  64   9]\nSmallest element is: -98\n"
    }
   ],
   "source": [
    "def find_smallest_int(arr):\n",
    "    arr = randint(-100, 100, 5)\n",
    "    print(arr)\n",
    "    arr.sort()\n",
    "# printing the first element \n",
    "    print(\"Smallest element is:\", *arr[:1])\n",
    "find_smallest_int(arr=arr)"
   ]
  },
  {
   "cell_type": "markdown",
   "metadata": {},
   "source": [
    "We know the content of the evaporator (content in ml), the percentage of foam or gas lost every day (evap_per_day and the threshold (threshold) in percentage beyond which the evaporator is no longer useful. All numbers are strictly positive.\n",
    "\n",
    "The program reports the nth day (as an integer) on which the evaporator will be out of use."
   ]
  },
  {
   "cell_type": "code",
   "execution_count": null,
   "metadata": {},
   "outputs": [],
   "source": [
    "def evaporator(content, evap_per_day, threshold):\n",
    "    "
   ]
  },
  {
   "cell_type": "markdown",
   "metadata": {},
   "source": [
    "return a new sorted merged list from K sorted lists, each with size N.\n",
    "\n",
    "The time complexity for that would be O(KN log KN), since we have K * N total elements.\n",
    "lists is [].\n",
    "lists only contains empty lists: [[], [], []].\n",
    "lists contains empty lists and non-empty lists: [[], [1], [1,2]].\n",
    "lists contains one list with one element: [[1]].\n",
    "lists contains lists of varying size: [[1], [1, 3, 5], [1, 10, 20, 30, 40]].\n",
    "\n",
    "divide-and-conquer strategy\n"
   ]
  },
  {
   "cell_type": "code",
   "execution_count": 96,
   "metadata": {},
   "outputs": [],
   "source": [
    "def merge(lists):\n",
    "    merged_list = []\n",
    "\n",
    "    heap = [(lst[0], i, 0) for i, lst in enumerate(lists) if lst]\n",
    "    heapq.heapify(heap)\n",
    "\n",
    "    while heap:\n",
    "        val, list_ind, element_ind = heapq.heappop(heap)\n",
    "\n",
    "        merged_list.append(val)\n",
    "\n",
    "        if element_ind + 1 < len(lists[list_ind]):\n",
    "            next_tuple = (lists[list_ind][element_ind + 1],\n",
    "                          list_ind,\n",
    "                          element_ind + 1)\n",
    "            heapq.heappush(heap, next_tuple)\n",
    "    return merged_list"
   ]
  },
  {
   "cell_type": "markdown",
   "metadata": {},
   "source": [
    "This problem was asked by Airbnb.\n",
    "\n",
    "Given a list of integers, write a function that returns the largest sum of non-adjacent numbers. Numbers can be 0 or negative.\n",
    "\n",
    "For example, [2, 4, 6, 2, 5] should return 13, since we pick 2, 6, and 5. [5, 1, 1, 5] should return 10, since we pick 5 and 5.\n",
    "\n",
    "Follow-up: Can you do this in O(N) time and constant space?"
   ]
  },
  {
   "cell_type": "code",
   "execution_count": null,
   "metadata": {},
   "outputs": [],
   "source": []
  },
  {
   "cell_type": "markdown",
   "metadata": {},
   "source": [
    "This problem was asked by Apple.\n",
    "\n",
    "Implement a job scheduler which takes in a function f and an integer n, and calls f after n milliseconds."
   ]
  },
  {
   "cell_type": "code",
   "execution_count": null,
   "metadata": {},
   "outputs": [],
   "source": []
  },
  {
   "cell_type": "code",
   "execution_count": null,
   "metadata": {},
   "outputs": [],
   "source": []
  },
  {
   "cell_type": "markdown",
   "metadata": {},
   "source": [
    "Good morning! Here's your coding interview problem for today.\n",
    "\n",
    "This problem was asked by Twitter.\n",
    "\n",
    "Implement an autocomplete system. That is, given a query string s and a set of all possible query strings, return all strings in the set that have s as a prefix.\n",
    "\n",
    "For example, given the query string de and the set of strings [dog, deer, deal], return [deer, deal].\n",
    "\n",
    "Hint: Try preprocessing the dictionary into a more efficient data structure to speed up queries."
   ]
  },
  {
   "cell_type": "code",
   "execution_count": null,
   "metadata": {},
   "outputs": [],
   "source": []
  },
  {
   "cell_type": "markdown",
   "metadata": {},
   "source": [
    "ood morning! Here's your coding interview problem for today.\n",
    "\n",
    "This problem was asked by Amazon.\n",
    "\n",
    "There exists a staircase with N steps, and you can climb up either 1 or 2 steps at a time. Given N, write a function that returns the number of unique ways you can climb the staircase. The order of the steps matters.\n",
    "\n",
    "For example, if N is 4, then there are 5 unique ways:\n",
    "\n",
    "1, 1, 1, 1\n",
    "2, 1, 1\n",
    "1, 2, 1\n",
    "1, 1, 2\n",
    "2, 2\n",
    "What if, instead of being able to climb 1 or 2 steps at a time, you could climb any number from a set of positive integers X? For example, if X = {1, 3, 5}, you could climb 1, 3, or 5 steps at a time."
   ]
  }
 ]
}