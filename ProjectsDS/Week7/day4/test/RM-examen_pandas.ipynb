{
 "cells": [
  {
   "cell_type": "markdown",
   "metadata": {},
   "source": [
    "# Examen Pandas - Unidad 1"
   ]
  },
  {
   "cell_type": "markdown",
   "metadata": {},
   "source": [
    "### Data Science The Bridge - 2020"
   ]
  },
  {
   "cell_type": "markdown",
   "metadata": {},
   "source": [
    "Primero de todo, importa la que seguro es ya tu librería favorita y que vas a necesitar, seguro, para realizar este examen. "
   ]
  },
  {
   "cell_type": "code",
   "execution_count": 73,
   "metadata": {},
   "outputs": [],
   "source": [
    "# no borres esto y ejecútalo junto con tu librería favorita\n",
    "import warnings\n",
    "warnings.simplefilter(action='ignore')\n",
    "\n",
    "# aquí tu librería favorita"
   ]
  },
  {
   "cell_type": "code",
   "execution_count": 72,
   "metadata": {},
   "outputs": [],
   "source": [
    "import pandas as pd\n",
    "import numpy as np\n",
    "import matplotlib.pyplot as plt\n",
    "import datetime as datetime\n"
   ]
  },
  {
   "cell_type": "markdown",
   "metadata": {},
   "source": [
    "Para trabajar con **pandas** lo primero que necesitarás, son datos, en la vida real deberías entrar en este enlace de **kaggle** y descargar el dataset: https://www.kaggle.com/neuromusic/avocado-prices. Con el fin de poder leer el `.csv` sin problema, habría que copiarlo en la misma carpeta donde se encuentra este archivo `.ipynb`. \n",
    "\n",
    "Pero como esto es un examen, ya lo tienes en esta carpeta, por lo que solo tienes que leerlo. Asígnalo a la variable `avocado` y muestra las primeras 5 filas. \n",
    "\n",
    "**AVISO**: Al llamar a la función que lee el `.csv` no uses ningún argumento, solo el nombre del archivo `\"avocado_kaggle.csv\"`. "
   ]
  },
  {
   "cell_type": "code",
   "execution_count": 1,
   "metadata": {},
   "outputs": [],
   "source": [
    "# your code here"
   ]
  },
  {
   "cell_type": "code",
   "execution_count": 74,
   "metadata": {},
   "outputs": [
    {
     "output_type": "execute_result",
     "data": {
      "text/plain": "   Unnamed: 0        Date  AveragePrice  Total Volume     4046       4225  \\\n0           0  2015-12-27          1.33      64236.62  1036.74   54454.85   \n1           1  2015-12-20          1.35      54876.98   674.28   44638.81   \n2           2  2015-12-13          0.93     118220.22   794.70  109149.67   \n3           3  2015-12-06          1.08      78992.15  1132.00   71976.41   \n4           4  2015-11-29          1.28      51039.60   941.48   43838.39   \n\n     4770  Total Bags  Small Bags  Large Bags  XLarge Bags          type  \\\n0   48.16     8696.87     8603.62       93.25          0.0  conventional   \n1   58.33     9505.56     9408.07       97.49          0.0  conventional   \n2  130.50     8145.35     8042.21      103.14          0.0  conventional   \n3   72.58     5811.16     5677.40      133.76          0.0  conventional   \n4   75.78     6183.95     5986.26      197.69          0.0  conventional   \n\n   year  region  \n0  2015  Albany  \n1  2015  Albany  \n2  2015  Albany  \n3  2015  Albany  \n4  2015  Albany  ",
      "text/html": "<div>\n<style scoped>\n    .dataframe tbody tr th:only-of-type {\n        vertical-align: middle;\n    }\n\n    .dataframe tbody tr th {\n        vertical-align: top;\n    }\n\n    .dataframe thead th {\n        text-align: right;\n    }\n</style>\n<table border=\"1\" class=\"dataframe\">\n  <thead>\n    <tr style=\"text-align: right;\">\n      <th></th>\n      <th>Unnamed: 0</th>\n      <th>Date</th>\n      <th>AveragePrice</th>\n      <th>Total Volume</th>\n      <th>4046</th>\n      <th>4225</th>\n      <th>4770</th>\n      <th>Total Bags</th>\n      <th>Small Bags</th>\n      <th>Large Bags</th>\n      <th>XLarge Bags</th>\n      <th>type</th>\n      <th>year</th>\n      <th>region</th>\n    </tr>\n  </thead>\n  <tbody>\n    <tr>\n      <th>0</th>\n      <td>0</td>\n      <td>2015-12-27</td>\n      <td>1.33</td>\n      <td>64236.62</td>\n      <td>1036.74</td>\n      <td>54454.85</td>\n      <td>48.16</td>\n      <td>8696.87</td>\n      <td>8603.62</td>\n      <td>93.25</td>\n      <td>0.0</td>\n      <td>conventional</td>\n      <td>2015</td>\n      <td>Albany</td>\n    </tr>\n    <tr>\n      <th>1</th>\n      <td>1</td>\n      <td>2015-12-20</td>\n      <td>1.35</td>\n      <td>54876.98</td>\n      <td>674.28</td>\n      <td>44638.81</td>\n      <td>58.33</td>\n      <td>9505.56</td>\n      <td>9408.07</td>\n      <td>97.49</td>\n      <td>0.0</td>\n      <td>conventional</td>\n      <td>2015</td>\n      <td>Albany</td>\n    </tr>\n    <tr>\n      <th>2</th>\n      <td>2</td>\n      <td>2015-12-13</td>\n      <td>0.93</td>\n      <td>118220.22</td>\n      <td>794.70</td>\n      <td>109149.67</td>\n      <td>130.50</td>\n      <td>8145.35</td>\n      <td>8042.21</td>\n      <td>103.14</td>\n      <td>0.0</td>\n      <td>conventional</td>\n      <td>2015</td>\n      <td>Albany</td>\n    </tr>\n    <tr>\n      <th>3</th>\n      <td>3</td>\n      <td>2015-12-06</td>\n      <td>1.08</td>\n      <td>78992.15</td>\n      <td>1132.00</td>\n      <td>71976.41</td>\n      <td>72.58</td>\n      <td>5811.16</td>\n      <td>5677.40</td>\n      <td>133.76</td>\n      <td>0.0</td>\n      <td>conventional</td>\n      <td>2015</td>\n      <td>Albany</td>\n    </tr>\n    <tr>\n      <th>4</th>\n      <td>4</td>\n      <td>2015-11-29</td>\n      <td>1.28</td>\n      <td>51039.60</td>\n      <td>941.48</td>\n      <td>43838.39</td>\n      <td>75.78</td>\n      <td>6183.95</td>\n      <td>5986.26</td>\n      <td>197.69</td>\n      <td>0.0</td>\n      <td>conventional</td>\n      <td>2015</td>\n      <td>Albany</td>\n    </tr>\n  </tbody>\n</table>\n</div>"
     },
     "metadata": {},
     "execution_count": 74
    }
   ],
   "source": [
    "avocado = pd.read_csv('/Users/rochi/Desktop/TestFolder/DataScienceBootCampMIO/ProjectsDS/Week7/day4/test/avocado_kaggle.csv')\n",
    "avocado.head()"
   ]
  },
  {
   "cell_type": "markdown",
   "metadata": {},
   "source": [
    "Lo primero que debe hacer un Data Scientist es conocer los datos con los que está trabajando, por esto, explora el dataset:\n",
    "- sacando los nombres de las distintas columnas, \n",
    "- qué tipo de datos contienen estas columnas, \n",
    "- cuántas filas y columnas tiene el dataframe,\n",
    "- además de un marco de datos de estadísticas descriptivas de dicho dataframe.\n",
    "\n",
    "Utiliza la función/funciones que te parezcan mejor para hacer dicha exploración. "
   ]
  },
  {
   "cell_type": "code",
   "execution_count": 2,
   "metadata": {},
   "outputs": [],
   "source": [
    "# your code here"
   ]
  },
  {
   "cell_type": "code",
   "execution_count": 75,
   "metadata": {},
   "outputs": [
    {
     "output_type": "execute_result",
     "data": {
      "text/plain": "Index(['Unnamed: 0', 'Date', 'AveragePrice', 'Total Volume', '4046', '4225',\n       '4770', 'Total Bags', 'Small Bags', 'Large Bags', 'XLarge Bags', 'type',\n       'year', 'region'],\n      dtype='object')"
     },
     "metadata": {},
     "execution_count": 75
    }
   ],
   "source": [
    "avocado.columns"
   ]
  },
  {
   "cell_type": "code",
   "execution_count": 76,
   "metadata": {
    "tags": []
   },
   "outputs": [
    {
     "output_type": "stream",
     "name": "stdout",
     "text": "<class 'pandas.core.frame.DataFrame'>\nRangeIndex: 18249 entries, 0 to 18248\nData columns (total 14 columns):\n #   Column        Non-Null Count  Dtype  \n---  ------        --------------  -----  \n 0   Unnamed: 0    18249 non-null  int64  \n 1   Date          18249 non-null  object \n 2   AveragePrice  18249 non-null  float64\n 3   Total Volume  18249 non-null  float64\n 4   4046          18249 non-null  float64\n 5   4225          18249 non-null  float64\n 6   4770          18249 non-null  float64\n 7   Total Bags    18249 non-null  float64\n 8   Small Bags    18249 non-null  float64\n 9   Large Bags    18249 non-null  float64\n 10  XLarge Bags   18249 non-null  float64\n 11  type          18249 non-null  object \n 12  year          18249 non-null  int64  \n 13  region        18249 non-null  object \ndtypes: float64(9), int64(2), object(3)\nmemory usage: 1.9+ MB\n"
    }
   ],
   "source": [
    "avocado.info()"
   ]
  },
  {
   "cell_type": "code",
   "execution_count": 77,
   "metadata": {},
   "outputs": [
    {
     "output_type": "execute_result",
     "data": {
      "text/plain": "(18249, 14)"
     },
     "metadata": {},
     "execution_count": 77
    }
   ],
   "source": [
    "avocado.shape"
   ]
  },
  {
   "cell_type": "code",
   "execution_count": 78,
   "metadata": {},
   "outputs": [
    {
     "output_type": "execute_result",
     "data": {
      "text/plain": "         Unnamed: 0  AveragePrice  Total Volume          4046          4225  \\\ncount  18249.000000  18249.000000  1.824900e+04  1.824900e+04  1.824900e+04   \nmean      24.232232      1.405978  8.506440e+05  2.930084e+05  2.951546e+05   \nstd       15.481045      0.402677  3.453545e+06  1.264989e+06  1.204120e+06   \nmin        0.000000      0.440000  8.456000e+01  0.000000e+00  0.000000e+00   \n25%       10.000000      1.100000  1.083858e+04  8.540700e+02  3.008780e+03   \n50%       24.000000      1.370000  1.073768e+05  8.645300e+03  2.906102e+04   \n75%       38.000000      1.660000  4.329623e+05  1.110202e+05  1.502069e+05   \nmax       52.000000      3.250000  6.250565e+07  2.274362e+07  2.047057e+07   \n\n               4770    Total Bags    Small Bags    Large Bags    XLarge Bags  \\\ncount  1.824900e+04  1.824900e+04  1.824900e+04  1.824900e+04   18249.000000   \nmean   2.283974e+04  2.396392e+05  1.821947e+05  5.433809e+04    3106.426507   \nstd    1.074641e+05  9.862424e+05  7.461785e+05  2.439660e+05   17692.894652   \nmin    0.000000e+00  0.000000e+00  0.000000e+00  0.000000e+00       0.000000   \n25%    0.000000e+00  5.088640e+03  2.849420e+03  1.274700e+02       0.000000   \n50%    1.849900e+02  3.974383e+04  2.636282e+04  2.647710e+03       0.000000   \n75%    6.243420e+03  1.107834e+05  8.333767e+04  2.202925e+04     132.500000   \nmax    2.546439e+06  1.937313e+07  1.338459e+07  5.719097e+06  551693.650000   \n\n               year  \ncount  18249.000000  \nmean    2016.147899  \nstd        0.939938  \nmin     2015.000000  \n25%     2015.000000  \n50%     2016.000000  \n75%     2017.000000  \nmax     2018.000000  ",
      "text/html": "<div>\n<style scoped>\n    .dataframe tbody tr th:only-of-type {\n        vertical-align: middle;\n    }\n\n    .dataframe tbody tr th {\n        vertical-align: top;\n    }\n\n    .dataframe thead th {\n        text-align: right;\n    }\n</style>\n<table border=\"1\" class=\"dataframe\">\n  <thead>\n    <tr style=\"text-align: right;\">\n      <th></th>\n      <th>Unnamed: 0</th>\n      <th>AveragePrice</th>\n      <th>Total Volume</th>\n      <th>4046</th>\n      <th>4225</th>\n      <th>4770</th>\n      <th>Total Bags</th>\n      <th>Small Bags</th>\n      <th>Large Bags</th>\n      <th>XLarge Bags</th>\n      <th>year</th>\n    </tr>\n  </thead>\n  <tbody>\n    <tr>\n      <th>count</th>\n      <td>18249.000000</td>\n      <td>18249.000000</td>\n      <td>1.824900e+04</td>\n      <td>1.824900e+04</td>\n      <td>1.824900e+04</td>\n      <td>1.824900e+04</td>\n      <td>1.824900e+04</td>\n      <td>1.824900e+04</td>\n      <td>1.824900e+04</td>\n      <td>18249.000000</td>\n      <td>18249.000000</td>\n    </tr>\n    <tr>\n      <th>mean</th>\n      <td>24.232232</td>\n      <td>1.405978</td>\n      <td>8.506440e+05</td>\n      <td>2.930084e+05</td>\n      <td>2.951546e+05</td>\n      <td>2.283974e+04</td>\n      <td>2.396392e+05</td>\n      <td>1.821947e+05</td>\n      <td>5.433809e+04</td>\n      <td>3106.426507</td>\n      <td>2016.147899</td>\n    </tr>\n    <tr>\n      <th>std</th>\n      <td>15.481045</td>\n      <td>0.402677</td>\n      <td>3.453545e+06</td>\n      <td>1.264989e+06</td>\n      <td>1.204120e+06</td>\n      <td>1.074641e+05</td>\n      <td>9.862424e+05</td>\n      <td>7.461785e+05</td>\n      <td>2.439660e+05</td>\n      <td>17692.894652</td>\n      <td>0.939938</td>\n    </tr>\n    <tr>\n      <th>min</th>\n      <td>0.000000</td>\n      <td>0.440000</td>\n      <td>8.456000e+01</td>\n      <td>0.000000e+00</td>\n      <td>0.000000e+00</td>\n      <td>0.000000e+00</td>\n      <td>0.000000e+00</td>\n      <td>0.000000e+00</td>\n      <td>0.000000e+00</td>\n      <td>0.000000</td>\n      <td>2015.000000</td>\n    </tr>\n    <tr>\n      <th>25%</th>\n      <td>10.000000</td>\n      <td>1.100000</td>\n      <td>1.083858e+04</td>\n      <td>8.540700e+02</td>\n      <td>3.008780e+03</td>\n      <td>0.000000e+00</td>\n      <td>5.088640e+03</td>\n      <td>2.849420e+03</td>\n      <td>1.274700e+02</td>\n      <td>0.000000</td>\n      <td>2015.000000</td>\n    </tr>\n    <tr>\n      <th>50%</th>\n      <td>24.000000</td>\n      <td>1.370000</td>\n      <td>1.073768e+05</td>\n      <td>8.645300e+03</td>\n      <td>2.906102e+04</td>\n      <td>1.849900e+02</td>\n      <td>3.974383e+04</td>\n      <td>2.636282e+04</td>\n      <td>2.647710e+03</td>\n      <td>0.000000</td>\n      <td>2016.000000</td>\n    </tr>\n    <tr>\n      <th>75%</th>\n      <td>38.000000</td>\n      <td>1.660000</td>\n      <td>4.329623e+05</td>\n      <td>1.110202e+05</td>\n      <td>1.502069e+05</td>\n      <td>6.243420e+03</td>\n      <td>1.107834e+05</td>\n      <td>8.333767e+04</td>\n      <td>2.202925e+04</td>\n      <td>132.500000</td>\n      <td>2017.000000</td>\n    </tr>\n    <tr>\n      <th>max</th>\n      <td>52.000000</td>\n      <td>3.250000</td>\n      <td>6.250565e+07</td>\n      <td>2.274362e+07</td>\n      <td>2.047057e+07</td>\n      <td>2.546439e+06</td>\n      <td>1.937313e+07</td>\n      <td>1.338459e+07</td>\n      <td>5.719097e+06</td>\n      <td>551693.650000</td>\n      <td>2018.000000</td>\n    </tr>\n  </tbody>\n</table>\n</div>"
     },
     "metadata": {},
     "execution_count": 78
    }
   ],
   "source": [
    "avocado.describe()"
   ]
  },
  {
   "cell_type": "code",
   "execution_count": 7,
   "metadata": {},
   "outputs": [
    {
     "output_type": "execute_result",
     "data": {
      "text/plain": "       Unnamed: 0        Date  AveragePrice  Total Volume     4046       4225  \\\n0               0  2015-12-27          1.33      64236.62  1036.74   54454.85   \n1               1  2015-12-20          1.35      54876.98   674.28   44638.81   \n2               2  2015-12-13          0.93     118220.22   794.70  109149.67   \n3               3  2015-12-06          1.08      78992.15  1132.00   71976.41   \n4               4  2015-11-29          1.28      51039.60   941.48   43838.39   \n...           ...         ...           ...           ...      ...        ...   \n18244           7  2018-02-04          1.63      17074.83  2046.96    1529.20   \n18245           8  2018-01-28          1.71      13888.04  1191.70    3431.50   \n18246           9  2018-01-21          1.87      13766.76  1191.92    2452.79   \n18247          10  2018-01-14          1.93      16205.22  1527.63    2981.04   \n18248          11  2018-01-07          1.62      17489.58  2894.77    2356.13   \n\n         4770  Total Bags  Small Bags  Large Bags  XLarge Bags          type  \\\n0       48.16     8696.87     8603.62       93.25          0.0  conventional   \n1       58.33     9505.56     9408.07       97.49          0.0  conventional   \n2      130.50     8145.35     8042.21      103.14          0.0  conventional   \n3       72.58     5811.16     5677.40      133.76          0.0  conventional   \n4       75.78     6183.95     5986.26      197.69          0.0  conventional   \n...       ...         ...         ...         ...          ...           ...   \n18244    0.00    13498.67    13066.82      431.85          0.0       organic   \n18245    0.00     9264.84     8940.04      324.80          0.0       organic   \n18246  727.94     9394.11     9351.80       42.31          0.0       organic   \n18247  727.01    10969.54    10919.54       50.00          0.0       organic   \n18248  224.53    12014.15    11988.14       26.01          0.0       organic   \n\n       year            region  \n0      2015            Albany  \n1      2015            Albany  \n2      2015            Albany  \n3      2015            Albany  \n4      2015            Albany  \n...     ...               ...  \n18244  2018  WestTexNewMexico  \n18245  2018  WestTexNewMexico  \n18246  2018  WestTexNewMexico  \n18247  2018  WestTexNewMexico  \n18248  2018  WestTexNewMexico  \n\n[18249 rows x 14 columns]",
      "text/html": "<div>\n<style scoped>\n    .dataframe tbody tr th:only-of-type {\n        vertical-align: middle;\n    }\n\n    .dataframe tbody tr th {\n        vertical-align: top;\n    }\n\n    .dataframe thead th {\n        text-align: right;\n    }\n</style>\n<table border=\"1\" class=\"dataframe\">\n  <thead>\n    <tr style=\"text-align: right;\">\n      <th></th>\n      <th>Unnamed: 0</th>\n      <th>Date</th>\n      <th>AveragePrice</th>\n      <th>Total Volume</th>\n      <th>4046</th>\n      <th>4225</th>\n      <th>4770</th>\n      <th>Total Bags</th>\n      <th>Small Bags</th>\n      <th>Large Bags</th>\n      <th>XLarge Bags</th>\n      <th>type</th>\n      <th>year</th>\n      <th>region</th>\n    </tr>\n  </thead>\n  <tbody>\n    <tr>\n      <th>0</th>\n      <td>0</td>\n      <td>2015-12-27</td>\n      <td>1.33</td>\n      <td>64236.62</td>\n      <td>1036.74</td>\n      <td>54454.85</td>\n      <td>48.16</td>\n      <td>8696.87</td>\n      <td>8603.62</td>\n      <td>93.25</td>\n      <td>0.0</td>\n      <td>conventional</td>\n      <td>2015</td>\n      <td>Albany</td>\n    </tr>\n    <tr>\n      <th>1</th>\n      <td>1</td>\n      <td>2015-12-20</td>\n      <td>1.35</td>\n      <td>54876.98</td>\n      <td>674.28</td>\n      <td>44638.81</td>\n      <td>58.33</td>\n      <td>9505.56</td>\n      <td>9408.07</td>\n      <td>97.49</td>\n      <td>0.0</td>\n      <td>conventional</td>\n      <td>2015</td>\n      <td>Albany</td>\n    </tr>\n    <tr>\n      <th>2</th>\n      <td>2</td>\n      <td>2015-12-13</td>\n      <td>0.93</td>\n      <td>118220.22</td>\n      <td>794.70</td>\n      <td>109149.67</td>\n      <td>130.50</td>\n      <td>8145.35</td>\n      <td>8042.21</td>\n      <td>103.14</td>\n      <td>0.0</td>\n      <td>conventional</td>\n      <td>2015</td>\n      <td>Albany</td>\n    </tr>\n    <tr>\n      <th>3</th>\n      <td>3</td>\n      <td>2015-12-06</td>\n      <td>1.08</td>\n      <td>78992.15</td>\n      <td>1132.00</td>\n      <td>71976.41</td>\n      <td>72.58</td>\n      <td>5811.16</td>\n      <td>5677.40</td>\n      <td>133.76</td>\n      <td>0.0</td>\n      <td>conventional</td>\n      <td>2015</td>\n      <td>Albany</td>\n    </tr>\n    <tr>\n      <th>4</th>\n      <td>4</td>\n      <td>2015-11-29</td>\n      <td>1.28</td>\n      <td>51039.60</td>\n      <td>941.48</td>\n      <td>43838.39</td>\n      <td>75.78</td>\n      <td>6183.95</td>\n      <td>5986.26</td>\n      <td>197.69</td>\n      <td>0.0</td>\n      <td>conventional</td>\n      <td>2015</td>\n      <td>Albany</td>\n    </tr>\n    <tr>\n      <th>...</th>\n      <td>...</td>\n      <td>...</td>\n      <td>...</td>\n      <td>...</td>\n      <td>...</td>\n      <td>...</td>\n      <td>...</td>\n      <td>...</td>\n      <td>...</td>\n      <td>...</td>\n      <td>...</td>\n      <td>...</td>\n      <td>...</td>\n      <td>...</td>\n    </tr>\n    <tr>\n      <th>18244</th>\n      <td>7</td>\n      <td>2018-02-04</td>\n      <td>1.63</td>\n      <td>17074.83</td>\n      <td>2046.96</td>\n      <td>1529.20</td>\n      <td>0.00</td>\n      <td>13498.67</td>\n      <td>13066.82</td>\n      <td>431.85</td>\n      <td>0.0</td>\n      <td>organic</td>\n      <td>2018</td>\n      <td>WestTexNewMexico</td>\n    </tr>\n    <tr>\n      <th>18245</th>\n      <td>8</td>\n      <td>2018-01-28</td>\n      <td>1.71</td>\n      <td>13888.04</td>\n      <td>1191.70</td>\n      <td>3431.50</td>\n      <td>0.00</td>\n      <td>9264.84</td>\n      <td>8940.04</td>\n      <td>324.80</td>\n      <td>0.0</td>\n      <td>organic</td>\n      <td>2018</td>\n      <td>WestTexNewMexico</td>\n    </tr>\n    <tr>\n      <th>18246</th>\n      <td>9</td>\n      <td>2018-01-21</td>\n      <td>1.87</td>\n      <td>13766.76</td>\n      <td>1191.92</td>\n      <td>2452.79</td>\n      <td>727.94</td>\n      <td>9394.11</td>\n      <td>9351.80</td>\n      <td>42.31</td>\n      <td>0.0</td>\n      <td>organic</td>\n      <td>2018</td>\n      <td>WestTexNewMexico</td>\n    </tr>\n    <tr>\n      <th>18247</th>\n      <td>10</td>\n      <td>2018-01-14</td>\n      <td>1.93</td>\n      <td>16205.22</td>\n      <td>1527.63</td>\n      <td>2981.04</td>\n      <td>727.01</td>\n      <td>10969.54</td>\n      <td>10919.54</td>\n      <td>50.00</td>\n      <td>0.0</td>\n      <td>organic</td>\n      <td>2018</td>\n      <td>WestTexNewMexico</td>\n    </tr>\n    <tr>\n      <th>18248</th>\n      <td>11</td>\n      <td>2018-01-07</td>\n      <td>1.62</td>\n      <td>17489.58</td>\n      <td>2894.77</td>\n      <td>2356.13</td>\n      <td>224.53</td>\n      <td>12014.15</td>\n      <td>11988.14</td>\n      <td>26.01</td>\n      <td>0.0</td>\n      <td>organic</td>\n      <td>2018</td>\n      <td>WestTexNewMexico</td>\n    </tr>\n  </tbody>\n</table>\n<p>18249 rows × 14 columns</p>\n</div>"
     },
     "metadata": {},
     "execution_count": 7
    }
   ],
   "source": [
    "avocado"
   ]
  },
  {
   "cell_type": "markdown",
   "metadata": {},
   "source": [
    "Muestra el index número **2904** de la columna `Date`. "
   ]
  },
  {
   "cell_type": "code",
   "execution_count": 5,
   "metadata": {},
   "outputs": [],
   "source": [
    "# your code here"
   ]
  },
  {
   "cell_type": "code",
   "execution_count": 79,
   "metadata": {},
   "outputs": [
    {
     "output_type": "execute_result",
     "data": {
      "text/plain": "2904    2016-02-21\nName: Date, dtype: object"
     },
     "metadata": {},
     "execution_count": 79
    }
   ],
   "source": [
    "index2904 = avocado.loc[2904:2904,'Date']\n",
    "index2904"
   ]
  },
  {
   "cell_type": "code",
   "execution_count": 80,
   "metadata": {},
   "outputs": [
    {
     "output_type": "execute_result",
     "data": {
      "text/plain": "      Unnamed: 0        Date  AveragePrice  Total Volume       4046      4225  \\\n2904          44  2016-02-21          1.04     417205.77  270173.33  61591.16   \n\n         4770  Total Bags  Small Bags  Large Bags  XLarge Bags          type  \\\n2904  1996.32    83444.96    55736.39    27708.57          0.0  conventional   \n\n      year   region  \n2904  2016  Atlanta  ",
      "text/html": "<div>\n<style scoped>\n    .dataframe tbody tr th:only-of-type {\n        vertical-align: middle;\n    }\n\n    .dataframe tbody tr th {\n        vertical-align: top;\n    }\n\n    .dataframe thead th {\n        text-align: right;\n    }\n</style>\n<table border=\"1\" class=\"dataframe\">\n  <thead>\n    <tr style=\"text-align: right;\">\n      <th></th>\n      <th>Unnamed: 0</th>\n      <th>Date</th>\n      <th>AveragePrice</th>\n      <th>Total Volume</th>\n      <th>4046</th>\n      <th>4225</th>\n      <th>4770</th>\n      <th>Total Bags</th>\n      <th>Small Bags</th>\n      <th>Large Bags</th>\n      <th>XLarge Bags</th>\n      <th>type</th>\n      <th>year</th>\n      <th>region</th>\n    </tr>\n  </thead>\n  <tbody>\n    <tr>\n      <th>2904</th>\n      <td>44</td>\n      <td>2016-02-21</td>\n      <td>1.04</td>\n      <td>417205.77</td>\n      <td>270173.33</td>\n      <td>61591.16</td>\n      <td>1996.32</td>\n      <td>83444.96</td>\n      <td>55736.39</td>\n      <td>27708.57</td>\n      <td>0.0</td>\n      <td>conventional</td>\n      <td>2016</td>\n      <td>Atlanta</td>\n    </tr>\n  </tbody>\n</table>\n</div>"
     },
     "metadata": {},
     "execution_count": 80
    }
   ],
   "source": [
    "#si quisiera mostrar la fila:\n",
    "observacion2904 = avocado.loc[2904:2904, :]\n",
    "observacion2904"
   ]
  },
  {
   "cell_type": "markdown",
   "metadata": {},
   "source": [
    "¿De qué tipo es este valor? "
   ]
  },
  {
   "cell_type": "code",
   "execution_count": null,
   "metadata": {},
   "outputs": [],
   "source": [
    "#El valor es de tipo 'object'"
   ]
  },
  {
   "cell_type": "code",
   "execution_count": 5,
   "metadata": {},
   "outputs": [],
   "source": [
    "# your answer here"
   ]
  },
  {
   "cell_type": "markdown",
   "metadata": {},
   "source": [
    "Esta columna contiene fechas, por lo que para poder trabajarla como tal, pásala a tipo `datetime64[ns]`.\n",
    "\n",
    "Existe una forma de importar el archivo `.csv` estableciendo la columna `Date` como el index, si has hecho esto al importar el archivo, a pesar del AVISO, vuelve a importarlo sin incluir argumentos. "
   ]
  },
  {
   "cell_type": "code",
   "execution_count": 81,
   "metadata": {},
   "outputs": [
    {
     "output_type": "execute_result",
     "data": {
      "text/plain": "pandas.core.series.Series"
     },
     "metadata": {},
     "execution_count": 81
    }
   ],
   "source": [
    "avocado.Date = pd.to_datetime(avocado.Date)\n",
    "type(avocado.Date)"
   ]
  },
  {
   "cell_type": "code",
   "execution_count": 4,
   "metadata": {},
   "outputs": [],
   "source": [
    "# your code here"
   ]
  },
  {
   "cell_type": "code",
   "execution_count": 82,
   "metadata": {},
   "outputs": [
    {
     "output_type": "execute_result",
     "data": {
      "text/plain": "pandas.core.series.Series"
     },
     "metadata": {},
     "execution_count": 82
    }
   ],
   "source": [
    "avocado.Date = pd.to_datetime(avocado.Date)\n",
    "type(avocado.Date)"
   ]
  },
  {
   "cell_type": "code",
   "execution_count": 83,
   "metadata": {},
   "outputs": [
    {
     "output_type": "execute_result",
     "data": {
      "text/plain": "Unnamed: 0               int64\nDate            datetime64[ns]\nAveragePrice           float64\nTotal Volume           float64\n4046                   float64\n4225                   float64\n4770                   float64\nTotal Bags             float64\nSmall Bags             float64\nLarge Bags             float64\nXLarge Bags            float64\ntype                    object\nyear                     int64\nregion                  object\ndtype: object"
     },
     "metadata": {},
     "execution_count": 83
    }
   ],
   "source": [
    "avocado.dtypes"
   ]
  },
  {
   "cell_type": "markdown",
   "metadata": {},
   "source": [
    "Establece esta columna como el index de `avocado`. "
   ]
  },
  {
   "cell_type": "code",
   "execution_count": 38,
   "metadata": {},
   "outputs": [],
   "source": [
    "# your code here"
   ]
  },
  {
   "cell_type": "code",
   "execution_count": 84,
   "metadata": {},
   "outputs": [
    {
     "output_type": "execute_result",
     "data": {
      "text/plain": "Index(['Unnamed: 0', 'Date', 'AveragePrice', 'Total Volume', '4046', '4225',\n       '4770', 'Total Bags', 'Small Bags', 'Large Bags', 'XLarge Bags', 'type',\n       'year', 'region'],\n      dtype='object')"
     },
     "metadata": {},
     "execution_count": 84
    }
   ],
   "source": [
    "avocado.columns"
   ]
  },
  {
   "cell_type": "code",
   "execution_count": null,
   "metadata": {},
   "outputs": [],
   "source": [
    "avocado.set_index('Date', inplace=True)"
   ]
  },
  {
   "cell_type": "markdown",
   "metadata": {},
   "source": [
    "Muestra los 7 últimos valores del dataframe y observa que efectivamente se ha actualizado el index. "
   ]
  },
  {
   "cell_type": "code",
   "execution_count": 88,
   "metadata": {},
   "outputs": [
    {
     "output_type": "execute_result",
     "data": {
      "text/plain": "            Unnamed: 0  AveragePrice  Total Volume     4046     4225    4770  \\\nDate                                                                           \n2018-02-18           5          1.56      17597.12  1892.05  1928.36    0.00   \n2018-02-11           6          1.57      15986.17  1924.28  1368.32    0.00   \n2018-02-04           7          1.63      17074.83  2046.96  1529.20    0.00   \n2018-01-28           8          1.71      13888.04  1191.70  3431.50    0.00   \n2018-01-21           9          1.87      13766.76  1191.92  2452.79  727.94   \n2018-01-14          10          1.93      16205.22  1527.63  2981.04  727.01   \n2018-01-07          11          1.62      17489.58  2894.77  2356.13  224.53   \n\n            Total Bags  Small Bags  Large Bags  XLarge Bags     type  year  \\\nDate                                                                         \n2018-02-18    13776.71    13553.53      223.18          0.0  organic  2018   \n2018-02-11    12693.57    12437.35      256.22          0.0  organic  2018   \n2018-02-04    13498.67    13066.82      431.85          0.0  organic  2018   \n2018-01-28     9264.84     8940.04      324.80          0.0  organic  2018   \n2018-01-21     9394.11     9351.80       42.31          0.0  organic  2018   \n2018-01-14    10969.54    10919.54       50.00          0.0  organic  2018   \n2018-01-07    12014.15    11988.14       26.01          0.0  organic  2018   \n\n                      region  \nDate                          \n2018-02-18  WestTexNewMexico  \n2018-02-11  WestTexNewMexico  \n2018-02-04  WestTexNewMexico  \n2018-01-28  WestTexNewMexico  \n2018-01-21  WestTexNewMexico  \n2018-01-14  WestTexNewMexico  \n2018-01-07  WestTexNewMexico  ",
      "text/html": "<div>\n<style scoped>\n    .dataframe tbody tr th:only-of-type {\n        vertical-align: middle;\n    }\n\n    .dataframe tbody tr th {\n        vertical-align: top;\n    }\n\n    .dataframe thead th {\n        text-align: right;\n    }\n</style>\n<table border=\"1\" class=\"dataframe\">\n  <thead>\n    <tr style=\"text-align: right;\">\n      <th></th>\n      <th>Unnamed: 0</th>\n      <th>AveragePrice</th>\n      <th>Total Volume</th>\n      <th>4046</th>\n      <th>4225</th>\n      <th>4770</th>\n      <th>Total Bags</th>\n      <th>Small Bags</th>\n      <th>Large Bags</th>\n      <th>XLarge Bags</th>\n      <th>type</th>\n      <th>year</th>\n      <th>region</th>\n    </tr>\n    <tr>\n      <th>Date</th>\n      <th></th>\n      <th></th>\n      <th></th>\n      <th></th>\n      <th></th>\n      <th></th>\n      <th></th>\n      <th></th>\n      <th></th>\n      <th></th>\n      <th></th>\n      <th></th>\n      <th></th>\n    </tr>\n  </thead>\n  <tbody>\n    <tr>\n      <th>2018-02-18</th>\n      <td>5</td>\n      <td>1.56</td>\n      <td>17597.12</td>\n      <td>1892.05</td>\n      <td>1928.36</td>\n      <td>0.00</td>\n      <td>13776.71</td>\n      <td>13553.53</td>\n      <td>223.18</td>\n      <td>0.0</td>\n      <td>organic</td>\n      <td>2018</td>\n      <td>WestTexNewMexico</td>\n    </tr>\n    <tr>\n      <th>2018-02-11</th>\n      <td>6</td>\n      <td>1.57</td>\n      <td>15986.17</td>\n      <td>1924.28</td>\n      <td>1368.32</td>\n      <td>0.00</td>\n      <td>12693.57</td>\n      <td>12437.35</td>\n      <td>256.22</td>\n      <td>0.0</td>\n      <td>organic</td>\n      <td>2018</td>\n      <td>WestTexNewMexico</td>\n    </tr>\n    <tr>\n      <th>2018-02-04</th>\n      <td>7</td>\n      <td>1.63</td>\n      <td>17074.83</td>\n      <td>2046.96</td>\n      <td>1529.20</td>\n      <td>0.00</td>\n      <td>13498.67</td>\n      <td>13066.82</td>\n      <td>431.85</td>\n      <td>0.0</td>\n      <td>organic</td>\n      <td>2018</td>\n      <td>WestTexNewMexico</td>\n    </tr>\n    <tr>\n      <th>2018-01-28</th>\n      <td>8</td>\n      <td>1.71</td>\n      <td>13888.04</td>\n      <td>1191.70</td>\n      <td>3431.50</td>\n      <td>0.00</td>\n      <td>9264.84</td>\n      <td>8940.04</td>\n      <td>324.80</td>\n      <td>0.0</td>\n      <td>organic</td>\n      <td>2018</td>\n      <td>WestTexNewMexico</td>\n    </tr>\n    <tr>\n      <th>2018-01-21</th>\n      <td>9</td>\n      <td>1.87</td>\n      <td>13766.76</td>\n      <td>1191.92</td>\n      <td>2452.79</td>\n      <td>727.94</td>\n      <td>9394.11</td>\n      <td>9351.80</td>\n      <td>42.31</td>\n      <td>0.0</td>\n      <td>organic</td>\n      <td>2018</td>\n      <td>WestTexNewMexico</td>\n    </tr>\n    <tr>\n      <th>2018-01-14</th>\n      <td>10</td>\n      <td>1.93</td>\n      <td>16205.22</td>\n      <td>1527.63</td>\n      <td>2981.04</td>\n      <td>727.01</td>\n      <td>10969.54</td>\n      <td>10919.54</td>\n      <td>50.00</td>\n      <td>0.0</td>\n      <td>organic</td>\n      <td>2018</td>\n      <td>WestTexNewMexico</td>\n    </tr>\n    <tr>\n      <th>2018-01-07</th>\n      <td>11</td>\n      <td>1.62</td>\n      <td>17489.58</td>\n      <td>2894.77</td>\n      <td>2356.13</td>\n      <td>224.53</td>\n      <td>12014.15</td>\n      <td>11988.14</td>\n      <td>26.01</td>\n      <td>0.0</td>\n      <td>organic</td>\n      <td>2018</td>\n      <td>WestTexNewMexico</td>\n    </tr>\n  </tbody>\n</table>\n</div>"
     },
     "metadata": {},
     "execution_count": 88
    }
   ],
   "source": [
    "avocado.tail(7)"
   ]
  },
  {
   "cell_type": "code",
   "execution_count": 41,
   "metadata": {},
   "outputs": [],
   "source": [
    "# your code here"
   ]
  },
  {
   "cell_type": "markdown",
   "metadata": {},
   "source": [
    "Además si al leer el archivo `.csv` no eliminaste esta columna, el dataframe seguirá teniendo una columna llamada `Unnamed: 0` que contendría el valor de los index. Si es así, elimínala."
   ]
  },
  {
   "cell_type": "code",
   "execution_count": 42,
   "metadata": {},
   "outputs": [],
   "source": [
    "# your code here"
   ]
  },
  {
   "cell_type": "code",
   "execution_count": 92,
   "metadata": {},
   "outputs": [
    {
     "output_type": "execute_result",
     "data": {
      "text/plain": "            AveragePrice  Total Volume     4046       4225    4770  \\\nDate                                                                 \n2015-12-27          1.33      64236.62  1036.74   54454.85   48.16   \n2015-12-20          1.35      54876.98   674.28   44638.81   58.33   \n2015-12-13          0.93     118220.22   794.70  109149.67  130.50   \n2015-12-06          1.08      78992.15  1132.00   71976.41   72.58   \n2015-11-29          1.28      51039.60   941.48   43838.39   75.78   \n...                  ...           ...      ...        ...     ...   \n2018-02-04          1.63      17074.83  2046.96    1529.20    0.00   \n2018-01-28          1.71      13888.04  1191.70    3431.50    0.00   \n2018-01-21          1.87      13766.76  1191.92    2452.79  727.94   \n2018-01-14          1.93      16205.22  1527.63    2981.04  727.01   \n2018-01-07          1.62      17489.58  2894.77    2356.13  224.53   \n\n            Total Bags  Small Bags  Large Bags  XLarge Bags          type  \\\nDate                                                                        \n2015-12-27     8696.87     8603.62       93.25          0.0  conventional   \n2015-12-20     9505.56     9408.07       97.49          0.0  conventional   \n2015-12-13     8145.35     8042.21      103.14          0.0  conventional   \n2015-12-06     5811.16     5677.40      133.76          0.0  conventional   \n2015-11-29     6183.95     5986.26      197.69          0.0  conventional   \n...                ...         ...         ...          ...           ...   \n2018-02-04    13498.67    13066.82      431.85          0.0       organic   \n2018-01-28     9264.84     8940.04      324.80          0.0       organic   \n2018-01-21     9394.11     9351.80       42.31          0.0       organic   \n2018-01-14    10969.54    10919.54       50.00          0.0       organic   \n2018-01-07    12014.15    11988.14       26.01          0.0       organic   \n\n            year            region  \nDate                                \n2015-12-27  2015            Albany  \n2015-12-20  2015            Albany  \n2015-12-13  2015            Albany  \n2015-12-06  2015            Albany  \n2015-11-29  2015            Albany  \n...          ...               ...  \n2018-02-04  2018  WestTexNewMexico  \n2018-01-28  2018  WestTexNewMexico  \n2018-01-21  2018  WestTexNewMexico  \n2018-01-14  2018  WestTexNewMexico  \n2018-01-07  2018  WestTexNewMexico  \n\n[18249 rows x 12 columns]",
      "text/html": "<div>\n<style scoped>\n    .dataframe tbody tr th:only-of-type {\n        vertical-align: middle;\n    }\n\n    .dataframe tbody tr th {\n        vertical-align: top;\n    }\n\n    .dataframe thead th {\n        text-align: right;\n    }\n</style>\n<table border=\"1\" class=\"dataframe\">\n  <thead>\n    <tr style=\"text-align: right;\">\n      <th></th>\n      <th>AveragePrice</th>\n      <th>Total Volume</th>\n      <th>4046</th>\n      <th>4225</th>\n      <th>4770</th>\n      <th>Total Bags</th>\n      <th>Small Bags</th>\n      <th>Large Bags</th>\n      <th>XLarge Bags</th>\n      <th>type</th>\n      <th>year</th>\n      <th>region</th>\n    </tr>\n    <tr>\n      <th>Date</th>\n      <th></th>\n      <th></th>\n      <th></th>\n      <th></th>\n      <th></th>\n      <th></th>\n      <th></th>\n      <th></th>\n      <th></th>\n      <th></th>\n      <th></th>\n      <th></th>\n    </tr>\n  </thead>\n  <tbody>\n    <tr>\n      <th>2015-12-27</th>\n      <td>1.33</td>\n      <td>64236.62</td>\n      <td>1036.74</td>\n      <td>54454.85</td>\n      <td>48.16</td>\n      <td>8696.87</td>\n      <td>8603.62</td>\n      <td>93.25</td>\n      <td>0.0</td>\n      <td>conventional</td>\n      <td>2015</td>\n      <td>Albany</td>\n    </tr>\n    <tr>\n      <th>2015-12-20</th>\n      <td>1.35</td>\n      <td>54876.98</td>\n      <td>674.28</td>\n      <td>44638.81</td>\n      <td>58.33</td>\n      <td>9505.56</td>\n      <td>9408.07</td>\n      <td>97.49</td>\n      <td>0.0</td>\n      <td>conventional</td>\n      <td>2015</td>\n      <td>Albany</td>\n    </tr>\n    <tr>\n      <th>2015-12-13</th>\n      <td>0.93</td>\n      <td>118220.22</td>\n      <td>794.70</td>\n      <td>109149.67</td>\n      <td>130.50</td>\n      <td>8145.35</td>\n      <td>8042.21</td>\n      <td>103.14</td>\n      <td>0.0</td>\n      <td>conventional</td>\n      <td>2015</td>\n      <td>Albany</td>\n    </tr>\n    <tr>\n      <th>2015-12-06</th>\n      <td>1.08</td>\n      <td>78992.15</td>\n      <td>1132.00</td>\n      <td>71976.41</td>\n      <td>72.58</td>\n      <td>5811.16</td>\n      <td>5677.40</td>\n      <td>133.76</td>\n      <td>0.0</td>\n      <td>conventional</td>\n      <td>2015</td>\n      <td>Albany</td>\n    </tr>\n    <tr>\n      <th>2015-11-29</th>\n      <td>1.28</td>\n      <td>51039.60</td>\n      <td>941.48</td>\n      <td>43838.39</td>\n      <td>75.78</td>\n      <td>6183.95</td>\n      <td>5986.26</td>\n      <td>197.69</td>\n      <td>0.0</td>\n      <td>conventional</td>\n      <td>2015</td>\n      <td>Albany</td>\n    </tr>\n    <tr>\n      <th>...</th>\n      <td>...</td>\n      <td>...</td>\n      <td>...</td>\n      <td>...</td>\n      <td>...</td>\n      <td>...</td>\n      <td>...</td>\n      <td>...</td>\n      <td>...</td>\n      <td>...</td>\n      <td>...</td>\n      <td>...</td>\n    </tr>\n    <tr>\n      <th>2018-02-04</th>\n      <td>1.63</td>\n      <td>17074.83</td>\n      <td>2046.96</td>\n      <td>1529.20</td>\n      <td>0.00</td>\n      <td>13498.67</td>\n      <td>13066.82</td>\n      <td>431.85</td>\n      <td>0.0</td>\n      <td>organic</td>\n      <td>2018</td>\n      <td>WestTexNewMexico</td>\n    </tr>\n    <tr>\n      <th>2018-01-28</th>\n      <td>1.71</td>\n      <td>13888.04</td>\n      <td>1191.70</td>\n      <td>3431.50</td>\n      <td>0.00</td>\n      <td>9264.84</td>\n      <td>8940.04</td>\n      <td>324.80</td>\n      <td>0.0</td>\n      <td>organic</td>\n      <td>2018</td>\n      <td>WestTexNewMexico</td>\n    </tr>\n    <tr>\n      <th>2018-01-21</th>\n      <td>1.87</td>\n      <td>13766.76</td>\n      <td>1191.92</td>\n      <td>2452.79</td>\n      <td>727.94</td>\n      <td>9394.11</td>\n      <td>9351.80</td>\n      <td>42.31</td>\n      <td>0.0</td>\n      <td>organic</td>\n      <td>2018</td>\n      <td>WestTexNewMexico</td>\n    </tr>\n    <tr>\n      <th>2018-01-14</th>\n      <td>1.93</td>\n      <td>16205.22</td>\n      <td>1527.63</td>\n      <td>2981.04</td>\n      <td>727.01</td>\n      <td>10969.54</td>\n      <td>10919.54</td>\n      <td>50.00</td>\n      <td>0.0</td>\n      <td>organic</td>\n      <td>2018</td>\n      <td>WestTexNewMexico</td>\n    </tr>\n    <tr>\n      <th>2018-01-07</th>\n      <td>1.62</td>\n      <td>17489.58</td>\n      <td>2894.77</td>\n      <td>2356.13</td>\n      <td>224.53</td>\n      <td>12014.15</td>\n      <td>11988.14</td>\n      <td>26.01</td>\n      <td>0.0</td>\n      <td>organic</td>\n      <td>2018</td>\n      <td>WestTexNewMexico</td>\n    </tr>\n  </tbody>\n</table>\n<p>18249 rows × 12 columns</p>\n</div>"
     },
     "metadata": {},
     "execution_count": 92
    }
   ],
   "source": [
    "del avocado['Unnamed: 0']\n",
    "avocado"
   ]
  },
  {
   "cell_type": "markdown",
   "metadata": {},
   "source": [
    "¿Qué columnas continúan siendo de tipo **object**? Usa al menos una función de **pandas** para ello. "
   ]
  },
  {
   "cell_type": "code",
   "execution_count": 94,
   "metadata": {},
   "outputs": [
    {
     "output_type": "execute_result",
     "data": {
      "text/plain": "AveragePrice    float64\nTotal Volume    float64\n4046            float64\n4225            float64\n4770            float64\nTotal Bags      float64\nSmall Bags      float64\nLarge Bags      float64\nXLarge Bags     float64\ntype             object\nyear              int64\nregion           object\ndtype: object"
     },
     "metadata": {},
     "execution_count": 94
    }
   ],
   "source": [
    "avocado.dtypes"
   ]
  },
  {
   "cell_type": "code",
   "execution_count": 43,
   "metadata": {},
   "outputs": [],
   "source": [
    "# your code here\n",
    "#Las columnas 'type' and 'region' siguen siendo de tipo 'object'"
   ]
  },
  {
   "cell_type": "markdown",
   "metadata": {},
   "source": [
    "¿Cuántos valores únicos encontramos en estas columnas que continúan siendo de tipo **object**? "
   ]
  },
  {
   "cell_type": "code",
   "execution_count": 44,
   "metadata": {},
   "outputs": [],
   "source": [
    "# your code here"
   ]
  },
  {
   "cell_type": "code",
   "execution_count": 98,
   "metadata": {},
   "outputs": [
    {
     "output_type": "execute_result",
     "data": {
      "text/plain": "                    type            region\nDate                                      \n2015-12-27  conventional            Albany\n2015-12-20  conventional            Albany\n2015-12-13  conventional            Albany\n2015-12-06  conventional            Albany\n2015-11-29  conventional            Albany\n...                  ...               ...\n2018-02-04       organic  WestTexNewMexico\n2018-01-28       organic  WestTexNewMexico\n2018-01-21       organic  WestTexNewMexico\n2018-01-14       organic  WestTexNewMexico\n2018-01-07       organic  WestTexNewMexico\n\n[18249 rows x 2 columns]",
      "text/html": "<div>\n<style scoped>\n    .dataframe tbody tr th:only-of-type {\n        vertical-align: middle;\n    }\n\n    .dataframe tbody tr th {\n        vertical-align: top;\n    }\n\n    .dataframe thead th {\n        text-align: right;\n    }\n</style>\n<table border=\"1\" class=\"dataframe\">\n  <thead>\n    <tr style=\"text-align: right;\">\n      <th></th>\n      <th>type</th>\n      <th>region</th>\n    </tr>\n    <tr>\n      <th>Date</th>\n      <th></th>\n      <th></th>\n    </tr>\n  </thead>\n  <tbody>\n    <tr>\n      <th>2015-12-27</th>\n      <td>conventional</td>\n      <td>Albany</td>\n    </tr>\n    <tr>\n      <th>2015-12-20</th>\n      <td>conventional</td>\n      <td>Albany</td>\n    </tr>\n    <tr>\n      <th>2015-12-13</th>\n      <td>conventional</td>\n      <td>Albany</td>\n    </tr>\n    <tr>\n      <th>2015-12-06</th>\n      <td>conventional</td>\n      <td>Albany</td>\n    </tr>\n    <tr>\n      <th>2015-11-29</th>\n      <td>conventional</td>\n      <td>Albany</td>\n    </tr>\n    <tr>\n      <th>...</th>\n      <td>...</td>\n      <td>...</td>\n    </tr>\n    <tr>\n      <th>2018-02-04</th>\n      <td>organic</td>\n      <td>WestTexNewMexico</td>\n    </tr>\n    <tr>\n      <th>2018-01-28</th>\n      <td>organic</td>\n      <td>WestTexNewMexico</td>\n    </tr>\n    <tr>\n      <th>2018-01-21</th>\n      <td>organic</td>\n      <td>WestTexNewMexico</td>\n    </tr>\n    <tr>\n      <th>2018-01-14</th>\n      <td>organic</td>\n      <td>WestTexNewMexico</td>\n    </tr>\n    <tr>\n      <th>2018-01-07</th>\n      <td>organic</td>\n      <td>WestTexNewMexico</td>\n    </tr>\n  </tbody>\n</table>\n<p>18249 rows × 2 columns</p>\n</div>"
     },
     "metadata": {},
     "execution_count": 98
    }
   ],
   "source": [
    "avocadounicos = avocado[['type','region']]\n",
    "avocadounicos"
   ]
  },
  {
   "cell_type": "code",
   "execution_count": 99,
   "metadata": {},
   "outputs": [
    {
     "output_type": "execute_result",
     "data": {
      "text/plain": "type       2\nregion    54\ndtype: int64"
     },
     "metadata": {},
     "execution_count": 99
    }
   ],
   "source": [
    "avocadounicos.nunique()"
   ]
  },
  {
   "cell_type": "code",
   "execution_count": null,
   "metadata": {},
   "outputs": [],
   "source": [
    "#Encontramos 2 valores unicos en la columna 'type' y 54 valores unicos en la columna 'region'"
   ]
  },
  {
   "cell_type": "markdown",
   "metadata": {},
   "source": [
    "¿Qué número de ocurrencias tiene cada uno de estos valores únicos en la columna en que se encuentra? "
   ]
  },
  {
   "cell_type": "code",
   "execution_count": 45,
   "metadata": {},
   "outputs": [],
   "source": [
    "# your code here"
   ]
  },
  {
   "cell_type": "code",
   "execution_count": 107,
   "metadata": {},
   "outputs": [
    {
     "output_type": "execute_result",
     "data": {
      "text/plain": "                     type\nregion                   \nAlbany                338\nAtlanta               338\nBaltimoreWashington   338\nBoise                 338\nBoston                338\nBuffaloRochester      338\nCalifornia            338\nCharlotte             338\nChicago               338\nCincinnatiDayton      338\nColumbus              338\nDallasFtWorth         338\nDenver                338\nDetroit               338\nGrandRapids           338\nGreatLakes            338\nHarrisburgScranton    338\nHartfordSpringfield   338\nHouston               338\nIndianapolis          338\nJacksonville          338\nLasVegas              338\nLosAngeles            338\nLouisville            338\nMiamiFtLauderdale     338\nMidsouth              338\nNashville             338\nNewOrleansMobile      338\nNewYork               338\nNortheast             338\nNorthernNewEngland    338\nOrlando               338\nPhiladelphia          338\nPhoenixTucson         338\nPittsburgh            338\nPlains                338\nPortland              338\nRaleighGreensboro     338\nRichmondNorfolk       338\nRoanoke               338\nSacramento            338\nSanDiego              338\nSanFrancisco          338\nSeattle               338\nSouthCarolina         338\nSouthCentral          338\nSoutheast             338\nSpokane               338\nStLouis               338\nSyracuse              338\nTampa                 338\nTotalUS               338\nWest                  338\nWestTexNewMexico      335",
      "text/html": "<div>\n<style scoped>\n    .dataframe tbody tr th:only-of-type {\n        vertical-align: middle;\n    }\n\n    .dataframe tbody tr th {\n        vertical-align: top;\n    }\n\n    .dataframe thead th {\n        text-align: right;\n    }\n</style>\n<table border=\"1\" class=\"dataframe\">\n  <thead>\n    <tr style=\"text-align: right;\">\n      <th></th>\n      <th>type</th>\n    </tr>\n    <tr>\n      <th>region</th>\n      <th></th>\n    </tr>\n  </thead>\n  <tbody>\n    <tr>\n      <th>Albany</th>\n      <td>338</td>\n    </tr>\n    <tr>\n      <th>Atlanta</th>\n      <td>338</td>\n    </tr>\n    <tr>\n      <th>BaltimoreWashington</th>\n      <td>338</td>\n    </tr>\n    <tr>\n      <th>Boise</th>\n      <td>338</td>\n    </tr>\n    <tr>\n      <th>Boston</th>\n      <td>338</td>\n    </tr>\n    <tr>\n      <th>BuffaloRochester</th>\n      <td>338</td>\n    </tr>\n    <tr>\n      <th>California</th>\n      <td>338</td>\n    </tr>\n    <tr>\n      <th>Charlotte</th>\n      <td>338</td>\n    </tr>\n    <tr>\n      <th>Chicago</th>\n      <td>338</td>\n    </tr>\n    <tr>\n      <th>CincinnatiDayton</th>\n      <td>338</td>\n    </tr>\n    <tr>\n      <th>Columbus</th>\n      <td>338</td>\n    </tr>\n    <tr>\n      <th>DallasFtWorth</th>\n      <td>338</td>\n    </tr>\n    <tr>\n      <th>Denver</th>\n      <td>338</td>\n    </tr>\n    <tr>\n      <th>Detroit</th>\n      <td>338</td>\n    </tr>\n    <tr>\n      <th>GrandRapids</th>\n      <td>338</td>\n    </tr>\n    <tr>\n      <th>GreatLakes</th>\n      <td>338</td>\n    </tr>\n    <tr>\n      <th>HarrisburgScranton</th>\n      <td>338</td>\n    </tr>\n    <tr>\n      <th>HartfordSpringfield</th>\n      <td>338</td>\n    </tr>\n    <tr>\n      <th>Houston</th>\n      <td>338</td>\n    </tr>\n    <tr>\n      <th>Indianapolis</th>\n      <td>338</td>\n    </tr>\n    <tr>\n      <th>Jacksonville</th>\n      <td>338</td>\n    </tr>\n    <tr>\n      <th>LasVegas</th>\n      <td>338</td>\n    </tr>\n    <tr>\n      <th>LosAngeles</th>\n      <td>338</td>\n    </tr>\n    <tr>\n      <th>Louisville</th>\n      <td>338</td>\n    </tr>\n    <tr>\n      <th>MiamiFtLauderdale</th>\n      <td>338</td>\n    </tr>\n    <tr>\n      <th>Midsouth</th>\n      <td>338</td>\n    </tr>\n    <tr>\n      <th>Nashville</th>\n      <td>338</td>\n    </tr>\n    <tr>\n      <th>NewOrleansMobile</th>\n      <td>338</td>\n    </tr>\n    <tr>\n      <th>NewYork</th>\n      <td>338</td>\n    </tr>\n    <tr>\n      <th>Northeast</th>\n      <td>338</td>\n    </tr>\n    <tr>\n      <th>NorthernNewEngland</th>\n      <td>338</td>\n    </tr>\n    <tr>\n      <th>Orlando</th>\n      <td>338</td>\n    </tr>\n    <tr>\n      <th>Philadelphia</th>\n      <td>338</td>\n    </tr>\n    <tr>\n      <th>PhoenixTucson</th>\n      <td>338</td>\n    </tr>\n    <tr>\n      <th>Pittsburgh</th>\n      <td>338</td>\n    </tr>\n    <tr>\n      <th>Plains</th>\n      <td>338</td>\n    </tr>\n    <tr>\n      <th>Portland</th>\n      <td>338</td>\n    </tr>\n    <tr>\n      <th>RaleighGreensboro</th>\n      <td>338</td>\n    </tr>\n    <tr>\n      <th>RichmondNorfolk</th>\n      <td>338</td>\n    </tr>\n    <tr>\n      <th>Roanoke</th>\n      <td>338</td>\n    </tr>\n    <tr>\n      <th>Sacramento</th>\n      <td>338</td>\n    </tr>\n    <tr>\n      <th>SanDiego</th>\n      <td>338</td>\n    </tr>\n    <tr>\n      <th>SanFrancisco</th>\n      <td>338</td>\n    </tr>\n    <tr>\n      <th>Seattle</th>\n      <td>338</td>\n    </tr>\n    <tr>\n      <th>SouthCarolina</th>\n      <td>338</td>\n    </tr>\n    <tr>\n      <th>SouthCentral</th>\n      <td>338</td>\n    </tr>\n    <tr>\n      <th>Southeast</th>\n      <td>338</td>\n    </tr>\n    <tr>\n      <th>Spokane</th>\n      <td>338</td>\n    </tr>\n    <tr>\n      <th>StLouis</th>\n      <td>338</td>\n    </tr>\n    <tr>\n      <th>Syracuse</th>\n      <td>338</td>\n    </tr>\n    <tr>\n      <th>Tampa</th>\n      <td>338</td>\n    </tr>\n    <tr>\n      <th>TotalUS</th>\n      <td>338</td>\n    </tr>\n    <tr>\n      <th>West</th>\n      <td>338</td>\n    </tr>\n    <tr>\n      <th>WestTexNewMexico</th>\n      <td>335</td>\n    </tr>\n  </tbody>\n</table>\n</div>"
     },
     "metadata": {},
     "execution_count": 107
    }
   ],
   "source": [
    "avocadofrec = avocadounicos.groupby('region').count()\n",
    "avocadofrec"
   ]
  },
  {
   "cell_type": "code",
   "execution_count": 103,
   "metadata": {},
   "outputs": [
    {
     "output_type": "execute_result",
     "data": {
      "text/plain": "(54, 1)"
     },
     "metadata": {},
     "execution_count": 103
    }
   ],
   "source": [
    "avocadofrec.shape"
   ]
  },
  {
   "cell_type": "code",
   "execution_count": 104,
   "metadata": {},
   "outputs": [
    {
     "output_type": "execute_result",
     "data": {
      "text/plain": "              region\ntype                \nconventional    9126\norganic         9123",
      "text/html": "<div>\n<style scoped>\n    .dataframe tbody tr th:only-of-type {\n        vertical-align: middle;\n    }\n\n    .dataframe tbody tr th {\n        vertical-align: top;\n    }\n\n    .dataframe thead th {\n        text-align: right;\n    }\n</style>\n<table border=\"1\" class=\"dataframe\">\n  <thead>\n    <tr style=\"text-align: right;\">\n      <th></th>\n      <th>region</th>\n    </tr>\n    <tr>\n      <th>type</th>\n      <th></th>\n    </tr>\n  </thead>\n  <tbody>\n    <tr>\n      <th>conventional</th>\n      <td>9126</td>\n    </tr>\n    <tr>\n      <th>organic</th>\n      <td>9123</td>\n    </tr>\n  </tbody>\n</table>\n</div>"
     },
     "metadata": {},
     "execution_count": 104
    }
   ],
   "source": [
    "avocadotype = avocadounicos.groupby('type').count()\n",
    "avocadotype"
   ]
  },
  {
   "cell_type": "code",
   "execution_count": null,
   "metadata": {},
   "outputs": [],
   "source": [
    "#Hay 54 regiones distintas en el dataframe de 'avocado' y hay 2 tipos de avocados: convencional y organico. \n",
    "\n",
    "\n",
    "#Con respecto al tipo de avocados, el valor convencional se presenta 9126 veces y el valor organico se presenta 9123 veces."
   ]
  },
  {
   "cell_type": "markdown",
   "metadata": {},
   "source": [
    "Ahora que hemos explorado el dataframe, podemos empezar a trabajar con ello. En este caso, ordena el `index` de manera que la fecha **2015-01-04** quede arriba. "
   ]
  },
  {
   "cell_type": "code",
   "execution_count": 46,
   "metadata": {},
   "outputs": [],
   "source": [
    "# your code here"
   ]
  },
  {
   "cell_type": "code",
   "execution_count": 108,
   "metadata": {},
   "outputs": [
    {
     "output_type": "execute_result",
     "data": {
      "text/plain": "            AveragePrice  Total Volume        4046       4225       4770  \\\nDate                                                                       \n2015-01-04          1.75      27365.89     9307.34    3844.81     615.28   \n2015-01-04          1.49      17723.17     1189.35   15628.27       0.00   \n2015-01-04          1.68       2896.72      161.68     206.96       0.00   \n2015-01-04          1.52      54956.80     3013.04   35456.88    1561.70   \n2015-01-04          1.64       1505.12        1.27    1129.50       0.00   \n...                  ...           ...         ...        ...        ...   \n2018-03-25          1.36     908202.13   142681.06  463136.28  174975.75   \n2018-03-25          0.70    9010588.32  3999735.71  966589.50   30130.82   \n2018-03-25          1.42     163496.70    29253.30    5080.04       0.00   \n2018-03-25          1.70     190257.38    29644.09   70982.10       0.00   \n2018-03-25          1.34    1774776.77    63905.98  908653.71     843.45   \n\n            Total Bags  Small Bags  Large Bags  XLarge Bags          type  \\\nDate                                                                        \n2015-01-04    13598.46    13061.10      537.36         0.00       organic   \n2015-01-04      905.55      905.55        0.00         0.00       organic   \n2015-01-04     2528.08     2528.08        0.00         0.00       organic   \n2015-01-04    14925.18    11264.80     3660.38         0.00  conventional   \n2015-01-04      374.35      186.67      187.68         0.00       organic   \n...                ...         ...         ...          ...           ...   \n2018-03-25   127409.04   103579.41    22467.04      1362.59  conventional   \n2018-03-25  4014132.29  3398569.92   546409.74     69152.63  conventional   \n2018-03-25   129163.36   109052.26    20111.10         0.00       organic   \n2018-03-25    89631.19    89424.11      207.08         0.00       organic   \n2018-03-25   801373.63   774634.09    23833.93      2905.61  conventional   \n\n            year              region  \nDate                                  \n2015-01-04  2015           Southeast  \n2015-01-04  2015             Chicago  \n2015-01-04  2015  HarrisburgScranton  \n2015-01-04  2015          Pittsburgh  \n2015-01-04  2015               Boise  \n...          ...                 ...  \n2018-03-25  2018             Chicago  \n2018-03-25  2018        SouthCentral  \n2018-03-25  2018        SouthCentral  \n2018-03-25  2018          California  \n2018-03-25  2018             NewYork  \n\n[18249 rows x 12 columns]",
      "text/html": "<div>\n<style scoped>\n    .dataframe tbody tr th:only-of-type {\n        vertical-align: middle;\n    }\n\n    .dataframe tbody tr th {\n        vertical-align: top;\n    }\n\n    .dataframe thead th {\n        text-align: right;\n    }\n</style>\n<table border=\"1\" class=\"dataframe\">\n  <thead>\n    <tr style=\"text-align: right;\">\n      <th></th>\n      <th>AveragePrice</th>\n      <th>Total Volume</th>\n      <th>4046</th>\n      <th>4225</th>\n      <th>4770</th>\n      <th>Total Bags</th>\n      <th>Small Bags</th>\n      <th>Large Bags</th>\n      <th>XLarge Bags</th>\n      <th>type</th>\n      <th>year</th>\n      <th>region</th>\n    </tr>\n    <tr>\n      <th>Date</th>\n      <th></th>\n      <th></th>\n      <th></th>\n      <th></th>\n      <th></th>\n      <th></th>\n      <th></th>\n      <th></th>\n      <th></th>\n      <th></th>\n      <th></th>\n      <th></th>\n    </tr>\n  </thead>\n  <tbody>\n    <tr>\n      <th>2015-01-04</th>\n      <td>1.75</td>\n      <td>27365.89</td>\n      <td>9307.34</td>\n      <td>3844.81</td>\n      <td>615.28</td>\n      <td>13598.46</td>\n      <td>13061.10</td>\n      <td>537.36</td>\n      <td>0.00</td>\n      <td>organic</td>\n      <td>2015</td>\n      <td>Southeast</td>\n    </tr>\n    <tr>\n      <th>2015-01-04</th>\n      <td>1.49</td>\n      <td>17723.17</td>\n      <td>1189.35</td>\n      <td>15628.27</td>\n      <td>0.00</td>\n      <td>905.55</td>\n      <td>905.55</td>\n      <td>0.00</td>\n      <td>0.00</td>\n      <td>organic</td>\n      <td>2015</td>\n      <td>Chicago</td>\n    </tr>\n    <tr>\n      <th>2015-01-04</th>\n      <td>1.68</td>\n      <td>2896.72</td>\n      <td>161.68</td>\n      <td>206.96</td>\n      <td>0.00</td>\n      <td>2528.08</td>\n      <td>2528.08</td>\n      <td>0.00</td>\n      <td>0.00</td>\n      <td>organic</td>\n      <td>2015</td>\n      <td>HarrisburgScranton</td>\n    </tr>\n    <tr>\n      <th>2015-01-04</th>\n      <td>1.52</td>\n      <td>54956.80</td>\n      <td>3013.04</td>\n      <td>35456.88</td>\n      <td>1561.70</td>\n      <td>14925.18</td>\n      <td>11264.80</td>\n      <td>3660.38</td>\n      <td>0.00</td>\n      <td>conventional</td>\n      <td>2015</td>\n      <td>Pittsburgh</td>\n    </tr>\n    <tr>\n      <th>2015-01-04</th>\n      <td>1.64</td>\n      <td>1505.12</td>\n      <td>1.27</td>\n      <td>1129.50</td>\n      <td>0.00</td>\n      <td>374.35</td>\n      <td>186.67</td>\n      <td>187.68</td>\n      <td>0.00</td>\n      <td>organic</td>\n      <td>2015</td>\n      <td>Boise</td>\n    </tr>\n    <tr>\n      <th>...</th>\n      <td>...</td>\n      <td>...</td>\n      <td>...</td>\n      <td>...</td>\n      <td>...</td>\n      <td>...</td>\n      <td>...</td>\n      <td>...</td>\n      <td>...</td>\n      <td>...</td>\n      <td>...</td>\n      <td>...</td>\n    </tr>\n    <tr>\n      <th>2018-03-25</th>\n      <td>1.36</td>\n      <td>908202.13</td>\n      <td>142681.06</td>\n      <td>463136.28</td>\n      <td>174975.75</td>\n      <td>127409.04</td>\n      <td>103579.41</td>\n      <td>22467.04</td>\n      <td>1362.59</td>\n      <td>conventional</td>\n      <td>2018</td>\n      <td>Chicago</td>\n    </tr>\n    <tr>\n      <th>2018-03-25</th>\n      <td>0.70</td>\n      <td>9010588.32</td>\n      <td>3999735.71</td>\n      <td>966589.50</td>\n      <td>30130.82</td>\n      <td>4014132.29</td>\n      <td>3398569.92</td>\n      <td>546409.74</td>\n      <td>69152.63</td>\n      <td>conventional</td>\n      <td>2018</td>\n      <td>SouthCentral</td>\n    </tr>\n    <tr>\n      <th>2018-03-25</th>\n      <td>1.42</td>\n      <td>163496.70</td>\n      <td>29253.30</td>\n      <td>5080.04</td>\n      <td>0.00</td>\n      <td>129163.36</td>\n      <td>109052.26</td>\n      <td>20111.10</td>\n      <td>0.00</td>\n      <td>organic</td>\n      <td>2018</td>\n      <td>SouthCentral</td>\n    </tr>\n    <tr>\n      <th>2018-03-25</th>\n      <td>1.70</td>\n      <td>190257.38</td>\n      <td>29644.09</td>\n      <td>70982.10</td>\n      <td>0.00</td>\n      <td>89631.19</td>\n      <td>89424.11</td>\n      <td>207.08</td>\n      <td>0.00</td>\n      <td>organic</td>\n      <td>2018</td>\n      <td>California</td>\n    </tr>\n    <tr>\n      <th>2018-03-25</th>\n      <td>1.34</td>\n      <td>1774776.77</td>\n      <td>63905.98</td>\n      <td>908653.71</td>\n      <td>843.45</td>\n      <td>801373.63</td>\n      <td>774634.09</td>\n      <td>23833.93</td>\n      <td>2905.61</td>\n      <td>conventional</td>\n      <td>2018</td>\n      <td>NewYork</td>\n    </tr>\n  </tbody>\n</table>\n<p>18249 rows × 12 columns</p>\n</div>"
     },
     "metadata": {},
     "execution_count": 108
    }
   ],
   "source": [
    "avocado.sort_index()"
   ]
  },
  {
   "cell_type": "markdown",
   "metadata": {},
   "source": [
    "Agrupa el dataframe `avocado` por tipo y quédate con el mínimo del resto de las columnas. "
   ]
  },
  {
   "cell_type": "code",
   "execution_count": 47,
   "metadata": {},
   "outputs": [],
   "source": [
    "# your code here"
   ]
  },
  {
   "cell_type": "code",
   "execution_count": 109,
   "metadata": {},
   "outputs": [
    {
     "output_type": "execute_result",
     "data": {
      "text/plain": "              AveragePrice  Total Volume   4046    4225  4770  Total Bags  \\\ntype                                                                        \nconventional          0.46      33699.68  72.06  1518.0   0.0     3047.17   \norganic               0.44         84.56   0.00     0.0   0.0        0.00   \n\n              Small Bags  Large Bags  XLarge Bags  year  region  \ntype                                                             \nconventional     1119.18         0.0          0.0  2015  Albany  \norganic             0.00         0.0          0.0  2015  Albany  ",
      "text/html": "<div>\n<style scoped>\n    .dataframe tbody tr th:only-of-type {\n        vertical-align: middle;\n    }\n\n    .dataframe tbody tr th {\n        vertical-align: top;\n    }\n\n    .dataframe thead th {\n        text-align: right;\n    }\n</style>\n<table border=\"1\" class=\"dataframe\">\n  <thead>\n    <tr style=\"text-align: right;\">\n      <th></th>\n      <th>AveragePrice</th>\n      <th>Total Volume</th>\n      <th>4046</th>\n      <th>4225</th>\n      <th>4770</th>\n      <th>Total Bags</th>\n      <th>Small Bags</th>\n      <th>Large Bags</th>\n      <th>XLarge Bags</th>\n      <th>year</th>\n      <th>region</th>\n    </tr>\n    <tr>\n      <th>type</th>\n      <th></th>\n      <th></th>\n      <th></th>\n      <th></th>\n      <th></th>\n      <th></th>\n      <th></th>\n      <th></th>\n      <th></th>\n      <th></th>\n      <th></th>\n    </tr>\n  </thead>\n  <tbody>\n    <tr>\n      <th>conventional</th>\n      <td>0.46</td>\n      <td>33699.68</td>\n      <td>72.06</td>\n      <td>1518.0</td>\n      <td>0.0</td>\n      <td>3047.17</td>\n      <td>1119.18</td>\n      <td>0.0</td>\n      <td>0.0</td>\n      <td>2015</td>\n      <td>Albany</td>\n    </tr>\n    <tr>\n      <th>organic</th>\n      <td>0.44</td>\n      <td>84.56</td>\n      <td>0.00</td>\n      <td>0.0</td>\n      <td>0.0</td>\n      <td>0.00</td>\n      <td>0.00</td>\n      <td>0.0</td>\n      <td>0.0</td>\n      <td>2015</td>\n      <td>Albany</td>\n    </tr>\n  </tbody>\n</table>\n</div>"
     },
     "metadata": {},
     "execution_count": 109
    }
   ],
   "source": [
    "avocado.groupby('type').min()"
   ]
  },
  {
   "cell_type": "markdown",
   "metadata": {},
   "source": [
    "Además, queremos conocer el máximo de bolsas pequeñas, bolsas grandes y bolsas extragrandes de aguacates que se vendieron por año, por cada región. Crea un dataframe que se llame `group_bags` que muestre dicha información. "
   ]
  },
  {
   "cell_type": "code",
   "execution_count": 48,
   "metadata": {},
   "outputs": [],
   "source": [
    "# your code here"
   ]
  },
  {
   "cell_type": "code",
   "execution_count": 134,
   "metadata": {},
   "outputs": [
    {
     "output_type": "execute_result",
     "data": {
      "text/plain": "            AveragePrice  Total Volume          4046          4225  \\\nDate                                                                 \n2015-01-01       7723.94  4.385469e+09  1.709450e+09  1.761054e+09   \n2016-01-01       7517.80  4.820890e+09  1.525123e+09  1.672728e+09   \n2017-01-01       8669.56  4.934306e+09  1.652038e+09  1.544735e+09   \n2018-01-01       1746.40  1.382738e+09  4.604997e+08  4.077587e+08   \n\n                    4770    Total Bags    Small Bags    Large Bags  \\\nDate                                                                 \n2015-01-01  1.427724e+08  7.721922e+08  6.346827e+08  1.320664e+08   \n2016-01-01  1.598798e+08  1.463159e+09  1.106494e+09  3.366263e+08   \n2017-01-01  9.121751e+07  1.646289e+09  1.222953e+09  3.993390e+08   \n2018-01-01  2.293259e+07  4.915359e+08  3.607414e+08  1.235840e+08   \n\n            XLarge Bags      year  \nDate                               \n2015-01-01   5443128.28  11314225  \n2016-01-01  20038284.84  11321856  \n2017-01-01  23997172.34  11541274  \n2018-01-01   7210591.87   2615328  ",
      "text/html": "<div>\n<style scoped>\n    .dataframe tbody tr th:only-of-type {\n        vertical-align: middle;\n    }\n\n    .dataframe tbody tr th {\n        vertical-align: top;\n    }\n\n    .dataframe thead th {\n        text-align: right;\n    }\n</style>\n<table border=\"1\" class=\"dataframe\">\n  <thead>\n    <tr style=\"text-align: right;\">\n      <th></th>\n      <th>AveragePrice</th>\n      <th>Total Volume</th>\n      <th>4046</th>\n      <th>4225</th>\n      <th>4770</th>\n      <th>Total Bags</th>\n      <th>Small Bags</th>\n      <th>Large Bags</th>\n      <th>XLarge Bags</th>\n      <th>year</th>\n    </tr>\n    <tr>\n      <th>Date</th>\n      <th></th>\n      <th></th>\n      <th></th>\n      <th></th>\n      <th></th>\n      <th></th>\n      <th></th>\n      <th></th>\n      <th></th>\n      <th></th>\n    </tr>\n  </thead>\n  <tbody>\n    <tr>\n      <th>2015-01-01</th>\n      <td>7723.94</td>\n      <td>4.385469e+09</td>\n      <td>1.709450e+09</td>\n      <td>1.761054e+09</td>\n      <td>1.427724e+08</td>\n      <td>7.721922e+08</td>\n      <td>6.346827e+08</td>\n      <td>1.320664e+08</td>\n      <td>5443128.28</td>\n      <td>11314225</td>\n    </tr>\n    <tr>\n      <th>2016-01-01</th>\n      <td>7517.80</td>\n      <td>4.820890e+09</td>\n      <td>1.525123e+09</td>\n      <td>1.672728e+09</td>\n      <td>1.598798e+08</td>\n      <td>1.463159e+09</td>\n      <td>1.106494e+09</td>\n      <td>3.366263e+08</td>\n      <td>20038284.84</td>\n      <td>11321856</td>\n    </tr>\n    <tr>\n      <th>2017-01-01</th>\n      <td>8669.56</td>\n      <td>4.934306e+09</td>\n      <td>1.652038e+09</td>\n      <td>1.544735e+09</td>\n      <td>9.121751e+07</td>\n      <td>1.646289e+09</td>\n      <td>1.222953e+09</td>\n      <td>3.993390e+08</td>\n      <td>23997172.34</td>\n      <td>11541274</td>\n    </tr>\n    <tr>\n      <th>2018-01-01</th>\n      <td>1746.40</td>\n      <td>1.382738e+09</td>\n      <td>4.604997e+08</td>\n      <td>4.077587e+08</td>\n      <td>2.293259e+07</td>\n      <td>4.915359e+08</td>\n      <td>3.607414e+08</td>\n      <td>1.235840e+08</td>\n      <td>7210591.87</td>\n      <td>2615328</td>\n    </tr>\n  </tbody>\n</table>\n</div>"
     },
     "metadata": {},
     "execution_count": 134
    }
   ],
   "source": [
    "year = avocado.resample('AS-JAN', axis=0, closed=None, label=None, convention='start', kind=None, loffset=None, base=None).sum()\n",
    "year"
   ]
  },
  {
   "cell_type": "code",
   "execution_count": null,
   "metadata": {},
   "outputs": [],
   "source": [
    "#máximo de bolsas pequeñas, bolsas grandes y bolsas extragrandes\n",
    "#multi index x ano x region"
   ]
  },
  {
   "cell_type": "code",
   "execution_count": 131,
   "metadata": {},
   "outputs": [
    {
     "output_type": "execute_result",
     "data": {
      "text/plain": "              Small Bags    Large Bags  XLarge Bags\nDate                                               \n2015-01-01  6.346827e+08  1.320664e+08   5443128.28\n2016-01-01  1.106494e+09  3.366263e+08  20038284.84\n2017-01-01  1.222953e+09  3.993390e+08  23997172.34\n2018-01-01  3.607414e+08  1.235840e+08   7210591.87",
      "text/html": "<div>\n<style scoped>\n    .dataframe tbody tr th:only-of-type {\n        vertical-align: middle;\n    }\n\n    .dataframe tbody tr th {\n        vertical-align: top;\n    }\n\n    .dataframe thead th {\n        text-align: right;\n    }\n</style>\n<table border=\"1\" class=\"dataframe\">\n  <thead>\n    <tr style=\"text-align: right;\">\n      <th></th>\n      <th>Small Bags</th>\n      <th>Large Bags</th>\n      <th>XLarge Bags</th>\n    </tr>\n    <tr>\n      <th>Date</th>\n      <th></th>\n      <th></th>\n      <th></th>\n    </tr>\n  </thead>\n  <tbody>\n    <tr>\n      <th>2015-01-01</th>\n      <td>6.346827e+08</td>\n      <td>1.320664e+08</td>\n      <td>5443128.28</td>\n    </tr>\n    <tr>\n      <th>2016-01-01</th>\n      <td>1.106494e+09</td>\n      <td>3.366263e+08</td>\n      <td>20038284.84</td>\n    </tr>\n    <tr>\n      <th>2017-01-01</th>\n      <td>1.222953e+09</td>\n      <td>3.993390e+08</td>\n      <td>23997172.34</td>\n    </tr>\n    <tr>\n      <th>2018-01-01</th>\n      <td>3.607414e+08</td>\n      <td>1.235840e+08</td>\n      <td>7210591.87</td>\n    </tr>\n  </tbody>\n</table>\n</div>"
     },
     "metadata": {},
     "execution_count": 131
    }
   ],
   "source": [
    "year2 = year[['Small Bags','Large Bags','XLarge Bags']]\n",
    "year2"
   ]
  },
  {
   "cell_type": "code",
   "execution_count": 271,
   "metadata": {},
   "outputs": [
    {
     "output_type": "execute_result",
     "data": {
      "text/plain": "                     AveragePrice  Total Volume          4046          4225  \\\nregion                                                                        \nAlbany                     527.63  1.606780e+07  6.165396e+05  1.271597e+07   \nAtlanta                    452.23  8.860512e+07  4.938750e+07  1.055186e+07   \nBaltimoreWashington        518.57  1.347139e+08  1.205180e+07  8.314222e+07   \nBoise                      455.67  1.441319e+07  6.766594e+06  1.170049e+06   \nBoston                     517.44  9.727398e+07  1.688178e+06  7.240631e+07   \nBuffaloRochester           512.69  2.296247e+07  6.005149e+05  1.070242e+07   \nCalifornia                 471.62  1.028982e+09  3.989670e+08  3.514914e+08   \nCharlotte                  542.84  3.555554e+07  7.563811e+06  1.238027e+07   \nChicago                    526.19  1.337023e+08  1.084408e+07  8.602744e+07   \nCincinnatiDayton           408.71  4.452201e+07  1.829154e+06  2.063791e+07   \nColumbus                   423.44  2.999336e+07  1.258613e+07  5.715680e+06   \nDallasFtWorth              366.93  2.084193e+08  1.105565e+08  4.717049e+07   \nDenver                     411.88  1.389025e+08  2.642885e+07  5.081051e+07   \nDetroit                    431.32  6.342242e+07  1.878315e+07  1.176218e+07   \nGrandRapids                508.69  3.021174e+07  4.932665e+05  1.724153e+07   \nGreatLakes                 452.43  5.896425e+08  9.371701e+07  2.672577e+08   \nHarrisburgScranton         511.49  4.180886e+07  7.515521e+06  2.068974e+07   \nHartfordSpringfield        614.70  5.067054e+07  1.319654e+06  3.784762e+07   \nHouston                    354.20  2.031679e+08  9.977290e+07  4.772443e+07   \nIndianapolis               444.13  3.026339e+07  2.425510e+06  1.446384e+07   \nJacksonville               510.70  2.879000e+07  1.547171e+07  3.526740e+06   \nLasVegas                   466.75  5.437691e+07  1.978713e+07  1.536442e+07   \nLosAngeles                 411.01  5.078965e+08  2.238794e+08  1.021340e+08   \nLouisville                 434.90  1.609700e+07  7.095510e+05  8.412668e+06   \nMiamiFtLauderdale          482.83  9.767322e+07  5.914010e+07  1.491128e+07   \nMidsouth                   474.81  5.083494e+08  1.104306e+08  2.223731e+08   \nNashville                  409.69  3.561209e+07  1.818888e+07  3.810509e+06   \nNewOrleansMobile           441.02  4.569514e+07  2.680474e+07  4.413219e+06   \nNewYork                    583.92  2.407341e+08  7.639327e+06  1.633538e+08   \nNortheast                  541.45  7.132809e+08  3.499121e+07  4.744847e+08   \nNorthernNewEngland         499.36  7.153289e+07  2.703231e+06  5.360925e+07   \nOrlando                    509.10  5.866070e+07  3.339091e+07  8.359597e+06   \nPhiladelphia               551.66  7.183880e+07  4.615201e+06  4.274843e+07   \nPhoenixTucson              413.86  1.956433e+08  1.154277e+08  3.915799e+07   \nPittsburgh                 461.14  1.880635e+07  3.972436e+06  7.301481e+06   \nPlains                     485.54  3.111885e+08  1.435114e+08  8.733534e+07   \nPortland                   445.39  1.105522e+08  2.320793e+07  3.498566e+07   \nRaleighGreensboro          525.63  4.820273e+07  1.182081e+07  1.667812e+07   \nRichmondNorfolk            436.47  4.223085e+07  1.247685e+07  1.607636e+07   \nRoanoke                    421.80  2.504201e+07  7.452946e+06  7.971539e+06   \nSacramento                 548.09  7.516375e+07  2.345140e+07  4.117691e+07   \nSanDiego                   472.58  8.979192e+07  3.408267e+07  2.925846e+07   \nSanFrancisco               609.82  1.358302e+08  3.413689e+07  8.315306e+07   \nSeattle                    487.59  1.092142e+08  2.146665e+07  3.604078e+07   \nSouthCarolina              474.31  6.075377e+07  2.841036e+07  1.263186e+07   \nSouthCentral               372.22  1.011280e+09  5.350414e+08  2.204500e+08   \nSoutheast                  472.53  6.152384e+08  3.396871e+08  9.086044e+07   \nSpokane                    488.61  1.556528e+07  4.104071e+06  4.926610e+06   \nStLouis                    483.55  3.207283e+07  1.351085e+07  3.799460e+06   \nSyracuse                   513.87  1.094267e+07  3.317887e+05  6.390341e+06   \nTampa                      476.19  6.600454e+07  3.574775e+07  1.072111e+07   \nTotalUS                    445.83  5.864740e+09  2.054936e+09  2.015012e+09   \nWest                       430.01  1.086779e+09  3.985905e+08  3.007589e+08   \nWestTexNewMexico           422.67  1.445218e+08  8.407739e+07  2.217846e+07   \n\n                             4770    Total Bags    Small Bags    Large Bags  \\\nregion                                                                        \nAlbany               5.503733e+04  2.680255e+06  2.246945e+06  3.898817e+05   \nAtlanta              1.052484e+05  2.856051e+07  1.744274e+07  1.083968e+07   \nBaltimoreWashington  4.213755e+06  3.530615e+07  3.411761e+07  9.815468e+05   \nBoise                1.077134e+06  5.399412e+06  4.677933e+06  7.110283e+05   \nBoston               1.684016e+06  2.149548e+07  1.991043e+07  1.500167e+06   \nBuffaloRochester     4.878556e+04  1.161075e+07  1.026843e+07  1.260419e+06   \nCalifornia           3.184105e+07  2.466822e+08  2.290977e+08  1.231194e+07   \nCharlotte            3.913522e+06  1.169794e+07  1.064385e+07  9.844872e+05   \nChicago              1.996539e+07  1.686540e+07  1.479465e+07  1.691875e+06   \nCincinnatiDayton     1.156307e+06  2.089792e+07  5.661894e+06  1.497219e+07   \nColumbus             1.675076e+06  1.001639e+07  8.070793e+06  1.724880e+06   \nDallasFtWorth        4.222574e+06  4.646975e+07  4.082174e+07  5.215721e+06   \nDenver               2.706165e+06  5.895701e+07  1.876361e+07  4.014092e+07   \nDetroit              8.614803e+06  2.426007e+07  1.993907e+07  2.671969e+06   \nGrandRapids          3.307837e+06  9.169094e+06  7.533477e+06  7.968005e+05   \nGreatLakes           5.007597e+07  1.785756e+08  1.232875e+08  4.889564e+07   \nHarrisburgScranton   7.434063e+04  1.352925e+07  1.277287e+07  6.017657e+05   \nHartfordSpringfield  1.702536e+05  1.133301e+07  1.077856e+07  4.768482e+05   \nHouston              5.455471e+06  5.021506e+07  3.252517e+07  1.736376e+07   \nIndianapolis         1.391161e+06  1.198081e+07  6.611064e+06  5.086256e+06   \nJacksonville         7.342605e+04  9.718127e+06  4.339787e+06  5.273004e+06   \nLasVegas             1.172357e+06  1.805299e+07  8.977623e+06  9.059315e+06   \nLosAngeles           1.361869e+07  1.682645e+08  1.557261e+08  8.463145e+06   \nLouisville           3.394966e+05  6.635289e+06  2.814241e+06  3.713125e+06   \nMiamiFtLauderdale    1.054005e+05  2.351644e+07  1.121997e+07  1.199081e+07   \nMidsouth             1.903196e+07  1.565136e+08  1.343644e+08  2.077087e+07   \nNashville            6.455284e+05  1.296717e+07  1.004279e+07  2.812894e+06   \nNewOrleansMobile     2.082379e+05  1.426894e+07  1.185955e+07  1.896699e+06   \nNewYork              1.746802e+06  6.799416e+07  5.840168e+07  9.232998e+06   \nNortheast            6.816645e+06  1.969884e+08  1.736230e+08  2.205605e+07   \nNorthernNewEngland   1.315387e+06  1.390503e+07  1.127697e+07  2.517406e+06   \nOrlando              4.856253e+04  1.686164e+07  8.927879e+06  7.690514e+06   \nPhiladelphia         5.999311e+05  2.387523e+07  2.141702e+07  2.352056e+06   \nPhoenixTucson        2.149380e+06  3.890824e+07  2.227263e+07  1.648070e+07   \nPittsburgh           2.869658e+05  7.245462e+06  5.408180e+06  1.779697e+06   \nPlains               2.494474e+06  7.784720e+07  6.876062e+07  7.973644e+06   \nPortland             2.854265e+06  4.950436e+07  4.150862e+07  7.917725e+06   \nRaleighGreensboro    4.027114e+06  1.567668e+07  1.504048e+07  5.411461e+05   \nRichmondNorfolk      1.169414e+06  1.250823e+07  1.165650e+07  7.279409e+05   \nRoanoke              2.653218e+04  9.590988e+06  8.456339e+06  1.055164e+06   \nSacramento           1.553161e+06  8.982268e+06  8.696841e+06  7.671504e+04   \nSanDiego             3.108122e+06  2.334267e+07  2.027579e+07  2.921824e+06   \nSanFrancisco         3.649315e+06  1.489092e+07  1.450235e+07  1.769392e+05   \nSeattle              1.015345e+06  5.069140e+07  4.244714e+07  8.175948e+06   \nSouthCarolina        1.558374e+06  1.815317e+07  1.341335e+07  4.513256e+06   \nSouthCentral         2.239579e+07  2.333924e+08  1.848155e+08  4.593684e+07   \nSoutheast            3.163231e+06  1.815276e+08  1.069033e+08  7.210761e+07   \nSpokane              2.802191e+05  6.254376e+06  5.368312e+06  8.788816e+05   \nStLouis              2.648867e+04  1.473603e+07  1.193186e+07  2.579377e+06   \nSyracuse             2.811058e+04  4.192427e+06  3.645651e+06  5.050151e+05   \nTampa                3.898951e+04  1.949669e+07  1.060807e+07  8.653438e+06   \nTotalUS              1.561752e+08  1.638601e+09  1.243561e+09  3.735843e+08   \nWest                 2.035607e+07  3.670736e+08  2.227093e+08  1.435317e+08   \nWestTexNewMexico     2.969474e+06  3.529652e+07  1.993176e+07  1.505125e+07   \n\n                     XLarge Bags    year  \nregion                                    \nAlbany                  43429.16  681458  \nAtlanta                278101.68  681458  \nBaltimoreWashington    206985.36  681458  \nBoise                   10449.34  681458  \nBoston                  84879.99  681458  \nBuffaloRochester        81901.94  681458  \nCalifornia            5272577.91  681458  \nCharlotte               69603.59  681458  \nChicago                378872.71  681458  \nCincinnatiDayton       263830.73  681458  \nColumbus               220715.52  681458  \nDallasFtWorth          432293.08  681458  \nDenver                  52481.28  681458  \nDetroit               1649024.44  681458  \nGrandRapids            838815.37  681458  \nGreatLakes            6392523.96  681458  \nHarrisburgScranton     154618.16  681458  \nHartfordSpringfield     77601.72  681458  \nHouston                326132.75  681458  \nIndianapolis           283489.96  681458  \nJacksonville           105335.77  681458  \nLasVegas                16054.32  681458  \nLosAngeles            4075279.95  681458  \nLouisville             107922.98  681458  \nMiamiFtLauderdale      305657.99  681458  \nMidsouth              1378317.13  681458  \nNashville              111486.16  681458  \nNewOrleansMobile       512688.70  681458  \nNewYork                359477.68  681458  \nNortheast             1309367.56  681458  \nNorthernNewEngland     110650.28  681458  \nOrlando                243247.03  681458  \nPhiladelphia           106151.72  681458  \nPhoenixTucson          154908.38  681458  \nPittsburgh              57585.02  681458  \nPlains                1112937.29  681458  \nPortland                78012.09  681458  \nRaleighGreensboro       95048.10  681458  \nRichmondNorfolk        123783.85  681458  \nRoanoke                 79483.35  681458  \nSacramento             208711.11  681458  \nSanDiego               145054.97  681458  \nSanFrancisco           211634.59  681458  \nSeattle                 68310.44  681458  \nSouthCarolina          226570.63  681458  \nSouthCentral          2640111.14  681458  \nSoutheast             2516762.93  681458  \nSpokane                  7182.72  681458  \nStLouis                224797.89  681458  \nSyracuse                41761.94  681458  \nTampa                  235178.73  681458  \nTotalUS              21455230.54  681458  \nWest                   832634.65  681458  \nWestTexNewMexico       313511.05  675409  ",
      "text/html": "<div>\n<style scoped>\n    .dataframe tbody tr th:only-of-type {\n        vertical-align: middle;\n    }\n\n    .dataframe tbody tr th {\n        vertical-align: top;\n    }\n\n    .dataframe thead th {\n        text-align: right;\n    }\n</style>\n<table border=\"1\" class=\"dataframe\">\n  <thead>\n    <tr style=\"text-align: right;\">\n      <th></th>\n      <th>AveragePrice</th>\n      <th>Total Volume</th>\n      <th>4046</th>\n      <th>4225</th>\n      <th>4770</th>\n      <th>Total Bags</th>\n      <th>Small Bags</th>\n      <th>Large Bags</th>\n      <th>XLarge Bags</th>\n      <th>year</th>\n    </tr>\n    <tr>\n      <th>region</th>\n      <th></th>\n      <th></th>\n      <th></th>\n      <th></th>\n      <th></th>\n      <th></th>\n      <th></th>\n      <th></th>\n      <th></th>\n      <th></th>\n    </tr>\n  </thead>\n  <tbody>\n    <tr>\n      <th>Albany</th>\n      <td>527.63</td>\n      <td>1.606780e+07</td>\n      <td>6.165396e+05</td>\n      <td>1.271597e+07</td>\n      <td>5.503733e+04</td>\n      <td>2.680255e+06</td>\n      <td>2.246945e+06</td>\n      <td>3.898817e+05</td>\n      <td>43429.16</td>\n      <td>681458</td>\n    </tr>\n    <tr>\n      <th>Atlanta</th>\n      <td>452.23</td>\n      <td>8.860512e+07</td>\n      <td>4.938750e+07</td>\n      <td>1.055186e+07</td>\n      <td>1.052484e+05</td>\n      <td>2.856051e+07</td>\n      <td>1.744274e+07</td>\n      <td>1.083968e+07</td>\n      <td>278101.68</td>\n      <td>681458</td>\n    </tr>\n    <tr>\n      <th>BaltimoreWashington</th>\n      <td>518.57</td>\n      <td>1.347139e+08</td>\n      <td>1.205180e+07</td>\n      <td>8.314222e+07</td>\n      <td>4.213755e+06</td>\n      <td>3.530615e+07</td>\n      <td>3.411761e+07</td>\n      <td>9.815468e+05</td>\n      <td>206985.36</td>\n      <td>681458</td>\n    </tr>\n    <tr>\n      <th>Boise</th>\n      <td>455.67</td>\n      <td>1.441319e+07</td>\n      <td>6.766594e+06</td>\n      <td>1.170049e+06</td>\n      <td>1.077134e+06</td>\n      <td>5.399412e+06</td>\n      <td>4.677933e+06</td>\n      <td>7.110283e+05</td>\n      <td>10449.34</td>\n      <td>681458</td>\n    </tr>\n    <tr>\n      <th>Boston</th>\n      <td>517.44</td>\n      <td>9.727398e+07</td>\n      <td>1.688178e+06</td>\n      <td>7.240631e+07</td>\n      <td>1.684016e+06</td>\n      <td>2.149548e+07</td>\n      <td>1.991043e+07</td>\n      <td>1.500167e+06</td>\n      <td>84879.99</td>\n      <td>681458</td>\n    </tr>\n    <tr>\n      <th>BuffaloRochester</th>\n      <td>512.69</td>\n      <td>2.296247e+07</td>\n      <td>6.005149e+05</td>\n      <td>1.070242e+07</td>\n      <td>4.878556e+04</td>\n      <td>1.161075e+07</td>\n      <td>1.026843e+07</td>\n      <td>1.260419e+06</td>\n      <td>81901.94</td>\n      <td>681458</td>\n    </tr>\n    <tr>\n      <th>California</th>\n      <td>471.62</td>\n      <td>1.028982e+09</td>\n      <td>3.989670e+08</td>\n      <td>3.514914e+08</td>\n      <td>3.184105e+07</td>\n      <td>2.466822e+08</td>\n      <td>2.290977e+08</td>\n      <td>1.231194e+07</td>\n      <td>5272577.91</td>\n      <td>681458</td>\n    </tr>\n    <tr>\n      <th>Charlotte</th>\n      <td>542.84</td>\n      <td>3.555554e+07</td>\n      <td>7.563811e+06</td>\n      <td>1.238027e+07</td>\n      <td>3.913522e+06</td>\n      <td>1.169794e+07</td>\n      <td>1.064385e+07</td>\n      <td>9.844872e+05</td>\n      <td>69603.59</td>\n      <td>681458</td>\n    </tr>\n    <tr>\n      <th>Chicago</th>\n      <td>526.19</td>\n      <td>1.337023e+08</td>\n      <td>1.084408e+07</td>\n      <td>8.602744e+07</td>\n      <td>1.996539e+07</td>\n      <td>1.686540e+07</td>\n      <td>1.479465e+07</td>\n      <td>1.691875e+06</td>\n      <td>378872.71</td>\n      <td>681458</td>\n    </tr>\n    <tr>\n      <th>CincinnatiDayton</th>\n      <td>408.71</td>\n      <td>4.452201e+07</td>\n      <td>1.829154e+06</td>\n      <td>2.063791e+07</td>\n      <td>1.156307e+06</td>\n      <td>2.089792e+07</td>\n      <td>5.661894e+06</td>\n      <td>1.497219e+07</td>\n      <td>263830.73</td>\n      <td>681458</td>\n    </tr>\n    <tr>\n      <th>Columbus</th>\n      <td>423.44</td>\n      <td>2.999336e+07</td>\n      <td>1.258613e+07</td>\n      <td>5.715680e+06</td>\n      <td>1.675076e+06</td>\n      <td>1.001639e+07</td>\n      <td>8.070793e+06</td>\n      <td>1.724880e+06</td>\n      <td>220715.52</td>\n      <td>681458</td>\n    </tr>\n    <tr>\n      <th>DallasFtWorth</th>\n      <td>366.93</td>\n      <td>2.084193e+08</td>\n      <td>1.105565e+08</td>\n      <td>4.717049e+07</td>\n      <td>4.222574e+06</td>\n      <td>4.646975e+07</td>\n      <td>4.082174e+07</td>\n      <td>5.215721e+06</td>\n      <td>432293.08</td>\n      <td>681458</td>\n    </tr>\n    <tr>\n      <th>Denver</th>\n      <td>411.88</td>\n      <td>1.389025e+08</td>\n      <td>2.642885e+07</td>\n      <td>5.081051e+07</td>\n      <td>2.706165e+06</td>\n      <td>5.895701e+07</td>\n      <td>1.876361e+07</td>\n      <td>4.014092e+07</td>\n      <td>52481.28</td>\n      <td>681458</td>\n    </tr>\n    <tr>\n      <th>Detroit</th>\n      <td>431.32</td>\n      <td>6.342242e+07</td>\n      <td>1.878315e+07</td>\n      <td>1.176218e+07</td>\n      <td>8.614803e+06</td>\n      <td>2.426007e+07</td>\n      <td>1.993907e+07</td>\n      <td>2.671969e+06</td>\n      <td>1649024.44</td>\n      <td>681458</td>\n    </tr>\n    <tr>\n      <th>GrandRapids</th>\n      <td>508.69</td>\n      <td>3.021174e+07</td>\n      <td>4.932665e+05</td>\n      <td>1.724153e+07</td>\n      <td>3.307837e+06</td>\n      <td>9.169094e+06</td>\n      <td>7.533477e+06</td>\n      <td>7.968005e+05</td>\n      <td>838815.37</td>\n      <td>681458</td>\n    </tr>\n    <tr>\n      <th>GreatLakes</th>\n      <td>452.43</td>\n      <td>5.896425e+08</td>\n      <td>9.371701e+07</td>\n      <td>2.672577e+08</td>\n      <td>5.007597e+07</td>\n      <td>1.785756e+08</td>\n      <td>1.232875e+08</td>\n      <td>4.889564e+07</td>\n      <td>6392523.96</td>\n      <td>681458</td>\n    </tr>\n    <tr>\n      <th>HarrisburgScranton</th>\n      <td>511.49</td>\n      <td>4.180886e+07</td>\n      <td>7.515521e+06</td>\n      <td>2.068974e+07</td>\n      <td>7.434063e+04</td>\n      <td>1.352925e+07</td>\n      <td>1.277287e+07</td>\n      <td>6.017657e+05</td>\n      <td>154618.16</td>\n      <td>681458</td>\n    </tr>\n    <tr>\n      <th>HartfordSpringfield</th>\n      <td>614.70</td>\n      <td>5.067054e+07</td>\n      <td>1.319654e+06</td>\n      <td>3.784762e+07</td>\n      <td>1.702536e+05</td>\n      <td>1.133301e+07</td>\n      <td>1.077856e+07</td>\n      <td>4.768482e+05</td>\n      <td>77601.72</td>\n      <td>681458</td>\n    </tr>\n    <tr>\n      <th>Houston</th>\n      <td>354.20</td>\n      <td>2.031679e+08</td>\n      <td>9.977290e+07</td>\n      <td>4.772443e+07</td>\n      <td>5.455471e+06</td>\n      <td>5.021506e+07</td>\n      <td>3.252517e+07</td>\n      <td>1.736376e+07</td>\n      <td>326132.75</td>\n      <td>681458</td>\n    </tr>\n    <tr>\n      <th>Indianapolis</th>\n      <td>444.13</td>\n      <td>3.026339e+07</td>\n      <td>2.425510e+06</td>\n      <td>1.446384e+07</td>\n      <td>1.391161e+06</td>\n      <td>1.198081e+07</td>\n      <td>6.611064e+06</td>\n      <td>5.086256e+06</td>\n      <td>283489.96</td>\n      <td>681458</td>\n    </tr>\n    <tr>\n      <th>Jacksonville</th>\n      <td>510.70</td>\n      <td>2.879000e+07</td>\n      <td>1.547171e+07</td>\n      <td>3.526740e+06</td>\n      <td>7.342605e+04</td>\n      <td>9.718127e+06</td>\n      <td>4.339787e+06</td>\n      <td>5.273004e+06</td>\n      <td>105335.77</td>\n      <td>681458</td>\n    </tr>\n    <tr>\n      <th>LasVegas</th>\n      <td>466.75</td>\n      <td>5.437691e+07</td>\n      <td>1.978713e+07</td>\n      <td>1.536442e+07</td>\n      <td>1.172357e+06</td>\n      <td>1.805299e+07</td>\n      <td>8.977623e+06</td>\n      <td>9.059315e+06</td>\n      <td>16054.32</td>\n      <td>681458</td>\n    </tr>\n    <tr>\n      <th>LosAngeles</th>\n      <td>411.01</td>\n      <td>5.078965e+08</td>\n      <td>2.238794e+08</td>\n      <td>1.021340e+08</td>\n      <td>1.361869e+07</td>\n      <td>1.682645e+08</td>\n      <td>1.557261e+08</td>\n      <td>8.463145e+06</td>\n      <td>4075279.95</td>\n      <td>681458</td>\n    </tr>\n    <tr>\n      <th>Louisville</th>\n      <td>434.90</td>\n      <td>1.609700e+07</td>\n      <td>7.095510e+05</td>\n      <td>8.412668e+06</td>\n      <td>3.394966e+05</td>\n      <td>6.635289e+06</td>\n      <td>2.814241e+06</td>\n      <td>3.713125e+06</td>\n      <td>107922.98</td>\n      <td>681458</td>\n    </tr>\n    <tr>\n      <th>MiamiFtLauderdale</th>\n      <td>482.83</td>\n      <td>9.767322e+07</td>\n      <td>5.914010e+07</td>\n      <td>1.491128e+07</td>\n      <td>1.054005e+05</td>\n      <td>2.351644e+07</td>\n      <td>1.121997e+07</td>\n      <td>1.199081e+07</td>\n      <td>305657.99</td>\n      <td>681458</td>\n    </tr>\n    <tr>\n      <th>Midsouth</th>\n      <td>474.81</td>\n      <td>5.083494e+08</td>\n      <td>1.104306e+08</td>\n      <td>2.223731e+08</td>\n      <td>1.903196e+07</td>\n      <td>1.565136e+08</td>\n      <td>1.343644e+08</td>\n      <td>2.077087e+07</td>\n      <td>1378317.13</td>\n      <td>681458</td>\n    </tr>\n    <tr>\n      <th>Nashville</th>\n      <td>409.69</td>\n      <td>3.561209e+07</td>\n      <td>1.818888e+07</td>\n      <td>3.810509e+06</td>\n      <td>6.455284e+05</td>\n      <td>1.296717e+07</td>\n      <td>1.004279e+07</td>\n      <td>2.812894e+06</td>\n      <td>111486.16</td>\n      <td>681458</td>\n    </tr>\n    <tr>\n      <th>NewOrleansMobile</th>\n      <td>441.02</td>\n      <td>4.569514e+07</td>\n      <td>2.680474e+07</td>\n      <td>4.413219e+06</td>\n      <td>2.082379e+05</td>\n      <td>1.426894e+07</td>\n      <td>1.185955e+07</td>\n      <td>1.896699e+06</td>\n      <td>512688.70</td>\n      <td>681458</td>\n    </tr>\n    <tr>\n      <th>NewYork</th>\n      <td>583.92</td>\n      <td>2.407341e+08</td>\n      <td>7.639327e+06</td>\n      <td>1.633538e+08</td>\n      <td>1.746802e+06</td>\n      <td>6.799416e+07</td>\n      <td>5.840168e+07</td>\n      <td>9.232998e+06</td>\n      <td>359477.68</td>\n      <td>681458</td>\n    </tr>\n    <tr>\n      <th>Northeast</th>\n      <td>541.45</td>\n      <td>7.132809e+08</td>\n      <td>3.499121e+07</td>\n      <td>4.744847e+08</td>\n      <td>6.816645e+06</td>\n      <td>1.969884e+08</td>\n      <td>1.736230e+08</td>\n      <td>2.205605e+07</td>\n      <td>1309367.56</td>\n      <td>681458</td>\n    </tr>\n    <tr>\n      <th>NorthernNewEngland</th>\n      <td>499.36</td>\n      <td>7.153289e+07</td>\n      <td>2.703231e+06</td>\n      <td>5.360925e+07</td>\n      <td>1.315387e+06</td>\n      <td>1.390503e+07</td>\n      <td>1.127697e+07</td>\n      <td>2.517406e+06</td>\n      <td>110650.28</td>\n      <td>681458</td>\n    </tr>\n    <tr>\n      <th>Orlando</th>\n      <td>509.10</td>\n      <td>5.866070e+07</td>\n      <td>3.339091e+07</td>\n      <td>8.359597e+06</td>\n      <td>4.856253e+04</td>\n      <td>1.686164e+07</td>\n      <td>8.927879e+06</td>\n      <td>7.690514e+06</td>\n      <td>243247.03</td>\n      <td>681458</td>\n    </tr>\n    <tr>\n      <th>Philadelphia</th>\n      <td>551.66</td>\n      <td>7.183880e+07</td>\n      <td>4.615201e+06</td>\n      <td>4.274843e+07</td>\n      <td>5.999311e+05</td>\n      <td>2.387523e+07</td>\n      <td>2.141702e+07</td>\n      <td>2.352056e+06</td>\n      <td>106151.72</td>\n      <td>681458</td>\n    </tr>\n    <tr>\n      <th>PhoenixTucson</th>\n      <td>413.86</td>\n      <td>1.956433e+08</td>\n      <td>1.154277e+08</td>\n      <td>3.915799e+07</td>\n      <td>2.149380e+06</td>\n      <td>3.890824e+07</td>\n      <td>2.227263e+07</td>\n      <td>1.648070e+07</td>\n      <td>154908.38</td>\n      <td>681458</td>\n    </tr>\n    <tr>\n      <th>Pittsburgh</th>\n      <td>461.14</td>\n      <td>1.880635e+07</td>\n      <td>3.972436e+06</td>\n      <td>7.301481e+06</td>\n      <td>2.869658e+05</td>\n      <td>7.245462e+06</td>\n      <td>5.408180e+06</td>\n      <td>1.779697e+06</td>\n      <td>57585.02</td>\n      <td>681458</td>\n    </tr>\n    <tr>\n      <th>Plains</th>\n      <td>485.54</td>\n      <td>3.111885e+08</td>\n      <td>1.435114e+08</td>\n      <td>8.733534e+07</td>\n      <td>2.494474e+06</td>\n      <td>7.784720e+07</td>\n      <td>6.876062e+07</td>\n      <td>7.973644e+06</td>\n      <td>1112937.29</td>\n      <td>681458</td>\n    </tr>\n    <tr>\n      <th>Portland</th>\n      <td>445.39</td>\n      <td>1.105522e+08</td>\n      <td>2.320793e+07</td>\n      <td>3.498566e+07</td>\n      <td>2.854265e+06</td>\n      <td>4.950436e+07</td>\n      <td>4.150862e+07</td>\n      <td>7.917725e+06</td>\n      <td>78012.09</td>\n      <td>681458</td>\n    </tr>\n    <tr>\n      <th>RaleighGreensboro</th>\n      <td>525.63</td>\n      <td>4.820273e+07</td>\n      <td>1.182081e+07</td>\n      <td>1.667812e+07</td>\n      <td>4.027114e+06</td>\n      <td>1.567668e+07</td>\n      <td>1.504048e+07</td>\n      <td>5.411461e+05</td>\n      <td>95048.10</td>\n      <td>681458</td>\n    </tr>\n    <tr>\n      <th>RichmondNorfolk</th>\n      <td>436.47</td>\n      <td>4.223085e+07</td>\n      <td>1.247685e+07</td>\n      <td>1.607636e+07</td>\n      <td>1.169414e+06</td>\n      <td>1.250823e+07</td>\n      <td>1.165650e+07</td>\n      <td>7.279409e+05</td>\n      <td>123783.85</td>\n      <td>681458</td>\n    </tr>\n    <tr>\n      <th>Roanoke</th>\n      <td>421.80</td>\n      <td>2.504201e+07</td>\n      <td>7.452946e+06</td>\n      <td>7.971539e+06</td>\n      <td>2.653218e+04</td>\n      <td>9.590988e+06</td>\n      <td>8.456339e+06</td>\n      <td>1.055164e+06</td>\n      <td>79483.35</td>\n      <td>681458</td>\n    </tr>\n    <tr>\n      <th>Sacramento</th>\n      <td>548.09</td>\n      <td>7.516375e+07</td>\n      <td>2.345140e+07</td>\n      <td>4.117691e+07</td>\n      <td>1.553161e+06</td>\n      <td>8.982268e+06</td>\n      <td>8.696841e+06</td>\n      <td>7.671504e+04</td>\n      <td>208711.11</td>\n      <td>681458</td>\n    </tr>\n    <tr>\n      <th>SanDiego</th>\n      <td>472.58</td>\n      <td>8.979192e+07</td>\n      <td>3.408267e+07</td>\n      <td>2.925846e+07</td>\n      <td>3.108122e+06</td>\n      <td>2.334267e+07</td>\n      <td>2.027579e+07</td>\n      <td>2.921824e+06</td>\n      <td>145054.97</td>\n      <td>681458</td>\n    </tr>\n    <tr>\n      <th>SanFrancisco</th>\n      <td>609.82</td>\n      <td>1.358302e+08</td>\n      <td>3.413689e+07</td>\n      <td>8.315306e+07</td>\n      <td>3.649315e+06</td>\n      <td>1.489092e+07</td>\n      <td>1.450235e+07</td>\n      <td>1.769392e+05</td>\n      <td>211634.59</td>\n      <td>681458</td>\n    </tr>\n    <tr>\n      <th>Seattle</th>\n      <td>487.59</td>\n      <td>1.092142e+08</td>\n      <td>2.146665e+07</td>\n      <td>3.604078e+07</td>\n      <td>1.015345e+06</td>\n      <td>5.069140e+07</td>\n      <td>4.244714e+07</td>\n      <td>8.175948e+06</td>\n      <td>68310.44</td>\n      <td>681458</td>\n    </tr>\n    <tr>\n      <th>SouthCarolina</th>\n      <td>474.31</td>\n      <td>6.075377e+07</td>\n      <td>2.841036e+07</td>\n      <td>1.263186e+07</td>\n      <td>1.558374e+06</td>\n      <td>1.815317e+07</td>\n      <td>1.341335e+07</td>\n      <td>4.513256e+06</td>\n      <td>226570.63</td>\n      <td>681458</td>\n    </tr>\n    <tr>\n      <th>SouthCentral</th>\n      <td>372.22</td>\n      <td>1.011280e+09</td>\n      <td>5.350414e+08</td>\n      <td>2.204500e+08</td>\n      <td>2.239579e+07</td>\n      <td>2.333924e+08</td>\n      <td>1.848155e+08</td>\n      <td>4.593684e+07</td>\n      <td>2640111.14</td>\n      <td>681458</td>\n    </tr>\n    <tr>\n      <th>Southeast</th>\n      <td>472.53</td>\n      <td>6.152384e+08</td>\n      <td>3.396871e+08</td>\n      <td>9.086044e+07</td>\n      <td>3.163231e+06</td>\n      <td>1.815276e+08</td>\n      <td>1.069033e+08</td>\n      <td>7.210761e+07</td>\n      <td>2516762.93</td>\n      <td>681458</td>\n    </tr>\n    <tr>\n      <th>Spokane</th>\n      <td>488.61</td>\n      <td>1.556528e+07</td>\n      <td>4.104071e+06</td>\n      <td>4.926610e+06</td>\n      <td>2.802191e+05</td>\n      <td>6.254376e+06</td>\n      <td>5.368312e+06</td>\n      <td>8.788816e+05</td>\n      <td>7182.72</td>\n      <td>681458</td>\n    </tr>\n    <tr>\n      <th>StLouis</th>\n      <td>483.55</td>\n      <td>3.207283e+07</td>\n      <td>1.351085e+07</td>\n      <td>3.799460e+06</td>\n      <td>2.648867e+04</td>\n      <td>1.473603e+07</td>\n      <td>1.193186e+07</td>\n      <td>2.579377e+06</td>\n      <td>224797.89</td>\n      <td>681458</td>\n    </tr>\n    <tr>\n      <th>Syracuse</th>\n      <td>513.87</td>\n      <td>1.094267e+07</td>\n      <td>3.317887e+05</td>\n      <td>6.390341e+06</td>\n      <td>2.811058e+04</td>\n      <td>4.192427e+06</td>\n      <td>3.645651e+06</td>\n      <td>5.050151e+05</td>\n      <td>41761.94</td>\n      <td>681458</td>\n    </tr>\n    <tr>\n      <th>Tampa</th>\n      <td>476.19</td>\n      <td>6.600454e+07</td>\n      <td>3.574775e+07</td>\n      <td>1.072111e+07</td>\n      <td>3.898951e+04</td>\n      <td>1.949669e+07</td>\n      <td>1.060807e+07</td>\n      <td>8.653438e+06</td>\n      <td>235178.73</td>\n      <td>681458</td>\n    </tr>\n    <tr>\n      <th>TotalUS</th>\n      <td>445.83</td>\n      <td>5.864740e+09</td>\n      <td>2.054936e+09</td>\n      <td>2.015012e+09</td>\n      <td>1.561752e+08</td>\n      <td>1.638601e+09</td>\n      <td>1.243561e+09</td>\n      <td>3.735843e+08</td>\n      <td>21455230.54</td>\n      <td>681458</td>\n    </tr>\n    <tr>\n      <th>West</th>\n      <td>430.01</td>\n      <td>1.086779e+09</td>\n      <td>3.985905e+08</td>\n      <td>3.007589e+08</td>\n      <td>2.035607e+07</td>\n      <td>3.670736e+08</td>\n      <td>2.227093e+08</td>\n      <td>1.435317e+08</td>\n      <td>832634.65</td>\n      <td>681458</td>\n    </tr>\n    <tr>\n      <th>WestTexNewMexico</th>\n      <td>422.67</td>\n      <td>1.445218e+08</td>\n      <td>8.407739e+07</td>\n      <td>2.217846e+07</td>\n      <td>2.969474e+06</td>\n      <td>3.529652e+07</td>\n      <td>1.993176e+07</td>\n      <td>1.505125e+07</td>\n      <td>313511.05</td>\n      <td>675409</td>\n    </tr>\n  </tbody>\n</table>\n</div>"
     },
     "metadata": {},
     "execution_count": 271
    }
   ],
   "source": [
    "group_bags = avocado.groupby('region').sum()\n",
    "group_bags"
   ]
  },
  {
   "cell_type": "code",
   "execution_count": null,
   "metadata": {},
   "outputs": [],
   "source": []
  },
  {
   "cell_type": "markdown",
   "metadata": {},
   "source": [
    "A partir del dataframe `group_bags` muestra en qué año y en qué región se vendió el máximo número de bolsas pequeñas de aguacates. "
   ]
  },
  {
   "cell_type": "code",
   "execution_count": 49,
   "metadata": {},
   "outputs": [],
   "source": [
    "# your code here"
   ]
  },
  {
   "cell_type": "markdown",
   "metadata": {},
   "source": [
    "Asigna a la variable `avocado_months` el dataframe `avocado` agrupado por **meses** y por la media de los valores de cada columna. Hay dos maneras diferentes de resolver este ejercicio, sin embargo, con uno sería suficiente. \n",
    "\n",
    "Muestra solo los primeros 15 valores. "
   ]
  },
  {
   "cell_type": "code",
   "execution_count": 50,
   "metadata": {},
   "outputs": [],
   "source": [
    "#your code here"
   ]
  },
  {
   "cell_type": "code",
   "execution_count": 137,
   "metadata": {},
   "outputs": [
    {
     "output_type": "execute_result",
     "data": {
      "text/plain": "            AveragePrice  Total Volume           4046           4225  \\\nDate                                                                   \n2015-01-31      1.365046  7.363084e+05  296829.313565  301506.093912   \n2015-02-28      1.326944  8.394389e+05  354552.080000  334110.463727   \n2015-03-31      1.361981  7.751538e+05  324630.507778  299831.998981   \n2015-04-30      1.383449  7.966305e+05  348567.729491  291150.142593   \n2015-05-31      1.344685  8.958964e+05  394883.681407  330662.679722   \n2015-06-30      1.399074  8.838582e+05  374715.185903  317095.642338   \n2015-07-31      1.409444  8.256988e+05  326456.573750  321060.962685   \n2015-08-31      1.444481  7.763793e+05  300310.837796  321335.405667   \n2015-09-30      1.449144  7.620806e+05  247781.252500  356497.374190   \n2015-10-31      1.391968  7.078151e+05  214976.447894  331744.578704   \n2015-11-30      1.330611  6.841482e+05  230572.546722  292348.258463   \n2015-12-31      1.305244  6.868351e+05  230718.662738  268747.887401   \n2016-01-31      1.240185  8.803810e+05  248846.960093  354846.291574   \n2016-02-29      1.237106  9.922357e+05  303715.019931  372600.768704   \n2016-03-31      1.224213  9.055843e+05  276501.768171  330062.790810   \n2016-04-30      1.205023  9.301684e+05  296899.473704  321948.473310   \n2016-05-31      1.199722  1.039316e+06  318331.990741  384593.533130   \n2016-06-30      1.283056  9.498337e+05  314644.787060  317176.099954   \n2016-07-31      1.401333  8.653247e+05  267739.405574  286979.808889   \n2016-08-31      1.411111  8.583263e+05  303581.231736  267083.676644   \n2016-09-30      1.427870  8.386650e+05  301102.070440  256058.938519   \n2016-10-31      1.557093  6.670404e+05  206836.425519  217634.090463   \n2016-11-30      1.550023  6.023364e+05  197766.242037  194254.194884   \n2016-12-31      1.315995  7.672402e+05  233972.995023  257804.124329   \n2017-01-31      1.277500  9.876538e+05  317062.237130  336661.843815   \n2017-02-28      1.214792  1.091359e+06  376396.705926  346751.412106   \n2017-03-31      1.398935  8.307949e+05  274356.680880  255179.014560   \n2017-04-30      1.502611  9.070639e+05  301842.317296  267971.832778   \n2017-05-31      1.532593  9.854874e+05  333294.596181  284306.892130   \n2017-06-30      1.545395  9.544434e+05  321590.905721  272106.575233   \n2017-07-31      1.564926  8.794513e+05  289383.571130  281372.887426   \n2017-08-31      1.698958  7.831782e+05  265528.838727  248924.000556   \n2017-09-30      1.840949  6.592119e+05  226802.182315  214579.848218   \n2017-10-31      1.752444  6.718110e+05  225684.313037  220760.585130   \n2017-11-30      1.517292  7.512021e+05  261345.969491  222808.244537   \n2017-12-31      1.363852  8.506164e+05  279095.808630  279135.714093   \n2018-01-31      1.387431  9.946923e+05  332695.723565  311502.106019   \n2018-02-28      1.318704  1.152264e+06  392027.877685  340770.855185   \n2018-03-31      1.336458  1.053827e+06  341248.005463  291612.858889   \n\n                    4770     Total Bags     Small Bags     Large Bags  \\\nDate                                                                    \n2015-01-31  20635.684028  117337.264028   96502.584213   20513.634144   \n2015-02-28  24220.692431  126555.650949  106004.821690   20017.510602   \n2015-03-31  23068.926037  127622.400111  109589.476796   17325.542056   \n2015-04-30  22056.120440  134856.551806  114351.516134   19976.716250   \n2015-05-31  23923.426833  146426.591278  123510.636407   22365.188204   \n2015-06-30  28241.728264  163805.646528  140095.819745   22889.726667   \n2015-07-31  27713.835718  150467.386250  126518.964097   23135.342292   \n2015-08-31  25399.461870  129333.573963  109437.493519   18895.924852   \n2015-09-30  27756.865671  130045.139699  100038.074236   28664.317685   \n2015-10-31  32360.636991  128733.408218   99441.142894   28159.288125   \n2015-11-30  24339.130463  136888.279889  106598.555463   29190.574759   \n2015-12-31  26654.108329  160714.450325  125089.361833   32706.897680   \n2016-01-31  36216.326611  240471.469093  176353.023167   61009.767944   \n2016-02-29  44169.501713  271750.362384  199309.627477   69751.625301   \n2016-03-31  42992.560046  256027.159398  193483.747222   60488.572407   \n2016-04-30  41840.764861  269479.695046  200286.460347   67071.042153   \n2016-05-31  41345.668741  295044.604741  212324.574259   79056.908852   \n2016-06-30  41136.829861  276875.973125  217061.773194   51898.984769   \n2016-07-31  28295.490093  282310.006981  228329.317463   44426.742574   \n2016-08-31  16852.502153  270808.901921  222621.094074   44393.690278   \n2016-09-30  12921.692963  268582.287616  207073.645741   59521.259745   \n2016-10-31  11974.115111  230595.747204  166865.319759   61820.873019   \n2016-11-30  11179.161412  199136.829213  148774.357037   49242.166204   \n2016-12-31  11709.720116  263753.326921  192878.259977   68967.437315   \n2017-01-31  17590.070759  316339.613870  240422.766833   73925.408593   \n2017-02-28  26609.973727  341601.167130  259093.394606   78929.197361   \n2017-03-31  17432.079884  283827.089838  218559.662963   61373.766181   \n2017-04-30  16233.882222  321015.911296  241419.994870   75210.961889   \n2017-05-31  17736.388218  350149.488310  257193.979144   87228.456250   \n2017-06-30  17421.513884  343324.379465  251207.162977   85014.397419   \n2017-07-31  18194.446722  290480.523056  211679.004259   70991.937019   \n2017-08-31  15147.614560  253573.479028  180905.033843   66123.047037   \n2017-09-30  11596.970532  206227.066991  155109.808241   47795.713264   \n2017-10-31  10241.867074  215118.239241  161607.904037   52014.657056   \n2017-11-30  10289.274931  256748.859653  182617.605046   71869.258588   \n2017-12-31  13738.515463  278638.925426  206778.307352   69021.575685   \n2018-01-31  17719.315556  332771.772245  240705.805625   88317.636389   \n2018-02-28  18579.356713  400877.131829  287812.299074  106879.125903   \n2018-03-31  16786.037894  404165.789213  306531.357685   90877.283727   \n\n            XLarge Bags  year  \nDate                           \n2015-01-31   321.045671  2015  \n2015-02-28   533.318657  2015  \n2015-03-31   707.381259  2015  \n2015-04-30   528.319421  2015  \n2015-05-31   550.766667  2015  \n2015-06-30   820.100116  2015  \n2015-07-31   813.075231  2015  \n2015-08-31  1000.153741  2015  \n2015-09-30  1342.747778  2015  \n2015-10-31  1132.977199  2015  \n2015-11-30  1099.149667  2015  \n2015-12-31  2918.190812  2015  \n2016-01-31  3108.677981  2016  \n2016-02-29  2689.109606  2016  \n2016-03-31  2054.839769  2016  \n2016-04-30  2122.192546  2016  \n2016-05-31  3663.121630  2016  \n2016-06-30  7915.215162  2016  \n2016-07-31  9553.946944  2016  \n2016-08-31  3794.117569  2016  \n2016-09-30  1987.382130  2016  \n2016-10-31  1909.554426  2016  \n2016-11-30  1120.305972  2016  \n2016-12-31  1907.629630  2016  \n2017-01-31  1991.438444  2017  \n2017-02-28  3578.575162  2017  \n2017-03-31  3893.660694  2017  \n2017-04-30  4384.954537  2017  \n2017-05-31  5727.052917  2017  \n2017-06-30  7102.819070  2017  \n2017-07-31  7809.581778  2017  \n2017-08-31  6545.398148  2017  \n2017-09-30  3321.545486  2017  \n2017-10-31  1495.678148  2017  \n2017-11-30  2261.975185  2017  \n2017-12-31  2839.040537  2017  \n2018-01-31  3748.330231  2018  \n2018-02-28  6185.706852  2018  \n2018-03-31  6757.147801  2018  ",
      "text/html": "<div>\n<style scoped>\n    .dataframe tbody tr th:only-of-type {\n        vertical-align: middle;\n    }\n\n    .dataframe tbody tr th {\n        vertical-align: top;\n    }\n\n    .dataframe thead th {\n        text-align: right;\n    }\n</style>\n<table border=\"1\" class=\"dataframe\">\n  <thead>\n    <tr style=\"text-align: right;\">\n      <th></th>\n      <th>AveragePrice</th>\n      <th>Total Volume</th>\n      <th>4046</th>\n      <th>4225</th>\n      <th>4770</th>\n      <th>Total Bags</th>\n      <th>Small Bags</th>\n      <th>Large Bags</th>\n      <th>XLarge Bags</th>\n      <th>year</th>\n    </tr>\n    <tr>\n      <th>Date</th>\n      <th></th>\n      <th></th>\n      <th></th>\n      <th></th>\n      <th></th>\n      <th></th>\n      <th></th>\n      <th></th>\n      <th></th>\n      <th></th>\n    </tr>\n  </thead>\n  <tbody>\n    <tr>\n      <th>2015-01-31</th>\n      <td>1.365046</td>\n      <td>7.363084e+05</td>\n      <td>296829.313565</td>\n      <td>301506.093912</td>\n      <td>20635.684028</td>\n      <td>117337.264028</td>\n      <td>96502.584213</td>\n      <td>20513.634144</td>\n      <td>321.045671</td>\n      <td>2015</td>\n    </tr>\n    <tr>\n      <th>2015-02-28</th>\n      <td>1.326944</td>\n      <td>8.394389e+05</td>\n      <td>354552.080000</td>\n      <td>334110.463727</td>\n      <td>24220.692431</td>\n      <td>126555.650949</td>\n      <td>106004.821690</td>\n      <td>20017.510602</td>\n      <td>533.318657</td>\n      <td>2015</td>\n    </tr>\n    <tr>\n      <th>2015-03-31</th>\n      <td>1.361981</td>\n      <td>7.751538e+05</td>\n      <td>324630.507778</td>\n      <td>299831.998981</td>\n      <td>23068.926037</td>\n      <td>127622.400111</td>\n      <td>109589.476796</td>\n      <td>17325.542056</td>\n      <td>707.381259</td>\n      <td>2015</td>\n    </tr>\n    <tr>\n      <th>2015-04-30</th>\n      <td>1.383449</td>\n      <td>7.966305e+05</td>\n      <td>348567.729491</td>\n      <td>291150.142593</td>\n      <td>22056.120440</td>\n      <td>134856.551806</td>\n      <td>114351.516134</td>\n      <td>19976.716250</td>\n      <td>528.319421</td>\n      <td>2015</td>\n    </tr>\n    <tr>\n      <th>2015-05-31</th>\n      <td>1.344685</td>\n      <td>8.958964e+05</td>\n      <td>394883.681407</td>\n      <td>330662.679722</td>\n      <td>23923.426833</td>\n      <td>146426.591278</td>\n      <td>123510.636407</td>\n      <td>22365.188204</td>\n      <td>550.766667</td>\n      <td>2015</td>\n    </tr>\n    <tr>\n      <th>2015-06-30</th>\n      <td>1.399074</td>\n      <td>8.838582e+05</td>\n      <td>374715.185903</td>\n      <td>317095.642338</td>\n      <td>28241.728264</td>\n      <td>163805.646528</td>\n      <td>140095.819745</td>\n      <td>22889.726667</td>\n      <td>820.100116</td>\n      <td>2015</td>\n    </tr>\n    <tr>\n      <th>2015-07-31</th>\n      <td>1.409444</td>\n      <td>8.256988e+05</td>\n      <td>326456.573750</td>\n      <td>321060.962685</td>\n      <td>27713.835718</td>\n      <td>150467.386250</td>\n      <td>126518.964097</td>\n      <td>23135.342292</td>\n      <td>813.075231</td>\n      <td>2015</td>\n    </tr>\n    <tr>\n      <th>2015-08-31</th>\n      <td>1.444481</td>\n      <td>7.763793e+05</td>\n      <td>300310.837796</td>\n      <td>321335.405667</td>\n      <td>25399.461870</td>\n      <td>129333.573963</td>\n      <td>109437.493519</td>\n      <td>18895.924852</td>\n      <td>1000.153741</td>\n      <td>2015</td>\n    </tr>\n    <tr>\n      <th>2015-09-30</th>\n      <td>1.449144</td>\n      <td>7.620806e+05</td>\n      <td>247781.252500</td>\n      <td>356497.374190</td>\n      <td>27756.865671</td>\n      <td>130045.139699</td>\n      <td>100038.074236</td>\n      <td>28664.317685</td>\n      <td>1342.747778</td>\n      <td>2015</td>\n    </tr>\n    <tr>\n      <th>2015-10-31</th>\n      <td>1.391968</td>\n      <td>7.078151e+05</td>\n      <td>214976.447894</td>\n      <td>331744.578704</td>\n      <td>32360.636991</td>\n      <td>128733.408218</td>\n      <td>99441.142894</td>\n      <td>28159.288125</td>\n      <td>1132.977199</td>\n      <td>2015</td>\n    </tr>\n    <tr>\n      <th>2015-11-30</th>\n      <td>1.330611</td>\n      <td>6.841482e+05</td>\n      <td>230572.546722</td>\n      <td>292348.258463</td>\n      <td>24339.130463</td>\n      <td>136888.279889</td>\n      <td>106598.555463</td>\n      <td>29190.574759</td>\n      <td>1099.149667</td>\n      <td>2015</td>\n    </tr>\n    <tr>\n      <th>2015-12-31</th>\n      <td>1.305244</td>\n      <td>6.868351e+05</td>\n      <td>230718.662738</td>\n      <td>268747.887401</td>\n      <td>26654.108329</td>\n      <td>160714.450325</td>\n      <td>125089.361833</td>\n      <td>32706.897680</td>\n      <td>2918.190812</td>\n      <td>2015</td>\n    </tr>\n    <tr>\n      <th>2016-01-31</th>\n      <td>1.240185</td>\n      <td>8.803810e+05</td>\n      <td>248846.960093</td>\n      <td>354846.291574</td>\n      <td>36216.326611</td>\n      <td>240471.469093</td>\n      <td>176353.023167</td>\n      <td>61009.767944</td>\n      <td>3108.677981</td>\n      <td>2016</td>\n    </tr>\n    <tr>\n      <th>2016-02-29</th>\n      <td>1.237106</td>\n      <td>9.922357e+05</td>\n      <td>303715.019931</td>\n      <td>372600.768704</td>\n      <td>44169.501713</td>\n      <td>271750.362384</td>\n      <td>199309.627477</td>\n      <td>69751.625301</td>\n      <td>2689.109606</td>\n      <td>2016</td>\n    </tr>\n    <tr>\n      <th>2016-03-31</th>\n      <td>1.224213</td>\n      <td>9.055843e+05</td>\n      <td>276501.768171</td>\n      <td>330062.790810</td>\n      <td>42992.560046</td>\n      <td>256027.159398</td>\n      <td>193483.747222</td>\n      <td>60488.572407</td>\n      <td>2054.839769</td>\n      <td>2016</td>\n    </tr>\n    <tr>\n      <th>2016-04-30</th>\n      <td>1.205023</td>\n      <td>9.301684e+05</td>\n      <td>296899.473704</td>\n      <td>321948.473310</td>\n      <td>41840.764861</td>\n      <td>269479.695046</td>\n      <td>200286.460347</td>\n      <td>67071.042153</td>\n      <td>2122.192546</td>\n      <td>2016</td>\n    </tr>\n    <tr>\n      <th>2016-05-31</th>\n      <td>1.199722</td>\n      <td>1.039316e+06</td>\n      <td>318331.990741</td>\n      <td>384593.533130</td>\n      <td>41345.668741</td>\n      <td>295044.604741</td>\n      <td>212324.574259</td>\n      <td>79056.908852</td>\n      <td>3663.121630</td>\n      <td>2016</td>\n    </tr>\n    <tr>\n      <th>2016-06-30</th>\n      <td>1.283056</td>\n      <td>9.498337e+05</td>\n      <td>314644.787060</td>\n      <td>317176.099954</td>\n      <td>41136.829861</td>\n      <td>276875.973125</td>\n      <td>217061.773194</td>\n      <td>51898.984769</td>\n      <td>7915.215162</td>\n      <td>2016</td>\n    </tr>\n    <tr>\n      <th>2016-07-31</th>\n      <td>1.401333</td>\n      <td>8.653247e+05</td>\n      <td>267739.405574</td>\n      <td>286979.808889</td>\n      <td>28295.490093</td>\n      <td>282310.006981</td>\n      <td>228329.317463</td>\n      <td>44426.742574</td>\n      <td>9553.946944</td>\n      <td>2016</td>\n    </tr>\n    <tr>\n      <th>2016-08-31</th>\n      <td>1.411111</td>\n      <td>8.583263e+05</td>\n      <td>303581.231736</td>\n      <td>267083.676644</td>\n      <td>16852.502153</td>\n      <td>270808.901921</td>\n      <td>222621.094074</td>\n      <td>44393.690278</td>\n      <td>3794.117569</td>\n      <td>2016</td>\n    </tr>\n    <tr>\n      <th>2016-09-30</th>\n      <td>1.427870</td>\n      <td>8.386650e+05</td>\n      <td>301102.070440</td>\n      <td>256058.938519</td>\n      <td>12921.692963</td>\n      <td>268582.287616</td>\n      <td>207073.645741</td>\n      <td>59521.259745</td>\n      <td>1987.382130</td>\n      <td>2016</td>\n    </tr>\n    <tr>\n      <th>2016-10-31</th>\n      <td>1.557093</td>\n      <td>6.670404e+05</td>\n      <td>206836.425519</td>\n      <td>217634.090463</td>\n      <td>11974.115111</td>\n      <td>230595.747204</td>\n      <td>166865.319759</td>\n      <td>61820.873019</td>\n      <td>1909.554426</td>\n      <td>2016</td>\n    </tr>\n    <tr>\n      <th>2016-11-30</th>\n      <td>1.550023</td>\n      <td>6.023364e+05</td>\n      <td>197766.242037</td>\n      <td>194254.194884</td>\n      <td>11179.161412</td>\n      <td>199136.829213</td>\n      <td>148774.357037</td>\n      <td>49242.166204</td>\n      <td>1120.305972</td>\n      <td>2016</td>\n    </tr>\n    <tr>\n      <th>2016-12-31</th>\n      <td>1.315995</td>\n      <td>7.672402e+05</td>\n      <td>233972.995023</td>\n      <td>257804.124329</td>\n      <td>11709.720116</td>\n      <td>263753.326921</td>\n      <td>192878.259977</td>\n      <td>68967.437315</td>\n      <td>1907.629630</td>\n      <td>2016</td>\n    </tr>\n    <tr>\n      <th>2017-01-31</th>\n      <td>1.277500</td>\n      <td>9.876538e+05</td>\n      <td>317062.237130</td>\n      <td>336661.843815</td>\n      <td>17590.070759</td>\n      <td>316339.613870</td>\n      <td>240422.766833</td>\n      <td>73925.408593</td>\n      <td>1991.438444</td>\n      <td>2017</td>\n    </tr>\n    <tr>\n      <th>2017-02-28</th>\n      <td>1.214792</td>\n      <td>1.091359e+06</td>\n      <td>376396.705926</td>\n      <td>346751.412106</td>\n      <td>26609.973727</td>\n      <td>341601.167130</td>\n      <td>259093.394606</td>\n      <td>78929.197361</td>\n      <td>3578.575162</td>\n      <td>2017</td>\n    </tr>\n    <tr>\n      <th>2017-03-31</th>\n      <td>1.398935</td>\n      <td>8.307949e+05</td>\n      <td>274356.680880</td>\n      <td>255179.014560</td>\n      <td>17432.079884</td>\n      <td>283827.089838</td>\n      <td>218559.662963</td>\n      <td>61373.766181</td>\n      <td>3893.660694</td>\n      <td>2017</td>\n    </tr>\n    <tr>\n      <th>2017-04-30</th>\n      <td>1.502611</td>\n      <td>9.070639e+05</td>\n      <td>301842.317296</td>\n      <td>267971.832778</td>\n      <td>16233.882222</td>\n      <td>321015.911296</td>\n      <td>241419.994870</td>\n      <td>75210.961889</td>\n      <td>4384.954537</td>\n      <td>2017</td>\n    </tr>\n    <tr>\n      <th>2017-05-31</th>\n      <td>1.532593</td>\n      <td>9.854874e+05</td>\n      <td>333294.596181</td>\n      <td>284306.892130</td>\n      <td>17736.388218</td>\n      <td>350149.488310</td>\n      <td>257193.979144</td>\n      <td>87228.456250</td>\n      <td>5727.052917</td>\n      <td>2017</td>\n    </tr>\n    <tr>\n      <th>2017-06-30</th>\n      <td>1.545395</td>\n      <td>9.544434e+05</td>\n      <td>321590.905721</td>\n      <td>272106.575233</td>\n      <td>17421.513884</td>\n      <td>343324.379465</td>\n      <td>251207.162977</td>\n      <td>85014.397419</td>\n      <td>7102.819070</td>\n      <td>2017</td>\n    </tr>\n    <tr>\n      <th>2017-07-31</th>\n      <td>1.564926</td>\n      <td>8.794513e+05</td>\n      <td>289383.571130</td>\n      <td>281372.887426</td>\n      <td>18194.446722</td>\n      <td>290480.523056</td>\n      <td>211679.004259</td>\n      <td>70991.937019</td>\n      <td>7809.581778</td>\n      <td>2017</td>\n    </tr>\n    <tr>\n      <th>2017-08-31</th>\n      <td>1.698958</td>\n      <td>7.831782e+05</td>\n      <td>265528.838727</td>\n      <td>248924.000556</td>\n      <td>15147.614560</td>\n      <td>253573.479028</td>\n      <td>180905.033843</td>\n      <td>66123.047037</td>\n      <td>6545.398148</td>\n      <td>2017</td>\n    </tr>\n    <tr>\n      <th>2017-09-30</th>\n      <td>1.840949</td>\n      <td>6.592119e+05</td>\n      <td>226802.182315</td>\n      <td>214579.848218</td>\n      <td>11596.970532</td>\n      <td>206227.066991</td>\n      <td>155109.808241</td>\n      <td>47795.713264</td>\n      <td>3321.545486</td>\n      <td>2017</td>\n    </tr>\n    <tr>\n      <th>2017-10-31</th>\n      <td>1.752444</td>\n      <td>6.718110e+05</td>\n      <td>225684.313037</td>\n      <td>220760.585130</td>\n      <td>10241.867074</td>\n      <td>215118.239241</td>\n      <td>161607.904037</td>\n      <td>52014.657056</td>\n      <td>1495.678148</td>\n      <td>2017</td>\n    </tr>\n    <tr>\n      <th>2017-11-30</th>\n      <td>1.517292</td>\n      <td>7.512021e+05</td>\n      <td>261345.969491</td>\n      <td>222808.244537</td>\n      <td>10289.274931</td>\n      <td>256748.859653</td>\n      <td>182617.605046</td>\n      <td>71869.258588</td>\n      <td>2261.975185</td>\n      <td>2017</td>\n    </tr>\n    <tr>\n      <th>2017-12-31</th>\n      <td>1.363852</td>\n      <td>8.506164e+05</td>\n      <td>279095.808630</td>\n      <td>279135.714093</td>\n      <td>13738.515463</td>\n      <td>278638.925426</td>\n      <td>206778.307352</td>\n      <td>69021.575685</td>\n      <td>2839.040537</td>\n      <td>2017</td>\n    </tr>\n    <tr>\n      <th>2018-01-31</th>\n      <td>1.387431</td>\n      <td>9.946923e+05</td>\n      <td>332695.723565</td>\n      <td>311502.106019</td>\n      <td>17719.315556</td>\n      <td>332771.772245</td>\n      <td>240705.805625</td>\n      <td>88317.636389</td>\n      <td>3748.330231</td>\n      <td>2018</td>\n    </tr>\n    <tr>\n      <th>2018-02-28</th>\n      <td>1.318704</td>\n      <td>1.152264e+06</td>\n      <td>392027.877685</td>\n      <td>340770.855185</td>\n      <td>18579.356713</td>\n      <td>400877.131829</td>\n      <td>287812.299074</td>\n      <td>106879.125903</td>\n      <td>6185.706852</td>\n      <td>2018</td>\n    </tr>\n    <tr>\n      <th>2018-03-31</th>\n      <td>1.336458</td>\n      <td>1.053827e+06</td>\n      <td>341248.005463</td>\n      <td>291612.858889</td>\n      <td>16786.037894</td>\n      <td>404165.789213</td>\n      <td>306531.357685</td>\n      <td>90877.283727</td>\n      <td>6757.147801</td>\n      <td>2018</td>\n    </tr>\n  </tbody>\n</table>\n</div>"
     },
     "metadata": {},
     "execution_count": 137
    }
   ],
   "source": [
    "avocado_months = avocado.resample('M', axis=0, closed=None, label=None, convention='start', kind=None, loffset=None, base=None).mean()\n",
    "avocado_months"
   ]
  },
  {
   "cell_type": "markdown",
   "metadata": {},
   "source": [
    "A partir de `avocado_months` calcula el precio máximo de los aguacates de los meses de enero. "
   ]
  },
  {
   "cell_type": "code",
   "execution_count": 51,
   "metadata": {},
   "outputs": [],
   "source": [
    "# your code here"
   ]
  },
  {
   "cell_type": "markdown",
   "metadata": {},
   "source": [
    "Asigna a la variable `avocado_tri` el dataframe `avocado` agrupado por **trimestre** y el sumatorio de los valores de cada columna. "
   ]
  },
  {
   "cell_type": "code",
   "execution_count": 52,
   "metadata": {},
   "outputs": [],
   "source": [
    "# your code here"
   ]
  },
  {
   "cell_type": "code",
   "execution_count": 139,
   "metadata": {},
   "outputs": [
    {
     "output_type": "execute_result",
     "data": {
      "text/plain": "            AveragePrice  Total Volume          4046          4225  \\\nDate                                                                 \n2015-01-31        589.70  3.180852e+08  1.282303e+08  1.302506e+08   \n2015-04-30       1906.36  1.125365e+09  4.790482e+08  4.320219e+08   \n2015-07-31       1939.41  1.222313e+09  5.161434e+08  4.542415e+08   \n2015-10-31       2007.38  1.054240e+09  3.620792e+08  4.708416e+08   \n2016-01-31       1950.79  1.140872e+09  3.583263e+08  4.653154e+08   \n2016-04-30       1583.86  1.221691e+09  3.789142e+08  4.426324e+08   \n2016-07-31       1958.85  1.438834e+09  4.524051e+08  4.996697e+08   \n2016-10-31       2067.27  1.093302e+09  3.729149e+08  3.435200e+08   \n2017-01-31       1927.97  1.124990e+09  3.577250e+08  3.770866e+08   \n2017-04-30       1940.54  1.320185e+09  4.441203e+08  4.047387e+08   \n2017-07-31       2171.66  1.311045e+09  4.385345e+08  3.917678e+08   \n2017-10-31       2475.56  9.858905e+08  3.345565e+08  3.194444e+08   \n2018-01-31       1991.32  1.213559e+09  4.073377e+08  3.815554e+08   \n2018-04-30       1147.03  9.530313e+08  3.167752e+08  2.731898e+08   \n\n                   4770    Total Bags    Small Bags    Large Bags  \\\nDate                                                                \n2015-01-31   8914615.50  5.068970e+07  4.168912e+07  8.861890e+06   \n2015-04-30  32448803.22  1.818462e+08  1.543723e+08  2.663330e+07   \n2015-07-31  37091454.13  2.148363e+08  1.818733e+08  3.196003e+07   \n2015-10-31  39686470.56  1.816325e+08  1.452713e+08  3.475160e+07   \n2016-01-31  44187867.51  2.730422e+08  2.067074e+08  6.280486e+07   \n2016-04-30  55729221.10  3.444151e+08  2.562105e+08  8.523846e+07   \n2016-07-31  55377336.27  4.313819e+08  3.317238e+08  8.910153e+07   \n2016-10-31  19328474.45  3.575387e+08  2.757354e+08  7.827453e+07   \n2017-01-31  19386635.03  3.707919e+08  2.774222e+08  9.098627e+07   \n2017-04-30  27792463.56  4.435336e+08  3.367129e+08  1.012248e+08   \n2017-07-31  24978371.91  4.557535e+08  3.334335e+08  1.125745e+08   \n2017-10-31  17084268.98  3.147977e+08  2.324267e+08  7.730082e+07   \n2018-01-31  19518509.44  4.051379e+08  2.945360e+08  1.064724e+08   \n2018-04-30  15277850.47  3.477785e+08  2.567565e+08  8.543077e+07   \n\n            XLarge Bags     year  \nDate                              \n2015-01-31    138691.73   870480  \n2015-04-30    840613.53  2829060  \n2015-07-31   1002945.75  2829060  \n2015-10-31   1609596.21  2829060  \n2016-01-31   3529967.17  3045205  \n2016-04-30   2966173.31  2612736  \n2016-07-31  10556589.98  3048192  \n2016-10-31   3528767.26  2830464  \n2017-01-31   2383444.94  2831004  \n2017-04-30   5595881.34  2831868  \n2017-07-31   9745473.22  2827834  \n2017-10-31   5070185.85  2831868  \n2018-01-31   4129533.83  2832300  \n2018-04-30   5591313.21  1743552  ",
      "text/html": "<div>\n<style scoped>\n    .dataframe tbody tr th:only-of-type {\n        vertical-align: middle;\n    }\n\n    .dataframe tbody tr th {\n        vertical-align: top;\n    }\n\n    .dataframe thead th {\n        text-align: right;\n    }\n</style>\n<table border=\"1\" class=\"dataframe\">\n  <thead>\n    <tr style=\"text-align: right;\">\n      <th></th>\n      <th>AveragePrice</th>\n      <th>Total Volume</th>\n      <th>4046</th>\n      <th>4225</th>\n      <th>4770</th>\n      <th>Total Bags</th>\n      <th>Small Bags</th>\n      <th>Large Bags</th>\n      <th>XLarge Bags</th>\n      <th>year</th>\n    </tr>\n    <tr>\n      <th>Date</th>\n      <th></th>\n      <th></th>\n      <th></th>\n      <th></th>\n      <th></th>\n      <th></th>\n      <th></th>\n      <th></th>\n      <th></th>\n      <th></th>\n    </tr>\n  </thead>\n  <tbody>\n    <tr>\n      <th>2015-01-31</th>\n      <td>589.70</td>\n      <td>3.180852e+08</td>\n      <td>1.282303e+08</td>\n      <td>1.302506e+08</td>\n      <td>8914615.50</td>\n      <td>5.068970e+07</td>\n      <td>4.168912e+07</td>\n      <td>8.861890e+06</td>\n      <td>138691.73</td>\n      <td>870480</td>\n    </tr>\n    <tr>\n      <th>2015-04-30</th>\n      <td>1906.36</td>\n      <td>1.125365e+09</td>\n      <td>4.790482e+08</td>\n      <td>4.320219e+08</td>\n      <td>32448803.22</td>\n      <td>1.818462e+08</td>\n      <td>1.543723e+08</td>\n      <td>2.663330e+07</td>\n      <td>840613.53</td>\n      <td>2829060</td>\n    </tr>\n    <tr>\n      <th>2015-07-31</th>\n      <td>1939.41</td>\n      <td>1.222313e+09</td>\n      <td>5.161434e+08</td>\n      <td>4.542415e+08</td>\n      <td>37091454.13</td>\n      <td>2.148363e+08</td>\n      <td>1.818733e+08</td>\n      <td>3.196003e+07</td>\n      <td>1002945.75</td>\n      <td>2829060</td>\n    </tr>\n    <tr>\n      <th>2015-10-31</th>\n      <td>2007.38</td>\n      <td>1.054240e+09</td>\n      <td>3.620792e+08</td>\n      <td>4.708416e+08</td>\n      <td>39686470.56</td>\n      <td>1.816325e+08</td>\n      <td>1.452713e+08</td>\n      <td>3.475160e+07</td>\n      <td>1609596.21</td>\n      <td>2829060</td>\n    </tr>\n    <tr>\n      <th>2016-01-31</th>\n      <td>1950.79</td>\n      <td>1.140872e+09</td>\n      <td>3.583263e+08</td>\n      <td>4.653154e+08</td>\n      <td>44187867.51</td>\n      <td>2.730422e+08</td>\n      <td>2.067074e+08</td>\n      <td>6.280486e+07</td>\n      <td>3529967.17</td>\n      <td>3045205</td>\n    </tr>\n    <tr>\n      <th>2016-04-30</th>\n      <td>1583.86</td>\n      <td>1.221691e+09</td>\n      <td>3.789142e+08</td>\n      <td>4.426324e+08</td>\n      <td>55729221.10</td>\n      <td>3.444151e+08</td>\n      <td>2.562105e+08</td>\n      <td>8.523846e+07</td>\n      <td>2966173.31</td>\n      <td>2612736</td>\n    </tr>\n    <tr>\n      <th>2016-07-31</th>\n      <td>1958.85</td>\n      <td>1.438834e+09</td>\n      <td>4.524051e+08</td>\n      <td>4.996697e+08</td>\n      <td>55377336.27</td>\n      <td>4.313819e+08</td>\n      <td>3.317238e+08</td>\n      <td>8.910153e+07</td>\n      <td>10556589.98</td>\n      <td>3048192</td>\n    </tr>\n    <tr>\n      <th>2016-10-31</th>\n      <td>2067.27</td>\n      <td>1.093302e+09</td>\n      <td>3.729149e+08</td>\n      <td>3.435200e+08</td>\n      <td>19328474.45</td>\n      <td>3.575387e+08</td>\n      <td>2.757354e+08</td>\n      <td>7.827453e+07</td>\n      <td>3528767.26</td>\n      <td>2830464</td>\n    </tr>\n    <tr>\n      <th>2017-01-31</th>\n      <td>1927.97</td>\n      <td>1.124990e+09</td>\n      <td>3.577250e+08</td>\n      <td>3.770866e+08</td>\n      <td>19386635.03</td>\n      <td>3.707919e+08</td>\n      <td>2.774222e+08</td>\n      <td>9.098627e+07</td>\n      <td>2383444.94</td>\n      <td>2831004</td>\n    </tr>\n    <tr>\n      <th>2017-04-30</th>\n      <td>1940.54</td>\n      <td>1.320185e+09</td>\n      <td>4.441203e+08</td>\n      <td>4.047387e+08</td>\n      <td>27792463.56</td>\n      <td>4.435336e+08</td>\n      <td>3.367129e+08</td>\n      <td>1.012248e+08</td>\n      <td>5595881.34</td>\n      <td>2831868</td>\n    </tr>\n    <tr>\n      <th>2017-07-31</th>\n      <td>2171.66</td>\n      <td>1.311045e+09</td>\n      <td>4.385345e+08</td>\n      <td>3.917678e+08</td>\n      <td>24978371.91</td>\n      <td>4.557535e+08</td>\n      <td>3.334335e+08</td>\n      <td>1.125745e+08</td>\n      <td>9745473.22</td>\n      <td>2827834</td>\n    </tr>\n    <tr>\n      <th>2017-10-31</th>\n      <td>2475.56</td>\n      <td>9.858905e+08</td>\n      <td>3.345565e+08</td>\n      <td>3.194444e+08</td>\n      <td>17084268.98</td>\n      <td>3.147977e+08</td>\n      <td>2.324267e+08</td>\n      <td>7.730082e+07</td>\n      <td>5070185.85</td>\n      <td>2831868</td>\n    </tr>\n    <tr>\n      <th>2018-01-31</th>\n      <td>1991.32</td>\n      <td>1.213559e+09</td>\n      <td>4.073377e+08</td>\n      <td>3.815554e+08</td>\n      <td>19518509.44</td>\n      <td>4.051379e+08</td>\n      <td>2.945360e+08</td>\n      <td>1.064724e+08</td>\n      <td>4129533.83</td>\n      <td>2832300</td>\n    </tr>\n    <tr>\n      <th>2018-04-30</th>\n      <td>1147.03</td>\n      <td>9.530313e+08</td>\n      <td>3.167752e+08</td>\n      <td>2.731898e+08</td>\n      <td>15277850.47</td>\n      <td>3.477785e+08</td>\n      <td>2.567565e+08</td>\n      <td>8.543077e+07</td>\n      <td>5591313.21</td>\n      <td>1743552</td>\n    </tr>\n  </tbody>\n</table>\n</div>"
     },
     "metadata": {},
     "execution_count": 139
    }
   ],
   "source": [
    "avocado_tri = avocado.resample('3M', axis=0, closed=None, label=None, convention='start', kind=None, loffset=None, base=None).sum()\n",
    "avocado_tri"
   ]
  },
  {
   "cell_type": "markdown",
   "metadata": {},
   "source": [
    "Crea un subset de `avocado` en el que solo se incluyan las siguientes columnas: `\"AveragePrice\"`,`\"Total Volume\"`,`\"type\"`,`\"year\"` y `\"region\"`, llámalo `avo_subset`."
   ]
  },
  {
   "cell_type": "code",
   "execution_count": 53,
   "metadata": {},
   "outputs": [],
   "source": [
    "# your code here"
   ]
  },
  {
   "cell_type": "code",
   "execution_count": 140,
   "metadata": {},
   "outputs": [
    {
     "output_type": "execute_result",
     "data": {
      "text/plain": "            AveragePrice  Total Volume          type  year            region\nDate                                                                        \n2015-12-27          1.33      64236.62  conventional  2015            Albany\n2015-12-20          1.35      54876.98  conventional  2015            Albany\n2015-12-13          0.93     118220.22  conventional  2015            Albany\n2015-12-06          1.08      78992.15  conventional  2015            Albany\n2015-11-29          1.28      51039.60  conventional  2015            Albany\n...                  ...           ...           ...   ...               ...\n2018-02-04          1.63      17074.83       organic  2018  WestTexNewMexico\n2018-01-28          1.71      13888.04       organic  2018  WestTexNewMexico\n2018-01-21          1.87      13766.76       organic  2018  WestTexNewMexico\n2018-01-14          1.93      16205.22       organic  2018  WestTexNewMexico\n2018-01-07          1.62      17489.58       organic  2018  WestTexNewMexico\n\n[18249 rows x 5 columns]",
      "text/html": "<div>\n<style scoped>\n    .dataframe tbody tr th:only-of-type {\n        vertical-align: middle;\n    }\n\n    .dataframe tbody tr th {\n        vertical-align: top;\n    }\n\n    .dataframe thead th {\n        text-align: right;\n    }\n</style>\n<table border=\"1\" class=\"dataframe\">\n  <thead>\n    <tr style=\"text-align: right;\">\n      <th></th>\n      <th>AveragePrice</th>\n      <th>Total Volume</th>\n      <th>type</th>\n      <th>year</th>\n      <th>region</th>\n    </tr>\n    <tr>\n      <th>Date</th>\n      <th></th>\n      <th></th>\n      <th></th>\n      <th></th>\n      <th></th>\n    </tr>\n  </thead>\n  <tbody>\n    <tr>\n      <th>2015-12-27</th>\n      <td>1.33</td>\n      <td>64236.62</td>\n      <td>conventional</td>\n      <td>2015</td>\n      <td>Albany</td>\n    </tr>\n    <tr>\n      <th>2015-12-20</th>\n      <td>1.35</td>\n      <td>54876.98</td>\n      <td>conventional</td>\n      <td>2015</td>\n      <td>Albany</td>\n    </tr>\n    <tr>\n      <th>2015-12-13</th>\n      <td>0.93</td>\n      <td>118220.22</td>\n      <td>conventional</td>\n      <td>2015</td>\n      <td>Albany</td>\n    </tr>\n    <tr>\n      <th>2015-12-06</th>\n      <td>1.08</td>\n      <td>78992.15</td>\n      <td>conventional</td>\n      <td>2015</td>\n      <td>Albany</td>\n    </tr>\n    <tr>\n      <th>2015-11-29</th>\n      <td>1.28</td>\n      <td>51039.60</td>\n      <td>conventional</td>\n      <td>2015</td>\n      <td>Albany</td>\n    </tr>\n    <tr>\n      <th>...</th>\n      <td>...</td>\n      <td>...</td>\n      <td>...</td>\n      <td>...</td>\n      <td>...</td>\n    </tr>\n    <tr>\n      <th>2018-02-04</th>\n      <td>1.63</td>\n      <td>17074.83</td>\n      <td>organic</td>\n      <td>2018</td>\n      <td>WestTexNewMexico</td>\n    </tr>\n    <tr>\n      <th>2018-01-28</th>\n      <td>1.71</td>\n      <td>13888.04</td>\n      <td>organic</td>\n      <td>2018</td>\n      <td>WestTexNewMexico</td>\n    </tr>\n    <tr>\n      <th>2018-01-21</th>\n      <td>1.87</td>\n      <td>13766.76</td>\n      <td>organic</td>\n      <td>2018</td>\n      <td>WestTexNewMexico</td>\n    </tr>\n    <tr>\n      <th>2018-01-14</th>\n      <td>1.93</td>\n      <td>16205.22</td>\n      <td>organic</td>\n      <td>2018</td>\n      <td>WestTexNewMexico</td>\n    </tr>\n    <tr>\n      <th>2018-01-07</th>\n      <td>1.62</td>\n      <td>17489.58</td>\n      <td>organic</td>\n      <td>2018</td>\n      <td>WestTexNewMexico</td>\n    </tr>\n  </tbody>\n</table>\n<p>18249 rows × 5 columns</p>\n</div>"
     },
     "metadata": {},
     "execution_count": 140
    }
   ],
   "source": [
    "avo_subset = avocado[['AveragePrice','Total Volume','type','year','region']]\n",
    "avo_subset"
   ]
  },
  {
   "cell_type": "markdown",
   "metadata": {},
   "source": [
    "Filtra el dataframe `avo_subset` de modo que muestre solo aquellos datos de los aguacates tipo organic en la region de California durante el año 2017. Llama a la variable `org_Cal`. "
   ]
  },
  {
   "cell_type": "code",
   "execution_count": 54,
   "metadata": {},
   "outputs": [],
   "source": [
    "# your code here"
   ]
  },
  {
   "cell_type": "code",
   "execution_count": 160,
   "metadata": {},
   "outputs": [
    {
     "output_type": "execute_result",
     "data": {
      "text/plain": "            AveragePrice  Total Volume          type  year      region\nDate                                                                  \n2015-12-27          0.90    5040365.47  conventional  2015  California\n2015-12-20          0.94    4695737.21  conventional  2015  California\n2015-12-13          0.87    5259354.30  conventional  2015  California\n2015-12-06          0.78    5775536.27  conventional  2015  California\n2015-11-29          0.91    4575710.62  conventional  2015  California\n...                  ...           ...           ...   ...         ...\n2018-02-04          1.56     188212.98       organic  2018  California\n2018-01-28          1.87     170998.81       organic  2018  California\n2018-01-21          1.69     181974.98       organic  2018  California\n2018-01-14          1.61     216681.04       organic  2018  California\n2018-01-07          1.95     156341.57       organic  2018  California\n\n[338 rows x 5 columns]",
      "text/html": "<div>\n<style scoped>\n    .dataframe tbody tr th:only-of-type {\n        vertical-align: middle;\n    }\n\n    .dataframe tbody tr th {\n        vertical-align: top;\n    }\n\n    .dataframe thead th {\n        text-align: right;\n    }\n</style>\n<table border=\"1\" class=\"dataframe\">\n  <thead>\n    <tr style=\"text-align: right;\">\n      <th></th>\n      <th>AveragePrice</th>\n      <th>Total Volume</th>\n      <th>type</th>\n      <th>year</th>\n      <th>region</th>\n    </tr>\n    <tr>\n      <th>Date</th>\n      <th></th>\n      <th></th>\n      <th></th>\n      <th></th>\n      <th></th>\n    </tr>\n  </thead>\n  <tbody>\n    <tr>\n      <th>2015-12-27</th>\n      <td>0.90</td>\n      <td>5040365.47</td>\n      <td>conventional</td>\n      <td>2015</td>\n      <td>California</td>\n    </tr>\n    <tr>\n      <th>2015-12-20</th>\n      <td>0.94</td>\n      <td>4695737.21</td>\n      <td>conventional</td>\n      <td>2015</td>\n      <td>California</td>\n    </tr>\n    <tr>\n      <th>2015-12-13</th>\n      <td>0.87</td>\n      <td>5259354.30</td>\n      <td>conventional</td>\n      <td>2015</td>\n      <td>California</td>\n    </tr>\n    <tr>\n      <th>2015-12-06</th>\n      <td>0.78</td>\n      <td>5775536.27</td>\n      <td>conventional</td>\n      <td>2015</td>\n      <td>California</td>\n    </tr>\n    <tr>\n      <th>2015-11-29</th>\n      <td>0.91</td>\n      <td>4575710.62</td>\n      <td>conventional</td>\n      <td>2015</td>\n      <td>California</td>\n    </tr>\n    <tr>\n      <th>...</th>\n      <td>...</td>\n      <td>...</td>\n      <td>...</td>\n      <td>...</td>\n      <td>...</td>\n    </tr>\n    <tr>\n      <th>2018-02-04</th>\n      <td>1.56</td>\n      <td>188212.98</td>\n      <td>organic</td>\n      <td>2018</td>\n      <td>California</td>\n    </tr>\n    <tr>\n      <th>2018-01-28</th>\n      <td>1.87</td>\n      <td>170998.81</td>\n      <td>organic</td>\n      <td>2018</td>\n      <td>California</td>\n    </tr>\n    <tr>\n      <th>2018-01-21</th>\n      <td>1.69</td>\n      <td>181974.98</td>\n      <td>organic</td>\n      <td>2018</td>\n      <td>California</td>\n    </tr>\n    <tr>\n      <th>2018-01-14</th>\n      <td>1.61</td>\n      <td>216681.04</td>\n      <td>organic</td>\n      <td>2018</td>\n      <td>California</td>\n    </tr>\n    <tr>\n      <th>2018-01-07</th>\n      <td>1.95</td>\n      <td>156341.57</td>\n      <td>organic</td>\n      <td>2018</td>\n      <td>California</td>\n    </tr>\n  </tbody>\n</table>\n<p>338 rows × 5 columns</p>\n</div>"
     },
     "metadata": {},
     "execution_count": 160
    }
   ],
   "source": [
    "avo_subset2 = avo_subset[avo_subset[\"region\"] == \"California\"]\n",
    "avo_subset2"
   ]
  },
  {
   "cell_type": "code",
   "execution_count": 165,
   "metadata": {},
   "outputs": [
    {
     "output_type": "execute_result",
     "data": {
      "text/plain": "            AveragePrice  Total Volume     type  year      region\nDate                                                             \n2015-12-27          1.45      98576.63  organic  2015  California\n2015-12-20          1.35      99793.55  organic  2015  California\n2015-12-13          1.39      98605.40  organic  2015  California\n2015-12-06          1.48      91211.53  organic  2015  California\n2015-11-29          1.75      83415.54  organic  2015  California\n...                  ...           ...      ...   ...         ...\n2018-02-04          1.56     188212.98  organic  2018  California\n2018-01-28          1.87     170998.81  organic  2018  California\n2018-01-21          1.69     181974.98  organic  2018  California\n2018-01-14          1.61     216681.04  organic  2018  California\n2018-01-07          1.95     156341.57  organic  2018  California\n\n[169 rows x 5 columns]",
      "text/html": "<div>\n<style scoped>\n    .dataframe tbody tr th:only-of-type {\n        vertical-align: middle;\n    }\n\n    .dataframe tbody tr th {\n        vertical-align: top;\n    }\n\n    .dataframe thead th {\n        text-align: right;\n    }\n</style>\n<table border=\"1\" class=\"dataframe\">\n  <thead>\n    <tr style=\"text-align: right;\">\n      <th></th>\n      <th>AveragePrice</th>\n      <th>Total Volume</th>\n      <th>type</th>\n      <th>year</th>\n      <th>region</th>\n    </tr>\n    <tr>\n      <th>Date</th>\n      <th></th>\n      <th></th>\n      <th></th>\n      <th></th>\n      <th></th>\n    </tr>\n  </thead>\n  <tbody>\n    <tr>\n      <th>2015-12-27</th>\n      <td>1.45</td>\n      <td>98576.63</td>\n      <td>organic</td>\n      <td>2015</td>\n      <td>California</td>\n    </tr>\n    <tr>\n      <th>2015-12-20</th>\n      <td>1.35</td>\n      <td>99793.55</td>\n      <td>organic</td>\n      <td>2015</td>\n      <td>California</td>\n    </tr>\n    <tr>\n      <th>2015-12-13</th>\n      <td>1.39</td>\n      <td>98605.40</td>\n      <td>organic</td>\n      <td>2015</td>\n      <td>California</td>\n    </tr>\n    <tr>\n      <th>2015-12-06</th>\n      <td>1.48</td>\n      <td>91211.53</td>\n      <td>organic</td>\n      <td>2015</td>\n      <td>California</td>\n    </tr>\n    <tr>\n      <th>2015-11-29</th>\n      <td>1.75</td>\n      <td>83415.54</td>\n      <td>organic</td>\n      <td>2015</td>\n      <td>California</td>\n    </tr>\n    <tr>\n      <th>...</th>\n      <td>...</td>\n      <td>...</td>\n      <td>...</td>\n      <td>...</td>\n      <td>...</td>\n    </tr>\n    <tr>\n      <th>2018-02-04</th>\n      <td>1.56</td>\n      <td>188212.98</td>\n      <td>organic</td>\n      <td>2018</td>\n      <td>California</td>\n    </tr>\n    <tr>\n      <th>2018-01-28</th>\n      <td>1.87</td>\n      <td>170998.81</td>\n      <td>organic</td>\n      <td>2018</td>\n      <td>California</td>\n    </tr>\n    <tr>\n      <th>2018-01-21</th>\n      <td>1.69</td>\n      <td>181974.98</td>\n      <td>organic</td>\n      <td>2018</td>\n      <td>California</td>\n    </tr>\n    <tr>\n      <th>2018-01-14</th>\n      <td>1.61</td>\n      <td>216681.04</td>\n      <td>organic</td>\n      <td>2018</td>\n      <td>California</td>\n    </tr>\n    <tr>\n      <th>2018-01-07</th>\n      <td>1.95</td>\n      <td>156341.57</td>\n      <td>organic</td>\n      <td>2018</td>\n      <td>California</td>\n    </tr>\n  </tbody>\n</table>\n<p>169 rows × 5 columns</p>\n</div>"
     },
     "metadata": {},
     "execution_count": 165
    }
   ],
   "source": [
    "avo_subset3 = avo_subset2[avo_subset2['type'] == 'organic']\n",
    "avo_subset3"
   ]
  },
  {
   "cell_type": "code",
   "execution_count": 192,
   "metadata": {},
   "outputs": [
    {
     "output_type": "execute_result",
     "data": {
      "text/plain": "            AveragePrice  Total Volume     type  year      region\nDate                                                             \n2017-12-31          1.71     160039.02  organic  2017  California\n2017-12-24          1.82     138506.44  organic  2017  California\n2017-12-17          1.75     126089.01  organic  2017  California\n2017-12-10          1.89     125853.18  organic  2017  California\n2017-12-03          1.81     125973.20  organic  2017  California\n2017-11-26          2.00     115472.08  organic  2017  California\n2017-11-19          1.98     122170.14  organic  2017  California\n2017-11-12          1.99     122017.93  organic  2017  California\n2017-11-05          1.76     145735.09  organic  2017  California\n2017-10-29          2.01     129602.47  organic  2017  California\n2017-10-22          2.00     132184.44  organic  2017  California\n2017-10-15          2.10     115255.48  organic  2017  California\n2017-10-08          2.17     124505.87  organic  2017  California\n2017-10-01          2.08     132771.77  organic  2017  California\n2017-09-24          2.05     138458.82  organic  2017  California\n2017-09-17          2.18     152064.59  organic  2017  California\n2017-09-10          2.20     140337.35  organic  2017  California\n2017-09-03          2.09     142391.81  organic  2017  California\n2017-08-27          2.54     121293.43  organic  2017  California\n2017-08-20          2.37     140365.99  organic  2017  California\n2017-08-13          2.21     139016.53  organic  2017  California\n2017-08-06          2.18     118098.82  organic  2017  California\n2017-07-30          2.14     113903.29  organic  2017  California\n2017-07-23          2.17     128480.81  organic  2017  California\n2017-07-16          2.14     127255.55  organic  2017  California\n2017-07-09          1.62     169101.22  organic  2017  California\n2017-07-02          1.73     163970.90  organic  2017  California\n2017-06-25          1.66     167931.62  organic  2017  California\n2017-06-18          1.78     181725.85  organic  2017  California\n2017-06-11          1.79     179141.21  organic  2017  California\n2017-06-04          1.64     206419.24  organic  2017  California\n2017-05-28          1.76     197588.64  organic  2017  California\n2017-05-21          1.78     183083.69  organic  2017  California\n2017-05-14          1.76     167406.47  organic  2017  California\n2017-05-07          1.59     211442.68  organic  2017  California\n2017-04-30          1.61     199903.62  organic  2017  California\n2017-04-23          1.60     197179.76  organic  2017  California\n2017-04-16          1.67     194263.40  organic  2017  California\n2017-04-09          1.63     186112.10  organic  2017  California\n2017-04-02          1.64     191988.18  organic  2017  California\n2017-03-26          1.70     194052.77  organic  2017  California\n2017-03-19          1.57     209591.02  organic  2017  California\n2017-03-12          1.53     210400.75  organic  2017  California\n2017-03-05          1.45     220712.33  organic  2017  California\n2017-02-26          1.34     215699.08  organic  2017  California\n2017-02-19          1.50     183797.30  organic  2017  California\n2017-02-12          1.54     151754.58  organic  2017  California\n2017-02-05          1.36     169739.80  organic  2017  California\n2017-01-29          1.44     165225.54  organic  2017  California\n2017-01-22          1.53     136422.97  organic  2017  California\n2017-01-15          1.66     142739.21  organic  2017  California\n2017-01-08          1.50     177777.40  organic  2017  California\n2017-01-01          1.46     164137.04  organic  2017  California",
      "text/html": "<div>\n<style scoped>\n    .dataframe tbody tr th:only-of-type {\n        vertical-align: middle;\n    }\n\n    .dataframe tbody tr th {\n        vertical-align: top;\n    }\n\n    .dataframe thead th {\n        text-align: right;\n    }\n</style>\n<table border=\"1\" class=\"dataframe\">\n  <thead>\n    <tr style=\"text-align: right;\">\n      <th></th>\n      <th>AveragePrice</th>\n      <th>Total Volume</th>\n      <th>type</th>\n      <th>year</th>\n      <th>region</th>\n    </tr>\n    <tr>\n      <th>Date</th>\n      <th></th>\n      <th></th>\n      <th></th>\n      <th></th>\n      <th></th>\n    </tr>\n  </thead>\n  <tbody>\n    <tr>\n      <th>2017-12-31</th>\n      <td>1.71</td>\n      <td>160039.02</td>\n      <td>organic</td>\n      <td>2017</td>\n      <td>California</td>\n    </tr>\n    <tr>\n      <th>2017-12-24</th>\n      <td>1.82</td>\n      <td>138506.44</td>\n      <td>organic</td>\n      <td>2017</td>\n      <td>California</td>\n    </tr>\n    <tr>\n      <th>2017-12-17</th>\n      <td>1.75</td>\n      <td>126089.01</td>\n      <td>organic</td>\n      <td>2017</td>\n      <td>California</td>\n    </tr>\n    <tr>\n      <th>2017-12-10</th>\n      <td>1.89</td>\n      <td>125853.18</td>\n      <td>organic</td>\n      <td>2017</td>\n      <td>California</td>\n    </tr>\n    <tr>\n      <th>2017-12-03</th>\n      <td>1.81</td>\n      <td>125973.20</td>\n      <td>organic</td>\n      <td>2017</td>\n      <td>California</td>\n    </tr>\n    <tr>\n      <th>2017-11-26</th>\n      <td>2.00</td>\n      <td>115472.08</td>\n      <td>organic</td>\n      <td>2017</td>\n      <td>California</td>\n    </tr>\n    <tr>\n      <th>2017-11-19</th>\n      <td>1.98</td>\n      <td>122170.14</td>\n      <td>organic</td>\n      <td>2017</td>\n      <td>California</td>\n    </tr>\n    <tr>\n      <th>2017-11-12</th>\n      <td>1.99</td>\n      <td>122017.93</td>\n      <td>organic</td>\n      <td>2017</td>\n      <td>California</td>\n    </tr>\n    <tr>\n      <th>2017-11-05</th>\n      <td>1.76</td>\n      <td>145735.09</td>\n      <td>organic</td>\n      <td>2017</td>\n      <td>California</td>\n    </tr>\n    <tr>\n      <th>2017-10-29</th>\n      <td>2.01</td>\n      <td>129602.47</td>\n      <td>organic</td>\n      <td>2017</td>\n      <td>California</td>\n    </tr>\n    <tr>\n      <th>2017-10-22</th>\n      <td>2.00</td>\n      <td>132184.44</td>\n      <td>organic</td>\n      <td>2017</td>\n      <td>California</td>\n    </tr>\n    <tr>\n      <th>2017-10-15</th>\n      <td>2.10</td>\n      <td>115255.48</td>\n      <td>organic</td>\n      <td>2017</td>\n      <td>California</td>\n    </tr>\n    <tr>\n      <th>2017-10-08</th>\n      <td>2.17</td>\n      <td>124505.87</td>\n      <td>organic</td>\n      <td>2017</td>\n      <td>California</td>\n    </tr>\n    <tr>\n      <th>2017-10-01</th>\n      <td>2.08</td>\n      <td>132771.77</td>\n      <td>organic</td>\n      <td>2017</td>\n      <td>California</td>\n    </tr>\n    <tr>\n      <th>2017-09-24</th>\n      <td>2.05</td>\n      <td>138458.82</td>\n      <td>organic</td>\n      <td>2017</td>\n      <td>California</td>\n    </tr>\n    <tr>\n      <th>2017-09-17</th>\n      <td>2.18</td>\n      <td>152064.59</td>\n      <td>organic</td>\n      <td>2017</td>\n      <td>California</td>\n    </tr>\n    <tr>\n      <th>2017-09-10</th>\n      <td>2.20</td>\n      <td>140337.35</td>\n      <td>organic</td>\n      <td>2017</td>\n      <td>California</td>\n    </tr>\n    <tr>\n      <th>2017-09-03</th>\n      <td>2.09</td>\n      <td>142391.81</td>\n      <td>organic</td>\n      <td>2017</td>\n      <td>California</td>\n    </tr>\n    <tr>\n      <th>2017-08-27</th>\n      <td>2.54</td>\n      <td>121293.43</td>\n      <td>organic</td>\n      <td>2017</td>\n      <td>California</td>\n    </tr>\n    <tr>\n      <th>2017-08-20</th>\n      <td>2.37</td>\n      <td>140365.99</td>\n      <td>organic</td>\n      <td>2017</td>\n      <td>California</td>\n    </tr>\n    <tr>\n      <th>2017-08-13</th>\n      <td>2.21</td>\n      <td>139016.53</td>\n      <td>organic</td>\n      <td>2017</td>\n      <td>California</td>\n    </tr>\n    <tr>\n      <th>2017-08-06</th>\n      <td>2.18</td>\n      <td>118098.82</td>\n      <td>organic</td>\n      <td>2017</td>\n      <td>California</td>\n    </tr>\n    <tr>\n      <th>2017-07-30</th>\n      <td>2.14</td>\n      <td>113903.29</td>\n      <td>organic</td>\n      <td>2017</td>\n      <td>California</td>\n    </tr>\n    <tr>\n      <th>2017-07-23</th>\n      <td>2.17</td>\n      <td>128480.81</td>\n      <td>organic</td>\n      <td>2017</td>\n      <td>California</td>\n    </tr>\n    <tr>\n      <th>2017-07-16</th>\n      <td>2.14</td>\n      <td>127255.55</td>\n      <td>organic</td>\n      <td>2017</td>\n      <td>California</td>\n    </tr>\n    <tr>\n      <th>2017-07-09</th>\n      <td>1.62</td>\n      <td>169101.22</td>\n      <td>organic</td>\n      <td>2017</td>\n      <td>California</td>\n    </tr>\n    <tr>\n      <th>2017-07-02</th>\n      <td>1.73</td>\n      <td>163970.90</td>\n      <td>organic</td>\n      <td>2017</td>\n      <td>California</td>\n    </tr>\n    <tr>\n      <th>2017-06-25</th>\n      <td>1.66</td>\n      <td>167931.62</td>\n      <td>organic</td>\n      <td>2017</td>\n      <td>California</td>\n    </tr>\n    <tr>\n      <th>2017-06-18</th>\n      <td>1.78</td>\n      <td>181725.85</td>\n      <td>organic</td>\n      <td>2017</td>\n      <td>California</td>\n    </tr>\n    <tr>\n      <th>2017-06-11</th>\n      <td>1.79</td>\n      <td>179141.21</td>\n      <td>organic</td>\n      <td>2017</td>\n      <td>California</td>\n    </tr>\n    <tr>\n      <th>2017-06-04</th>\n      <td>1.64</td>\n      <td>206419.24</td>\n      <td>organic</td>\n      <td>2017</td>\n      <td>California</td>\n    </tr>\n    <tr>\n      <th>2017-05-28</th>\n      <td>1.76</td>\n      <td>197588.64</td>\n      <td>organic</td>\n      <td>2017</td>\n      <td>California</td>\n    </tr>\n    <tr>\n      <th>2017-05-21</th>\n      <td>1.78</td>\n      <td>183083.69</td>\n      <td>organic</td>\n      <td>2017</td>\n      <td>California</td>\n    </tr>\n    <tr>\n      <th>2017-05-14</th>\n      <td>1.76</td>\n      <td>167406.47</td>\n      <td>organic</td>\n      <td>2017</td>\n      <td>California</td>\n    </tr>\n    <tr>\n      <th>2017-05-07</th>\n      <td>1.59</td>\n      <td>211442.68</td>\n      <td>organic</td>\n      <td>2017</td>\n      <td>California</td>\n    </tr>\n    <tr>\n      <th>2017-04-30</th>\n      <td>1.61</td>\n      <td>199903.62</td>\n      <td>organic</td>\n      <td>2017</td>\n      <td>California</td>\n    </tr>\n    <tr>\n      <th>2017-04-23</th>\n      <td>1.60</td>\n      <td>197179.76</td>\n      <td>organic</td>\n      <td>2017</td>\n      <td>California</td>\n    </tr>\n    <tr>\n      <th>2017-04-16</th>\n      <td>1.67</td>\n      <td>194263.40</td>\n      <td>organic</td>\n      <td>2017</td>\n      <td>California</td>\n    </tr>\n    <tr>\n      <th>2017-04-09</th>\n      <td>1.63</td>\n      <td>186112.10</td>\n      <td>organic</td>\n      <td>2017</td>\n      <td>California</td>\n    </tr>\n    <tr>\n      <th>2017-04-02</th>\n      <td>1.64</td>\n      <td>191988.18</td>\n      <td>organic</td>\n      <td>2017</td>\n      <td>California</td>\n    </tr>\n    <tr>\n      <th>2017-03-26</th>\n      <td>1.70</td>\n      <td>194052.77</td>\n      <td>organic</td>\n      <td>2017</td>\n      <td>California</td>\n    </tr>\n    <tr>\n      <th>2017-03-19</th>\n      <td>1.57</td>\n      <td>209591.02</td>\n      <td>organic</td>\n      <td>2017</td>\n      <td>California</td>\n    </tr>\n    <tr>\n      <th>2017-03-12</th>\n      <td>1.53</td>\n      <td>210400.75</td>\n      <td>organic</td>\n      <td>2017</td>\n      <td>California</td>\n    </tr>\n    <tr>\n      <th>2017-03-05</th>\n      <td>1.45</td>\n      <td>220712.33</td>\n      <td>organic</td>\n      <td>2017</td>\n      <td>California</td>\n    </tr>\n    <tr>\n      <th>2017-02-26</th>\n      <td>1.34</td>\n      <td>215699.08</td>\n      <td>organic</td>\n      <td>2017</td>\n      <td>California</td>\n    </tr>\n    <tr>\n      <th>2017-02-19</th>\n      <td>1.50</td>\n      <td>183797.30</td>\n      <td>organic</td>\n      <td>2017</td>\n      <td>California</td>\n    </tr>\n    <tr>\n      <th>2017-02-12</th>\n      <td>1.54</td>\n      <td>151754.58</td>\n      <td>organic</td>\n      <td>2017</td>\n      <td>California</td>\n    </tr>\n    <tr>\n      <th>2017-02-05</th>\n      <td>1.36</td>\n      <td>169739.80</td>\n      <td>organic</td>\n      <td>2017</td>\n      <td>California</td>\n    </tr>\n    <tr>\n      <th>2017-01-29</th>\n      <td>1.44</td>\n      <td>165225.54</td>\n      <td>organic</td>\n      <td>2017</td>\n      <td>California</td>\n    </tr>\n    <tr>\n      <th>2017-01-22</th>\n      <td>1.53</td>\n      <td>136422.97</td>\n      <td>organic</td>\n      <td>2017</td>\n      <td>California</td>\n    </tr>\n    <tr>\n      <th>2017-01-15</th>\n      <td>1.66</td>\n      <td>142739.21</td>\n      <td>organic</td>\n      <td>2017</td>\n      <td>California</td>\n    </tr>\n    <tr>\n      <th>2017-01-08</th>\n      <td>1.50</td>\n      <td>177777.40</td>\n      <td>organic</td>\n      <td>2017</td>\n      <td>California</td>\n    </tr>\n    <tr>\n      <th>2017-01-01</th>\n      <td>1.46</td>\n      <td>164137.04</td>\n      <td>organic</td>\n      <td>2017</td>\n      <td>California</td>\n    </tr>\n  </tbody>\n</table>\n</div>"
     },
     "metadata": {},
     "execution_count": 192
    }
   ],
   "source": [
    "org_Cal = avo_subset3.loc['2017']\n",
    "org_Cal"
   ]
  },
  {
   "cell_type": "code",
   "execution_count": 147,
   "metadata": {},
   "outputs": [
    {
     "output_type": "execute_result",
     "data": {
      "text/plain": "Date\n2015-12-27    False\n2015-12-20    False\n2015-12-13    False\n2015-12-06    False\n2015-11-29    False\n              ...  \n2018-02-04    False\n2018-01-28    False\n2018-01-21    False\n2018-01-14    False\n2018-01-07    False\nName: type, Length: 18249, dtype: bool"
     },
     "metadata": {},
     "execution_count": 147
    }
   ],
   "source": [
    "#def tipo (avocadotype):\n",
    "    #return avocado.type == True\n",
    "\n",
    "#result = tipo(avocado.type == 'organic')\n",
    "#result"
   ]
  },
  {
   "cell_type": "markdown",
   "metadata": {},
   "source": [
    "Usando `org_Cal` saca la mediana del volumen total. "
   ]
  },
  {
   "cell_type": "code",
   "execution_count": 55,
   "metadata": {},
   "outputs": [],
   "source": [
    "# your code here"
   ]
  },
  {
   "cell_type": "code",
   "execution_count": 195,
   "metadata": {},
   "outputs": [
    {
     "output_type": "execute_result",
     "data": {
      "text/plain": "158814.1789"
     },
     "metadata": {},
     "execution_count": 195
    }
   ],
   "source": [
    "org_Cal['Total Volume'].mean().round(4)"
   ]
  },
  {
   "cell_type": "code",
   "execution_count": 196,
   "metadata": {},
   "outputs": [
    {
     "output_type": "execute_result",
     "data": {
      "text/plain": "AveragePrice         1.814717\nTotal Volume    158814.178868\nyear              2017.000000\ndtype: float64"
     },
     "metadata": {},
     "execution_count": 196
    }
   ],
   "source": [
    "#a modo de 'comprobacion' personal\n",
    "org_Cal.mean()"
   ]
  },
  {
   "cell_type": "markdown",
   "metadata": {},
   "source": [
    "¿Qué precio medio había el día que el volumen total fue igual a la mediana de la mencionada columna, `\"Total Volume\"`? "
   ]
  },
  {
   "cell_type": "code",
   "execution_count": 56,
   "metadata": {},
   "outputs": [],
   "source": [
    "# your code here"
   ]
  },
  {
   "cell_type": "code",
   "execution_count": 198,
   "metadata": {},
   "outputs": [
    {
     "output_type": "execute_result",
     "data": {
      "text/plain": "AveragePrice         1.76\nTotal Volume    152064.59\nyear              2017.00\ndtype: float64"
     },
     "metadata": {},
     "execution_count": 198
    }
   ],
   "source": [
    "org_Cal.median()"
   ]
  },
  {
   "cell_type": "code",
   "execution_count": 202,
   "metadata": {},
   "outputs": [
    {
     "output_type": "execute_result",
     "data": {
      "text/plain": "            AveragePrice  Total Volume      4046      4225  4770  Total Bags  \\\nDate                                                                           \n2017-09-17          2.18     152064.59  48806.34  66114.77   0.0    37143.48   \n\n            Small Bags  Large Bags  XLarge Bags     type  year      region  \nDate                                                                        \n2017-09-17    37121.28        22.2          0.0  organic  2017  California  ",
      "text/html": "<div>\n<style scoped>\n    .dataframe tbody tr th:only-of-type {\n        vertical-align: middle;\n    }\n\n    .dataframe tbody tr th {\n        vertical-align: top;\n    }\n\n    .dataframe thead th {\n        text-align: right;\n    }\n</style>\n<table border=\"1\" class=\"dataframe\">\n  <thead>\n    <tr style=\"text-align: right;\">\n      <th></th>\n      <th>AveragePrice</th>\n      <th>Total Volume</th>\n      <th>4046</th>\n      <th>4225</th>\n      <th>4770</th>\n      <th>Total Bags</th>\n      <th>Small Bags</th>\n      <th>Large Bags</th>\n      <th>XLarge Bags</th>\n      <th>type</th>\n      <th>year</th>\n      <th>region</th>\n    </tr>\n    <tr>\n      <th>Date</th>\n      <th></th>\n      <th></th>\n      <th></th>\n      <th></th>\n      <th></th>\n      <th></th>\n      <th></th>\n      <th></th>\n      <th></th>\n      <th></th>\n      <th></th>\n      <th></th>\n    </tr>\n  </thead>\n  <tbody>\n    <tr>\n      <th>2017-09-17</th>\n      <td>2.18</td>\n      <td>152064.59</td>\n      <td>48806.34</td>\n      <td>66114.77</td>\n      <td>0.0</td>\n      <td>37143.48</td>\n      <td>37121.28</td>\n      <td>22.2</td>\n      <td>0.0</td>\n      <td>organic</td>\n      <td>2017</td>\n      <td>California</td>\n    </tr>\n  </tbody>\n</table>\n</div>"
     },
     "metadata": {},
     "execution_count": 202
    }
   ],
   "source": [
    "med = avocado[avocado['Total Volume'] == 152064.59]\n",
    "med"
   ]
  },
  {
   "cell_type": "code",
   "execution_count": null,
   "metadata": {},
   "outputs": [],
   "source": [
    "#El precio medio que habia era de '2.18'"
   ]
  },
  {
   "cell_type": "markdown",
   "metadata": {},
   "source": [
    "Muestra la evolución del precio medio, `\"AveragePrice\"`, de los aguacates de tipo orgánicos de California durante el año 2017 con un gráfico de una línea, usando `org_Cal`. "
   ]
  },
  {
   "cell_type": "code",
   "execution_count": 57,
   "metadata": {},
   "outputs": [],
   "source": [
    "# your code here"
   ]
  },
  {
   "cell_type": "code",
   "execution_count": 203,
   "metadata": {},
   "outputs": [
    {
     "output_type": "execute_result",
     "data": {
      "text/plain": "            AveragePrice  Total Volume     type  year      region\nDate                                                             \n2017-12-31          1.71     160039.02  organic  2017  California\n2017-12-24          1.82     138506.44  organic  2017  California\n2017-12-17          1.75     126089.01  organic  2017  California\n2017-12-10          1.89     125853.18  organic  2017  California\n2017-12-03          1.81     125973.20  organic  2017  California\n2017-11-26          2.00     115472.08  organic  2017  California\n2017-11-19          1.98     122170.14  organic  2017  California\n2017-11-12          1.99     122017.93  organic  2017  California\n2017-11-05          1.76     145735.09  organic  2017  California\n2017-10-29          2.01     129602.47  organic  2017  California\n2017-10-22          2.00     132184.44  organic  2017  California\n2017-10-15          2.10     115255.48  organic  2017  California\n2017-10-08          2.17     124505.87  organic  2017  California\n2017-10-01          2.08     132771.77  organic  2017  California\n2017-09-24          2.05     138458.82  organic  2017  California\n2017-09-17          2.18     152064.59  organic  2017  California\n2017-09-10          2.20     140337.35  organic  2017  California\n2017-09-03          2.09     142391.81  organic  2017  California\n2017-08-27          2.54     121293.43  organic  2017  California\n2017-08-20          2.37     140365.99  organic  2017  California\n2017-08-13          2.21     139016.53  organic  2017  California\n2017-08-06          2.18     118098.82  organic  2017  California\n2017-07-30          2.14     113903.29  organic  2017  California\n2017-07-23          2.17     128480.81  organic  2017  California\n2017-07-16          2.14     127255.55  organic  2017  California\n2017-07-09          1.62     169101.22  organic  2017  California\n2017-07-02          1.73     163970.90  organic  2017  California\n2017-06-25          1.66     167931.62  organic  2017  California\n2017-06-18          1.78     181725.85  organic  2017  California\n2017-06-11          1.79     179141.21  organic  2017  California\n2017-06-04          1.64     206419.24  organic  2017  California\n2017-05-28          1.76     197588.64  organic  2017  California\n2017-05-21          1.78     183083.69  organic  2017  California\n2017-05-14          1.76     167406.47  organic  2017  California\n2017-05-07          1.59     211442.68  organic  2017  California\n2017-04-30          1.61     199903.62  organic  2017  California\n2017-04-23          1.60     197179.76  organic  2017  California\n2017-04-16          1.67     194263.40  organic  2017  California\n2017-04-09          1.63     186112.10  organic  2017  California\n2017-04-02          1.64     191988.18  organic  2017  California\n2017-03-26          1.70     194052.77  organic  2017  California\n2017-03-19          1.57     209591.02  organic  2017  California\n2017-03-12          1.53     210400.75  organic  2017  California\n2017-03-05          1.45     220712.33  organic  2017  California\n2017-02-26          1.34     215699.08  organic  2017  California\n2017-02-19          1.50     183797.30  organic  2017  California\n2017-02-12          1.54     151754.58  organic  2017  California\n2017-02-05          1.36     169739.80  organic  2017  California\n2017-01-29          1.44     165225.54  organic  2017  California\n2017-01-22          1.53     136422.97  organic  2017  California\n2017-01-15          1.66     142739.21  organic  2017  California\n2017-01-08          1.50     177777.40  organic  2017  California\n2017-01-01          1.46     164137.04  organic  2017  California",
      "text/html": "<div>\n<style scoped>\n    .dataframe tbody tr th:only-of-type {\n        vertical-align: middle;\n    }\n\n    .dataframe tbody tr th {\n        vertical-align: top;\n    }\n\n    .dataframe thead th {\n        text-align: right;\n    }\n</style>\n<table border=\"1\" class=\"dataframe\">\n  <thead>\n    <tr style=\"text-align: right;\">\n      <th></th>\n      <th>AveragePrice</th>\n      <th>Total Volume</th>\n      <th>type</th>\n      <th>year</th>\n      <th>region</th>\n    </tr>\n    <tr>\n      <th>Date</th>\n      <th></th>\n      <th></th>\n      <th></th>\n      <th></th>\n      <th></th>\n    </tr>\n  </thead>\n  <tbody>\n    <tr>\n      <th>2017-12-31</th>\n      <td>1.71</td>\n      <td>160039.02</td>\n      <td>organic</td>\n      <td>2017</td>\n      <td>California</td>\n    </tr>\n    <tr>\n      <th>2017-12-24</th>\n      <td>1.82</td>\n      <td>138506.44</td>\n      <td>organic</td>\n      <td>2017</td>\n      <td>California</td>\n    </tr>\n    <tr>\n      <th>2017-12-17</th>\n      <td>1.75</td>\n      <td>126089.01</td>\n      <td>organic</td>\n      <td>2017</td>\n      <td>California</td>\n    </tr>\n    <tr>\n      <th>2017-12-10</th>\n      <td>1.89</td>\n      <td>125853.18</td>\n      <td>organic</td>\n      <td>2017</td>\n      <td>California</td>\n    </tr>\n    <tr>\n      <th>2017-12-03</th>\n      <td>1.81</td>\n      <td>125973.20</td>\n      <td>organic</td>\n      <td>2017</td>\n      <td>California</td>\n    </tr>\n    <tr>\n      <th>2017-11-26</th>\n      <td>2.00</td>\n      <td>115472.08</td>\n      <td>organic</td>\n      <td>2017</td>\n      <td>California</td>\n    </tr>\n    <tr>\n      <th>2017-11-19</th>\n      <td>1.98</td>\n      <td>122170.14</td>\n      <td>organic</td>\n      <td>2017</td>\n      <td>California</td>\n    </tr>\n    <tr>\n      <th>2017-11-12</th>\n      <td>1.99</td>\n      <td>122017.93</td>\n      <td>organic</td>\n      <td>2017</td>\n      <td>California</td>\n    </tr>\n    <tr>\n      <th>2017-11-05</th>\n      <td>1.76</td>\n      <td>145735.09</td>\n      <td>organic</td>\n      <td>2017</td>\n      <td>California</td>\n    </tr>\n    <tr>\n      <th>2017-10-29</th>\n      <td>2.01</td>\n      <td>129602.47</td>\n      <td>organic</td>\n      <td>2017</td>\n      <td>California</td>\n    </tr>\n    <tr>\n      <th>2017-10-22</th>\n      <td>2.00</td>\n      <td>132184.44</td>\n      <td>organic</td>\n      <td>2017</td>\n      <td>California</td>\n    </tr>\n    <tr>\n      <th>2017-10-15</th>\n      <td>2.10</td>\n      <td>115255.48</td>\n      <td>organic</td>\n      <td>2017</td>\n      <td>California</td>\n    </tr>\n    <tr>\n      <th>2017-10-08</th>\n      <td>2.17</td>\n      <td>124505.87</td>\n      <td>organic</td>\n      <td>2017</td>\n      <td>California</td>\n    </tr>\n    <tr>\n      <th>2017-10-01</th>\n      <td>2.08</td>\n      <td>132771.77</td>\n      <td>organic</td>\n      <td>2017</td>\n      <td>California</td>\n    </tr>\n    <tr>\n      <th>2017-09-24</th>\n      <td>2.05</td>\n      <td>138458.82</td>\n      <td>organic</td>\n      <td>2017</td>\n      <td>California</td>\n    </tr>\n    <tr>\n      <th>2017-09-17</th>\n      <td>2.18</td>\n      <td>152064.59</td>\n      <td>organic</td>\n      <td>2017</td>\n      <td>California</td>\n    </tr>\n    <tr>\n      <th>2017-09-10</th>\n      <td>2.20</td>\n      <td>140337.35</td>\n      <td>organic</td>\n      <td>2017</td>\n      <td>California</td>\n    </tr>\n    <tr>\n      <th>2017-09-03</th>\n      <td>2.09</td>\n      <td>142391.81</td>\n      <td>organic</td>\n      <td>2017</td>\n      <td>California</td>\n    </tr>\n    <tr>\n      <th>2017-08-27</th>\n      <td>2.54</td>\n      <td>121293.43</td>\n      <td>organic</td>\n      <td>2017</td>\n      <td>California</td>\n    </tr>\n    <tr>\n      <th>2017-08-20</th>\n      <td>2.37</td>\n      <td>140365.99</td>\n      <td>organic</td>\n      <td>2017</td>\n      <td>California</td>\n    </tr>\n    <tr>\n      <th>2017-08-13</th>\n      <td>2.21</td>\n      <td>139016.53</td>\n      <td>organic</td>\n      <td>2017</td>\n      <td>California</td>\n    </tr>\n    <tr>\n      <th>2017-08-06</th>\n      <td>2.18</td>\n      <td>118098.82</td>\n      <td>organic</td>\n      <td>2017</td>\n      <td>California</td>\n    </tr>\n    <tr>\n      <th>2017-07-30</th>\n      <td>2.14</td>\n      <td>113903.29</td>\n      <td>organic</td>\n      <td>2017</td>\n      <td>California</td>\n    </tr>\n    <tr>\n      <th>2017-07-23</th>\n      <td>2.17</td>\n      <td>128480.81</td>\n      <td>organic</td>\n      <td>2017</td>\n      <td>California</td>\n    </tr>\n    <tr>\n      <th>2017-07-16</th>\n      <td>2.14</td>\n      <td>127255.55</td>\n      <td>organic</td>\n      <td>2017</td>\n      <td>California</td>\n    </tr>\n    <tr>\n      <th>2017-07-09</th>\n      <td>1.62</td>\n      <td>169101.22</td>\n      <td>organic</td>\n      <td>2017</td>\n      <td>California</td>\n    </tr>\n    <tr>\n      <th>2017-07-02</th>\n      <td>1.73</td>\n      <td>163970.90</td>\n      <td>organic</td>\n      <td>2017</td>\n      <td>California</td>\n    </tr>\n    <tr>\n      <th>2017-06-25</th>\n      <td>1.66</td>\n      <td>167931.62</td>\n      <td>organic</td>\n      <td>2017</td>\n      <td>California</td>\n    </tr>\n    <tr>\n      <th>2017-06-18</th>\n      <td>1.78</td>\n      <td>181725.85</td>\n      <td>organic</td>\n      <td>2017</td>\n      <td>California</td>\n    </tr>\n    <tr>\n      <th>2017-06-11</th>\n      <td>1.79</td>\n      <td>179141.21</td>\n      <td>organic</td>\n      <td>2017</td>\n      <td>California</td>\n    </tr>\n    <tr>\n      <th>2017-06-04</th>\n      <td>1.64</td>\n      <td>206419.24</td>\n      <td>organic</td>\n      <td>2017</td>\n      <td>California</td>\n    </tr>\n    <tr>\n      <th>2017-05-28</th>\n      <td>1.76</td>\n      <td>197588.64</td>\n      <td>organic</td>\n      <td>2017</td>\n      <td>California</td>\n    </tr>\n    <tr>\n      <th>2017-05-21</th>\n      <td>1.78</td>\n      <td>183083.69</td>\n      <td>organic</td>\n      <td>2017</td>\n      <td>California</td>\n    </tr>\n    <tr>\n      <th>2017-05-14</th>\n      <td>1.76</td>\n      <td>167406.47</td>\n      <td>organic</td>\n      <td>2017</td>\n      <td>California</td>\n    </tr>\n    <tr>\n      <th>2017-05-07</th>\n      <td>1.59</td>\n      <td>211442.68</td>\n      <td>organic</td>\n      <td>2017</td>\n      <td>California</td>\n    </tr>\n    <tr>\n      <th>2017-04-30</th>\n      <td>1.61</td>\n      <td>199903.62</td>\n      <td>organic</td>\n      <td>2017</td>\n      <td>California</td>\n    </tr>\n    <tr>\n      <th>2017-04-23</th>\n      <td>1.60</td>\n      <td>197179.76</td>\n      <td>organic</td>\n      <td>2017</td>\n      <td>California</td>\n    </tr>\n    <tr>\n      <th>2017-04-16</th>\n      <td>1.67</td>\n      <td>194263.40</td>\n      <td>organic</td>\n      <td>2017</td>\n      <td>California</td>\n    </tr>\n    <tr>\n      <th>2017-04-09</th>\n      <td>1.63</td>\n      <td>186112.10</td>\n      <td>organic</td>\n      <td>2017</td>\n      <td>California</td>\n    </tr>\n    <tr>\n      <th>2017-04-02</th>\n      <td>1.64</td>\n      <td>191988.18</td>\n      <td>organic</td>\n      <td>2017</td>\n      <td>California</td>\n    </tr>\n    <tr>\n      <th>2017-03-26</th>\n      <td>1.70</td>\n      <td>194052.77</td>\n      <td>organic</td>\n      <td>2017</td>\n      <td>California</td>\n    </tr>\n    <tr>\n      <th>2017-03-19</th>\n      <td>1.57</td>\n      <td>209591.02</td>\n      <td>organic</td>\n      <td>2017</td>\n      <td>California</td>\n    </tr>\n    <tr>\n      <th>2017-03-12</th>\n      <td>1.53</td>\n      <td>210400.75</td>\n      <td>organic</td>\n      <td>2017</td>\n      <td>California</td>\n    </tr>\n    <tr>\n      <th>2017-03-05</th>\n      <td>1.45</td>\n      <td>220712.33</td>\n      <td>organic</td>\n      <td>2017</td>\n      <td>California</td>\n    </tr>\n    <tr>\n      <th>2017-02-26</th>\n      <td>1.34</td>\n      <td>215699.08</td>\n      <td>organic</td>\n      <td>2017</td>\n      <td>California</td>\n    </tr>\n    <tr>\n      <th>2017-02-19</th>\n      <td>1.50</td>\n      <td>183797.30</td>\n      <td>organic</td>\n      <td>2017</td>\n      <td>California</td>\n    </tr>\n    <tr>\n      <th>2017-02-12</th>\n      <td>1.54</td>\n      <td>151754.58</td>\n      <td>organic</td>\n      <td>2017</td>\n      <td>California</td>\n    </tr>\n    <tr>\n      <th>2017-02-05</th>\n      <td>1.36</td>\n      <td>169739.80</td>\n      <td>organic</td>\n      <td>2017</td>\n      <td>California</td>\n    </tr>\n    <tr>\n      <th>2017-01-29</th>\n      <td>1.44</td>\n      <td>165225.54</td>\n      <td>organic</td>\n      <td>2017</td>\n      <td>California</td>\n    </tr>\n    <tr>\n      <th>2017-01-22</th>\n      <td>1.53</td>\n      <td>136422.97</td>\n      <td>organic</td>\n      <td>2017</td>\n      <td>California</td>\n    </tr>\n    <tr>\n      <th>2017-01-15</th>\n      <td>1.66</td>\n      <td>142739.21</td>\n      <td>organic</td>\n      <td>2017</td>\n      <td>California</td>\n    </tr>\n    <tr>\n      <th>2017-01-08</th>\n      <td>1.50</td>\n      <td>177777.40</td>\n      <td>organic</td>\n      <td>2017</td>\n      <td>California</td>\n    </tr>\n    <tr>\n      <th>2017-01-01</th>\n      <td>1.46</td>\n      <td>164137.04</td>\n      <td>organic</td>\n      <td>2017</td>\n      <td>California</td>\n    </tr>\n  </tbody>\n</table>\n</div>"
     },
     "metadata": {},
     "execution_count": 203
    }
   ],
   "source": [
    "org_Cal"
   ]
  },
  {
   "cell_type": "code",
   "execution_count": 207,
   "metadata": {},
   "outputs": [
    {
     "output_type": "execute_result",
     "data": {
      "text/plain": "<matplotlib.axes._subplots.AxesSubplot at 0x11ffa7340>"
     },
     "metadata": {},
     "execution_count": 207
    },
    {
     "output_type": "display_data",
     "data": {
      "text/plain": "<Figure size 432x288 with 1 Axes>",
      "image/svg+xml": "<?xml version=\"1.0\" encoding=\"utf-8\" standalone=\"no\"?>\n<!DOCTYPE svg PUBLIC \"-//W3C//DTD SVG 1.1//EN\"\n  \"http://www.w3.org/Graphics/SVG/1.1/DTD/svg11.dtd\">\n<!-- Created with matplotlib (https://matplotlib.org/) -->\n<svg height=\"277.193281pt\" version=\"1.1\" viewBox=\"0 0 372.103125 277.193281\" width=\"372.103125pt\" xmlns=\"http://www.w3.org/2000/svg\" xmlns:xlink=\"http://www.w3.org/1999/xlink\">\n <defs>\n  <style type=\"text/css\">\n*{stroke-linecap:butt;stroke-linejoin:round;}\n  </style>\n </defs>\n <g id=\"figure_1\">\n  <g id=\"patch_1\">\n   <path d=\"M 0 277.193281 \nL 372.103125 277.193281 \nL 372.103125 0 \nL 0 0 \nz\n\" style=\"fill:none;\"/>\n  </g>\n  <g id=\"axes_1\">\n   <g id=\"patch_2\">\n    <path d=\"M 30.103125 228.439219 \nL 364.903125 228.439219 \nL 364.903125 10.999219 \nL 30.103125 10.999219 \nz\n\" style=\"fill:#ffffff;\"/>\n   </g>\n   <g id=\"matplotlib.axis_1\">\n    <g id=\"xtick_1\">\n     <g id=\"line2d_1\">\n      <defs>\n       <path d=\"M 0 0 \nL 0 3.5 \n\" id=\"mb46223b5cc\" style=\"stroke:#000000;stroke-width:0.8;\"/>\n      </defs>\n      <g>\n       <use style=\"stroke:#000000;stroke-width:0.8;\" x=\"30.103125\" xlink:href=\"#mb46223b5cc\" y=\"228.439219\"/>\n      </g>\n     </g>\n     <g id=\"text_1\">\n      <!-- Jan -->\n      <defs>\n       <path d=\"M 9.8125 72.90625 \nL 19.671875 72.90625 \nL 19.671875 5.078125 \nQ 19.671875 -8.109375 14.671875 -14.0625 \nQ 9.671875 -20.015625 -1.421875 -20.015625 \nL -5.171875 -20.015625 \nL -5.171875 -11.71875 \nL -2.09375 -11.71875 \nQ 4.4375 -11.71875 7.125 -8.046875 \nQ 9.8125 -4.390625 9.8125 5.078125 \nz\n\" id=\"DejaVuSans-74\"/>\n       <path d=\"M 34.28125 27.484375 \nQ 23.390625 27.484375 19.1875 25 \nQ 14.984375 22.515625 14.984375 16.5 \nQ 14.984375 11.71875 18.140625 8.90625 \nQ 21.296875 6.109375 26.703125 6.109375 \nQ 34.1875 6.109375 38.703125 11.40625 \nQ 43.21875 16.703125 43.21875 25.484375 \nL 43.21875 27.484375 \nz\nM 52.203125 31.203125 \nL 52.203125 0 \nL 43.21875 0 \nL 43.21875 8.296875 \nQ 40.140625 3.328125 35.546875 0.953125 \nQ 30.953125 -1.421875 24.3125 -1.421875 \nQ 15.921875 -1.421875 10.953125 3.296875 \nQ 6 8.015625 6 15.921875 \nQ 6 25.140625 12.171875 29.828125 \nQ 18.359375 34.515625 30.609375 34.515625 \nL 43.21875 34.515625 \nL 43.21875 35.40625 \nQ 43.21875 41.609375 39.140625 45 \nQ 35.0625 48.390625 27.6875 48.390625 \nQ 23 48.390625 18.546875 47.265625 \nQ 14.109375 46.140625 10.015625 43.890625 \nL 10.015625 52.203125 \nQ 14.9375 54.109375 19.578125 55.046875 \nQ 24.21875 56 28.609375 56 \nQ 40.484375 56 46.34375 49.84375 \nQ 52.203125 43.703125 52.203125 31.203125 \nz\n\" id=\"DejaVuSans-97\"/>\n       <path d=\"M 54.890625 33.015625 \nL 54.890625 0 \nL 45.90625 0 \nL 45.90625 32.71875 \nQ 45.90625 40.484375 42.875 44.328125 \nQ 39.84375 48.1875 33.796875 48.1875 \nQ 26.515625 48.1875 22.3125 43.546875 \nQ 18.109375 38.921875 18.109375 30.90625 \nL 18.109375 0 \nL 9.078125 0 \nL 9.078125 54.6875 \nL 18.109375 54.6875 \nL 18.109375 46.1875 \nQ 21.34375 51.125 25.703125 53.5625 \nQ 30.078125 56 35.796875 56 \nQ 45.21875 56 50.046875 50.171875 \nQ 54.890625 44.34375 54.890625 33.015625 \nz\n\" id=\"DejaVuSans-110\"/>\n      </defs>\n      <g transform=\"translate(22.395312 243.037656)scale(0.1 -0.1)\">\n       <use xlink:href=\"#DejaVuSans-74\"/>\n       <use x=\"29.492188\" xlink:href=\"#DejaVuSans-97\"/>\n       <use x=\"90.771484\" xlink:href=\"#DejaVuSans-110\"/>\n      </g>\n      <!-- 2017 -->\n      <defs>\n       <path d=\"M 19.1875 8.296875 \nL 53.609375 8.296875 \nL 53.609375 0 \nL 7.328125 0 \nL 7.328125 8.296875 \nQ 12.9375 14.109375 22.625 23.890625 \nQ 32.328125 33.6875 34.8125 36.53125 \nQ 39.546875 41.84375 41.421875 45.53125 \nQ 43.3125 49.21875 43.3125 52.78125 \nQ 43.3125 58.59375 39.234375 62.25 \nQ 35.15625 65.921875 28.609375 65.921875 \nQ 23.96875 65.921875 18.8125 64.3125 \nQ 13.671875 62.703125 7.8125 59.421875 \nL 7.8125 69.390625 \nQ 13.765625 71.78125 18.9375 73 \nQ 24.125 74.21875 28.421875 74.21875 \nQ 39.75 74.21875 46.484375 68.546875 \nQ 53.21875 62.890625 53.21875 53.421875 \nQ 53.21875 48.921875 51.53125 44.890625 \nQ 49.859375 40.875 45.40625 35.40625 \nQ 44.1875 33.984375 37.640625 27.21875 \nQ 31.109375 20.453125 19.1875 8.296875 \nz\n\" id=\"DejaVuSans-50\"/>\n       <path d=\"M 31.78125 66.40625 \nQ 24.171875 66.40625 20.328125 58.90625 \nQ 16.5 51.421875 16.5 36.375 \nQ 16.5 21.390625 20.328125 13.890625 \nQ 24.171875 6.390625 31.78125 6.390625 \nQ 39.453125 6.390625 43.28125 13.890625 \nQ 47.125 21.390625 47.125 36.375 \nQ 47.125 51.421875 43.28125 58.90625 \nQ 39.453125 66.40625 31.78125 66.40625 \nz\nM 31.78125 74.21875 \nQ 44.046875 74.21875 50.515625 64.515625 \nQ 56.984375 54.828125 56.984375 36.375 \nQ 56.984375 17.96875 50.515625 8.265625 \nQ 44.046875 -1.421875 31.78125 -1.421875 \nQ 19.53125 -1.421875 13.0625 8.265625 \nQ 6.59375 17.96875 6.59375 36.375 \nQ 6.59375 54.828125 13.0625 64.515625 \nQ 19.53125 74.21875 31.78125 74.21875 \nz\n\" id=\"DejaVuSans-48\"/>\n       <path d=\"M 12.40625 8.296875 \nL 28.515625 8.296875 \nL 28.515625 63.921875 \nL 10.984375 60.40625 \nL 10.984375 69.390625 \nL 28.421875 72.90625 \nL 38.28125 72.90625 \nL 38.28125 8.296875 \nL 54.390625 8.296875 \nL 54.390625 0 \nL 12.40625 0 \nz\n\" id=\"DejaVuSans-49\"/>\n       <path d=\"M 8.203125 72.90625 \nL 55.078125 72.90625 \nL 55.078125 68.703125 \nL 28.609375 0 \nL 18.3125 0 \nL 43.21875 64.59375 \nL 8.203125 64.59375 \nz\n\" id=\"DejaVuSans-55\"/>\n      </defs>\n      <g transform=\"translate(17.378125 254.235469)scale(0.1 -0.1)\">\n       <use xlink:href=\"#DejaVuSans-50\"/>\n       <use x=\"63.623047\" xlink:href=\"#DejaVuSans-48\"/>\n       <use x=\"127.246094\" xlink:href=\"#DejaVuSans-49\"/>\n       <use x=\"190.869141\" xlink:href=\"#DejaVuSans-55\"/>\n      </g>\n     </g>\n    </g>\n    <g id=\"xtick_2\">\n     <g id=\"line2d_2\">\n      <g>\n       <use style=\"stroke:#000000;stroke-width:0.8;\" x=\"62.295433\" xlink:href=\"#mb46223b5cc\" y=\"228.439219\"/>\n      </g>\n     </g>\n     <g id=\"text_2\">\n      <!-- Feb -->\n      <defs>\n       <path d=\"M 9.8125 72.90625 \nL 51.703125 72.90625 \nL 51.703125 64.59375 \nL 19.671875 64.59375 \nL 19.671875 43.109375 \nL 48.578125 43.109375 \nL 48.578125 34.8125 \nL 19.671875 34.8125 \nL 19.671875 0 \nL 9.8125 0 \nz\n\" id=\"DejaVuSans-70\"/>\n       <path d=\"M 56.203125 29.59375 \nL 56.203125 25.203125 \nL 14.890625 25.203125 \nQ 15.484375 15.921875 20.484375 11.0625 \nQ 25.484375 6.203125 34.421875 6.203125 \nQ 39.59375 6.203125 44.453125 7.46875 \nQ 49.3125 8.734375 54.109375 11.28125 \nL 54.109375 2.78125 \nQ 49.265625 0.734375 44.1875 -0.34375 \nQ 39.109375 -1.421875 33.890625 -1.421875 \nQ 20.796875 -1.421875 13.15625 6.1875 \nQ 5.515625 13.8125 5.515625 26.8125 \nQ 5.515625 40.234375 12.765625 48.109375 \nQ 20.015625 56 32.328125 56 \nQ 43.359375 56 49.78125 48.890625 \nQ 56.203125 41.796875 56.203125 29.59375 \nz\nM 47.21875 32.234375 \nQ 47.125 39.59375 43.09375 43.984375 \nQ 39.0625 48.390625 32.421875 48.390625 \nQ 24.90625 48.390625 20.390625 44.140625 \nQ 15.875 39.890625 15.1875 32.171875 \nz\n\" id=\"DejaVuSans-101\"/>\n       <path d=\"M 48.6875 27.296875 \nQ 48.6875 37.203125 44.609375 42.84375 \nQ 40.53125 48.484375 33.40625 48.484375 \nQ 26.265625 48.484375 22.1875 42.84375 \nQ 18.109375 37.203125 18.109375 27.296875 \nQ 18.109375 17.390625 22.1875 11.75 \nQ 26.265625 6.109375 33.40625 6.109375 \nQ 40.53125 6.109375 44.609375 11.75 \nQ 48.6875 17.390625 48.6875 27.296875 \nz\nM 18.109375 46.390625 \nQ 20.953125 51.265625 25.265625 53.625 \nQ 29.59375 56 35.59375 56 \nQ 45.5625 56 51.78125 48.09375 \nQ 58.015625 40.1875 58.015625 27.296875 \nQ 58.015625 14.40625 51.78125 6.484375 \nQ 45.5625 -1.421875 35.59375 -1.421875 \nQ 29.59375 -1.421875 25.265625 0.953125 \nQ 20.953125 3.328125 18.109375 8.203125 \nL 18.109375 0 \nL 9.078125 0 \nL 9.078125 75.984375 \nL 18.109375 75.984375 \nz\n\" id=\"DejaVuSans-98\"/>\n      </defs>\n      <g transform=\"translate(53.44387 243.037656)scale(0.1 -0.1)\">\n       <use xlink:href=\"#DejaVuSans-70\"/>\n       <use x=\"52.019531\" xlink:href=\"#DejaVuSans-101\"/>\n       <use x=\"113.542969\" xlink:href=\"#DejaVuSans-98\"/>\n      </g>\n     </g>\n    </g>\n    <g id=\"xtick_3\">\n     <g id=\"line2d_3\">\n      <g>\n       <use style=\"stroke:#000000;stroke-width:0.8;\" x=\"88.049279\" xlink:href=\"#mb46223b5cc\" y=\"228.439219\"/>\n      </g>\n     </g>\n     <g id=\"text_3\">\n      <!-- Mar -->\n      <defs>\n       <path d=\"M 9.8125 72.90625 \nL 24.515625 72.90625 \nL 43.109375 23.296875 \nL 61.8125 72.90625 \nL 76.515625 72.90625 \nL 76.515625 0 \nL 66.890625 0 \nL 66.890625 64.015625 \nL 48.09375 14.015625 \nL 38.1875 14.015625 \nL 19.390625 64.015625 \nL 19.390625 0 \nL 9.8125 0 \nz\n\" id=\"DejaVuSans-77\"/>\n       <path d=\"M 41.109375 46.296875 \nQ 39.59375 47.171875 37.8125 47.578125 \nQ 36.03125 48 33.890625 48 \nQ 26.265625 48 22.1875 43.046875 \nQ 18.109375 38.09375 18.109375 28.8125 \nL 18.109375 0 \nL 9.078125 0 \nL 9.078125 54.6875 \nL 18.109375 54.6875 \nL 18.109375 46.1875 \nQ 20.953125 51.171875 25.484375 53.578125 \nQ 30.03125 56 36.53125 56 \nQ 37.453125 56 38.578125 55.875 \nQ 39.703125 55.765625 41.0625 55.515625 \nz\n\" id=\"DejaVuSans-114\"/>\n      </defs>\n      <g transform=\"translate(78.615685 243.037656)scale(0.1 -0.1)\">\n       <use xlink:href=\"#DejaVuSans-77\"/>\n       <use x=\"86.279297\" xlink:href=\"#DejaVuSans-97\"/>\n       <use x=\"147.558594\" xlink:href=\"#DejaVuSans-114\"/>\n      </g>\n     </g>\n    </g>\n    <g id=\"xtick_4\">\n     <g id=\"line2d_4\">\n      <g>\n       <use style=\"stroke:#000000;stroke-width:0.8;\" x=\"113.803125\" xlink:href=\"#mb46223b5cc\" y=\"228.439219\"/>\n      </g>\n     </g>\n     <g id=\"text_4\">\n      <!-- Apr -->\n      <defs>\n       <path d=\"M 34.1875 63.1875 \nL 20.796875 26.90625 \nL 47.609375 26.90625 \nz\nM 28.609375 72.90625 \nL 39.796875 72.90625 \nL 67.578125 0 \nL 57.328125 0 \nL 50.6875 18.703125 \nL 17.828125 18.703125 \nL 11.1875 0 \nL 0.78125 0 \nz\n\" id=\"DejaVuSans-65\"/>\n       <path d=\"M 18.109375 8.203125 \nL 18.109375 -20.796875 \nL 9.078125 -20.796875 \nL 9.078125 54.6875 \nL 18.109375 54.6875 \nL 18.109375 46.390625 \nQ 20.953125 51.265625 25.265625 53.625 \nQ 29.59375 56 35.59375 56 \nQ 45.5625 56 51.78125 48.09375 \nQ 58.015625 40.1875 58.015625 27.296875 \nQ 58.015625 14.40625 51.78125 6.484375 \nQ 45.5625 -1.421875 35.59375 -1.421875 \nQ 29.59375 -1.421875 25.265625 0.953125 \nQ 20.953125 3.328125 18.109375 8.203125 \nz\nM 48.6875 27.296875 \nQ 48.6875 37.203125 44.609375 42.84375 \nQ 40.53125 48.484375 33.40625 48.484375 \nQ 26.265625 48.484375 22.1875 42.84375 \nQ 18.109375 37.203125 18.109375 27.296875 \nQ 18.109375 17.390625 22.1875 11.75 \nQ 26.265625 6.109375 33.40625 6.109375 \nQ 40.53125 6.109375 44.609375 11.75 \nQ 48.6875 17.390625 48.6875 27.296875 \nz\n\" id=\"DejaVuSans-112\"/>\n      </defs>\n      <g transform=\"translate(105.153125 243.037656)scale(0.1 -0.1)\">\n       <use xlink:href=\"#DejaVuSans-65\"/>\n       <use x=\"68.408203\" xlink:href=\"#DejaVuSans-112\"/>\n       <use x=\"131.884766\" xlink:href=\"#DejaVuSans-114\"/>\n      </g>\n     </g>\n    </g>\n    <g id=\"xtick_5\">\n     <g id=\"line2d_5\">\n      <g>\n       <use style=\"stroke:#000000;stroke-width:0.8;\" x=\"145.995433\" xlink:href=\"#mb46223b5cc\" y=\"228.439219\"/>\n      </g>\n     </g>\n     <g id=\"text_5\">\n      <!-- May -->\n      <defs>\n       <path d=\"M 32.171875 -5.078125 \nQ 28.375 -14.84375 24.75 -17.8125 \nQ 21.140625 -20.796875 15.09375 -20.796875 \nL 7.90625 -20.796875 \nL 7.90625 -13.28125 \nL 13.1875 -13.28125 \nQ 16.890625 -13.28125 18.9375 -11.515625 \nQ 21 -9.765625 23.484375 -3.21875 \nL 25.09375 0.875 \nL 2.984375 54.6875 \nL 12.5 54.6875 \nL 29.59375 11.921875 \nL 46.6875 54.6875 \nL 56.203125 54.6875 \nz\n\" id=\"DejaVuSans-121\"/>\n      </defs>\n      <g transform=\"translate(135.657933 243.037656)scale(0.1 -0.1)\">\n       <use xlink:href=\"#DejaVuSans-77\"/>\n       <use x=\"86.279297\" xlink:href=\"#DejaVuSans-97\"/>\n       <use x=\"147.558594\" xlink:href=\"#DejaVuSans-121\"/>\n      </g>\n     </g>\n    </g>\n    <g id=\"xtick_6\">\n     <g id=\"line2d_6\">\n      <g>\n       <use style=\"stroke:#000000;stroke-width:0.8;\" x=\"171.749279\" xlink:href=\"#mb46223b5cc\" y=\"228.439219\"/>\n      </g>\n     </g>\n     <g id=\"text_6\">\n      <!-- Jun -->\n      <defs>\n       <path d=\"M 8.5 21.578125 \nL 8.5 54.6875 \nL 17.484375 54.6875 \nL 17.484375 21.921875 \nQ 17.484375 14.15625 20.5 10.265625 \nQ 23.53125 6.390625 29.59375 6.390625 \nQ 36.859375 6.390625 41.078125 11.03125 \nQ 45.3125 15.671875 45.3125 23.6875 \nL 45.3125 54.6875 \nL 54.296875 54.6875 \nL 54.296875 0 \nL 45.3125 0 \nL 45.3125 8.40625 \nQ 42.046875 3.421875 37.71875 1 \nQ 33.40625 -1.421875 27.6875 -1.421875 \nQ 18.265625 -1.421875 13.375 4.4375 \nQ 8.5 10.296875 8.5 21.578125 \nz\nM 31.109375 56 \nz\n\" id=\"DejaVuSans-117\"/>\n      </defs>\n      <g transform=\"translate(163.936779 243.037656)scale(0.1 -0.1)\">\n       <use xlink:href=\"#DejaVuSans-74\"/>\n       <use x=\"29.492188\" xlink:href=\"#DejaVuSans-117\"/>\n       <use x=\"92.871094\" xlink:href=\"#DejaVuSans-110\"/>\n      </g>\n     </g>\n    </g>\n    <g id=\"xtick_7\">\n     <g id=\"line2d_7\">\n      <g>\n       <use style=\"stroke:#000000;stroke-width:0.8;\" x=\"197.503125\" xlink:href=\"#mb46223b5cc\" y=\"228.439219\"/>\n      </g>\n     </g>\n     <g id=\"text_7\">\n      <!-- Jul -->\n      <defs>\n       <path d=\"M 9.421875 75.984375 \nL 18.40625 75.984375 \nL 18.40625 0 \nL 9.421875 0 \nz\n\" id=\"DejaVuSans-108\"/>\n      </defs>\n      <g transform=\"translate(191.470312 243.037656)scale(0.1 -0.1)\">\n       <use xlink:href=\"#DejaVuSans-74\"/>\n       <use x=\"29.492188\" xlink:href=\"#DejaVuSans-117\"/>\n       <use x=\"92.871094\" xlink:href=\"#DejaVuSans-108\"/>\n      </g>\n     </g>\n    </g>\n    <g id=\"xtick_8\">\n     <g id=\"line2d_8\">\n      <g>\n       <use style=\"stroke:#000000;stroke-width:0.8;\" x=\"229.695433\" xlink:href=\"#mb46223b5cc\" y=\"228.439219\"/>\n      </g>\n     </g>\n     <g id=\"text_8\">\n      <!-- Aug -->\n      <defs>\n       <path d=\"M 45.40625 27.984375 \nQ 45.40625 37.75 41.375 43.109375 \nQ 37.359375 48.484375 30.078125 48.484375 \nQ 22.859375 48.484375 18.828125 43.109375 \nQ 14.796875 37.75 14.796875 27.984375 \nQ 14.796875 18.265625 18.828125 12.890625 \nQ 22.859375 7.515625 30.078125 7.515625 \nQ 37.359375 7.515625 41.375 12.890625 \nQ 45.40625 18.265625 45.40625 27.984375 \nz\nM 54.390625 6.78125 \nQ 54.390625 -7.171875 48.1875 -13.984375 \nQ 42 -20.796875 29.203125 -20.796875 \nQ 24.46875 -20.796875 20.265625 -20.09375 \nQ 16.0625 -19.390625 12.109375 -17.921875 \nL 12.109375 -9.1875 \nQ 16.0625 -11.328125 19.921875 -12.34375 \nQ 23.78125 -13.375 27.78125 -13.375 \nQ 36.625 -13.375 41.015625 -8.765625 \nQ 45.40625 -4.15625 45.40625 5.171875 \nL 45.40625 9.625 \nQ 42.625 4.78125 38.28125 2.390625 \nQ 33.9375 0 27.875 0 \nQ 17.828125 0 11.671875 7.65625 \nQ 5.515625 15.328125 5.515625 27.984375 \nQ 5.515625 40.671875 11.671875 48.328125 \nQ 17.828125 56 27.875 56 \nQ 33.9375 56 38.28125 53.609375 \nQ 42.625 51.21875 45.40625 46.390625 \nL 45.40625 54.6875 \nL 54.390625 54.6875 \nz\n\" id=\"DejaVuSans-103\"/>\n      </defs>\n      <g transform=\"translate(219.932151 243.037656)scale(0.1 -0.1)\">\n       <use xlink:href=\"#DejaVuSans-65\"/>\n       <use x=\"68.408203\" xlink:href=\"#DejaVuSans-117\"/>\n       <use x=\"131.787109\" xlink:href=\"#DejaVuSans-103\"/>\n      </g>\n     </g>\n    </g>\n    <g id=\"xtick_9\">\n     <g id=\"line2d_9\">\n      <g>\n       <use style=\"stroke:#000000;stroke-width:0.8;\" x=\"255.449279\" xlink:href=\"#mb46223b5cc\" y=\"228.439219\"/>\n      </g>\n     </g>\n     <g id=\"text_9\">\n      <!-- Sep -->\n      <defs>\n       <path d=\"M 53.515625 70.515625 \nL 53.515625 60.890625 \nQ 47.90625 63.578125 42.921875 64.890625 \nQ 37.9375 66.21875 33.296875 66.21875 \nQ 25.25 66.21875 20.875 63.09375 \nQ 16.5 59.96875 16.5 54.203125 \nQ 16.5 49.359375 19.40625 46.890625 \nQ 22.3125 44.4375 30.421875 42.921875 \nL 36.375 41.703125 \nQ 47.40625 39.59375 52.65625 34.296875 \nQ 57.90625 29 57.90625 20.125 \nQ 57.90625 9.515625 50.796875 4.046875 \nQ 43.703125 -1.421875 29.984375 -1.421875 \nQ 24.8125 -1.421875 18.96875 -0.25 \nQ 13.140625 0.921875 6.890625 3.21875 \nL 6.890625 13.375 \nQ 12.890625 10.015625 18.65625 8.296875 \nQ 24.421875 6.59375 29.984375 6.59375 \nQ 38.421875 6.59375 43.015625 9.90625 \nQ 47.609375 13.234375 47.609375 19.390625 \nQ 47.609375 24.75 44.3125 27.78125 \nQ 41.015625 30.8125 33.5 32.328125 \nL 27.484375 33.5 \nQ 16.453125 35.6875 11.515625 40.375 \nQ 6.59375 45.0625 6.59375 53.421875 \nQ 6.59375 63.09375 13.40625 68.65625 \nQ 20.21875 74.21875 32.171875 74.21875 \nQ 37.3125 74.21875 42.625 73.28125 \nQ 47.953125 72.359375 53.515625 70.515625 \nz\n\" id=\"DejaVuSans-83\"/>\n      </defs>\n      <g transform=\"translate(246.024279 243.037656)scale(0.1 -0.1)\">\n       <use xlink:href=\"#DejaVuSans-83\"/>\n       <use x=\"63.476562\" xlink:href=\"#DejaVuSans-101\"/>\n       <use x=\"125\" xlink:href=\"#DejaVuSans-112\"/>\n      </g>\n     </g>\n    </g>\n    <g id=\"xtick_10\">\n     <g id=\"line2d_10\">\n      <g>\n       <use style=\"stroke:#000000;stroke-width:0.8;\" x=\"281.203125\" xlink:href=\"#mb46223b5cc\" y=\"228.439219\"/>\n      </g>\n     </g>\n     <g id=\"text_10\">\n      <!-- Oct -->\n      <defs>\n       <path d=\"M 39.40625 66.21875 \nQ 28.65625 66.21875 22.328125 58.203125 \nQ 16.015625 50.203125 16.015625 36.375 \nQ 16.015625 22.609375 22.328125 14.59375 \nQ 28.65625 6.59375 39.40625 6.59375 \nQ 50.140625 6.59375 56.421875 14.59375 \nQ 62.703125 22.609375 62.703125 36.375 \nQ 62.703125 50.203125 56.421875 58.203125 \nQ 50.140625 66.21875 39.40625 66.21875 \nz\nM 39.40625 74.21875 \nQ 54.734375 74.21875 63.90625 63.9375 \nQ 73.09375 53.65625 73.09375 36.375 \nQ 73.09375 19.140625 63.90625 8.859375 \nQ 54.734375 -1.421875 39.40625 -1.421875 \nQ 24.03125 -1.421875 14.8125 8.828125 \nQ 5.609375 19.09375 5.609375 36.375 \nQ 5.609375 53.65625 14.8125 63.9375 \nQ 24.03125 74.21875 39.40625 74.21875 \nz\n\" id=\"DejaVuSans-79\"/>\n       <path d=\"M 48.78125 52.59375 \nL 48.78125 44.1875 \nQ 44.96875 46.296875 41.140625 47.34375 \nQ 37.3125 48.390625 33.40625 48.390625 \nQ 24.65625 48.390625 19.8125 42.84375 \nQ 14.984375 37.3125 14.984375 27.296875 \nQ 14.984375 17.28125 19.8125 11.734375 \nQ 24.65625 6.203125 33.40625 6.203125 \nQ 37.3125 6.203125 41.140625 7.25 \nQ 44.96875 8.296875 48.78125 10.40625 \nL 48.78125 2.09375 \nQ 45.015625 0.34375 40.984375 -0.53125 \nQ 36.96875 -1.421875 32.421875 -1.421875 \nQ 20.0625 -1.421875 12.78125 6.34375 \nQ 5.515625 14.109375 5.515625 27.296875 \nQ 5.515625 40.671875 12.859375 48.328125 \nQ 20.21875 56 33.015625 56 \nQ 37.15625 56 41.109375 55.140625 \nQ 45.0625 54.296875 48.78125 52.59375 \nz\n\" id=\"DejaVuSans-99\"/>\n       <path d=\"M 18.3125 70.21875 \nL 18.3125 54.6875 \nL 36.8125 54.6875 \nL 36.8125 47.703125 \nL 18.3125 47.703125 \nL 18.3125 18.015625 \nQ 18.3125 11.328125 20.140625 9.421875 \nQ 21.96875 7.515625 27.59375 7.515625 \nL 36.8125 7.515625 \nL 36.8125 0 \nL 27.59375 0 \nQ 17.1875 0 13.234375 3.875 \nQ 9.28125 7.765625 9.28125 18.015625 \nL 9.28125 47.703125 \nL 2.6875 47.703125 \nL 2.6875 54.6875 \nL 9.28125 54.6875 \nL 9.28125 70.21875 \nz\n\" id=\"DejaVuSans-116\"/>\n      </defs>\n      <g transform=\"translate(272.557813 243.037656)scale(0.1 -0.1)\">\n       <use xlink:href=\"#DejaVuSans-79\"/>\n       <use x=\"78.710938\" xlink:href=\"#DejaVuSans-99\"/>\n       <use x=\"133.691406\" xlink:href=\"#DejaVuSans-116\"/>\n      </g>\n     </g>\n    </g>\n    <g id=\"xtick_11\">\n     <g id=\"line2d_11\">\n      <g>\n       <use style=\"stroke:#000000;stroke-width:0.8;\" x=\"313.395433\" xlink:href=\"#mb46223b5cc\" y=\"228.439219\"/>\n      </g>\n     </g>\n     <g id=\"text_11\">\n      <!-- Nov -->\n      <defs>\n       <path d=\"M 9.8125 72.90625 \nL 23.09375 72.90625 \nL 55.421875 11.921875 \nL 55.421875 72.90625 \nL 64.984375 72.90625 \nL 64.984375 0 \nL 51.703125 0 \nL 19.390625 60.984375 \nL 19.390625 0 \nL 9.8125 0 \nz\n\" id=\"DejaVuSans-78\"/>\n       <path d=\"M 30.609375 48.390625 \nQ 23.390625 48.390625 19.1875 42.75 \nQ 14.984375 37.109375 14.984375 27.296875 \nQ 14.984375 17.484375 19.15625 11.84375 \nQ 23.34375 6.203125 30.609375 6.203125 \nQ 37.796875 6.203125 41.984375 11.859375 \nQ 46.1875 17.53125 46.1875 27.296875 \nQ 46.1875 37.015625 41.984375 42.703125 \nQ 37.796875 48.390625 30.609375 48.390625 \nz\nM 30.609375 56 \nQ 42.328125 56 49.015625 48.375 \nQ 55.71875 40.765625 55.71875 27.296875 \nQ 55.71875 13.875 49.015625 6.21875 \nQ 42.328125 -1.421875 30.609375 -1.421875 \nQ 18.84375 -1.421875 12.171875 6.21875 \nQ 5.515625 13.875 5.515625 27.296875 \nQ 5.515625 40.765625 12.171875 48.375 \nQ 18.84375 56 30.609375 56 \nz\n\" id=\"DejaVuSans-111\"/>\n       <path d=\"M 2.984375 54.6875 \nL 12.5 54.6875 \nL 29.59375 8.796875 \nL 46.6875 54.6875 \nL 56.203125 54.6875 \nL 35.6875 0 \nL 23.484375 0 \nz\n\" id=\"DejaVuSans-118\"/>\n      </defs>\n      <g transform=\"translate(303.636058 243.037656)scale(0.1 -0.1)\">\n       <use xlink:href=\"#DejaVuSans-78\"/>\n       <use x=\"74.804688\" xlink:href=\"#DejaVuSans-111\"/>\n       <use x=\"135.986328\" xlink:href=\"#DejaVuSans-118\"/>\n      </g>\n     </g>\n    </g>\n    <g id=\"xtick_12\">\n     <g id=\"line2d_12\">\n      <g>\n       <use style=\"stroke:#000000;stroke-width:0.8;\" x=\"339.149279\" xlink:href=\"#mb46223b5cc\" y=\"228.439219\"/>\n      </g>\n     </g>\n     <g id=\"text_12\">\n      <!-- Dec -->\n      <defs>\n       <path d=\"M 19.671875 64.796875 \nL 19.671875 8.109375 \nL 31.59375 8.109375 \nQ 46.6875 8.109375 53.6875 14.9375 \nQ 60.6875 21.78125 60.6875 36.53125 \nQ 60.6875 51.171875 53.6875 57.984375 \nQ 46.6875 64.796875 31.59375 64.796875 \nz\nM 9.8125 72.90625 \nL 30.078125 72.90625 \nQ 51.265625 72.90625 61.171875 64.09375 \nQ 71.09375 55.28125 71.09375 36.53125 \nQ 71.09375 17.671875 61.125 8.828125 \nQ 51.171875 0 30.078125 0 \nL 9.8125 0 \nz\n\" id=\"DejaVuSans-68\"/>\n      </defs>\n      <g transform=\"translate(329.473498 243.037656)scale(0.1 -0.1)\">\n       <use xlink:href=\"#DejaVuSans-68\"/>\n       <use x=\"77.001953\" xlink:href=\"#DejaVuSans-101\"/>\n       <use x=\"138.525391\" xlink:href=\"#DejaVuSans-99\"/>\n      </g>\n     </g>\n    </g>\n    <g id=\"xtick_13\">\n     <g id=\"line2d_13\">\n      <g>\n       <use style=\"stroke:#000000;stroke-width:0.8;\" x=\"364.903125\" xlink:href=\"#mb46223b5cc\" y=\"228.439219\"/>\n      </g>\n     </g>\n    </g>\n    <g id=\"xtick_14\">\n     <g id=\"line2d_14\">\n      <defs>\n       <path d=\"M 0 0 \nL 0 2 \n\" id=\"m5d0adca628\" style=\"stroke:#000000;stroke-width:0.6;\"/>\n      </defs>\n      <g>\n       <use style=\"stroke:#000000;stroke-width:0.6;\" x=\"36.541587\" xlink:href=\"#m5d0adca628\" y=\"228.439219\"/>\n      </g>\n     </g>\n    </g>\n    <g id=\"xtick_15\">\n     <g id=\"line2d_15\">\n      <g>\n       <use style=\"stroke:#000000;stroke-width:0.6;\" x=\"42.980048\" xlink:href=\"#m5d0adca628\" y=\"228.439219\"/>\n      </g>\n     </g>\n    </g>\n    <g id=\"xtick_16\">\n     <g id=\"line2d_16\">\n      <g>\n       <use style=\"stroke:#000000;stroke-width:0.6;\" x=\"49.41851\" xlink:href=\"#m5d0adca628\" y=\"228.439219\"/>\n      </g>\n     </g>\n    </g>\n    <g id=\"xtick_17\">\n     <g id=\"line2d_17\">\n      <g>\n       <use style=\"stroke:#000000;stroke-width:0.6;\" x=\"55.856971\" xlink:href=\"#m5d0adca628\" y=\"228.439219\"/>\n      </g>\n     </g>\n    </g>\n    <g id=\"xtick_18\">\n     <g id=\"line2d_18\">\n      <g>\n       <use style=\"stroke:#000000;stroke-width:0.6;\" x=\"68.733894\" xlink:href=\"#m5d0adca628\" y=\"228.439219\"/>\n      </g>\n     </g>\n    </g>\n    <g id=\"xtick_19\">\n     <g id=\"line2d_19\">\n      <g>\n       <use style=\"stroke:#000000;stroke-width:0.6;\" x=\"75.172356\" xlink:href=\"#m5d0adca628\" y=\"228.439219\"/>\n      </g>\n     </g>\n    </g>\n    <g id=\"xtick_20\">\n     <g id=\"line2d_20\">\n      <g>\n       <use style=\"stroke:#000000;stroke-width:0.6;\" x=\"81.610817\" xlink:href=\"#m5d0adca628\" y=\"228.439219\"/>\n      </g>\n     </g>\n    </g>\n    <g id=\"xtick_21\">\n     <g id=\"line2d_21\">\n      <g>\n       <use style=\"stroke:#000000;stroke-width:0.6;\" x=\"94.48774\" xlink:href=\"#m5d0adca628\" y=\"228.439219\"/>\n      </g>\n     </g>\n    </g>\n    <g id=\"xtick_22\">\n     <g id=\"line2d_22\">\n      <g>\n       <use style=\"stroke:#000000;stroke-width:0.6;\" x=\"100.926202\" xlink:href=\"#m5d0adca628\" y=\"228.439219\"/>\n      </g>\n     </g>\n    </g>\n    <g id=\"xtick_23\">\n     <g id=\"line2d_23\">\n      <g>\n       <use style=\"stroke:#000000;stroke-width:0.6;\" x=\"107.364663\" xlink:href=\"#m5d0adca628\" y=\"228.439219\"/>\n      </g>\n     </g>\n    </g>\n    <g id=\"xtick_24\">\n     <g id=\"line2d_24\">\n      <g>\n       <use style=\"stroke:#000000;stroke-width:0.6;\" x=\"120.241587\" xlink:href=\"#m5d0adca628\" y=\"228.439219\"/>\n      </g>\n     </g>\n    </g>\n    <g id=\"xtick_25\">\n     <g id=\"line2d_25\">\n      <g>\n       <use style=\"stroke:#000000;stroke-width:0.6;\" x=\"126.680048\" xlink:href=\"#m5d0adca628\" y=\"228.439219\"/>\n      </g>\n     </g>\n    </g>\n    <g id=\"xtick_26\">\n     <g id=\"line2d_26\">\n      <g>\n       <use style=\"stroke:#000000;stroke-width:0.6;\" x=\"133.11851\" xlink:href=\"#m5d0adca628\" y=\"228.439219\"/>\n      </g>\n     </g>\n    </g>\n    <g id=\"xtick_27\">\n     <g id=\"line2d_27\">\n      <g>\n       <use style=\"stroke:#000000;stroke-width:0.6;\" x=\"139.556971\" xlink:href=\"#m5d0adca628\" y=\"228.439219\"/>\n      </g>\n     </g>\n    </g>\n    <g id=\"xtick_28\">\n     <g id=\"line2d_28\">\n      <g>\n       <use style=\"stroke:#000000;stroke-width:0.6;\" x=\"152.433894\" xlink:href=\"#m5d0adca628\" y=\"228.439219\"/>\n      </g>\n     </g>\n    </g>\n    <g id=\"xtick_29\">\n     <g id=\"line2d_29\">\n      <g>\n       <use style=\"stroke:#000000;stroke-width:0.6;\" x=\"158.872356\" xlink:href=\"#m5d0adca628\" y=\"228.439219\"/>\n      </g>\n     </g>\n    </g>\n    <g id=\"xtick_30\">\n     <g id=\"line2d_30\">\n      <g>\n       <use style=\"stroke:#000000;stroke-width:0.6;\" x=\"165.310817\" xlink:href=\"#m5d0adca628\" y=\"228.439219\"/>\n      </g>\n     </g>\n    </g>\n    <g id=\"xtick_31\">\n     <g id=\"line2d_31\">\n      <g>\n       <use style=\"stroke:#000000;stroke-width:0.6;\" x=\"178.18774\" xlink:href=\"#m5d0adca628\" y=\"228.439219\"/>\n      </g>\n     </g>\n    </g>\n    <g id=\"xtick_32\">\n     <g id=\"line2d_32\">\n      <g>\n       <use style=\"stroke:#000000;stroke-width:0.6;\" x=\"184.626202\" xlink:href=\"#m5d0adca628\" y=\"228.439219\"/>\n      </g>\n     </g>\n    </g>\n    <g id=\"xtick_33\">\n     <g id=\"line2d_33\">\n      <g>\n       <use style=\"stroke:#000000;stroke-width:0.6;\" x=\"191.064663\" xlink:href=\"#m5d0adca628\" y=\"228.439219\"/>\n      </g>\n     </g>\n    </g>\n    <g id=\"xtick_34\">\n     <g id=\"line2d_34\">\n      <g>\n       <use style=\"stroke:#000000;stroke-width:0.6;\" x=\"203.941587\" xlink:href=\"#m5d0adca628\" y=\"228.439219\"/>\n      </g>\n     </g>\n    </g>\n    <g id=\"xtick_35\">\n     <g id=\"line2d_35\">\n      <g>\n       <use style=\"stroke:#000000;stroke-width:0.6;\" x=\"210.380048\" xlink:href=\"#m5d0adca628\" y=\"228.439219\"/>\n      </g>\n     </g>\n    </g>\n    <g id=\"xtick_36\">\n     <g id=\"line2d_36\">\n      <g>\n       <use style=\"stroke:#000000;stroke-width:0.6;\" x=\"216.81851\" xlink:href=\"#m5d0adca628\" y=\"228.439219\"/>\n      </g>\n     </g>\n    </g>\n    <g id=\"xtick_37\">\n     <g id=\"line2d_37\">\n      <g>\n       <use style=\"stroke:#000000;stroke-width:0.6;\" x=\"223.256971\" xlink:href=\"#m5d0adca628\" y=\"228.439219\"/>\n      </g>\n     </g>\n    </g>\n    <g id=\"xtick_38\">\n     <g id=\"line2d_38\">\n      <g>\n       <use style=\"stroke:#000000;stroke-width:0.6;\" x=\"236.133894\" xlink:href=\"#m5d0adca628\" y=\"228.439219\"/>\n      </g>\n     </g>\n    </g>\n    <g id=\"xtick_39\">\n     <g id=\"line2d_39\">\n      <g>\n       <use style=\"stroke:#000000;stroke-width:0.6;\" x=\"242.572356\" xlink:href=\"#m5d0adca628\" y=\"228.439219\"/>\n      </g>\n     </g>\n    </g>\n    <g id=\"xtick_40\">\n     <g id=\"line2d_40\">\n      <g>\n       <use style=\"stroke:#000000;stroke-width:0.6;\" x=\"249.010817\" xlink:href=\"#m5d0adca628\" y=\"228.439219\"/>\n      </g>\n     </g>\n    </g>\n    <g id=\"xtick_41\">\n     <g id=\"line2d_41\">\n      <g>\n       <use style=\"stroke:#000000;stroke-width:0.6;\" x=\"261.88774\" xlink:href=\"#m5d0adca628\" y=\"228.439219\"/>\n      </g>\n     </g>\n    </g>\n    <g id=\"xtick_42\">\n     <g id=\"line2d_42\">\n      <g>\n       <use style=\"stroke:#000000;stroke-width:0.6;\" x=\"268.326202\" xlink:href=\"#m5d0adca628\" y=\"228.439219\"/>\n      </g>\n     </g>\n    </g>\n    <g id=\"xtick_43\">\n     <g id=\"line2d_43\">\n      <g>\n       <use style=\"stroke:#000000;stroke-width:0.6;\" x=\"274.764663\" xlink:href=\"#m5d0adca628\" y=\"228.439219\"/>\n      </g>\n     </g>\n    </g>\n    <g id=\"xtick_44\">\n     <g id=\"line2d_44\">\n      <g>\n       <use style=\"stroke:#000000;stroke-width:0.6;\" x=\"287.641587\" xlink:href=\"#m5d0adca628\" y=\"228.439219\"/>\n      </g>\n     </g>\n    </g>\n    <g id=\"xtick_45\">\n     <g id=\"line2d_45\">\n      <g>\n       <use style=\"stroke:#000000;stroke-width:0.6;\" x=\"294.080048\" xlink:href=\"#m5d0adca628\" y=\"228.439219\"/>\n      </g>\n     </g>\n    </g>\n    <g id=\"xtick_46\">\n     <g id=\"line2d_46\">\n      <g>\n       <use style=\"stroke:#000000;stroke-width:0.6;\" x=\"300.51851\" xlink:href=\"#m5d0adca628\" y=\"228.439219\"/>\n      </g>\n     </g>\n    </g>\n    <g id=\"xtick_47\">\n     <g id=\"line2d_47\">\n      <g>\n       <use style=\"stroke:#000000;stroke-width:0.6;\" x=\"306.956971\" xlink:href=\"#m5d0adca628\" y=\"228.439219\"/>\n      </g>\n     </g>\n    </g>\n    <g id=\"xtick_48\">\n     <g id=\"line2d_48\">\n      <g>\n       <use style=\"stroke:#000000;stroke-width:0.6;\" x=\"319.833894\" xlink:href=\"#m5d0adca628\" y=\"228.439219\"/>\n      </g>\n     </g>\n    </g>\n    <g id=\"xtick_49\">\n     <g id=\"line2d_49\">\n      <g>\n       <use style=\"stroke:#000000;stroke-width:0.6;\" x=\"326.272356\" xlink:href=\"#m5d0adca628\" y=\"228.439219\"/>\n      </g>\n     </g>\n    </g>\n    <g id=\"xtick_50\">\n     <g id=\"line2d_50\">\n      <g>\n       <use style=\"stroke:#000000;stroke-width:0.6;\" x=\"332.710817\" xlink:href=\"#m5d0adca628\" y=\"228.439219\"/>\n      </g>\n     </g>\n    </g>\n    <g id=\"xtick_51\">\n     <g id=\"line2d_51\">\n      <g>\n       <use style=\"stroke:#000000;stroke-width:0.6;\" x=\"345.58774\" xlink:href=\"#m5d0adca628\" y=\"228.439219\"/>\n      </g>\n     </g>\n    </g>\n    <g id=\"xtick_52\">\n     <g id=\"line2d_52\">\n      <g>\n       <use style=\"stroke:#000000;stroke-width:0.6;\" x=\"352.026202\" xlink:href=\"#m5d0adca628\" y=\"228.439219\"/>\n      </g>\n     </g>\n    </g>\n    <g id=\"xtick_53\">\n     <g id=\"line2d_53\">\n      <g>\n       <use style=\"stroke:#000000;stroke-width:0.6;\" x=\"358.464663\" xlink:href=\"#m5d0adca628\" y=\"228.439219\"/>\n      </g>\n     </g>\n    </g>\n    <g id=\"text_13\">\n     <!-- Date -->\n     <g transform=\"translate(185.552344 267.913594)scale(0.1 -0.1)\">\n      <use xlink:href=\"#DejaVuSans-68\"/>\n      <use x=\"77.001953\" xlink:href=\"#DejaVuSans-97\"/>\n      <use x=\"138.28125\" xlink:href=\"#DejaVuSans-116\"/>\n      <use x=\"177.490234\" xlink:href=\"#DejaVuSans-101\"/>\n     </g>\n    </g>\n   </g>\n   <g id=\"matplotlib.axis_2\">\n    <g id=\"ytick_1\">\n     <g id=\"line2d_54\">\n      <defs>\n       <path d=\"M 0 0 \nL -3.5 0 \n\" id=\"m2902bfdd4c\" style=\"stroke:#000000;stroke-width:0.8;\"/>\n      </defs>\n      <g>\n       <use style=\"stroke:#000000;stroke-width:0.8;\" x=\"30.103125\" xlink:href=\"#m2902bfdd4c\" y=\"208.671946\"/>\n      </g>\n     </g>\n     <g id=\"text_14\">\n      <!-- 1.4 -->\n      <defs>\n       <path d=\"M 10.6875 12.40625 \nL 21 12.40625 \nL 21 0 \nL 10.6875 0 \nz\n\" id=\"DejaVuSans-46\"/>\n       <path d=\"M 37.796875 64.3125 \nL 12.890625 25.390625 \nL 37.796875 25.390625 \nz\nM 35.203125 72.90625 \nL 47.609375 72.90625 \nL 47.609375 25.390625 \nL 58.015625 25.390625 \nL 58.015625 17.1875 \nL 47.609375 17.1875 \nL 47.609375 0 \nL 37.796875 0 \nL 37.796875 17.1875 \nL 4.890625 17.1875 \nL 4.890625 26.703125 \nz\n\" id=\"DejaVuSans-52\"/>\n      </defs>\n      <g transform=\"translate(7.2 212.471165)scale(0.1 -0.1)\">\n       <use xlink:href=\"#DejaVuSans-49\"/>\n       <use x=\"63.623047\" xlink:href=\"#DejaVuSans-46\"/>\n       <use x=\"95.410156\" xlink:href=\"#DejaVuSans-52\"/>\n      </g>\n     </g>\n    </g>\n    <g id=\"ytick_2\">\n     <g id=\"line2d_55\">\n      <g>\n       <use style=\"stroke:#000000;stroke-width:0.8;\" x=\"30.103125\" xlink:href=\"#m2902bfdd4c\" y=\"175.726491\"/>\n      </g>\n     </g>\n     <g id=\"text_15\">\n      <!-- 1.6 -->\n      <defs>\n       <path d=\"M 33.015625 40.375 \nQ 26.375 40.375 22.484375 35.828125 \nQ 18.609375 31.296875 18.609375 23.390625 \nQ 18.609375 15.53125 22.484375 10.953125 \nQ 26.375 6.390625 33.015625 6.390625 \nQ 39.65625 6.390625 43.53125 10.953125 \nQ 47.40625 15.53125 47.40625 23.390625 \nQ 47.40625 31.296875 43.53125 35.828125 \nQ 39.65625 40.375 33.015625 40.375 \nz\nM 52.59375 71.296875 \nL 52.59375 62.3125 \nQ 48.875 64.0625 45.09375 64.984375 \nQ 41.3125 65.921875 37.59375 65.921875 \nQ 27.828125 65.921875 22.671875 59.328125 \nQ 17.53125 52.734375 16.796875 39.40625 \nQ 19.671875 43.65625 24.015625 45.921875 \nQ 28.375 48.1875 33.59375 48.1875 \nQ 44.578125 48.1875 50.953125 41.515625 \nQ 57.328125 34.859375 57.328125 23.390625 \nQ 57.328125 12.15625 50.6875 5.359375 \nQ 44.046875 -1.421875 33.015625 -1.421875 \nQ 20.359375 -1.421875 13.671875 8.265625 \nQ 6.984375 17.96875 6.984375 36.375 \nQ 6.984375 53.65625 15.1875 63.9375 \nQ 23.390625 74.21875 37.203125 74.21875 \nQ 40.921875 74.21875 44.703125 73.484375 \nQ 48.484375 72.75 52.59375 71.296875 \nz\n\" id=\"DejaVuSans-54\"/>\n      </defs>\n      <g transform=\"translate(7.2 179.52571)scale(0.1 -0.1)\">\n       <use xlink:href=\"#DejaVuSans-49\"/>\n       <use x=\"63.623047\" xlink:href=\"#DejaVuSans-46\"/>\n       <use x=\"95.410156\" xlink:href=\"#DejaVuSans-54\"/>\n      </g>\n     </g>\n    </g>\n    <g id=\"ytick_3\">\n     <g id=\"line2d_56\">\n      <g>\n       <use style=\"stroke:#000000;stroke-width:0.8;\" x=\"30.103125\" xlink:href=\"#m2902bfdd4c\" y=\"142.781037\"/>\n      </g>\n     </g>\n     <g id=\"text_16\">\n      <!-- 1.8 -->\n      <defs>\n       <path d=\"M 31.78125 34.625 \nQ 24.75 34.625 20.71875 30.859375 \nQ 16.703125 27.09375 16.703125 20.515625 \nQ 16.703125 13.921875 20.71875 10.15625 \nQ 24.75 6.390625 31.78125 6.390625 \nQ 38.8125 6.390625 42.859375 10.171875 \nQ 46.921875 13.96875 46.921875 20.515625 \nQ 46.921875 27.09375 42.890625 30.859375 \nQ 38.875 34.625 31.78125 34.625 \nz\nM 21.921875 38.8125 \nQ 15.578125 40.375 12.03125 44.71875 \nQ 8.5 49.078125 8.5 55.328125 \nQ 8.5 64.0625 14.71875 69.140625 \nQ 20.953125 74.21875 31.78125 74.21875 \nQ 42.671875 74.21875 48.875 69.140625 \nQ 55.078125 64.0625 55.078125 55.328125 \nQ 55.078125 49.078125 51.53125 44.71875 \nQ 48 40.375 41.703125 38.8125 \nQ 48.828125 37.15625 52.796875 32.3125 \nQ 56.78125 27.484375 56.78125 20.515625 \nQ 56.78125 9.90625 50.3125 4.234375 \nQ 43.84375 -1.421875 31.78125 -1.421875 \nQ 19.734375 -1.421875 13.25 4.234375 \nQ 6.78125 9.90625 6.78125 20.515625 \nQ 6.78125 27.484375 10.78125 32.3125 \nQ 14.796875 37.15625 21.921875 38.8125 \nz\nM 18.3125 54.390625 \nQ 18.3125 48.734375 21.84375 45.5625 \nQ 25.390625 42.390625 31.78125 42.390625 \nQ 38.140625 42.390625 41.71875 45.5625 \nQ 45.3125 48.734375 45.3125 54.390625 \nQ 45.3125 60.0625 41.71875 63.234375 \nQ 38.140625 66.40625 31.78125 66.40625 \nQ 25.390625 66.40625 21.84375 63.234375 \nQ 18.3125 60.0625 18.3125 54.390625 \nz\n\" id=\"DejaVuSans-56\"/>\n      </defs>\n      <g transform=\"translate(7.2 146.580256)scale(0.1 -0.1)\">\n       <use xlink:href=\"#DejaVuSans-49\"/>\n       <use x=\"63.623047\" xlink:href=\"#DejaVuSans-46\"/>\n       <use x=\"95.410156\" xlink:href=\"#DejaVuSans-56\"/>\n      </g>\n     </g>\n    </g>\n    <g id=\"ytick_4\">\n     <g id=\"line2d_57\">\n      <g>\n       <use style=\"stroke:#000000;stroke-width:0.8;\" x=\"30.103125\" xlink:href=\"#m2902bfdd4c\" y=\"109.835582\"/>\n      </g>\n     </g>\n     <g id=\"text_17\">\n      <!-- 2.0 -->\n      <g transform=\"translate(7.2 113.634801)scale(0.1 -0.1)\">\n       <use xlink:href=\"#DejaVuSans-50\"/>\n       <use x=\"63.623047\" xlink:href=\"#DejaVuSans-46\"/>\n       <use x=\"95.410156\" xlink:href=\"#DejaVuSans-48\"/>\n      </g>\n     </g>\n    </g>\n    <g id=\"ytick_5\">\n     <g id=\"line2d_58\">\n      <g>\n       <use style=\"stroke:#000000;stroke-width:0.8;\" x=\"30.103125\" xlink:href=\"#m2902bfdd4c\" y=\"76.890128\"/>\n      </g>\n     </g>\n     <g id=\"text_18\">\n      <!-- 2.2 -->\n      <g transform=\"translate(7.2 80.689347)scale(0.1 -0.1)\">\n       <use xlink:href=\"#DejaVuSans-50\"/>\n       <use x=\"63.623047\" xlink:href=\"#DejaVuSans-46\"/>\n       <use x=\"95.410156\" xlink:href=\"#DejaVuSans-50\"/>\n      </g>\n     </g>\n    </g>\n    <g id=\"ytick_6\">\n     <g id=\"line2d_59\">\n      <g>\n       <use style=\"stroke:#000000;stroke-width:0.8;\" x=\"30.103125\" xlink:href=\"#m2902bfdd4c\" y=\"43.944673\"/>\n      </g>\n     </g>\n     <g id=\"text_19\">\n      <!-- 2.4 -->\n      <g transform=\"translate(7.2 47.743892)scale(0.1 -0.1)\">\n       <use xlink:href=\"#DejaVuSans-50\"/>\n       <use x=\"63.623047\" xlink:href=\"#DejaVuSans-46\"/>\n       <use x=\"95.410156\" xlink:href=\"#DejaVuSans-52\"/>\n      </g>\n     </g>\n    </g>\n    <g id=\"ytick_7\">\n     <g id=\"line2d_60\">\n      <g>\n       <use style=\"stroke:#000000;stroke-width:0.8;\" x=\"30.103125\" xlink:href=\"#m2902bfdd4c\" y=\"10.999219\"/>\n      </g>\n     </g>\n     <g id=\"text_20\">\n      <!-- 2.6 -->\n      <g transform=\"translate(7.2 14.798437)scale(0.1 -0.1)\">\n       <use xlink:href=\"#DejaVuSans-50\"/>\n       <use x=\"63.623047\" xlink:href=\"#DejaVuSans-46\"/>\n       <use x=\"95.410156\" xlink:href=\"#DejaVuSans-54\"/>\n      </g>\n     </g>\n    </g>\n   </g>\n   <g id=\"line2d_61\">\n    <path clip-path=\"url(#pc66034841e)\" d=\"M 364.903125 157.606491 \nL 358.464663 139.486491 \nL 352.026202 151.017401 \nL 345.58774 127.955582 \nL 339.149279 141.133764 \nL 332.710817 109.835582 \nL 326.272356 113.130128 \nL 319.833894 111.482855 \nL 313.395433 149.370128 \nL 306.956971 108.18831 \nL 300.51851 109.835582 \nL 294.080048 93.362855 \nL 287.641587 81.831946 \nL 281.203125 96.657401 \nL 274.764663 101.599219 \nL 268.326202 80.184673 \nL 261.88774 76.890128 \nL 255.449279 95.010128 \nL 249.010817 20.882855 \nL 242.572356 48.886491 \nL 236.133894 75.242855 \nL 229.695433 80.184673 \nL 223.256971 86.773764 \nL 216.81851 81.831946 \nL 210.380048 86.773764 \nL 203.941587 172.431946 \nL 197.503125 154.311946 \nL 191.064663 165.842855 \nL 184.626202 146.075582 \nL 178.18774 144.42831 \nL 171.749279 169.137401 \nL 165.310817 149.370128 \nL 158.872356 146.075582 \nL 152.433894 149.370128 \nL 145.995433 177.373764 \nL 139.556971 174.079219 \nL 133.11851 175.726491 \nL 126.680048 164.195582 \nL 120.241587 170.784673 \nL 113.803125 169.137401 \nL 107.364663 159.253764 \nL 100.926202 180.66831 \nL 94.48774 187.257401 \nL 88.049279 200.435582 \nL 81.610817 218.555582 \nL 75.172356 192.199219 \nL 68.733894 185.610128 \nL 62.295433 215.261037 \nL 55.856971 202.082855 \nL 49.41851 187.257401 \nL 42.980048 165.842855 \nL 36.541587 192.199219 \nL 30.103125 198.78831 \n\" style=\"fill:none;stroke:#1f77b4;stroke-linecap:square;stroke-width:1.5;\"/>\n   </g>\n   <g id=\"patch_3\">\n    <path d=\"M 30.103125 228.439219 \nL 30.103125 10.999219 \n\" style=\"fill:none;stroke:#000000;stroke-linecap:square;stroke-linejoin:miter;stroke-width:0.8;\"/>\n   </g>\n   <g id=\"patch_4\">\n    <path d=\"M 364.903125 228.439219 \nL 364.903125 10.999219 \n\" style=\"fill:none;stroke:#000000;stroke-linecap:square;stroke-linejoin:miter;stroke-width:0.8;\"/>\n   </g>\n   <g id=\"patch_5\">\n    <path d=\"M 30.103125 228.439219 \nL 364.903125 228.439219 \n\" style=\"fill:none;stroke:#000000;stroke-linecap:square;stroke-linejoin:miter;stroke-width:0.8;\"/>\n   </g>\n   <g id=\"patch_6\">\n    <path d=\"M 30.103125 10.999219 \nL 364.903125 10.999219 \n\" style=\"fill:none;stroke:#000000;stroke-linecap:square;stroke-linejoin:miter;stroke-width:0.8;\"/>\n   </g>\n   <g id=\"legend_1\">\n    <g id=\"patch_7\">\n     <path d=\"M 260.442188 33.677344 \nL 357.903125 33.677344 \nQ 359.903125 33.677344 359.903125 31.677344 \nL 359.903125 17.999219 \nQ 359.903125 15.999219 357.903125 15.999219 \nL 260.442188 15.999219 \nQ 258.442188 15.999219 258.442188 17.999219 \nL 258.442188 31.677344 \nQ 258.442188 33.677344 260.442188 33.677344 \nz\n\" style=\"fill:#ffffff;opacity:0.8;stroke:#cccccc;stroke-linejoin:miter;\"/>\n    </g>\n    <g id=\"line2d_62\">\n     <path d=\"M 262.442188 24.097656 \nL 282.442188 24.097656 \n\" style=\"fill:none;stroke:#1f77b4;stroke-linecap:square;stroke-width:1.5;\"/>\n    </g>\n    <g id=\"line2d_63\"/>\n    <g id=\"text_21\">\n     <!-- AveragePrice -->\n     <defs>\n      <path d=\"M 19.671875 64.796875 \nL 19.671875 37.40625 \nL 32.078125 37.40625 \nQ 38.96875 37.40625 42.71875 40.96875 \nQ 46.484375 44.53125 46.484375 51.125 \nQ 46.484375 57.671875 42.71875 61.234375 \nQ 38.96875 64.796875 32.078125 64.796875 \nz\nM 9.8125 72.90625 \nL 32.078125 72.90625 \nQ 44.34375 72.90625 50.609375 67.359375 \nQ 56.890625 61.8125 56.890625 51.125 \nQ 56.890625 40.328125 50.609375 34.8125 \nQ 44.34375 29.296875 32.078125 29.296875 \nL 19.671875 29.296875 \nL 19.671875 0 \nL 9.8125 0 \nz\n\" id=\"DejaVuSans-80\"/>\n      <path d=\"M 9.421875 54.6875 \nL 18.40625 54.6875 \nL 18.40625 0 \nL 9.421875 0 \nz\nM 9.421875 75.984375 \nL 18.40625 75.984375 \nL 18.40625 64.59375 \nL 9.421875 64.59375 \nz\n\" id=\"DejaVuSans-105\"/>\n     </defs>\n     <g transform=\"translate(290.442188 27.597656)scale(0.1 -0.1)\">\n      <use xlink:href=\"#DejaVuSans-65\"/>\n      <use x=\"62.533203\" xlink:href=\"#DejaVuSans-118\"/>\n      <use x=\"121.712891\" xlink:href=\"#DejaVuSans-101\"/>\n      <use x=\"183.236328\" xlink:href=\"#DejaVuSans-114\"/>\n      <use x=\"224.349609\" xlink:href=\"#DejaVuSans-97\"/>\n      <use x=\"285.628906\" xlink:href=\"#DejaVuSans-103\"/>\n      <use x=\"349.105469\" xlink:href=\"#DejaVuSans-101\"/>\n      <use x=\"410.628906\" xlink:href=\"#DejaVuSans-80\"/>\n      <use x=\"469.181641\" xlink:href=\"#DejaVuSans-114\"/>\n      <use x=\"510.294922\" xlink:href=\"#DejaVuSans-105\"/>\n      <use x=\"538.078125\" xlink:href=\"#DejaVuSans-99\"/>\n      <use x=\"593.058594\" xlink:href=\"#DejaVuSans-101\"/>\n     </g>\n    </g>\n   </g>\n  </g>\n </g>\n <defs>\n  <clipPath id=\"pc66034841e\">\n   <rect height=\"217.44\" width=\"334.8\" x=\"30.103125\" y=\"10.999219\"/>\n  </clipPath>\n </defs>\n</svg>\n",
      "image/png": "[encoded data removed]"
     },
     "metadata": {
      "needs_background": "light"
     }
    }
   ],
   "source": [
    "org_Cal.plot.line(y='AveragePrice') "
   ]
  },
  {
   "cell_type": "markdown",
   "metadata": {},
   "source": [
    "A partir del subset `avo_subset` trata de sacar un gráfico en el que se pueda observar la cantidad de aguacates de tipo **conventional**, a lo largo de todos los periodos. \n",
    "\n",
    "Haz un gráfico simple usando la librería **pandas**. "
   ]
  },
  {
   "cell_type": "code",
   "execution_count": 58,
   "metadata": {},
   "outputs": [],
   "source": [
    "# your code here"
   ]
  },
  {
   "cell_type": "code",
   "execution_count": 209,
   "metadata": {},
   "outputs": [
    {
     "output_type": "execute_result",
     "data": {
      "text/plain": "            AveragePrice  Total Volume          type  year            region\nDate                                                                        \n2015-12-27          1.33      64236.62  conventional  2015            Albany\n2015-12-20          1.35      54876.98  conventional  2015            Albany\n2015-12-13          0.93     118220.22  conventional  2015            Albany\n2015-12-06          1.08      78992.15  conventional  2015            Albany\n2015-11-29          1.28      51039.60  conventional  2015            Albany\n...                  ...           ...           ...   ...               ...\n2018-02-04          1.63      17074.83       organic  2018  WestTexNewMexico\n2018-01-28          1.71      13888.04       organic  2018  WestTexNewMexico\n2018-01-21          1.87      13766.76       organic  2018  WestTexNewMexico\n2018-01-14          1.93      16205.22       organic  2018  WestTexNewMexico\n2018-01-07          1.62      17489.58       organic  2018  WestTexNewMexico\n\n[18249 rows x 5 columns]",
      "text/html": "<div>\n<style scoped>\n    .dataframe tbody tr th:only-of-type {\n        vertical-align: middle;\n    }\n\n    .dataframe tbody tr th {\n        vertical-align: top;\n    }\n\n    .dataframe thead th {\n        text-align: right;\n    }\n</style>\n<table border=\"1\" class=\"dataframe\">\n  <thead>\n    <tr style=\"text-align: right;\">\n      <th></th>\n      <th>AveragePrice</th>\n      <th>Total Volume</th>\n      <th>type</th>\n      <th>year</th>\n      <th>region</th>\n    </tr>\n    <tr>\n      <th>Date</th>\n      <th></th>\n      <th></th>\n      <th></th>\n      <th></th>\n      <th></th>\n    </tr>\n  </thead>\n  <tbody>\n    <tr>\n      <th>2015-12-27</th>\n      <td>1.33</td>\n      <td>64236.62</td>\n      <td>conventional</td>\n      <td>2015</td>\n      <td>Albany</td>\n    </tr>\n    <tr>\n      <th>2015-12-20</th>\n      <td>1.35</td>\n      <td>54876.98</td>\n      <td>conventional</td>\n      <td>2015</td>\n      <td>Albany</td>\n    </tr>\n    <tr>\n      <th>2015-12-13</th>\n      <td>0.93</td>\n      <td>118220.22</td>\n      <td>conventional</td>\n      <td>2015</td>\n      <td>Albany</td>\n    </tr>\n    <tr>\n      <th>2015-12-06</th>\n      <td>1.08</td>\n      <td>78992.15</td>\n      <td>conventional</td>\n      <td>2015</td>\n      <td>Albany</td>\n    </tr>\n    <tr>\n      <th>2015-11-29</th>\n      <td>1.28</td>\n      <td>51039.60</td>\n      <td>conventional</td>\n      <td>2015</td>\n      <td>Albany</td>\n    </tr>\n    <tr>\n      <th>...</th>\n      <td>...</td>\n      <td>...</td>\n      <td>...</td>\n      <td>...</td>\n      <td>...</td>\n    </tr>\n    <tr>\n      <th>2018-02-04</th>\n      <td>1.63</td>\n      <td>17074.83</td>\n      <td>organic</td>\n      <td>2018</td>\n      <td>WestTexNewMexico</td>\n    </tr>\n    <tr>\n      <th>2018-01-28</th>\n      <td>1.71</td>\n      <td>13888.04</td>\n      <td>organic</td>\n      <td>2018</td>\n      <td>WestTexNewMexico</td>\n    </tr>\n    <tr>\n      <th>2018-01-21</th>\n      <td>1.87</td>\n      <td>13766.76</td>\n      <td>organic</td>\n      <td>2018</td>\n      <td>WestTexNewMexico</td>\n    </tr>\n    <tr>\n      <th>2018-01-14</th>\n      <td>1.93</td>\n      <td>16205.22</td>\n      <td>organic</td>\n      <td>2018</td>\n      <td>WestTexNewMexico</td>\n    </tr>\n    <tr>\n      <th>2018-01-07</th>\n      <td>1.62</td>\n      <td>17489.58</td>\n      <td>organic</td>\n      <td>2018</td>\n      <td>WestTexNewMexico</td>\n    </tr>\n  </tbody>\n</table>\n<p>18249 rows × 5 columns</p>\n</div>"
     },
     "metadata": {},
     "execution_count": 209
    }
   ],
   "source": [
    "avo_subset"
   ]
  },
  {
   "cell_type": "code",
   "execution_count": 210,
   "metadata": {},
   "outputs": [
    {
     "output_type": "execute_result",
     "data": {
      "text/plain": "            AveragePrice  Total Volume          type  year            region\nDate                                                                        \n2015-12-27          1.33      64236.62  conventional  2015            Albany\n2015-12-20          1.35      54876.98  conventional  2015            Albany\n2015-12-13          0.93     118220.22  conventional  2015            Albany\n2015-12-06          1.08      78992.15  conventional  2015            Albany\n2015-11-29          1.28      51039.60  conventional  2015            Albany\n...                  ...           ...           ...   ...               ...\n2018-02-04          0.76    1272039.80  conventional  2018  WestTexNewMexico\n2018-01-28          0.85     957086.16  conventional  2018  WestTexNewMexico\n2018-01-21          0.84    1020913.20  conventional  2018  WestTexNewMexico\n2018-01-14          0.90     950954.60  conventional  2018  WestTexNewMexico\n2018-01-07          0.88     880266.52  conventional  2018  WestTexNewMexico\n\n[9126 rows x 5 columns]",
      "text/html": "<div>\n<style scoped>\n    .dataframe tbody tr th:only-of-type {\n        vertical-align: middle;\n    }\n\n    .dataframe tbody tr th {\n        vertical-align: top;\n    }\n\n    .dataframe thead th {\n        text-align: right;\n    }\n</style>\n<table border=\"1\" class=\"dataframe\">\n  <thead>\n    <tr style=\"text-align: right;\">\n      <th></th>\n      <th>AveragePrice</th>\n      <th>Total Volume</th>\n      <th>type</th>\n      <th>year</th>\n      <th>region</th>\n    </tr>\n    <tr>\n      <th>Date</th>\n      <th></th>\n      <th></th>\n      <th></th>\n      <th></th>\n      <th></th>\n    </tr>\n  </thead>\n  <tbody>\n    <tr>\n      <th>2015-12-27</th>\n      <td>1.33</td>\n      <td>64236.62</td>\n      <td>conventional</td>\n      <td>2015</td>\n      <td>Albany</td>\n    </tr>\n    <tr>\n      <th>2015-12-20</th>\n      <td>1.35</td>\n      <td>54876.98</td>\n      <td>conventional</td>\n      <td>2015</td>\n      <td>Albany</td>\n    </tr>\n    <tr>\n      <th>2015-12-13</th>\n      <td>0.93</td>\n      <td>118220.22</td>\n      <td>conventional</td>\n      <td>2015</td>\n      <td>Albany</td>\n    </tr>\n    <tr>\n      <th>2015-12-06</th>\n      <td>1.08</td>\n      <td>78992.15</td>\n      <td>conventional</td>\n      <td>2015</td>\n      <td>Albany</td>\n    </tr>\n    <tr>\n      <th>2015-11-29</th>\n      <td>1.28</td>\n      <td>51039.60</td>\n      <td>conventional</td>\n      <td>2015</td>\n      <td>Albany</td>\n    </tr>\n    <tr>\n      <th>...</th>\n      <td>...</td>\n      <td>...</td>\n      <td>...</td>\n      <td>...</td>\n      <td>...</td>\n    </tr>\n    <tr>\n      <th>2018-02-04</th>\n      <td>0.76</td>\n      <td>1272039.80</td>\n      <td>conventional</td>\n      <td>2018</td>\n      <td>WestTexNewMexico</td>\n    </tr>\n    <tr>\n      <th>2018-01-28</th>\n      <td>0.85</td>\n      <td>957086.16</td>\n      <td>conventional</td>\n      <td>2018</td>\n      <td>WestTexNewMexico</td>\n    </tr>\n    <tr>\n      <th>2018-01-21</th>\n      <td>0.84</td>\n      <td>1020913.20</td>\n      <td>conventional</td>\n      <td>2018</td>\n      <td>WestTexNewMexico</td>\n    </tr>\n    <tr>\n      <th>2018-01-14</th>\n      <td>0.90</td>\n      <td>950954.60</td>\n      <td>conventional</td>\n      <td>2018</td>\n      <td>WestTexNewMexico</td>\n    </tr>\n    <tr>\n      <th>2018-01-07</th>\n      <td>0.88</td>\n      <td>880266.52</td>\n      <td>conventional</td>\n      <td>2018</td>\n      <td>WestTexNewMexico</td>\n    </tr>\n  </tbody>\n</table>\n<p>9126 rows × 5 columns</p>\n</div>"
     },
     "metadata": {},
     "execution_count": 210
    }
   ],
   "source": [
    "avo_subset_graph = avo_subset[avo_subset.type == 'conventional']\n",
    "avo_subset_graph"
   ]
  },
  {
   "cell_type": "code",
   "execution_count": 251,
   "metadata": {},
   "outputs": [
    {
     "output_type": "execute_result",
     "data": {
      "text/plain": "<matplotlib.axes._subplots.AxesSubplot at 0x13c3bd8b0>"
     },
     "metadata": {},
     "execution_count": 251
    },
    {
     "output_type": "display_data",
     "data": {
      "text/plain": "<Figure size 432x288 with 1 Axes>",
      "image/svg+xml": "<?xml version=\"1.0\" encoding=\"utf-8\" standalone=\"no\"?>\n<!DOCTYPE svg PUBLIC \"-//W3C//DTD SVG 1.1//EN\"\n  \"http://www.w3.org/Graphics/SVG/1.1/DTD/svg11.dtd\">\n<!-- Created with matplotlib (https://matplotlib.org/) -->\n<svg height=\"251.948323pt\" version=\"1.1\" viewBox=\"0 0 383.927131 251.948323\" width=\"383.927131pt\" xmlns=\"http://www.w3.org/2000/svg\" xmlns:xlink=\"http://www.w3.org/1999/xlink\">\n <defs>\n  <style type=\"text/css\">\n*{stroke-linecap:butt;stroke-linejoin:round;}\n  </style>\n </defs>\n <g id=\"figure_1\">\n  <g id=\"patch_1\">\n   <path d=\"M -0 251.948323 \nL 383.927131 251.948323 \nL 383.927131 0 \nL -0 0 \nz\n\" style=\"fill:none;\"/>\n  </g>\n  <g id=\"axes_1\">\n   <g id=\"patch_2\">\n    <path d=\"M 39.65 228.070198 \nL 374.45 228.070198 \nL 374.45 10.630198 \nL 39.65 10.630198 \nz\n\" style=\"fill:#ffffff;\"/>\n   </g>\n   <g id=\"patch_3\">\n    <path clip-path=\"url(#pb07eafd1c4)\" d=\"M 54.868182 228.070198 \nL 85.304545 228.070198 \nL 85.304545 24.891761 \nL 54.868182 24.891761 \nz\n\" style=\"fill:#1f77b4;\"/>\n   </g>\n   <g id=\"patch_4\">\n    <path clip-path=\"url(#pb07eafd1c4)\" d=\"M 85.304545 228.070198 \nL 115.740909 228.070198 \nL 115.740909 228.070198 \nL 85.304545 228.070198 \nz\n\" style=\"fill:#1f77b4;\"/>\n   </g>\n   <g id=\"patch_5\">\n    <path clip-path=\"url(#pb07eafd1c4)\" d=\"M 115.740909 228.070198 \nL 146.177273 228.070198 \nL 146.177273 228.070198 \nL 115.740909 228.070198 \nz\n\" style=\"fill:#1f77b4;\"/>\n   </g>\n   <g id=\"patch_6\">\n    <path clip-path=\"url(#pb07eafd1c4)\" d=\"M 146.177273 228.070198 \nL 176.613636 228.070198 \nL 176.613636 24.891761 \nL 146.177273 24.891761 \nz\n\" style=\"fill:#1f77b4;\"/>\n   </g>\n   <g id=\"patch_7\">\n    <path clip-path=\"url(#pb07eafd1c4)\" d=\"M 176.613636 228.070198 \nL 207.05 228.070198 \nL 207.05 228.070198 \nL 176.613636 228.070198 \nz\n\" style=\"fill:#1f77b4;\"/>\n   </g>\n   <g id=\"patch_8\">\n    <path clip-path=\"url(#pb07eafd1c4)\" d=\"M 207.05 228.070198 \nL 237.486364 228.070198 \nL 237.486364 228.070198 \nL 207.05 228.070198 \nz\n\" style=\"fill:#1f77b4;\"/>\n   </g>\n   <g id=\"patch_9\">\n    <path clip-path=\"url(#pb07eafd1c4)\" d=\"M 237.486364 228.070198 \nL 267.922727 228.070198 \nL 267.922727 20.984484 \nL 237.486364 20.984484 \nz\n\" style=\"fill:#1f77b4;\"/>\n   </g>\n   <g id=\"patch_10\">\n    <path clip-path=\"url(#pb07eafd1c4)\" d=\"M 267.922727 228.070198 \nL 298.359091 228.070198 \nL 298.359091 228.070198 \nL 267.922727 228.070198 \nz\n\" style=\"fill:#1f77b4;\"/>\n   </g>\n   <g id=\"patch_11\">\n    <path clip-path=\"url(#pb07eafd1c4)\" d=\"M 298.359091 228.070198 \nL 328.795455 228.070198 \nL 328.795455 228.070198 \nL 298.359091 228.070198 \nz\n\" style=\"fill:#1f77b4;\"/>\n   </g>\n   <g id=\"patch_12\">\n    <path clip-path=\"url(#pb07eafd1c4)\" d=\"M 328.795455 228.070198 \nL 359.231818 228.070198 \nL 359.231818 181.182867 \nL 328.795455 181.182867 \nz\n\" style=\"fill:#1f77b4;\"/>\n   </g>\n   <g id=\"matplotlib.axis_1\">\n    <g id=\"xtick_1\">\n     <g id=\"line2d_1\">\n      <path clip-path=\"url(#pb07eafd1c4)\" d=\"M 54.868182 228.070198 \nL 54.868182 10.630198 \n\" style=\"fill:none;stroke:#b0b0b0;stroke-linecap:square;stroke-width:0.8;\"/>\n     </g>\n     <g id=\"line2d_2\">\n      <defs>\n       <path d=\"M 0 0 \nL 0 3.5 \n\" id=\"m20f2bead95\" style=\"stroke:#000000;stroke-width:0.8;\"/>\n      </defs>\n      <g>\n       <use style=\"stroke:#000000;stroke-width:0.8;\" x=\"54.868182\" xlink:href=\"#m20f2bead95\" y=\"228.070198\"/>\n      </g>\n     </g>\n     <g id=\"text_1\">\n      <!-- 2015.0 -->\n      <defs>\n       <path d=\"M 19.1875 8.296875 \nL 53.609375 8.296875 \nL 53.609375 0 \nL 7.328125 0 \nL 7.328125 8.296875 \nQ 12.9375 14.109375 22.625 23.890625 \nQ 32.328125 33.6875 34.8125 36.53125 \nQ 39.546875 41.84375 41.421875 45.53125 \nQ 43.3125 49.21875 43.3125 52.78125 \nQ 43.3125 58.59375 39.234375 62.25 \nQ 35.15625 65.921875 28.609375 65.921875 \nQ 23.96875 65.921875 18.8125 64.3125 \nQ 13.671875 62.703125 7.8125 59.421875 \nL 7.8125 69.390625 \nQ 13.765625 71.78125 18.9375 73 \nQ 24.125 74.21875 28.421875 74.21875 \nQ 39.75 74.21875 46.484375 68.546875 \nQ 53.21875 62.890625 53.21875 53.421875 \nQ 53.21875 48.921875 51.53125 44.890625 \nQ 49.859375 40.875 45.40625 35.40625 \nQ 44.1875 33.984375 37.640625 27.21875 \nQ 31.109375 20.453125 19.1875 8.296875 \nz\n\" id=\"DejaVuSans-50\"/>\n       <path d=\"M 31.78125 66.40625 \nQ 24.171875 66.40625 20.328125 58.90625 \nQ 16.5 51.421875 16.5 36.375 \nQ 16.5 21.390625 20.328125 13.890625 \nQ 24.171875 6.390625 31.78125 6.390625 \nQ 39.453125 6.390625 43.28125 13.890625 \nQ 47.125 21.390625 47.125 36.375 \nQ 47.125 51.421875 43.28125 58.90625 \nQ 39.453125 66.40625 31.78125 66.40625 \nz\nM 31.78125 74.21875 \nQ 44.046875 74.21875 50.515625 64.515625 \nQ 56.984375 54.828125 56.984375 36.375 \nQ 56.984375 17.96875 50.515625 8.265625 \nQ 44.046875 -1.421875 31.78125 -1.421875 \nQ 19.53125 -1.421875 13.0625 8.265625 \nQ 6.59375 17.96875 6.59375 36.375 \nQ 6.59375 54.828125 13.0625 64.515625 \nQ 19.53125 74.21875 31.78125 74.21875 \nz\n\" id=\"DejaVuSans-48\"/>\n       <path d=\"M 12.40625 8.296875 \nL 28.515625 8.296875 \nL 28.515625 63.921875 \nL 10.984375 60.40625 \nL 10.984375 69.390625 \nL 28.421875 72.90625 \nL 38.28125 72.90625 \nL 38.28125 8.296875 \nL 54.390625 8.296875 \nL 54.390625 0 \nL 12.40625 0 \nz\n\" id=\"DejaVuSans-49\"/>\n       <path d=\"M 10.796875 72.90625 \nL 49.515625 72.90625 \nL 49.515625 64.59375 \nL 19.828125 64.59375 \nL 19.828125 46.734375 \nQ 21.96875 47.46875 24.109375 47.828125 \nQ 26.265625 48.1875 28.421875 48.1875 \nQ 40.625 48.1875 47.75 41.5 \nQ 54.890625 34.8125 54.890625 23.390625 \nQ 54.890625 11.625 47.5625 5.09375 \nQ 40.234375 -1.421875 26.90625 -1.421875 \nQ 22.3125 -1.421875 17.546875 -0.640625 \nQ 12.796875 0.140625 7.71875 1.703125 \nL 7.71875 11.625 \nQ 12.109375 9.234375 16.796875 8.0625 \nQ 21.484375 6.890625 26.703125 6.890625 \nQ 35.15625 6.890625 40.078125 11.328125 \nQ 45.015625 15.765625 45.015625 23.390625 \nQ 45.015625 31 40.078125 35.4375 \nQ 35.15625 39.890625 26.703125 39.890625 \nQ 22.75 39.890625 18.8125 39.015625 \nQ 14.890625 38.140625 10.796875 36.28125 \nz\n\" id=\"DejaVuSans-53\"/>\n       <path d=\"M 10.6875 12.40625 \nL 21 12.40625 \nL 21 0 \nL 10.6875 0 \nz\n\" id=\"DejaVuSans-46\"/>\n      </defs>\n      <g transform=\"translate(37.372869 242.668636)scale(0.1 -0.1)\">\n       <use xlink:href=\"#DejaVuSans-50\"/>\n       <use x=\"63.623047\" xlink:href=\"#DejaVuSans-48\"/>\n       <use x=\"127.246094\" xlink:href=\"#DejaVuSans-49\"/>\n       <use x=\"190.869141\" xlink:href=\"#DejaVuSans-53\"/>\n       <use x=\"254.492188\" xlink:href=\"#DejaVuSans-46\"/>\n       <use x=\"286.279297\" xlink:href=\"#DejaVuSans-48\"/>\n      </g>\n     </g>\n    </g>\n    <g id=\"xtick_2\">\n     <g id=\"line2d_3\">\n      <path clip-path=\"url(#pb07eafd1c4)\" d=\"M 105.595455 228.070198 \nL 105.595455 10.630198 \n\" style=\"fill:none;stroke:#b0b0b0;stroke-linecap:square;stroke-width:0.8;\"/>\n     </g>\n     <g id=\"line2d_4\">\n      <g>\n       <use style=\"stroke:#000000;stroke-width:0.8;\" x=\"105.595455\" xlink:href=\"#m20f2bead95\" y=\"228.070198\"/>\n      </g>\n     </g>\n     <g id=\"text_2\">\n      <!-- 2015.5 -->\n      <g transform=\"translate(88.100142 242.668636)scale(0.1 -0.1)\">\n       <use xlink:href=\"#DejaVuSans-50\"/>\n       <use x=\"63.623047\" xlink:href=\"#DejaVuSans-48\"/>\n       <use x=\"127.246094\" xlink:href=\"#DejaVuSans-49\"/>\n       <use x=\"190.869141\" xlink:href=\"#DejaVuSans-53\"/>\n       <use x=\"254.492188\" xlink:href=\"#DejaVuSans-46\"/>\n       <use x=\"286.279297\" xlink:href=\"#DejaVuSans-53\"/>\n      </g>\n     </g>\n    </g>\n    <g id=\"xtick_3\">\n     <g id=\"line2d_5\">\n      <path clip-path=\"url(#pb07eafd1c4)\" d=\"M 156.322727 228.070198 \nL 156.322727 10.630198 \n\" style=\"fill:none;stroke:#b0b0b0;stroke-linecap:square;stroke-width:0.8;\"/>\n     </g>\n     <g id=\"line2d_6\">\n      <g>\n       <use style=\"stroke:#000000;stroke-width:0.8;\" x=\"156.322727\" xlink:href=\"#m20f2bead95\" y=\"228.070198\"/>\n      </g>\n     </g>\n     <g id=\"text_3\">\n      <!-- 2016.0 -->\n      <defs>\n       <path d=\"M 33.015625 40.375 \nQ 26.375 40.375 22.484375 35.828125 \nQ 18.609375 31.296875 18.609375 23.390625 \nQ 18.609375 15.53125 22.484375 10.953125 \nQ 26.375 6.390625 33.015625 6.390625 \nQ 39.65625 6.390625 43.53125 10.953125 \nQ 47.40625 15.53125 47.40625 23.390625 \nQ 47.40625 31.296875 43.53125 35.828125 \nQ 39.65625 40.375 33.015625 40.375 \nz\nM 52.59375 71.296875 \nL 52.59375 62.3125 \nQ 48.875 64.0625 45.09375 64.984375 \nQ 41.3125 65.921875 37.59375 65.921875 \nQ 27.828125 65.921875 22.671875 59.328125 \nQ 17.53125 52.734375 16.796875 39.40625 \nQ 19.671875 43.65625 24.015625 45.921875 \nQ 28.375 48.1875 33.59375 48.1875 \nQ 44.578125 48.1875 50.953125 41.515625 \nQ 57.328125 34.859375 57.328125 23.390625 \nQ 57.328125 12.15625 50.6875 5.359375 \nQ 44.046875 -1.421875 33.015625 -1.421875 \nQ 20.359375 -1.421875 13.671875 8.265625 \nQ 6.984375 17.96875 6.984375 36.375 \nQ 6.984375 53.65625 15.1875 63.9375 \nQ 23.390625 74.21875 37.203125 74.21875 \nQ 40.921875 74.21875 44.703125 73.484375 \nQ 48.484375 72.75 52.59375 71.296875 \nz\n\" id=\"DejaVuSans-54\"/>\n      </defs>\n      <g transform=\"translate(138.827415 242.668636)scale(0.1 -0.1)\">\n       <use xlink:href=\"#DejaVuSans-50\"/>\n       <use x=\"63.623047\" xlink:href=\"#DejaVuSans-48\"/>\n       <use x=\"127.246094\" xlink:href=\"#DejaVuSans-49\"/>\n       <use x=\"190.869141\" xlink:href=\"#DejaVuSans-54\"/>\n       <use x=\"254.492188\" xlink:href=\"#DejaVuSans-46\"/>\n       <use x=\"286.279297\" xlink:href=\"#DejaVuSans-48\"/>\n      </g>\n     </g>\n    </g>\n    <g id=\"xtick_4\">\n     <g id=\"line2d_7\">\n      <path clip-path=\"url(#pb07eafd1c4)\" d=\"M 207.05 228.070198 \nL 207.05 10.630198 \n\" style=\"fill:none;stroke:#b0b0b0;stroke-linecap:square;stroke-width:0.8;\"/>\n     </g>\n     <g id=\"line2d_8\">\n      <g>\n       <use style=\"stroke:#000000;stroke-width:0.8;\" x=\"207.05\" xlink:href=\"#m20f2bead95\" y=\"228.070198\"/>\n      </g>\n     </g>\n     <g id=\"text_4\">\n      <!-- 2016.5 -->\n      <g transform=\"translate(189.554688 242.668636)scale(0.1 -0.1)\">\n       <use xlink:href=\"#DejaVuSans-50\"/>\n       <use x=\"63.623047\" xlink:href=\"#DejaVuSans-48\"/>\n       <use x=\"127.246094\" xlink:href=\"#DejaVuSans-49\"/>\n       <use x=\"190.869141\" xlink:href=\"#DejaVuSans-54\"/>\n       <use x=\"254.492188\" xlink:href=\"#DejaVuSans-46\"/>\n       <use x=\"286.279297\" xlink:href=\"#DejaVuSans-53\"/>\n      </g>\n     </g>\n    </g>\n    <g id=\"xtick_5\">\n     <g id=\"line2d_9\">\n      <path clip-path=\"url(#pb07eafd1c4)\" d=\"M 257.777273 228.070198 \nL 257.777273 10.630198 \n\" style=\"fill:none;stroke:#b0b0b0;stroke-linecap:square;stroke-width:0.8;\"/>\n     </g>\n     <g id=\"line2d_10\">\n      <g>\n       <use style=\"stroke:#000000;stroke-width:0.8;\" x=\"257.777273\" xlink:href=\"#m20f2bead95\" y=\"228.070198\"/>\n      </g>\n     </g>\n     <g id=\"text_5\">\n      <!-- 2017.0 -->\n      <defs>\n       <path d=\"M 8.203125 72.90625 \nL 55.078125 72.90625 \nL 55.078125 68.703125 \nL 28.609375 0 \nL 18.3125 0 \nL 43.21875 64.59375 \nL 8.203125 64.59375 \nz\n\" id=\"DejaVuSans-55\"/>\n      </defs>\n      <g transform=\"translate(240.28196 242.668636)scale(0.1 -0.1)\">\n       <use xlink:href=\"#DejaVuSans-50\"/>\n       <use x=\"63.623047\" xlink:href=\"#DejaVuSans-48\"/>\n       <use x=\"127.246094\" xlink:href=\"#DejaVuSans-49\"/>\n       <use x=\"190.869141\" xlink:href=\"#DejaVuSans-55\"/>\n       <use x=\"254.492188\" xlink:href=\"#DejaVuSans-46\"/>\n       <use x=\"286.279297\" xlink:href=\"#DejaVuSans-48\"/>\n      </g>\n     </g>\n    </g>\n    <g id=\"xtick_6\">\n     <g id=\"line2d_11\">\n      <path clip-path=\"url(#pb07eafd1c4)\" d=\"M 308.504545 228.070198 \nL 308.504545 10.630198 \n\" style=\"fill:none;stroke:#b0b0b0;stroke-linecap:square;stroke-width:0.8;\"/>\n     </g>\n     <g id=\"line2d_12\">\n      <g>\n       <use style=\"stroke:#000000;stroke-width:0.8;\" x=\"308.504545\" xlink:href=\"#m20f2bead95\" y=\"228.070198\"/>\n      </g>\n     </g>\n     <g id=\"text_6\">\n      <!-- 2017.5 -->\n      <g transform=\"translate(291.009233 242.668636)scale(0.1 -0.1)\">\n       <use xlink:href=\"#DejaVuSans-50\"/>\n       <use x=\"63.623047\" xlink:href=\"#DejaVuSans-48\"/>\n       <use x=\"127.246094\" xlink:href=\"#DejaVuSans-49\"/>\n       <use x=\"190.869141\" xlink:href=\"#DejaVuSans-55\"/>\n       <use x=\"254.492188\" xlink:href=\"#DejaVuSans-46\"/>\n       <use x=\"286.279297\" xlink:href=\"#DejaVuSans-53\"/>\n      </g>\n     </g>\n    </g>\n    <g id=\"xtick_7\">\n     <g id=\"line2d_13\">\n      <path clip-path=\"url(#pb07eafd1c4)\" d=\"M 359.231818 228.070198 \nL 359.231818 10.630198 \n\" style=\"fill:none;stroke:#b0b0b0;stroke-linecap:square;stroke-width:0.8;\"/>\n     </g>\n     <g id=\"line2d_14\">\n      <g>\n       <use style=\"stroke:#000000;stroke-width:0.8;\" x=\"359.231818\" xlink:href=\"#m20f2bead95\" y=\"228.070198\"/>\n      </g>\n     </g>\n     <g id=\"text_7\">\n      <!-- 2018.0 -->\n      <defs>\n       <path d=\"M 31.78125 34.625 \nQ 24.75 34.625 20.71875 30.859375 \nQ 16.703125 27.09375 16.703125 20.515625 \nQ 16.703125 13.921875 20.71875 10.15625 \nQ 24.75 6.390625 31.78125 6.390625 \nQ 38.8125 6.390625 42.859375 10.171875 \nQ 46.921875 13.96875 46.921875 20.515625 \nQ 46.921875 27.09375 42.890625 30.859375 \nQ 38.875 34.625 31.78125 34.625 \nz\nM 21.921875 38.8125 \nQ 15.578125 40.375 12.03125 44.71875 \nQ 8.5 49.078125 8.5 55.328125 \nQ 8.5 64.0625 14.71875 69.140625 \nQ 20.953125 74.21875 31.78125 74.21875 \nQ 42.671875 74.21875 48.875 69.140625 \nQ 55.078125 64.0625 55.078125 55.328125 \nQ 55.078125 49.078125 51.53125 44.71875 \nQ 48 40.375 41.703125 38.8125 \nQ 48.828125 37.15625 52.796875 32.3125 \nQ 56.78125 27.484375 56.78125 20.515625 \nQ 56.78125 9.90625 50.3125 4.234375 \nQ 43.84375 -1.421875 31.78125 -1.421875 \nQ 19.734375 -1.421875 13.25 4.234375 \nQ 6.78125 9.90625 6.78125 20.515625 \nQ 6.78125 27.484375 10.78125 32.3125 \nQ 14.796875 37.15625 21.921875 38.8125 \nz\nM 18.3125 54.390625 \nQ 18.3125 48.734375 21.84375 45.5625 \nQ 25.390625 42.390625 31.78125 42.390625 \nQ 38.140625 42.390625 41.71875 45.5625 \nQ 45.3125 48.734375 45.3125 54.390625 \nQ 45.3125 60.0625 41.71875 63.234375 \nQ 38.140625 66.40625 31.78125 66.40625 \nQ 25.390625 66.40625 21.84375 63.234375 \nQ 18.3125 60.0625 18.3125 54.390625 \nz\n\" id=\"DejaVuSans-56\"/>\n      </defs>\n      <g transform=\"translate(341.736506 242.668636)scale(0.1 -0.1)\">\n       <use xlink:href=\"#DejaVuSans-50\"/>\n       <use x=\"63.623047\" xlink:href=\"#DejaVuSans-48\"/>\n       <use x=\"127.246094\" xlink:href=\"#DejaVuSans-49\"/>\n       <use x=\"190.869141\" xlink:href=\"#DejaVuSans-56\"/>\n       <use x=\"254.492188\" xlink:href=\"#DejaVuSans-46\"/>\n       <use x=\"286.279297\" xlink:href=\"#DejaVuSans-48\"/>\n      </g>\n     </g>\n    </g>\n   </g>\n   <g id=\"matplotlib.axis_2\">\n    <g id=\"ytick_1\">\n     <g id=\"line2d_15\">\n      <path clip-path=\"url(#pb07eafd1c4)\" d=\"M 39.65 228.070198 \nL 374.45 228.070198 \n\" style=\"fill:none;stroke:#b0b0b0;stroke-linecap:square;stroke-width:0.8;\"/>\n     </g>\n     <g id=\"line2d_16\">\n      <defs>\n       <path d=\"M 0 0 \nL -3.5 0 \n\" id=\"m978a6ea85f\" style=\"stroke:#000000;stroke-width:0.8;\"/>\n      </defs>\n      <g>\n       <use style=\"stroke:#000000;stroke-width:0.8;\" x=\"39.65\" xlink:href=\"#m978a6ea85f\" y=\"228.070198\"/>\n      </g>\n     </g>\n     <g id=\"text_8\">\n      <!-- 0 -->\n      <g transform=\"translate(26.2875 231.869417)scale(0.1 -0.1)\">\n       <use xlink:href=\"#DejaVuSans-48\"/>\n      </g>\n     </g>\n    </g>\n    <g id=\"ytick_2\">\n     <g id=\"line2d_17\">\n      <path clip-path=\"url(#pb07eafd1c4)\" d=\"M 39.65 191.891702 \nL 374.45 191.891702 \n\" style=\"fill:none;stroke:#b0b0b0;stroke-linecap:square;stroke-width:0.8;\"/>\n     </g>\n     <g id=\"line2d_18\">\n      <g>\n       <use style=\"stroke:#000000;stroke-width:0.8;\" x=\"39.65\" xlink:href=\"#m978a6ea85f\" y=\"191.891702\"/>\n      </g>\n     </g>\n     <g id=\"text_9\">\n      <!-- 500 -->\n      <g transform=\"translate(13.5625 195.69092)scale(0.1 -0.1)\">\n       <use xlink:href=\"#DejaVuSans-53\"/>\n       <use x=\"63.623047\" xlink:href=\"#DejaVuSans-48\"/>\n       <use x=\"127.246094\" xlink:href=\"#DejaVuSans-48\"/>\n      </g>\n     </g>\n    </g>\n    <g id=\"ytick_3\">\n     <g id=\"line2d_19\">\n      <path clip-path=\"url(#pb07eafd1c4)\" d=\"M 39.65 155.713205 \nL 374.45 155.713205 \n\" style=\"fill:none;stroke:#b0b0b0;stroke-linecap:square;stroke-width:0.8;\"/>\n     </g>\n     <g id=\"line2d_20\">\n      <g>\n       <use style=\"stroke:#000000;stroke-width:0.8;\" x=\"39.65\" xlink:href=\"#m978a6ea85f\" y=\"155.713205\"/>\n      </g>\n     </g>\n     <g id=\"text_10\">\n      <!-- 1000 -->\n      <g transform=\"translate(7.2 159.512424)scale(0.1 -0.1)\">\n       <use xlink:href=\"#DejaVuSans-49\"/>\n       <use x=\"63.623047\" xlink:href=\"#DejaVuSans-48\"/>\n       <use x=\"127.246094\" xlink:href=\"#DejaVuSans-48\"/>\n       <use x=\"190.869141\" xlink:href=\"#DejaVuSans-48\"/>\n      </g>\n     </g>\n    </g>\n    <g id=\"ytick_4\">\n     <g id=\"line2d_21\">\n      <path clip-path=\"url(#pb07eafd1c4)\" d=\"M 39.65 119.534708 \nL 374.45 119.534708 \n\" style=\"fill:none;stroke:#b0b0b0;stroke-linecap:square;stroke-width:0.8;\"/>\n     </g>\n     <g id=\"line2d_22\">\n      <g>\n       <use style=\"stroke:#000000;stroke-width:0.8;\" x=\"39.65\" xlink:href=\"#m978a6ea85f\" y=\"119.534708\"/>\n      </g>\n     </g>\n     <g id=\"text_11\">\n      <!-- 1500 -->\n      <g transform=\"translate(7.2 123.333927)scale(0.1 -0.1)\">\n       <use xlink:href=\"#DejaVuSans-49\"/>\n       <use x=\"63.623047\" xlink:href=\"#DejaVuSans-53\"/>\n       <use x=\"127.246094\" xlink:href=\"#DejaVuSans-48\"/>\n       <use x=\"190.869141\" xlink:href=\"#DejaVuSans-48\"/>\n      </g>\n     </g>\n    </g>\n    <g id=\"ytick_5\">\n     <g id=\"line2d_23\">\n      <path clip-path=\"url(#pb07eafd1c4)\" d=\"M 39.65 83.356212 \nL 374.45 83.356212 \n\" style=\"fill:none;stroke:#b0b0b0;stroke-linecap:square;stroke-width:0.8;\"/>\n     </g>\n     <g id=\"line2d_24\">\n      <g>\n       <use style=\"stroke:#000000;stroke-width:0.8;\" x=\"39.65\" xlink:href=\"#m978a6ea85f\" y=\"83.356212\"/>\n      </g>\n     </g>\n     <g id=\"text_12\">\n      <!-- 2000 -->\n      <g transform=\"translate(7.2 87.155431)scale(0.1 -0.1)\">\n       <use xlink:href=\"#DejaVuSans-50\"/>\n       <use x=\"63.623047\" xlink:href=\"#DejaVuSans-48\"/>\n       <use x=\"127.246094\" xlink:href=\"#DejaVuSans-48\"/>\n       <use x=\"190.869141\" xlink:href=\"#DejaVuSans-48\"/>\n      </g>\n     </g>\n    </g>\n    <g id=\"ytick_6\">\n     <g id=\"line2d_25\">\n      <path clip-path=\"url(#pb07eafd1c4)\" d=\"M 39.65 47.177715 \nL 374.45 47.177715 \n\" style=\"fill:none;stroke:#b0b0b0;stroke-linecap:square;stroke-width:0.8;\"/>\n     </g>\n     <g id=\"line2d_26\">\n      <g>\n       <use style=\"stroke:#000000;stroke-width:0.8;\" x=\"39.65\" xlink:href=\"#m978a6ea85f\" y=\"47.177715\"/>\n      </g>\n     </g>\n     <g id=\"text_13\">\n      <!-- 2500 -->\n      <g transform=\"translate(7.2 50.976934)scale(0.1 -0.1)\">\n       <use xlink:href=\"#DejaVuSans-50\"/>\n       <use x=\"63.623047\" xlink:href=\"#DejaVuSans-53\"/>\n       <use x=\"127.246094\" xlink:href=\"#DejaVuSans-48\"/>\n       <use x=\"190.869141\" xlink:href=\"#DejaVuSans-48\"/>\n      </g>\n     </g>\n    </g>\n    <g id=\"ytick_7\">\n     <g id=\"line2d_27\">\n      <path clip-path=\"url(#pb07eafd1c4)\" d=\"M 39.65 10.999219 \nL 374.45 10.999219 \n\" style=\"fill:none;stroke:#b0b0b0;stroke-linecap:square;stroke-width:0.8;\"/>\n     </g>\n     <g id=\"line2d_28\">\n      <g>\n       <use style=\"stroke:#000000;stroke-width:0.8;\" x=\"39.65\" xlink:href=\"#m978a6ea85f\" y=\"10.999219\"/>\n      </g>\n     </g>\n     <g id=\"text_14\">\n      <!-- 3000 -->\n      <defs>\n       <path d=\"M 40.578125 39.3125 \nQ 47.65625 37.796875 51.625 33 \nQ 55.609375 28.21875 55.609375 21.1875 \nQ 55.609375 10.40625 48.1875 4.484375 \nQ 40.765625 -1.421875 27.09375 -1.421875 \nQ 22.515625 -1.421875 17.65625 -0.515625 \nQ 12.796875 0.390625 7.625 2.203125 \nL 7.625 11.71875 \nQ 11.71875 9.328125 16.59375 8.109375 \nQ 21.484375 6.890625 26.8125 6.890625 \nQ 36.078125 6.890625 40.9375 10.546875 \nQ 45.796875 14.203125 45.796875 21.1875 \nQ 45.796875 27.640625 41.28125 31.265625 \nQ 36.765625 34.90625 28.71875 34.90625 \nL 20.21875 34.90625 \nL 20.21875 43.015625 \nL 29.109375 43.015625 \nQ 36.375 43.015625 40.234375 45.921875 \nQ 44.09375 48.828125 44.09375 54.296875 \nQ 44.09375 59.90625 40.109375 62.90625 \nQ 36.140625 65.921875 28.71875 65.921875 \nQ 24.65625 65.921875 20.015625 65.03125 \nQ 15.375 64.15625 9.8125 62.3125 \nL 9.8125 71.09375 \nQ 15.4375 72.65625 20.34375 73.4375 \nQ 25.25 74.21875 29.59375 74.21875 \nQ 40.828125 74.21875 47.359375 69.109375 \nQ 53.90625 64.015625 53.90625 55.328125 \nQ 53.90625 49.265625 50.4375 45.09375 \nQ 46.96875 40.921875 40.578125 39.3125 \nz\n\" id=\"DejaVuSans-51\"/>\n      </defs>\n      <g transform=\"translate(7.2 14.798438)scale(0.1 -0.1)\">\n       <use xlink:href=\"#DejaVuSans-51\"/>\n       <use x=\"63.623047\" xlink:href=\"#DejaVuSans-48\"/>\n       <use x=\"127.246094\" xlink:href=\"#DejaVuSans-48\"/>\n       <use x=\"190.869141\" xlink:href=\"#DejaVuSans-48\"/>\n      </g>\n     </g>\n    </g>\n   </g>\n   <g id=\"patch_13\">\n    <path d=\"M 39.65 228.070198 \nL 39.65 10.630198 \n\" style=\"fill:none;stroke:#000000;stroke-linecap:square;stroke-linejoin:miter;stroke-width:0.8;\"/>\n   </g>\n   <g id=\"patch_14\">\n    <path d=\"M 374.45 228.070198 \nL 374.45 10.630198 \n\" style=\"fill:none;stroke:#000000;stroke-linecap:square;stroke-linejoin:miter;stroke-width:0.8;\"/>\n   </g>\n   <g id=\"patch_15\">\n    <path d=\"M 39.65 228.070198 \nL 374.45 228.070198 \n\" style=\"fill:none;stroke:#000000;stroke-linecap:square;stroke-linejoin:miter;stroke-width:0.8;\"/>\n   </g>\n   <g id=\"patch_16\">\n    <path d=\"M 39.65 10.630198 \nL 374.45 10.630198 \n\" style=\"fill:none;stroke:#000000;stroke-linecap:square;stroke-linejoin:miter;stroke-width:0.8;\"/>\n   </g>\n  </g>\n </g>\n <defs>\n  <clipPath id=\"pb07eafd1c4\">\n   <rect height=\"217.44\" width=\"334.8\" x=\"39.65\" y=\"10.630198\"/>\n  </clipPath>\n </defs>\n</svg>\n",
      "image/png": "[encoded data removed]"
     },
     "metadata": {
      "needs_background": "light"
     }
    }
   ],
   "source": [
    "avo_subset_graph['year'].hist()"
   ]
  },
  {
   "cell_type": "code",
   "execution_count": null,
   "metadata": {},
   "outputs": [],
   "source": []
  },
  {
   "cell_type": "markdown",
   "metadata": {},
   "source": [
    "Crea una función **lambda** que quite los dos primeros dígitos de cada año de la columna `\"year\"` y lo convierta a string. \n",
    "Después aplica esta función a toda la columna del dataframe `avo_subset`. \n",
    "\n",
    "Ejemplo: `2015` --> `\"15\"` "
   ]
  },
  {
   "cell_type": "code",
   "execution_count": 59,
   "metadata": {},
   "outputs": [],
   "source": [
    "# your code here"
   ]
  },
  {
   "cell_type": "code",
   "execution_count": 257,
   "metadata": {},
   "outputs": [
    {
     "output_type": "execute_result",
     "data": {
      "text/plain": "<function __main__.<lambda>(x)>"
     },
     "metadata": {},
     "execution_count": 257
    }
   ],
   "source": [
    "lambda x: x.astype(str).str(x) - '20'"
   ]
  },
  {
   "cell_type": "code",
   "execution_count": 261,
   "metadata": {},
   "outputs": [],
   "source": [
    "avo_subset.index = avo_subset.index.map(str)"
   ]
  },
  {
   "cell_type": "code",
   "execution_count": 262,
   "metadata": {},
   "outputs": [
    {
     "output_type": "execute_result",
     "data": {
      "text/plain": "pandas.core.frame.DataFrame"
     },
     "metadata": {},
     "execution_count": 262
    }
   ],
   "source": [
    "type(avo_subset)"
   ]
  },
  {
   "cell_type": "code",
   "execution_count": 269,
   "metadata": {},
   "outputs": [
    {
     "output_type": "error",
     "ename": "TypeError",
     "evalue": "replace expected at least 2 arguments, got 1",
     "traceback": [
      "\u001b[0;31m---------------------------------------------------------------------------\u001b[0m",
      "\u001b[0;31mTypeError\u001b[0m                                 Traceback (most recent call last)",
      "\u001b[0;32m<ipython-input-269-6ec0edd5cbd8>\u001b[0m in \u001b[0;36m<module>\u001b[0;34m\u001b[0m\n\u001b[0;32m----> 1\u001b[0;31m \u001b[0mlam\u001b[0m \u001b[0;34m=\u001b[0m \u001b[0mavo_subset\u001b[0m\u001b[0;34m.\u001b[0m\u001b[0mindex\u001b[0m\u001b[0;34m.\u001b[0m\u001b[0mmap\u001b[0m\u001b[0;34m(\u001b[0m\u001b[0;32mlambda\u001b[0m \u001b[0mx\u001b[0m\u001b[0;34m:\u001b[0m \u001b[0mstr\u001b[0m\u001b[0;34m(\u001b[0m\u001b[0mx\u001b[0m\u001b[0;34m)\u001b[0m\u001b[0;34m.\u001b[0m\u001b[0mreplace\u001b[0m\u001b[0;34m(\u001b[0m\u001b[0;34m'20'\u001b[0m\u001b[0;34m)\u001b[0m\u001b[0;34m)\u001b[0m\u001b[0;34m\u001b[0m\u001b[0;34m\u001b[0m\u001b[0m\n\u001b[0m\u001b[1;32m      2\u001b[0m \u001b[0mlam\u001b[0m\u001b[0;34m\u001b[0m\u001b[0;34m\u001b[0m\u001b[0m\n",
      "\u001b[0;32m/Library/Frameworks/Python.framework/Versions/3.8/lib/python3.8/site-packages/pandas/core/indexes/base.py\u001b[0m in \u001b[0;36mmap\u001b[0;34m(self, mapper, na_action)\u001b[0m\n\u001b[1;32m   4563\u001b[0m         \u001b[0;32mfrom\u001b[0m \u001b[0mpandas\u001b[0m\u001b[0;34m.\u001b[0m\u001b[0mcore\u001b[0m\u001b[0;34m.\u001b[0m\u001b[0mindexes\u001b[0m\u001b[0;34m.\u001b[0m\u001b[0mmulti\u001b[0m \u001b[0;32mimport\u001b[0m \u001b[0mMultiIndex\u001b[0m\u001b[0;34m\u001b[0m\u001b[0;34m\u001b[0m\u001b[0m\n\u001b[1;32m   4564\u001b[0m \u001b[0;34m\u001b[0m\u001b[0m\n\u001b[0;32m-> 4565\u001b[0;31m         \u001b[0mnew_values\u001b[0m \u001b[0;34m=\u001b[0m \u001b[0msuper\u001b[0m\u001b[0;34m(\u001b[0m\u001b[0;34m)\u001b[0m\u001b[0;34m.\u001b[0m\u001b[0m_map_values\u001b[0m\u001b[0;34m(\u001b[0m\u001b[0mmapper\u001b[0m\u001b[0;34m,\u001b[0m \u001b[0mna_action\u001b[0m\u001b[0;34m=\u001b[0m\u001b[0mna_action\u001b[0m\u001b[0;34m)\u001b[0m\u001b[0;34m\u001b[0m\u001b[0;34m\u001b[0m\u001b[0m\n\u001b[0m\u001b[1;32m   4566\u001b[0m \u001b[0;34m\u001b[0m\u001b[0m\n\u001b[1;32m   4567\u001b[0m         \u001b[0mattributes\u001b[0m \u001b[0;34m=\u001b[0m \u001b[0mself\u001b[0m\u001b[0;34m.\u001b[0m\u001b[0m_get_attributes_dict\u001b[0m\u001b[0;34m(\u001b[0m\u001b[0;34m)\u001b[0m\u001b[0;34m\u001b[0m\u001b[0;34m\u001b[0m\u001b[0m\n",
      "\u001b[0;32m/Library/Frameworks/Python.framework/Versions/3.8/lib/python3.8/site-packages/pandas/core/base.py\u001b[0m in \u001b[0;36m_map_values\u001b[0;34m(self, mapper, na_action)\u001b[0m\n\u001b[1;32m   1143\u001b[0m \u001b[0;34m\u001b[0m\u001b[0m\n\u001b[1;32m   1144\u001b[0m         \u001b[0;31m# mapper is a function\u001b[0m\u001b[0;34m\u001b[0m\u001b[0;34m\u001b[0m\u001b[0;34m\u001b[0m\u001b[0m\n\u001b[0;32m-> 1145\u001b[0;31m         \u001b[0mnew_values\u001b[0m \u001b[0;34m=\u001b[0m \u001b[0mmap_f\u001b[0m\u001b[0;34m(\u001b[0m\u001b[0mvalues\u001b[0m\u001b[0;34m,\u001b[0m \u001b[0mmapper\u001b[0m\u001b[0;34m)\u001b[0m\u001b[0;34m\u001b[0m\u001b[0;34m\u001b[0m\u001b[0m\n\u001b[0m\u001b[1;32m   1146\u001b[0m \u001b[0;34m\u001b[0m\u001b[0m\n\u001b[1;32m   1147\u001b[0m         \u001b[0;32mreturn\u001b[0m \u001b[0mnew_values\u001b[0m\u001b[0;34m\u001b[0m\u001b[0;34m\u001b[0m\u001b[0m\n",
      "\u001b[0;32mpandas/_libs/lib.pyx\u001b[0m in \u001b[0;36mpandas._libs.lib.map_infer\u001b[0;34m()\u001b[0m\n",
      "\u001b[0;32m<ipython-input-269-6ec0edd5cbd8>\u001b[0m in \u001b[0;36m<lambda>\u001b[0;34m(x)\u001b[0m\n\u001b[0;32m----> 1\u001b[0;31m \u001b[0mlam\u001b[0m \u001b[0;34m=\u001b[0m \u001b[0mavo_subset\u001b[0m\u001b[0;34m.\u001b[0m\u001b[0mindex\u001b[0m\u001b[0;34m.\u001b[0m\u001b[0mmap\u001b[0m\u001b[0;34m(\u001b[0m\u001b[0;32mlambda\u001b[0m \u001b[0mx\u001b[0m\u001b[0;34m:\u001b[0m \u001b[0mstr\u001b[0m\u001b[0;34m(\u001b[0m\u001b[0mx\u001b[0m\u001b[0;34m)\u001b[0m\u001b[0;34m.\u001b[0m\u001b[0mreplace\u001b[0m\u001b[0;34m(\u001b[0m\u001b[0;34m'20'\u001b[0m\u001b[0;34m)\u001b[0m\u001b[0;34m)\u001b[0m\u001b[0;34m\u001b[0m\u001b[0;34m\u001b[0m\u001b[0m\n\u001b[0m\u001b[1;32m      2\u001b[0m \u001b[0mlam\u001b[0m\u001b[0;34m\u001b[0m\u001b[0;34m\u001b[0m\u001b[0m\n",
      "\u001b[0;31mTypeError\u001b[0m: replace expected at least 2 arguments, got 1"
     ]
    }
   ],
   "source": [
    "lam = avo_subset.index.map(lambda x: str(x).replace('20'))\n",
    "lam"
   ]
  },
  {
   "cell_type": "code",
   "execution_count": null,
   "metadata": {},
   "outputs": [],
   "source": []
  },
  {
   "cell_type": "markdown",
   "metadata": {},
   "source": [
    "# ¡Ya tienes un 10!"
   ]
  },
  {
   "cell_type": "markdown",
   "metadata": {},
   "source": [
    "**No te conformes y si te sobra tiempo, ve a por el 11 o si no, recupera algún puntito si algún ejercicio se te ha quedado atascado. ¡Otra oportunidad!**"
   ]
  },
  {
   "cell_type": "markdown",
   "metadata": {},
   "source": [
    "En esta misma carpeta encontrarás un archivo llamado `supermarket_region.csv`, asígnalo a la variable `supermarket` y muestra los primeros 5 filas. \n",
    "\n"
   ]
  },
  {
   "cell_type": "code",
   "execution_count": 60,
   "metadata": {},
   "outputs": [],
   "source": [
    "# your code here"
   ]
  },
  {
   "cell_type": "code",
   "execution_count": 272,
   "metadata": {},
   "outputs": [
    {
     "output_type": "execute_result",
     "data": {
      "text/plain": "                region                                            Address  \\\n0             Midsouth                                                  0   \n1        DallasFtWorth  2025 Fort Worth Ave, Dallas, TX 75208, Estados...   \n2              Detroit    575 Brush St, Detroit, MI 48226, Estados Unidos   \n3  HartfordSpringfield  1106 Union St, West Springfield, MA 01089, Est...   \n4                Tampa  8401 N Armenia Ave, Tampa, FL 33604, Estados U...   \n\n                 Supermarket Name  \n0                               0  \n1   Elrod's Cost Plus Supermarket  \n2                     City Market  \n3  Price Rite of West Springfield  \n4              Quadro Supermarket  ",
      "text/html": "<div>\n<style scoped>\n    .dataframe tbody tr th:only-of-type {\n        vertical-align: middle;\n    }\n\n    .dataframe tbody tr th {\n        vertical-align: top;\n    }\n\n    .dataframe thead th {\n        text-align: right;\n    }\n</style>\n<table border=\"1\" class=\"dataframe\">\n  <thead>\n    <tr style=\"text-align: right;\">\n      <th></th>\n      <th>region</th>\n      <th>Address</th>\n      <th>Supermarket Name</th>\n    </tr>\n  </thead>\n  <tbody>\n    <tr>\n      <th>0</th>\n      <td>Midsouth</td>\n      <td>0</td>\n      <td>0</td>\n    </tr>\n    <tr>\n      <th>1</th>\n      <td>DallasFtWorth</td>\n      <td>2025 Fort Worth Ave, Dallas, TX 75208, Estados...</td>\n      <td>Elrod's Cost Plus Supermarket</td>\n    </tr>\n    <tr>\n      <th>2</th>\n      <td>Detroit</td>\n      <td>575 Brush St, Detroit, MI 48226, Estados Unidos</td>\n      <td>City Market</td>\n    </tr>\n    <tr>\n      <th>3</th>\n      <td>HartfordSpringfield</td>\n      <td>1106 Union St, West Springfield, MA 01089, Est...</td>\n      <td>Price Rite of West Springfield</td>\n    </tr>\n    <tr>\n      <th>4</th>\n      <td>Tampa</td>\n      <td>8401 N Armenia Ave, Tampa, FL 33604, Estados U...</td>\n      <td>Quadro Supermarket</td>\n    </tr>\n  </tbody>\n</table>\n</div>"
     },
     "metadata": {},
     "execution_count": 272
    }
   ],
   "source": [
    "supermarket = pd.read_csv('/Users/rochi/Desktop/TestFolder/DataScienceBootCampMIO/ProjectsDS/Week7/day4/test/supermarket_region.csv')\n",
    "supermarket.head()"
   ]
  },
  {
   "cell_type": "markdown",
   "metadata": {},
   "source": [
    "El dataframe `supermarket` y `avo_subset` tienen una columna en común que es `region`, sabiendo esto, utiliza el método adecuado para unir ambos dataframes en uno llamado `avo_merged`. \n",
    "\n",
    "Si lo has hecho bien, no debería salir ningún **null**. "
   ]
  },
  {
   "cell_type": "code",
   "execution_count": 61,
   "metadata": {},
   "outputs": [],
   "source": [
    "# your code here"
   ]
  },
  {
   "cell_type": "code",
   "execution_count": null,
   "metadata": {},
   "outputs": [],
   "source": []
  },
  {
   "cell_type": "markdown",
   "metadata": {},
   "source": [
    "Guarda `avo_merged` como un `.json` usando la función de **pandas** correspondiente, el nombre del archivo deberá ser `\"avo_merged.json\"`. "
   ]
  },
  {
   "cell_type": "code",
   "execution_count": 62,
   "metadata": {},
   "outputs": [],
   "source": [
    "# your code here"
   ]
  }
 ],
 "metadata": {
  "kernelspec": {
   "display_name": "Python 3.8.3 64-bit",
   "language": "python",
   "name": "python_defaultSpec_1596093365324"
  },
  "language_info": {
   "codemirror_mode": {
    "name": "ipython",
    "version": 3
   },
   "file_extension": ".py",
   "mimetype": "text/x-python",
   "name": "python",
   "nbconvert_exporter": "python",
   "pygments_lexer": "ipython3",
   "version": "3.8.3"
  }
 },
 "nbformat": 4,
 "nbformat_minor": 4
}