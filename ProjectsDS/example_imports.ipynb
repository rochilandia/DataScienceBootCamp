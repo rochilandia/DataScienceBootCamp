{
 "metadata": {
  "language_info": {
   "codemirror_mode": {
    "name": "ipython",
    "version": 3
   },
   "file_extension": ".py",
   "mimetype": "text/x-python",
   "name": "python",
   "nbconvert_exporter": "python",
   "pygments_lexer": "ipython3",
   "version": "3.8.3-final"
  },
  "orig_nbformat": 2,
  "kernelspec": {
   "name": "python_defaultSpec_1600427554074",
   "display_name": "Python 3.6.4 64-bit"
  }
 },
 "nbformat": 4,
 "nbformat_minor": 2,
 "cells": [
  {
   "cell_type": "code",
   "execution_count": 1,
   "metadata": {},
   "outputs": [],
   "source": [
    "import sys\n",
    "sys.path.append(\"../../\")\n",
    "#esto agrega las carpetas en nivel superior"
   ]
  },
  {
   "cell_type": "code",
   "execution_count": 3,
   "metadata": {
    "tags": []
   },
   "outputs": [
    {
     "output_type": "stream",
     "name": "stdout",
     "text": "Debo estudiar funciones y en la semana de R voy a atender y practicar mucho porque me he dado cuenta que lo necesito seriamente para pasar entrevistas técnicas.\n"
    }
   ],
   "source": [
    "# Una vez en mi sys.path está la carpeta desde la que quiero EMPEZAR a importar, importo.\n",
    "from day5.project_example.a import funcion_a\n",
    "\n",
    "funcion_a()"
   ]
  },
  {
   "cell_type": "code",
   "execution_count": null,
   "metadata": {},
   "outputs": [],
   "source": [
    "#si yo quiero usar una funcion desde el archivo en otra carpeta, otro nivel.. \n",
    "from a import funcion_a"
   ]
  },
  {
   "cell_type": "code",
   "execution_count": null,
   "metadata": {},
   "outputs": [],
   "source": [
    "import sys\n",
    "sys.path\n",
    "\n",
    "from\n",
    "import\n",
    "\n",
    "sys.path.append('/Users/rochi/Desktop/TestFolder/DataScienceBootCampMIO/ProjectsDS') Contiene la ruta de la carpeta donde estas."
   ]
  },
  {
   "cell_type": "code",
   "execution_count": 1,
   "metadata": {},
   "outputs": [
    {
     "output_type": "execute_result",
     "data": {
      "text/plain": "['/Users/rochi/Desktop/TestFolder/DataScienceBootCampMIO/ProjectsDS/Week10/day5/theory',\n '/Users/rochi/.vscode/extensions/ms-python.python-2020.8.108011/pythonFiles/vscode_datascience_helpers/../.does-not-exist',\n '/Users/rochi/.vscode/extensions/ms-python.python-2020.8.108011/pythonFiles',\n '/Users/rochi/.vscode/extensions/ms-python.python-2020.8.108011/pythonFiles/lib/python',\n '/Library/Frameworks/Python.framework/Versions/3.8/lib/python38.zip',\n '/Library/Frameworks/Python.framework/Versions/3.8/lib/python3.8',\n '/Library/Frameworks/Python.framework/Versions/3.8/lib/python3.8/lib-dynload',\n '',\n '/Users/rochi/Library/Python/3.8/lib/python/site-packages',\n '/Library/Frameworks/Python.framework/Versions/3.8/lib/python3.8/site-packages',\n '/Users/rochi/Library/Python/3.8/lib/python/site-packages/IPython/extensions',\n '/Users/rochi/.ipython']"
     },
     "metadata": {},
     "execution_count": 1
    }
   ],
   "source": [
    "sys.path"
   ]
  },
  {
   "cell_type": "code",
   "execution_count": null,
   "metadata": {},
   "outputs": [],
   "source": [
    "#para Windows utilizo doble barra\n",
    "#esto son absolutos dentro de mi computadora\n",
    "#reltivo: uso los .. para subir de nivel\n",
    "#../ subo un nivel\n",
    "#uso set para eliminar los duplicados en la lista de enlaces en sys.path\n",
    "#Uso . para conetar carpetas cuando import\n",
    "#sys.path.append('../../day3')\n",
    "\n",
    "En un project: importar la carpeta x encima de 'src'\n",
    "Asi siempre uno importa las cosas desde src"
   ]
  },
  {
   "cell_type": "code",
   "execution_count": null,
   "metadata": {},
   "outputs": [],
   "source": [
    "import os\n",
    "#sinonimo de subir una carpeta\n",
    "os.path.dirname(os.getcwd())\n",
    "os.path.dirname(os.path.dirname(os.getcwd()))\n",
    "\n",
    "Funciona en archivos .py \n",
    "APUNTO A WEEK10 DESDE CUALQUIER ORDENADOR\n"
   ]
  },
  {
   "cell_type": "code",
   "execution_count": null,
   "metadata": {},
   "outputs": [],
   "source": [
    "import os\n",
    "#sinonimo de subir una carpeta\n",
    "os.path.dirname(os.getcwd())\n",
    "os.path.dirname(os.path.dirname(os.path.abspath('')))\n",
    "\n",
    "#carpeta del fichero en el que estoy:\n",
    "os.getcwd()\n"
   ]
  }
 ]
}