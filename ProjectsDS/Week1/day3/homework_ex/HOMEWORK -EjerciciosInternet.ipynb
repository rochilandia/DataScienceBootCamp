{
 "cells": [
  {
   "cell_type": "markdown",
   "metadata": {},
   "source": [
    "### Ejercicios de Internet\n",
    "\n",
    "#Ejercicio 1\n",
    "\n",
    "Escribir un programa que muestre por pantalla la cadena ¡Hola Mundo!"
   ]
  },
  {
   "cell_type": "code",
   "execution_count": 1,
   "metadata": {
    "tags": []
   },
   "outputs": [
    {
     "output_type": "stream",
     "name": "stdout",
     "text": "Hola Mundo!\n"
    }
   ],
   "source": [
    "x = \"Hola Mundo!\"\n",
    "print(x)\n"
   ]
  },
  {
   "cell_type": "markdown",
   "metadata": {},
   "source": [
    "#Ejercicio 2\n",
    "\n",
    "Escribir un programa que almacene la cadena ¡Hola Mundo! en una variable y luego muestre por pantalla el contenido de la variable."
   ]
  },
  {
   "cell_type": "code",
   "execution_count": 2,
   "metadata": {
    "tags": []
   },
   "outputs": [
    {
     "output_type": "stream",
     "name": "stdout",
     "text": "Hola Mundo!\n"
    }
   ],
   "source": [
    "x = \"Hola Mundo!\"\n",
    "print(x)"
   ]
  },
  {
   "cell_type": "markdown",
   "metadata": {},
   "source": [
    "#Ejercicio 3\n",
    "\n",
    "Escribir un programa que pregunte el nombre del usuario en la consola y después de que el usuario lo introduzca muestre por pantalla la cadena ¡Hola <nombre>!, donde <nombre> es el nombre que el usuario haya introducido."
   ]
  },
  {
   "cell_type": "code",
   "execution_count": 3,
   "metadata": {
    "tags": []
   },
   "outputs": [
    {
     "output_type": "stream",
     "name": "stdout",
     "text": "Hola rochilandia!\n"
    }
   ],
   "source": [
    "Username = \"rochilandia\"\n",
    "print(\"Hola \" + Username + \"!\")\n"
   ]
  },
  {
   "cell_type": "code",
   "execution_count": 2,
   "metadata": {
    "tags": []
   },
   "outputs": [
    {
     "output_type": "stream",
     "name": "stdout",
     "text": "Hola rochi!\n"
    }
   ],
   "source": [
    "Name = input(\"introduce tu nombre de usuario: \")\n",
    "print(\"Hola \" + Name + \"!\")\n"
   ]
  },
  {
   "cell_type": "markdown",
   "metadata": {},
   "source": [
    "#Ejercicio 4\n",
    "\n",
    "Escribir un programa que pregunte el nombre del usuario en la consola y un número entero e imprima por pantalla en líneas distintas el nombre del usuario tantas veces como el número introducido."
   ]
  },
  {
   "cell_type": "code",
   "execution_count": 3,
   "metadata": {
    "tags": []
   },
   "outputs": [
    {
     "output_type": "stream",
     "name": "stdout",
     "text": "Hola rochi!\nrochi\nrochi\nrochi\n\n"
    }
   ],
   "source": [
    "Name = input(\"introduce tu nombre de usuario: \")\n",
    "print(\"Hola \" + Name + \"!\")\n",
    "n = input(\"Ingresa un numero: \")\n",
    "print((Name + \"\\n\") * int(n))\n"
   ]
  },
  {
   "cell_type": "markdown",
   "metadata": {},
   "source": [
    "#Ejercicio 5\n",
    "\n",
    "Escribir un programa que pregunte el nombre del usuario en la consola y después de que el usuario lo introduzca muestre por pantalla <NOMBRE> tiene <n> letras, donde <NOMBRE> es el nombre de usuario en mayúsculas y <n> es el número de letras que tienen el nombre."
   ]
  },
  {
   "cell_type": "code",
   "execution_count": 4,
   "metadata": {
    "tags": []
   },
   "outputs": [
    {
     "output_type": "stream",
     "name": "stdout",
     "text": "Nombre: rochilandia\ntiene \n11\n letras\n"
    }
   ],
   "source": [
    "Name = input(\"introduce tu nombre de usuario: \")\n",
    "print(\"Nombre: \" + Name)\n",
    "print(\"tiene \")\n",
    "l = len(Name)\n",
    "print(l)\n",
    "print(\" letras\")\n",
    "\n"
   ]
  },
  {
   "cell_type": "markdown",
   "metadata": {},
   "source": [
    "#Ejercicio 6\n",
    "\n",
    "Escribir un programa que realice la siguiente operación aritmética (3+2/2⋅5)2."
   ]
  },
  {
   "cell_type": "code",
   "execution_count": 5,
   "metadata": {
    "tags": []
   },
   "outputs": [
    {
     "output_type": "stream",
     "name": "stdout",
     "text": "0.25\n"
    }
   ],
   "source": [
    "x = 3 + 2\n",
    "y = 2 * 5\n",
    "z = x/y\n",
    "r = z **2\n",
    "print(r)"
   ]
  },
  {
   "cell_type": "markdown",
   "metadata": {},
   "source": [
    "#Ejercicio 7\n",
    "\n",
    "Escribir un programa que pregunte al usuario por el número de horas trabajadas y el coste por hora. Después debe mostrar por pantalla la paga que le corresponde."
   ]
  },
  {
   "cell_type": "code",
   "execution_count": 6,
   "metadata": {
    "tags": []
   },
   "outputs": [
    {
     "output_type": "stream",
     "name": "stdout",
     "text": "250.0\n"
    }
   ],
   "source": [
    "horas = input(\"Cantodad de horas de trabajo: \")\n",
    "valor = input(\"El valor por hora es: \")\n",
    "x = float(horas) * float(valor)\n",
    "print(x)\n"
   ]
  },
  {
   "cell_type": "markdown",
   "metadata": {},
   "source": [
    "#Ejercicio 8\n",
    "\n",
    "Escribir un programa que lea un entero positivo, n, introducido por el usuario y después muestre en pantalla la suma de todos los enteros desde 1 hasta n. La suma de los n primeros enteros positivos puede ser calculada de la siguiente forma: suma = n(n+1)/2"
   ]
  },
  {
   "cell_type": "code",
   "execution_count": 11,
   "metadata": {
    "tags": []
   },
   "outputs": [
    {
     "output_type": "stream",
     "name": "stdout",
     "text": "6.0\n"
    }
   ],
   "source": [
    "n = int(input(\"Introduce number: \"))\n",
    "z = n+1\n",
    "r = n*z/2\n",
    "print(r)\n"
   ]
  },
  {
   "cell_type": "markdown",
   "metadata": {},
   "source": [
    "#Ejercicio 9\n",
    "\n",
    "Escribir un programa que pida al usuario su peso (en kg) y estatura (en metros), calcule el índice de masa corporal y lo almacene en una variable, y muestre por pantalla la frase Tu índice de masa corporal es <imc> donde <imc> es el índice de masa corporal calculado redondeado con dos decimales."
   ]
  },
  {
   "cell_type": "code",
   "execution_count": 8,
   "metadata": {
    "tags": []
   },
   "outputs": [
    {
     "output_type": "stream",
     "name": "stdout",
     "text": "Tu indice de masa corporal es: 23.42\n"
    }
   ],
   "source": [
    "\n",
    "peso = input(\"Ingrese su peso en kg.:\")\n",
    "altura = input(\"Ingrese su altura en metros:\")\n",
    "\n",
    "indiceMC = round(float(peso)/float(altura)**2,2)\n",
    "\n",
    "print(\"Tu indice de masa corporal es: \" + str(indiceMC))\n"
   ]
  },
  {
   "cell_type": "markdown",
   "metadata": {},
   "source": [
    "#Ejercicio 10\n",
    "\n",
    "Escribir un programa que pida al usuario dos números enteros y muestre por pantalla la n entre m da un cociente c y un resto r donde n y m son los números introducidos por el usuario, y c y r son el cociente y el resto de la división entera respectivamente."
   ]
  },
  {
   "cell_type": "code",
   "execution_count": 9,
   "metadata": {
    "tags": []
   },
   "outputs": [
    {
     "output_type": "stream",
     "name": "stdout",
     "text": "La division entre 12 y 4 es igual a 3\nEl resto de esa division es igual a 0\n"
    }
   ],
   "source": [
    "n = input(\"Ingrese un nro entero que sera el dividendo: \")\n",
    "m = input(\"Ingrese otro nro entero que sera el divisor: \")\n",
    "c = int(n)//int(m)\n",
    "r = int(n) % int(m)\n",
    "\n",
    "print(\"La division entre \" + str(n) + \" y \" + str(m) + \" es igual a \" + str(c))\n",
    "print(\"El resto de esa division es igual a \" + str(r))\n"
   ]
  },
  {
   "cell_type": "markdown",
   "metadata": {},
   "source": [
    "#Ejercicio 11\n",
    "\n",
    "Escribir un programa que pregunte al usuario una cantidad a invertir, el interés anual y el número de años, y muestre por pantalla el capital obtenido en la inversión."
   ]
  },
  {
   "cell_type": "code",
   "execution_count": 1,
   "metadata": {
    "tags": []
   },
   "outputs": [
    {
     "output_type": "stream",
     "name": "stdout",
     "text": "El capital obtenido en la inversion seria de: 6083.26\n"
    }
   ],
   "source": [
    "investment = float(input(\"Quiero invertir la siguiente cantidad de dinero en euros: \"))\n",
    "interes_anual = float(input(\"Espero ganar un interes anual de (en %): \"))\n",
    "anios = int(input(\"Durante la siguiente cantidad de anios: \"))\n",
    "\n",
    "capital = round(investment * (interes_anual / 100 + 1) ** anios, 2)\n",
    "\n",
    "print(\"El capital obtenido en la inversion seria de: \" + str(capital))\n",
    "\n"
   ]
  },
  {
   "cell_type": "markdown",
   "metadata": {},
   "source": [
    "#Ejercicio 12\n",
    "\n",
    "Una juguetería tiene mucho éxito en dos de sus productos: payasos y muñecas. Suele hacer venta por correo y la empresa de logística les cobra por peso de cada paquete así que deben calcular el peso de los payasos y muñecas que saldrán en cada paquete a demanda. Cada payaso pesa 112 g y cada muñeca 75 g. Escribir un programa que lea el número de payasos y muñecas vendidos en el último pedido y calcule el peso total del paquete que será enviado."
   ]
  },
  {
   "cell_type": "code",
   "execution_count": 9,
   "metadata": {
    "tags": []
   },
   "outputs": [
    {
     "output_type": "stream",
     "name": "stdout",
     "text": "El peso del paquete sera: 1870\n"
    }
   ],
   "source": [
    "cantpayaso = input(\"Ingresar el nro de payasos vendidos: \")\n",
    "cantmuneca = input(\"Ingresar el nro de munecas vendidas: \")\n",
    "pesopayaso = 112\n",
    "pesomuneca = 75\n",
    "peso1 = int(cantpayaso)*pesopayaso\n",
    "peso2 = int(cantmuneca)*pesomuneca\n",
    "pesototal = int(peso1) + int(peso2)\n",
    "\n",
    "print(\"El peso del paquete sera: \" + str(pesototal))\n"
   ]
  },
  {
   "cell_type": "markdown",
   "metadata": {},
   "source": [
    "#Ejercicio 13\n",
    "\n",
    "Imagina que acabas de abrir una nueva cuenta de ahorros que te ofrece el 4% de interés al año. Estos ahorros debido a intereses, que no se cobran hasta finales de año, se te añaden al balance final de tu cuenta de ahorros. \n",
    "\n",
    "Escribir un programa que comience leyendo la cantidad de dinero depositada en la cuenta de ahorros, introducida por el usuario. Después el programa debe calcular y mostrar por pantalla la cantidad de ahorros tras el primer, segundo y tercer años. Redondear cada cantidad a dos decimales."
   ]
  },
  {
   "cell_type": "code",
   "execution_count": 1,
   "metadata": {},
   "outputs": [
    {
     "output_type": "error",
     "ename": "SyntaxError",
     "evalue": "invalid syntax (<ipython-input-1-8e42e58111ad>, line 6)",
     "traceback": [
      "\u001b[0;36m  File \u001b[0;32m\"<ipython-input-1-8e42e58111ad>\"\u001b[0;36m, line \u001b[0;32m6\u001b[0m\n\u001b[0;31m    balance2 = balance1 * (1 + interes_anual)\u001b[0m\n\u001b[0m           ^\u001b[0m\n\u001b[0;31mSyntaxError\u001b[0m\u001b[0;31m:\u001b[0m invalid syntax\n"
     ]
    }
   ],
   "source": [
    "inversion = float(input(\"Cantidad de dinero depositado: \"))\n",
    "interes_anual = 0.04\n",
    "\n",
    "balance1 = inversion * (1 + interes_anual)\n",
    "print(\"El balance tras el 1er anio es: \" + str(round(balance1, 2))\n",
    "balance2 = balance1 * (1 + interes_anual)\n",
    "print(\"El balance tras el 2do anio es: \" + str(round(balance2, 2))\n",
    "balance3 = balance2 * (1 + interes_anual)\n",
    "print(\"El balance tras el 3er anio es: \" + str(round(balance3, 2))\n"
   ]
  },
  {
   "cell_type": "code",
   "execution_count": 22,
   "metadata": {
    "tags": []
   },
   "outputs": [
    {
     "output_type": "stream",
     "name": "stdout",
     "text": "Balance tras el primer año: 312.0\nBalance tras el segundo año: 324.48\nBalance tras el tercer año: 337.46\n"
    }
   ],
   "source": [
    "inversion = float(input(\"Introduce la inversión inicial: \"))\n",
    "interes = 0.04\n",
    "balance1 = inversion * (1 + interes)\n",
    "print(\"Balance tras el primer año: \" + str(round(balance1, 2)))\n",
    "balance2 = balance1 * (1 + interes)\n",
    "print(\"Balance tras el segundo año: \" + str(round(balance2, 2)))\n",
    "balance3 = balance2 * (1 + interes)\n",
    "print(\"Balance tras el tercer año: \" + str(round(balance3, 2)))"
   ]
  },
  {
   "cell_type": "markdown",
   "metadata": {},
   "source": [
    "#Ejercicio 14\n",
    "\n",
    "Una panadería vende barras de pan a 3.49€ cada una. El pan que no es el día tiene un descuento del 60%. Escribir un programa que comience leyendo el número de barras vendidas que no son del día. Después el programa debe mostrar el precio habitual de una barra de pan, el descuento que se le hace por no ser fresca y el coste final total."
   ]
  },
  {
   "cell_type": "code",
   "execution_count": 36,
   "metadata": {
    "tags": []
   },
   "outputs": [
    {
     "output_type": "stream",
     "name": "stdout",
     "text": "El precio habitual es: 3.49 Euros\nSe realiza un descuento de: 60.0%\nEl Coste final es: 6.98 Euros\n"
    }
   ],
   "source": [
    "barrapan = int(input(\"Cantidad vendidas de barras de pan sobrantes: \"))\n",
    "preciobarrapan = 3.49\n",
    "desc = 0.6\n",
    "costefinal = barrapan * preciobarrapan * (1-desc)\n",
    "print(\"El precio habitual es: \" + str(preciobarrapan) + \" Euros\")\n",
    "print(\"Se realiza un descuento de: \" + str(desc * 100) + \"%\")\n",
    "print(\"El Coste final es: \" + str(round(costefinal, 2)) + \" Euros\")"
   ]
  },
  {
   "cell_type": "code",
   "execution_count": 49,
   "metadata": {
    "tags": []
   },
   "outputs": [
    {
     "output_type": "stream",
     "name": "stdout",
     "text": "El precio habitual es: 3.49 Euros\nSe realiza un descuento de: 60.0%\nEl Coste final es: 11.56 Euros\n"
    }
   ],
   "source": [
    "barrapan = float(input(\"Cantidad vendidas de barras de pan sobrantes: \"))\n",
    "preciobarrapan = 3.49\n",
    "desc = 0.6\n",
    "costefinal = barrapan * preciobarrapan - (barrapan * desc)\n",
    "print(\"El precio habitual es: \" + str(preciobarrapan) + \" Euros\")\n",
    "print(\"Se realiza un descuento de: \" + str(desc*100) + \"%\")\n",
    "print(\"El Coste final es: \" + str(round(costefinal, 2)) + \" Euros\")"
   ]
  },
  {
   "cell_type": "code",
   "execution_count": null,
   "metadata": {},
   "outputs": [],
   "source": []
  }
 ],
 "metadata": {
  "language_info": {
   "codemirror_mode": {
    "name": "ipython",
    "version": 3
   },
   "file_extension": ".py",
   "mimetype": "text/x-python",
   "name": "python",
   "nbconvert_exporter": "python",
   "pygments_lexer": "ipython3",
   "version": "3.8.3-final"
  },
  "orig_nbformat": 2,
  "kernelspec": {
   "name": "python3",
   "display_name": "Python 3"
  }
 },
 "nbformat": 4,
 "nbformat_minor": 2
}