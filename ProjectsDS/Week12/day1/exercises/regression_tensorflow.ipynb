{
 "metadata": {
  "language_info": {
   "codemirror_mode": {
    "name": "ipython",
    "version": 3
   },
   "file_extension": ".py",
   "mimetype": "text/x-python",
   "name": "python",
   "nbconvert_exporter": "python",
   "pygments_lexer": "ipython3",
   "version": "3.8.3-final"
  },
  "orig_nbformat": 2,
  "kernelspec": {
   "name": "Python 3.8.3 64-bit",
   "display_name": "Python 3.8.3 64-bit",
   "metadata": {
    "interpreter": {
     "hash": "aee8b7b246df8f9039afb4144a1f6fd8d2ca17a180786b69acc140d282b71a49"
    }
   }
  }
 },
 "nbformat": 4,
 "nbformat_minor": 2,
 "cells": [
  {
   "source": [
    "A partir de la siguiente URL:\n",
    "\n",
    "https://www.tensorflow.org/tutorials/keras/regression?hl=es-419\n",
    "\n",
    "Realiza todos los pasos que se dan en este notebook leyendo todas las explicaciones con el objetivo de comprenderlo. "
   ],
   "cell_type": "markdown",
   "metadata": {}
  },
  {
   "cell_type": "code",
   "execution_count": 1,
   "metadata": {},
   "outputs": [],
   "source": [
    "import pathlib\n",
    "\n",
    "import matplotlib.pyplot as plt\n",
    "import pandas as pd\n",
    "import seaborn as sns\n",
    "\n",
    "import tensorflow as tf\n",
    "\n",
    "from tensorflow import keras\n",
    "from tensorflow.keras import layers"
   ]
  },
  {
   "cell_type": "code",
   "execution_count": 2,
   "metadata": {
    "tags": []
   },
   "outputs": [
    {
     "output_type": "stream",
     "name": "stdout",
     "text": "2.3.0\n"
    }
   ],
   "source": [
    "print(tf.__version__)"
   ]
  },
  {
   "cell_type": "code",
   "execution_count": 3,
   "metadata": {
    "tags": []
   },
   "outputs": [
    {
     "output_type": "stream",
     "name": "stdout",
     "text": "Downloading data from http://archive.ics.uci.edu/ml/machine-learning-databases/auto-mpg/auto-mpg.data\n32768/30286 [================================] - 0s 6us/step\n"
    },
    {
     "output_type": "execute_result",
     "data": {
      "text/plain": "&#39;/Users/rochi/.keras/datasets/auto-mpg.data&#39;"
     },
     "metadata": {},
     "execution_count": 3
    }
   ],
   "source": [
    "dataset_path = keras.utils.get_file(\"auto-mpg.data\", \"http://archive.ics.uci.edu/ml/machine-learning-databases/auto-mpg/auto-mpg.data\")\n",
    "dataset_path"
   ]
  },
  {
   "cell_type": "code",
   "execution_count": 4,
   "metadata": {},
   "outputs": [
    {
     "output_type": "execute_result",
     "data": {
      "text/plain": "{'short_name': 'React App',\n 'name': 'Create React App Sample',\n 'icons': [{'src': 'favicon.ico',\n   'sizes': '64x64 32x32 24x24 16x16',\n   'type': 'image/x-icon'}],\n 'start_url': '.',\n 'display': 'standalone',\n 'theme_color': '#000000',\n 'background_color': '#ffffff'}"
     },
     "metadata": {},
     "execution_count": 4
    }
   ],
   "source": [
    "{\n",
    "  \"short_name\": \"React App\",\n",
    "  \"name\": \"Create React App Sample\",\n",
    "  \"icons\": [\n",
    "    {\n",
    "      \"src\": \"favicon.ico\",\n",
    "      \"sizes\": \"64x64 32x32 24x24 16x16\",\n",
    "      \"type\": \"image/x-icon\"\n",
    "    }\n",
    "  ],\n",
    "  \"start_url\": \".\",\n",
    "  \"display\": \"standalone\",\n",
    "  \"theme_color\": \"#000000\",\n",
    "  \"background_color\": \"#ffffff\"\n",
    "}"
   ]
  },
  {
   "cell_type": "code",
   "execution_count": null,
   "metadata": {},
   "outputs": [],
   "source": []
  }
 ]
}