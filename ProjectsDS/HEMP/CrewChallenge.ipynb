{
 "metadata": {
  "language_info": {
   "codemirror_mode": {
    "name": "ipython",
    "version": 3
   },
   "file_extension": ".py",
   "mimetype": "text/x-python",
   "name": "python",
   "nbconvert_exporter": "python",
   "pygments_lexer": "ipython3",
   "version": "3.8.3-final"
  },
  "orig_nbformat": 2,
  "kernelspec": {
   "name": "Python 3.8.3 64-bit",
   "display_name": "Python 3.8.3 64-bit",
   "metadata": {
    "interpreter": {
     "hash": "aee8b7b246df8f9039afb4144a1f6fd8d2ca17a180786b69acc140d282b71a49"
    }
   }
  }
 },
 "nbformat": 4,
 "nbformat_minor": 2,
 "cells": [
  {
   "cell_type": "code",
   "execution_count": 3,
   "metadata": {},
   "outputs": [],
   "source": [
    "import pandas as pd\n",
    "import numpy as np"
   ]
  },
  {
   "cell_type": "code",
   "execution_count": 4,
   "metadata": {},
   "outputs": [],
   "source": [
    "from sklearn import datasets"
   ]
  },
  {
   "cell_type": "code",
   "execution_count": 5,
   "metadata": {},
   "outputs": [
    {
     "output_type": "execute_result",
     "data": {
      "text/plain": "{&#39;data&#39;: array([[1.423e+01, 1.710e+00, 2.430e+00, ..., 1.040e+00, 3.920e+00,\n         1.065e+03],\n        [1.320e+01, 1.780e+00, 2.140e+00, ..., 1.050e+00, 3.400e+00,\n         1.050e+03],\n        [1.316e+01, 2.360e+00, 2.670e+00, ..., 1.030e+00, 3.170e+00,\n         1.185e+03],\n        ...,\n        [1.327e+01, 4.280e+00, 2.260e+00, ..., 5.900e-01, 1.560e+00,\n         8.350e+02],\n        [1.317e+01, 2.590e+00, 2.370e+00, ..., 6.000e-01, 1.620e+00,\n         8.400e+02],\n        [1.413e+01, 4.100e+00, 2.740e+00, ..., 6.100e-01, 1.600e+00,\n         5.600e+02]]),\n &#39;target&#39;: array([0, 0, 0, 0, 0, 0, 0, 0, 0, 0, 0, 0, 0, 0, 0, 0, 0, 0, 0, 0, 0, 0,\n        0, 0, 0, 0, 0, 0, 0, 0, 0, 0, 0, 0, 0, 0, 0, 0, 0, 0, 0, 0, 0, 0,\n        0, 0, 0, 0, 0, 0, 0, 0, 0, 0, 0, 0, 0, 0, 0, 1, 1, 1, 1, 1, 1, 1,\n        1, 1, 1, 1, 1, 1, 1, 1, 1, 1, 1, 1, 1, 1, 1, 1, 1, 1, 1, 1, 1, 1,\n        1, 1, 1, 1, 1, 1, 1, 1, 1, 1, 1, 1, 1, 1, 1, 1, 1, 1, 1, 1, 1, 1,\n        1, 1, 1, 1, 1, 1, 1, 1, 1, 1, 1, 1, 1, 1, 1, 1, 1, 1, 1, 1, 2, 2,\n        2, 2, 2, 2, 2, 2, 2, 2, 2, 2, 2, 2, 2, 2, 2, 2, 2, 2, 2, 2, 2, 2,\n        2, 2, 2, 2, 2, 2, 2, 2, 2, 2, 2, 2, 2, 2, 2, 2, 2, 2, 2, 2, 2, 2,\n        2, 2]),\n &#39;frame&#39;: None,\n &#39;target_names&#39;: array([&#39;class_0&#39;, &#39;class_1&#39;, &#39;class_2&#39;], dtype=&#39;&lt;U7&#39;),\n &#39;DESCR&#39;: &#39;.. _wine_dataset:\\n\\nWine recognition dataset\\n------------------------\\n\\n**Data Set Characteristics:**\\n\\n    :Number of Instances: 178 (50 in each of three classes)\\n    :Number of Attributes: 13 numeric, predictive attributes and the class\\n    :Attribute Information:\\n \\t\\t- Alcohol\\n \\t\\t- Malic acid\\n \\t\\t- Ash\\n\\t\\t- Alcalinity of ash  \\n \\t\\t- Magnesium\\n\\t\\t- Total phenols\\n \\t\\t- Flavanoids\\n \\t\\t- Nonflavanoid phenols\\n \\t\\t- Proanthocyanins\\n\\t\\t- Color intensity\\n \\t\\t- Hue\\n \\t\\t- OD280/OD315 of diluted wines\\n \\t\\t- Proline\\n\\n    - class:\\n            - class_0\\n            - class_1\\n            - class_2\\n\\t\\t\\n    :Summary Statistics:\\n    \\n    ============================= ==== ===== ======= =====\\n                                   Min   Max   Mean     SD\\n    ============================= ==== ===== ======= =====\\n    Alcohol:                      11.0  14.8    13.0   0.8\\n    Malic Acid:                   0.74  5.80    2.34  1.12\\n    Ash:                          1.36  3.23    2.36  0.27\\n    Alcalinity of Ash:            10.6  30.0    19.5   3.3\\n    Magnesium:                    70.0 162.0    99.7  14.3\\n    Total Phenols:                0.98  3.88    2.29  0.63\\n    Flavanoids:                   0.34  5.08    2.03  1.00\\n    Nonflavanoid Phenols:         0.13  0.66    0.36  0.12\\n    Proanthocyanins:              0.41  3.58    1.59  0.57\\n    Colour Intensity:              1.3  13.0     5.1   2.3\\n    Hue:                          0.48  1.71    0.96  0.23\\n    OD280/OD315 of diluted wines: 1.27  4.00    2.61  0.71\\n    Proline:                       278  1680     746   315\\n    ============================= ==== ===== ======= =====\\n\\n    :Missing Attribute Values: None\\n    :Class Distribution: class_0 (59), class_1 (71), class_2 (48)\\n    :Creator: R.A. Fisher\\n    :Donor: Michael Marshall (MARSHALL%PLU@io.arc.nasa.gov)\\n    :Date: July, 1988\\n\\nThis is a copy of UCI ML Wine recognition datasets.\\nhttps://archive.ics.uci.edu/ml/machine-learning-databases/wine/wine.data\\n\\nThe data is the results of a chemical analysis of wines grown in the same\\nregion in Italy by three different cultivators. There are thirteen different\\nmeasurements taken for different constituents found in the three types of\\nwine.\\n\\nOriginal Owners: \\n\\nForina, M. et al, PARVUS - \\nAn Extendible Package for Data Exploration, Classification and Correlation. \\nInstitute of Pharmaceutical and Food Analysis and Technologies,\\nVia Brigata Salerno, 16147 Genoa, Italy.\\n\\nCitation:\\n\\nLichman, M. (2013). UCI Machine Learning Repository\\n[https://archive.ics.uci.edu/ml]. Irvine, CA: University of California,\\nSchool of Information and Computer Science. \\n\\n.. topic:: References\\n\\n  (1) S. Aeberhard, D. Coomans and O. de Vel, \\n  Comparison of Classifiers in High Dimensional Settings, \\n  Tech. Rep. no. 92-02, (1992), Dept. of Computer Science and Dept. of  \\n  Mathematics and Statistics, James Cook University of North Queensland. \\n  (Also submitted to Technometrics). \\n\\n  The data was used with many others for comparing various \\n  classifiers. The classes are separable, though only RDA \\n  has achieved 100% correct classification. \\n  (RDA : 100%, QDA 99.4%, LDA 98.9%, 1NN 96.1% (z-transformed data)) \\n  (All results using the leave-one-out technique) \\n\\n  (2) S. Aeberhard, D. Coomans and O. de Vel, \\n  &quot;THE CLASSIFICATION PERFORMANCE OF RDA&quot; \\n  Tech. Rep. no. 92-01, (1992), Dept. of Computer Science and Dept. of \\n  Mathematics and Statistics, James Cook University of North Queensland. \\n  (Also submitted to Journal of Chemometrics).\\n&#39;,\n &#39;feature_names&#39;: [&#39;alcohol&#39;,\n  &#39;malic_acid&#39;,\n  &#39;ash&#39;,\n  &#39;alcalinity_of_ash&#39;,\n  &#39;magnesium&#39;,\n  &#39;total_phenols&#39;,\n  &#39;flavanoids&#39;,\n  &#39;nonflavanoid_phenols&#39;,\n  &#39;proanthocyanins&#39;,\n  &#39;color_intensity&#39;,\n  &#39;hue&#39;,\n  &#39;od280/od315_of_diluted_wines&#39;,\n  &#39;proline&#39;]}"
     },
     "metadata": {},
     "execution_count": 5
    }
   ],
   "source": [
    "datasets.load_wine()"
   ]
  },
  {
   "cell_type": "code",
   "execution_count": 6,
   "metadata": {},
   "outputs": [
    {
     "output_type": "execute_result",
     "data": {
      "text/plain": "                                         &lt;!DOCTYPE html&gt;\n0                                       &lt;html lang=&quot;en&quot;&gt;\n1                                                 &lt;head&gt;\n2                                 &lt;meta charset=&quot;utf-8&quot;&gt;\n3        &lt;link rel=&quot;dns-prefetch&quot; href=&quot;https://githu...\n4        &lt;link rel=&quot;dns-prefetch&quot; href=&quot;https://avata...\n...                                                  ...\n16695    &lt;div class=&quot;Popover-message Popover-message-...\n16696                                             &lt;/div&gt;\n16697                                             &lt;/div&gt;\n16698                                            &lt;/body&gt;\n16699                                            &lt;/html&gt;\n\n[16700 rows x 1 columns]",
      "text/html": "<div>\n<style scoped>\n    .dataframe tbody tr th:only-of-type {\n        vertical-align: middle;\n    }\n\n    .dataframe tbody tr th {\n        vertical-align: top;\n    }\n\n    .dataframe thead th {\n        text-align: right;\n    }\n</style>\n<table border=\"1\" class=\"dataframe\">\n  <thead>\n    <tr style=\"text-align: right;\">\n      <th></th>\n      <th>&lt;!DOCTYPE html&gt;</th>\n    </tr>\n  </thead>\n  <tbody>\n    <tr>\n      <th>0</th>\n      <td>&lt;html lang=\"en\"&gt;</td>\n    </tr>\n    <tr>\n      <th>1</th>\n      <td>&lt;head&gt;</td>\n    </tr>\n    <tr>\n      <th>2</th>\n      <td>&lt;meta charset=\"utf-8\"&gt;</td>\n    </tr>\n    <tr>\n      <th>3</th>\n      <td>&lt;link rel=\"dns-prefetch\" href=\"https://githu...</td>\n    </tr>\n    <tr>\n      <th>4</th>\n      <td>&lt;link rel=\"dns-prefetch\" href=\"https://avata...</td>\n    </tr>\n    <tr>\n      <th>...</th>\n      <td>...</td>\n    </tr>\n    <tr>\n      <th>16695</th>\n      <td>&lt;div class=\"Popover-message Popover-message-...</td>\n    </tr>\n    <tr>\n      <th>16696</th>\n      <td>&lt;/div&gt;</td>\n    </tr>\n    <tr>\n      <th>16697</th>\n      <td>&lt;/div&gt;</td>\n    </tr>\n    <tr>\n      <th>16698</th>\n      <td>&lt;/body&gt;</td>\n    </tr>\n    <tr>\n      <th>16699</th>\n      <td>&lt;/html&gt;</td>\n    </tr>\n  </tbody>\n</table>\n<p>16700 rows × 1 columns</p>\n</div>"
     },
     "metadata": {},
     "execution_count": 6
    }
   ],
   "source": [
    "brands = pd.read_csv('https://github.com/kushyapp/cannabis-dataset/blob/master/Dataset/Brands/brands-kushy_api.2017-11-14.csv', sep= '\\n')\n",
    "brands"
   ]
  },
  {
   "cell_type": "code",
   "execution_count": 11,
   "metadata": {},
   "outputs": [
    {
     "output_type": "execute_result",
     "data": {
      "text/plain": "          id                         name  \\\n0          1  Pre-Roll Package - Pre-roll   \n1          2            ounce of cannabis   \n2          3        1/2 ounce of cannabis   \n3          4        1/4 ounce of cannabis   \n4          5                          1/8   \n...      ...                          ...   \n17228  17229              Blueberry - Oil   \n17229  17230            Purple Haze - Oil   \n17230  17231             Cannatonic - Oil   \n17231  17232         Pineapple Kush - Wax   \n17232  17233         Chocolate Thai - Wax   \n\n                                              slug              brand  \\\n0      the-humboldt-cure-pre-roll-package-pre-roll  The Humboldt Cure   \n1              the-humboldt-cure-ounce-of-cannabis  The Humboldt Cure   \n2          the-humboldt-cure-1-2-ounce-of-cannabis  The Humboldt Cure   \n3          the-humboldt-cure-1-4-ounce-of-cannabis  The Humboldt Cure   \n4                            the-humboldt-cure-1-8  The Humboldt Cure   \n...                                            ...                ...   \n17228                    popnaturals-blueberry-oil        PopNaturals   \n17229                  popnaturals-purple-haze-oil        PopNaturals   \n17230                   popnaturals-cannatonic-oil        PopNaturals   \n17231          unknown-producer-pineapple-kush-wax   Unknown Producer   \n17232          unknown-producer-chocolate-thai-wax   Unknown Producer   \n\n               category          strain     thc  cbd  \\\n0      Flowers,Pre-Roll             NaN     NaN  NaN   \n1                   NaN             NaN     NaN  NaN   \n2                   NaN             NaN     NaN  NaN   \n3                   NaN             NaN     NaN  NaN   \n4                   NaN             NaN     NaN  NaN   \n...                 ...             ...     ...  ...   \n17228  Concentrate,Oil,       Blueberry     NaN  NaN   \n17229  Concentrate,Oil,     Purple Haze     NaN  NaN   \n17230  Concentrate,Oil,      Cannatonic  19.71%  33%   \n17231  Concentrate,Wax,  Pineapple Kush     NaN  NaN   \n17232  Concentrate,Wax,  Chocolate Thai     NaN  NaN   \n\n                                                lab_test  \n0                                                    NaN  \n1                                                    NaN  \n2                                                    NaN  \n3                                                    NaN  \n4                                                    NaN  \n...                                                  ...  \n17228                                                NaN  \n17229                                                NaN  \n17230  https://www.cannabisreports.com/lab-tests/f/fc...  \n17231                                                NaN  \n17232                                                NaN  \n\n[17233 rows x 9 columns]",
      "text/html": "<div>\n<style scoped>\n    .dataframe tbody tr th:only-of-type {\n        vertical-align: middle;\n    }\n\n    .dataframe tbody tr th {\n        vertical-align: top;\n    }\n\n    .dataframe thead th {\n        text-align: right;\n    }\n</style>\n<table border=\"1\" class=\"dataframe\">\n  <thead>\n    <tr style=\"text-align: right;\">\n      <th></th>\n      <th>id</th>\n      <th>name</th>\n      <th>slug</th>\n      <th>brand</th>\n      <th>category</th>\n      <th>strain</th>\n      <th>thc</th>\n      <th>cbd</th>\n      <th>lab_test</th>\n    </tr>\n  </thead>\n  <tbody>\n    <tr>\n      <th>0</th>\n      <td>1</td>\n      <td>Pre-Roll Package - Pre-roll</td>\n      <td>the-humboldt-cure-pre-roll-package-pre-roll</td>\n      <td>The Humboldt Cure</td>\n      <td>Flowers,Pre-Roll</td>\n      <td>NaN</td>\n      <td>NaN</td>\n      <td>NaN</td>\n      <td>NaN</td>\n    </tr>\n    <tr>\n      <th>1</th>\n      <td>2</td>\n      <td>ounce of cannabis</td>\n      <td>the-humboldt-cure-ounce-of-cannabis</td>\n      <td>The Humboldt Cure</td>\n      <td>NaN</td>\n      <td>NaN</td>\n      <td>NaN</td>\n      <td>NaN</td>\n      <td>NaN</td>\n    </tr>\n    <tr>\n      <th>2</th>\n      <td>3</td>\n      <td>1/2 ounce of cannabis</td>\n      <td>the-humboldt-cure-1-2-ounce-of-cannabis</td>\n      <td>The Humboldt Cure</td>\n      <td>NaN</td>\n      <td>NaN</td>\n      <td>NaN</td>\n      <td>NaN</td>\n      <td>NaN</td>\n    </tr>\n    <tr>\n      <th>3</th>\n      <td>4</td>\n      <td>1/4 ounce of cannabis</td>\n      <td>the-humboldt-cure-1-4-ounce-of-cannabis</td>\n      <td>The Humboldt Cure</td>\n      <td>NaN</td>\n      <td>NaN</td>\n      <td>NaN</td>\n      <td>NaN</td>\n      <td>NaN</td>\n    </tr>\n    <tr>\n      <th>4</th>\n      <td>5</td>\n      <td>1/8</td>\n      <td>the-humboldt-cure-1-8</td>\n      <td>The Humboldt Cure</td>\n      <td>NaN</td>\n      <td>NaN</td>\n      <td>NaN</td>\n      <td>NaN</td>\n      <td>NaN</td>\n    </tr>\n    <tr>\n      <th>...</th>\n      <td>...</td>\n      <td>...</td>\n      <td>...</td>\n      <td>...</td>\n      <td>...</td>\n      <td>...</td>\n      <td>...</td>\n      <td>...</td>\n      <td>...</td>\n    </tr>\n    <tr>\n      <th>17228</th>\n      <td>17229</td>\n      <td>Blueberry - Oil</td>\n      <td>popnaturals-blueberry-oil</td>\n      <td>PopNaturals</td>\n      <td>Concentrate,Oil,</td>\n      <td>Blueberry</td>\n      <td>NaN</td>\n      <td>NaN</td>\n      <td>NaN</td>\n    </tr>\n    <tr>\n      <th>17229</th>\n      <td>17230</td>\n      <td>Purple Haze - Oil</td>\n      <td>popnaturals-purple-haze-oil</td>\n      <td>PopNaturals</td>\n      <td>Concentrate,Oil,</td>\n      <td>Purple Haze</td>\n      <td>NaN</td>\n      <td>NaN</td>\n      <td>NaN</td>\n    </tr>\n    <tr>\n      <th>17230</th>\n      <td>17231</td>\n      <td>Cannatonic - Oil</td>\n      <td>popnaturals-cannatonic-oil</td>\n      <td>PopNaturals</td>\n      <td>Concentrate,Oil,</td>\n      <td>Cannatonic</td>\n      <td>19.71%</td>\n      <td>33%</td>\n      <td>https://www.cannabisreports.com/lab-tests/f/fc...</td>\n    </tr>\n    <tr>\n      <th>17231</th>\n      <td>17232</td>\n      <td>Pineapple Kush - Wax</td>\n      <td>unknown-producer-pineapple-kush-wax</td>\n      <td>Unknown Producer</td>\n      <td>Concentrate,Wax,</td>\n      <td>Pineapple Kush</td>\n      <td>NaN</td>\n      <td>NaN</td>\n      <td>NaN</td>\n    </tr>\n    <tr>\n      <th>17232</th>\n      <td>17233</td>\n      <td>Chocolate Thai - Wax</td>\n      <td>unknown-producer-chocolate-thai-wax</td>\n      <td>Unknown Producer</td>\n      <td>Concentrate,Wax,</td>\n      <td>Chocolate Thai</td>\n      <td>NaN</td>\n      <td>NaN</td>\n      <td>NaN</td>\n    </tr>\n  </tbody>\n</table>\n<p>17233 rows × 9 columns</p>\n</div>"
     },
     "metadata": {},
     "execution_count": 11
    }
   ],
   "source": [
    "products = pd.read_csv(\"https://raw.githubusercontent.com/kushyapp/cannabis-dataset/master/Dataset/Products/products-kushy_api.2017-11-14.csv\")\n",
    "products"
   ]
  },
  {
   "cell_type": "code",
   "execution_count": 12,
   "metadata": {},
   "outputs": [
    {
     "output_type": "execute_result",
     "data": {
      "text/plain": "(17233, 9)"
     },
     "metadata": {},
     "execution_count": 12
    }
   ],
   "source": [
    "products.shape"
   ]
  },
  {
   "cell_type": "code",
   "execution_count": 7,
   "metadata": {},
   "outputs": [
    {
     "output_type": "execute_result",
     "data": {
      "text/plain": "(16700, 1)"
     },
     "metadata": {},
     "execution_count": 7
    }
   ],
   "source": [
    "brands.shape"
   ]
  },
  {
   "cell_type": "code",
   "execution_count": 64,
   "metadata": {
    "tags": [
     "outputPrepend"
    ]
   },
   "outputs": [
    {
     "output_type": "stream",
     "name": "stderr",
     "text": "ine 10707: expected 1 fields, saw 28\\nSkipping line 10711: expected 1 fields, saw 28\\nSkipping line 10715: expected 1 fields, saw 28\\nSkipping line 10719: expected 1 fields, saw 28\\nSkipping line 10723: expected 1 fields, saw 28\\nSkipping line 10727: expected 1 fields, saw 28\\nSkipping line 10731: expected 1 fields, saw 28\\nSkipping line 10735: expected 1 fields, saw 28\\nSkipping line 10739: expected 1 fields, saw 28\\nSkipping line 10743: expected 1 fields, saw 28\\nSkipping line 10747: expected 1 fields, saw 28\\nSkipping line 10751: expected 1 fields, saw 28\\nSkipping line 10755: expected 1 fields, saw 28\\nSkipping line 10759: expected 1 fields, saw 28\\nSkipping line 10763: expected 1 fields, saw 28\\nSkipping line 10767: expected 1 fields, saw 28\\nSkipping line 10771: expected 1 fields, saw 28\\nSkipping line 10775: expected 1 fields, saw 28\\nSkipping line 10779: expected 1 fields, saw 28\\nSkipping line 10783: expected 1 fields, saw 28\\nSkipping line 10787: expected 1 fields, saw 29\\nSkipping line 10791: expected 1 fields, saw 28\\nSkipping line 10795: expected 1 fields, saw 28\\nSkipping line 10799: expected 1 fields, saw 28\\nSkipping line 10803: expected 1 fields, saw 28\\nSkipping line 10807: expected 1 fields, saw 28\\nSkipping line 10811: expected 1 fields, saw 28\\nSkipping line 10815: expected 1 fields, saw 28\\nSkipping line 10819: expected 1 fields, saw 28\\nSkipping line 10823: expected 1 fields, saw 28\\nSkipping line 10827: expected 1 fields, saw 29\\nSkipping line 10831: expected 1 fields, saw 28\\nSkipping line 10835: expected 1 fields, saw 28\\nSkipping line 10839: expected 1 fields, saw 28\\nSkipping line 10843: expected 1 fields, saw 29\\nSkipping line 10847: expected 1 fields, saw 28\\nSkipping line 10851: expected 1 fields, saw 28\\nSkipping line 10855: expected 1 fields, saw 28\\nSkipping line 10859: expected 1 fields, saw 28\\nSkipping line 10863: expected 1 fields, saw 28\\nSkipping line 10867: expected 1 fields, saw 28\\nSkipping line 10871: expected 1 fields, saw 28\\nSkipping line 10875: expected 1 fields, saw 28\\nSkipping line 10879: expected 1 fields, saw 29\\nSkipping line 10883: expected 1 fields, saw 28\\nSkipping line 10887: expected 1 fields, saw 28\\nSkipping line 10891: expected 1 fields, saw 28\\nSkipping line 10895: expected 1 fields, saw 29\\nSkipping line 10899: expected 1 fields, saw 28\\nSkipping line 10903: expected 1 fields, saw 29\\nSkipping line 10907: expected 1 fields, saw 28\\nSkipping line 10911: expected 1 fields, saw 29\\nSkipping line 10915: expected 1 fields, saw 28\\nSkipping line 10919: expected 1 fields, saw 28\\nSkipping line 10923: expected 1 fields, saw 28\\nSkipping line 10927: expected 1 fields, saw 29\\nSkipping line 10931: expected 1 fields, saw 28\\nSkipping line 10935: expected 1 fields, saw 28\\nSkipping line 10939: expected 1 fields, saw 28\\nSkipping line 10943: expected 1 fields, saw 28\\nSkipping line 10947: expected 1 fields, saw 28\\nSkipping line 10951: expected 1 fields, saw 28\\nSkipping line 10955: expected 1 fields, saw 28\\nSkipping line 10959: expected 1 fields, saw 30\\nSkipping line 10963: expected 1 fields, saw 28\\nSkipping line 10967: expected 1 fields, saw 28\\nSkipping line 10971: expected 1 fields, saw 28\\nSkipping line 10975: expected 1 fields, saw 28\\nSkipping line 10979: expected 1 fields, saw 28\\nSkipping line 10983: expected 1 fields, saw 28\\nSkipping line 10987: expected 1 fields, saw 28\\nSkipping line 10991: expected 1 fields, saw 28\\nSkipping line 10995: expected 1 fields, saw 28\\nSkipping line 10999: expected 1 fields, saw 28\\nSkipping line 11003: expected 1 fields, saw 28\\nSkipping line 11007: expected 1 fields, saw 28\\nSkipping line 11011: expected 1 fields, saw 28\\nSkipping line 11015: expected 1 fields, saw 28\\nSkipping line 11019: expected 1 fields, saw 28\\nSkipping line 11023: expected 1 fields, saw 28\\nSkipping line 11027: expected 1 fields, saw 28\\nSkipping line 11031: expected 1 fields, saw 28\\nSkipping line 11035: expected 1 fields, saw 28\\nSkipping line 11039: expected 1 fields, saw 28\\nSkipping line 11043: expected 1 fields, saw 28\\nSkipping line 11047: expected 1 fields, saw 28\\nSkipping line 11051: expected 1 fields, saw 29\\nSkipping line 11055: expected 1 fields, saw 28\\nSkipping line 11059: expected 1 fields, saw 28\\nSkipping line 11063: expected 1 fields, saw 28\\nSkipping line 11067: expected 1 fields, saw 28\\nSkipping line 11071: expected 1 fields, saw 28\\nSkipping line 11075: expected 1 fields, saw 28\\nSkipping line 11079: expected 1 fields, saw 28\\nSkipping line 11083: expected 1 fields, saw 28\\nSkipping line 11087: expected 1 fields, saw 28\\nSkipping line 11091: expected 1 fields, saw 28\\nSkipping line 11095: expected 1 fields, saw 28\\nSkipping line 11099: expected 1 fields, saw 28\\nSkipping line 11103: expected 1 fields, saw 28\\nSkipping line 11107: expected 1 fields, saw 28\\nSkipping line 11111: expected 1 fields, saw 28\\nSkipping line 11115: expected 1 fields, saw 28\\nSkipping line 11119: expected 1 fields, saw 28\\nSkipping line 11123: expected 1 fields, saw 29\\nSkipping line 11127: expected 1 fields, saw 28\\nSkipping line 11131: expected 1 fields, saw 28\\nSkipping line 11135: expected 1 fields, saw 28\\nSkipping line 11139: expected 1 fields, saw 28\\nSkipping line 11143: expected 1 fields, saw 28\\nSkipping line 11147: expected 1 fields, saw 28\\nSkipping line 11151: expected 1 fields, saw 28\\nSkipping line 11155: expected 1 fields, saw 28\\nSkipping line 11159: expected 1 fields, saw 28\\nSkipping line 11163: expected 1 fields, saw 28\\nSkipping line 11167: expected 1 fields, saw 28\\nSkipping line 11171: expected 1 fields, saw 28\\nSkipping line 11175: expected 1 fields, saw 28\\nSkipping line 11179: expected 1 fields, saw 28\\nSkipping line 11183: expected 1 fields, saw 28\\nSkipping line 11187: expected 1 fields, saw 28\\nSkipping line 11191: expected 1 fields, saw 28\\nSkipping line 11195: expected 1 fields, saw 28\\nSkipping line 11199: expected 1 fields, saw 28\\nSkipping line 11203: expected 1 fields, saw 28\\nSkipping line 11207: expected 1 fields, saw 28\\nSkipping line 11211: expected 1 fields, saw 28\\nSkipping line 11215: expected 1 fields, saw 28\\nSkipping line 11219: expected 1 fields, saw 28\\nSkipping line 11223: expected 1 fields, saw 28\\nSkipping line 11227: expected 1 fields, saw 28\\nSkipping line 11231: expected 1 fields, saw 28\\nSkipping line 11235: expected 1 fields, saw 28\\nSkipping line 11239: expected 1 fields, saw 28\\nSkipping line 11243: expected 1 fields, saw 28\\nSkipping line 11247: expected 1 fields, saw 28\\nSkipping line 11251: expected 1 fields, saw 28\\nSkipping line 11255: expected 1 fields, saw 28\\nSkipping line 11259: expected 1 fields, saw 28\\nSkipping line 11263: expected 1 fields, saw 28\\nSkipping line 11267: expected 1 fields, saw 28\\nSkipping line 11271: expected 1 fields, saw 28\\nSkipping line 11275: expected 1 fields, saw 28\\nSkipping line 11279: expected 1 fields, saw 28\\nSkipping line 11283: expected 1 fields, saw 28\\nSkipping line 11287: expected 1 fields, saw 28\\nSkipping line 11291: expected 1 fields, saw 28\\nSkipping line 11295: expected 1 fields, saw 28\\nSkipping line 11299: expected 1 fields, saw 28\\nSkipping line 11303: expected 1 fields, saw 28\\nSkipping line 11307: expected 1 fields, saw 28\\nSkipping line 11311: expected 1 fields, saw 28\\nSkipping line 11315: expected 1 fields, saw 28\\nSkipping line 11319: expected 1 fields, saw 28\\nSkipping line 11323: expected 1 fields, saw 28\\nSkipping line 11327: expected 1 fields, saw 28\\nSkipping line 11331: expected 1 fields, saw 28\\nSkipping line 11335: expected 1 fields, saw 29\\nSkipping line 11339: expected 1 fields, saw 28\\nSkipping line 11343: expected 1 fields, saw 28\\nSkipping line 11347: expected 1 fields, saw 28\\nSkipping line 11351: expected 1 fields, saw 28\\nSkipping line 11355: expected 1 fields, saw 28\\nSkipping line 11359: expected 1 fields, saw 28\\nSkipping line 11363: expected 1 fields, saw 28\\nSkipping line 11367: expected 1 fields, saw 28\\nSkipping line 11371: expected 1 fields, saw 28\\nSkipping line 11375: expected 1 fields, saw 28\\nSkipping line 11379: expected 1 fields, saw 28\\nSkipping line 11383: expected 1 fields, saw 28\\nSkipping line 11387: expected 1 fields, saw 28\\nSkipping line 11391: expected 1 fields, saw 28\\nSkipping line 11395: expected 1 fields, saw 28\\nSkipping line 11399: expected 1 fields, saw 28\\nSkipping line 11403: expected 1 fields, saw 28\\nSkipping line 11407: expected 1 fields, saw 28\\nSkipping line 11411: expected 1 fields, saw 28\\nSkipping line 11415: expected 1 fields, saw 28\\nSkipping line 11419: expected 1 fields, saw 28\\nSkipping line 11423: expected 1 fields, saw 28\\nSkipping line 11427: expected 1 fields, saw 28\\nSkipping line 11431: expected 1 fields, saw 28\\nSkipping line 11435: expected 1 fields, saw 28\\nSkipping line 11439: expected 1 fields, saw 28\\nSkipping line 11443: expected 1 fields, saw 28\\nSkipping line 11447: expected 1 fields, saw 28\\nSkipping line 11451: expected 1 fields, saw 28\\nSkipping line 11455: expected 1 fields, saw 28\\nSkipping line 11459: expected 1 fields, saw 28\\nSkipping line 11463: expected 1 fields, saw 28\\nSkipping line 11467: expected 1 fields, saw 28\\nSkipping line 11471: expected 1 fields, saw 28\\nSkipping line 11475: expected 1 fields, saw 28\\nSkipping line 11479: expected 1 fields, saw 28\\nSkipping line 11483: expected 1 fields, saw 28\\nSkipping line 11487: expected 1 fields, saw 28\\nSkipping line 11491: expected 1 fields, saw 28\\nSkipping line 11495: expected 1 fields, saw 28\\nSkipping line 11499: expected 1 fields, saw 28\\nSkipping line 11503: expected 1 fields, saw 28\\nSkipping line 11507: expected 1 fields, saw 28\\nSkipping line 11511: expected 1 fields, saw 28\\nSkipping line 11515: expected 1 fields, saw 28\\nSkipping line 11519: expected 1 fields, saw 28\\nSkipping line 11523: expected 1 fields, saw 28\\nSkipping line 11527: expected 1 fields, saw 28\\nSkipping line 11531: expected 1 fields, saw 28\\nSkipping line 11535: expected 1 fields, saw 28\\nSkipping line 11539: expected 1 fields, saw 28\\nSkipping line 11543: expected 1 fields, saw 29\\nSkipping line 11547: expected 1 fields, saw 28\\nSkipping line 11551: expected 1 fields, saw 29\\nSkipping line 11555: expected 1 fields, saw 28\\nSkipping line 11559: expected 1 fields, saw 28\\nSkipping line 11563: expected 1 fields, saw 28\\nSkipping line 11567: expected 1 fields, saw 28\\nSkipping line 11571: expected 1 fields, saw 28\\nSkipping line 11575: expected 1 fields, saw 28\\nSkipping line 11579: expected 1 fields, saw 28\\nSkipping line 11583: expected 1 fields, saw 28\\nSkipping line 11587: expected 1 fields, saw 28\\nSkipping line 11591: expected 1 fields, saw 28\\nSkipping line 11595: expected 1 fields, saw 28\\nSkipping line 11599: expected 1 fields, saw 28\\nSkipping line 11603: expected 1 fields, saw 28\\nSkipping line 11607: expected 1 fields, saw 28\\nSkipping line 11611: expected 1 fields, saw 28\\nSkipping line 11615: expected 1 fields, saw 28\\nSkipping line 11619: expected 1 fields, saw 28\\nSkipping line 11623: expected 1 fields, saw 28\\nSkipping line 11627: expected 1 fields, saw 28\\nSkipping line 11631: expected 1 fields, saw 29\\nSkipping line 11635: expected 1 fields, saw 28\\nSkipping line 11639: expected 1 fields, saw 28\\nSkipping line 11643: expected 1 fields, saw 29\\nSkipping line 11647: expected 1 fields, saw 28\\nSkipping line 11651: expected 1 fields, saw 28\\nSkipping line 11655: expected 1 fields, saw 28\\nSkipping line 11659: expected 1 fields, saw 28\\nSkipping line 11663: expected 1 fields, saw 28\\nSkipping line 11667: expected 1 fields, saw 28\\nSkipping line 11671: expected 1 fields, saw 28\\nSkipping line 11675: expected 1 fields, saw 28\\nSkipping line 11679: expected 1 fields, saw 28\\nSkipping line 11683: expected 1 fields, saw 28\\nSkipping line 11687: expected 1 fields, saw 28\\nSkipping line 11691: expected 1 fields, saw 28\\nSkipping line 11695: expected 1 fields, saw 29\\nSkipping line 11699: expected 1 fields, saw 28\\nSkipping line 11703: expected 1 fields, saw 28\\nSkipping line 11707: expected 1 fields, saw 28\\nSkipping line 11711: expected 1 fields, saw 28\\nSkipping line 11715: expected 1 fields, saw 28\\nSkipping line 11719: expected 1 fields, saw 28\\nSkipping line 11723: expected 1 fields, saw 28\\nSkipping line 11727: expected 1 fields, saw 28\\nSkipping line 11731: expected 1 fields, saw 28\\nSkipping line 11735: expected 1 fields, saw 28\\nSkipping line 11739: expected 1 fields, saw 28\\nSkipping line 11743: expected 1 fields, saw 28\\nSkipping line 11747: expected 1 fields, saw 28\\nSkipping line 11751: expected 1 fields, saw 28\\nSkipping line 11755: expected 1 fields, saw 28\\nSkipping line 11759: expected 1 fields, saw 28\\nSkipping line 11763: expected 1 fields, saw 28\\nSkipping line 11767: expected 1 fields, saw 28\\nSkipping line 11771: expected 1 fields, saw 28\\nSkipping line 11775: expected 1 fields, saw 28\\nSkipping line 11779: expected 1 fields, saw 28\\nSkipping line 11783: expected 1 fields, saw 28\\nSkipping line 11787: expected 1 fields, saw 28\\nSkipping line 11791: expected 1 fields, saw 28\\nSkipping line 11795: expected 1 fields, saw 28\\nSkipping line 11799: expected 1 fields, saw 28\\nSkipping line 11803: expected 1 fields, saw 28\\nSkipping line 11807: expected 1 fields, saw 28\\nSkipping line 11811: expected 1 fields, saw 28\\nSkipping line 11815: expected 1 fields, saw 28\\nSkipping line 11819: expected 1 fields, saw 28\\nSkipping line 11823: expected 1 fields, saw 28\\nSkipping line 11827: expected 1 fields, saw 28\\nSkipping line 11831: expected 1 fields, saw 28\\nSkipping line 11835: expected 1 fields, saw 28\\nSkipping line 11839: expected 1 fields, saw 28\\nSkipping line 11843: expected 1 fields, saw 28\\nSkipping line 11847: expected 1 fields, saw 28\\nSkipping line 11851: expected 1 fields, saw 28\\nSkipping line 11855: expected 1 fields, saw 28\\nSkipping line 11859: expected 1 fields, saw 28\\nSkipping line 11863: expected 1 fields, saw 28\\nSkipping line 11867: expected 1 fields, saw 28\\nSkipping line 11871: expected 1 fields, saw 28\\nSkipping line 11875: expected 1 fields, saw 28\\nSkipping line 11879: expected 1 fields, saw 28\\nSkipping line 11883: expected 1 fields, saw 28\\nSkipping line 11887: expected 1 fields, saw 28\\nSkipping line 11891: expected 1 fields, saw 28\\nSkipping line 11895: expected 1 fields, saw 28\\nSkipping line 11899: expected 1 fields, saw 28\\nSkipping line 11903: expected 1 fields, saw 28\\nSkipping line 11907: expected 1 fields, saw 28\\nSkipping line 11911: expected 1 fields, saw 28\\nSkipping line 11915: expected 1 fields, saw 28\\nSkipping line 11919: expected 1 fields, saw 28\\nSkipping line 11923: expected 1 fields, saw 28\\nSkipping line 11927: expected 1 fields, saw 28\\nSkipping line 11931: expected 1 fields, saw 28\\nSkipping line 11935: expected 1 fields, saw 28\\nSkipping line 11939: expected 1 fields, saw 28\\nSkipping line 11943: expected 1 fields, saw 29\\nSkipping line 11947: expected 1 fields, saw 28\\nSkipping line 11951: expected 1 fields, saw 28\\nSkipping line 11955: expected 1 fields, saw 29\\nSkipping line 11959: expected 1 fields, saw 28\\nSkipping line 11963: expected 1 fields, saw 28\\nSkipping line 11967: expected 1 fields, saw 28\\nSkipping line 11971: expected 1 fields, saw 28\\nSkipping line 11975: expected 1 fields, saw 28\\nSkipping line 11979: expected 1 fields, saw 28\\nSkipping line 11983: expected 1 fields, saw 28\\nSkipping line 11987: expected 1 fields, saw 28\\nSkipping line 11991: expected 1 fields, saw 28\\nSkipping line 11995: expected 1 fields, saw 28\\nSkipping line 11999: expected 1 fields, saw 28\\nSkipping line 12003: expected 1 fields, saw 28\\nSkipping line 12007: expected 1 fields, saw 28\\nSkipping line 12011: expected 1 fields, saw 28\\nSkipping line 12015: expected 1 fields, saw 28\\nSkipping line 12019: expected 1 fields, saw 28\\nSkipping line 12023: expected 1 fields, saw 28\\nSkipping line 12027: expected 1 fields, saw 28\\nSkipping line 12031: expected 1 fields, saw 28\\nSkipping line 12035: expected 1 fields, saw 28\\nSkipping line 12039: expected 1 fields, saw 28\\nSkipping line 12043: expected 1 fields, saw 28\\nSkipping line 12047: expected 1 fields, saw 28\\nSkipping line 12051: expected 1 fields, saw 28\\nSkipping line 12055: expected 1 fields, saw 28\\nSkipping line 12059: expected 1 fields, saw 28\\nSkipping line 12063: expected 1 fields, saw 28\\nSkipping line 12067: expected 1 fields, saw 28\\nSkipping line 12071: expected 1 fields, saw 28\\nSkipping line 12075: expected 1 fields, saw 28\\nSkipping line 12079: expected 1 fields, saw 28\\nSkipping line 12083: expected 1 fields, saw 28\\nSkipping line 12087: expected 1 fields, saw 28\\nSkipping line 12091: expected 1 fields, saw 28\\nSkipping line 12095: expected 1 fields, saw 28\\nSkipping line 12099: expected 1 fields, saw 28\\nSkipping line 12103: expected 1 fields, saw 28\\nSkipping line 12107: expected 1 fields, saw 28\\nSkipping line 12111: expected 1 fields, saw 28\\nSkipping line 12115: expected 1 fields, saw 28\\nSkipping line 12119: expected 1 fields, saw 28\\nSkipping line 12123: expected 1 fields, saw 28\\nSkipping line 12127: expected 1 fields, saw 28\\nSkipping line 12131: expected 1 fields, saw 28\\nSkipping line 12135: expected 1 fields, saw 28\\nSkipping line 12139: expected 1 fields, saw 28\\nSkipping line 12143: expected 1 fields, saw 28\\nSkipping line 12147: expected 1 fields, saw 28\\nSkipping line 12151: expected 1 fields, saw 28\\nSkipping line 12155: expected 1 fields, saw 28\\nSkipping line 12159: expected 1 fields, saw 28\\nSkipping line 12163: expected 1 fields, saw 28\\nSkipping line 12167: expected 1 fields, saw 28\\nSkipping line 12171: expected 1 fields, saw 28\\nSkipping line 12175: expected 1 fields, saw 28\\nSkipping line 12179: expected 1 fields, saw 28\\nSkipping line 12183: expected 1 fields, saw 28\\nSkipping line 12187: expected 1 fields, saw 28\\nSkipping line 12191: expected 1 fields, saw 28\\nSkipping line 12195: expected 1 fields, saw 28\\nSkipping line 12199: expected 1 fields, saw 28\\nSkipping line 12203: expected 1 fields, saw 28\\nSkipping line 12207: expected 1 fields, saw 28\\nSkipping line 12211: expected 1 fields, saw 28\\nSkipping line 12215: expected 1 fields, saw 28\\nSkipping line 12219: expected 1 fields, saw 28\\nSkipping line 12223: expected 1 fields, saw 28\\nSkipping line 12227: expected 1 fields, saw 28\\nSkipping line 12231: expected 1 fields, saw 28\\nSkipping line 12235: expected 1 fields, saw 28\\nSkipping line 12239: expected 1 fields, saw 28\\nSkipping line 12243: expected 1 fields, saw 28\\nSkipping line 12247: expected 1 fields, saw 28\\nSkipping line 12251: expected 1 fields, saw 28\\nSkipping line 12255: expected 1 fields, saw 28\\nSkipping line 12259: expected 1 fields, saw 28\\nSkipping line 12263: expected 1 fields, saw 28\\nSkipping line 12267: expected 1 fields, saw 28\\nSkipping line 12271: expected 1 fields, saw 28\\nSkipping line 12275: expected 1 fields, saw 28\\nSkipping line 12279: expected 1 fields, saw 28\\nSkipping line 12283: expected 1 fields, saw 28\\nSkipping line 12287: expected 1 fields, saw 28\\nSkipping line 12291: expected 1 fields, saw 28\\nSkipping line 12295: expected 1 fields, saw 28\\nSkipping line 12299: expected 1 fields, saw 28\\nSkipping line 12303: expected 1 fields, saw 28\\nSkipping line 12307: expected 1 fields, saw 28\\nSkipping line 12311: expected 1 fields, saw 28\\nSkipping line 12315: expected 1 fields, saw 28\\nSkipping line 12319: expected 1 fields, saw 28\\nSkipping line 12323: expected 1 fields, saw 28\\nSkipping line 12380: expected 1 fields, saw 2\\nSkipping line 12381: expected 1 fields, saw 3\\nSkipping line 12382: expected 1 fields, saw 3\\nSkipping line 12383: expected 1 fields, saw 3\\nSkipping line 12384: expected 1 fields, saw 3\\nSkipping line 12385: expected 1 fields, saw 3\\nSkipping line 12392: expected 1 fields, saw 3\\nSkipping line 12393: expected 1 fields, saw 3\\nSkipping line 12394: expected 1 fields, saw 3\\nSkipping line 12395: expected 1 fields, saw 3\\nSkipping line 12396: expected 1 fields, saw 3\\nSkipping line 12397: expected 1 fields, saw 3\\n&#39;\n"
    },
    {
     "output_type": "execute_result",
     "data": {
      "text/plain": "                                        &lt;!DOCTYPE html&gt;\n0                                      &lt;html lang=&quot;en&quot;&gt;\n1                                                &lt;head&gt;\n2                                &lt;meta charset=&quot;utf-8&quot;&gt;\n3       &lt;link rel=&quot;dns-prefetch&quot; href=&quot;https://githu...\n4       &lt;link rel=&quot;dns-prefetch&quot; href=&quot;https://avata...\n...                                                 ...\n9267    &lt;div class=&quot;Popover-message Popover-message-...\n9268                                             &lt;/div&gt;\n9269                                             &lt;/div&gt;\n9270                                            &lt;/body&gt;\n9271                                            &lt;/html&gt;\n\n[9272 rows x 1 columns]",
      "text/html": "<div>\n<style scoped>\n    .dataframe tbody tr th:only-of-type {\n        vertical-align: middle;\n    }\n\n    .dataframe tbody tr th {\n        vertical-align: top;\n    }\n\n    .dataframe thead th {\n        text-align: right;\n    }\n</style>\n<table border=\"1\" class=\"dataframe\">\n  <thead>\n    <tr style=\"text-align: right;\">\n      <th></th>\n      <th>&lt;!DOCTYPE html&gt;</th>\n    </tr>\n  </thead>\n  <tbody>\n    <tr>\n      <th>0</th>\n      <td>&lt;html lang=\"en\"&gt;</td>\n    </tr>\n    <tr>\n      <th>1</th>\n      <td>&lt;head&gt;</td>\n    </tr>\n    <tr>\n      <th>2</th>\n      <td>&lt;meta charset=\"utf-8\"&gt;</td>\n    </tr>\n    <tr>\n      <th>3</th>\n      <td>&lt;link rel=\"dns-prefetch\" href=\"https://githu...</td>\n    </tr>\n    <tr>\n      <th>4</th>\n      <td>&lt;link rel=\"dns-prefetch\" href=\"https://avata...</td>\n    </tr>\n    <tr>\n      <th>...</th>\n      <td>...</td>\n    </tr>\n    <tr>\n      <th>9267</th>\n      <td>&lt;div class=\"Popover-message Popover-message-...</td>\n    </tr>\n    <tr>\n      <th>9268</th>\n      <td>&lt;/div&gt;</td>\n    </tr>\n    <tr>\n      <th>9269</th>\n      <td>&lt;/div&gt;</td>\n    </tr>\n    <tr>\n      <th>9270</th>\n      <td>&lt;/body&gt;</td>\n    </tr>\n    <tr>\n      <th>9271</th>\n      <td>&lt;/html&gt;</td>\n    </tr>\n  </tbody>\n</table>\n<p>9272 rows × 1 columns</p>\n</div>"
     },
     "metadata": {},
     "execution_count": 64
    }
   ],
   "source": [
    "shops = pd.read_csv('https://github.com/kushyapp/cannabis-dataset/blob/master/Dataset/Shops/shops-kushy_api.2017-11-14.csv', sep=',', error_bad_lines=False, warn_bad_lines=True, delim_whitespace=False, low_memory=True, memory_map=False, float_precision=None)\n",
    "shops.unstack\n",
    "shops"
   ]
  },
  {
   "cell_type": "code",
   "execution_count": 65,
   "metadata": {},
   "outputs": [
    {
     "output_type": "execute_result",
     "data": {
      "text/plain": "(9272, 1)"
     },
     "metadata": {},
     "execution_count": 65
    }
   ],
   "source": [
    "shops.shape"
   ]
  },
  {
   "cell_type": "code",
   "execution_count": 78,
   "metadata": {},
   "outputs": [
    {
     "output_type": "execute_result",
     "data": {
      "text/plain": "                                        &lt;!DOCTYPE html&gt;\n0                                      &lt;html lang=&quot;en&quot;&gt;\n1                                                &lt;head&gt;\n2                                &lt;meta charset=&quot;utf-8&quot;&gt;\n3       &lt;link rel=&quot;dns-prefetch&quot; href=&quot;https://githu...\n4       &lt;link rel=&quot;dns-prefetch&quot; href=&quot;https://avata...\n...                                                 ...\n9267    &lt;div class=&quot;Popover-message Popover-message-...\n9268                                             &lt;/div&gt;\n9269                                             &lt;/div&gt;\n9270                                            &lt;/body&gt;\n9271                                            &lt;/html&gt;\n\n[9272 rows x 1 columns]",
      "text/html": "<div>\n<style scoped>\n    .dataframe tbody tr th:only-of-type {\n        vertical-align: middle;\n    }\n\n    .dataframe tbody tr th {\n        vertical-align: top;\n    }\n\n    .dataframe thead th {\n        text-align: right;\n    }\n</style>\n<table border=\"1\" class=\"dataframe\">\n  <thead>\n    <tr style=\"text-align: right;\">\n      <th></th>\n      <th>&lt;!DOCTYPE html&gt;</th>\n    </tr>\n  </thead>\n  <tbody>\n    <tr>\n      <th>0</th>\n      <td>&lt;html lang=\"en\"&gt;</td>\n    </tr>\n    <tr>\n      <th>1</th>\n      <td>&lt;head&gt;</td>\n    </tr>\n    <tr>\n      <th>2</th>\n      <td>&lt;meta charset=\"utf-8\"&gt;</td>\n    </tr>\n    <tr>\n      <th>3</th>\n      <td>&lt;link rel=\"dns-prefetch\" href=\"https://githu...</td>\n    </tr>\n    <tr>\n      <th>4</th>\n      <td>&lt;link rel=\"dns-prefetch\" href=\"https://avata...</td>\n    </tr>\n    <tr>\n      <th>...</th>\n      <td>...</td>\n    </tr>\n    <tr>\n      <th>9267</th>\n      <td>&lt;div class=\"Popover-message Popover-message-...</td>\n    </tr>\n    <tr>\n      <th>9268</th>\n      <td>&lt;/div&gt;</td>\n    </tr>\n    <tr>\n      <th>9269</th>\n      <td>&lt;/div&gt;</td>\n    </tr>\n    <tr>\n      <th>9270</th>\n      <td>&lt;/body&gt;</td>\n    </tr>\n    <tr>\n      <th>9271</th>\n      <td>&lt;/html&gt;</td>\n    </tr>\n  </tbody>\n</table>\n<p>9272 rows × 1 columns</p>\n</div>"
     },
     "metadata": {},
     "execution_count": 78
    }
   ],
   "source": [
    "shops[['<!DOCTYPE html>']]"
   ]
  },
  {
   "cell_type": "code",
   "execution_count": 79,
   "metadata": {},
   "outputs": [
    {
     "output_type": "execute_result",
     "data": {
      "text/plain": "0                                        &lt;html lang=&quot;en&quot;&gt;\n1                                                  &lt;head&gt;\n2                                  &lt;meta charset=&quot;utf-8&quot;&gt;\n3         &lt;link rel=&quot;dns-prefetch&quot; href=&quot;https://githu...\n4         &lt;link rel=&quot;dns-prefetch&quot; href=&quot;https://avata...\n                              ...                        \n9267      &lt;div class=&quot;Popover-message Popover-message-...\n9268                                               &lt;/div&gt;\n9269                                               &lt;/div&gt;\n9270                                              &lt;/body&gt;\n9271                                              &lt;/html&gt;\nName: &lt;!DOCTYPE html&gt;, Length: 9272, dtype: object"
     },
     "metadata": {},
     "execution_count": 79
    }
   ],
   "source": [
    "shops[['<!DOCTYPE html>'][0]]"
   ]
  },
  {
   "cell_type": "code",
   "execution_count": 80,
   "metadata": {},
   "outputs": [
    {
     "output_type": "execute_result",
     "data": {
      "text/plain": "pandas.core.series.Series"
     },
     "metadata": {},
     "execution_count": 80
    }
   ],
   "source": [
    "type(shops[['<!DOCTYPE html>'][0]])"
   ]
  },
  {
   "cell_type": "code",
   "execution_count": 81,
   "metadata": {},
   "outputs": [
    {
     "output_type": "execute_result",
     "data": {
      "text/plain": "0                                        &lt;html lang=&quot;en&quot;&gt;\n1                                                  &lt;head&gt;\n2                                  &lt;meta charset=&quot;utf-8&quot;&gt;\n3         &lt;link rel=&quot;dns-prefetch&quot; href=&quot;https://githu...\n4         &lt;link rel=&quot;dns-prefetch&quot; href=&quot;https://avata...\n                              ...                        \n9267      &lt;div class=&quot;Popover-message Popover-message-...\n9268                                               &lt;/div&gt;\n9269                                               &lt;/div&gt;\n9270                                              &lt;/body&gt;\n9271                                              &lt;/html&gt;\nName: &lt;!DOCTYPE html&gt;, Length: 9272, dtype: object"
     },
     "metadata": {},
     "execution_count": 81
    }
   ],
   "source": [
    "shops['<!DOCTYPE html>']"
   ]
  },
  {
   "cell_type": "code",
   "execution_count": 82,
   "metadata": {},
   "outputs": [
    {
     "output_type": "error",
     "ename": "AttributeError",
     "evalue": "&#39;list&#39; object has no attribute &#39;lower&#39;",
     "traceback": [
      "\u001b[0;31m---------------------------------------------------------------------------\u001b[0m",
      "\u001b[0;31mAttributeError\u001b[0m                            Traceback (most recent call last)",
      "\u001b[0;32m&lt;ipython-input-82-ec4ddab9735e&gt;\u001b[0m in \u001b[0;36m&lt;module&gt;\u001b[0;34m\u001b[0m\n\u001b[0;32m----&gt; 1\u001b[0;31m \u001b[0mshops\u001b[0m\u001b[0;34m[\u001b[0m\u001b[0;34m&#39;&lt;!DOCTYPE html&gt;&#39;\u001b[0m\u001b[0;34m]\u001b[0m \u001b[0;34m=\u001b[0m \u001b[0mpd\u001b[0m\u001b[0;34m.\u001b[0m\u001b[0mDataFrame\u001b[0m\u001b[0;34m.\u001b[0m\u001b[0mfrom_dict\u001b[0m\u001b[0;34m(\u001b[0m\u001b[0mdict\u001b[0m\u001b[0;34m,\u001b[0m \u001b[0;34m[\u001b[0m\u001b[0;34m&#39;&lt;html lang=&quot;en&quot;&gt;&#39;\u001b[0m\u001b[0;34m,\u001b[0m\u001b[0;34m&#39;div&#39;\u001b[0m\u001b[0;34m]\u001b[0m\u001b[0;34m)\u001b[0m\u001b[0;34m\u001b[0m\u001b[0;34m\u001b[0m\u001b[0m\n\u001b[0m",
      "\u001b[0;32m/Library/Frameworks/Python.framework/Versions/3.8/lib/python3.8/site-packages/pandas/core/frame.py\u001b[0m in \u001b[0;36mfrom_dict\u001b[0;34m(cls, data, orient, dtype, columns)\u001b[0m\n\u001b[1;32m   1231\u001b[0m         &quot;&quot;&quot;\n\u001b[1;32m   1232\u001b[0m         \u001b[0mindex\u001b[0m \u001b[0;34m=\u001b[0m \u001b[0;32mNone\u001b[0m\u001b[0;34m\u001b[0m\u001b[0;34m\u001b[0m\u001b[0m\n\u001b[0;32m-&gt; 1233\u001b[0;31m         \u001b[0morient\u001b[0m \u001b[0;34m=\u001b[0m \u001b[0morient\u001b[0m\u001b[0;34m.\u001b[0m\u001b[0mlower\u001b[0m\u001b[0;34m(\u001b[0m\u001b[0;34m)\u001b[0m\u001b[0;34m\u001b[0m\u001b[0;34m\u001b[0m\u001b[0m\n\u001b[0m\u001b[1;32m   1234\u001b[0m         \u001b[0;32mif\u001b[0m \u001b[0morient\u001b[0m \u001b[0;34m==\u001b[0m \u001b[0;34m&quot;index&quot;\u001b[0m\u001b[0;34m:\u001b[0m\u001b[0;34m\u001b[0m\u001b[0;34m\u001b[0m\u001b[0m\n\u001b[1;32m   1235\u001b[0m             \u001b[0;32mif\u001b[0m \u001b[0mlen\u001b[0m\u001b[0;34m(\u001b[0m\u001b[0mdata\u001b[0m\u001b[0;34m)\u001b[0m \u001b[0;34m&gt;\u001b[0m \u001b[0;36m0\u001b[0m\u001b[0;34m:\u001b[0m\u001b[0;34m\u001b[0m\u001b[0;34m\u001b[0m\u001b[0m\n",
      "\u001b[0;31mAttributeError\u001b[0m: &#39;list&#39; object has no attribute &#39;lower&#39;"
     ]
    }
   ],
   "source": [
    "shops['<!DOCTYPE html>'] = pd.DataFrame.from_dict(dict, ['<html lang=\"en\">','div'])"
   ]
  },
  {
   "cell_type": "code",
   "execution_count": 83,
   "metadata": {},
   "outputs": [
    {
     "output_type": "execute_result",
     "data": {
      "text/plain": "&lt;bound method DataFrame.unstack of                                         &lt;!DOCTYPE html&gt;\n0                                      &lt;html lang=&quot;en&quot;&gt;\n1                                                &lt;head&gt;\n2                                &lt;meta charset=&quot;utf-8&quot;&gt;\n3       &lt;link rel=&quot;dns-prefetch&quot; href=&quot;https://githu...\n4       &lt;link rel=&quot;dns-prefetch&quot; href=&quot;https://avata...\n...                                                 ...\n9267    &lt;div class=&quot;Popover-message Popover-message-...\n9268                                             &lt;/div&gt;\n9269                                             &lt;/div&gt;\n9270                                            &lt;/body&gt;\n9271                                            &lt;/html&gt;\n\n[9272 rows x 1 columns]&gt;"
     },
     "metadata": {},
     "execution_count": 83
    }
   ],
   "source": [
    "shops.unstack"
   ]
  },
  {
   "cell_type": "code",
   "execution_count": 84,
   "metadata": {},
   "outputs": [
    {
     "output_type": "error",
     "ename": "TypeError",
     "evalue": "explode() missing 1 required positional argument: &#39;column&#39;",
     "traceback": [
      "\u001b[0;31m---------------------------------------------------------------------------\u001b[0m",
      "\u001b[0;31mTypeError\u001b[0m                                 Traceback (most recent call last)",
      "\u001b[0;32m&lt;ipython-input-84-b14ddfe2965f&gt;\u001b[0m in \u001b[0;36m&lt;module&gt;\u001b[0;34m\u001b[0m\n\u001b[0;32m----&gt; 1\u001b[0;31m \u001b[0mshops\u001b[0m\u001b[0;34m.\u001b[0m\u001b[0mexplode\u001b[0m\u001b[0;34m(\u001b[0m\u001b[0;34m)\u001b[0m\u001b[0;34m\u001b[0m\u001b[0;34m\u001b[0m\u001b[0m\n\u001b[0m",
      "\u001b[0;31mTypeError\u001b[0m: explode() missing 1 required positional argument: &#39;column&#39;"
     ]
    }
   ],
   "source": [
    "shops.explode()"
   ]
  },
  {
   "cell_type": "code",
   "execution_count": null,
   "metadata": {},
   "outputs": [],
   "source": []
  }
 ]
}