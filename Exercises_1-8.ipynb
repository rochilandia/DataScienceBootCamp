{
 "cells": [
  {
   "cell_type": "markdown",
   "metadata": {},
   "source": [
    "## Ejercicios:\n",
    "\n",
    "### Apartado 1:\n",
    "\n",
    "1. Crea una variable llamada 'numero_bridge' que tenga como valor 15. Tipo entero.\n",
    "2. Crea una variable llamada 'nombre_calle' que sea un string y sea 'Recoletos'\n",
    "3. Crea una variable llamada 'gusto_personal' que sea True si eres más de playa y False si eres más de montaña.\n",
    "4. Crea una variable llamada 'nada' de la siguiente forma: 'nada = None'. None no representa ningún valor. Ha de tenerse en cuenta que si se hace 'if (nada):', 'nada' actúa como un valor booleano False. Para más información, observar el primer ejemplo de abajo.\n",
    "5. Crea una variable que llamada 'lista_direccion' que sea una lista y que contenga 2 valores. El primer valor debe ser la variable 'numero_bridge' y el segundo valor de la lista debe ser la variable 'nombre_calle'\n",
    "6. Crea una variable llamada 'horas_sueno' que almacene, en forma de String, las horas que has dormido hoy. Ejemplo: horas_sueno = \"8\" \n",
    "6. Crea una lista llamada 'lista_informacion' que tenga cada una de las variables creadas anteriormente en el orden en el que se han expuesto en el ejercicio.\n",
    "\n",
    "IMPORTANTE: A partir de este momento y para todos estos ejercicios, solo se van a utilizar los datos almacenados en 'lista_informacion'. Debe contener 6 elementos. "
   ]
  },
  {
   "cell_type": "markdown",
   "metadata": {},
   "source": [
    "### Creación de variables del apartado 1.\n",
    "\n",
    "gusto_personal = True  # Si te gusta más la montaña\n",
    "\n",
    "gusto_personal = False  # Si te gusta más la playa"
   ]
  },
  {
   "cell_type": "code",
   "execution_count": 123,
   "metadata": {
    "tags": []
   },
   "outputs": [
    {
     "output_type": "stream",
     "name": "stdout",
     "text": "<class 'int'>\n"
    }
   ],
   "source": [
    "numero_bridge = 15\n",
    "print(type(numero_bridge))\n"
   ]
  },
  {
   "cell_type": "code",
   "execution_count": 124,
   "metadata": {},
   "outputs": [],
   "source": [
    "gusto_personal = True\n"
   ]
  },
  {
   "cell_type": "code",
   "execution_count": 125,
   "metadata": {},
   "outputs": [],
   "source": [
    "nombre_calle = \"Recoletos\"\n"
   ]
  },
  {
   "cell_type": "code",
   "execution_count": 126,
   "metadata": {},
   "outputs": [],
   "source": [
    "nada = None"
   ]
  },
  {
   "cell_type": "code",
   "execution_count": 127,
   "metadata": {},
   "outputs": [],
   "source": [
    "lista_direccion = [numero_bridge, nombre_calle]\n"
   ]
  },
  {
   "cell_type": "code",
   "execution_count": 128,
   "metadata": {},
   "outputs": [],
   "source": [
    "horas_sueno = str(6)\n"
   ]
  },
  {
   "cell_type": "code",
   "execution_count": 129,
   "metadata": {},
   "outputs": [],
   "source": [
    "#Crea una lista llamada 'lista_informacion' que tenga cada una de las variables creadas anteriormente en el orden en el que se han expuesto en el ejercicio"
   ]
  },
  {
   "cell_type": "code",
   "execution_count": 130,
   "metadata": {},
   "outputs": [
    {
     "output_type": "execute_result",
     "data": {
      "text/plain": "[15, True, 'Recoletos', None, [15, 'Recoletos'], '6']"
     },
     "metadata": {},
     "execution_count": 130
    }
   ],
   "source": [
    "lista_informacion = [numero_bridge, gusto_personal, nombre_calle, nada, lista_direccion, horas_sueno]\n",
    "lista_informacion"
   ]
  },
  {
   "cell_type": "code",
   "execution_count": 131,
   "metadata": {
    "tags": []
   },
   "outputs": [
    {
     "output_type": "stream",
     "name": "stdout",
     "text": "6\n"
    }
   ],
   "source": [
    "len(lista_informacion)\n",
    "print(len(lista_informacion))\n"
   ]
  },
  {
   "cell_type": "markdown",
   "metadata": {},
   "source": [
    "#### Borrar variables. Del\n",
    "Ejecuta esta celda de jupyter para borrar todas las variables que has tenido que crear antes. El contenido de 'lista_informacion' no cambiará. De esta forma, nos aseguraremos de que solo uses la información de 'lista_informacion'. "
   ]
  },
  {
   "cell_type": "code",
   "execution_count": 132,
   "metadata": {},
   "outputs": [],
   "source": [
    "# Ejecuta esta celda cuando las variables del apartado 1 ya han sido creadas y guardadas en memoria.\n",
    "del numero_bridge\n",
    "del nombre_calle\n",
    "del gusto_personal \n",
    "del nada\n",
    "del lista_direccion\n",
    "del horas_sueno"
   ]
  },
  {
   "cell_type": "markdown",
   "metadata": {},
   "source": [
    "### Apartado 2\n",
    "\n",
    "### Ejercicios con 'lista_informacion'. Recuerda no usar las variables excepto 'lista_informacion'. Leer cada punto hasta el final antes de hacer la tarea. \n",
    "\n",
    "1. Mostrar por pantalla, sin uso de funciones ni bucles: \n",
    "    - La concatenación del número de The Bridge, dos puntos y el nombre de la calle. \n",
    "    - La suma del número de The Bridge y las horas que has dormido hoy. \n",
    "    - La concatenación del número de The Bridge, el nombre de la calle, tu gusto personal y las horas de sueño. Cada uno debe estar separado por lo siguiente: \" : \".\n",
    "    - Accediendo a la lista de la cuarta posición de 'lista_informacion' muestra por pantalla la suma de lo siguiente (si la quinta posición de tu 'lista_informacion' no es una lista, pregunta a los profesores):\n",
    "        - La concatenación de los dos elementos. \n",
    "        - La multiplicación del tamaño de la lista de la quinta posición de 'lista_informacion' y el tamaño del número de caracteres que tiene el nombre de la calle.\n",
    "\n",
    "2. Dentro de funciones con el nombre que decidáis, con un argumento de entrada llamado 'lista' siendo este la 'lista_informacion' cuando se invoque a la función. Cuando sea 'recorre' se refiere a bucle 'for'. Cada punto representa una función y celda de Jupyter diferente:\n",
    "\n",
    "    - Mostrar por pantalla \"Me gusta la tranquilidad\" si te gusta más la montaña y \"Me gusta ver las carnes al aire libre\" si te gusta más la playa.\n",
    "    - Mostrar por pantalla \"Hoy estoy cansado\" si has dormido menos de 7 horas y \"Hoy me como el mundo\" si has dormido más de 7 horas. \n",
    "    - Recorrer 'lista' para mostrar todos los elementos que contiene. \n",
    "    - Recorrer 'lista' para mostrar todos los elementos que contiene concatenado con el string \"--> OK\"\n",
    "    - Recorrer 'lista' para mostrar todos los elementos que contiene excepto el primero\n",
    "    - Recorrer 'lista' para mostrar todos los elementos que contiene excepto el último. \n",
    "    - Recorrer 'lista' para mostrar todos los elementos que contiene excepto el número de la calle y las horas que has dormido.\n",
    "    - Recorrer 'lista' para mostrar todos los elementos que contiene excepto el primer elemento de la lista de la quinta posición. \n",
    "    - Recorrer 'lista' para mostrar todos los elementos que contiene excepto el que contiene la información sobre si os gusta la montaña o playa SI os gusta la montaña.\n",
    "    - Recorrer 'lista' para mostrar el último elemento.\n",
    "    - Crear una variable llamada 'zona' y darle el valor de None. Recorrer 'lista' y actualizar 'zona' a True si y solo si has dormido más de 7 horas, te gusta la playa y la suma de las horas que has dormido más el número de The Bridge es menor a 24. Para cualquier otro caso, 'zona' será False. Retornar el valor de 'zona'. Esta función se llamará 'funcion_zona'.\n",
    "    - Dentro de una función llamada 'funcion_comprobacion' que recibe solo un parámetro llamado 'valor_zona' que será el valor que devuelve la función 'funcion_zona' cuando sea invocado, mostrar el valor de 'valor_zona' si es True.\n",
    "\n",
    "3. Dentro de funciones con el nombre que queráis:\n",
    "    - Utilizar la función enumerate del bucle for utilizando la lista de alturas y la lista de alumnos creada en días anteriores (las listas han de estar ordenadas) para: \n",
    "        - Mostrar la altura acompañado del nombre del alumno al que pertenece. \n",
    "\n",
    "4. Hacer un programa que pregunte si le gusta la montaña al usuario y, si es que no, llame a la función funcion_zona. \n",
    "\n",
    "5. Hacer una función que guarde en una variable el valor de 'nada' y lo devuelva por pantalla. Concatenar su valor con el número de the bridge y mostrarlo por pantalla. Ahora, mostrar por pantalla un booleano True si el tamaño de la palabra concatenada es 6. Sino, será False. La función debe retornar el valor True o False. El nombre de la función será 'f_s'.\n",
    "\n",
    "6. Crear una lista 'lista_aux' con 7 elementos (los que queráis). Crear una función 'funcion_usa_f_s' que reciba por parámetros dos argumento 'f_s' y 'lista'.  Si el valor de 'f_s' es True, entonces borrar el un elemento de 'lista'. Si 'lista' tiene algún elemento, entonces repetir el proceso hasta que no tenga elementos. La entrada 'lista' ha de ser 'lista_aux' y 'f_s' será la función 'f_s' del punto anterior.\n",
    "\n",
    "7. Crear una función 'numeros_pares' que tenga un parámetro de entrada 'arg1' (Entero). La función debe mostrar por pantalla y retornar una lista de números de tamaño 'arg1' siendo números pares.\n",
    "\n",
    "8. Crear una función que tenga una variable de entrada 'arg1' (que será la lista de números pares del apartado anterior) y que elimine elementos de la lista (uno a uno) si 'arg1' tiene un tamaño divisible entre 2 y, si no lo tiene, añada, solo una vez, el valor de la función 'f_s'."
   ]
  },
  {
   "cell_type": "code",
   "execution_count": 133,
   "metadata": {},
   "outputs": [],
   "source": [
    "# 1. Apartado \n",
    "#La concatenación del número de The Bridge, dos puntos y el nombre de la calle.\n",
    "\n",
    "\n",
    "#La suma del número de The Bridge y las horas que has dormido hoy.\n",
    "\n",
    "\n",
    "#La concatenación del número de The Bridge, el nombre de la calle, tu gusto personal y las horas de sueño. Cada uno debe estar separado por lo siguiente: \" : \"\n",
    "\n",
    "\n",
    "#Accediendo a la lista de la quinta posición de 'lista_informacion' muestra por pantalla la suma de lo siguiente (si la quinta posición de tu 'lista_informacion' no es una lista, pregunta a los profesores):\n",
    "\n",
    "\n",
    "#La concatenación de los dos elementos.\n",
    "\n",
    "\n",
    "#La multiplicación del tamaño de la lista de la quinta posición de 'lista_informacion' y el tamaño del número de caracteres que tiene el nombre de la calle.\n"
   ]
  },
  {
   "cell_type": "markdown",
   "metadata": {},
   "source": [
    "Mostrar por pantalla, sin uso de funciones ni bucles:\n",
    "\n",
    "La suma del número de The Bridge y las horas que has dormido hoy."
   ]
  },
  {
   "cell_type": "code",
   "execution_count": 134,
   "metadata": {
    "tags": []
   },
   "outputs": [
    {
     "output_type": "stream",
     "name": "stdout",
     "text": "21\n"
    }
   ],
   "source": [
    "print(int(lista_informacion[0]) + (int(lista_informacion[5])))\n"
   ]
  },
  {
   "cell_type": "code",
   "execution_count": 135,
   "metadata": {},
   "outputs": [
    {
     "output_type": "execute_result",
     "data": {
      "text/plain": "[15, True, 'Recoletos', None, [15, 'Recoletos'], '6']"
     },
     "metadata": {},
     "execution_count": 135
    }
   ],
   "source": [
    "lista_informacion\n"
   ]
  },
  {
   "cell_type": "code",
   "execution_count": 136,
   "metadata": {
    "tags": []
   },
   "outputs": [
    {
     "output_type": "stream",
     "name": "stdout",
     "text": "15: Recoletos\n"
    }
   ],
   "source": [
    "print(str(lista_informacion[0]) + \": \" + lista_informacion[2])"
   ]
  },
  {
   "cell_type": "markdown",
   "metadata": {},
   "source": [
    "La concatenación del número de The Bridge, el nombre de la calle, tu gusto personal y las horas de sueño. Cada uno debe estar separado por lo siguiente: \" : \"."
   ]
  },
  {
   "cell_type": "code",
   "execution_count": 137,
   "metadata": {
    "tags": []
   },
   "outputs": [
    {
     "output_type": "stream",
     "name": "stdout",
     "text": "15 Recoletos True 6\n"
    }
   ],
   "source": [
    "print(str(lista_informacion[0]) + \" \" + str(lista_informacion[2]) + \" \" + str(lista_informacion[1]) + \" \" + lista_informacion[-1])\n",
    "\n"
   ]
  },
  {
   "cell_type": "markdown",
   "metadata": {},
   "source": [
    "Accediendo a la lista de la cuarta posición de 'lista_informacion' muestra por pantalla la suma de lo siguiente (si la cuarta posición de tu 'lista_informacion' no es una lista, pregunta a los profesores):\n",
    "La concatenación de los dos elementos.\n"
   ]
  },
  {
   "cell_type": "code",
   "execution_count": 138,
   "metadata": {},
   "outputs": [
    {
     "output_type": "execute_result",
     "data": {
      "text/plain": "[15, 'Recoletos']"
     },
     "metadata": {},
     "execution_count": 138
    }
   ],
   "source": [
    "lista_informacion[4]\n"
   ]
  },
  {
   "cell_type": "code",
   "execution_count": 139,
   "metadata": {
    "tags": []
   },
   "outputs": [
    {
     "output_type": "stream",
     "name": "stdout",
     "text": "15 Recoletos\n"
    }
   ],
   "source": [
    "print(str(lista_informacion[4][0]) + \" \" + lista_informacion[4][1])\n"
   ]
  },
  {
   "cell_type": "markdown",
   "metadata": {},
   "source": [
    "La multiplicación del tamaño de la lista de la quinta posición de 'lista_informacion' y el tamaño del número de caracteres que tiene el nombre de la calle."
   ]
  },
  {
   "cell_type": "code",
   "execution_count": 140,
   "metadata": {},
   "outputs": [
    {
     "output_type": "execute_result",
     "data": {
      "text/plain": "18"
     },
     "metadata": {},
     "execution_count": 140
    }
   ],
   "source": [
    "valorz = len(lista_informacion[4])\n",
    "valory = len(lista_informacion[2])\n",
    "\n",
    "multi = valorz*valory\n",
    "multi\n"
   ]
  },
  {
   "cell_type": "markdown",
   "metadata": {},
   "source": [
    "### Apartado 2\n",
    "\n",
    "Ejercicios con 'lista_informacion'. Recuerda no usar las variables excepto 'lista_informacion'. Leer cada punto hasta el final antes de hacer la tarea.\n",
    "\n",
    "###2. Dentro de funciones con el nombre que decidáis, con un argumento de entrada llamado 'lista' siendo este la 'lista_informacion' cuando se invoque a la función.\n",
    "\n",
    "Cuando sea 'recorre' se refiere a bucle 'for'. Cada punto representa una función y celda de Jupyter diferente:\n"
   ]
  },
  {
   "cell_type": "code",
   "execution_count": 141,
   "metadata": {},
   "outputs": [
    {
     "output_type": "execute_result",
     "data": {
      "text/plain": "[15, True, 'Recoletos', None, [15, 'Recoletos'], '6']"
     },
     "metadata": {},
     "execution_count": 141
    }
   ],
   "source": [
    "l = lista_informacion\n",
    "l"
   ]
  },
  {
   "cell_type": "code",
   "execution_count": 142,
   "metadata": {},
   "outputs": [
    {
     "output_type": "execute_result",
     "data": {
      "text/plain": "<function __main__.f(lista)>"
     },
     "metadata": {},
     "execution_count": 142
    }
   ],
   "source": [
    "def f(lista):\n",
    "    f(lista = lista_informacion)\n",
    "f"
   ]
  },
  {
   "cell_type": "code",
   "execution_count": 143,
   "metadata": {},
   "outputs": [],
   "source": [
    "#Mostrar por pantalla \"Hoy estoy cansado\" si has dormido menos de 7 horas y \"Hoy me como el mundo\" si has dormido más de 7 horas.\n",
    "\n",
    "#Recorrer 'lista' para mostrar todos los elementos que contiene."
   ]
  },
  {
   "cell_type": "code",
   "execution_count": 144,
   "metadata": {},
   "outputs": [
    {
     "output_type": "execute_result",
     "data": {
      "text/plain": "[15, True, 'Recoletos', None, [15, 'Recoletos'], '6']"
     },
     "metadata": {},
     "execution_count": 144
    }
   ],
   "source": [
    "lista_informacion\n"
   ]
  },
  {
   "cell_type": "code",
   "execution_count": 145,
   "metadata": {
    "tags": []
   },
   "outputs": [
    {
     "output_type": "stream",
     "name": "stdout",
     "text": "Hoy estoy cansado\n"
    }
   ],
   "source": [
    "def f(lista):\n",
    "    \n",
    "    if int(lista[-1]) < 7:\n",
    "        print(\"Hoy estoy cansado\")\n",
    "    elif int(lista[-1]) > 7:\n",
    "        print(\"Hoy me como el mundo\")\n",
    "    else:\n",
    "        print(\"Else\")\n",
    "f(lista=lista_informacion)\n",
    "\n"
   ]
  },
  {
   "cell_type": "code",
   "execution_count": 146,
   "metadata": {},
   "outputs": [],
   "source": [
    "def f (lista):\n",
    "    f (lista=lista_informacion)\n",
    "    "
   ]
  },
  {
   "cell_type": "code",
   "execution_count": 147,
   "metadata": {},
   "outputs": [],
   "source": [
    "\n",
    "def f (lista):\n",
    "    horasdesuenio = int(lista[-1])\n",
    "    if horasdesuenio > 6:\n",
    "\t    print(\"Hoy me como el mundo\")\n",
    "    elif horasdesuenio < 6:\n",
    "\t    print(\"Hoy estoy cansado\")\n",
    "\n",
    "f (lista=lista_informacion)"
   ]
  },
  {
   "cell_type": "code",
   "execution_count": 148,
   "metadata": {
    "tags": []
   },
   "outputs": [
    {
     "output_type": "stream",
     "name": "stdout",
     "text": "15\nTrue\nRecoletos\nNone\n[15, 'Recoletos']\n6\n"
    }
   ],
   "source": [
    "l = lista_informacion\n",
    "\n",
    "for elem in l:\n",
    "    print(elem)"
   ]
  },
  {
   "cell_type": "code",
   "execution_count": 149,
   "metadata": {},
   "outputs": [],
   "source": [
    "#Recorrer 'lista' para mostrar todos los elementos que contiene concatenado con el string \"--> OK\"\n"
   ]
  },
  {
   "cell_type": "code",
   "execution_count": 150,
   "metadata": {
    "tags": []
   },
   "outputs": [
    {
     "output_type": "stream",
     "name": "stdout",
     "text": "15--> OK\nTrue--> OK\nRecoletos--> OK\nNone--> OK\n[15, 'Recoletos']--> OK\n6--> OK\n"
    }
   ],
   "source": [
    "for elem in l:\n",
    "    print(str(elem) + \"--> OK\")\n"
   ]
  },
  {
   "cell_type": "code",
   "execution_count": 151,
   "metadata": {},
   "outputs": [
    {
     "output_type": "error",
     "ename": "NameError",
     "evalue": "name 'funcion_concatenar_en_lista' is not defined",
     "traceback": [
      "\u001b[0;31m---------------------------------------------------------------------------\u001b[0m",
      "\u001b[0;31mNameError\u001b[0m                                 Traceback (most recent call last)",
      "\u001b[0;32m<ipython-input-151-637a992935c9>\u001b[0m in \u001b[0;36m<module>\u001b[0;34m\u001b[0m\n\u001b[0;32m----> 1\u001b[0;31m \u001b[0mfuncion_concatenar_en_lista\u001b[0m\u001b[0;34m(\u001b[0m\u001b[0mlista\u001b[0m\u001b[0;34m=\u001b[0m\u001b[0mlista_informacion\u001b[0m\u001b[0;34m)\u001b[0m\u001b[0;34m\u001b[0m\u001b[0;34m\u001b[0m\u001b[0m\n\u001b[0m",
      "\u001b[0;31mNameError\u001b[0m: name 'funcion_concatenar_en_lista' is not defined"
     ]
    }
   ],
   "source": [
    "funcion_concatenar_en_lista(lista=lista_informacion)"
   ]
  },
  {
   "cell_type": "code",
   "execution_count": 152,
   "metadata": {},
   "outputs": [],
   "source": [
    "#Recorrer 'lista' para mostrar todos los elementos que contiene excepto el primero.\n"
   ]
  },
  {
   "cell_type": "code",
   "execution_count": 153,
   "metadata": {
    "tags": []
   },
   "outputs": [
    {
     "output_type": "stream",
     "name": "stdout",
     "text": "[True, 'Recoletos', None, [15, 'Recoletos'], '6']\n"
    }
   ],
   "source": [
    "for elem in l:\n",
    "    print(l[1:6])\n",
    "    break"
   ]
  },
  {
   "cell_type": "code",
   "execution_count": 154,
   "metadata": {},
   "outputs": [],
   "source": [
    "#Recorrer 'lista' para mostrar todos los elementos que contiene excepto el último."
   ]
  },
  {
   "cell_type": "code",
   "execution_count": 155,
   "metadata": {
    "tags": []
   },
   "outputs": [
    {
     "output_type": "stream",
     "name": "stdout",
     "text": "[15, True, 'Recoletos', None, [15, 'Recoletos']]\n"
    }
   ],
   "source": [
    "for elem in l:\n",
    "    print(l[0:5])\n",
    "    break\n",
    "    "
   ]
  },
  {
   "cell_type": "code",
   "execution_count": 156,
   "metadata": {},
   "outputs": [],
   "source": [
    "#Recorrer 'lista' para mostrar todos los elementos que contiene excepto el número de la calle y las horas que has dormido."
   ]
  },
  {
   "cell_type": "code",
   "execution_count": 157,
   "metadata": {
    "tags": []
   },
   "outputs": [
    {
     "output_type": "stream",
     "name": "stdout",
     "text": "[True, 'Recoletos', None, [15, 'Recoletos']]\n"
    }
   ],
   "source": [
    "for elem in l:\n",
    "    print(l[1:5])\n",
    "    break\n",
    "    "
   ]
  },
  {
   "cell_type": "code",
   "execution_count": 158,
   "metadata": {},
   "outputs": [],
   "source": [
    "#Recorrer 'lista' para mostrar todos los elementos que contiene excepto el primer elemento de la lista de la cuarta posición."
   ]
  },
  {
   "cell_type": "code",
   "execution_count": 159,
   "metadata": {},
   "outputs": [
    {
     "output_type": "execute_result",
     "data": {
      "text/plain": "[15, True, 'Recoletos', None, [15, 'Recoletos'], '6']"
     },
     "metadata": {},
     "execution_count": 159
    }
   ],
   "source": [
    "lista_informacion"
   ]
  },
  {
   "cell_type": "code",
   "execution_count": 160,
   "metadata": {},
   "outputs": [
    {
     "output_type": "error",
     "ename": "SyntaxError",
     "evalue": "invalid character in identifier (<ipython-input-160-0be006947fc6>, line 6)",
     "traceback": [
      "\u001b[0;36m  File \u001b[0;32m\"<ipython-input-160-0be006947fc6>\"\u001b[0;36m, line \u001b[0;32m6\u001b[0m\n\u001b[0;31m    ​\u001b[0m\n\u001b[0m    ^\u001b[0m\n\u001b[0;31mSyntaxError\u001b[0m\u001b[0;31m:\u001b[0m invalid character in identifier\n"
     ]
    }
   ],
   "source": [
    "def elemento(lista):\n",
    "    for elem in lista:\n",
    "        if elem == lista[4][0]:\n",
    "            continue\n",
    "        print(elem)\n",
    "​\n",
    "elemento(lista=lista_informacion)"
   ]
  },
  {
   "cell_type": "code",
   "execution_count": 161,
   "metadata": {
    "tags": []
   },
   "outputs": [
    {
     "output_type": "stream",
     "name": "stdout",
     "text": "15\nTrue\nRecoletos\nNone\nRecoletos\n6\n"
    }
   ],
   "source": [
    "def mi_funcion(lista):\n",
    "    pos = 0\n",
    "    for elem in lista:\n",
    "        if pos != 4:\n",
    "            print(elem)\n",
    "        elif pos == 4:\n",
    "            print(elem[1])\n",
    "        pos = pos + 1\n",
    "\n",
    "mi_funcion(lista=lista_informacion)\n"
   ]
  },
  {
   "cell_type": "code",
   "execution_count": 162,
   "metadata": {
    "tags": []
   },
   "outputs": [
    {
     "output_type": "stream",
     "name": "stdout",
     "text": "15\nTrue\nRecoletos\nNone\nRecoletos\n6\n"
    }
   ],
   "source": [
    "def mi_funcion(lista):\n",
    "    for i, elem in enumerate(lista):\n",
    "        if i != 4:\n",
    "            print(elem)\n",
    "        elif i == 4:\n",
    "            print(elem[1])\n",
    "\n",
    "mi_funcion(lista=lista_informacion)\n"
   ]
  },
  {
   "cell_type": "code",
   "execution_count": 163,
   "metadata": {
    "tags": []
   },
   "outputs": [
    {
     "output_type": "stream",
     "name": "stdout",
     "text": "True\nRecoletos\nNone\n[15, 'Recoletos']\n6\n"
    }
   ],
   "source": [
    "for elem in l:\n",
    "    if elem == l[4][0]:\n",
    "        continue\n",
    "    print(elem)\n",
    "    "
   ]
  },
  {
   "cell_type": "code",
   "execution_count": 164,
   "metadata": {
    "tags": []
   },
   "outputs": [
    {
     "output_type": "stream",
     "name": "stdout",
     "text": "True\nRecoletos\nNone\n[15, 'Recoletos']\n6\n"
    }
   ],
   "source": [
    "for elem in l:\n",
    "    if elem == l[4][0]:\n",
    "        continue\n",
    "    print(elem)"
   ]
  },
  {
   "cell_type": "code",
   "execution_count": 165,
   "metadata": {},
   "outputs": [],
   "source": [
    "numero_bridge = 15\n",
    "gusto_personal = True\n",
    "nombre_calle = \"Recoletos\"\n",
    "nada = None\n",
    "lista_direccion = [numero_bridge, nombre_calle]\n",
    "horas_sueno = str(6)\n",
    "\n",
    "lista_informacion = [numero_bridge, gusto_personal, nombre_calle, nada, lista_direccion, horas_sueno]"
   ]
  },
  {
   "cell_type": "code",
   "execution_count": 166,
   "metadata": {
    "tags": []
   },
   "outputs": [
    {
     "output_type": "stream",
     "name": "stdout",
     "text": "True\nRecoletos\nNone\n[15, 'Recoletos']\n6\n"
    }
   ],
   "source": [
    "l = lista_informacion\n",
    "\n",
    "for elem in l:\n",
    "  \n",
    "    if elem == l[4][0]:\n",
    "        continue\n",
    "    print(elem)"
   ]
  },
  {
   "cell_type": "code",
   "execution_count": 167,
   "metadata": {},
   "outputs": [],
   "source": [
    "#Recorrer 'lista' para mostrar todos los elementos que contiene excepto el que contiene la información sobre si os gusta la montaña o playa SI os gusta la montaña."
   ]
  },
  {
   "cell_type": "code",
   "execution_count": 168,
   "metadata": {
    "tags": []
   },
   "outputs": [
    {
     "output_type": "stream",
     "name": "stdout",
     "text": "15\nRecoletos\nNone\n[15, 'Recoletos']\n6\n"
    }
   ],
   "source": [
    "for elem in l:\n",
    "    if elem == True:\n",
    "        continue\n",
    "    elif elem == False:\n",
    "        continue\n",
    "    print(elem)\n"
   ]
  },
  {
   "cell_type": "code",
   "execution_count": 169,
   "metadata": {},
   "outputs": [],
   "source": [
    "#Recorrer 'lista' para mostrar el último elemento.\n"
   ]
  },
  {
   "cell_type": "code",
   "execution_count": 170,
   "metadata": {
    "tags": []
   },
   "outputs": [
    {
     "output_type": "stream",
     "name": "stdout",
     "text": "Help on class range in module builtins:\n\nclass range(object)\n |  range(stop) -> range object\n |  range(start, stop[, step]) -> range object\n |  \n |  Return an object that produces a sequence of integers from start (inclusive)\n |  to stop (exclusive) by step.  range(i, j) produces i, i+1, i+2, ..., j-1.\n |  start defaults to 0, and stop is omitted!  range(4) produces 0, 1, 2, 3.\n |  These are exactly the valid indices for a list of 4 elements.\n |  When step is given, it specifies the increment (or decrement).\n |  \n |  Methods defined here:\n |  \n |  __bool__(self, /)\n |      self != 0\n |  \n |  __contains__(self, key, /)\n |      Return key in self.\n |  \n |  __eq__(self, value, /)\n |      Return self==value.\n |  \n |  __ge__(self, value, /)\n |      Return self>=value.\n |  \n |  __getattribute__(self, name, /)\n |      Return getattr(self, name).\n |  \n |  __getitem__(self, key, /)\n |      Return self[key].\n |  \n |  __gt__(self, value, /)\n |      Return self>value.\n |  \n |  __hash__(self, /)\n |      Return hash(self).\n |  \n |  __iter__(self, /)\n |      Implement iter(self).\n |  \n |  __le__(self, value, /)\n |      Return self<=value.\n |  \n |  __len__(self, /)\n |      Return len(self).\n |  \n |  __lt__(self, value, /)\n |      Return self<value.\n |  \n |  __ne__(self, value, /)\n |      Return self!=value.\n |  \n |  __reduce__(...)\n |      Helper for pickle.\n |  \n |  __repr__(self, /)\n |      Return repr(self).\n |  \n |  __reversed__(...)\n |      Return a reverse iterator.\n |  \n |  count(...)\n |      rangeobject.count(value) -> integer -- return number of occurrences of value\n |  \n |  index(...)\n |      rangeobject.index(value) -> integer -- return index of value.\n |      Raise ValueError if the value is not present.\n |  \n |  ----------------------------------------------------------------------\n |  Static methods defined here:\n |  \n |  __new__(*args, **kwargs) from builtins.type\n |      Create and return a new object.  See help(type) for accurate signature.\n |  \n |  ----------------------------------------------------------------------\n |  Data descriptors defined here:\n |  \n |  start\n |  \n |  step\n |  \n |  stop\n\n"
    }
   ],
   "source": [
    "help(range)\n"
   ]
  },
  {
   "cell_type": "code",
   "execution_count": 171,
   "metadata": {
    "tags": []
   },
   "outputs": [
    {
     "output_type": "stream",
     "name": "stdout",
     "text": "5\n"
    }
   ],
   "source": [
    "def f_14(lista):\n",
    "\n",
    "    for elem in range(len(lista)):\n",
    "        if elem == (len(lista)) - 1:\n",
    "            print(elem)\n",
    "\n",
    "f_14(lista=lista_informacion)        "
   ]
  },
  {
   "cell_type": "code",
   "execution_count": 172,
   "metadata": {},
   "outputs": [
    {
     "output_type": "execute_result",
     "data": {
      "text/plain": "[7, True, 'Recoletos', None, [15, 'Recoletos'], '7']"
     },
     "metadata": {},
     "execution_count": 172
    }
   ],
   "source": [
    "lista"
   ]
  },
  {
   "cell_type": "code",
   "execution_count": 173,
   "metadata": {},
   "outputs": [
    {
     "output_type": "execute_result",
     "data": {
      "text/plain": "[15, True, 'Recoletos', None, [15, 'Recoletos'], '6']"
     },
     "metadata": {},
     "execution_count": 173
    }
   ],
   "source": [
    "lista_informacion\n"
   ]
  },
  {
   "cell_type": "code",
   "execution_count": 174,
   "metadata": {
    "tags": []
   },
   "outputs": [
    {
     "output_type": "stream",
     "name": "stdout",
     "text": "6\n"
    }
   ],
   "source": [
    "def f_14(lista):\n",
    "\n",
    "    for pos, elem in enumerate(lista):\n",
    "        if pos == len(lista)-1:\n",
    "            print(elem)\n",
    "\n",
    "f_14(lista=lista_informacion)"
   ]
  },
  {
   "cell_type": "code",
   "execution_count": 175,
   "metadata": {
    "tags": []
   },
   "outputs": [
    {
     "output_type": "stream",
     "name": "stdout",
     "text": "6\n"
    }
   ],
   "source": [
    "for elem in l:\n",
    "    print(l[-1])\n",
    "    break   "
   ]
  },
  {
   "cell_type": "markdown",
   "metadata": {},
   "source": [
    "#Mostrar por pantalla \"Me gusta la tranquilidad\" si te gusta más la montaña y \"Me gusta ver las carnes al aire libre\" si te gusta más la playa.\n"
   ]
  },
  {
   "cell_type": "code",
   "execution_count": 176,
   "metadata": {
    "tags": []
   },
   "outputs": [
    {
     "output_type": "stream",
     "name": "stdout",
     "text": "Me gusta ver las carnes al aire libre\n"
    }
   ],
   "source": [
    "numero_bridge = 15\n",
    "gusto_personal = True\n",
    "nombre_calle = \"Recoletos\"\n",
    "nada = None\n",
    "lista_direccion = [numero_bridge, nombre_calle]\n",
    "horas_sueno = str(7)\n",
    "\n",
    "lista_informacion = [numero_bridge, gusto_personal, nombre_calle, nada, lista_direccion, horas_sueno]\n",
    "\n",
    "lista = lista_informacion\n",
    "\n",
    "def f(lista):\n",
    "    if lista[1] == True:       \n",
    "        print(\"Me gusta ver las carnes al aire libre\")\n",
    "    elif lista[1] == False:\n",
    "        print(\"Me gusta la tranquilidad\")\n",
    "\n",
    "f(lista=lista_informacion)\n",
    "\n"
   ]
  },
  {
   "cell_type": "code",
   "execution_count": 177,
   "metadata": {
    "tags": []
   },
   "outputs": [
    {
     "output_type": "stream",
     "name": "stdout",
     "text": "Me gusta ver las carnes al aire libre\n"
    }
   ],
   "source": [
    "def f_1_5(l):\n",
    "    if l[1] == True:\n",
    "        return \"Me gusta ver las carnes al aire libre\"\n",
    "    elif l[1] == False:\n",
    "        return \"Me gusta la tranquilidad\"\n",
    "\n",
    "x = f_1_5(l=lista_informacion)\n",
    "print(x)\n"
   ]
  },
  {
   "cell_type": "code",
   "execution_count": 178,
   "metadata": {},
   "outputs": [],
   "source": [
    "#Crear una variable llamada 'zona' y darle el valor de None. Recorrer 'lista' y actualizar 'zona' a True si y solo si has dormido más de 7 horas, te gusta la playa y la suma de las horas que has dormido más el número de The Bridge es menor a 24. Para cualquier otro caso, 'zona' será False. Retornar el valor de 'zona'. Esta función se llamará 'funcion_zona'.\n"
   ]
  },
  {
   "cell_type": "code",
   "execution_count": 179,
   "metadata": {},
   "outputs": [
    {
     "output_type": "execute_result",
     "data": {
      "text/plain": "[15, True, 'Recoletos', None, [15, 'Recoletos'], '7']"
     },
     "metadata": {},
     "execution_count": 179
    }
   ],
   "source": [
    "lista_informacion"
   ]
  },
  {
   "cell_type": "code",
   "execution_count": 180,
   "metadata": {
    "tags": []
   },
   "outputs": [
    {
     "output_type": "stream",
     "name": "stdout",
     "text": "False\n"
    }
   ],
   "source": [
    "def funcion_zona(lista):\n",
    "    zona = None\n",
    "    suma = lista[0] + int(lista[5])\n",
    "\n",
    "    for elem in lista:\n",
    "        if int(lista[5]) > 7 and lista[1] == True and suma < 24:\n",
    "            zona = True\n",
    "        else:\n",
    "            zona = False            \n",
    "        return zona\n",
    "\n",
    "x=funcion_zona(lista=lista_informacion)\n",
    "print(x)"
   ]
  },
  {
   "cell_type": "code",
   "execution_count": 219,
   "metadata": {},
   "outputs": [
    {
     "output_type": "execute_result",
     "data": {
      "text/plain": "False"
     },
     "metadata": {},
     "execution_count": 219
    }
   ],
   "source": [
    "def funcion_zona(lista):\n",
    "    zona = None\n",
    "    primer_valor = None\n",
    "    con1 = None\n",
    "    con2 = None\n",
    "    con3 = None\n",
    "\n",
    "    for pos, elem in enumerate(lista):\n",
    "        if pos == 0: #primer elemento\n",
    "            primer_valor = elem\n",
    "        elif pos == 2:\n",
    "            con2 = (elem == True)\n",
    "        elif pos == len(lista) -1:\n",
    "            con1 = int(elem) > 7\n",
    "            con3 = (primer_valor + int(elem)) < 24\n",
    "    if con1 and con2 and con3:\n",
    "        zona = True\n",
    "    else:\n",
    "        zona = False\n",
    "  \n",
    "    return zona\n",
    "    \n",
    "funcion_zona(lista=lista_informacion)\n"
   ]
  },
  {
   "cell_type": "code",
   "execution_count": 218,
   "metadata": {
    "tags": []
   },
   "outputs": [
    {
     "output_type": "stream",
     "name": "stdout",
     "text": "5 7\n"
    }
   ],
   "source": [
    "def funcion_zona(lista):\n",
    "    zona = None\n",
    "    suma = lista[0] = int(lista[5])\n",
    "\n",
    "    for pos, elem in enumerate(lista):\n",
    "        if pos == len(lista) - 1:\n",
    "            print(pos, elem)\n",
    "    \n",
    "\n",
    "funcion_zona(lista=lista_informacion)\n",
    "            "
   ]
  },
  {
   "cell_type": "markdown",
   "metadata": {},
   "source": [
    "3. Dentro de funciones con el nombre que queráis:\n",
    "    - Utilizar la función enumerate del bucle for utilizando la lista de alturas y la lista de alumnos creada en días anteriores (las listas han de estar ordenadas) para: \n",
    "        - Mostrar la altura acompañado del nombre del alumno al que pertenece. "
   ]
  },
  {
   "cell_type": "code",
   "execution_count": 182,
   "metadata": {
    "tags": []
   },
   "outputs": [
    {
     "output_type": "stream",
     "name": "stdout",
     "text": "[['Jalex', 6, 47, 1.8], ['Tomas', 5, 31, 1.8], ['David', 6, 39, 1.81], ['Natalio', 2, 29, 1.73], ['Monica', 3, 47, 1.73], ['Roxanna', 4, 24, 1.75], ['Filipa', 5, 34, 1.64], ['Elsa', 4, 36, 1.89], ['Cristina', 3, 46, 1.7], ['Clara', 6, 29, 1.67], ['Alba', 3, 29, 1.68], ['Valeria', 1, 40, 1.6], ['Jose Luis', 4, 47, 1.69], ['Gabriel', 1, 28, 1.76], ['Rochi', 2, 38, 1.6], ['Jose Maria', 5, 51, 1.75]]\n"
    }
   ],
   "source": [
    "lista_alumnos = [[\"Jalex\", 6, 47, 1.80], [\"Tomas\", 5, 31, 1.80], [\"David\", 6, 39, 1.81], [\"Natalio\", 2, 29, 1.73], [\"Monica\", 3, 47, 1.73], [\"Roxanna\", 4,24,1.75], [\"Filipa\", 5,34,1.64], [\"Elsa\", 4, 36, 1.89], [\"Cristina\", 3, 46, 1.70], [\"Clara\", 6, 29, 1.67], [\"Alba\", 3, 29, 1.68], [\"Valeria\",1, 40, 1.60], [\"Jose Luis\", 4, 47, 1.69], [\"Gabriel\", 1, 28, 1.76], [\"Rochi\", 2, 38, 1.60], [\"Jose Maria\", 5, 51, 1.75]]\n",
    "\n",
    "r = lista_alumnos\n",
    "print(r)"
   ]
  },
  {
   "cell_type": "code",
   "execution_count": 183,
   "metadata": {
    "tags": []
   },
   "outputs": [
    {
     "output_type": "stream",
     "name": "stdout",
     "text": "[['Jalex', '1.8'], ['Tomas', '1.8'], ['David', '1.81'], ['Natalio', '1.73'], ['Monica', '1.73'], ['Roxanna', '1.75'], ['Filipa', '1.64'], ['Elsa', '1.89'], ['Cristina', '1.7'], ['Clara', '1.67'], ['Alba', '1.68'], ['Valeria', '1.6'], ['Jose Luis', '1.69'], ['Gabriel', '1.76'], ['Rochi', '1.6'], ['Jose Maria', '1.75']]\n"
    }
   ],
   "source": [
    "lista_alumnos = [[\"Jalex\", 6, 47, 1.80], [\"Tomas\", 5, 31, 1.80], [\"David\", 6, 39, 1.81], [\"Natalio\", 2, 29, 1.73], [\"Monica\", 3, 47, 1.73], [\"Roxanna\", 4,24,1.75], [\"Filipa\", 5,34,1.64], [\"Elsa\", 4, 36, 1.89], [\"Cristina\", 3, 46, 1.70], [\"Clara\", 6, 29, 1.67], [\"Alba\", 3, 29, 1.68], [\"Valeria\",1, 40, 1.60], [\"Jose Luis\", 4, 47, 1.69], [\"Gabriel\", 1, 28, 1.76], [\"Rochi\", 2, 38, 1.60], [\"Jose Maria\", 5, 51, 1.75]] \n",
    "\n",
    "def alumnos (lista2):     \n",
    "    \n",
    "    height = []\n",
    "    for x, v in enumerate(lista2):\n",
    "        pares=[]\n",
    "        pares.append(str(lista2[x][0]))\n",
    "        pares.append(str(lista2[x][-1]))\n",
    "        height.append(pares)\n",
    "    return(height)\n",
    "\n",
    "    \n",
    "print(alumnos(lista_alumnos))\n",
    "\n"
   ]
  },
  {
   "cell_type": "code",
   "execution_count": 232,
   "metadata": {},
   "outputs": [
    {
     "output_type": "error",
     "ename": "TypeError",
     "evalue": "list indices must be integers or slices, not list",
     "traceback": [
      "\u001b[0;31m---------------------------------------------------------------------------\u001b[0m",
      "\u001b[0;31mTypeError\u001b[0m                                 Traceback (most recent call last)",
      "\u001b[0;32m<ipython-input-232-69d9eaca1583>\u001b[0m in \u001b[0;36m<module>\u001b[0;34m\u001b[0m\n\u001b[1;32m      1\u001b[0m \u001b[0mnombres_alumnos\u001b[0m \u001b[0;34m=\u001b[0m \u001b[0;34m[\u001b[0m\u001b[0;34m]\u001b[0m\u001b[0;34m\u001b[0m\u001b[0;34m\u001b[0m\u001b[0m\n\u001b[1;32m      2\u001b[0m \u001b[0;32mfor\u001b[0m \u001b[0mx\u001b[0m \u001b[0;32min\u001b[0m \u001b[0mlista_alumnos\u001b[0m\u001b[0;34m:\u001b[0m\u001b[0;34m\u001b[0m\u001b[0;34m\u001b[0m\u001b[0m\n\u001b[0;32m----> 3\u001b[0;31m     \u001b[0mnombres_alumnos\u001b[0m\u001b[0;34m.\u001b[0m\u001b[0mappend\u001b[0m\u001b[0;34m(\u001b[0m\u001b[0mint\u001b[0m\u001b[0;34m(\u001b[0m\u001b[0mlista_alumnos\u001b[0m\u001b[0;34m[\u001b[0m\u001b[0mx\u001b[0m\u001b[0;34m]\u001b[0m\u001b[0;34m[\u001b[0m\u001b[0;36m0\u001b[0m\u001b[0;34m]\u001b[0m\u001b[0;34m)\u001b[0m\u001b[0;34m)\u001b[0m\u001b[0;34m\u001b[0m\u001b[0;34m\u001b[0m\u001b[0m\n\u001b[0m\u001b[1;32m      4\u001b[0m \u001b[0;32mreturn\u001b[0m \u001b[0mnombres_alumnos\u001b[0m\u001b[0;34m\u001b[0m\u001b[0;34m\u001b[0m\u001b[0m\n\u001b[1;32m      5\u001b[0m \u001b[0;34m\u001b[0m\u001b[0m\n",
      "\u001b[0;31mTypeError\u001b[0m: list indices must be integers or slices, not list"
     ]
    }
   ],
   "source": [
    "nombres_alumnos = []\n",
    "for x in lista_alumnos:\n",
    "    nombres_alumnos.append(int(lista_alumnos[x][0]))\n",
    "return nombres_alumnos\n",
    "\n",
    "print(nombres_alumnos)\n",
    "\n"
   ]
  },
  {
   "cell_type": "code",
   "execution_count": 228,
   "metadata": {
    "tags": []
   },
   "outputs": [
    {
     "output_type": "stream",
     "name": "stdout",
     "text": "['Jalex', 'Tomas', 'David', 'Natalio', 'Monica', 'Roxanna', 'Filipa', 'Elsa', 'Cristina', 'Clara', 'Alba', 'Valeria', 'Jose Luis', 'Gabriel', 'Rochi', 'Jose Maria']\n"
    },
    {
     "output_type": "execute_result",
     "data": {
      "text/plain": "[47, 31, 39, 29, 47, 24, 34, 36, 46, 29, 29, 40, 47, 28, 38, 51]"
     },
     "metadata": {},
     "execution_count": 228
    }
   ],
   "source": [
    "nombres_alumnos = [x[0] for x in lista_alumnos]\n",
    "nombres_alumnos\n",
    "print(nombres_alumnos)\n",
    "alturas = [x[2] for x in lista_alumnos]\n",
    "alturas\n"
   ]
  },
  {
   "cell_type": "code",
   "execution_count": 234,
   "metadata": {},
   "outputs": [],
   "source": [
    "def nombre_mas_lindo(l_nombres, l_alturas):\n",
    "    for pos, elem in enumerate(l_nombres):\n",
    "        g = [elem, l_alturas[pos]]\n",
    "        print(g)\n",
    "\n",
    "nombre_mas_lindo(l_nombres=nombres_alumnos, l_alturas=alturas)\n"
   ]
  },
  {
   "cell_type": "code",
   "execution_count": 184,
   "metadata": {},
   "outputs": [],
   "source": [
    "# 4. Hacer un programa que pregunte si le gusta la montaña al usuario y, si es que no, llame a la función funcion_zona.\n"
   ]
  },
  {
   "cell_type": "code",
   "execution_count": 241,
   "metadata": {
    "tags": []
   },
   "outputs": [
    {
     "output_type": "stream",
     "name": "stdout",
     "text": "False\n"
    }
   ],
   "source": [
    "def f_18():\n",
    "    x = input(\"Te gusta la montana? [yes/no]\")\n",
    "\n",
    "    if x == \"yes\":\n",
    "        pass\n",
    "    elif x == \"no\":\n",
    "        print(funcion_zona(lista=lista_informacion))\n",
    "\n",
    "f_18()\n"
   ]
  },
  {
   "cell_type": "code",
   "execution_count": 245,
   "metadata": {
    "tags": []
   },
   "outputs": [
    {
     "output_type": "execute_result",
     "data": {
      "text/plain": "False"
     },
     "metadata": {},
     "execution_count": 245
    }
   ],
   "source": [
    "def gusto(lista):\n",
    "\n",
    "    gusto_personal = input(\"Le gusta la montania? \")\n",
    "    if gusto_personal == \"No\":\n",
    "       return funcion_zona(lista)\n",
    "    else:\n",
    "        print(\"ok\")\n",
    "\n",
    "gusto(lista=lista_informacion)\n"
   ]
  },
  {
   "cell_type": "code",
   "execution_count": 186,
   "metadata": {
    "tags": []
   },
   "outputs": [
    {
     "output_type": "stream",
     "name": "stdout",
     "text": "Hola rochilandia!\nrochilandia\nrochilandia\nrochilandia\n\n"
    }
   ],
   "source": [
    "\n",
    "Name = input(\"introduce tu nombre de usuario: \")\n",
    "print(\"Hola \" + Name + \"!\")\n",
    "n = input(\"Ingresa un numero: \")\n",
    "print((Name + \"\\n\") * int(n))"
   ]
  },
  {
   "cell_type": "code",
   "execution_count": 187,
   "metadata": {},
   "outputs": [],
   "source": [
    "#Hacer una función que guarde en una variable el valor de 'nada' y lo devuelva por pantalla. Concatenar su valor con el número de the bridge y mostrarlo por pantalla. "
   ]
  },
  {
   "cell_type": "code",
   "execution_count": 196,
   "metadata": {
    "tags": []
   },
   "outputs": [
    {
     "output_type": "stream",
     "name": "stdout",
     "text": "nada 7\n"
    }
   ],
   "source": [
    "def f_s(nada):\n",
    "    nada = None\n",
    "\n",
    "    suma = (\"nada\" + \" \" + str(lista[0]))\n",
    "    print(suma)\n",
    "\n",
    "f_s(nada = None)"
   ]
  },
  {
   "cell_type": "markdown",
   "metadata": {},
   "source": [
    "Ahora, mostrar por pantalla un booleano True si el tamaño de la palabra concatenada es 6. Sino, será False. La función debe retornar el valor True o False. El nombre de la función será 'f_s'."
   ]
  },
  {
   "cell_type": "code",
   "execution_count": 205,
   "metadata": {},
   "outputs": [],
   "source": [
    "suma = (\"nada\" + \" \" + str(lista[0]))"
   ]
  },
  {
   "cell_type": "code",
   "execution_count": 212,
   "metadata": {
    "tags": []
   },
   "outputs": [
    {
     "output_type": "stream",
     "name": "stdout",
     "text": "True\n"
    }
   ],
   "source": [
    "def f_s():\n",
    "    largo = len(str(suma))\n",
    "    if largo == 6:\n",
    "        print(True)\n",
    "    elif largo != 6:\n",
    "        print(False)\n",
    "        return largo\n",
    "\n",
    "f_s()\n"
   ]
  },
  {
   "cell_type": "code",
   "execution_count": 190,
   "metadata": {},
   "outputs": [],
   "source": [
    "# Crear una lista 'lista_aux' con 7 elementos (los que queráis). Crear una función 'funcion_usa_f_s' que reciba por parámetros dos argumento 'f_s' y 'lista'. Si el valor de 'f_s' es True, entonces borrar el un elemento de 'lista'. Si 'lista' tiene algún elemento, entonces repetir el proceso hasta que no tenga elementos. La entrada 'lista' ha de ser 'lista_aux' y 'f_s' será la función 'f_s' del punto anterior.\n"
   ]
  },
  {
   "cell_type": "code",
   "execution_count": 191,
   "metadata": {},
   "outputs": [
    {
     "output_type": "execute_result",
     "data": {
      "text/plain": "['perro', 'gato', 'caballo', 'lemur', 'mono', 'vaca', 'leon']"
     },
     "metadata": {},
     "execution_count": 191
    }
   ],
   "source": [
    "lista_aux = [\"perro\", \"gato\", \"caballo\", \"lemur\", \"mono\", \"vaca\", \"leon\"]\n",
    "lista_aux"
   ]
  },
  {
   "cell_type": "code",
   "execution_count": 220,
   "metadata": {},
   "outputs": [
    {
     "output_type": "error",
     "ename": "NameError",
     "evalue": "name 'largo' is not defined",
     "traceback": [
      "\u001b[0;31m---------------------------------------------------------------------------\u001b[0m",
      "\u001b[0;31mNameError\u001b[0m                                 Traceback (most recent call last)",
      "\u001b[0;32m<ipython-input-220-240f62136a10>\u001b[0m in \u001b[0;36m<module>\u001b[0;34m\u001b[0m\n\u001b[1;32m      6\u001b[0m         \u001b[0;32mdel\u001b[0m \u001b[0mlista\u001b[0m\u001b[0;34m[\u001b[0m\u001b[0;34m-\u001b[0m\u001b[0;36m1\u001b[0m\u001b[0;34m]\u001b[0m\u001b[0;34m\u001b[0m\u001b[0;34m\u001b[0m\u001b[0m\n\u001b[1;32m      7\u001b[0m \u001b[0;34m\u001b[0m\u001b[0m\n\u001b[0;32m----> 8\u001b[0;31m \u001b[0mx\u001b[0m \u001b[0;34m=\u001b[0m \u001b[0mf_usa_f_s\u001b[0m\u001b[0;34m(\u001b[0m\u001b[0mf_s\u001b[0m\u001b[0;34m,\u001b[0m \u001b[0mlista\u001b[0m\u001b[0;34m)\u001b[0m\u001b[0;34m\u001b[0m\u001b[0;34m\u001b[0m\u001b[0m\n\u001b[0m\u001b[1;32m      9\u001b[0m \u001b[0mprint\u001b[0m\u001b[0;34m(\u001b[0m\u001b[0mx\u001b[0m\u001b[0;34m)\u001b[0m\u001b[0;34m\u001b[0m\u001b[0;34m\u001b[0m\u001b[0m\n",
      "\u001b[0;32m<ipython-input-220-240f62136a10>\u001b[0m in \u001b[0;36mf_usa_f_s\u001b[0;34m(f_s, lista)\u001b[0m\n\u001b[1;32m      1\u001b[0m \u001b[0;32mdef\u001b[0m \u001b[0mf_usa_f_s\u001b[0m\u001b[0;34m(\u001b[0m\u001b[0mf_s\u001b[0m\u001b[0;34m,\u001b[0m \u001b[0mlista\u001b[0m\u001b[0;34m)\u001b[0m\u001b[0;34m:\u001b[0m\u001b[0;34m\u001b[0m\u001b[0;34m\u001b[0m\u001b[0m\n\u001b[0;32m----> 2\u001b[0;31m     \u001b[0mf_s\u001b[0m\u001b[0;34m(\u001b[0m\u001b[0mbool\u001b[0m\u001b[0;34m=\u001b[0m\u001b[0mlargo\u001b[0m\u001b[0;34m)\u001b[0m\u001b[0;34m\u001b[0m\u001b[0;34m\u001b[0m\u001b[0m\n\u001b[0m\u001b[1;32m      3\u001b[0m     \u001b[0mlista\u001b[0m \u001b[0;34m=\u001b[0m \u001b[0mlista_aux\u001b[0m\u001b[0;34m\u001b[0m\u001b[0;34m\u001b[0m\u001b[0m\n\u001b[1;32m      4\u001b[0m \u001b[0;34m\u001b[0m\u001b[0m\n\u001b[1;32m      5\u001b[0m     \u001b[0;32mif\u001b[0m \u001b[0mf_s\u001b[0m \u001b[0;34m==\u001b[0m \u001b[0;32mTrue\u001b[0m\u001b[0;34m:\u001b[0m\u001b[0;34m\u001b[0m\u001b[0;34m\u001b[0m\u001b[0m\n",
      "\u001b[0;31mNameError\u001b[0m: name 'largo' is not defined"
     ]
    }
   ],
   "source": [
    "def f_usa_f_s(f_s, lista):\n",
    "    f_s(bool=largo)\n",
    "    lista = lista_aux\n",
    "    \n",
    "    if f_s == True:\n",
    "        del lista[-1]\n",
    "\n",
    "x = f_usa_f_s(f_s, lista)\n",
    "print(x)\n"
   ]
  },
  {
   "cell_type": "code",
   "execution_count": 193,
   "metadata": {},
   "outputs": [],
   "source": [
    "#Dentro de una función llamada 'funcion_comprobacion' que recibe solo un parámetro llamado 'valor_zona' que será el valor que devuelve la función 'funcion_zona' cuando sea invocado, mostrar el valor de 'valor_zona' si es True.\n"
   ]
  },
  {
   "cell_type": "code",
   "execution_count": 194,
   "metadata": {},
   "outputs": [
    {
     "output_type": "execute_result",
     "data": {
      "text/plain": "'si'"
     },
     "metadata": {},
     "execution_count": 194
    }
   ],
   "source": [
    "def funcion_comprobacion(valor_zona):   \n",
    "    return valor_zona \n",
    "    \n",
    "w = input (\"Esta zona es cara\")\n",
    "if w == True:\n",
    "    print(w)\n",
    "\n",
    "funcion_comprobacion(valor_zona = w)\n"
   ]
  },
  {
   "cell_type": "code",
   "execution_count": 225,
   "metadata": {
    "tags": []
   },
   "outputs": [
    {
     "output_type": "stream",
     "name": "stdout",
     "text": "False\n"
    }
   ],
   "source": [
    "def funcion_comprobacion(valor_zona):\n",
    "    if valor_zona == True:\n",
    "        return valor_zona\n",
    "\n",
    "z = funcion_zona(lista=lista_informacion)\n",
    "funcion_comprobacion(valor_zona=z)\n",
    "print(z)\n"
   ]
  },
  {
   "cell_type": "markdown",
   "metadata": {},
   "source": [
    "### Apartado 3\n",
    "\n",
    "Para este apartado se utilizará la lista 'lista_información. A esa lista, ha de añadirse UTILIZANDO el método 'append':\n",
    "\n",
    "- Un booleano que sea True si utilizas gafas. False para lo contrario. \n",
    "- Un entero que represente tu edad. \n",
    "- Un float que represente el dinero que te has gastado en tu última compra.\n",
    "- Un string que represente el nombre de uno de tus tí@s. Si no tienes, el nombre de uno de tus herman@s. Si no tienes, alguno de tus abuel@s. Si no tienes, el nombre de tu mejor amigo. Y, si no tienes, el nombre de tu psicólog@.\n",
    "- Una lista que tenga como tamaño 5. Cada una de las posiciones debe representar los números que más te gusten en el rango [[0-100]] dividido entre 10. Es decir, si eliges el 11, el número sería el 1.1. Si eliges el 100, sería el 10.  \n",
    "\n",
    "Por último, han de eliminarse las variables 'none' y 'lista_direccion' de dos formas:\n",
    "\n",
    "- 'nada' con el método 'remove' de una lista. \n",
    "- 'lista_direccion' con el método 'pop' con el que se puede eliminar el elemento de una lista a través de una posición. Para más información, hemos puesto un ejemplo más abajo.\n",
    "\n",
    "\n"
   ]
  },
  {
   "cell_type": "code",
   "execution_count": 195,
   "metadata": {},
   "outputs": [
    {
     "output_type": "execute_result",
     "data": {
      "text/plain": "[7, True, 'Recoletos', None, [15, 'Recoletos'], '7']"
     },
     "metadata": {},
     "execution_count": 195
    }
   ],
   "source": [
    "lista_informacion\n"
   ]
  },
  {
   "cell_type": "markdown",
   "metadata": {},
   "source": [
    "### Apartado 4. Creación de funciones con return preparatorio. \n",
    "\n",
    "A partir de ahora solo se utilizará la 'lista_informacion' actualizada. La 'lista_informacion' debe contener 9 posiciones. Si no contiene 9, pregunta a los profesores.\n",
    "\n",
    "Crear una nueva celda por cada apartado: \n",
    "\n",
    "- Función 'nb' que reciba por parámetro 'lista' y que retorne el número de The Bridge.\n",
    "- Función 'nc' que reciba por parámetro 'lista' y que retorne el nombre de la calle de The Bridge.\n",
    "- Función 'gp' que reciba por parámetro 'lista' y que retorne tu gusto personal.\n",
    "- Función 'hs' que reciba por parámetro 'lista' y que retorne las horas de sueño.\n",
    "- Función 'ul' que reciba por parámetro 'lista' y que retorne la última posicón de 'lista'.\n",
    "\n",
    "A partir de este momento, si se requiere utilizar uno de estos valores, se accederá a ellos a partir de las funciones anteriormente creadas, no directamente desde la lista."
   ]
  },
  {
   "cell_type": "markdown",
   "metadata": {},
   "source": [
    "### Apartado 5. Break en bucles for.\n",
    "\n",
    "Crear una nueva celda por cada apartado: \n",
    "\n",
    "- Función 'string_mayor_5' que reciba por parámetro 'lista' ('lista_informacion'). Se debe recorrer 'lista' transformando cada elemento en string y, si el tamaño del string es mayor a 5, el bucle debe parar. La función ha de devolver el primer elemento con string mayor a 5.\n",
    "\n",
    "- Función 'lista_consecutivos' que recibe por parámetro 'limite'. Debe retornar una lista con números que empiece en el 0 y acabe en el número 'límite'. 'limite' será 18 cuando la función sea invocada. \n",
    "\n",
    "- Función 'posicion_15' que reciba un parámetro 'funcion_lista_consecutivos' y 'lista' y deberá devolver el elemento de la lista que devuelve la función 'lista_consecutivos' que represente la posicion 15. Es dentro de la función 'posicion_15' donde hay que llamar a 'funcion_lista_consecutivos' con el parámetro 'lista' como parámetro de entrada de 'lista_consecutivos'. El argumento 'límite' será 18 cuando 'lista_consecutivos' sea invocada.\n",
    "\n",
    "Ejemplo: \n",
    "x = posicion_15(funcion_lista_consecutivos=lista_consecutivos, lista=lista_informacion)"
   ]
  },
  {
   "cell_type": "markdown",
   "metadata": {},
   "source": [
    "### Apartado 6. Bucle while.\n",
    "\n",
    "Crear una nueva celda por cada apartado: \n",
    "\n",
    "- Crear una función reciba por parámetro 'lista' que muestre todos los elementos que tiene usando un bucle while. Llamar a la función con 'lista_informacion'.\n",
    "- Realizar todos los apartados del apartado 2.2 cuyo enunciado aparece la palabra 'recorrer' excepto el que se utiliza la 'lista_direccion' borrada en el apartado 3. \n",
    "- Realizar el apartado 5 con bucle while en vez de bucle for. \n",
    "- Realizar una función que realice la función de fibonacci con un while.\n",
    "\n",
    "\n",
    "\n"
   ]
  },
  {
   "cell_type": "markdown",
   "metadata": {},
   "source": [
    "### Apartado 7. Importación de módulos.\n",
    "\n",
    "Un módulo representa un fichero de extensión '.py' que contiene código python. Importando un módulo, podemos acceder a todas las variable, funciones y clases no privadas que contiene. \n",
    "\n",
    "En la propia carpeta del día de hoy, hay un fichero llamado 'nombre_modulo.py'. Vamos a importarlo y usar alguna de sus variables y funciones. "
   ]
  },
  {
   "cell_type": "markdown",
   "metadata": {},
   "source": [
    "Al igual que con los demás objetos, una vez que se ha importado el módulo no hace falta importarlo más veces. "
   ]
  },
  {
   "cell_type": "markdown",
   "metadata": {},
   "source": [
    "# Apartado 8: Ejercicios\n",
    "\n",
    "- Programa una calculadora que pregunte por pantalla dos números y dos operadores. Se debe realizar primero una operación y luego otra. Trata de definir el mayor número de funciones posibles. \n",
    "- Programa, definiendo funciones, el juego 'piedra, papel o tijera'. \n",
    "- Haz un programa que, a partir de las cadenas \"|\" y \"_\", muestre por pantalla un tablero de ajedrez 8x8. \n",
    "- Haz un programa utilizando 'while' que genere una baraja de cartas de 4 palos distintos. La baraja ha de tener 40 cartas. "
   ]
  },
  {
   "cell_type": "markdown",
   "metadata": {},
   "source": [
    "# REPASO EXPRESS"
   ]
  },
  {
   "cell_type": "code",
   "execution_count": null,
   "metadata": {},
   "outputs": [],
   "source": []
  }
 ],
 "metadata": {
  "language_info": {
   "name": "python",
   "codemirror_mode": {
    "name": "ipython",
    "version": 3
   },
   "version": "3.7.6-final"
  },
  "orig_nbformat": 2,
  "file_extension": ".py",
  "mimetype": "text/x-python",
  "name": "python",
  "npconvert_exporter": "python",
  "pygments_lexer": "ipython3",
  "version": 3,
  "kernelspec": {
   "name": "python3",
   "display_name": "Python 3"
  }
 },
 "nbformat": 4,
 "nbformat_minor": 2
}